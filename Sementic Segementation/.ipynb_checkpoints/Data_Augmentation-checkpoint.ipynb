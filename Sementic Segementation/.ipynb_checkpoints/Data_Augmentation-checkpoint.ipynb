{
 "cells": [
  {
   "cell_type": "code",
   "execution_count": 1,
   "id": "e76e9972",
   "metadata": {},
   "outputs": [],
   "source": [
    "import os\n",
    "import numpy as np\n",
    "import cv2\n",
    "from glob import glob    # extract path for all images\n",
    "from tqdm import tqdm    # for progress bar\n",
    "import imageio           # for gif mask\n",
    "from albumentations import HorizontalFlip, VerticalFlip, ElasticTransform, GridDistortion, OpticalDistortion, CoarseDropout"
   ]
  },
  {
   "cell_type": "code",
   "execution_count": 2,
   "id": "b41aaf2e",
   "metadata": {},
   "outputs": [],
   "source": [
    "def create_dir(path):\n",
    "    if not os.path.exists(path):\n",
    "        os.makedirs(path)\n",
    "        \n",
    "def load_data(path):\n",
    "    train_x = sorted(glob(os.path.join(path, \"training\", \"image_2\", \"*.png\")))\n",
    "    train_y = sorted(glob(os.path.join(path, \"training\", \"semantic\", \"*.png\")))\n",
    "    return (train_x,train_y)\n",
    "\n",
    "def augment_data(images, masks, save_path, augment=True):\n",
    "    H = 512\n",
    "    W = 512\n",
    "    \n",
    "    for idx , (x,y) in tqdm(enumerate(zip(images,masks)), total = len(images)):\n",
    "        # Extracting names last (/) just before (.)\n",
    "        name = x.split(\"\\\\\")[-1].split(\".\")[0]\n",
    "#         print(name)\n",
    "        \n",
    "        x = cv2.imread(x, cv2.IMREAD_COLOR)\n",
    "        y = cv2.imread(y, cv2.IMREAD_GRAYSCALE)\n",
    "        \n",
    "        if augment == True:\n",
    "            \n",
    "            aug = HorizontalFlip(p=1.0)      # p = fraction on which this should be applied\n",
    "            augmented = aug(image=x, mask=y)\n",
    "            x1 = augmented[\"image\"]\n",
    "            y1 = augmented[\"mask\"]\n",
    "            \n",
    "            aug = VerticalFlip(p=1.0)\n",
    "            augmented = aug(image=x, mask=y)\n",
    "            x2 = augmented[\"image\"]\n",
    "            y2 = augmented[\"mask\"]\n",
    "            \n",
    "            aug = ElasticTransform(p=1, alpha=120, sigma=120 * 0.05, alpha_affine=120 * 0.03)\n",
    "            augmented = aug(image=x, mask=y)\n",
    "            x3 = augmented['image']\n",
    "            y3 = augmented['mask']\n",
    "            \n",
    "            aug = GridDistortion(p=1)\n",
    "            augmented = aug(image=x, mask=y)\n",
    "            x4 = augmented['image']\n",
    "            y4 = augmented['mask']\n",
    "            \n",
    "            aug = OpticalDistortion(p=1, distort_limit=2, shift_limit=0.5)\n",
    "            augmented = aug(image=x, mask=y)\n",
    "            x5 = augmented['image']\n",
    "            y5 = augmented['mask']\n",
    "            \n",
    "            X = [x, x1, x2, x3, x4, x5]\n",
    "            Y = [y, y1, y2, y3, y4, y5]\n",
    "            \n",
    "        else :\n",
    "            X = [x]\n",
    "            Y = [y]\n",
    "        \n",
    "        index =0\n",
    "        for i, m in zip(X, Y):\n",
    "            i = cv2.resize(i, (W, H))\n",
    "            m = cv2.resize(m, (W, H))\n",
    "            \n",
    "            if len(X) == 1:\n",
    "                tmp_image_name = f\"{name}.png\"\n",
    "                tmp_mask_name = f\"{name}.png\"\n",
    "                \n",
    "            else:\n",
    "                tmp_image_name = f\"{name}_{index}.png\"\n",
    "                tmp_mask_name = f\"{name}_{index}.png\"\n",
    "#             print(tmp_image_name)\n",
    "#             print(tmp_mask_name)\n",
    "                \n",
    "            image_path = os.path.join(save_path,\"image\",tmp_image_name)\n",
    "            mask_path = os.path.join(save_path,\"mask\",tmp_mask_name)\n",
    "\n",
    "            display(image_path)\n",
    "            display(mask_path)\n",
    "            cv2.imwrite(image_path,i)\n",
    "            cv2.imwrite(mask_path,m)\n",
    "            \n",
    "            \n",
    "            \n",
    "            index += 1\n",
    "        "
   ]
  },
  {
   "cell_type": "code",
   "execution_count": 3,
   "id": "f27bc0ee",
   "metadata": {},
   "outputs": [
    {
     "name": "stderr",
     "output_type": "stream",
     "text": [
      "\r",
      "  0%|                                                                                          | 0/200 [00:00<?, ?it/s]"
     ]
    },
    {
     "data": {
      "text/plain": [
       "'C:\\\\Users\\\\ashis\\\\OneDrive\\\\Documents\\\\summer project\\\\summer project - 3d\\\\week2\\\\new_data\\\\image\\\\000000_10_0.png'"
      ]
     },
     "metadata": {},
     "output_type": "display_data"
    },
    {
     "data": {
      "text/plain": [
       "'C:\\\\Users\\\\ashis\\\\OneDrive\\\\Documents\\\\summer project\\\\summer project - 3d\\\\week2\\\\new_data\\\\mask\\\\000000_10_0.png'"
      ]
     },
     "metadata": {},
     "output_type": "display_data"
    },
    {
     "data": {
      "text/plain": [
       "'C:\\\\Users\\\\ashis\\\\OneDrive\\\\Documents\\\\summer project\\\\summer project - 3d\\\\week2\\\\new_data\\\\image\\\\000000_10_1.png'"
      ]
     },
     "metadata": {},
     "output_type": "display_data"
    },
    {
     "data": {
      "text/plain": [
       "'C:\\\\Users\\\\ashis\\\\OneDrive\\\\Documents\\\\summer project\\\\summer project - 3d\\\\week2\\\\new_data\\\\mask\\\\000000_10_1.png'"
      ]
     },
     "metadata": {},
     "output_type": "display_data"
    },
    {
     "data": {
      "text/plain": [
       "'C:\\\\Users\\\\ashis\\\\OneDrive\\\\Documents\\\\summer project\\\\summer project - 3d\\\\week2\\\\new_data\\\\image\\\\000000_10_2.png'"
      ]
     },
     "metadata": {},
     "output_type": "display_data"
    },
    {
     "data": {
      "text/plain": [
       "'C:\\\\Users\\\\ashis\\\\OneDrive\\\\Documents\\\\summer project\\\\summer project - 3d\\\\week2\\\\new_data\\\\mask\\\\000000_10_2.png'"
      ]
     },
     "metadata": {},
     "output_type": "display_data"
    },
    {
     "data": {
      "text/plain": [
       "'C:\\\\Users\\\\ashis\\\\OneDrive\\\\Documents\\\\summer project\\\\summer project - 3d\\\\week2\\\\new_data\\\\image\\\\000000_10_3.png'"
      ]
     },
     "metadata": {},
     "output_type": "display_data"
    },
    {
     "data": {
      "text/plain": [
       "'C:\\\\Users\\\\ashis\\\\OneDrive\\\\Documents\\\\summer project\\\\summer project - 3d\\\\week2\\\\new_data\\\\mask\\\\000000_10_3.png'"
      ]
     },
     "metadata": {},
     "output_type": "display_data"
    },
    {
     "data": {
      "text/plain": [
       "'C:\\\\Users\\\\ashis\\\\OneDrive\\\\Documents\\\\summer project\\\\summer project - 3d\\\\week2\\\\new_data\\\\image\\\\000000_10_4.png'"
      ]
     },
     "metadata": {},
     "output_type": "display_data"
    },
    {
     "data": {
      "text/plain": [
       "'C:\\\\Users\\\\ashis\\\\OneDrive\\\\Documents\\\\summer project\\\\summer project - 3d\\\\week2\\\\new_data\\\\mask\\\\000000_10_4.png'"
      ]
     },
     "metadata": {},
     "output_type": "display_data"
    },
    {
     "data": {
      "text/plain": [
       "'C:\\\\Users\\\\ashis\\\\OneDrive\\\\Documents\\\\summer project\\\\summer project - 3d\\\\week2\\\\new_data\\\\image\\\\000000_10_5.png'"
      ]
     },
     "metadata": {},
     "output_type": "display_data"
    },
    {
     "data": {
      "text/plain": [
       "'C:\\\\Users\\\\ashis\\\\OneDrive\\\\Documents\\\\summer project\\\\summer project - 3d\\\\week2\\\\new_data\\\\mask\\\\000000_10_5.png'"
      ]
     },
     "metadata": {},
     "output_type": "display_data"
    },
    {
     "name": "stderr",
     "output_type": "stream",
     "text": [
      "\r",
      "  0%|▍                                                                                 | 1/200 [00:00<01:21,  2.45it/s]"
     ]
    },
    {
     "data": {
      "text/plain": [
       "'C:\\\\Users\\\\ashis\\\\OneDrive\\\\Documents\\\\summer project\\\\summer project - 3d\\\\week2\\\\new_data\\\\image\\\\000001_10_0.png'"
      ]
     },
     "metadata": {},
     "output_type": "display_data"
    },
    {
     "data": {
      "text/plain": [
       "'C:\\\\Users\\\\ashis\\\\OneDrive\\\\Documents\\\\summer project\\\\summer project - 3d\\\\week2\\\\new_data\\\\mask\\\\000001_10_0.png'"
      ]
     },
     "metadata": {},
     "output_type": "display_data"
    },
    {
     "data": {
      "text/plain": [
       "'C:\\\\Users\\\\ashis\\\\OneDrive\\\\Documents\\\\summer project\\\\summer project - 3d\\\\week2\\\\new_data\\\\image\\\\000001_10_1.png'"
      ]
     },
     "metadata": {},
     "output_type": "display_data"
    },
    {
     "data": {
      "text/plain": [
       "'C:\\\\Users\\\\ashis\\\\OneDrive\\\\Documents\\\\summer project\\\\summer project - 3d\\\\week2\\\\new_data\\\\mask\\\\000001_10_1.png'"
      ]
     },
     "metadata": {},
     "output_type": "display_data"
    },
    {
     "data": {
      "text/plain": [
       "'C:\\\\Users\\\\ashis\\\\OneDrive\\\\Documents\\\\summer project\\\\summer project - 3d\\\\week2\\\\new_data\\\\image\\\\000001_10_2.png'"
      ]
     },
     "metadata": {},
     "output_type": "display_data"
    },
    {
     "data": {
      "text/plain": [
       "'C:\\\\Users\\\\ashis\\\\OneDrive\\\\Documents\\\\summer project\\\\summer project - 3d\\\\week2\\\\new_data\\\\mask\\\\000001_10_2.png'"
      ]
     },
     "metadata": {},
     "output_type": "display_data"
    },
    {
     "data": {
      "text/plain": [
       "'C:\\\\Users\\\\ashis\\\\OneDrive\\\\Documents\\\\summer project\\\\summer project - 3d\\\\week2\\\\new_data\\\\image\\\\000001_10_3.png'"
      ]
     },
     "metadata": {},
     "output_type": "display_data"
    },
    {
     "data": {
      "text/plain": [
       "'C:\\\\Users\\\\ashis\\\\OneDrive\\\\Documents\\\\summer project\\\\summer project - 3d\\\\week2\\\\new_data\\\\mask\\\\000001_10_3.png'"
      ]
     },
     "metadata": {},
     "output_type": "display_data"
    },
    {
     "data": {
      "text/plain": [
       "'C:\\\\Users\\\\ashis\\\\OneDrive\\\\Documents\\\\summer project\\\\summer project - 3d\\\\week2\\\\new_data\\\\image\\\\000001_10_4.png'"
      ]
     },
     "metadata": {},
     "output_type": "display_data"
    },
    {
     "data": {
      "text/plain": [
       "'C:\\\\Users\\\\ashis\\\\OneDrive\\\\Documents\\\\summer project\\\\summer project - 3d\\\\week2\\\\new_data\\\\mask\\\\000001_10_4.png'"
      ]
     },
     "metadata": {},
     "output_type": "display_data"
    },
    {
     "data": {
      "text/plain": [
       "'C:\\\\Users\\\\ashis\\\\OneDrive\\\\Documents\\\\summer project\\\\summer project - 3d\\\\week2\\\\new_data\\\\image\\\\000001_10_5.png'"
      ]
     },
     "metadata": {},
     "output_type": "display_data"
    },
    {
     "data": {
      "text/plain": [
       "'C:\\\\Users\\\\ashis\\\\OneDrive\\\\Documents\\\\summer project\\\\summer project - 3d\\\\week2\\\\new_data\\\\mask\\\\000001_10_5.png'"
      ]
     },
     "metadata": {},
     "output_type": "display_data"
    },
    {
     "name": "stderr",
     "output_type": "stream",
     "text": [
      "\r",
      "  1%|▊                                                                                 | 2/200 [00:00<01:17,  2.55it/s]"
     ]
    },
    {
     "data": {
      "text/plain": [
       "'C:\\\\Users\\\\ashis\\\\OneDrive\\\\Documents\\\\summer project\\\\summer project - 3d\\\\week2\\\\new_data\\\\image\\\\000002_10_0.png'"
      ]
     },
     "metadata": {},
     "output_type": "display_data"
    },
    {
     "data": {
      "text/plain": [
       "'C:\\\\Users\\\\ashis\\\\OneDrive\\\\Documents\\\\summer project\\\\summer project - 3d\\\\week2\\\\new_data\\\\mask\\\\000002_10_0.png'"
      ]
     },
     "metadata": {},
     "output_type": "display_data"
    },
    {
     "data": {
      "text/plain": [
       "'C:\\\\Users\\\\ashis\\\\OneDrive\\\\Documents\\\\summer project\\\\summer project - 3d\\\\week2\\\\new_data\\\\image\\\\000002_10_1.png'"
      ]
     },
     "metadata": {},
     "output_type": "display_data"
    },
    {
     "data": {
      "text/plain": [
       "'C:\\\\Users\\\\ashis\\\\OneDrive\\\\Documents\\\\summer project\\\\summer project - 3d\\\\week2\\\\new_data\\\\mask\\\\000002_10_1.png'"
      ]
     },
     "metadata": {},
     "output_type": "display_data"
    },
    {
     "data": {
      "text/plain": [
       "'C:\\\\Users\\\\ashis\\\\OneDrive\\\\Documents\\\\summer project\\\\summer project - 3d\\\\week2\\\\new_data\\\\image\\\\000002_10_2.png'"
      ]
     },
     "metadata": {},
     "output_type": "display_data"
    },
    {
     "data": {
      "text/plain": [
       "'C:\\\\Users\\\\ashis\\\\OneDrive\\\\Documents\\\\summer project\\\\summer project - 3d\\\\week2\\\\new_data\\\\mask\\\\000002_10_2.png'"
      ]
     },
     "metadata": {},
     "output_type": "display_data"
    },
    {
     "data": {
      "text/plain": [
       "'C:\\\\Users\\\\ashis\\\\OneDrive\\\\Documents\\\\summer project\\\\summer project - 3d\\\\week2\\\\new_data\\\\image\\\\000002_10_3.png'"
      ]
     },
     "metadata": {},
     "output_type": "display_data"
    },
    {
     "data": {
      "text/plain": [
       "'C:\\\\Users\\\\ashis\\\\OneDrive\\\\Documents\\\\summer project\\\\summer project - 3d\\\\week2\\\\new_data\\\\mask\\\\000002_10_3.png'"
      ]
     },
     "metadata": {},
     "output_type": "display_data"
    },
    {
     "data": {
      "text/plain": [
       "'C:\\\\Users\\\\ashis\\\\OneDrive\\\\Documents\\\\summer project\\\\summer project - 3d\\\\week2\\\\new_data\\\\image\\\\000002_10_4.png'"
      ]
     },
     "metadata": {},
     "output_type": "display_data"
    },
    {
     "data": {
      "text/plain": [
       "'C:\\\\Users\\\\ashis\\\\OneDrive\\\\Documents\\\\summer project\\\\summer project - 3d\\\\week2\\\\new_data\\\\mask\\\\000002_10_4.png'"
      ]
     },
     "metadata": {},
     "output_type": "display_data"
    },
    {
     "data": {
      "text/plain": [
       "'C:\\\\Users\\\\ashis\\\\OneDrive\\\\Documents\\\\summer project\\\\summer project - 3d\\\\week2\\\\new_data\\\\image\\\\000002_10_5.png'"
      ]
     },
     "metadata": {},
     "output_type": "display_data"
    },
    {
     "data": {
      "text/plain": [
       "'C:\\\\Users\\\\ashis\\\\OneDrive\\\\Documents\\\\summer project\\\\summer project - 3d\\\\week2\\\\new_data\\\\mask\\\\000002_10_5.png'"
      ]
     },
     "metadata": {},
     "output_type": "display_data"
    },
    {
     "name": "stderr",
     "output_type": "stream",
     "text": [
      "\r",
      "  2%|█▏                                                                                | 3/200 [00:01<01:17,  2.55it/s]"
     ]
    },
    {
     "data": {
      "text/plain": [
       "'C:\\\\Users\\\\ashis\\\\OneDrive\\\\Documents\\\\summer project\\\\summer project - 3d\\\\week2\\\\new_data\\\\image\\\\000003_10_0.png'"
      ]
     },
     "metadata": {},
     "output_type": "display_data"
    },
    {
     "data": {
      "text/plain": [
       "'C:\\\\Users\\\\ashis\\\\OneDrive\\\\Documents\\\\summer project\\\\summer project - 3d\\\\week2\\\\new_data\\\\mask\\\\000003_10_0.png'"
      ]
     },
     "metadata": {},
     "output_type": "display_data"
    },
    {
     "data": {
      "text/plain": [
       "'C:\\\\Users\\\\ashis\\\\OneDrive\\\\Documents\\\\summer project\\\\summer project - 3d\\\\week2\\\\new_data\\\\image\\\\000003_10_1.png'"
      ]
     },
     "metadata": {},
     "output_type": "display_data"
    },
    {
     "data": {
      "text/plain": [
       "'C:\\\\Users\\\\ashis\\\\OneDrive\\\\Documents\\\\summer project\\\\summer project - 3d\\\\week2\\\\new_data\\\\mask\\\\000003_10_1.png'"
      ]
     },
     "metadata": {},
     "output_type": "display_data"
    },
    {
     "data": {
      "text/plain": [
       "'C:\\\\Users\\\\ashis\\\\OneDrive\\\\Documents\\\\summer project\\\\summer project - 3d\\\\week2\\\\new_data\\\\image\\\\000003_10_2.png'"
      ]
     },
     "metadata": {},
     "output_type": "display_data"
    },
    {
     "data": {
      "text/plain": [
       "'C:\\\\Users\\\\ashis\\\\OneDrive\\\\Documents\\\\summer project\\\\summer project - 3d\\\\week2\\\\new_data\\\\mask\\\\000003_10_2.png'"
      ]
     },
     "metadata": {},
     "output_type": "display_data"
    },
    {
     "data": {
      "text/plain": [
       "'C:\\\\Users\\\\ashis\\\\OneDrive\\\\Documents\\\\summer project\\\\summer project - 3d\\\\week2\\\\new_data\\\\image\\\\000003_10_3.png'"
      ]
     },
     "metadata": {},
     "output_type": "display_data"
    },
    {
     "data": {
      "text/plain": [
       "'C:\\\\Users\\\\ashis\\\\OneDrive\\\\Documents\\\\summer project\\\\summer project - 3d\\\\week2\\\\new_data\\\\mask\\\\000003_10_3.png'"
      ]
     },
     "metadata": {},
     "output_type": "display_data"
    },
    {
     "data": {
      "text/plain": [
       "'C:\\\\Users\\\\ashis\\\\OneDrive\\\\Documents\\\\summer project\\\\summer project - 3d\\\\week2\\\\new_data\\\\image\\\\000003_10_4.png'"
      ]
     },
     "metadata": {},
     "output_type": "display_data"
    },
    {
     "data": {
      "text/plain": [
       "'C:\\\\Users\\\\ashis\\\\OneDrive\\\\Documents\\\\summer project\\\\summer project - 3d\\\\week2\\\\new_data\\\\mask\\\\000003_10_4.png'"
      ]
     },
     "metadata": {},
     "output_type": "display_data"
    },
    {
     "data": {
      "text/plain": [
       "'C:\\\\Users\\\\ashis\\\\OneDrive\\\\Documents\\\\summer project\\\\summer project - 3d\\\\week2\\\\new_data\\\\image\\\\000003_10_5.png'"
      ]
     },
     "metadata": {},
     "output_type": "display_data"
    },
    {
     "data": {
      "text/plain": [
       "'C:\\\\Users\\\\ashis\\\\OneDrive\\\\Documents\\\\summer project\\\\summer project - 3d\\\\week2\\\\new_data\\\\mask\\\\000003_10_5.png'"
      ]
     },
     "metadata": {},
     "output_type": "display_data"
    },
    {
     "name": "stderr",
     "output_type": "stream",
     "text": [
      "\r",
      "  2%|█▋                                                                                | 4/200 [00:01<01:19,  2.45it/s]"
     ]
    },
    {
     "data": {
      "text/plain": [
       "'C:\\\\Users\\\\ashis\\\\OneDrive\\\\Documents\\\\summer project\\\\summer project - 3d\\\\week2\\\\new_data\\\\image\\\\000004_10_0.png'"
      ]
     },
     "metadata": {},
     "output_type": "display_data"
    },
    {
     "data": {
      "text/plain": [
       "'C:\\\\Users\\\\ashis\\\\OneDrive\\\\Documents\\\\summer project\\\\summer project - 3d\\\\week2\\\\new_data\\\\mask\\\\000004_10_0.png'"
      ]
     },
     "metadata": {},
     "output_type": "display_data"
    },
    {
     "data": {
      "text/plain": [
       "'C:\\\\Users\\\\ashis\\\\OneDrive\\\\Documents\\\\summer project\\\\summer project - 3d\\\\week2\\\\new_data\\\\image\\\\000004_10_1.png'"
      ]
     },
     "metadata": {},
     "output_type": "display_data"
    },
    {
     "data": {
      "text/plain": [
       "'C:\\\\Users\\\\ashis\\\\OneDrive\\\\Documents\\\\summer project\\\\summer project - 3d\\\\week2\\\\new_data\\\\mask\\\\000004_10_1.png'"
      ]
     },
     "metadata": {},
     "output_type": "display_data"
    },
    {
     "data": {
      "text/plain": [
       "'C:\\\\Users\\\\ashis\\\\OneDrive\\\\Documents\\\\summer project\\\\summer project - 3d\\\\week2\\\\new_data\\\\image\\\\000004_10_2.png'"
      ]
     },
     "metadata": {},
     "output_type": "display_data"
    },
    {
     "data": {
      "text/plain": [
       "'C:\\\\Users\\\\ashis\\\\OneDrive\\\\Documents\\\\summer project\\\\summer project - 3d\\\\week2\\\\new_data\\\\mask\\\\000004_10_2.png'"
      ]
     },
     "metadata": {},
     "output_type": "display_data"
    },
    {
     "data": {
      "text/plain": [
       "'C:\\\\Users\\\\ashis\\\\OneDrive\\\\Documents\\\\summer project\\\\summer project - 3d\\\\week2\\\\new_data\\\\image\\\\000004_10_3.png'"
      ]
     },
     "metadata": {},
     "output_type": "display_data"
    },
    {
     "data": {
      "text/plain": [
       "'C:\\\\Users\\\\ashis\\\\OneDrive\\\\Documents\\\\summer project\\\\summer project - 3d\\\\week2\\\\new_data\\\\mask\\\\000004_10_3.png'"
      ]
     },
     "metadata": {},
     "output_type": "display_data"
    },
    {
     "data": {
      "text/plain": [
       "'C:\\\\Users\\\\ashis\\\\OneDrive\\\\Documents\\\\summer project\\\\summer project - 3d\\\\week2\\\\new_data\\\\image\\\\000004_10_4.png'"
      ]
     },
     "metadata": {},
     "output_type": "display_data"
    },
    {
     "data": {
      "text/plain": [
       "'C:\\\\Users\\\\ashis\\\\OneDrive\\\\Documents\\\\summer project\\\\summer project - 3d\\\\week2\\\\new_data\\\\mask\\\\000004_10_4.png'"
      ]
     },
     "metadata": {},
     "output_type": "display_data"
    },
    {
     "data": {
      "text/plain": [
       "'C:\\\\Users\\\\ashis\\\\OneDrive\\\\Documents\\\\summer project\\\\summer project - 3d\\\\week2\\\\new_data\\\\image\\\\000004_10_5.png'"
      ]
     },
     "metadata": {},
     "output_type": "display_data"
    },
    {
     "data": {
      "text/plain": [
       "'C:\\\\Users\\\\ashis\\\\OneDrive\\\\Documents\\\\summer project\\\\summer project - 3d\\\\week2\\\\new_data\\\\mask\\\\000004_10_5.png'"
      ]
     },
     "metadata": {},
     "output_type": "display_data"
    },
    {
     "name": "stderr",
     "output_type": "stream",
     "text": [
      "\r",
      "  2%|██                                                                                | 5/200 [00:02<01:19,  2.46it/s]"
     ]
    },
    {
     "data": {
      "text/plain": [
       "'C:\\\\Users\\\\ashis\\\\OneDrive\\\\Documents\\\\summer project\\\\summer project - 3d\\\\week2\\\\new_data\\\\image\\\\000005_10_0.png'"
      ]
     },
     "metadata": {},
     "output_type": "display_data"
    },
    {
     "data": {
      "text/plain": [
       "'C:\\\\Users\\\\ashis\\\\OneDrive\\\\Documents\\\\summer project\\\\summer project - 3d\\\\week2\\\\new_data\\\\mask\\\\000005_10_0.png'"
      ]
     },
     "metadata": {},
     "output_type": "display_data"
    },
    {
     "data": {
      "text/plain": [
       "'C:\\\\Users\\\\ashis\\\\OneDrive\\\\Documents\\\\summer project\\\\summer project - 3d\\\\week2\\\\new_data\\\\image\\\\000005_10_1.png'"
      ]
     },
     "metadata": {},
     "output_type": "display_data"
    },
    {
     "data": {
      "text/plain": [
       "'C:\\\\Users\\\\ashis\\\\OneDrive\\\\Documents\\\\summer project\\\\summer project - 3d\\\\week2\\\\new_data\\\\mask\\\\000005_10_1.png'"
      ]
     },
     "metadata": {},
     "output_type": "display_data"
    },
    {
     "data": {
      "text/plain": [
       "'C:\\\\Users\\\\ashis\\\\OneDrive\\\\Documents\\\\summer project\\\\summer project - 3d\\\\week2\\\\new_data\\\\image\\\\000005_10_2.png'"
      ]
     },
     "metadata": {},
     "output_type": "display_data"
    },
    {
     "data": {
      "text/plain": [
       "'C:\\\\Users\\\\ashis\\\\OneDrive\\\\Documents\\\\summer project\\\\summer project - 3d\\\\week2\\\\new_data\\\\mask\\\\000005_10_2.png'"
      ]
     },
     "metadata": {},
     "output_type": "display_data"
    },
    {
     "data": {
      "text/plain": [
       "'C:\\\\Users\\\\ashis\\\\OneDrive\\\\Documents\\\\summer project\\\\summer project - 3d\\\\week2\\\\new_data\\\\image\\\\000005_10_3.png'"
      ]
     },
     "metadata": {},
     "output_type": "display_data"
    },
    {
     "data": {
      "text/plain": [
       "'C:\\\\Users\\\\ashis\\\\OneDrive\\\\Documents\\\\summer project\\\\summer project - 3d\\\\week2\\\\new_data\\\\mask\\\\000005_10_3.png'"
      ]
     },
     "metadata": {},
     "output_type": "display_data"
    },
    {
     "data": {
      "text/plain": [
       "'C:\\\\Users\\\\ashis\\\\OneDrive\\\\Documents\\\\summer project\\\\summer project - 3d\\\\week2\\\\new_data\\\\image\\\\000005_10_4.png'"
      ]
     },
     "metadata": {},
     "output_type": "display_data"
    },
    {
     "data": {
      "text/plain": [
       "'C:\\\\Users\\\\ashis\\\\OneDrive\\\\Documents\\\\summer project\\\\summer project - 3d\\\\week2\\\\new_data\\\\mask\\\\000005_10_4.png'"
      ]
     },
     "metadata": {},
     "output_type": "display_data"
    },
    {
     "data": {
      "text/plain": [
       "'C:\\\\Users\\\\ashis\\\\OneDrive\\\\Documents\\\\summer project\\\\summer project - 3d\\\\week2\\\\new_data\\\\image\\\\000005_10_5.png'"
      ]
     },
     "metadata": {},
     "output_type": "display_data"
    },
    {
     "data": {
      "text/plain": [
       "'C:\\\\Users\\\\ashis\\\\OneDrive\\\\Documents\\\\summer project\\\\summer project - 3d\\\\week2\\\\new_data\\\\mask\\\\000005_10_5.png'"
      ]
     },
     "metadata": {},
     "output_type": "display_data"
    },
    {
     "name": "stderr",
     "output_type": "stream",
     "text": [
      "\r",
      "  3%|██▍                                                                               | 6/200 [00:02<01:16,  2.54it/s]"
     ]
    },
    {
     "data": {
      "text/plain": [
       "'C:\\\\Users\\\\ashis\\\\OneDrive\\\\Documents\\\\summer project\\\\summer project - 3d\\\\week2\\\\new_data\\\\image\\\\000006_10_0.png'"
      ]
     },
     "metadata": {},
     "output_type": "display_data"
    },
    {
     "data": {
      "text/plain": [
       "'C:\\\\Users\\\\ashis\\\\OneDrive\\\\Documents\\\\summer project\\\\summer project - 3d\\\\week2\\\\new_data\\\\mask\\\\000006_10_0.png'"
      ]
     },
     "metadata": {},
     "output_type": "display_data"
    },
    {
     "data": {
      "text/plain": [
       "'C:\\\\Users\\\\ashis\\\\OneDrive\\\\Documents\\\\summer project\\\\summer project - 3d\\\\week2\\\\new_data\\\\image\\\\000006_10_1.png'"
      ]
     },
     "metadata": {},
     "output_type": "display_data"
    },
    {
     "data": {
      "text/plain": [
       "'C:\\\\Users\\\\ashis\\\\OneDrive\\\\Documents\\\\summer project\\\\summer project - 3d\\\\week2\\\\new_data\\\\mask\\\\000006_10_1.png'"
      ]
     },
     "metadata": {},
     "output_type": "display_data"
    },
    {
     "data": {
      "text/plain": [
       "'C:\\\\Users\\\\ashis\\\\OneDrive\\\\Documents\\\\summer project\\\\summer project - 3d\\\\week2\\\\new_data\\\\image\\\\000006_10_2.png'"
      ]
     },
     "metadata": {},
     "output_type": "display_data"
    },
    {
     "data": {
      "text/plain": [
       "'C:\\\\Users\\\\ashis\\\\OneDrive\\\\Documents\\\\summer project\\\\summer project - 3d\\\\week2\\\\new_data\\\\mask\\\\000006_10_2.png'"
      ]
     },
     "metadata": {},
     "output_type": "display_data"
    },
    {
     "data": {
      "text/plain": [
       "'C:\\\\Users\\\\ashis\\\\OneDrive\\\\Documents\\\\summer project\\\\summer project - 3d\\\\week2\\\\new_data\\\\image\\\\000006_10_3.png'"
      ]
     },
     "metadata": {},
     "output_type": "display_data"
    },
    {
     "data": {
      "text/plain": [
       "'C:\\\\Users\\\\ashis\\\\OneDrive\\\\Documents\\\\summer project\\\\summer project - 3d\\\\week2\\\\new_data\\\\mask\\\\000006_10_3.png'"
      ]
     },
     "metadata": {},
     "output_type": "display_data"
    },
    {
     "data": {
      "text/plain": [
       "'C:\\\\Users\\\\ashis\\\\OneDrive\\\\Documents\\\\summer project\\\\summer project - 3d\\\\week2\\\\new_data\\\\image\\\\000006_10_4.png'"
      ]
     },
     "metadata": {},
     "output_type": "display_data"
    },
    {
     "data": {
      "text/plain": [
       "'C:\\\\Users\\\\ashis\\\\OneDrive\\\\Documents\\\\summer project\\\\summer project - 3d\\\\week2\\\\new_data\\\\mask\\\\000006_10_4.png'"
      ]
     },
     "metadata": {},
     "output_type": "display_data"
    },
    {
     "data": {
      "text/plain": [
       "'C:\\\\Users\\\\ashis\\\\OneDrive\\\\Documents\\\\summer project\\\\summer project - 3d\\\\week2\\\\new_data\\\\image\\\\000006_10_5.png'"
      ]
     },
     "metadata": {},
     "output_type": "display_data"
    },
    {
     "data": {
      "text/plain": [
       "'C:\\\\Users\\\\ashis\\\\OneDrive\\\\Documents\\\\summer project\\\\summer project - 3d\\\\week2\\\\new_data\\\\mask\\\\000006_10_5.png'"
      ]
     },
     "metadata": {},
     "output_type": "display_data"
    },
    {
     "name": "stderr",
     "output_type": "stream",
     "text": [
      "\r",
      "  4%|██▊                                                                               | 7/200 [00:02<01:12,  2.66it/s]"
     ]
    },
    {
     "data": {
      "text/plain": [
       "'C:\\\\Users\\\\ashis\\\\OneDrive\\\\Documents\\\\summer project\\\\summer project - 3d\\\\week2\\\\new_data\\\\image\\\\000007_10_0.png'"
      ]
     },
     "metadata": {},
     "output_type": "display_data"
    },
    {
     "data": {
      "text/plain": [
       "'C:\\\\Users\\\\ashis\\\\OneDrive\\\\Documents\\\\summer project\\\\summer project - 3d\\\\week2\\\\new_data\\\\mask\\\\000007_10_0.png'"
      ]
     },
     "metadata": {},
     "output_type": "display_data"
    },
    {
     "data": {
      "text/plain": [
       "'C:\\\\Users\\\\ashis\\\\OneDrive\\\\Documents\\\\summer project\\\\summer project - 3d\\\\week2\\\\new_data\\\\image\\\\000007_10_1.png'"
      ]
     },
     "metadata": {},
     "output_type": "display_data"
    },
    {
     "data": {
      "text/plain": [
       "'C:\\\\Users\\\\ashis\\\\OneDrive\\\\Documents\\\\summer project\\\\summer project - 3d\\\\week2\\\\new_data\\\\mask\\\\000007_10_1.png'"
      ]
     },
     "metadata": {},
     "output_type": "display_data"
    },
    {
     "data": {
      "text/plain": [
       "'C:\\\\Users\\\\ashis\\\\OneDrive\\\\Documents\\\\summer project\\\\summer project - 3d\\\\week2\\\\new_data\\\\image\\\\000007_10_2.png'"
      ]
     },
     "metadata": {},
     "output_type": "display_data"
    },
    {
     "data": {
      "text/plain": [
       "'C:\\\\Users\\\\ashis\\\\OneDrive\\\\Documents\\\\summer project\\\\summer project - 3d\\\\week2\\\\new_data\\\\mask\\\\000007_10_2.png'"
      ]
     },
     "metadata": {},
     "output_type": "display_data"
    },
    {
     "data": {
      "text/plain": [
       "'C:\\\\Users\\\\ashis\\\\OneDrive\\\\Documents\\\\summer project\\\\summer project - 3d\\\\week2\\\\new_data\\\\image\\\\000007_10_3.png'"
      ]
     },
     "metadata": {},
     "output_type": "display_data"
    },
    {
     "data": {
      "text/plain": [
       "'C:\\\\Users\\\\ashis\\\\OneDrive\\\\Documents\\\\summer project\\\\summer project - 3d\\\\week2\\\\new_data\\\\mask\\\\000007_10_3.png'"
      ]
     },
     "metadata": {},
     "output_type": "display_data"
    },
    {
     "data": {
      "text/plain": [
       "'C:\\\\Users\\\\ashis\\\\OneDrive\\\\Documents\\\\summer project\\\\summer project - 3d\\\\week2\\\\new_data\\\\image\\\\000007_10_4.png'"
      ]
     },
     "metadata": {},
     "output_type": "display_data"
    },
    {
     "data": {
      "text/plain": [
       "'C:\\\\Users\\\\ashis\\\\OneDrive\\\\Documents\\\\summer project\\\\summer project - 3d\\\\week2\\\\new_data\\\\mask\\\\000007_10_4.png'"
      ]
     },
     "metadata": {},
     "output_type": "display_data"
    },
    {
     "data": {
      "text/plain": [
       "'C:\\\\Users\\\\ashis\\\\OneDrive\\\\Documents\\\\summer project\\\\summer project - 3d\\\\week2\\\\new_data\\\\image\\\\000007_10_5.png'"
      ]
     },
     "metadata": {},
     "output_type": "display_data"
    },
    {
     "data": {
      "text/plain": [
       "'C:\\\\Users\\\\ashis\\\\OneDrive\\\\Documents\\\\summer project\\\\summer project - 3d\\\\week2\\\\new_data\\\\mask\\\\000007_10_5.png'"
      ]
     },
     "metadata": {},
     "output_type": "display_data"
    },
    {
     "name": "stderr",
     "output_type": "stream",
     "text": [
      "\r",
      "  4%|███▎                                                                              | 8/200 [00:03<01:10,  2.73it/s]"
     ]
    },
    {
     "data": {
      "text/plain": [
       "'C:\\\\Users\\\\ashis\\\\OneDrive\\\\Documents\\\\summer project\\\\summer project - 3d\\\\week2\\\\new_data\\\\image\\\\000008_10_0.png'"
      ]
     },
     "metadata": {},
     "output_type": "display_data"
    },
    {
     "data": {
      "text/plain": [
       "'C:\\\\Users\\\\ashis\\\\OneDrive\\\\Documents\\\\summer project\\\\summer project - 3d\\\\week2\\\\new_data\\\\mask\\\\000008_10_0.png'"
      ]
     },
     "metadata": {},
     "output_type": "display_data"
    },
    {
     "data": {
      "text/plain": [
       "'C:\\\\Users\\\\ashis\\\\OneDrive\\\\Documents\\\\summer project\\\\summer project - 3d\\\\week2\\\\new_data\\\\image\\\\000008_10_1.png'"
      ]
     },
     "metadata": {},
     "output_type": "display_data"
    },
    {
     "data": {
      "text/plain": [
       "'C:\\\\Users\\\\ashis\\\\OneDrive\\\\Documents\\\\summer project\\\\summer project - 3d\\\\week2\\\\new_data\\\\mask\\\\000008_10_1.png'"
      ]
     },
     "metadata": {},
     "output_type": "display_data"
    },
    {
     "data": {
      "text/plain": [
       "'C:\\\\Users\\\\ashis\\\\OneDrive\\\\Documents\\\\summer project\\\\summer project - 3d\\\\week2\\\\new_data\\\\image\\\\000008_10_2.png'"
      ]
     },
     "metadata": {},
     "output_type": "display_data"
    },
    {
     "data": {
      "text/plain": [
       "'C:\\\\Users\\\\ashis\\\\OneDrive\\\\Documents\\\\summer project\\\\summer project - 3d\\\\week2\\\\new_data\\\\mask\\\\000008_10_2.png'"
      ]
     },
     "metadata": {},
     "output_type": "display_data"
    },
    {
     "data": {
      "text/plain": [
       "'C:\\\\Users\\\\ashis\\\\OneDrive\\\\Documents\\\\summer project\\\\summer project - 3d\\\\week2\\\\new_data\\\\image\\\\000008_10_3.png'"
      ]
     },
     "metadata": {},
     "output_type": "display_data"
    },
    {
     "data": {
      "text/plain": [
       "'C:\\\\Users\\\\ashis\\\\OneDrive\\\\Documents\\\\summer project\\\\summer project - 3d\\\\week2\\\\new_data\\\\mask\\\\000008_10_3.png'"
      ]
     },
     "metadata": {},
     "output_type": "display_data"
    },
    {
     "data": {
      "text/plain": [
       "'C:\\\\Users\\\\ashis\\\\OneDrive\\\\Documents\\\\summer project\\\\summer project - 3d\\\\week2\\\\new_data\\\\image\\\\000008_10_4.png'"
      ]
     },
     "metadata": {},
     "output_type": "display_data"
    },
    {
     "data": {
      "text/plain": [
       "'C:\\\\Users\\\\ashis\\\\OneDrive\\\\Documents\\\\summer project\\\\summer project - 3d\\\\week2\\\\new_data\\\\mask\\\\000008_10_4.png'"
      ]
     },
     "metadata": {},
     "output_type": "display_data"
    },
    {
     "data": {
      "text/plain": [
       "'C:\\\\Users\\\\ashis\\\\OneDrive\\\\Documents\\\\summer project\\\\summer project - 3d\\\\week2\\\\new_data\\\\image\\\\000008_10_5.png'"
      ]
     },
     "metadata": {},
     "output_type": "display_data"
    },
    {
     "data": {
      "text/plain": [
       "'C:\\\\Users\\\\ashis\\\\OneDrive\\\\Documents\\\\summer project\\\\summer project - 3d\\\\week2\\\\new_data\\\\mask\\\\000008_10_5.png'"
      ]
     },
     "metadata": {},
     "output_type": "display_data"
    },
    {
     "name": "stderr",
     "output_type": "stream",
     "text": [
      "\r",
      "  4%|███▋                                                                              | 9/200 [00:03<01:04,  2.96it/s]"
     ]
    },
    {
     "data": {
      "text/plain": [
       "'C:\\\\Users\\\\ashis\\\\OneDrive\\\\Documents\\\\summer project\\\\summer project - 3d\\\\week2\\\\new_data\\\\image\\\\000009_10_0.png'"
      ]
     },
     "metadata": {},
     "output_type": "display_data"
    },
    {
     "data": {
      "text/plain": [
       "'C:\\\\Users\\\\ashis\\\\OneDrive\\\\Documents\\\\summer project\\\\summer project - 3d\\\\week2\\\\new_data\\\\mask\\\\000009_10_0.png'"
      ]
     },
     "metadata": {},
     "output_type": "display_data"
    },
    {
     "data": {
      "text/plain": [
       "'C:\\\\Users\\\\ashis\\\\OneDrive\\\\Documents\\\\summer project\\\\summer project - 3d\\\\week2\\\\new_data\\\\image\\\\000009_10_1.png'"
      ]
     },
     "metadata": {},
     "output_type": "display_data"
    },
    {
     "data": {
      "text/plain": [
       "'C:\\\\Users\\\\ashis\\\\OneDrive\\\\Documents\\\\summer project\\\\summer project - 3d\\\\week2\\\\new_data\\\\mask\\\\000009_10_1.png'"
      ]
     },
     "metadata": {},
     "output_type": "display_data"
    },
    {
     "data": {
      "text/plain": [
       "'C:\\\\Users\\\\ashis\\\\OneDrive\\\\Documents\\\\summer project\\\\summer project - 3d\\\\week2\\\\new_data\\\\image\\\\000009_10_2.png'"
      ]
     },
     "metadata": {},
     "output_type": "display_data"
    },
    {
     "data": {
      "text/plain": [
       "'C:\\\\Users\\\\ashis\\\\OneDrive\\\\Documents\\\\summer project\\\\summer project - 3d\\\\week2\\\\new_data\\\\mask\\\\000009_10_2.png'"
      ]
     },
     "metadata": {},
     "output_type": "display_data"
    },
    {
     "data": {
      "text/plain": [
       "'C:\\\\Users\\\\ashis\\\\OneDrive\\\\Documents\\\\summer project\\\\summer project - 3d\\\\week2\\\\new_data\\\\image\\\\000009_10_3.png'"
      ]
     },
     "metadata": {},
     "output_type": "display_data"
    },
    {
     "data": {
      "text/plain": [
       "'C:\\\\Users\\\\ashis\\\\OneDrive\\\\Documents\\\\summer project\\\\summer project - 3d\\\\week2\\\\new_data\\\\mask\\\\000009_10_3.png'"
      ]
     },
     "metadata": {},
     "output_type": "display_data"
    },
    {
     "data": {
      "text/plain": [
       "'C:\\\\Users\\\\ashis\\\\OneDrive\\\\Documents\\\\summer project\\\\summer project - 3d\\\\week2\\\\new_data\\\\image\\\\000009_10_4.png'"
      ]
     },
     "metadata": {},
     "output_type": "display_data"
    },
    {
     "data": {
      "text/plain": [
       "'C:\\\\Users\\\\ashis\\\\OneDrive\\\\Documents\\\\summer project\\\\summer project - 3d\\\\week2\\\\new_data\\\\mask\\\\000009_10_4.png'"
      ]
     },
     "metadata": {},
     "output_type": "display_data"
    },
    {
     "data": {
      "text/plain": [
       "'C:\\\\Users\\\\ashis\\\\OneDrive\\\\Documents\\\\summer project\\\\summer project - 3d\\\\week2\\\\new_data\\\\image\\\\000009_10_5.png'"
      ]
     },
     "metadata": {},
     "output_type": "display_data"
    },
    {
     "data": {
      "text/plain": [
       "'C:\\\\Users\\\\ashis\\\\OneDrive\\\\Documents\\\\summer project\\\\summer project - 3d\\\\week2\\\\new_data\\\\mask\\\\000009_10_5.png'"
      ]
     },
     "metadata": {},
     "output_type": "display_data"
    },
    {
     "name": "stderr",
     "output_type": "stream",
     "text": [
      "\r",
      "  5%|████                                                                             | 10/200 [00:03<01:03,  2.97it/s]"
     ]
    },
    {
     "data": {
      "text/plain": [
       "'C:\\\\Users\\\\ashis\\\\OneDrive\\\\Documents\\\\summer project\\\\summer project - 3d\\\\week2\\\\new_data\\\\image\\\\000010_10_0.png'"
      ]
     },
     "metadata": {},
     "output_type": "display_data"
    },
    {
     "data": {
      "text/plain": [
       "'C:\\\\Users\\\\ashis\\\\OneDrive\\\\Documents\\\\summer project\\\\summer project - 3d\\\\week2\\\\new_data\\\\mask\\\\000010_10_0.png'"
      ]
     },
     "metadata": {},
     "output_type": "display_data"
    },
    {
     "data": {
      "text/plain": [
       "'C:\\\\Users\\\\ashis\\\\OneDrive\\\\Documents\\\\summer project\\\\summer project - 3d\\\\week2\\\\new_data\\\\image\\\\000010_10_1.png'"
      ]
     },
     "metadata": {},
     "output_type": "display_data"
    },
    {
     "data": {
      "text/plain": [
       "'C:\\\\Users\\\\ashis\\\\OneDrive\\\\Documents\\\\summer project\\\\summer project - 3d\\\\week2\\\\new_data\\\\mask\\\\000010_10_1.png'"
      ]
     },
     "metadata": {},
     "output_type": "display_data"
    },
    {
     "data": {
      "text/plain": [
       "'C:\\\\Users\\\\ashis\\\\OneDrive\\\\Documents\\\\summer project\\\\summer project - 3d\\\\week2\\\\new_data\\\\image\\\\000010_10_2.png'"
      ]
     },
     "metadata": {},
     "output_type": "display_data"
    },
    {
     "data": {
      "text/plain": [
       "'C:\\\\Users\\\\ashis\\\\OneDrive\\\\Documents\\\\summer project\\\\summer project - 3d\\\\week2\\\\new_data\\\\mask\\\\000010_10_2.png'"
      ]
     },
     "metadata": {},
     "output_type": "display_data"
    },
    {
     "data": {
      "text/plain": [
       "'C:\\\\Users\\\\ashis\\\\OneDrive\\\\Documents\\\\summer project\\\\summer project - 3d\\\\week2\\\\new_data\\\\image\\\\000010_10_3.png'"
      ]
     },
     "metadata": {},
     "output_type": "display_data"
    },
    {
     "data": {
      "text/plain": [
       "'C:\\\\Users\\\\ashis\\\\OneDrive\\\\Documents\\\\summer project\\\\summer project - 3d\\\\week2\\\\new_data\\\\mask\\\\000010_10_3.png'"
      ]
     },
     "metadata": {},
     "output_type": "display_data"
    },
    {
     "data": {
      "text/plain": [
       "'C:\\\\Users\\\\ashis\\\\OneDrive\\\\Documents\\\\summer project\\\\summer project - 3d\\\\week2\\\\new_data\\\\image\\\\000010_10_4.png'"
      ]
     },
     "metadata": {},
     "output_type": "display_data"
    },
    {
     "data": {
      "text/plain": [
       "'C:\\\\Users\\\\ashis\\\\OneDrive\\\\Documents\\\\summer project\\\\summer project - 3d\\\\week2\\\\new_data\\\\mask\\\\000010_10_4.png'"
      ]
     },
     "metadata": {},
     "output_type": "display_data"
    },
    {
     "data": {
      "text/plain": [
       "'C:\\\\Users\\\\ashis\\\\OneDrive\\\\Documents\\\\summer project\\\\summer project - 3d\\\\week2\\\\new_data\\\\image\\\\000010_10_5.png'"
      ]
     },
     "metadata": {},
     "output_type": "display_data"
    },
    {
     "data": {
      "text/plain": [
       "'C:\\\\Users\\\\ashis\\\\OneDrive\\\\Documents\\\\summer project\\\\summer project - 3d\\\\week2\\\\new_data\\\\mask\\\\000010_10_5.png'"
      ]
     },
     "metadata": {},
     "output_type": "display_data"
    },
    {
     "name": "stderr",
     "output_type": "stream",
     "text": [
      "\r",
      "  6%|████▍                                                                            | 11/200 [00:03<01:01,  3.05it/s]"
     ]
    },
    {
     "data": {
      "text/plain": [
       "'C:\\\\Users\\\\ashis\\\\OneDrive\\\\Documents\\\\summer project\\\\summer project - 3d\\\\week2\\\\new_data\\\\image\\\\000011_10_0.png'"
      ]
     },
     "metadata": {},
     "output_type": "display_data"
    },
    {
     "data": {
      "text/plain": [
       "'C:\\\\Users\\\\ashis\\\\OneDrive\\\\Documents\\\\summer project\\\\summer project - 3d\\\\week2\\\\new_data\\\\mask\\\\000011_10_0.png'"
      ]
     },
     "metadata": {},
     "output_type": "display_data"
    },
    {
     "data": {
      "text/plain": [
       "'C:\\\\Users\\\\ashis\\\\OneDrive\\\\Documents\\\\summer project\\\\summer project - 3d\\\\week2\\\\new_data\\\\image\\\\000011_10_1.png'"
      ]
     },
     "metadata": {},
     "output_type": "display_data"
    },
    {
     "data": {
      "text/plain": [
       "'C:\\\\Users\\\\ashis\\\\OneDrive\\\\Documents\\\\summer project\\\\summer project - 3d\\\\week2\\\\new_data\\\\mask\\\\000011_10_1.png'"
      ]
     },
     "metadata": {},
     "output_type": "display_data"
    },
    {
     "data": {
      "text/plain": [
       "'C:\\\\Users\\\\ashis\\\\OneDrive\\\\Documents\\\\summer project\\\\summer project - 3d\\\\week2\\\\new_data\\\\image\\\\000011_10_2.png'"
      ]
     },
     "metadata": {},
     "output_type": "display_data"
    },
    {
     "data": {
      "text/plain": [
       "'C:\\\\Users\\\\ashis\\\\OneDrive\\\\Documents\\\\summer project\\\\summer project - 3d\\\\week2\\\\new_data\\\\mask\\\\000011_10_2.png'"
      ]
     },
     "metadata": {},
     "output_type": "display_data"
    },
    {
     "data": {
      "text/plain": [
       "'C:\\\\Users\\\\ashis\\\\OneDrive\\\\Documents\\\\summer project\\\\summer project - 3d\\\\week2\\\\new_data\\\\image\\\\000011_10_3.png'"
      ]
     },
     "metadata": {},
     "output_type": "display_data"
    },
    {
     "data": {
      "text/plain": [
       "'C:\\\\Users\\\\ashis\\\\OneDrive\\\\Documents\\\\summer project\\\\summer project - 3d\\\\week2\\\\new_data\\\\mask\\\\000011_10_3.png'"
      ]
     },
     "metadata": {},
     "output_type": "display_data"
    },
    {
     "data": {
      "text/plain": [
       "'C:\\\\Users\\\\ashis\\\\OneDrive\\\\Documents\\\\summer project\\\\summer project - 3d\\\\week2\\\\new_data\\\\image\\\\000011_10_4.png'"
      ]
     },
     "metadata": {},
     "output_type": "display_data"
    },
    {
     "data": {
      "text/plain": [
       "'C:\\\\Users\\\\ashis\\\\OneDrive\\\\Documents\\\\summer project\\\\summer project - 3d\\\\week2\\\\new_data\\\\mask\\\\000011_10_4.png'"
      ]
     },
     "metadata": {},
     "output_type": "display_data"
    },
    {
     "data": {
      "text/plain": [
       "'C:\\\\Users\\\\ashis\\\\OneDrive\\\\Documents\\\\summer project\\\\summer project - 3d\\\\week2\\\\new_data\\\\image\\\\000011_10_5.png'"
      ]
     },
     "metadata": {},
     "output_type": "display_data"
    },
    {
     "data": {
      "text/plain": [
       "'C:\\\\Users\\\\ashis\\\\OneDrive\\\\Documents\\\\summer project\\\\summer project - 3d\\\\week2\\\\new_data\\\\mask\\\\000011_10_5.png'"
      ]
     },
     "metadata": {},
     "output_type": "display_data"
    },
    {
     "name": "stderr",
     "output_type": "stream",
     "text": [
      "\r",
      "  6%|████▊                                                                            | 12/200 [00:04<00:59,  3.16it/s]"
     ]
    },
    {
     "data": {
      "text/plain": [
       "'C:\\\\Users\\\\ashis\\\\OneDrive\\\\Documents\\\\summer project\\\\summer project - 3d\\\\week2\\\\new_data\\\\image\\\\000012_10_0.png'"
      ]
     },
     "metadata": {},
     "output_type": "display_data"
    },
    {
     "data": {
      "text/plain": [
       "'C:\\\\Users\\\\ashis\\\\OneDrive\\\\Documents\\\\summer project\\\\summer project - 3d\\\\week2\\\\new_data\\\\mask\\\\000012_10_0.png'"
      ]
     },
     "metadata": {},
     "output_type": "display_data"
    },
    {
     "data": {
      "text/plain": [
       "'C:\\\\Users\\\\ashis\\\\OneDrive\\\\Documents\\\\summer project\\\\summer project - 3d\\\\week2\\\\new_data\\\\image\\\\000012_10_1.png'"
      ]
     },
     "metadata": {},
     "output_type": "display_data"
    },
    {
     "data": {
      "text/plain": [
       "'C:\\\\Users\\\\ashis\\\\OneDrive\\\\Documents\\\\summer project\\\\summer project - 3d\\\\week2\\\\new_data\\\\mask\\\\000012_10_1.png'"
      ]
     },
     "metadata": {},
     "output_type": "display_data"
    },
    {
     "data": {
      "text/plain": [
       "'C:\\\\Users\\\\ashis\\\\OneDrive\\\\Documents\\\\summer project\\\\summer project - 3d\\\\week2\\\\new_data\\\\image\\\\000012_10_2.png'"
      ]
     },
     "metadata": {},
     "output_type": "display_data"
    },
    {
     "data": {
      "text/plain": [
       "'C:\\\\Users\\\\ashis\\\\OneDrive\\\\Documents\\\\summer project\\\\summer project - 3d\\\\week2\\\\new_data\\\\mask\\\\000012_10_2.png'"
      ]
     },
     "metadata": {},
     "output_type": "display_data"
    },
    {
     "data": {
      "text/plain": [
       "'C:\\\\Users\\\\ashis\\\\OneDrive\\\\Documents\\\\summer project\\\\summer project - 3d\\\\week2\\\\new_data\\\\image\\\\000012_10_3.png'"
      ]
     },
     "metadata": {},
     "output_type": "display_data"
    },
    {
     "data": {
      "text/plain": [
       "'C:\\\\Users\\\\ashis\\\\OneDrive\\\\Documents\\\\summer project\\\\summer project - 3d\\\\week2\\\\new_data\\\\mask\\\\000012_10_3.png'"
      ]
     },
     "metadata": {},
     "output_type": "display_data"
    },
    {
     "data": {
      "text/plain": [
       "'C:\\\\Users\\\\ashis\\\\OneDrive\\\\Documents\\\\summer project\\\\summer project - 3d\\\\week2\\\\new_data\\\\image\\\\000012_10_4.png'"
      ]
     },
     "metadata": {},
     "output_type": "display_data"
    },
    {
     "data": {
      "text/plain": [
       "'C:\\\\Users\\\\ashis\\\\OneDrive\\\\Documents\\\\summer project\\\\summer project - 3d\\\\week2\\\\new_data\\\\mask\\\\000012_10_4.png'"
      ]
     },
     "metadata": {},
     "output_type": "display_data"
    },
    {
     "data": {
      "text/plain": [
       "'C:\\\\Users\\\\ashis\\\\OneDrive\\\\Documents\\\\summer project\\\\summer project - 3d\\\\week2\\\\new_data\\\\image\\\\000012_10_5.png'"
      ]
     },
     "metadata": {},
     "output_type": "display_data"
    },
    {
     "data": {
      "text/plain": [
       "'C:\\\\Users\\\\ashis\\\\OneDrive\\\\Documents\\\\summer project\\\\summer project - 3d\\\\week2\\\\new_data\\\\mask\\\\000012_10_5.png'"
      ]
     },
     "metadata": {},
     "output_type": "display_data"
    },
    {
     "name": "stderr",
     "output_type": "stream",
     "text": [
      "\r",
      "  6%|█████▎                                                                           | 13/200 [00:04<00:59,  3.16it/s]"
     ]
    },
    {
     "data": {
      "text/plain": [
       "'C:\\\\Users\\\\ashis\\\\OneDrive\\\\Documents\\\\summer project\\\\summer project - 3d\\\\week2\\\\new_data\\\\image\\\\000013_10_0.png'"
      ]
     },
     "metadata": {},
     "output_type": "display_data"
    },
    {
     "data": {
      "text/plain": [
       "'C:\\\\Users\\\\ashis\\\\OneDrive\\\\Documents\\\\summer project\\\\summer project - 3d\\\\week2\\\\new_data\\\\mask\\\\000013_10_0.png'"
      ]
     },
     "metadata": {},
     "output_type": "display_data"
    },
    {
     "data": {
      "text/plain": [
       "'C:\\\\Users\\\\ashis\\\\OneDrive\\\\Documents\\\\summer project\\\\summer project - 3d\\\\week2\\\\new_data\\\\image\\\\000013_10_1.png'"
      ]
     },
     "metadata": {},
     "output_type": "display_data"
    },
    {
     "data": {
      "text/plain": [
       "'C:\\\\Users\\\\ashis\\\\OneDrive\\\\Documents\\\\summer project\\\\summer project - 3d\\\\week2\\\\new_data\\\\mask\\\\000013_10_1.png'"
      ]
     },
     "metadata": {},
     "output_type": "display_data"
    },
    {
     "data": {
      "text/plain": [
       "'C:\\\\Users\\\\ashis\\\\OneDrive\\\\Documents\\\\summer project\\\\summer project - 3d\\\\week2\\\\new_data\\\\image\\\\000013_10_2.png'"
      ]
     },
     "metadata": {},
     "output_type": "display_data"
    },
    {
     "data": {
      "text/plain": [
       "'C:\\\\Users\\\\ashis\\\\OneDrive\\\\Documents\\\\summer project\\\\summer project - 3d\\\\week2\\\\new_data\\\\mask\\\\000013_10_2.png'"
      ]
     },
     "metadata": {},
     "output_type": "display_data"
    },
    {
     "data": {
      "text/plain": [
       "'C:\\\\Users\\\\ashis\\\\OneDrive\\\\Documents\\\\summer project\\\\summer project - 3d\\\\week2\\\\new_data\\\\image\\\\000013_10_3.png'"
      ]
     },
     "metadata": {},
     "output_type": "display_data"
    },
    {
     "data": {
      "text/plain": [
       "'C:\\\\Users\\\\ashis\\\\OneDrive\\\\Documents\\\\summer project\\\\summer project - 3d\\\\week2\\\\new_data\\\\mask\\\\000013_10_3.png'"
      ]
     },
     "metadata": {},
     "output_type": "display_data"
    },
    {
     "data": {
      "text/plain": [
       "'C:\\\\Users\\\\ashis\\\\OneDrive\\\\Documents\\\\summer project\\\\summer project - 3d\\\\week2\\\\new_data\\\\image\\\\000013_10_4.png'"
      ]
     },
     "metadata": {},
     "output_type": "display_data"
    },
    {
     "data": {
      "text/plain": [
       "'C:\\\\Users\\\\ashis\\\\OneDrive\\\\Documents\\\\summer project\\\\summer project - 3d\\\\week2\\\\new_data\\\\mask\\\\000013_10_4.png'"
      ]
     },
     "metadata": {},
     "output_type": "display_data"
    },
    {
     "data": {
      "text/plain": [
       "'C:\\\\Users\\\\ashis\\\\OneDrive\\\\Documents\\\\summer project\\\\summer project - 3d\\\\week2\\\\new_data\\\\image\\\\000013_10_5.png'"
      ]
     },
     "metadata": {},
     "output_type": "display_data"
    },
    {
     "data": {
      "text/plain": [
       "'C:\\\\Users\\\\ashis\\\\OneDrive\\\\Documents\\\\summer project\\\\summer project - 3d\\\\week2\\\\new_data\\\\mask\\\\000013_10_5.png'"
      ]
     },
     "metadata": {},
     "output_type": "display_data"
    },
    {
     "name": "stderr",
     "output_type": "stream",
     "text": [
      "\r",
      "  7%|█████▋                                                                           | 14/200 [00:04<00:55,  3.34it/s]"
     ]
    },
    {
     "data": {
      "text/plain": [
       "'C:\\\\Users\\\\ashis\\\\OneDrive\\\\Documents\\\\summer project\\\\summer project - 3d\\\\week2\\\\new_data\\\\image\\\\000014_10_0.png'"
      ]
     },
     "metadata": {},
     "output_type": "display_data"
    },
    {
     "data": {
      "text/plain": [
       "'C:\\\\Users\\\\ashis\\\\OneDrive\\\\Documents\\\\summer project\\\\summer project - 3d\\\\week2\\\\new_data\\\\mask\\\\000014_10_0.png'"
      ]
     },
     "metadata": {},
     "output_type": "display_data"
    },
    {
     "data": {
      "text/plain": [
       "'C:\\\\Users\\\\ashis\\\\OneDrive\\\\Documents\\\\summer project\\\\summer project - 3d\\\\week2\\\\new_data\\\\image\\\\000014_10_1.png'"
      ]
     },
     "metadata": {},
     "output_type": "display_data"
    },
    {
     "data": {
      "text/plain": [
       "'C:\\\\Users\\\\ashis\\\\OneDrive\\\\Documents\\\\summer project\\\\summer project - 3d\\\\week2\\\\new_data\\\\mask\\\\000014_10_1.png'"
      ]
     },
     "metadata": {},
     "output_type": "display_data"
    },
    {
     "data": {
      "text/plain": [
       "'C:\\\\Users\\\\ashis\\\\OneDrive\\\\Documents\\\\summer project\\\\summer project - 3d\\\\week2\\\\new_data\\\\image\\\\000014_10_2.png'"
      ]
     },
     "metadata": {},
     "output_type": "display_data"
    },
    {
     "data": {
      "text/plain": [
       "'C:\\\\Users\\\\ashis\\\\OneDrive\\\\Documents\\\\summer project\\\\summer project - 3d\\\\week2\\\\new_data\\\\mask\\\\000014_10_2.png'"
      ]
     },
     "metadata": {},
     "output_type": "display_data"
    },
    {
     "data": {
      "text/plain": [
       "'C:\\\\Users\\\\ashis\\\\OneDrive\\\\Documents\\\\summer project\\\\summer project - 3d\\\\week2\\\\new_data\\\\image\\\\000014_10_3.png'"
      ]
     },
     "metadata": {},
     "output_type": "display_data"
    },
    {
     "data": {
      "text/plain": [
       "'C:\\\\Users\\\\ashis\\\\OneDrive\\\\Documents\\\\summer project\\\\summer project - 3d\\\\week2\\\\new_data\\\\mask\\\\000014_10_3.png'"
      ]
     },
     "metadata": {},
     "output_type": "display_data"
    },
    {
     "data": {
      "text/plain": [
       "'C:\\\\Users\\\\ashis\\\\OneDrive\\\\Documents\\\\summer project\\\\summer project - 3d\\\\week2\\\\new_data\\\\image\\\\000014_10_4.png'"
      ]
     },
     "metadata": {},
     "output_type": "display_data"
    },
    {
     "data": {
      "text/plain": [
       "'C:\\\\Users\\\\ashis\\\\OneDrive\\\\Documents\\\\summer project\\\\summer project - 3d\\\\week2\\\\new_data\\\\mask\\\\000014_10_4.png'"
      ]
     },
     "metadata": {},
     "output_type": "display_data"
    },
    {
     "data": {
      "text/plain": [
       "'C:\\\\Users\\\\ashis\\\\OneDrive\\\\Documents\\\\summer project\\\\summer project - 3d\\\\week2\\\\new_data\\\\image\\\\000014_10_5.png'"
      ]
     },
     "metadata": {},
     "output_type": "display_data"
    },
    {
     "data": {
      "text/plain": [
       "'C:\\\\Users\\\\ashis\\\\OneDrive\\\\Documents\\\\summer project\\\\summer project - 3d\\\\week2\\\\new_data\\\\mask\\\\000014_10_5.png'"
      ]
     },
     "metadata": {},
     "output_type": "display_data"
    },
    {
     "name": "stderr",
     "output_type": "stream",
     "text": [
      "\r",
      "  8%|██████                                                                           | 15/200 [00:05<00:53,  3.48it/s]"
     ]
    },
    {
     "data": {
      "text/plain": [
       "'C:\\\\Users\\\\ashis\\\\OneDrive\\\\Documents\\\\summer project\\\\summer project - 3d\\\\week2\\\\new_data\\\\image\\\\000015_10_0.png'"
      ]
     },
     "metadata": {},
     "output_type": "display_data"
    },
    {
     "data": {
      "text/plain": [
       "'C:\\\\Users\\\\ashis\\\\OneDrive\\\\Documents\\\\summer project\\\\summer project - 3d\\\\week2\\\\new_data\\\\mask\\\\000015_10_0.png'"
      ]
     },
     "metadata": {},
     "output_type": "display_data"
    },
    {
     "data": {
      "text/plain": [
       "'C:\\\\Users\\\\ashis\\\\OneDrive\\\\Documents\\\\summer project\\\\summer project - 3d\\\\week2\\\\new_data\\\\image\\\\000015_10_1.png'"
      ]
     },
     "metadata": {},
     "output_type": "display_data"
    },
    {
     "data": {
      "text/plain": [
       "'C:\\\\Users\\\\ashis\\\\OneDrive\\\\Documents\\\\summer project\\\\summer project - 3d\\\\week2\\\\new_data\\\\mask\\\\000015_10_1.png'"
      ]
     },
     "metadata": {},
     "output_type": "display_data"
    },
    {
     "data": {
      "text/plain": [
       "'C:\\\\Users\\\\ashis\\\\OneDrive\\\\Documents\\\\summer project\\\\summer project - 3d\\\\week2\\\\new_data\\\\image\\\\000015_10_2.png'"
      ]
     },
     "metadata": {},
     "output_type": "display_data"
    },
    {
     "data": {
      "text/plain": [
       "'C:\\\\Users\\\\ashis\\\\OneDrive\\\\Documents\\\\summer project\\\\summer project - 3d\\\\week2\\\\new_data\\\\mask\\\\000015_10_2.png'"
      ]
     },
     "metadata": {},
     "output_type": "display_data"
    },
    {
     "data": {
      "text/plain": [
       "'C:\\\\Users\\\\ashis\\\\OneDrive\\\\Documents\\\\summer project\\\\summer project - 3d\\\\week2\\\\new_data\\\\image\\\\000015_10_3.png'"
      ]
     },
     "metadata": {},
     "output_type": "display_data"
    },
    {
     "data": {
      "text/plain": [
       "'C:\\\\Users\\\\ashis\\\\OneDrive\\\\Documents\\\\summer project\\\\summer project - 3d\\\\week2\\\\new_data\\\\mask\\\\000015_10_3.png'"
      ]
     },
     "metadata": {},
     "output_type": "display_data"
    },
    {
     "data": {
      "text/plain": [
       "'C:\\\\Users\\\\ashis\\\\OneDrive\\\\Documents\\\\summer project\\\\summer project - 3d\\\\week2\\\\new_data\\\\image\\\\000015_10_4.png'"
      ]
     },
     "metadata": {},
     "output_type": "display_data"
    },
    {
     "data": {
      "text/plain": [
       "'C:\\\\Users\\\\ashis\\\\OneDrive\\\\Documents\\\\summer project\\\\summer project - 3d\\\\week2\\\\new_data\\\\mask\\\\000015_10_4.png'"
      ]
     },
     "metadata": {},
     "output_type": "display_data"
    },
    {
     "data": {
      "text/plain": [
       "'C:\\\\Users\\\\ashis\\\\OneDrive\\\\Documents\\\\summer project\\\\summer project - 3d\\\\week2\\\\new_data\\\\image\\\\000015_10_5.png'"
      ]
     },
     "metadata": {},
     "output_type": "display_data"
    },
    {
     "data": {
      "text/plain": [
       "'C:\\\\Users\\\\ashis\\\\OneDrive\\\\Documents\\\\summer project\\\\summer project - 3d\\\\week2\\\\new_data\\\\mask\\\\000015_10_5.png'"
      ]
     },
     "metadata": {},
     "output_type": "display_data"
    },
    {
     "name": "stderr",
     "output_type": "stream",
     "text": [
      "\r",
      "  8%|██████▍                                                                          | 16/200 [00:05<00:53,  3.43it/s]"
     ]
    },
    {
     "data": {
      "text/plain": [
       "'C:\\\\Users\\\\ashis\\\\OneDrive\\\\Documents\\\\summer project\\\\summer project - 3d\\\\week2\\\\new_data\\\\image\\\\000016_10_0.png'"
      ]
     },
     "metadata": {},
     "output_type": "display_data"
    },
    {
     "data": {
      "text/plain": [
       "'C:\\\\Users\\\\ashis\\\\OneDrive\\\\Documents\\\\summer project\\\\summer project - 3d\\\\week2\\\\new_data\\\\mask\\\\000016_10_0.png'"
      ]
     },
     "metadata": {},
     "output_type": "display_data"
    },
    {
     "data": {
      "text/plain": [
       "'C:\\\\Users\\\\ashis\\\\OneDrive\\\\Documents\\\\summer project\\\\summer project - 3d\\\\week2\\\\new_data\\\\image\\\\000016_10_1.png'"
      ]
     },
     "metadata": {},
     "output_type": "display_data"
    },
    {
     "data": {
      "text/plain": [
       "'C:\\\\Users\\\\ashis\\\\OneDrive\\\\Documents\\\\summer project\\\\summer project - 3d\\\\week2\\\\new_data\\\\mask\\\\000016_10_1.png'"
      ]
     },
     "metadata": {},
     "output_type": "display_data"
    },
    {
     "data": {
      "text/plain": [
       "'C:\\\\Users\\\\ashis\\\\OneDrive\\\\Documents\\\\summer project\\\\summer project - 3d\\\\week2\\\\new_data\\\\image\\\\000016_10_2.png'"
      ]
     },
     "metadata": {},
     "output_type": "display_data"
    },
    {
     "data": {
      "text/plain": [
       "'C:\\\\Users\\\\ashis\\\\OneDrive\\\\Documents\\\\summer project\\\\summer project - 3d\\\\week2\\\\new_data\\\\mask\\\\000016_10_2.png'"
      ]
     },
     "metadata": {},
     "output_type": "display_data"
    },
    {
     "data": {
      "text/plain": [
       "'C:\\\\Users\\\\ashis\\\\OneDrive\\\\Documents\\\\summer project\\\\summer project - 3d\\\\week2\\\\new_data\\\\image\\\\000016_10_3.png'"
      ]
     },
     "metadata": {},
     "output_type": "display_data"
    },
    {
     "data": {
      "text/plain": [
       "'C:\\\\Users\\\\ashis\\\\OneDrive\\\\Documents\\\\summer project\\\\summer project - 3d\\\\week2\\\\new_data\\\\mask\\\\000016_10_3.png'"
      ]
     },
     "metadata": {},
     "output_type": "display_data"
    },
    {
     "data": {
      "text/plain": [
       "'C:\\\\Users\\\\ashis\\\\OneDrive\\\\Documents\\\\summer project\\\\summer project - 3d\\\\week2\\\\new_data\\\\image\\\\000016_10_4.png'"
      ]
     },
     "metadata": {},
     "output_type": "display_data"
    },
    {
     "data": {
      "text/plain": [
       "'C:\\\\Users\\\\ashis\\\\OneDrive\\\\Documents\\\\summer project\\\\summer project - 3d\\\\week2\\\\new_data\\\\mask\\\\000016_10_4.png'"
      ]
     },
     "metadata": {},
     "output_type": "display_data"
    },
    {
     "data": {
      "text/plain": [
       "'C:\\\\Users\\\\ashis\\\\OneDrive\\\\Documents\\\\summer project\\\\summer project - 3d\\\\week2\\\\new_data\\\\image\\\\000016_10_5.png'"
      ]
     },
     "metadata": {},
     "output_type": "display_data"
    },
    {
     "data": {
      "text/plain": [
       "'C:\\\\Users\\\\ashis\\\\OneDrive\\\\Documents\\\\summer project\\\\summer project - 3d\\\\week2\\\\new_data\\\\mask\\\\000016_10_5.png'"
      ]
     },
     "metadata": {},
     "output_type": "display_data"
    },
    {
     "name": "stderr",
     "output_type": "stream",
     "text": [
      "\r",
      "  8%|██████▉                                                                          | 17/200 [00:05<00:51,  3.52it/s]"
     ]
    },
    {
     "data": {
      "text/plain": [
       "'C:\\\\Users\\\\ashis\\\\OneDrive\\\\Documents\\\\summer project\\\\summer project - 3d\\\\week2\\\\new_data\\\\image\\\\000017_10_0.png'"
      ]
     },
     "metadata": {},
     "output_type": "display_data"
    },
    {
     "data": {
      "text/plain": [
       "'C:\\\\Users\\\\ashis\\\\OneDrive\\\\Documents\\\\summer project\\\\summer project - 3d\\\\week2\\\\new_data\\\\mask\\\\000017_10_0.png'"
      ]
     },
     "metadata": {},
     "output_type": "display_data"
    },
    {
     "data": {
      "text/plain": [
       "'C:\\\\Users\\\\ashis\\\\OneDrive\\\\Documents\\\\summer project\\\\summer project - 3d\\\\week2\\\\new_data\\\\image\\\\000017_10_1.png'"
      ]
     },
     "metadata": {},
     "output_type": "display_data"
    },
    {
     "data": {
      "text/plain": [
       "'C:\\\\Users\\\\ashis\\\\OneDrive\\\\Documents\\\\summer project\\\\summer project - 3d\\\\week2\\\\new_data\\\\mask\\\\000017_10_1.png'"
      ]
     },
     "metadata": {},
     "output_type": "display_data"
    },
    {
     "data": {
      "text/plain": [
       "'C:\\\\Users\\\\ashis\\\\OneDrive\\\\Documents\\\\summer project\\\\summer project - 3d\\\\week2\\\\new_data\\\\image\\\\000017_10_2.png'"
      ]
     },
     "metadata": {},
     "output_type": "display_data"
    },
    {
     "data": {
      "text/plain": [
       "'C:\\\\Users\\\\ashis\\\\OneDrive\\\\Documents\\\\summer project\\\\summer project - 3d\\\\week2\\\\new_data\\\\mask\\\\000017_10_2.png'"
      ]
     },
     "metadata": {},
     "output_type": "display_data"
    },
    {
     "data": {
      "text/plain": [
       "'C:\\\\Users\\\\ashis\\\\OneDrive\\\\Documents\\\\summer project\\\\summer project - 3d\\\\week2\\\\new_data\\\\image\\\\000017_10_3.png'"
      ]
     },
     "metadata": {},
     "output_type": "display_data"
    },
    {
     "data": {
      "text/plain": [
       "'C:\\\\Users\\\\ashis\\\\OneDrive\\\\Documents\\\\summer project\\\\summer project - 3d\\\\week2\\\\new_data\\\\mask\\\\000017_10_3.png'"
      ]
     },
     "metadata": {},
     "output_type": "display_data"
    },
    {
     "data": {
      "text/plain": [
       "'C:\\\\Users\\\\ashis\\\\OneDrive\\\\Documents\\\\summer project\\\\summer project - 3d\\\\week2\\\\new_data\\\\image\\\\000017_10_4.png'"
      ]
     },
     "metadata": {},
     "output_type": "display_data"
    },
    {
     "data": {
      "text/plain": [
       "'C:\\\\Users\\\\ashis\\\\OneDrive\\\\Documents\\\\summer project\\\\summer project - 3d\\\\week2\\\\new_data\\\\mask\\\\000017_10_4.png'"
      ]
     },
     "metadata": {},
     "output_type": "display_data"
    },
    {
     "data": {
      "text/plain": [
       "'C:\\\\Users\\\\ashis\\\\OneDrive\\\\Documents\\\\summer project\\\\summer project - 3d\\\\week2\\\\new_data\\\\image\\\\000017_10_5.png'"
      ]
     },
     "metadata": {},
     "output_type": "display_data"
    },
    {
     "data": {
      "text/plain": [
       "'C:\\\\Users\\\\ashis\\\\OneDrive\\\\Documents\\\\summer project\\\\summer project - 3d\\\\week2\\\\new_data\\\\mask\\\\000017_10_5.png'"
      ]
     },
     "metadata": {},
     "output_type": "display_data"
    },
    {
     "name": "stderr",
     "output_type": "stream",
     "text": [
      "\r",
      "  9%|███████▎                                                                         | 18/200 [00:05<00:51,  3.50it/s]"
     ]
    },
    {
     "data": {
      "text/plain": [
       "'C:\\\\Users\\\\ashis\\\\OneDrive\\\\Documents\\\\summer project\\\\summer project - 3d\\\\week2\\\\new_data\\\\image\\\\000018_10_0.png'"
      ]
     },
     "metadata": {},
     "output_type": "display_data"
    },
    {
     "data": {
      "text/plain": [
       "'C:\\\\Users\\\\ashis\\\\OneDrive\\\\Documents\\\\summer project\\\\summer project - 3d\\\\week2\\\\new_data\\\\mask\\\\000018_10_0.png'"
      ]
     },
     "metadata": {},
     "output_type": "display_data"
    },
    {
     "data": {
      "text/plain": [
       "'C:\\\\Users\\\\ashis\\\\OneDrive\\\\Documents\\\\summer project\\\\summer project - 3d\\\\week2\\\\new_data\\\\image\\\\000018_10_1.png'"
      ]
     },
     "metadata": {},
     "output_type": "display_data"
    },
    {
     "data": {
      "text/plain": [
       "'C:\\\\Users\\\\ashis\\\\OneDrive\\\\Documents\\\\summer project\\\\summer project - 3d\\\\week2\\\\new_data\\\\mask\\\\000018_10_1.png'"
      ]
     },
     "metadata": {},
     "output_type": "display_data"
    },
    {
     "data": {
      "text/plain": [
       "'C:\\\\Users\\\\ashis\\\\OneDrive\\\\Documents\\\\summer project\\\\summer project - 3d\\\\week2\\\\new_data\\\\image\\\\000018_10_2.png'"
      ]
     },
     "metadata": {},
     "output_type": "display_data"
    },
    {
     "data": {
      "text/plain": [
       "'C:\\\\Users\\\\ashis\\\\OneDrive\\\\Documents\\\\summer project\\\\summer project - 3d\\\\week2\\\\new_data\\\\mask\\\\000018_10_2.png'"
      ]
     },
     "metadata": {},
     "output_type": "display_data"
    },
    {
     "data": {
      "text/plain": [
       "'C:\\\\Users\\\\ashis\\\\OneDrive\\\\Documents\\\\summer project\\\\summer project - 3d\\\\week2\\\\new_data\\\\image\\\\000018_10_3.png'"
      ]
     },
     "metadata": {},
     "output_type": "display_data"
    },
    {
     "data": {
      "text/plain": [
       "'C:\\\\Users\\\\ashis\\\\OneDrive\\\\Documents\\\\summer project\\\\summer project - 3d\\\\week2\\\\new_data\\\\mask\\\\000018_10_3.png'"
      ]
     },
     "metadata": {},
     "output_type": "display_data"
    },
    {
     "data": {
      "text/plain": [
       "'C:\\\\Users\\\\ashis\\\\OneDrive\\\\Documents\\\\summer project\\\\summer project - 3d\\\\week2\\\\new_data\\\\image\\\\000018_10_4.png'"
      ]
     },
     "metadata": {},
     "output_type": "display_data"
    },
    {
     "data": {
      "text/plain": [
       "'C:\\\\Users\\\\ashis\\\\OneDrive\\\\Documents\\\\summer project\\\\summer project - 3d\\\\week2\\\\new_data\\\\mask\\\\000018_10_4.png'"
      ]
     },
     "metadata": {},
     "output_type": "display_data"
    },
    {
     "data": {
      "text/plain": [
       "'C:\\\\Users\\\\ashis\\\\OneDrive\\\\Documents\\\\summer project\\\\summer project - 3d\\\\week2\\\\new_data\\\\image\\\\000018_10_5.png'"
      ]
     },
     "metadata": {},
     "output_type": "display_data"
    },
    {
     "data": {
      "text/plain": [
       "'C:\\\\Users\\\\ashis\\\\OneDrive\\\\Documents\\\\summer project\\\\summer project - 3d\\\\week2\\\\new_data\\\\mask\\\\000018_10_5.png'"
      ]
     },
     "metadata": {},
     "output_type": "display_data"
    },
    {
     "name": "stderr",
     "output_type": "stream",
     "text": [
      "\r",
      " 10%|███████▋                                                                         | 19/200 [00:06<00:52,  3.46it/s]"
     ]
    },
    {
     "data": {
      "text/plain": [
       "'C:\\\\Users\\\\ashis\\\\OneDrive\\\\Documents\\\\summer project\\\\summer project - 3d\\\\week2\\\\new_data\\\\image\\\\000019_10_0.png'"
      ]
     },
     "metadata": {},
     "output_type": "display_data"
    },
    {
     "data": {
      "text/plain": [
       "'C:\\\\Users\\\\ashis\\\\OneDrive\\\\Documents\\\\summer project\\\\summer project - 3d\\\\week2\\\\new_data\\\\mask\\\\000019_10_0.png'"
      ]
     },
     "metadata": {},
     "output_type": "display_data"
    },
    {
     "data": {
      "text/plain": [
       "'C:\\\\Users\\\\ashis\\\\OneDrive\\\\Documents\\\\summer project\\\\summer project - 3d\\\\week2\\\\new_data\\\\image\\\\000019_10_1.png'"
      ]
     },
     "metadata": {},
     "output_type": "display_data"
    },
    {
     "data": {
      "text/plain": [
       "'C:\\\\Users\\\\ashis\\\\OneDrive\\\\Documents\\\\summer project\\\\summer project - 3d\\\\week2\\\\new_data\\\\mask\\\\000019_10_1.png'"
      ]
     },
     "metadata": {},
     "output_type": "display_data"
    },
    {
     "data": {
      "text/plain": [
       "'C:\\\\Users\\\\ashis\\\\OneDrive\\\\Documents\\\\summer project\\\\summer project - 3d\\\\week2\\\\new_data\\\\image\\\\000019_10_2.png'"
      ]
     },
     "metadata": {},
     "output_type": "display_data"
    },
    {
     "data": {
      "text/plain": [
       "'C:\\\\Users\\\\ashis\\\\OneDrive\\\\Documents\\\\summer project\\\\summer project - 3d\\\\week2\\\\new_data\\\\mask\\\\000019_10_2.png'"
      ]
     },
     "metadata": {},
     "output_type": "display_data"
    },
    {
     "data": {
      "text/plain": [
       "'C:\\\\Users\\\\ashis\\\\OneDrive\\\\Documents\\\\summer project\\\\summer project - 3d\\\\week2\\\\new_data\\\\image\\\\000019_10_3.png'"
      ]
     },
     "metadata": {},
     "output_type": "display_data"
    },
    {
     "data": {
      "text/plain": [
       "'C:\\\\Users\\\\ashis\\\\OneDrive\\\\Documents\\\\summer project\\\\summer project - 3d\\\\week2\\\\new_data\\\\mask\\\\000019_10_3.png'"
      ]
     },
     "metadata": {},
     "output_type": "display_data"
    },
    {
     "data": {
      "text/plain": [
       "'C:\\\\Users\\\\ashis\\\\OneDrive\\\\Documents\\\\summer project\\\\summer project - 3d\\\\week2\\\\new_data\\\\image\\\\000019_10_4.png'"
      ]
     },
     "metadata": {},
     "output_type": "display_data"
    },
    {
     "data": {
      "text/plain": [
       "'C:\\\\Users\\\\ashis\\\\OneDrive\\\\Documents\\\\summer project\\\\summer project - 3d\\\\week2\\\\new_data\\\\mask\\\\000019_10_4.png'"
      ]
     },
     "metadata": {},
     "output_type": "display_data"
    },
    {
     "data": {
      "text/plain": [
       "'C:\\\\Users\\\\ashis\\\\OneDrive\\\\Documents\\\\summer project\\\\summer project - 3d\\\\week2\\\\new_data\\\\image\\\\000019_10_5.png'"
      ]
     },
     "metadata": {},
     "output_type": "display_data"
    },
    {
     "data": {
      "text/plain": [
       "'C:\\\\Users\\\\ashis\\\\OneDrive\\\\Documents\\\\summer project\\\\summer project - 3d\\\\week2\\\\new_data\\\\mask\\\\000019_10_5.png'"
      ]
     },
     "metadata": {},
     "output_type": "display_data"
    },
    {
     "name": "stderr",
     "output_type": "stream",
     "text": [
      "\r",
      " 10%|████████                                                                         | 20/200 [00:06<00:52,  3.40it/s]"
     ]
    },
    {
     "data": {
      "text/plain": [
       "'C:\\\\Users\\\\ashis\\\\OneDrive\\\\Documents\\\\summer project\\\\summer project - 3d\\\\week2\\\\new_data\\\\image\\\\000020_10_0.png'"
      ]
     },
     "metadata": {},
     "output_type": "display_data"
    },
    {
     "data": {
      "text/plain": [
       "'C:\\\\Users\\\\ashis\\\\OneDrive\\\\Documents\\\\summer project\\\\summer project - 3d\\\\week2\\\\new_data\\\\mask\\\\000020_10_0.png'"
      ]
     },
     "metadata": {},
     "output_type": "display_data"
    },
    {
     "data": {
      "text/plain": [
       "'C:\\\\Users\\\\ashis\\\\OneDrive\\\\Documents\\\\summer project\\\\summer project - 3d\\\\week2\\\\new_data\\\\image\\\\000020_10_1.png'"
      ]
     },
     "metadata": {},
     "output_type": "display_data"
    },
    {
     "data": {
      "text/plain": [
       "'C:\\\\Users\\\\ashis\\\\OneDrive\\\\Documents\\\\summer project\\\\summer project - 3d\\\\week2\\\\new_data\\\\mask\\\\000020_10_1.png'"
      ]
     },
     "metadata": {},
     "output_type": "display_data"
    },
    {
     "data": {
      "text/plain": [
       "'C:\\\\Users\\\\ashis\\\\OneDrive\\\\Documents\\\\summer project\\\\summer project - 3d\\\\week2\\\\new_data\\\\image\\\\000020_10_2.png'"
      ]
     },
     "metadata": {},
     "output_type": "display_data"
    },
    {
     "data": {
      "text/plain": [
       "'C:\\\\Users\\\\ashis\\\\OneDrive\\\\Documents\\\\summer project\\\\summer project - 3d\\\\week2\\\\new_data\\\\mask\\\\000020_10_2.png'"
      ]
     },
     "metadata": {},
     "output_type": "display_data"
    },
    {
     "data": {
      "text/plain": [
       "'C:\\\\Users\\\\ashis\\\\OneDrive\\\\Documents\\\\summer project\\\\summer project - 3d\\\\week2\\\\new_data\\\\image\\\\000020_10_3.png'"
      ]
     },
     "metadata": {},
     "output_type": "display_data"
    },
    {
     "data": {
      "text/plain": [
       "'C:\\\\Users\\\\ashis\\\\OneDrive\\\\Documents\\\\summer project\\\\summer project - 3d\\\\week2\\\\new_data\\\\mask\\\\000020_10_3.png'"
      ]
     },
     "metadata": {},
     "output_type": "display_data"
    },
    {
     "data": {
      "text/plain": [
       "'C:\\\\Users\\\\ashis\\\\OneDrive\\\\Documents\\\\summer project\\\\summer project - 3d\\\\week2\\\\new_data\\\\image\\\\000020_10_4.png'"
      ]
     },
     "metadata": {},
     "output_type": "display_data"
    },
    {
     "data": {
      "text/plain": [
       "'C:\\\\Users\\\\ashis\\\\OneDrive\\\\Documents\\\\summer project\\\\summer project - 3d\\\\week2\\\\new_data\\\\mask\\\\000020_10_4.png'"
      ]
     },
     "metadata": {},
     "output_type": "display_data"
    },
    {
     "data": {
      "text/plain": [
       "'C:\\\\Users\\\\ashis\\\\OneDrive\\\\Documents\\\\summer project\\\\summer project - 3d\\\\week2\\\\new_data\\\\image\\\\000020_10_5.png'"
      ]
     },
     "metadata": {},
     "output_type": "display_data"
    },
    {
     "data": {
      "text/plain": [
       "'C:\\\\Users\\\\ashis\\\\OneDrive\\\\Documents\\\\summer project\\\\summer project - 3d\\\\week2\\\\new_data\\\\mask\\\\000020_10_5.png'"
      ]
     },
     "metadata": {},
     "output_type": "display_data"
    },
    {
     "name": "stderr",
     "output_type": "stream",
     "text": [
      "\r",
      " 10%|████████▌                                                                        | 21/200 [00:06<00:51,  3.49it/s]"
     ]
    },
    {
     "data": {
      "text/plain": [
       "'C:\\\\Users\\\\ashis\\\\OneDrive\\\\Documents\\\\summer project\\\\summer project - 3d\\\\week2\\\\new_data\\\\image\\\\000021_10_0.png'"
      ]
     },
     "metadata": {},
     "output_type": "display_data"
    },
    {
     "data": {
      "text/plain": [
       "'C:\\\\Users\\\\ashis\\\\OneDrive\\\\Documents\\\\summer project\\\\summer project - 3d\\\\week2\\\\new_data\\\\mask\\\\000021_10_0.png'"
      ]
     },
     "metadata": {},
     "output_type": "display_data"
    },
    {
     "data": {
      "text/plain": [
       "'C:\\\\Users\\\\ashis\\\\OneDrive\\\\Documents\\\\summer project\\\\summer project - 3d\\\\week2\\\\new_data\\\\image\\\\000021_10_1.png'"
      ]
     },
     "metadata": {},
     "output_type": "display_data"
    },
    {
     "data": {
      "text/plain": [
       "'C:\\\\Users\\\\ashis\\\\OneDrive\\\\Documents\\\\summer project\\\\summer project - 3d\\\\week2\\\\new_data\\\\mask\\\\000021_10_1.png'"
      ]
     },
     "metadata": {},
     "output_type": "display_data"
    },
    {
     "data": {
      "text/plain": [
       "'C:\\\\Users\\\\ashis\\\\OneDrive\\\\Documents\\\\summer project\\\\summer project - 3d\\\\week2\\\\new_data\\\\image\\\\000021_10_2.png'"
      ]
     },
     "metadata": {},
     "output_type": "display_data"
    },
    {
     "data": {
      "text/plain": [
       "'C:\\\\Users\\\\ashis\\\\OneDrive\\\\Documents\\\\summer project\\\\summer project - 3d\\\\week2\\\\new_data\\\\mask\\\\000021_10_2.png'"
      ]
     },
     "metadata": {},
     "output_type": "display_data"
    },
    {
     "data": {
      "text/plain": [
       "'C:\\\\Users\\\\ashis\\\\OneDrive\\\\Documents\\\\summer project\\\\summer project - 3d\\\\week2\\\\new_data\\\\image\\\\000021_10_3.png'"
      ]
     },
     "metadata": {},
     "output_type": "display_data"
    },
    {
     "data": {
      "text/plain": [
       "'C:\\\\Users\\\\ashis\\\\OneDrive\\\\Documents\\\\summer project\\\\summer project - 3d\\\\week2\\\\new_data\\\\mask\\\\000021_10_3.png'"
      ]
     },
     "metadata": {},
     "output_type": "display_data"
    },
    {
     "data": {
      "text/plain": [
       "'C:\\\\Users\\\\ashis\\\\OneDrive\\\\Documents\\\\summer project\\\\summer project - 3d\\\\week2\\\\new_data\\\\image\\\\000021_10_4.png'"
      ]
     },
     "metadata": {},
     "output_type": "display_data"
    },
    {
     "data": {
      "text/plain": [
       "'C:\\\\Users\\\\ashis\\\\OneDrive\\\\Documents\\\\summer project\\\\summer project - 3d\\\\week2\\\\new_data\\\\mask\\\\000021_10_4.png'"
      ]
     },
     "metadata": {},
     "output_type": "display_data"
    },
    {
     "data": {
      "text/plain": [
       "'C:\\\\Users\\\\ashis\\\\OneDrive\\\\Documents\\\\summer project\\\\summer project - 3d\\\\week2\\\\new_data\\\\image\\\\000021_10_5.png'"
      ]
     },
     "metadata": {},
     "output_type": "display_data"
    },
    {
     "data": {
      "text/plain": [
       "'C:\\\\Users\\\\ashis\\\\OneDrive\\\\Documents\\\\summer project\\\\summer project - 3d\\\\week2\\\\new_data\\\\mask\\\\000021_10_5.png'"
      ]
     },
     "metadata": {},
     "output_type": "display_data"
    },
    {
     "name": "stderr",
     "output_type": "stream",
     "text": [
      "\r",
      " 11%|████████▉                                                                        | 22/200 [00:07<00:49,  3.57it/s]"
     ]
    },
    {
     "data": {
      "text/plain": [
       "'C:\\\\Users\\\\ashis\\\\OneDrive\\\\Documents\\\\summer project\\\\summer project - 3d\\\\week2\\\\new_data\\\\image\\\\000022_10_0.png'"
      ]
     },
     "metadata": {},
     "output_type": "display_data"
    },
    {
     "data": {
      "text/plain": [
       "'C:\\\\Users\\\\ashis\\\\OneDrive\\\\Documents\\\\summer project\\\\summer project - 3d\\\\week2\\\\new_data\\\\mask\\\\000022_10_0.png'"
      ]
     },
     "metadata": {},
     "output_type": "display_data"
    },
    {
     "data": {
      "text/plain": [
       "'C:\\\\Users\\\\ashis\\\\OneDrive\\\\Documents\\\\summer project\\\\summer project - 3d\\\\week2\\\\new_data\\\\image\\\\000022_10_1.png'"
      ]
     },
     "metadata": {},
     "output_type": "display_data"
    },
    {
     "data": {
      "text/plain": [
       "'C:\\\\Users\\\\ashis\\\\OneDrive\\\\Documents\\\\summer project\\\\summer project - 3d\\\\week2\\\\new_data\\\\mask\\\\000022_10_1.png'"
      ]
     },
     "metadata": {},
     "output_type": "display_data"
    },
    {
     "data": {
      "text/plain": [
       "'C:\\\\Users\\\\ashis\\\\OneDrive\\\\Documents\\\\summer project\\\\summer project - 3d\\\\week2\\\\new_data\\\\image\\\\000022_10_2.png'"
      ]
     },
     "metadata": {},
     "output_type": "display_data"
    },
    {
     "data": {
      "text/plain": [
       "'C:\\\\Users\\\\ashis\\\\OneDrive\\\\Documents\\\\summer project\\\\summer project - 3d\\\\week2\\\\new_data\\\\mask\\\\000022_10_2.png'"
      ]
     },
     "metadata": {},
     "output_type": "display_data"
    },
    {
     "data": {
      "text/plain": [
       "'C:\\\\Users\\\\ashis\\\\OneDrive\\\\Documents\\\\summer project\\\\summer project - 3d\\\\week2\\\\new_data\\\\image\\\\000022_10_3.png'"
      ]
     },
     "metadata": {},
     "output_type": "display_data"
    },
    {
     "data": {
      "text/plain": [
       "'C:\\\\Users\\\\ashis\\\\OneDrive\\\\Documents\\\\summer project\\\\summer project - 3d\\\\week2\\\\new_data\\\\mask\\\\000022_10_3.png'"
      ]
     },
     "metadata": {},
     "output_type": "display_data"
    },
    {
     "data": {
      "text/plain": [
       "'C:\\\\Users\\\\ashis\\\\OneDrive\\\\Documents\\\\summer project\\\\summer project - 3d\\\\week2\\\\new_data\\\\image\\\\000022_10_4.png'"
      ]
     },
     "metadata": {},
     "output_type": "display_data"
    },
    {
     "data": {
      "text/plain": [
       "'C:\\\\Users\\\\ashis\\\\OneDrive\\\\Documents\\\\summer project\\\\summer project - 3d\\\\week2\\\\new_data\\\\mask\\\\000022_10_4.png'"
      ]
     },
     "metadata": {},
     "output_type": "display_data"
    },
    {
     "data": {
      "text/plain": [
       "'C:\\\\Users\\\\ashis\\\\OneDrive\\\\Documents\\\\summer project\\\\summer project - 3d\\\\week2\\\\new_data\\\\image\\\\000022_10_5.png'"
      ]
     },
     "metadata": {},
     "output_type": "display_data"
    },
    {
     "data": {
      "text/plain": [
       "'C:\\\\Users\\\\ashis\\\\OneDrive\\\\Documents\\\\summer project\\\\summer project - 3d\\\\week2\\\\new_data\\\\mask\\\\000022_10_5.png'"
      ]
     },
     "metadata": {},
     "output_type": "display_data"
    },
    {
     "name": "stderr",
     "output_type": "stream",
     "text": [
      "\r",
      " 12%|█████████▎                                                                       | 23/200 [00:07<00:48,  3.61it/s]"
     ]
    },
    {
     "data": {
      "text/plain": [
       "'C:\\\\Users\\\\ashis\\\\OneDrive\\\\Documents\\\\summer project\\\\summer project - 3d\\\\week2\\\\new_data\\\\image\\\\000023_10_0.png'"
      ]
     },
     "metadata": {},
     "output_type": "display_data"
    },
    {
     "data": {
      "text/plain": [
       "'C:\\\\Users\\\\ashis\\\\OneDrive\\\\Documents\\\\summer project\\\\summer project - 3d\\\\week2\\\\new_data\\\\mask\\\\000023_10_0.png'"
      ]
     },
     "metadata": {},
     "output_type": "display_data"
    },
    {
     "data": {
      "text/plain": [
       "'C:\\\\Users\\\\ashis\\\\OneDrive\\\\Documents\\\\summer project\\\\summer project - 3d\\\\week2\\\\new_data\\\\image\\\\000023_10_1.png'"
      ]
     },
     "metadata": {},
     "output_type": "display_data"
    },
    {
     "data": {
      "text/plain": [
       "'C:\\\\Users\\\\ashis\\\\OneDrive\\\\Documents\\\\summer project\\\\summer project - 3d\\\\week2\\\\new_data\\\\mask\\\\000023_10_1.png'"
      ]
     },
     "metadata": {},
     "output_type": "display_data"
    },
    {
     "data": {
      "text/plain": [
       "'C:\\\\Users\\\\ashis\\\\OneDrive\\\\Documents\\\\summer project\\\\summer project - 3d\\\\week2\\\\new_data\\\\image\\\\000023_10_2.png'"
      ]
     },
     "metadata": {},
     "output_type": "display_data"
    },
    {
     "data": {
      "text/plain": [
       "'C:\\\\Users\\\\ashis\\\\OneDrive\\\\Documents\\\\summer project\\\\summer project - 3d\\\\week2\\\\new_data\\\\mask\\\\000023_10_2.png'"
      ]
     },
     "metadata": {},
     "output_type": "display_data"
    },
    {
     "data": {
      "text/plain": [
       "'C:\\\\Users\\\\ashis\\\\OneDrive\\\\Documents\\\\summer project\\\\summer project - 3d\\\\week2\\\\new_data\\\\image\\\\000023_10_3.png'"
      ]
     },
     "metadata": {},
     "output_type": "display_data"
    },
    {
     "data": {
      "text/plain": [
       "'C:\\\\Users\\\\ashis\\\\OneDrive\\\\Documents\\\\summer project\\\\summer project - 3d\\\\week2\\\\new_data\\\\mask\\\\000023_10_3.png'"
      ]
     },
     "metadata": {},
     "output_type": "display_data"
    },
    {
     "data": {
      "text/plain": [
       "'C:\\\\Users\\\\ashis\\\\OneDrive\\\\Documents\\\\summer project\\\\summer project - 3d\\\\week2\\\\new_data\\\\image\\\\000023_10_4.png'"
      ]
     },
     "metadata": {},
     "output_type": "display_data"
    },
    {
     "data": {
      "text/plain": [
       "'C:\\\\Users\\\\ashis\\\\OneDrive\\\\Documents\\\\summer project\\\\summer project - 3d\\\\week2\\\\new_data\\\\mask\\\\000023_10_4.png'"
      ]
     },
     "metadata": {},
     "output_type": "display_data"
    },
    {
     "data": {
      "text/plain": [
       "'C:\\\\Users\\\\ashis\\\\OneDrive\\\\Documents\\\\summer project\\\\summer project - 3d\\\\week2\\\\new_data\\\\image\\\\000023_10_5.png'"
      ]
     },
     "metadata": {},
     "output_type": "display_data"
    },
    {
     "data": {
      "text/plain": [
       "'C:\\\\Users\\\\ashis\\\\OneDrive\\\\Documents\\\\summer project\\\\summer project - 3d\\\\week2\\\\new_data\\\\mask\\\\000023_10_5.png'"
      ]
     },
     "metadata": {},
     "output_type": "display_data"
    },
    {
     "name": "stderr",
     "output_type": "stream",
     "text": [
      "\r",
      " 12%|█████████▋                                                                       | 24/200 [00:07<00:48,  3.63it/s]"
     ]
    },
    {
     "data": {
      "text/plain": [
       "'C:\\\\Users\\\\ashis\\\\OneDrive\\\\Documents\\\\summer project\\\\summer project - 3d\\\\week2\\\\new_data\\\\image\\\\000024_10_0.png'"
      ]
     },
     "metadata": {},
     "output_type": "display_data"
    },
    {
     "data": {
      "text/plain": [
       "'C:\\\\Users\\\\ashis\\\\OneDrive\\\\Documents\\\\summer project\\\\summer project - 3d\\\\week2\\\\new_data\\\\mask\\\\000024_10_0.png'"
      ]
     },
     "metadata": {},
     "output_type": "display_data"
    },
    {
     "data": {
      "text/plain": [
       "'C:\\\\Users\\\\ashis\\\\OneDrive\\\\Documents\\\\summer project\\\\summer project - 3d\\\\week2\\\\new_data\\\\image\\\\000024_10_1.png'"
      ]
     },
     "metadata": {},
     "output_type": "display_data"
    },
    {
     "data": {
      "text/plain": [
       "'C:\\\\Users\\\\ashis\\\\OneDrive\\\\Documents\\\\summer project\\\\summer project - 3d\\\\week2\\\\new_data\\\\mask\\\\000024_10_1.png'"
      ]
     },
     "metadata": {},
     "output_type": "display_data"
    },
    {
     "data": {
      "text/plain": [
       "'C:\\\\Users\\\\ashis\\\\OneDrive\\\\Documents\\\\summer project\\\\summer project - 3d\\\\week2\\\\new_data\\\\image\\\\000024_10_2.png'"
      ]
     },
     "metadata": {},
     "output_type": "display_data"
    },
    {
     "data": {
      "text/plain": [
       "'C:\\\\Users\\\\ashis\\\\OneDrive\\\\Documents\\\\summer project\\\\summer project - 3d\\\\week2\\\\new_data\\\\mask\\\\000024_10_2.png'"
      ]
     },
     "metadata": {},
     "output_type": "display_data"
    },
    {
     "data": {
      "text/plain": [
       "'C:\\\\Users\\\\ashis\\\\OneDrive\\\\Documents\\\\summer project\\\\summer project - 3d\\\\week2\\\\new_data\\\\image\\\\000024_10_3.png'"
      ]
     },
     "metadata": {},
     "output_type": "display_data"
    },
    {
     "data": {
      "text/plain": [
       "'C:\\\\Users\\\\ashis\\\\OneDrive\\\\Documents\\\\summer project\\\\summer project - 3d\\\\week2\\\\new_data\\\\mask\\\\000024_10_3.png'"
      ]
     },
     "metadata": {},
     "output_type": "display_data"
    },
    {
     "data": {
      "text/plain": [
       "'C:\\\\Users\\\\ashis\\\\OneDrive\\\\Documents\\\\summer project\\\\summer project - 3d\\\\week2\\\\new_data\\\\image\\\\000024_10_4.png'"
      ]
     },
     "metadata": {},
     "output_type": "display_data"
    },
    {
     "data": {
      "text/plain": [
       "'C:\\\\Users\\\\ashis\\\\OneDrive\\\\Documents\\\\summer project\\\\summer project - 3d\\\\week2\\\\new_data\\\\mask\\\\000024_10_4.png'"
      ]
     },
     "metadata": {},
     "output_type": "display_data"
    },
    {
     "data": {
      "text/plain": [
       "'C:\\\\Users\\\\ashis\\\\OneDrive\\\\Documents\\\\summer project\\\\summer project - 3d\\\\week2\\\\new_data\\\\image\\\\000024_10_5.png'"
      ]
     },
     "metadata": {},
     "output_type": "display_data"
    },
    {
     "data": {
      "text/plain": [
       "'C:\\\\Users\\\\ashis\\\\OneDrive\\\\Documents\\\\summer project\\\\summer project - 3d\\\\week2\\\\new_data\\\\mask\\\\000024_10_5.png'"
      ]
     },
     "metadata": {},
     "output_type": "display_data"
    },
    {
     "name": "stderr",
     "output_type": "stream",
     "text": [
      "\r",
      " 12%|██████████▏                                                                      | 25/200 [00:07<00:48,  3.63it/s]"
     ]
    },
    {
     "data": {
      "text/plain": [
       "'C:\\\\Users\\\\ashis\\\\OneDrive\\\\Documents\\\\summer project\\\\summer project - 3d\\\\week2\\\\new_data\\\\image\\\\000025_10_0.png'"
      ]
     },
     "metadata": {},
     "output_type": "display_data"
    },
    {
     "data": {
      "text/plain": [
       "'C:\\\\Users\\\\ashis\\\\OneDrive\\\\Documents\\\\summer project\\\\summer project - 3d\\\\week2\\\\new_data\\\\mask\\\\000025_10_0.png'"
      ]
     },
     "metadata": {},
     "output_type": "display_data"
    },
    {
     "data": {
      "text/plain": [
       "'C:\\\\Users\\\\ashis\\\\OneDrive\\\\Documents\\\\summer project\\\\summer project - 3d\\\\week2\\\\new_data\\\\image\\\\000025_10_1.png'"
      ]
     },
     "metadata": {},
     "output_type": "display_data"
    },
    {
     "data": {
      "text/plain": [
       "'C:\\\\Users\\\\ashis\\\\OneDrive\\\\Documents\\\\summer project\\\\summer project - 3d\\\\week2\\\\new_data\\\\mask\\\\000025_10_1.png'"
      ]
     },
     "metadata": {},
     "output_type": "display_data"
    },
    {
     "data": {
      "text/plain": [
       "'C:\\\\Users\\\\ashis\\\\OneDrive\\\\Documents\\\\summer project\\\\summer project - 3d\\\\week2\\\\new_data\\\\image\\\\000025_10_2.png'"
      ]
     },
     "metadata": {},
     "output_type": "display_data"
    },
    {
     "data": {
      "text/plain": [
       "'C:\\\\Users\\\\ashis\\\\OneDrive\\\\Documents\\\\summer project\\\\summer project - 3d\\\\week2\\\\new_data\\\\mask\\\\000025_10_2.png'"
      ]
     },
     "metadata": {},
     "output_type": "display_data"
    },
    {
     "data": {
      "text/plain": [
       "'C:\\\\Users\\\\ashis\\\\OneDrive\\\\Documents\\\\summer project\\\\summer project - 3d\\\\week2\\\\new_data\\\\image\\\\000025_10_3.png'"
      ]
     },
     "metadata": {},
     "output_type": "display_data"
    },
    {
     "data": {
      "text/plain": [
       "'C:\\\\Users\\\\ashis\\\\OneDrive\\\\Documents\\\\summer project\\\\summer project - 3d\\\\week2\\\\new_data\\\\mask\\\\000025_10_3.png'"
      ]
     },
     "metadata": {},
     "output_type": "display_data"
    },
    {
     "data": {
      "text/plain": [
       "'C:\\\\Users\\\\ashis\\\\OneDrive\\\\Documents\\\\summer project\\\\summer project - 3d\\\\week2\\\\new_data\\\\image\\\\000025_10_4.png'"
      ]
     },
     "metadata": {},
     "output_type": "display_data"
    },
    {
     "data": {
      "text/plain": [
       "'C:\\\\Users\\\\ashis\\\\OneDrive\\\\Documents\\\\summer project\\\\summer project - 3d\\\\week2\\\\new_data\\\\mask\\\\000025_10_4.png'"
      ]
     },
     "metadata": {},
     "output_type": "display_data"
    },
    {
     "data": {
      "text/plain": [
       "'C:\\\\Users\\\\ashis\\\\OneDrive\\\\Documents\\\\summer project\\\\summer project - 3d\\\\week2\\\\new_data\\\\image\\\\000025_10_5.png'"
      ]
     },
     "metadata": {},
     "output_type": "display_data"
    },
    {
     "data": {
      "text/plain": [
       "'C:\\\\Users\\\\ashis\\\\OneDrive\\\\Documents\\\\summer project\\\\summer project - 3d\\\\week2\\\\new_data\\\\mask\\\\000025_10_5.png'"
      ]
     },
     "metadata": {},
     "output_type": "display_data"
    },
    {
     "name": "stderr",
     "output_type": "stream",
     "text": [
      "\r",
      " 13%|██████████▌                                                                      | 26/200 [00:08<00:48,  3.56it/s]"
     ]
    },
    {
     "data": {
      "text/plain": [
       "'C:\\\\Users\\\\ashis\\\\OneDrive\\\\Documents\\\\summer project\\\\summer project - 3d\\\\week2\\\\new_data\\\\image\\\\000026_10_0.png'"
      ]
     },
     "metadata": {},
     "output_type": "display_data"
    },
    {
     "data": {
      "text/plain": [
       "'C:\\\\Users\\\\ashis\\\\OneDrive\\\\Documents\\\\summer project\\\\summer project - 3d\\\\week2\\\\new_data\\\\mask\\\\000026_10_0.png'"
      ]
     },
     "metadata": {},
     "output_type": "display_data"
    },
    {
     "data": {
      "text/plain": [
       "'C:\\\\Users\\\\ashis\\\\OneDrive\\\\Documents\\\\summer project\\\\summer project - 3d\\\\week2\\\\new_data\\\\image\\\\000026_10_1.png'"
      ]
     },
     "metadata": {},
     "output_type": "display_data"
    },
    {
     "data": {
      "text/plain": [
       "'C:\\\\Users\\\\ashis\\\\OneDrive\\\\Documents\\\\summer project\\\\summer project - 3d\\\\week2\\\\new_data\\\\mask\\\\000026_10_1.png'"
      ]
     },
     "metadata": {},
     "output_type": "display_data"
    },
    {
     "data": {
      "text/plain": [
       "'C:\\\\Users\\\\ashis\\\\OneDrive\\\\Documents\\\\summer project\\\\summer project - 3d\\\\week2\\\\new_data\\\\image\\\\000026_10_2.png'"
      ]
     },
     "metadata": {},
     "output_type": "display_data"
    },
    {
     "data": {
      "text/plain": [
       "'C:\\\\Users\\\\ashis\\\\OneDrive\\\\Documents\\\\summer project\\\\summer project - 3d\\\\week2\\\\new_data\\\\mask\\\\000026_10_2.png'"
      ]
     },
     "metadata": {},
     "output_type": "display_data"
    },
    {
     "data": {
      "text/plain": [
       "'C:\\\\Users\\\\ashis\\\\OneDrive\\\\Documents\\\\summer project\\\\summer project - 3d\\\\week2\\\\new_data\\\\image\\\\000026_10_3.png'"
      ]
     },
     "metadata": {},
     "output_type": "display_data"
    },
    {
     "data": {
      "text/plain": [
       "'C:\\\\Users\\\\ashis\\\\OneDrive\\\\Documents\\\\summer project\\\\summer project - 3d\\\\week2\\\\new_data\\\\mask\\\\000026_10_3.png'"
      ]
     },
     "metadata": {},
     "output_type": "display_data"
    },
    {
     "data": {
      "text/plain": [
       "'C:\\\\Users\\\\ashis\\\\OneDrive\\\\Documents\\\\summer project\\\\summer project - 3d\\\\week2\\\\new_data\\\\image\\\\000026_10_4.png'"
      ]
     },
     "metadata": {},
     "output_type": "display_data"
    },
    {
     "data": {
      "text/plain": [
       "'C:\\\\Users\\\\ashis\\\\OneDrive\\\\Documents\\\\summer project\\\\summer project - 3d\\\\week2\\\\new_data\\\\mask\\\\000026_10_4.png'"
      ]
     },
     "metadata": {},
     "output_type": "display_data"
    },
    {
     "data": {
      "text/plain": [
       "'C:\\\\Users\\\\ashis\\\\OneDrive\\\\Documents\\\\summer project\\\\summer project - 3d\\\\week2\\\\new_data\\\\image\\\\000026_10_5.png'"
      ]
     },
     "metadata": {},
     "output_type": "display_data"
    },
    {
     "data": {
      "text/plain": [
       "'C:\\\\Users\\\\ashis\\\\OneDrive\\\\Documents\\\\summer project\\\\summer project - 3d\\\\week2\\\\new_data\\\\mask\\\\000026_10_5.png'"
      ]
     },
     "metadata": {},
     "output_type": "display_data"
    },
    {
     "name": "stderr",
     "output_type": "stream",
     "text": [
      "\r",
      " 14%|██████████▉                                                                      | 27/200 [00:08<00:50,  3.43it/s]"
     ]
    },
    {
     "data": {
      "text/plain": [
       "'C:\\\\Users\\\\ashis\\\\OneDrive\\\\Documents\\\\summer project\\\\summer project - 3d\\\\week2\\\\new_data\\\\image\\\\000027_10_0.png'"
      ]
     },
     "metadata": {},
     "output_type": "display_data"
    },
    {
     "data": {
      "text/plain": [
       "'C:\\\\Users\\\\ashis\\\\OneDrive\\\\Documents\\\\summer project\\\\summer project - 3d\\\\week2\\\\new_data\\\\mask\\\\000027_10_0.png'"
      ]
     },
     "metadata": {},
     "output_type": "display_data"
    },
    {
     "data": {
      "text/plain": [
       "'C:\\\\Users\\\\ashis\\\\OneDrive\\\\Documents\\\\summer project\\\\summer project - 3d\\\\week2\\\\new_data\\\\image\\\\000027_10_1.png'"
      ]
     },
     "metadata": {},
     "output_type": "display_data"
    },
    {
     "data": {
      "text/plain": [
       "'C:\\\\Users\\\\ashis\\\\OneDrive\\\\Documents\\\\summer project\\\\summer project - 3d\\\\week2\\\\new_data\\\\mask\\\\000027_10_1.png'"
      ]
     },
     "metadata": {},
     "output_type": "display_data"
    },
    {
     "data": {
      "text/plain": [
       "'C:\\\\Users\\\\ashis\\\\OneDrive\\\\Documents\\\\summer project\\\\summer project - 3d\\\\week2\\\\new_data\\\\image\\\\000027_10_2.png'"
      ]
     },
     "metadata": {},
     "output_type": "display_data"
    },
    {
     "data": {
      "text/plain": [
       "'C:\\\\Users\\\\ashis\\\\OneDrive\\\\Documents\\\\summer project\\\\summer project - 3d\\\\week2\\\\new_data\\\\mask\\\\000027_10_2.png'"
      ]
     },
     "metadata": {},
     "output_type": "display_data"
    },
    {
     "data": {
      "text/plain": [
       "'C:\\\\Users\\\\ashis\\\\OneDrive\\\\Documents\\\\summer project\\\\summer project - 3d\\\\week2\\\\new_data\\\\image\\\\000027_10_3.png'"
      ]
     },
     "metadata": {},
     "output_type": "display_data"
    },
    {
     "data": {
      "text/plain": [
       "'C:\\\\Users\\\\ashis\\\\OneDrive\\\\Documents\\\\summer project\\\\summer project - 3d\\\\week2\\\\new_data\\\\mask\\\\000027_10_3.png'"
      ]
     },
     "metadata": {},
     "output_type": "display_data"
    },
    {
     "data": {
      "text/plain": [
       "'C:\\\\Users\\\\ashis\\\\OneDrive\\\\Documents\\\\summer project\\\\summer project - 3d\\\\week2\\\\new_data\\\\image\\\\000027_10_4.png'"
      ]
     },
     "metadata": {},
     "output_type": "display_data"
    },
    {
     "data": {
      "text/plain": [
       "'C:\\\\Users\\\\ashis\\\\OneDrive\\\\Documents\\\\summer project\\\\summer project - 3d\\\\week2\\\\new_data\\\\mask\\\\000027_10_4.png'"
      ]
     },
     "metadata": {},
     "output_type": "display_data"
    },
    {
     "data": {
      "text/plain": [
       "'C:\\\\Users\\\\ashis\\\\OneDrive\\\\Documents\\\\summer project\\\\summer project - 3d\\\\week2\\\\new_data\\\\image\\\\000027_10_5.png'"
      ]
     },
     "metadata": {},
     "output_type": "display_data"
    },
    {
     "data": {
      "text/plain": [
       "'C:\\\\Users\\\\ashis\\\\OneDrive\\\\Documents\\\\summer project\\\\summer project - 3d\\\\week2\\\\new_data\\\\mask\\\\000027_10_5.png'"
      ]
     },
     "metadata": {},
     "output_type": "display_data"
    },
    {
     "name": "stderr",
     "output_type": "stream",
     "text": [
      "\r",
      " 14%|███████████▎                                                                     | 28/200 [00:08<00:49,  3.45it/s]"
     ]
    },
    {
     "data": {
      "text/plain": [
       "'C:\\\\Users\\\\ashis\\\\OneDrive\\\\Documents\\\\summer project\\\\summer project - 3d\\\\week2\\\\new_data\\\\image\\\\000028_10_0.png'"
      ]
     },
     "metadata": {},
     "output_type": "display_data"
    },
    {
     "data": {
      "text/plain": [
       "'C:\\\\Users\\\\ashis\\\\OneDrive\\\\Documents\\\\summer project\\\\summer project - 3d\\\\week2\\\\new_data\\\\mask\\\\000028_10_0.png'"
      ]
     },
     "metadata": {},
     "output_type": "display_data"
    },
    {
     "data": {
      "text/plain": [
       "'C:\\\\Users\\\\ashis\\\\OneDrive\\\\Documents\\\\summer project\\\\summer project - 3d\\\\week2\\\\new_data\\\\image\\\\000028_10_1.png'"
      ]
     },
     "metadata": {},
     "output_type": "display_data"
    },
    {
     "data": {
      "text/plain": [
       "'C:\\\\Users\\\\ashis\\\\OneDrive\\\\Documents\\\\summer project\\\\summer project - 3d\\\\week2\\\\new_data\\\\mask\\\\000028_10_1.png'"
      ]
     },
     "metadata": {},
     "output_type": "display_data"
    },
    {
     "data": {
      "text/plain": [
       "'C:\\\\Users\\\\ashis\\\\OneDrive\\\\Documents\\\\summer project\\\\summer project - 3d\\\\week2\\\\new_data\\\\image\\\\000028_10_2.png'"
      ]
     },
     "metadata": {},
     "output_type": "display_data"
    },
    {
     "data": {
      "text/plain": [
       "'C:\\\\Users\\\\ashis\\\\OneDrive\\\\Documents\\\\summer project\\\\summer project - 3d\\\\week2\\\\new_data\\\\mask\\\\000028_10_2.png'"
      ]
     },
     "metadata": {},
     "output_type": "display_data"
    },
    {
     "data": {
      "text/plain": [
       "'C:\\\\Users\\\\ashis\\\\OneDrive\\\\Documents\\\\summer project\\\\summer project - 3d\\\\week2\\\\new_data\\\\image\\\\000028_10_3.png'"
      ]
     },
     "metadata": {},
     "output_type": "display_data"
    },
    {
     "data": {
      "text/plain": [
       "'C:\\\\Users\\\\ashis\\\\OneDrive\\\\Documents\\\\summer project\\\\summer project - 3d\\\\week2\\\\new_data\\\\mask\\\\000028_10_3.png'"
      ]
     },
     "metadata": {},
     "output_type": "display_data"
    },
    {
     "data": {
      "text/plain": [
       "'C:\\\\Users\\\\ashis\\\\OneDrive\\\\Documents\\\\summer project\\\\summer project - 3d\\\\week2\\\\new_data\\\\image\\\\000028_10_4.png'"
      ]
     },
     "metadata": {},
     "output_type": "display_data"
    },
    {
     "data": {
      "text/plain": [
       "'C:\\\\Users\\\\ashis\\\\OneDrive\\\\Documents\\\\summer project\\\\summer project - 3d\\\\week2\\\\new_data\\\\mask\\\\000028_10_4.png'"
      ]
     },
     "metadata": {},
     "output_type": "display_data"
    },
    {
     "data": {
      "text/plain": [
       "'C:\\\\Users\\\\ashis\\\\OneDrive\\\\Documents\\\\summer project\\\\summer project - 3d\\\\week2\\\\new_data\\\\image\\\\000028_10_5.png'"
      ]
     },
     "metadata": {},
     "output_type": "display_data"
    },
    {
     "data": {
      "text/plain": [
       "'C:\\\\Users\\\\ashis\\\\OneDrive\\\\Documents\\\\summer project\\\\summer project - 3d\\\\week2\\\\new_data\\\\mask\\\\000028_10_5.png'"
      ]
     },
     "metadata": {},
     "output_type": "display_data"
    },
    {
     "name": "stderr",
     "output_type": "stream",
     "text": [
      "\r",
      " 14%|███████████▋                                                                     | 29/200 [00:09<00:48,  3.54it/s]"
     ]
    },
    {
     "data": {
      "text/plain": [
       "'C:\\\\Users\\\\ashis\\\\OneDrive\\\\Documents\\\\summer project\\\\summer project - 3d\\\\week2\\\\new_data\\\\image\\\\000029_10_0.png'"
      ]
     },
     "metadata": {},
     "output_type": "display_data"
    },
    {
     "data": {
      "text/plain": [
       "'C:\\\\Users\\\\ashis\\\\OneDrive\\\\Documents\\\\summer project\\\\summer project - 3d\\\\week2\\\\new_data\\\\mask\\\\000029_10_0.png'"
      ]
     },
     "metadata": {},
     "output_type": "display_data"
    },
    {
     "data": {
      "text/plain": [
       "'C:\\\\Users\\\\ashis\\\\OneDrive\\\\Documents\\\\summer project\\\\summer project - 3d\\\\week2\\\\new_data\\\\image\\\\000029_10_1.png'"
      ]
     },
     "metadata": {},
     "output_type": "display_data"
    },
    {
     "data": {
      "text/plain": [
       "'C:\\\\Users\\\\ashis\\\\OneDrive\\\\Documents\\\\summer project\\\\summer project - 3d\\\\week2\\\\new_data\\\\mask\\\\000029_10_1.png'"
      ]
     },
     "metadata": {},
     "output_type": "display_data"
    },
    {
     "data": {
      "text/plain": [
       "'C:\\\\Users\\\\ashis\\\\OneDrive\\\\Documents\\\\summer project\\\\summer project - 3d\\\\week2\\\\new_data\\\\image\\\\000029_10_2.png'"
      ]
     },
     "metadata": {},
     "output_type": "display_data"
    },
    {
     "data": {
      "text/plain": [
       "'C:\\\\Users\\\\ashis\\\\OneDrive\\\\Documents\\\\summer project\\\\summer project - 3d\\\\week2\\\\new_data\\\\mask\\\\000029_10_2.png'"
      ]
     },
     "metadata": {},
     "output_type": "display_data"
    },
    {
     "data": {
      "text/plain": [
       "'C:\\\\Users\\\\ashis\\\\OneDrive\\\\Documents\\\\summer project\\\\summer project - 3d\\\\week2\\\\new_data\\\\image\\\\000029_10_3.png'"
      ]
     },
     "metadata": {},
     "output_type": "display_data"
    },
    {
     "data": {
      "text/plain": [
       "'C:\\\\Users\\\\ashis\\\\OneDrive\\\\Documents\\\\summer project\\\\summer project - 3d\\\\week2\\\\new_data\\\\mask\\\\000029_10_3.png'"
      ]
     },
     "metadata": {},
     "output_type": "display_data"
    },
    {
     "data": {
      "text/plain": [
       "'C:\\\\Users\\\\ashis\\\\OneDrive\\\\Documents\\\\summer project\\\\summer project - 3d\\\\week2\\\\new_data\\\\image\\\\000029_10_4.png'"
      ]
     },
     "metadata": {},
     "output_type": "display_data"
    },
    {
     "data": {
      "text/plain": [
       "'C:\\\\Users\\\\ashis\\\\OneDrive\\\\Documents\\\\summer project\\\\summer project - 3d\\\\week2\\\\new_data\\\\mask\\\\000029_10_4.png'"
      ]
     },
     "metadata": {},
     "output_type": "display_data"
    },
    {
     "data": {
      "text/plain": [
       "'C:\\\\Users\\\\ashis\\\\OneDrive\\\\Documents\\\\summer project\\\\summer project - 3d\\\\week2\\\\new_data\\\\image\\\\000029_10_5.png'"
      ]
     },
     "metadata": {},
     "output_type": "display_data"
    },
    {
     "data": {
      "text/plain": [
       "'C:\\\\Users\\\\ashis\\\\OneDrive\\\\Documents\\\\summer project\\\\summer project - 3d\\\\week2\\\\new_data\\\\mask\\\\000029_10_5.png'"
      ]
     },
     "metadata": {},
     "output_type": "display_data"
    },
    {
     "name": "stderr",
     "output_type": "stream",
     "text": [
      "\r",
      " 15%|████████████▏                                                                    | 30/200 [00:09<00:47,  3.58it/s]"
     ]
    },
    {
     "data": {
      "text/plain": [
       "'C:\\\\Users\\\\ashis\\\\OneDrive\\\\Documents\\\\summer project\\\\summer project - 3d\\\\week2\\\\new_data\\\\image\\\\000030_10_0.png'"
      ]
     },
     "metadata": {},
     "output_type": "display_data"
    },
    {
     "data": {
      "text/plain": [
       "'C:\\\\Users\\\\ashis\\\\OneDrive\\\\Documents\\\\summer project\\\\summer project - 3d\\\\week2\\\\new_data\\\\mask\\\\000030_10_0.png'"
      ]
     },
     "metadata": {},
     "output_type": "display_data"
    },
    {
     "data": {
      "text/plain": [
       "'C:\\\\Users\\\\ashis\\\\OneDrive\\\\Documents\\\\summer project\\\\summer project - 3d\\\\week2\\\\new_data\\\\image\\\\000030_10_1.png'"
      ]
     },
     "metadata": {},
     "output_type": "display_data"
    },
    {
     "data": {
      "text/plain": [
       "'C:\\\\Users\\\\ashis\\\\OneDrive\\\\Documents\\\\summer project\\\\summer project - 3d\\\\week2\\\\new_data\\\\mask\\\\000030_10_1.png'"
      ]
     },
     "metadata": {},
     "output_type": "display_data"
    },
    {
     "data": {
      "text/plain": [
       "'C:\\\\Users\\\\ashis\\\\OneDrive\\\\Documents\\\\summer project\\\\summer project - 3d\\\\week2\\\\new_data\\\\image\\\\000030_10_2.png'"
      ]
     },
     "metadata": {},
     "output_type": "display_data"
    },
    {
     "data": {
      "text/plain": [
       "'C:\\\\Users\\\\ashis\\\\OneDrive\\\\Documents\\\\summer project\\\\summer project - 3d\\\\week2\\\\new_data\\\\mask\\\\000030_10_2.png'"
      ]
     },
     "metadata": {},
     "output_type": "display_data"
    },
    {
     "data": {
      "text/plain": [
       "'C:\\\\Users\\\\ashis\\\\OneDrive\\\\Documents\\\\summer project\\\\summer project - 3d\\\\week2\\\\new_data\\\\image\\\\000030_10_3.png'"
      ]
     },
     "metadata": {},
     "output_type": "display_data"
    },
    {
     "data": {
      "text/plain": [
       "'C:\\\\Users\\\\ashis\\\\OneDrive\\\\Documents\\\\summer project\\\\summer project - 3d\\\\week2\\\\new_data\\\\mask\\\\000030_10_3.png'"
      ]
     },
     "metadata": {},
     "output_type": "display_data"
    },
    {
     "data": {
      "text/plain": [
       "'C:\\\\Users\\\\ashis\\\\OneDrive\\\\Documents\\\\summer project\\\\summer project - 3d\\\\week2\\\\new_data\\\\image\\\\000030_10_4.png'"
      ]
     },
     "metadata": {},
     "output_type": "display_data"
    },
    {
     "data": {
      "text/plain": [
       "'C:\\\\Users\\\\ashis\\\\OneDrive\\\\Documents\\\\summer project\\\\summer project - 3d\\\\week2\\\\new_data\\\\mask\\\\000030_10_4.png'"
      ]
     },
     "metadata": {},
     "output_type": "display_data"
    },
    {
     "data": {
      "text/plain": [
       "'C:\\\\Users\\\\ashis\\\\OneDrive\\\\Documents\\\\summer project\\\\summer project - 3d\\\\week2\\\\new_data\\\\image\\\\000030_10_5.png'"
      ]
     },
     "metadata": {},
     "output_type": "display_data"
    },
    {
     "data": {
      "text/plain": [
       "'C:\\\\Users\\\\ashis\\\\OneDrive\\\\Documents\\\\summer project\\\\summer project - 3d\\\\week2\\\\new_data\\\\mask\\\\000030_10_5.png'"
      ]
     },
     "metadata": {},
     "output_type": "display_data"
    },
    {
     "name": "stderr",
     "output_type": "stream",
     "text": [
      "\r",
      " 16%|████████████▌                                                                    | 31/200 [00:09<00:46,  3.65it/s]"
     ]
    },
    {
     "data": {
      "text/plain": [
       "'C:\\\\Users\\\\ashis\\\\OneDrive\\\\Documents\\\\summer project\\\\summer project - 3d\\\\week2\\\\new_data\\\\image\\\\000031_10_0.png'"
      ]
     },
     "metadata": {},
     "output_type": "display_data"
    },
    {
     "data": {
      "text/plain": [
       "'C:\\\\Users\\\\ashis\\\\OneDrive\\\\Documents\\\\summer project\\\\summer project - 3d\\\\week2\\\\new_data\\\\mask\\\\000031_10_0.png'"
      ]
     },
     "metadata": {},
     "output_type": "display_data"
    },
    {
     "data": {
      "text/plain": [
       "'C:\\\\Users\\\\ashis\\\\OneDrive\\\\Documents\\\\summer project\\\\summer project - 3d\\\\week2\\\\new_data\\\\image\\\\000031_10_1.png'"
      ]
     },
     "metadata": {},
     "output_type": "display_data"
    },
    {
     "data": {
      "text/plain": [
       "'C:\\\\Users\\\\ashis\\\\OneDrive\\\\Documents\\\\summer project\\\\summer project - 3d\\\\week2\\\\new_data\\\\mask\\\\000031_10_1.png'"
      ]
     },
     "metadata": {},
     "output_type": "display_data"
    },
    {
     "data": {
      "text/plain": [
       "'C:\\\\Users\\\\ashis\\\\OneDrive\\\\Documents\\\\summer project\\\\summer project - 3d\\\\week2\\\\new_data\\\\image\\\\000031_10_2.png'"
      ]
     },
     "metadata": {},
     "output_type": "display_data"
    },
    {
     "data": {
      "text/plain": [
       "'C:\\\\Users\\\\ashis\\\\OneDrive\\\\Documents\\\\summer project\\\\summer project - 3d\\\\week2\\\\new_data\\\\mask\\\\000031_10_2.png'"
      ]
     },
     "metadata": {},
     "output_type": "display_data"
    },
    {
     "data": {
      "text/plain": [
       "'C:\\\\Users\\\\ashis\\\\OneDrive\\\\Documents\\\\summer project\\\\summer project - 3d\\\\week2\\\\new_data\\\\image\\\\000031_10_3.png'"
      ]
     },
     "metadata": {},
     "output_type": "display_data"
    },
    {
     "data": {
      "text/plain": [
       "'C:\\\\Users\\\\ashis\\\\OneDrive\\\\Documents\\\\summer project\\\\summer project - 3d\\\\week2\\\\new_data\\\\mask\\\\000031_10_3.png'"
      ]
     },
     "metadata": {},
     "output_type": "display_data"
    },
    {
     "data": {
      "text/plain": [
       "'C:\\\\Users\\\\ashis\\\\OneDrive\\\\Documents\\\\summer project\\\\summer project - 3d\\\\week2\\\\new_data\\\\image\\\\000031_10_4.png'"
      ]
     },
     "metadata": {},
     "output_type": "display_data"
    },
    {
     "data": {
      "text/plain": [
       "'C:\\\\Users\\\\ashis\\\\OneDrive\\\\Documents\\\\summer project\\\\summer project - 3d\\\\week2\\\\new_data\\\\mask\\\\000031_10_4.png'"
      ]
     },
     "metadata": {},
     "output_type": "display_data"
    },
    {
     "data": {
      "text/plain": [
       "'C:\\\\Users\\\\ashis\\\\OneDrive\\\\Documents\\\\summer project\\\\summer project - 3d\\\\week2\\\\new_data\\\\image\\\\000031_10_5.png'"
      ]
     },
     "metadata": {},
     "output_type": "display_data"
    },
    {
     "data": {
      "text/plain": [
       "'C:\\\\Users\\\\ashis\\\\OneDrive\\\\Documents\\\\summer project\\\\summer project - 3d\\\\week2\\\\new_data\\\\mask\\\\000031_10_5.png'"
      ]
     },
     "metadata": {},
     "output_type": "display_data"
    },
    {
     "name": "stderr",
     "output_type": "stream",
     "text": [
      "\r",
      " 16%|████████████▉                                                                    | 32/200 [00:09<00:44,  3.74it/s]"
     ]
    },
    {
     "data": {
      "text/plain": [
       "'C:\\\\Users\\\\ashis\\\\OneDrive\\\\Documents\\\\summer project\\\\summer project - 3d\\\\week2\\\\new_data\\\\image\\\\000032_10_0.png'"
      ]
     },
     "metadata": {},
     "output_type": "display_data"
    },
    {
     "data": {
      "text/plain": [
       "'C:\\\\Users\\\\ashis\\\\OneDrive\\\\Documents\\\\summer project\\\\summer project - 3d\\\\week2\\\\new_data\\\\mask\\\\000032_10_0.png'"
      ]
     },
     "metadata": {},
     "output_type": "display_data"
    },
    {
     "data": {
      "text/plain": [
       "'C:\\\\Users\\\\ashis\\\\OneDrive\\\\Documents\\\\summer project\\\\summer project - 3d\\\\week2\\\\new_data\\\\image\\\\000032_10_1.png'"
      ]
     },
     "metadata": {},
     "output_type": "display_data"
    },
    {
     "data": {
      "text/plain": [
       "'C:\\\\Users\\\\ashis\\\\OneDrive\\\\Documents\\\\summer project\\\\summer project - 3d\\\\week2\\\\new_data\\\\mask\\\\000032_10_1.png'"
      ]
     },
     "metadata": {},
     "output_type": "display_data"
    },
    {
     "data": {
      "text/plain": [
       "'C:\\\\Users\\\\ashis\\\\OneDrive\\\\Documents\\\\summer project\\\\summer project - 3d\\\\week2\\\\new_data\\\\image\\\\000032_10_2.png'"
      ]
     },
     "metadata": {},
     "output_type": "display_data"
    },
    {
     "data": {
      "text/plain": [
       "'C:\\\\Users\\\\ashis\\\\OneDrive\\\\Documents\\\\summer project\\\\summer project - 3d\\\\week2\\\\new_data\\\\mask\\\\000032_10_2.png'"
      ]
     },
     "metadata": {},
     "output_type": "display_data"
    },
    {
     "data": {
      "text/plain": [
       "'C:\\\\Users\\\\ashis\\\\OneDrive\\\\Documents\\\\summer project\\\\summer project - 3d\\\\week2\\\\new_data\\\\image\\\\000032_10_3.png'"
      ]
     },
     "metadata": {},
     "output_type": "display_data"
    },
    {
     "data": {
      "text/plain": [
       "'C:\\\\Users\\\\ashis\\\\OneDrive\\\\Documents\\\\summer project\\\\summer project - 3d\\\\week2\\\\new_data\\\\mask\\\\000032_10_3.png'"
      ]
     },
     "metadata": {},
     "output_type": "display_data"
    },
    {
     "data": {
      "text/plain": [
       "'C:\\\\Users\\\\ashis\\\\OneDrive\\\\Documents\\\\summer project\\\\summer project - 3d\\\\week2\\\\new_data\\\\image\\\\000032_10_4.png'"
      ]
     },
     "metadata": {},
     "output_type": "display_data"
    },
    {
     "data": {
      "text/plain": [
       "'C:\\\\Users\\\\ashis\\\\OneDrive\\\\Documents\\\\summer project\\\\summer project - 3d\\\\week2\\\\new_data\\\\mask\\\\000032_10_4.png'"
      ]
     },
     "metadata": {},
     "output_type": "display_data"
    },
    {
     "data": {
      "text/plain": [
       "'C:\\\\Users\\\\ashis\\\\OneDrive\\\\Documents\\\\summer project\\\\summer project - 3d\\\\week2\\\\new_data\\\\image\\\\000032_10_5.png'"
      ]
     },
     "metadata": {},
     "output_type": "display_data"
    },
    {
     "data": {
      "text/plain": [
       "'C:\\\\Users\\\\ashis\\\\OneDrive\\\\Documents\\\\summer project\\\\summer project - 3d\\\\week2\\\\new_data\\\\mask\\\\000032_10_5.png'"
      ]
     },
     "metadata": {},
     "output_type": "display_data"
    },
    {
     "name": "stderr",
     "output_type": "stream",
     "text": [
      "\r",
      " 16%|█████████████▎                                                                   | 33/200 [00:10<00:45,  3.71it/s]"
     ]
    },
    {
     "data": {
      "text/plain": [
       "'C:\\\\Users\\\\ashis\\\\OneDrive\\\\Documents\\\\summer project\\\\summer project - 3d\\\\week2\\\\new_data\\\\image\\\\000033_10_0.png'"
      ]
     },
     "metadata": {},
     "output_type": "display_data"
    },
    {
     "data": {
      "text/plain": [
       "'C:\\\\Users\\\\ashis\\\\OneDrive\\\\Documents\\\\summer project\\\\summer project - 3d\\\\week2\\\\new_data\\\\mask\\\\000033_10_0.png'"
      ]
     },
     "metadata": {},
     "output_type": "display_data"
    },
    {
     "data": {
      "text/plain": [
       "'C:\\\\Users\\\\ashis\\\\OneDrive\\\\Documents\\\\summer project\\\\summer project - 3d\\\\week2\\\\new_data\\\\image\\\\000033_10_1.png'"
      ]
     },
     "metadata": {},
     "output_type": "display_data"
    },
    {
     "data": {
      "text/plain": [
       "'C:\\\\Users\\\\ashis\\\\OneDrive\\\\Documents\\\\summer project\\\\summer project - 3d\\\\week2\\\\new_data\\\\mask\\\\000033_10_1.png'"
      ]
     },
     "metadata": {},
     "output_type": "display_data"
    },
    {
     "data": {
      "text/plain": [
       "'C:\\\\Users\\\\ashis\\\\OneDrive\\\\Documents\\\\summer project\\\\summer project - 3d\\\\week2\\\\new_data\\\\image\\\\000033_10_2.png'"
      ]
     },
     "metadata": {},
     "output_type": "display_data"
    },
    {
     "data": {
      "text/plain": [
       "'C:\\\\Users\\\\ashis\\\\OneDrive\\\\Documents\\\\summer project\\\\summer project - 3d\\\\week2\\\\new_data\\\\mask\\\\000033_10_2.png'"
      ]
     },
     "metadata": {},
     "output_type": "display_data"
    },
    {
     "data": {
      "text/plain": [
       "'C:\\\\Users\\\\ashis\\\\OneDrive\\\\Documents\\\\summer project\\\\summer project - 3d\\\\week2\\\\new_data\\\\image\\\\000033_10_3.png'"
      ]
     },
     "metadata": {},
     "output_type": "display_data"
    },
    {
     "data": {
      "text/plain": [
       "'C:\\\\Users\\\\ashis\\\\OneDrive\\\\Documents\\\\summer project\\\\summer project - 3d\\\\week2\\\\new_data\\\\mask\\\\000033_10_3.png'"
      ]
     },
     "metadata": {},
     "output_type": "display_data"
    },
    {
     "data": {
      "text/plain": [
       "'C:\\\\Users\\\\ashis\\\\OneDrive\\\\Documents\\\\summer project\\\\summer project - 3d\\\\week2\\\\new_data\\\\image\\\\000033_10_4.png'"
      ]
     },
     "metadata": {},
     "output_type": "display_data"
    },
    {
     "data": {
      "text/plain": [
       "'C:\\\\Users\\\\ashis\\\\OneDrive\\\\Documents\\\\summer project\\\\summer project - 3d\\\\week2\\\\new_data\\\\mask\\\\000033_10_4.png'"
      ]
     },
     "metadata": {},
     "output_type": "display_data"
    },
    {
     "data": {
      "text/plain": [
       "'C:\\\\Users\\\\ashis\\\\OneDrive\\\\Documents\\\\summer project\\\\summer project - 3d\\\\week2\\\\new_data\\\\image\\\\000033_10_5.png'"
      ]
     },
     "metadata": {},
     "output_type": "display_data"
    },
    {
     "data": {
      "text/plain": [
       "'C:\\\\Users\\\\ashis\\\\OneDrive\\\\Documents\\\\summer project\\\\summer project - 3d\\\\week2\\\\new_data\\\\mask\\\\000033_10_5.png'"
      ]
     },
     "metadata": {},
     "output_type": "display_data"
    },
    {
     "name": "stderr",
     "output_type": "stream",
     "text": [
      "\r",
      " 17%|█████████████▊                                                                   | 34/200 [00:10<00:44,  3.74it/s]"
     ]
    },
    {
     "data": {
      "text/plain": [
       "'C:\\\\Users\\\\ashis\\\\OneDrive\\\\Documents\\\\summer project\\\\summer project - 3d\\\\week2\\\\new_data\\\\image\\\\000034_10_0.png'"
      ]
     },
     "metadata": {},
     "output_type": "display_data"
    },
    {
     "data": {
      "text/plain": [
       "'C:\\\\Users\\\\ashis\\\\OneDrive\\\\Documents\\\\summer project\\\\summer project - 3d\\\\week2\\\\new_data\\\\mask\\\\000034_10_0.png'"
      ]
     },
     "metadata": {},
     "output_type": "display_data"
    },
    {
     "data": {
      "text/plain": [
       "'C:\\\\Users\\\\ashis\\\\OneDrive\\\\Documents\\\\summer project\\\\summer project - 3d\\\\week2\\\\new_data\\\\image\\\\000034_10_1.png'"
      ]
     },
     "metadata": {},
     "output_type": "display_data"
    },
    {
     "data": {
      "text/plain": [
       "'C:\\\\Users\\\\ashis\\\\OneDrive\\\\Documents\\\\summer project\\\\summer project - 3d\\\\week2\\\\new_data\\\\mask\\\\000034_10_1.png'"
      ]
     },
     "metadata": {},
     "output_type": "display_data"
    },
    {
     "data": {
      "text/plain": [
       "'C:\\\\Users\\\\ashis\\\\OneDrive\\\\Documents\\\\summer project\\\\summer project - 3d\\\\week2\\\\new_data\\\\image\\\\000034_10_2.png'"
      ]
     },
     "metadata": {},
     "output_type": "display_data"
    },
    {
     "data": {
      "text/plain": [
       "'C:\\\\Users\\\\ashis\\\\OneDrive\\\\Documents\\\\summer project\\\\summer project - 3d\\\\week2\\\\new_data\\\\mask\\\\000034_10_2.png'"
      ]
     },
     "metadata": {},
     "output_type": "display_data"
    },
    {
     "data": {
      "text/plain": [
       "'C:\\\\Users\\\\ashis\\\\OneDrive\\\\Documents\\\\summer project\\\\summer project - 3d\\\\week2\\\\new_data\\\\image\\\\000034_10_3.png'"
      ]
     },
     "metadata": {},
     "output_type": "display_data"
    },
    {
     "data": {
      "text/plain": [
       "'C:\\\\Users\\\\ashis\\\\OneDrive\\\\Documents\\\\summer project\\\\summer project - 3d\\\\week2\\\\new_data\\\\mask\\\\000034_10_3.png'"
      ]
     },
     "metadata": {},
     "output_type": "display_data"
    },
    {
     "data": {
      "text/plain": [
       "'C:\\\\Users\\\\ashis\\\\OneDrive\\\\Documents\\\\summer project\\\\summer project - 3d\\\\week2\\\\new_data\\\\image\\\\000034_10_4.png'"
      ]
     },
     "metadata": {},
     "output_type": "display_data"
    },
    {
     "data": {
      "text/plain": [
       "'C:\\\\Users\\\\ashis\\\\OneDrive\\\\Documents\\\\summer project\\\\summer project - 3d\\\\week2\\\\new_data\\\\mask\\\\000034_10_4.png'"
      ]
     },
     "metadata": {},
     "output_type": "display_data"
    },
    {
     "data": {
      "text/plain": [
       "'C:\\\\Users\\\\ashis\\\\OneDrive\\\\Documents\\\\summer project\\\\summer project - 3d\\\\week2\\\\new_data\\\\image\\\\000034_10_5.png'"
      ]
     },
     "metadata": {},
     "output_type": "display_data"
    },
    {
     "data": {
      "text/plain": [
       "'C:\\\\Users\\\\ashis\\\\OneDrive\\\\Documents\\\\summer project\\\\summer project - 3d\\\\week2\\\\new_data\\\\mask\\\\000034_10_5.png'"
      ]
     },
     "metadata": {},
     "output_type": "display_data"
    },
    {
     "name": "stderr",
     "output_type": "stream",
     "text": [
      "\r",
      " 18%|██████████████▏                                                                  | 35/200 [00:10<00:44,  3.75it/s]"
     ]
    },
    {
     "data": {
      "text/plain": [
       "'C:\\\\Users\\\\ashis\\\\OneDrive\\\\Documents\\\\summer project\\\\summer project - 3d\\\\week2\\\\new_data\\\\image\\\\000035_10_0.png'"
      ]
     },
     "metadata": {},
     "output_type": "display_data"
    },
    {
     "data": {
      "text/plain": [
       "'C:\\\\Users\\\\ashis\\\\OneDrive\\\\Documents\\\\summer project\\\\summer project - 3d\\\\week2\\\\new_data\\\\mask\\\\000035_10_0.png'"
      ]
     },
     "metadata": {},
     "output_type": "display_data"
    },
    {
     "data": {
      "text/plain": [
       "'C:\\\\Users\\\\ashis\\\\OneDrive\\\\Documents\\\\summer project\\\\summer project - 3d\\\\week2\\\\new_data\\\\image\\\\000035_10_1.png'"
      ]
     },
     "metadata": {},
     "output_type": "display_data"
    },
    {
     "data": {
      "text/plain": [
       "'C:\\\\Users\\\\ashis\\\\OneDrive\\\\Documents\\\\summer project\\\\summer project - 3d\\\\week2\\\\new_data\\\\mask\\\\000035_10_1.png'"
      ]
     },
     "metadata": {},
     "output_type": "display_data"
    },
    {
     "data": {
      "text/plain": [
       "'C:\\\\Users\\\\ashis\\\\OneDrive\\\\Documents\\\\summer project\\\\summer project - 3d\\\\week2\\\\new_data\\\\image\\\\000035_10_2.png'"
      ]
     },
     "metadata": {},
     "output_type": "display_data"
    },
    {
     "data": {
      "text/plain": [
       "'C:\\\\Users\\\\ashis\\\\OneDrive\\\\Documents\\\\summer project\\\\summer project - 3d\\\\week2\\\\new_data\\\\mask\\\\000035_10_2.png'"
      ]
     },
     "metadata": {},
     "output_type": "display_data"
    },
    {
     "data": {
      "text/plain": [
       "'C:\\\\Users\\\\ashis\\\\OneDrive\\\\Documents\\\\summer project\\\\summer project - 3d\\\\week2\\\\new_data\\\\image\\\\000035_10_3.png'"
      ]
     },
     "metadata": {},
     "output_type": "display_data"
    },
    {
     "data": {
      "text/plain": [
       "'C:\\\\Users\\\\ashis\\\\OneDrive\\\\Documents\\\\summer project\\\\summer project - 3d\\\\week2\\\\new_data\\\\mask\\\\000035_10_3.png'"
      ]
     },
     "metadata": {},
     "output_type": "display_data"
    },
    {
     "data": {
      "text/plain": [
       "'C:\\\\Users\\\\ashis\\\\OneDrive\\\\Documents\\\\summer project\\\\summer project - 3d\\\\week2\\\\new_data\\\\image\\\\000035_10_4.png'"
      ]
     },
     "metadata": {},
     "output_type": "display_data"
    },
    {
     "data": {
      "text/plain": [
       "'C:\\\\Users\\\\ashis\\\\OneDrive\\\\Documents\\\\summer project\\\\summer project - 3d\\\\week2\\\\new_data\\\\mask\\\\000035_10_4.png'"
      ]
     },
     "metadata": {},
     "output_type": "display_data"
    },
    {
     "data": {
      "text/plain": [
       "'C:\\\\Users\\\\ashis\\\\OneDrive\\\\Documents\\\\summer project\\\\summer project - 3d\\\\week2\\\\new_data\\\\image\\\\000035_10_5.png'"
      ]
     },
     "metadata": {},
     "output_type": "display_data"
    },
    {
     "data": {
      "text/plain": [
       "'C:\\\\Users\\\\ashis\\\\OneDrive\\\\Documents\\\\summer project\\\\summer project - 3d\\\\week2\\\\new_data\\\\mask\\\\000035_10_5.png'"
      ]
     },
     "metadata": {},
     "output_type": "display_data"
    },
    {
     "name": "stderr",
     "output_type": "stream",
     "text": [
      "\r",
      " 18%|██████████████▌                                                                  | 36/200 [00:11<00:46,  3.50it/s]"
     ]
    },
    {
     "data": {
      "text/plain": [
       "'C:\\\\Users\\\\ashis\\\\OneDrive\\\\Documents\\\\summer project\\\\summer project - 3d\\\\week2\\\\new_data\\\\image\\\\000036_10_0.png'"
      ]
     },
     "metadata": {},
     "output_type": "display_data"
    },
    {
     "data": {
      "text/plain": [
       "'C:\\\\Users\\\\ashis\\\\OneDrive\\\\Documents\\\\summer project\\\\summer project - 3d\\\\week2\\\\new_data\\\\mask\\\\000036_10_0.png'"
      ]
     },
     "metadata": {},
     "output_type": "display_data"
    },
    {
     "data": {
      "text/plain": [
       "'C:\\\\Users\\\\ashis\\\\OneDrive\\\\Documents\\\\summer project\\\\summer project - 3d\\\\week2\\\\new_data\\\\image\\\\000036_10_1.png'"
      ]
     },
     "metadata": {},
     "output_type": "display_data"
    },
    {
     "data": {
      "text/plain": [
       "'C:\\\\Users\\\\ashis\\\\OneDrive\\\\Documents\\\\summer project\\\\summer project - 3d\\\\week2\\\\new_data\\\\mask\\\\000036_10_1.png'"
      ]
     },
     "metadata": {},
     "output_type": "display_data"
    },
    {
     "data": {
      "text/plain": [
       "'C:\\\\Users\\\\ashis\\\\OneDrive\\\\Documents\\\\summer project\\\\summer project - 3d\\\\week2\\\\new_data\\\\image\\\\000036_10_2.png'"
      ]
     },
     "metadata": {},
     "output_type": "display_data"
    },
    {
     "data": {
      "text/plain": [
       "'C:\\\\Users\\\\ashis\\\\OneDrive\\\\Documents\\\\summer project\\\\summer project - 3d\\\\week2\\\\new_data\\\\mask\\\\000036_10_2.png'"
      ]
     },
     "metadata": {},
     "output_type": "display_data"
    },
    {
     "data": {
      "text/plain": [
       "'C:\\\\Users\\\\ashis\\\\OneDrive\\\\Documents\\\\summer project\\\\summer project - 3d\\\\week2\\\\new_data\\\\image\\\\000036_10_3.png'"
      ]
     },
     "metadata": {},
     "output_type": "display_data"
    },
    {
     "data": {
      "text/plain": [
       "'C:\\\\Users\\\\ashis\\\\OneDrive\\\\Documents\\\\summer project\\\\summer project - 3d\\\\week2\\\\new_data\\\\mask\\\\000036_10_3.png'"
      ]
     },
     "metadata": {},
     "output_type": "display_data"
    },
    {
     "data": {
      "text/plain": [
       "'C:\\\\Users\\\\ashis\\\\OneDrive\\\\Documents\\\\summer project\\\\summer project - 3d\\\\week2\\\\new_data\\\\image\\\\000036_10_4.png'"
      ]
     },
     "metadata": {},
     "output_type": "display_data"
    },
    {
     "data": {
      "text/plain": [
       "'C:\\\\Users\\\\ashis\\\\OneDrive\\\\Documents\\\\summer project\\\\summer project - 3d\\\\week2\\\\new_data\\\\mask\\\\000036_10_4.png'"
      ]
     },
     "metadata": {},
     "output_type": "display_data"
    },
    {
     "data": {
      "text/plain": [
       "'C:\\\\Users\\\\ashis\\\\OneDrive\\\\Documents\\\\summer project\\\\summer project - 3d\\\\week2\\\\new_data\\\\image\\\\000036_10_5.png'"
      ]
     },
     "metadata": {},
     "output_type": "display_data"
    },
    {
     "data": {
      "text/plain": [
       "'C:\\\\Users\\\\ashis\\\\OneDrive\\\\Documents\\\\summer project\\\\summer project - 3d\\\\week2\\\\new_data\\\\mask\\\\000036_10_5.png'"
      ]
     },
     "metadata": {},
     "output_type": "display_data"
    },
    {
     "name": "stderr",
     "output_type": "stream",
     "text": [
      "\r",
      " 18%|██████████████▉                                                                  | 37/200 [00:11<00:47,  3.43it/s]"
     ]
    },
    {
     "data": {
      "text/plain": [
       "'C:\\\\Users\\\\ashis\\\\OneDrive\\\\Documents\\\\summer project\\\\summer project - 3d\\\\week2\\\\new_data\\\\image\\\\000037_10_0.png'"
      ]
     },
     "metadata": {},
     "output_type": "display_data"
    },
    {
     "data": {
      "text/plain": [
       "'C:\\\\Users\\\\ashis\\\\OneDrive\\\\Documents\\\\summer project\\\\summer project - 3d\\\\week2\\\\new_data\\\\mask\\\\000037_10_0.png'"
      ]
     },
     "metadata": {},
     "output_type": "display_data"
    },
    {
     "data": {
      "text/plain": [
       "'C:\\\\Users\\\\ashis\\\\OneDrive\\\\Documents\\\\summer project\\\\summer project - 3d\\\\week2\\\\new_data\\\\image\\\\000037_10_1.png'"
      ]
     },
     "metadata": {},
     "output_type": "display_data"
    },
    {
     "data": {
      "text/plain": [
       "'C:\\\\Users\\\\ashis\\\\OneDrive\\\\Documents\\\\summer project\\\\summer project - 3d\\\\week2\\\\new_data\\\\mask\\\\000037_10_1.png'"
      ]
     },
     "metadata": {},
     "output_type": "display_data"
    },
    {
     "data": {
      "text/plain": [
       "'C:\\\\Users\\\\ashis\\\\OneDrive\\\\Documents\\\\summer project\\\\summer project - 3d\\\\week2\\\\new_data\\\\image\\\\000037_10_2.png'"
      ]
     },
     "metadata": {},
     "output_type": "display_data"
    },
    {
     "data": {
      "text/plain": [
       "'C:\\\\Users\\\\ashis\\\\OneDrive\\\\Documents\\\\summer project\\\\summer project - 3d\\\\week2\\\\new_data\\\\mask\\\\000037_10_2.png'"
      ]
     },
     "metadata": {},
     "output_type": "display_data"
    },
    {
     "data": {
      "text/plain": [
       "'C:\\\\Users\\\\ashis\\\\OneDrive\\\\Documents\\\\summer project\\\\summer project - 3d\\\\week2\\\\new_data\\\\image\\\\000037_10_3.png'"
      ]
     },
     "metadata": {},
     "output_type": "display_data"
    },
    {
     "data": {
      "text/plain": [
       "'C:\\\\Users\\\\ashis\\\\OneDrive\\\\Documents\\\\summer project\\\\summer project - 3d\\\\week2\\\\new_data\\\\mask\\\\000037_10_3.png'"
      ]
     },
     "metadata": {},
     "output_type": "display_data"
    },
    {
     "data": {
      "text/plain": [
       "'C:\\\\Users\\\\ashis\\\\OneDrive\\\\Documents\\\\summer project\\\\summer project - 3d\\\\week2\\\\new_data\\\\image\\\\000037_10_4.png'"
      ]
     },
     "metadata": {},
     "output_type": "display_data"
    },
    {
     "data": {
      "text/plain": [
       "'C:\\\\Users\\\\ashis\\\\OneDrive\\\\Documents\\\\summer project\\\\summer project - 3d\\\\week2\\\\new_data\\\\mask\\\\000037_10_4.png'"
      ]
     },
     "metadata": {},
     "output_type": "display_data"
    },
    {
     "data": {
      "text/plain": [
       "'C:\\\\Users\\\\ashis\\\\OneDrive\\\\Documents\\\\summer project\\\\summer project - 3d\\\\week2\\\\new_data\\\\image\\\\000037_10_5.png'"
      ]
     },
     "metadata": {},
     "output_type": "display_data"
    },
    {
     "data": {
      "text/plain": [
       "'C:\\\\Users\\\\ashis\\\\OneDrive\\\\Documents\\\\summer project\\\\summer project - 3d\\\\week2\\\\new_data\\\\mask\\\\000037_10_5.png'"
      ]
     },
     "metadata": {},
     "output_type": "display_data"
    },
    {
     "name": "stderr",
     "output_type": "stream",
     "text": [
      "\r",
      " 19%|███████████████▍                                                                 | 38/200 [00:11<00:48,  3.34it/s]"
     ]
    },
    {
     "data": {
      "text/plain": [
       "'C:\\\\Users\\\\ashis\\\\OneDrive\\\\Documents\\\\summer project\\\\summer project - 3d\\\\week2\\\\new_data\\\\image\\\\000038_10_0.png'"
      ]
     },
     "metadata": {},
     "output_type": "display_data"
    },
    {
     "data": {
      "text/plain": [
       "'C:\\\\Users\\\\ashis\\\\OneDrive\\\\Documents\\\\summer project\\\\summer project - 3d\\\\week2\\\\new_data\\\\mask\\\\000038_10_0.png'"
      ]
     },
     "metadata": {},
     "output_type": "display_data"
    },
    {
     "data": {
      "text/plain": [
       "'C:\\\\Users\\\\ashis\\\\OneDrive\\\\Documents\\\\summer project\\\\summer project - 3d\\\\week2\\\\new_data\\\\image\\\\000038_10_1.png'"
      ]
     },
     "metadata": {},
     "output_type": "display_data"
    },
    {
     "data": {
      "text/plain": [
       "'C:\\\\Users\\\\ashis\\\\OneDrive\\\\Documents\\\\summer project\\\\summer project - 3d\\\\week2\\\\new_data\\\\mask\\\\000038_10_1.png'"
      ]
     },
     "metadata": {},
     "output_type": "display_data"
    },
    {
     "data": {
      "text/plain": [
       "'C:\\\\Users\\\\ashis\\\\OneDrive\\\\Documents\\\\summer project\\\\summer project - 3d\\\\week2\\\\new_data\\\\image\\\\000038_10_2.png'"
      ]
     },
     "metadata": {},
     "output_type": "display_data"
    },
    {
     "data": {
      "text/plain": [
       "'C:\\\\Users\\\\ashis\\\\OneDrive\\\\Documents\\\\summer project\\\\summer project - 3d\\\\week2\\\\new_data\\\\mask\\\\000038_10_2.png'"
      ]
     },
     "metadata": {},
     "output_type": "display_data"
    },
    {
     "data": {
      "text/plain": [
       "'C:\\\\Users\\\\ashis\\\\OneDrive\\\\Documents\\\\summer project\\\\summer project - 3d\\\\week2\\\\new_data\\\\image\\\\000038_10_3.png'"
      ]
     },
     "metadata": {},
     "output_type": "display_data"
    },
    {
     "data": {
      "text/plain": [
       "'C:\\\\Users\\\\ashis\\\\OneDrive\\\\Documents\\\\summer project\\\\summer project - 3d\\\\week2\\\\new_data\\\\mask\\\\000038_10_3.png'"
      ]
     },
     "metadata": {},
     "output_type": "display_data"
    },
    {
     "data": {
      "text/plain": [
       "'C:\\\\Users\\\\ashis\\\\OneDrive\\\\Documents\\\\summer project\\\\summer project - 3d\\\\week2\\\\new_data\\\\image\\\\000038_10_4.png'"
      ]
     },
     "metadata": {},
     "output_type": "display_data"
    },
    {
     "data": {
      "text/plain": [
       "'C:\\\\Users\\\\ashis\\\\OneDrive\\\\Documents\\\\summer project\\\\summer project - 3d\\\\week2\\\\new_data\\\\mask\\\\000038_10_4.png'"
      ]
     },
     "metadata": {},
     "output_type": "display_data"
    },
    {
     "data": {
      "text/plain": [
       "'C:\\\\Users\\\\ashis\\\\OneDrive\\\\Documents\\\\summer project\\\\summer project - 3d\\\\week2\\\\new_data\\\\image\\\\000038_10_5.png'"
      ]
     },
     "metadata": {},
     "output_type": "display_data"
    },
    {
     "data": {
      "text/plain": [
       "'C:\\\\Users\\\\ashis\\\\OneDrive\\\\Documents\\\\summer project\\\\summer project - 3d\\\\week2\\\\new_data\\\\mask\\\\000038_10_5.png'"
      ]
     },
     "metadata": {},
     "output_type": "display_data"
    },
    {
     "name": "stderr",
     "output_type": "stream",
     "text": [
      "\r",
      " 20%|███████████████▊                                                                 | 39/200 [00:11<00:46,  3.43it/s]"
     ]
    },
    {
     "data": {
      "text/plain": [
       "'C:\\\\Users\\\\ashis\\\\OneDrive\\\\Documents\\\\summer project\\\\summer project - 3d\\\\week2\\\\new_data\\\\image\\\\000039_10_0.png'"
      ]
     },
     "metadata": {},
     "output_type": "display_data"
    },
    {
     "data": {
      "text/plain": [
       "'C:\\\\Users\\\\ashis\\\\OneDrive\\\\Documents\\\\summer project\\\\summer project - 3d\\\\week2\\\\new_data\\\\mask\\\\000039_10_0.png'"
      ]
     },
     "metadata": {},
     "output_type": "display_data"
    },
    {
     "data": {
      "text/plain": [
       "'C:\\\\Users\\\\ashis\\\\OneDrive\\\\Documents\\\\summer project\\\\summer project - 3d\\\\week2\\\\new_data\\\\image\\\\000039_10_1.png'"
      ]
     },
     "metadata": {},
     "output_type": "display_data"
    },
    {
     "data": {
      "text/plain": [
       "'C:\\\\Users\\\\ashis\\\\OneDrive\\\\Documents\\\\summer project\\\\summer project - 3d\\\\week2\\\\new_data\\\\mask\\\\000039_10_1.png'"
      ]
     },
     "metadata": {},
     "output_type": "display_data"
    },
    {
     "data": {
      "text/plain": [
       "'C:\\\\Users\\\\ashis\\\\OneDrive\\\\Documents\\\\summer project\\\\summer project - 3d\\\\week2\\\\new_data\\\\image\\\\000039_10_2.png'"
      ]
     },
     "metadata": {},
     "output_type": "display_data"
    },
    {
     "data": {
      "text/plain": [
       "'C:\\\\Users\\\\ashis\\\\OneDrive\\\\Documents\\\\summer project\\\\summer project - 3d\\\\week2\\\\new_data\\\\mask\\\\000039_10_2.png'"
      ]
     },
     "metadata": {},
     "output_type": "display_data"
    },
    {
     "data": {
      "text/plain": [
       "'C:\\\\Users\\\\ashis\\\\OneDrive\\\\Documents\\\\summer project\\\\summer project - 3d\\\\week2\\\\new_data\\\\image\\\\000039_10_3.png'"
      ]
     },
     "metadata": {},
     "output_type": "display_data"
    },
    {
     "data": {
      "text/plain": [
       "'C:\\\\Users\\\\ashis\\\\OneDrive\\\\Documents\\\\summer project\\\\summer project - 3d\\\\week2\\\\new_data\\\\mask\\\\000039_10_3.png'"
      ]
     },
     "metadata": {},
     "output_type": "display_data"
    },
    {
     "data": {
      "text/plain": [
       "'C:\\\\Users\\\\ashis\\\\OneDrive\\\\Documents\\\\summer project\\\\summer project - 3d\\\\week2\\\\new_data\\\\image\\\\000039_10_4.png'"
      ]
     },
     "metadata": {},
     "output_type": "display_data"
    },
    {
     "data": {
      "text/plain": [
       "'C:\\\\Users\\\\ashis\\\\OneDrive\\\\Documents\\\\summer project\\\\summer project - 3d\\\\week2\\\\new_data\\\\mask\\\\000039_10_4.png'"
      ]
     },
     "metadata": {},
     "output_type": "display_data"
    },
    {
     "data": {
      "text/plain": [
       "'C:\\\\Users\\\\ashis\\\\OneDrive\\\\Documents\\\\summer project\\\\summer project - 3d\\\\week2\\\\new_data\\\\image\\\\000039_10_5.png'"
      ]
     },
     "metadata": {},
     "output_type": "display_data"
    },
    {
     "data": {
      "text/plain": [
       "'C:\\\\Users\\\\ashis\\\\OneDrive\\\\Documents\\\\summer project\\\\summer project - 3d\\\\week2\\\\new_data\\\\mask\\\\000039_10_5.png'"
      ]
     },
     "metadata": {},
     "output_type": "display_data"
    },
    {
     "name": "stderr",
     "output_type": "stream",
     "text": [
      "\r",
      " 20%|████████████████▏                                                                | 40/200 [00:12<00:47,  3.38it/s]"
     ]
    },
    {
     "data": {
      "text/plain": [
       "'C:\\\\Users\\\\ashis\\\\OneDrive\\\\Documents\\\\summer project\\\\summer project - 3d\\\\week2\\\\new_data\\\\image\\\\000040_10_0.png'"
      ]
     },
     "metadata": {},
     "output_type": "display_data"
    },
    {
     "data": {
      "text/plain": [
       "'C:\\\\Users\\\\ashis\\\\OneDrive\\\\Documents\\\\summer project\\\\summer project - 3d\\\\week2\\\\new_data\\\\mask\\\\000040_10_0.png'"
      ]
     },
     "metadata": {},
     "output_type": "display_data"
    },
    {
     "data": {
      "text/plain": [
       "'C:\\\\Users\\\\ashis\\\\OneDrive\\\\Documents\\\\summer project\\\\summer project - 3d\\\\week2\\\\new_data\\\\image\\\\000040_10_1.png'"
      ]
     },
     "metadata": {},
     "output_type": "display_data"
    },
    {
     "data": {
      "text/plain": [
       "'C:\\\\Users\\\\ashis\\\\OneDrive\\\\Documents\\\\summer project\\\\summer project - 3d\\\\week2\\\\new_data\\\\mask\\\\000040_10_1.png'"
      ]
     },
     "metadata": {},
     "output_type": "display_data"
    },
    {
     "data": {
      "text/plain": [
       "'C:\\\\Users\\\\ashis\\\\OneDrive\\\\Documents\\\\summer project\\\\summer project - 3d\\\\week2\\\\new_data\\\\image\\\\000040_10_2.png'"
      ]
     },
     "metadata": {},
     "output_type": "display_data"
    },
    {
     "data": {
      "text/plain": [
       "'C:\\\\Users\\\\ashis\\\\OneDrive\\\\Documents\\\\summer project\\\\summer project - 3d\\\\week2\\\\new_data\\\\mask\\\\000040_10_2.png'"
      ]
     },
     "metadata": {},
     "output_type": "display_data"
    },
    {
     "data": {
      "text/plain": [
       "'C:\\\\Users\\\\ashis\\\\OneDrive\\\\Documents\\\\summer project\\\\summer project - 3d\\\\week2\\\\new_data\\\\image\\\\000040_10_3.png'"
      ]
     },
     "metadata": {},
     "output_type": "display_data"
    },
    {
     "data": {
      "text/plain": [
       "'C:\\\\Users\\\\ashis\\\\OneDrive\\\\Documents\\\\summer project\\\\summer project - 3d\\\\week2\\\\new_data\\\\mask\\\\000040_10_3.png'"
      ]
     },
     "metadata": {},
     "output_type": "display_data"
    },
    {
     "data": {
      "text/plain": [
       "'C:\\\\Users\\\\ashis\\\\OneDrive\\\\Documents\\\\summer project\\\\summer project - 3d\\\\week2\\\\new_data\\\\image\\\\000040_10_4.png'"
      ]
     },
     "metadata": {},
     "output_type": "display_data"
    },
    {
     "data": {
      "text/plain": [
       "'C:\\\\Users\\\\ashis\\\\OneDrive\\\\Documents\\\\summer project\\\\summer project - 3d\\\\week2\\\\new_data\\\\mask\\\\000040_10_4.png'"
      ]
     },
     "metadata": {},
     "output_type": "display_data"
    },
    {
     "data": {
      "text/plain": [
       "'C:\\\\Users\\\\ashis\\\\OneDrive\\\\Documents\\\\summer project\\\\summer project - 3d\\\\week2\\\\new_data\\\\image\\\\000040_10_5.png'"
      ]
     },
     "metadata": {},
     "output_type": "display_data"
    },
    {
     "data": {
      "text/plain": [
       "'C:\\\\Users\\\\ashis\\\\OneDrive\\\\Documents\\\\summer project\\\\summer project - 3d\\\\week2\\\\new_data\\\\mask\\\\000040_10_5.png'"
      ]
     },
     "metadata": {},
     "output_type": "display_data"
    },
    {
     "name": "stderr",
     "output_type": "stream",
     "text": [
      "\r",
      " 20%|████████████████▌                                                                | 41/200 [00:12<00:45,  3.49it/s]"
     ]
    },
    {
     "data": {
      "text/plain": [
       "'C:\\\\Users\\\\ashis\\\\OneDrive\\\\Documents\\\\summer project\\\\summer project - 3d\\\\week2\\\\new_data\\\\image\\\\000041_10_0.png'"
      ]
     },
     "metadata": {},
     "output_type": "display_data"
    },
    {
     "data": {
      "text/plain": [
       "'C:\\\\Users\\\\ashis\\\\OneDrive\\\\Documents\\\\summer project\\\\summer project - 3d\\\\week2\\\\new_data\\\\mask\\\\000041_10_0.png'"
      ]
     },
     "metadata": {},
     "output_type": "display_data"
    },
    {
     "data": {
      "text/plain": [
       "'C:\\\\Users\\\\ashis\\\\OneDrive\\\\Documents\\\\summer project\\\\summer project - 3d\\\\week2\\\\new_data\\\\image\\\\000041_10_1.png'"
      ]
     },
     "metadata": {},
     "output_type": "display_data"
    },
    {
     "data": {
      "text/plain": [
       "'C:\\\\Users\\\\ashis\\\\OneDrive\\\\Documents\\\\summer project\\\\summer project - 3d\\\\week2\\\\new_data\\\\mask\\\\000041_10_1.png'"
      ]
     },
     "metadata": {},
     "output_type": "display_data"
    },
    {
     "data": {
      "text/plain": [
       "'C:\\\\Users\\\\ashis\\\\OneDrive\\\\Documents\\\\summer project\\\\summer project - 3d\\\\week2\\\\new_data\\\\image\\\\000041_10_2.png'"
      ]
     },
     "metadata": {},
     "output_type": "display_data"
    },
    {
     "data": {
      "text/plain": [
       "'C:\\\\Users\\\\ashis\\\\OneDrive\\\\Documents\\\\summer project\\\\summer project - 3d\\\\week2\\\\new_data\\\\mask\\\\000041_10_2.png'"
      ]
     },
     "metadata": {},
     "output_type": "display_data"
    },
    {
     "data": {
      "text/plain": [
       "'C:\\\\Users\\\\ashis\\\\OneDrive\\\\Documents\\\\summer project\\\\summer project - 3d\\\\week2\\\\new_data\\\\image\\\\000041_10_3.png'"
      ]
     },
     "metadata": {},
     "output_type": "display_data"
    },
    {
     "data": {
      "text/plain": [
       "'C:\\\\Users\\\\ashis\\\\OneDrive\\\\Documents\\\\summer project\\\\summer project - 3d\\\\week2\\\\new_data\\\\mask\\\\000041_10_3.png'"
      ]
     },
     "metadata": {},
     "output_type": "display_data"
    },
    {
     "data": {
      "text/plain": [
       "'C:\\\\Users\\\\ashis\\\\OneDrive\\\\Documents\\\\summer project\\\\summer project - 3d\\\\week2\\\\new_data\\\\image\\\\000041_10_4.png'"
      ]
     },
     "metadata": {},
     "output_type": "display_data"
    },
    {
     "data": {
      "text/plain": [
       "'C:\\\\Users\\\\ashis\\\\OneDrive\\\\Documents\\\\summer project\\\\summer project - 3d\\\\week2\\\\new_data\\\\mask\\\\000041_10_4.png'"
      ]
     },
     "metadata": {},
     "output_type": "display_data"
    },
    {
     "data": {
      "text/plain": [
       "'C:\\\\Users\\\\ashis\\\\OneDrive\\\\Documents\\\\summer project\\\\summer project - 3d\\\\week2\\\\new_data\\\\image\\\\000041_10_5.png'"
      ]
     },
     "metadata": {},
     "output_type": "display_data"
    },
    {
     "data": {
      "text/plain": [
       "'C:\\\\Users\\\\ashis\\\\OneDrive\\\\Documents\\\\summer project\\\\summer project - 3d\\\\week2\\\\new_data\\\\mask\\\\000041_10_5.png'"
      ]
     },
     "metadata": {},
     "output_type": "display_data"
    },
    {
     "name": "stderr",
     "output_type": "stream",
     "text": [
      "\r",
      " 21%|█████████████████                                                                | 42/200 [00:12<00:44,  3.58it/s]"
     ]
    },
    {
     "data": {
      "text/plain": [
       "'C:\\\\Users\\\\ashis\\\\OneDrive\\\\Documents\\\\summer project\\\\summer project - 3d\\\\week2\\\\new_data\\\\image\\\\000042_10_0.png'"
      ]
     },
     "metadata": {},
     "output_type": "display_data"
    },
    {
     "data": {
      "text/plain": [
       "'C:\\\\Users\\\\ashis\\\\OneDrive\\\\Documents\\\\summer project\\\\summer project - 3d\\\\week2\\\\new_data\\\\mask\\\\000042_10_0.png'"
      ]
     },
     "metadata": {},
     "output_type": "display_data"
    },
    {
     "data": {
      "text/plain": [
       "'C:\\\\Users\\\\ashis\\\\OneDrive\\\\Documents\\\\summer project\\\\summer project - 3d\\\\week2\\\\new_data\\\\image\\\\000042_10_1.png'"
      ]
     },
     "metadata": {},
     "output_type": "display_data"
    },
    {
     "data": {
      "text/plain": [
       "'C:\\\\Users\\\\ashis\\\\OneDrive\\\\Documents\\\\summer project\\\\summer project - 3d\\\\week2\\\\new_data\\\\mask\\\\000042_10_1.png'"
      ]
     },
     "metadata": {},
     "output_type": "display_data"
    },
    {
     "data": {
      "text/plain": [
       "'C:\\\\Users\\\\ashis\\\\OneDrive\\\\Documents\\\\summer project\\\\summer project - 3d\\\\week2\\\\new_data\\\\image\\\\000042_10_2.png'"
      ]
     },
     "metadata": {},
     "output_type": "display_data"
    },
    {
     "data": {
      "text/plain": [
       "'C:\\\\Users\\\\ashis\\\\OneDrive\\\\Documents\\\\summer project\\\\summer project - 3d\\\\week2\\\\new_data\\\\mask\\\\000042_10_2.png'"
      ]
     },
     "metadata": {},
     "output_type": "display_data"
    },
    {
     "data": {
      "text/plain": [
       "'C:\\\\Users\\\\ashis\\\\OneDrive\\\\Documents\\\\summer project\\\\summer project - 3d\\\\week2\\\\new_data\\\\image\\\\000042_10_3.png'"
      ]
     },
     "metadata": {},
     "output_type": "display_data"
    },
    {
     "data": {
      "text/plain": [
       "'C:\\\\Users\\\\ashis\\\\OneDrive\\\\Documents\\\\summer project\\\\summer project - 3d\\\\week2\\\\new_data\\\\mask\\\\000042_10_3.png'"
      ]
     },
     "metadata": {},
     "output_type": "display_data"
    },
    {
     "data": {
      "text/plain": [
       "'C:\\\\Users\\\\ashis\\\\OneDrive\\\\Documents\\\\summer project\\\\summer project - 3d\\\\week2\\\\new_data\\\\image\\\\000042_10_4.png'"
      ]
     },
     "metadata": {},
     "output_type": "display_data"
    },
    {
     "data": {
      "text/plain": [
       "'C:\\\\Users\\\\ashis\\\\OneDrive\\\\Documents\\\\summer project\\\\summer project - 3d\\\\week2\\\\new_data\\\\mask\\\\000042_10_4.png'"
      ]
     },
     "metadata": {},
     "output_type": "display_data"
    },
    {
     "data": {
      "text/plain": [
       "'C:\\\\Users\\\\ashis\\\\OneDrive\\\\Documents\\\\summer project\\\\summer project - 3d\\\\week2\\\\new_data\\\\image\\\\000042_10_5.png'"
      ]
     },
     "metadata": {},
     "output_type": "display_data"
    },
    {
     "data": {
      "text/plain": [
       "'C:\\\\Users\\\\ashis\\\\OneDrive\\\\Documents\\\\summer project\\\\summer project - 3d\\\\week2\\\\new_data\\\\mask\\\\000042_10_5.png'"
      ]
     },
     "metadata": {},
     "output_type": "display_data"
    },
    {
     "name": "stderr",
     "output_type": "stream",
     "text": [
      "\r",
      " 22%|█████████████████▍                                                               | 43/200 [00:13<00:43,  3.61it/s]"
     ]
    },
    {
     "data": {
      "text/plain": [
       "'C:\\\\Users\\\\ashis\\\\OneDrive\\\\Documents\\\\summer project\\\\summer project - 3d\\\\week2\\\\new_data\\\\image\\\\000043_10_0.png'"
      ]
     },
     "metadata": {},
     "output_type": "display_data"
    },
    {
     "data": {
      "text/plain": [
       "'C:\\\\Users\\\\ashis\\\\OneDrive\\\\Documents\\\\summer project\\\\summer project - 3d\\\\week2\\\\new_data\\\\mask\\\\000043_10_0.png'"
      ]
     },
     "metadata": {},
     "output_type": "display_data"
    },
    {
     "data": {
      "text/plain": [
       "'C:\\\\Users\\\\ashis\\\\OneDrive\\\\Documents\\\\summer project\\\\summer project - 3d\\\\week2\\\\new_data\\\\image\\\\000043_10_1.png'"
      ]
     },
     "metadata": {},
     "output_type": "display_data"
    },
    {
     "data": {
      "text/plain": [
       "'C:\\\\Users\\\\ashis\\\\OneDrive\\\\Documents\\\\summer project\\\\summer project - 3d\\\\week2\\\\new_data\\\\mask\\\\000043_10_1.png'"
      ]
     },
     "metadata": {},
     "output_type": "display_data"
    },
    {
     "data": {
      "text/plain": [
       "'C:\\\\Users\\\\ashis\\\\OneDrive\\\\Documents\\\\summer project\\\\summer project - 3d\\\\week2\\\\new_data\\\\image\\\\000043_10_2.png'"
      ]
     },
     "metadata": {},
     "output_type": "display_data"
    },
    {
     "data": {
      "text/plain": [
       "'C:\\\\Users\\\\ashis\\\\OneDrive\\\\Documents\\\\summer project\\\\summer project - 3d\\\\week2\\\\new_data\\\\mask\\\\000043_10_2.png'"
      ]
     },
     "metadata": {},
     "output_type": "display_data"
    },
    {
     "data": {
      "text/plain": [
       "'C:\\\\Users\\\\ashis\\\\OneDrive\\\\Documents\\\\summer project\\\\summer project - 3d\\\\week2\\\\new_data\\\\image\\\\000043_10_3.png'"
      ]
     },
     "metadata": {},
     "output_type": "display_data"
    },
    {
     "data": {
      "text/plain": [
       "'C:\\\\Users\\\\ashis\\\\OneDrive\\\\Documents\\\\summer project\\\\summer project - 3d\\\\week2\\\\new_data\\\\mask\\\\000043_10_3.png'"
      ]
     },
     "metadata": {},
     "output_type": "display_data"
    },
    {
     "data": {
      "text/plain": [
       "'C:\\\\Users\\\\ashis\\\\OneDrive\\\\Documents\\\\summer project\\\\summer project - 3d\\\\week2\\\\new_data\\\\image\\\\000043_10_4.png'"
      ]
     },
     "metadata": {},
     "output_type": "display_data"
    },
    {
     "data": {
      "text/plain": [
       "'C:\\\\Users\\\\ashis\\\\OneDrive\\\\Documents\\\\summer project\\\\summer project - 3d\\\\week2\\\\new_data\\\\mask\\\\000043_10_4.png'"
      ]
     },
     "metadata": {},
     "output_type": "display_data"
    },
    {
     "data": {
      "text/plain": [
       "'C:\\\\Users\\\\ashis\\\\OneDrive\\\\Documents\\\\summer project\\\\summer project - 3d\\\\week2\\\\new_data\\\\image\\\\000043_10_5.png'"
      ]
     },
     "metadata": {},
     "output_type": "display_data"
    },
    {
     "data": {
      "text/plain": [
       "'C:\\\\Users\\\\ashis\\\\OneDrive\\\\Documents\\\\summer project\\\\summer project - 3d\\\\week2\\\\new_data\\\\mask\\\\000043_10_5.png'"
      ]
     },
     "metadata": {},
     "output_type": "display_data"
    },
    {
     "name": "stderr",
     "output_type": "stream",
     "text": [
      "\r",
      " 22%|█████████████████▊                                                               | 44/200 [00:13<00:43,  3.61it/s]"
     ]
    },
    {
     "data": {
      "text/plain": [
       "'C:\\\\Users\\\\ashis\\\\OneDrive\\\\Documents\\\\summer project\\\\summer project - 3d\\\\week2\\\\new_data\\\\image\\\\000044_10_0.png'"
      ]
     },
     "metadata": {},
     "output_type": "display_data"
    },
    {
     "data": {
      "text/plain": [
       "'C:\\\\Users\\\\ashis\\\\OneDrive\\\\Documents\\\\summer project\\\\summer project - 3d\\\\week2\\\\new_data\\\\mask\\\\000044_10_0.png'"
      ]
     },
     "metadata": {},
     "output_type": "display_data"
    },
    {
     "data": {
      "text/plain": [
       "'C:\\\\Users\\\\ashis\\\\OneDrive\\\\Documents\\\\summer project\\\\summer project - 3d\\\\week2\\\\new_data\\\\image\\\\000044_10_1.png'"
      ]
     },
     "metadata": {},
     "output_type": "display_data"
    },
    {
     "data": {
      "text/plain": [
       "'C:\\\\Users\\\\ashis\\\\OneDrive\\\\Documents\\\\summer project\\\\summer project - 3d\\\\week2\\\\new_data\\\\mask\\\\000044_10_1.png'"
      ]
     },
     "metadata": {},
     "output_type": "display_data"
    },
    {
     "data": {
      "text/plain": [
       "'C:\\\\Users\\\\ashis\\\\OneDrive\\\\Documents\\\\summer project\\\\summer project - 3d\\\\week2\\\\new_data\\\\image\\\\000044_10_2.png'"
      ]
     },
     "metadata": {},
     "output_type": "display_data"
    },
    {
     "data": {
      "text/plain": [
       "'C:\\\\Users\\\\ashis\\\\OneDrive\\\\Documents\\\\summer project\\\\summer project - 3d\\\\week2\\\\new_data\\\\mask\\\\000044_10_2.png'"
      ]
     },
     "metadata": {},
     "output_type": "display_data"
    },
    {
     "data": {
      "text/plain": [
       "'C:\\\\Users\\\\ashis\\\\OneDrive\\\\Documents\\\\summer project\\\\summer project - 3d\\\\week2\\\\new_data\\\\image\\\\000044_10_3.png'"
      ]
     },
     "metadata": {},
     "output_type": "display_data"
    },
    {
     "data": {
      "text/plain": [
       "'C:\\\\Users\\\\ashis\\\\OneDrive\\\\Documents\\\\summer project\\\\summer project - 3d\\\\week2\\\\new_data\\\\mask\\\\000044_10_3.png'"
      ]
     },
     "metadata": {},
     "output_type": "display_data"
    },
    {
     "data": {
      "text/plain": [
       "'C:\\\\Users\\\\ashis\\\\OneDrive\\\\Documents\\\\summer project\\\\summer project - 3d\\\\week2\\\\new_data\\\\image\\\\000044_10_4.png'"
      ]
     },
     "metadata": {},
     "output_type": "display_data"
    },
    {
     "data": {
      "text/plain": [
       "'C:\\\\Users\\\\ashis\\\\OneDrive\\\\Documents\\\\summer project\\\\summer project - 3d\\\\week2\\\\new_data\\\\mask\\\\000044_10_4.png'"
      ]
     },
     "metadata": {},
     "output_type": "display_data"
    },
    {
     "data": {
      "text/plain": [
       "'C:\\\\Users\\\\ashis\\\\OneDrive\\\\Documents\\\\summer project\\\\summer project - 3d\\\\week2\\\\new_data\\\\image\\\\000044_10_5.png'"
      ]
     },
     "metadata": {},
     "output_type": "display_data"
    },
    {
     "data": {
      "text/plain": [
       "'C:\\\\Users\\\\ashis\\\\OneDrive\\\\Documents\\\\summer project\\\\summer project - 3d\\\\week2\\\\new_data\\\\mask\\\\000044_10_5.png'"
      ]
     },
     "metadata": {},
     "output_type": "display_data"
    },
    {
     "name": "stderr",
     "output_type": "stream",
     "text": [
      "\r",
      " 22%|██████████████████▏                                                              | 45/200 [00:13<00:44,  3.52it/s]"
     ]
    },
    {
     "data": {
      "text/plain": [
       "'C:\\\\Users\\\\ashis\\\\OneDrive\\\\Documents\\\\summer project\\\\summer project - 3d\\\\week2\\\\new_data\\\\image\\\\000045_10_0.png'"
      ]
     },
     "metadata": {},
     "output_type": "display_data"
    },
    {
     "data": {
      "text/plain": [
       "'C:\\\\Users\\\\ashis\\\\OneDrive\\\\Documents\\\\summer project\\\\summer project - 3d\\\\week2\\\\new_data\\\\mask\\\\000045_10_0.png'"
      ]
     },
     "metadata": {},
     "output_type": "display_data"
    },
    {
     "data": {
      "text/plain": [
       "'C:\\\\Users\\\\ashis\\\\OneDrive\\\\Documents\\\\summer project\\\\summer project - 3d\\\\week2\\\\new_data\\\\image\\\\000045_10_1.png'"
      ]
     },
     "metadata": {},
     "output_type": "display_data"
    },
    {
     "data": {
      "text/plain": [
       "'C:\\\\Users\\\\ashis\\\\OneDrive\\\\Documents\\\\summer project\\\\summer project - 3d\\\\week2\\\\new_data\\\\mask\\\\000045_10_1.png'"
      ]
     },
     "metadata": {},
     "output_type": "display_data"
    },
    {
     "data": {
      "text/plain": [
       "'C:\\\\Users\\\\ashis\\\\OneDrive\\\\Documents\\\\summer project\\\\summer project - 3d\\\\week2\\\\new_data\\\\image\\\\000045_10_2.png'"
      ]
     },
     "metadata": {},
     "output_type": "display_data"
    },
    {
     "data": {
      "text/plain": [
       "'C:\\\\Users\\\\ashis\\\\OneDrive\\\\Documents\\\\summer project\\\\summer project - 3d\\\\week2\\\\new_data\\\\mask\\\\000045_10_2.png'"
      ]
     },
     "metadata": {},
     "output_type": "display_data"
    },
    {
     "data": {
      "text/plain": [
       "'C:\\\\Users\\\\ashis\\\\OneDrive\\\\Documents\\\\summer project\\\\summer project - 3d\\\\week2\\\\new_data\\\\image\\\\000045_10_3.png'"
      ]
     },
     "metadata": {},
     "output_type": "display_data"
    },
    {
     "data": {
      "text/plain": [
       "'C:\\\\Users\\\\ashis\\\\OneDrive\\\\Documents\\\\summer project\\\\summer project - 3d\\\\week2\\\\new_data\\\\mask\\\\000045_10_3.png'"
      ]
     },
     "metadata": {},
     "output_type": "display_data"
    },
    {
     "data": {
      "text/plain": [
       "'C:\\\\Users\\\\ashis\\\\OneDrive\\\\Documents\\\\summer project\\\\summer project - 3d\\\\week2\\\\new_data\\\\image\\\\000045_10_4.png'"
      ]
     },
     "metadata": {},
     "output_type": "display_data"
    },
    {
     "data": {
      "text/plain": [
       "'C:\\\\Users\\\\ashis\\\\OneDrive\\\\Documents\\\\summer project\\\\summer project - 3d\\\\week2\\\\new_data\\\\mask\\\\000045_10_4.png'"
      ]
     },
     "metadata": {},
     "output_type": "display_data"
    },
    {
     "data": {
      "text/plain": [
       "'C:\\\\Users\\\\ashis\\\\OneDrive\\\\Documents\\\\summer project\\\\summer project - 3d\\\\week2\\\\new_data\\\\image\\\\000045_10_5.png'"
      ]
     },
     "metadata": {},
     "output_type": "display_data"
    },
    {
     "data": {
      "text/plain": [
       "'C:\\\\Users\\\\ashis\\\\OneDrive\\\\Documents\\\\summer project\\\\summer project - 3d\\\\week2\\\\new_data\\\\mask\\\\000045_10_5.png'"
      ]
     },
     "metadata": {},
     "output_type": "display_data"
    },
    {
     "name": "stderr",
     "output_type": "stream",
     "text": [
      "\r",
      " 23%|██████████████████▋                                                              | 46/200 [00:13<00:42,  3.61it/s]"
     ]
    },
    {
     "data": {
      "text/plain": [
       "'C:\\\\Users\\\\ashis\\\\OneDrive\\\\Documents\\\\summer project\\\\summer project - 3d\\\\week2\\\\new_data\\\\image\\\\000046_10_0.png'"
      ]
     },
     "metadata": {},
     "output_type": "display_data"
    },
    {
     "data": {
      "text/plain": [
       "'C:\\\\Users\\\\ashis\\\\OneDrive\\\\Documents\\\\summer project\\\\summer project - 3d\\\\week2\\\\new_data\\\\mask\\\\000046_10_0.png'"
      ]
     },
     "metadata": {},
     "output_type": "display_data"
    },
    {
     "data": {
      "text/plain": [
       "'C:\\\\Users\\\\ashis\\\\OneDrive\\\\Documents\\\\summer project\\\\summer project - 3d\\\\week2\\\\new_data\\\\image\\\\000046_10_1.png'"
      ]
     },
     "metadata": {},
     "output_type": "display_data"
    },
    {
     "data": {
      "text/plain": [
       "'C:\\\\Users\\\\ashis\\\\OneDrive\\\\Documents\\\\summer project\\\\summer project - 3d\\\\week2\\\\new_data\\\\mask\\\\000046_10_1.png'"
      ]
     },
     "metadata": {},
     "output_type": "display_data"
    },
    {
     "data": {
      "text/plain": [
       "'C:\\\\Users\\\\ashis\\\\OneDrive\\\\Documents\\\\summer project\\\\summer project - 3d\\\\week2\\\\new_data\\\\image\\\\000046_10_2.png'"
      ]
     },
     "metadata": {},
     "output_type": "display_data"
    },
    {
     "data": {
      "text/plain": [
       "'C:\\\\Users\\\\ashis\\\\OneDrive\\\\Documents\\\\summer project\\\\summer project - 3d\\\\week2\\\\new_data\\\\mask\\\\000046_10_2.png'"
      ]
     },
     "metadata": {},
     "output_type": "display_data"
    },
    {
     "data": {
      "text/plain": [
       "'C:\\\\Users\\\\ashis\\\\OneDrive\\\\Documents\\\\summer project\\\\summer project - 3d\\\\week2\\\\new_data\\\\image\\\\000046_10_3.png'"
      ]
     },
     "metadata": {},
     "output_type": "display_data"
    },
    {
     "data": {
      "text/plain": [
       "'C:\\\\Users\\\\ashis\\\\OneDrive\\\\Documents\\\\summer project\\\\summer project - 3d\\\\week2\\\\new_data\\\\mask\\\\000046_10_3.png'"
      ]
     },
     "metadata": {},
     "output_type": "display_data"
    },
    {
     "data": {
      "text/plain": [
       "'C:\\\\Users\\\\ashis\\\\OneDrive\\\\Documents\\\\summer project\\\\summer project - 3d\\\\week2\\\\new_data\\\\image\\\\000046_10_4.png'"
      ]
     },
     "metadata": {},
     "output_type": "display_data"
    },
    {
     "data": {
      "text/plain": [
       "'C:\\\\Users\\\\ashis\\\\OneDrive\\\\Documents\\\\summer project\\\\summer project - 3d\\\\week2\\\\new_data\\\\mask\\\\000046_10_4.png'"
      ]
     },
     "metadata": {},
     "output_type": "display_data"
    },
    {
     "data": {
      "text/plain": [
       "'C:\\\\Users\\\\ashis\\\\OneDrive\\\\Documents\\\\summer project\\\\summer project - 3d\\\\week2\\\\new_data\\\\image\\\\000046_10_5.png'"
      ]
     },
     "metadata": {},
     "output_type": "display_data"
    },
    {
     "data": {
      "text/plain": [
       "'C:\\\\Users\\\\ashis\\\\OneDrive\\\\Documents\\\\summer project\\\\summer project - 3d\\\\week2\\\\new_data\\\\mask\\\\000046_10_5.png'"
      ]
     },
     "metadata": {},
     "output_type": "display_data"
    },
    {
     "name": "stderr",
     "output_type": "stream",
     "text": [
      "\r",
      " 24%|███████████████████                                                              | 47/200 [00:14<00:44,  3.46it/s]"
     ]
    },
    {
     "data": {
      "text/plain": [
       "'C:\\\\Users\\\\ashis\\\\OneDrive\\\\Documents\\\\summer project\\\\summer project - 3d\\\\week2\\\\new_data\\\\image\\\\000047_10_0.png'"
      ]
     },
     "metadata": {},
     "output_type": "display_data"
    },
    {
     "data": {
      "text/plain": [
       "'C:\\\\Users\\\\ashis\\\\OneDrive\\\\Documents\\\\summer project\\\\summer project - 3d\\\\week2\\\\new_data\\\\mask\\\\000047_10_0.png'"
      ]
     },
     "metadata": {},
     "output_type": "display_data"
    },
    {
     "data": {
      "text/plain": [
       "'C:\\\\Users\\\\ashis\\\\OneDrive\\\\Documents\\\\summer project\\\\summer project - 3d\\\\week2\\\\new_data\\\\image\\\\000047_10_1.png'"
      ]
     },
     "metadata": {},
     "output_type": "display_data"
    },
    {
     "data": {
      "text/plain": [
       "'C:\\\\Users\\\\ashis\\\\OneDrive\\\\Documents\\\\summer project\\\\summer project - 3d\\\\week2\\\\new_data\\\\mask\\\\000047_10_1.png'"
      ]
     },
     "metadata": {},
     "output_type": "display_data"
    },
    {
     "data": {
      "text/plain": [
       "'C:\\\\Users\\\\ashis\\\\OneDrive\\\\Documents\\\\summer project\\\\summer project - 3d\\\\week2\\\\new_data\\\\image\\\\000047_10_2.png'"
      ]
     },
     "metadata": {},
     "output_type": "display_data"
    },
    {
     "data": {
      "text/plain": [
       "'C:\\\\Users\\\\ashis\\\\OneDrive\\\\Documents\\\\summer project\\\\summer project - 3d\\\\week2\\\\new_data\\\\mask\\\\000047_10_2.png'"
      ]
     },
     "metadata": {},
     "output_type": "display_data"
    },
    {
     "data": {
      "text/plain": [
       "'C:\\\\Users\\\\ashis\\\\OneDrive\\\\Documents\\\\summer project\\\\summer project - 3d\\\\week2\\\\new_data\\\\image\\\\000047_10_3.png'"
      ]
     },
     "metadata": {},
     "output_type": "display_data"
    },
    {
     "data": {
      "text/plain": [
       "'C:\\\\Users\\\\ashis\\\\OneDrive\\\\Documents\\\\summer project\\\\summer project - 3d\\\\week2\\\\new_data\\\\mask\\\\000047_10_3.png'"
      ]
     },
     "metadata": {},
     "output_type": "display_data"
    },
    {
     "data": {
      "text/plain": [
       "'C:\\\\Users\\\\ashis\\\\OneDrive\\\\Documents\\\\summer project\\\\summer project - 3d\\\\week2\\\\new_data\\\\image\\\\000047_10_4.png'"
      ]
     },
     "metadata": {},
     "output_type": "display_data"
    },
    {
     "data": {
      "text/plain": [
       "'C:\\\\Users\\\\ashis\\\\OneDrive\\\\Documents\\\\summer project\\\\summer project - 3d\\\\week2\\\\new_data\\\\mask\\\\000047_10_4.png'"
      ]
     },
     "metadata": {},
     "output_type": "display_data"
    },
    {
     "data": {
      "text/plain": [
       "'C:\\\\Users\\\\ashis\\\\OneDrive\\\\Documents\\\\summer project\\\\summer project - 3d\\\\week2\\\\new_data\\\\image\\\\000047_10_5.png'"
      ]
     },
     "metadata": {},
     "output_type": "display_data"
    },
    {
     "data": {
      "text/plain": [
       "'C:\\\\Users\\\\ashis\\\\OneDrive\\\\Documents\\\\summer project\\\\summer project - 3d\\\\week2\\\\new_data\\\\mask\\\\000047_10_5.png'"
      ]
     },
     "metadata": {},
     "output_type": "display_data"
    },
    {
     "name": "stderr",
     "output_type": "stream",
     "text": [
      "\r",
      " 24%|███████████████████▍                                                             | 48/200 [00:14<00:43,  3.51it/s]"
     ]
    },
    {
     "data": {
      "text/plain": [
       "'C:\\\\Users\\\\ashis\\\\OneDrive\\\\Documents\\\\summer project\\\\summer project - 3d\\\\week2\\\\new_data\\\\image\\\\000048_10_0.png'"
      ]
     },
     "metadata": {},
     "output_type": "display_data"
    },
    {
     "data": {
      "text/plain": [
       "'C:\\\\Users\\\\ashis\\\\OneDrive\\\\Documents\\\\summer project\\\\summer project - 3d\\\\week2\\\\new_data\\\\mask\\\\000048_10_0.png'"
      ]
     },
     "metadata": {},
     "output_type": "display_data"
    },
    {
     "data": {
      "text/plain": [
       "'C:\\\\Users\\\\ashis\\\\OneDrive\\\\Documents\\\\summer project\\\\summer project - 3d\\\\week2\\\\new_data\\\\image\\\\000048_10_1.png'"
      ]
     },
     "metadata": {},
     "output_type": "display_data"
    },
    {
     "data": {
      "text/plain": [
       "'C:\\\\Users\\\\ashis\\\\OneDrive\\\\Documents\\\\summer project\\\\summer project - 3d\\\\week2\\\\new_data\\\\mask\\\\000048_10_1.png'"
      ]
     },
     "metadata": {},
     "output_type": "display_data"
    },
    {
     "data": {
      "text/plain": [
       "'C:\\\\Users\\\\ashis\\\\OneDrive\\\\Documents\\\\summer project\\\\summer project - 3d\\\\week2\\\\new_data\\\\image\\\\000048_10_2.png'"
      ]
     },
     "metadata": {},
     "output_type": "display_data"
    },
    {
     "data": {
      "text/plain": [
       "'C:\\\\Users\\\\ashis\\\\OneDrive\\\\Documents\\\\summer project\\\\summer project - 3d\\\\week2\\\\new_data\\\\mask\\\\000048_10_2.png'"
      ]
     },
     "metadata": {},
     "output_type": "display_data"
    },
    {
     "data": {
      "text/plain": [
       "'C:\\\\Users\\\\ashis\\\\OneDrive\\\\Documents\\\\summer project\\\\summer project - 3d\\\\week2\\\\new_data\\\\image\\\\000048_10_3.png'"
      ]
     },
     "metadata": {},
     "output_type": "display_data"
    },
    {
     "data": {
      "text/plain": [
       "'C:\\\\Users\\\\ashis\\\\OneDrive\\\\Documents\\\\summer project\\\\summer project - 3d\\\\week2\\\\new_data\\\\mask\\\\000048_10_3.png'"
      ]
     },
     "metadata": {},
     "output_type": "display_data"
    },
    {
     "data": {
      "text/plain": [
       "'C:\\\\Users\\\\ashis\\\\OneDrive\\\\Documents\\\\summer project\\\\summer project - 3d\\\\week2\\\\new_data\\\\image\\\\000048_10_4.png'"
      ]
     },
     "metadata": {},
     "output_type": "display_data"
    },
    {
     "data": {
      "text/plain": [
       "'C:\\\\Users\\\\ashis\\\\OneDrive\\\\Documents\\\\summer project\\\\summer project - 3d\\\\week2\\\\new_data\\\\mask\\\\000048_10_4.png'"
      ]
     },
     "metadata": {},
     "output_type": "display_data"
    },
    {
     "data": {
      "text/plain": [
       "'C:\\\\Users\\\\ashis\\\\OneDrive\\\\Documents\\\\summer project\\\\summer project - 3d\\\\week2\\\\new_data\\\\image\\\\000048_10_5.png'"
      ]
     },
     "metadata": {},
     "output_type": "display_data"
    },
    {
     "data": {
      "text/plain": [
       "'C:\\\\Users\\\\ashis\\\\OneDrive\\\\Documents\\\\summer project\\\\summer project - 3d\\\\week2\\\\new_data\\\\mask\\\\000048_10_5.png'"
      ]
     },
     "metadata": {},
     "output_type": "display_data"
    },
    {
     "name": "stderr",
     "output_type": "stream",
     "text": [
      "\r",
      " 24%|███████████████████▊                                                             | 49/200 [00:14<00:41,  3.61it/s]"
     ]
    },
    {
     "data": {
      "text/plain": [
       "'C:\\\\Users\\\\ashis\\\\OneDrive\\\\Documents\\\\summer project\\\\summer project - 3d\\\\week2\\\\new_data\\\\image\\\\000049_10_0.png'"
      ]
     },
     "metadata": {},
     "output_type": "display_data"
    },
    {
     "data": {
      "text/plain": [
       "'C:\\\\Users\\\\ashis\\\\OneDrive\\\\Documents\\\\summer project\\\\summer project - 3d\\\\week2\\\\new_data\\\\mask\\\\000049_10_0.png'"
      ]
     },
     "metadata": {},
     "output_type": "display_data"
    },
    {
     "data": {
      "text/plain": [
       "'C:\\\\Users\\\\ashis\\\\OneDrive\\\\Documents\\\\summer project\\\\summer project - 3d\\\\week2\\\\new_data\\\\image\\\\000049_10_1.png'"
      ]
     },
     "metadata": {},
     "output_type": "display_data"
    },
    {
     "data": {
      "text/plain": [
       "'C:\\\\Users\\\\ashis\\\\OneDrive\\\\Documents\\\\summer project\\\\summer project - 3d\\\\week2\\\\new_data\\\\mask\\\\000049_10_1.png'"
      ]
     },
     "metadata": {},
     "output_type": "display_data"
    },
    {
     "data": {
      "text/plain": [
       "'C:\\\\Users\\\\ashis\\\\OneDrive\\\\Documents\\\\summer project\\\\summer project - 3d\\\\week2\\\\new_data\\\\image\\\\000049_10_2.png'"
      ]
     },
     "metadata": {},
     "output_type": "display_data"
    },
    {
     "data": {
      "text/plain": [
       "'C:\\\\Users\\\\ashis\\\\OneDrive\\\\Documents\\\\summer project\\\\summer project - 3d\\\\week2\\\\new_data\\\\mask\\\\000049_10_2.png'"
      ]
     },
     "metadata": {},
     "output_type": "display_data"
    },
    {
     "data": {
      "text/plain": [
       "'C:\\\\Users\\\\ashis\\\\OneDrive\\\\Documents\\\\summer project\\\\summer project - 3d\\\\week2\\\\new_data\\\\image\\\\000049_10_3.png'"
      ]
     },
     "metadata": {},
     "output_type": "display_data"
    },
    {
     "data": {
      "text/plain": [
       "'C:\\\\Users\\\\ashis\\\\OneDrive\\\\Documents\\\\summer project\\\\summer project - 3d\\\\week2\\\\new_data\\\\mask\\\\000049_10_3.png'"
      ]
     },
     "metadata": {},
     "output_type": "display_data"
    },
    {
     "data": {
      "text/plain": [
       "'C:\\\\Users\\\\ashis\\\\OneDrive\\\\Documents\\\\summer project\\\\summer project - 3d\\\\week2\\\\new_data\\\\image\\\\000049_10_4.png'"
      ]
     },
     "metadata": {},
     "output_type": "display_data"
    },
    {
     "data": {
      "text/plain": [
       "'C:\\\\Users\\\\ashis\\\\OneDrive\\\\Documents\\\\summer project\\\\summer project - 3d\\\\week2\\\\new_data\\\\mask\\\\000049_10_4.png'"
      ]
     },
     "metadata": {},
     "output_type": "display_data"
    },
    {
     "data": {
      "text/plain": [
       "'C:\\\\Users\\\\ashis\\\\OneDrive\\\\Documents\\\\summer project\\\\summer project - 3d\\\\week2\\\\new_data\\\\image\\\\000049_10_5.png'"
      ]
     },
     "metadata": {},
     "output_type": "display_data"
    },
    {
     "data": {
      "text/plain": [
       "'C:\\\\Users\\\\ashis\\\\OneDrive\\\\Documents\\\\summer project\\\\summer project - 3d\\\\week2\\\\new_data\\\\mask\\\\000049_10_5.png'"
      ]
     },
     "metadata": {},
     "output_type": "display_data"
    },
    {
     "name": "stderr",
     "output_type": "stream",
     "text": [
      "\r",
      " 25%|████████████████████▎                                                            | 50/200 [00:14<00:42,  3.53it/s]"
     ]
    },
    {
     "data": {
      "text/plain": [
       "'C:\\\\Users\\\\ashis\\\\OneDrive\\\\Documents\\\\summer project\\\\summer project - 3d\\\\week2\\\\new_data\\\\image\\\\000050_10_0.png'"
      ]
     },
     "metadata": {},
     "output_type": "display_data"
    },
    {
     "data": {
      "text/plain": [
       "'C:\\\\Users\\\\ashis\\\\OneDrive\\\\Documents\\\\summer project\\\\summer project - 3d\\\\week2\\\\new_data\\\\mask\\\\000050_10_0.png'"
      ]
     },
     "metadata": {},
     "output_type": "display_data"
    },
    {
     "data": {
      "text/plain": [
       "'C:\\\\Users\\\\ashis\\\\OneDrive\\\\Documents\\\\summer project\\\\summer project - 3d\\\\week2\\\\new_data\\\\image\\\\000050_10_1.png'"
      ]
     },
     "metadata": {},
     "output_type": "display_data"
    },
    {
     "data": {
      "text/plain": [
       "'C:\\\\Users\\\\ashis\\\\OneDrive\\\\Documents\\\\summer project\\\\summer project - 3d\\\\week2\\\\new_data\\\\mask\\\\000050_10_1.png'"
      ]
     },
     "metadata": {},
     "output_type": "display_data"
    },
    {
     "data": {
      "text/plain": [
       "'C:\\\\Users\\\\ashis\\\\OneDrive\\\\Documents\\\\summer project\\\\summer project - 3d\\\\week2\\\\new_data\\\\image\\\\000050_10_2.png'"
      ]
     },
     "metadata": {},
     "output_type": "display_data"
    },
    {
     "data": {
      "text/plain": [
       "'C:\\\\Users\\\\ashis\\\\OneDrive\\\\Documents\\\\summer project\\\\summer project - 3d\\\\week2\\\\new_data\\\\mask\\\\000050_10_2.png'"
      ]
     },
     "metadata": {},
     "output_type": "display_data"
    },
    {
     "data": {
      "text/plain": [
       "'C:\\\\Users\\\\ashis\\\\OneDrive\\\\Documents\\\\summer project\\\\summer project - 3d\\\\week2\\\\new_data\\\\image\\\\000050_10_3.png'"
      ]
     },
     "metadata": {},
     "output_type": "display_data"
    },
    {
     "data": {
      "text/plain": [
       "'C:\\\\Users\\\\ashis\\\\OneDrive\\\\Documents\\\\summer project\\\\summer project - 3d\\\\week2\\\\new_data\\\\mask\\\\000050_10_3.png'"
      ]
     },
     "metadata": {},
     "output_type": "display_data"
    },
    {
     "data": {
      "text/plain": [
       "'C:\\\\Users\\\\ashis\\\\OneDrive\\\\Documents\\\\summer project\\\\summer project - 3d\\\\week2\\\\new_data\\\\image\\\\000050_10_4.png'"
      ]
     },
     "metadata": {},
     "output_type": "display_data"
    },
    {
     "data": {
      "text/plain": [
       "'C:\\\\Users\\\\ashis\\\\OneDrive\\\\Documents\\\\summer project\\\\summer project - 3d\\\\week2\\\\new_data\\\\mask\\\\000050_10_4.png'"
      ]
     },
     "metadata": {},
     "output_type": "display_data"
    },
    {
     "data": {
      "text/plain": [
       "'C:\\\\Users\\\\ashis\\\\OneDrive\\\\Documents\\\\summer project\\\\summer project - 3d\\\\week2\\\\new_data\\\\image\\\\000050_10_5.png'"
      ]
     },
     "metadata": {},
     "output_type": "display_data"
    },
    {
     "data": {
      "text/plain": [
       "'C:\\\\Users\\\\ashis\\\\OneDrive\\\\Documents\\\\summer project\\\\summer project - 3d\\\\week2\\\\new_data\\\\mask\\\\000050_10_5.png'"
      ]
     },
     "metadata": {},
     "output_type": "display_data"
    },
    {
     "name": "stderr",
     "output_type": "stream",
     "text": [
      "\r",
      " 26%|████████████████████▋                                                            | 51/200 [00:15<00:41,  3.58it/s]"
     ]
    },
    {
     "data": {
      "text/plain": [
       "'C:\\\\Users\\\\ashis\\\\OneDrive\\\\Documents\\\\summer project\\\\summer project - 3d\\\\week2\\\\new_data\\\\image\\\\000051_10_0.png'"
      ]
     },
     "metadata": {},
     "output_type": "display_data"
    },
    {
     "data": {
      "text/plain": [
       "'C:\\\\Users\\\\ashis\\\\OneDrive\\\\Documents\\\\summer project\\\\summer project - 3d\\\\week2\\\\new_data\\\\mask\\\\000051_10_0.png'"
      ]
     },
     "metadata": {},
     "output_type": "display_data"
    },
    {
     "data": {
      "text/plain": [
       "'C:\\\\Users\\\\ashis\\\\OneDrive\\\\Documents\\\\summer project\\\\summer project - 3d\\\\week2\\\\new_data\\\\image\\\\000051_10_1.png'"
      ]
     },
     "metadata": {},
     "output_type": "display_data"
    },
    {
     "data": {
      "text/plain": [
       "'C:\\\\Users\\\\ashis\\\\OneDrive\\\\Documents\\\\summer project\\\\summer project - 3d\\\\week2\\\\new_data\\\\mask\\\\000051_10_1.png'"
      ]
     },
     "metadata": {},
     "output_type": "display_data"
    },
    {
     "data": {
      "text/plain": [
       "'C:\\\\Users\\\\ashis\\\\OneDrive\\\\Documents\\\\summer project\\\\summer project - 3d\\\\week2\\\\new_data\\\\image\\\\000051_10_2.png'"
      ]
     },
     "metadata": {},
     "output_type": "display_data"
    },
    {
     "data": {
      "text/plain": [
       "'C:\\\\Users\\\\ashis\\\\OneDrive\\\\Documents\\\\summer project\\\\summer project - 3d\\\\week2\\\\new_data\\\\mask\\\\000051_10_2.png'"
      ]
     },
     "metadata": {},
     "output_type": "display_data"
    },
    {
     "data": {
      "text/plain": [
       "'C:\\\\Users\\\\ashis\\\\OneDrive\\\\Documents\\\\summer project\\\\summer project - 3d\\\\week2\\\\new_data\\\\image\\\\000051_10_3.png'"
      ]
     },
     "metadata": {},
     "output_type": "display_data"
    },
    {
     "data": {
      "text/plain": [
       "'C:\\\\Users\\\\ashis\\\\OneDrive\\\\Documents\\\\summer project\\\\summer project - 3d\\\\week2\\\\new_data\\\\mask\\\\000051_10_3.png'"
      ]
     },
     "metadata": {},
     "output_type": "display_data"
    },
    {
     "data": {
      "text/plain": [
       "'C:\\\\Users\\\\ashis\\\\OneDrive\\\\Documents\\\\summer project\\\\summer project - 3d\\\\week2\\\\new_data\\\\image\\\\000051_10_4.png'"
      ]
     },
     "metadata": {},
     "output_type": "display_data"
    },
    {
     "data": {
      "text/plain": [
       "'C:\\\\Users\\\\ashis\\\\OneDrive\\\\Documents\\\\summer project\\\\summer project - 3d\\\\week2\\\\new_data\\\\mask\\\\000051_10_4.png'"
      ]
     },
     "metadata": {},
     "output_type": "display_data"
    },
    {
     "data": {
      "text/plain": [
       "'C:\\\\Users\\\\ashis\\\\OneDrive\\\\Documents\\\\summer project\\\\summer project - 3d\\\\week2\\\\new_data\\\\image\\\\000051_10_5.png'"
      ]
     },
     "metadata": {},
     "output_type": "display_data"
    },
    {
     "data": {
      "text/plain": [
       "'C:\\\\Users\\\\ashis\\\\OneDrive\\\\Documents\\\\summer project\\\\summer project - 3d\\\\week2\\\\new_data\\\\mask\\\\000051_10_5.png'"
      ]
     },
     "metadata": {},
     "output_type": "display_data"
    },
    {
     "name": "stderr",
     "output_type": "stream",
     "text": [
      "\r",
      " 26%|█████████████████████                                                            | 52/200 [00:15<00:41,  3.59it/s]"
     ]
    },
    {
     "data": {
      "text/plain": [
       "'C:\\\\Users\\\\ashis\\\\OneDrive\\\\Documents\\\\summer project\\\\summer project - 3d\\\\week2\\\\new_data\\\\image\\\\000052_10_0.png'"
      ]
     },
     "metadata": {},
     "output_type": "display_data"
    },
    {
     "data": {
      "text/plain": [
       "'C:\\\\Users\\\\ashis\\\\OneDrive\\\\Documents\\\\summer project\\\\summer project - 3d\\\\week2\\\\new_data\\\\mask\\\\000052_10_0.png'"
      ]
     },
     "metadata": {},
     "output_type": "display_data"
    },
    {
     "data": {
      "text/plain": [
       "'C:\\\\Users\\\\ashis\\\\OneDrive\\\\Documents\\\\summer project\\\\summer project - 3d\\\\week2\\\\new_data\\\\image\\\\000052_10_1.png'"
      ]
     },
     "metadata": {},
     "output_type": "display_data"
    },
    {
     "data": {
      "text/plain": [
       "'C:\\\\Users\\\\ashis\\\\OneDrive\\\\Documents\\\\summer project\\\\summer project - 3d\\\\week2\\\\new_data\\\\mask\\\\000052_10_1.png'"
      ]
     },
     "metadata": {},
     "output_type": "display_data"
    },
    {
     "data": {
      "text/plain": [
       "'C:\\\\Users\\\\ashis\\\\OneDrive\\\\Documents\\\\summer project\\\\summer project - 3d\\\\week2\\\\new_data\\\\image\\\\000052_10_2.png'"
      ]
     },
     "metadata": {},
     "output_type": "display_data"
    },
    {
     "data": {
      "text/plain": [
       "'C:\\\\Users\\\\ashis\\\\OneDrive\\\\Documents\\\\summer project\\\\summer project - 3d\\\\week2\\\\new_data\\\\mask\\\\000052_10_2.png'"
      ]
     },
     "metadata": {},
     "output_type": "display_data"
    },
    {
     "data": {
      "text/plain": [
       "'C:\\\\Users\\\\ashis\\\\OneDrive\\\\Documents\\\\summer project\\\\summer project - 3d\\\\week2\\\\new_data\\\\image\\\\000052_10_3.png'"
      ]
     },
     "metadata": {},
     "output_type": "display_data"
    },
    {
     "data": {
      "text/plain": [
       "'C:\\\\Users\\\\ashis\\\\OneDrive\\\\Documents\\\\summer project\\\\summer project - 3d\\\\week2\\\\new_data\\\\mask\\\\000052_10_3.png'"
      ]
     },
     "metadata": {},
     "output_type": "display_data"
    },
    {
     "data": {
      "text/plain": [
       "'C:\\\\Users\\\\ashis\\\\OneDrive\\\\Documents\\\\summer project\\\\summer project - 3d\\\\week2\\\\new_data\\\\image\\\\000052_10_4.png'"
      ]
     },
     "metadata": {},
     "output_type": "display_data"
    },
    {
     "data": {
      "text/plain": [
       "'C:\\\\Users\\\\ashis\\\\OneDrive\\\\Documents\\\\summer project\\\\summer project - 3d\\\\week2\\\\new_data\\\\mask\\\\000052_10_4.png'"
      ]
     },
     "metadata": {},
     "output_type": "display_data"
    },
    {
     "data": {
      "text/plain": [
       "'C:\\\\Users\\\\ashis\\\\OneDrive\\\\Documents\\\\summer project\\\\summer project - 3d\\\\week2\\\\new_data\\\\image\\\\000052_10_5.png'"
      ]
     },
     "metadata": {},
     "output_type": "display_data"
    },
    {
     "data": {
      "text/plain": [
       "'C:\\\\Users\\\\ashis\\\\OneDrive\\\\Documents\\\\summer project\\\\summer project - 3d\\\\week2\\\\new_data\\\\mask\\\\000052_10_5.png'"
      ]
     },
     "metadata": {},
     "output_type": "display_data"
    },
    {
     "name": "stderr",
     "output_type": "stream",
     "text": [
      "\r",
      " 26%|█████████████████████▍                                                           | 53/200 [00:15<00:40,  3.62it/s]"
     ]
    },
    {
     "data": {
      "text/plain": [
       "'C:\\\\Users\\\\ashis\\\\OneDrive\\\\Documents\\\\summer project\\\\summer project - 3d\\\\week2\\\\new_data\\\\image\\\\000053_10_0.png'"
      ]
     },
     "metadata": {},
     "output_type": "display_data"
    },
    {
     "data": {
      "text/plain": [
       "'C:\\\\Users\\\\ashis\\\\OneDrive\\\\Documents\\\\summer project\\\\summer project - 3d\\\\week2\\\\new_data\\\\mask\\\\000053_10_0.png'"
      ]
     },
     "metadata": {},
     "output_type": "display_data"
    },
    {
     "data": {
      "text/plain": [
       "'C:\\\\Users\\\\ashis\\\\OneDrive\\\\Documents\\\\summer project\\\\summer project - 3d\\\\week2\\\\new_data\\\\image\\\\000053_10_1.png'"
      ]
     },
     "metadata": {},
     "output_type": "display_data"
    },
    {
     "data": {
      "text/plain": [
       "'C:\\\\Users\\\\ashis\\\\OneDrive\\\\Documents\\\\summer project\\\\summer project - 3d\\\\week2\\\\new_data\\\\mask\\\\000053_10_1.png'"
      ]
     },
     "metadata": {},
     "output_type": "display_data"
    },
    {
     "data": {
      "text/plain": [
       "'C:\\\\Users\\\\ashis\\\\OneDrive\\\\Documents\\\\summer project\\\\summer project - 3d\\\\week2\\\\new_data\\\\image\\\\000053_10_2.png'"
      ]
     },
     "metadata": {},
     "output_type": "display_data"
    },
    {
     "data": {
      "text/plain": [
       "'C:\\\\Users\\\\ashis\\\\OneDrive\\\\Documents\\\\summer project\\\\summer project - 3d\\\\week2\\\\new_data\\\\mask\\\\000053_10_2.png'"
      ]
     },
     "metadata": {},
     "output_type": "display_data"
    },
    {
     "data": {
      "text/plain": [
       "'C:\\\\Users\\\\ashis\\\\OneDrive\\\\Documents\\\\summer project\\\\summer project - 3d\\\\week2\\\\new_data\\\\image\\\\000053_10_3.png'"
      ]
     },
     "metadata": {},
     "output_type": "display_data"
    },
    {
     "data": {
      "text/plain": [
       "'C:\\\\Users\\\\ashis\\\\OneDrive\\\\Documents\\\\summer project\\\\summer project - 3d\\\\week2\\\\new_data\\\\mask\\\\000053_10_3.png'"
      ]
     },
     "metadata": {},
     "output_type": "display_data"
    },
    {
     "data": {
      "text/plain": [
       "'C:\\\\Users\\\\ashis\\\\OneDrive\\\\Documents\\\\summer project\\\\summer project - 3d\\\\week2\\\\new_data\\\\image\\\\000053_10_4.png'"
      ]
     },
     "metadata": {},
     "output_type": "display_data"
    },
    {
     "data": {
      "text/plain": [
       "'C:\\\\Users\\\\ashis\\\\OneDrive\\\\Documents\\\\summer project\\\\summer project - 3d\\\\week2\\\\new_data\\\\mask\\\\000053_10_4.png'"
      ]
     },
     "metadata": {},
     "output_type": "display_data"
    },
    {
     "data": {
      "text/plain": [
       "'C:\\\\Users\\\\ashis\\\\OneDrive\\\\Documents\\\\summer project\\\\summer project - 3d\\\\week2\\\\new_data\\\\image\\\\000053_10_5.png'"
      ]
     },
     "metadata": {},
     "output_type": "display_data"
    },
    {
     "data": {
      "text/plain": [
       "'C:\\\\Users\\\\ashis\\\\OneDrive\\\\Documents\\\\summer project\\\\summer project - 3d\\\\week2\\\\new_data\\\\mask\\\\000053_10_5.png'"
      ]
     },
     "metadata": {},
     "output_type": "display_data"
    },
    {
     "name": "stderr",
     "output_type": "stream",
     "text": [
      "\r",
      " 27%|█████████████████████▊                                                           | 54/200 [00:16<00:40,  3.61it/s]"
     ]
    },
    {
     "data": {
      "text/plain": [
       "'C:\\\\Users\\\\ashis\\\\OneDrive\\\\Documents\\\\summer project\\\\summer project - 3d\\\\week2\\\\new_data\\\\image\\\\000054_10_0.png'"
      ]
     },
     "metadata": {},
     "output_type": "display_data"
    },
    {
     "data": {
      "text/plain": [
       "'C:\\\\Users\\\\ashis\\\\OneDrive\\\\Documents\\\\summer project\\\\summer project - 3d\\\\week2\\\\new_data\\\\mask\\\\000054_10_0.png'"
      ]
     },
     "metadata": {},
     "output_type": "display_data"
    },
    {
     "data": {
      "text/plain": [
       "'C:\\\\Users\\\\ashis\\\\OneDrive\\\\Documents\\\\summer project\\\\summer project - 3d\\\\week2\\\\new_data\\\\image\\\\000054_10_1.png'"
      ]
     },
     "metadata": {},
     "output_type": "display_data"
    },
    {
     "data": {
      "text/plain": [
       "'C:\\\\Users\\\\ashis\\\\OneDrive\\\\Documents\\\\summer project\\\\summer project - 3d\\\\week2\\\\new_data\\\\mask\\\\000054_10_1.png'"
      ]
     },
     "metadata": {},
     "output_type": "display_data"
    },
    {
     "data": {
      "text/plain": [
       "'C:\\\\Users\\\\ashis\\\\OneDrive\\\\Documents\\\\summer project\\\\summer project - 3d\\\\week2\\\\new_data\\\\image\\\\000054_10_2.png'"
      ]
     },
     "metadata": {},
     "output_type": "display_data"
    },
    {
     "data": {
      "text/plain": [
       "'C:\\\\Users\\\\ashis\\\\OneDrive\\\\Documents\\\\summer project\\\\summer project - 3d\\\\week2\\\\new_data\\\\mask\\\\000054_10_2.png'"
      ]
     },
     "metadata": {},
     "output_type": "display_data"
    },
    {
     "data": {
      "text/plain": [
       "'C:\\\\Users\\\\ashis\\\\OneDrive\\\\Documents\\\\summer project\\\\summer project - 3d\\\\week2\\\\new_data\\\\image\\\\000054_10_3.png'"
      ]
     },
     "metadata": {},
     "output_type": "display_data"
    },
    {
     "data": {
      "text/plain": [
       "'C:\\\\Users\\\\ashis\\\\OneDrive\\\\Documents\\\\summer project\\\\summer project - 3d\\\\week2\\\\new_data\\\\mask\\\\000054_10_3.png'"
      ]
     },
     "metadata": {},
     "output_type": "display_data"
    },
    {
     "data": {
      "text/plain": [
       "'C:\\\\Users\\\\ashis\\\\OneDrive\\\\Documents\\\\summer project\\\\summer project - 3d\\\\week2\\\\new_data\\\\image\\\\000054_10_4.png'"
      ]
     },
     "metadata": {},
     "output_type": "display_data"
    },
    {
     "data": {
      "text/plain": [
       "'C:\\\\Users\\\\ashis\\\\OneDrive\\\\Documents\\\\summer project\\\\summer project - 3d\\\\week2\\\\new_data\\\\mask\\\\000054_10_4.png'"
      ]
     },
     "metadata": {},
     "output_type": "display_data"
    },
    {
     "data": {
      "text/plain": [
       "'C:\\\\Users\\\\ashis\\\\OneDrive\\\\Documents\\\\summer project\\\\summer project - 3d\\\\week2\\\\new_data\\\\image\\\\000054_10_5.png'"
      ]
     },
     "metadata": {},
     "output_type": "display_data"
    },
    {
     "data": {
      "text/plain": [
       "'C:\\\\Users\\\\ashis\\\\OneDrive\\\\Documents\\\\summer project\\\\summer project - 3d\\\\week2\\\\new_data\\\\mask\\\\000054_10_5.png'"
      ]
     },
     "metadata": {},
     "output_type": "display_data"
    },
    {
     "name": "stderr",
     "output_type": "stream",
     "text": [
      "\r",
      " 28%|██████████████████████▎                                                          | 55/200 [00:16<00:38,  3.72it/s]"
     ]
    },
    {
     "data": {
      "text/plain": [
       "'C:\\\\Users\\\\ashis\\\\OneDrive\\\\Documents\\\\summer project\\\\summer project - 3d\\\\week2\\\\new_data\\\\image\\\\000055_10_0.png'"
      ]
     },
     "metadata": {},
     "output_type": "display_data"
    },
    {
     "data": {
      "text/plain": [
       "'C:\\\\Users\\\\ashis\\\\OneDrive\\\\Documents\\\\summer project\\\\summer project - 3d\\\\week2\\\\new_data\\\\mask\\\\000055_10_0.png'"
      ]
     },
     "metadata": {},
     "output_type": "display_data"
    },
    {
     "data": {
      "text/plain": [
       "'C:\\\\Users\\\\ashis\\\\OneDrive\\\\Documents\\\\summer project\\\\summer project - 3d\\\\week2\\\\new_data\\\\image\\\\000055_10_1.png'"
      ]
     },
     "metadata": {},
     "output_type": "display_data"
    },
    {
     "data": {
      "text/plain": [
       "'C:\\\\Users\\\\ashis\\\\OneDrive\\\\Documents\\\\summer project\\\\summer project - 3d\\\\week2\\\\new_data\\\\mask\\\\000055_10_1.png'"
      ]
     },
     "metadata": {},
     "output_type": "display_data"
    },
    {
     "data": {
      "text/plain": [
       "'C:\\\\Users\\\\ashis\\\\OneDrive\\\\Documents\\\\summer project\\\\summer project - 3d\\\\week2\\\\new_data\\\\image\\\\000055_10_2.png'"
      ]
     },
     "metadata": {},
     "output_type": "display_data"
    },
    {
     "data": {
      "text/plain": [
       "'C:\\\\Users\\\\ashis\\\\OneDrive\\\\Documents\\\\summer project\\\\summer project - 3d\\\\week2\\\\new_data\\\\mask\\\\000055_10_2.png'"
      ]
     },
     "metadata": {},
     "output_type": "display_data"
    },
    {
     "data": {
      "text/plain": [
       "'C:\\\\Users\\\\ashis\\\\OneDrive\\\\Documents\\\\summer project\\\\summer project - 3d\\\\week2\\\\new_data\\\\image\\\\000055_10_3.png'"
      ]
     },
     "metadata": {},
     "output_type": "display_data"
    },
    {
     "data": {
      "text/plain": [
       "'C:\\\\Users\\\\ashis\\\\OneDrive\\\\Documents\\\\summer project\\\\summer project - 3d\\\\week2\\\\new_data\\\\mask\\\\000055_10_3.png'"
      ]
     },
     "metadata": {},
     "output_type": "display_data"
    },
    {
     "data": {
      "text/plain": [
       "'C:\\\\Users\\\\ashis\\\\OneDrive\\\\Documents\\\\summer project\\\\summer project - 3d\\\\week2\\\\new_data\\\\image\\\\000055_10_4.png'"
      ]
     },
     "metadata": {},
     "output_type": "display_data"
    },
    {
     "data": {
      "text/plain": [
       "'C:\\\\Users\\\\ashis\\\\OneDrive\\\\Documents\\\\summer project\\\\summer project - 3d\\\\week2\\\\new_data\\\\mask\\\\000055_10_4.png'"
      ]
     },
     "metadata": {},
     "output_type": "display_data"
    },
    {
     "data": {
      "text/plain": [
       "'C:\\\\Users\\\\ashis\\\\OneDrive\\\\Documents\\\\summer project\\\\summer project - 3d\\\\week2\\\\new_data\\\\image\\\\000055_10_5.png'"
      ]
     },
     "metadata": {},
     "output_type": "display_data"
    },
    {
     "data": {
      "text/plain": [
       "'C:\\\\Users\\\\ashis\\\\OneDrive\\\\Documents\\\\summer project\\\\summer project - 3d\\\\week2\\\\new_data\\\\mask\\\\000055_10_5.png'"
      ]
     },
     "metadata": {},
     "output_type": "display_data"
    },
    {
     "name": "stderr",
     "output_type": "stream",
     "text": [
      "\r",
      " 28%|██████████████████████▋                                                          | 56/200 [00:16<00:40,  3.52it/s]"
     ]
    },
    {
     "data": {
      "text/plain": [
       "'C:\\\\Users\\\\ashis\\\\OneDrive\\\\Documents\\\\summer project\\\\summer project - 3d\\\\week2\\\\new_data\\\\image\\\\000056_10_0.png'"
      ]
     },
     "metadata": {},
     "output_type": "display_data"
    },
    {
     "data": {
      "text/plain": [
       "'C:\\\\Users\\\\ashis\\\\OneDrive\\\\Documents\\\\summer project\\\\summer project - 3d\\\\week2\\\\new_data\\\\mask\\\\000056_10_0.png'"
      ]
     },
     "metadata": {},
     "output_type": "display_data"
    },
    {
     "data": {
      "text/plain": [
       "'C:\\\\Users\\\\ashis\\\\OneDrive\\\\Documents\\\\summer project\\\\summer project - 3d\\\\week2\\\\new_data\\\\image\\\\000056_10_1.png'"
      ]
     },
     "metadata": {},
     "output_type": "display_data"
    },
    {
     "data": {
      "text/plain": [
       "'C:\\\\Users\\\\ashis\\\\OneDrive\\\\Documents\\\\summer project\\\\summer project - 3d\\\\week2\\\\new_data\\\\mask\\\\000056_10_1.png'"
      ]
     },
     "metadata": {},
     "output_type": "display_data"
    },
    {
     "data": {
      "text/plain": [
       "'C:\\\\Users\\\\ashis\\\\OneDrive\\\\Documents\\\\summer project\\\\summer project - 3d\\\\week2\\\\new_data\\\\image\\\\000056_10_2.png'"
      ]
     },
     "metadata": {},
     "output_type": "display_data"
    },
    {
     "data": {
      "text/plain": [
       "'C:\\\\Users\\\\ashis\\\\OneDrive\\\\Documents\\\\summer project\\\\summer project - 3d\\\\week2\\\\new_data\\\\mask\\\\000056_10_2.png'"
      ]
     },
     "metadata": {},
     "output_type": "display_data"
    },
    {
     "data": {
      "text/plain": [
       "'C:\\\\Users\\\\ashis\\\\OneDrive\\\\Documents\\\\summer project\\\\summer project - 3d\\\\week2\\\\new_data\\\\image\\\\000056_10_3.png'"
      ]
     },
     "metadata": {},
     "output_type": "display_data"
    },
    {
     "data": {
      "text/plain": [
       "'C:\\\\Users\\\\ashis\\\\OneDrive\\\\Documents\\\\summer project\\\\summer project - 3d\\\\week2\\\\new_data\\\\mask\\\\000056_10_3.png'"
      ]
     },
     "metadata": {},
     "output_type": "display_data"
    },
    {
     "data": {
      "text/plain": [
       "'C:\\\\Users\\\\ashis\\\\OneDrive\\\\Documents\\\\summer project\\\\summer project - 3d\\\\week2\\\\new_data\\\\image\\\\000056_10_4.png'"
      ]
     },
     "metadata": {},
     "output_type": "display_data"
    },
    {
     "data": {
      "text/plain": [
       "'C:\\\\Users\\\\ashis\\\\OneDrive\\\\Documents\\\\summer project\\\\summer project - 3d\\\\week2\\\\new_data\\\\mask\\\\000056_10_4.png'"
      ]
     },
     "metadata": {},
     "output_type": "display_data"
    },
    {
     "data": {
      "text/plain": [
       "'C:\\\\Users\\\\ashis\\\\OneDrive\\\\Documents\\\\summer project\\\\summer project - 3d\\\\week2\\\\new_data\\\\image\\\\000056_10_5.png'"
      ]
     },
     "metadata": {},
     "output_type": "display_data"
    },
    {
     "data": {
      "text/plain": [
       "'C:\\\\Users\\\\ashis\\\\OneDrive\\\\Documents\\\\summer project\\\\summer project - 3d\\\\week2\\\\new_data\\\\mask\\\\000056_10_5.png'"
      ]
     },
     "metadata": {},
     "output_type": "display_data"
    },
    {
     "name": "stderr",
     "output_type": "stream",
     "text": [
      "\r",
      " 28%|███████████████████████                                                          | 57/200 [00:16<00:40,  3.56it/s]"
     ]
    },
    {
     "data": {
      "text/plain": [
       "'C:\\\\Users\\\\ashis\\\\OneDrive\\\\Documents\\\\summer project\\\\summer project - 3d\\\\week2\\\\new_data\\\\image\\\\000057_10_0.png'"
      ]
     },
     "metadata": {},
     "output_type": "display_data"
    },
    {
     "data": {
      "text/plain": [
       "'C:\\\\Users\\\\ashis\\\\OneDrive\\\\Documents\\\\summer project\\\\summer project - 3d\\\\week2\\\\new_data\\\\mask\\\\000057_10_0.png'"
      ]
     },
     "metadata": {},
     "output_type": "display_data"
    },
    {
     "data": {
      "text/plain": [
       "'C:\\\\Users\\\\ashis\\\\OneDrive\\\\Documents\\\\summer project\\\\summer project - 3d\\\\week2\\\\new_data\\\\image\\\\000057_10_1.png'"
      ]
     },
     "metadata": {},
     "output_type": "display_data"
    },
    {
     "data": {
      "text/plain": [
       "'C:\\\\Users\\\\ashis\\\\OneDrive\\\\Documents\\\\summer project\\\\summer project - 3d\\\\week2\\\\new_data\\\\mask\\\\000057_10_1.png'"
      ]
     },
     "metadata": {},
     "output_type": "display_data"
    },
    {
     "data": {
      "text/plain": [
       "'C:\\\\Users\\\\ashis\\\\OneDrive\\\\Documents\\\\summer project\\\\summer project - 3d\\\\week2\\\\new_data\\\\image\\\\000057_10_2.png'"
      ]
     },
     "metadata": {},
     "output_type": "display_data"
    },
    {
     "data": {
      "text/plain": [
       "'C:\\\\Users\\\\ashis\\\\OneDrive\\\\Documents\\\\summer project\\\\summer project - 3d\\\\week2\\\\new_data\\\\mask\\\\000057_10_2.png'"
      ]
     },
     "metadata": {},
     "output_type": "display_data"
    },
    {
     "data": {
      "text/plain": [
       "'C:\\\\Users\\\\ashis\\\\OneDrive\\\\Documents\\\\summer project\\\\summer project - 3d\\\\week2\\\\new_data\\\\image\\\\000057_10_3.png'"
      ]
     },
     "metadata": {},
     "output_type": "display_data"
    },
    {
     "data": {
      "text/plain": [
       "'C:\\\\Users\\\\ashis\\\\OneDrive\\\\Documents\\\\summer project\\\\summer project - 3d\\\\week2\\\\new_data\\\\mask\\\\000057_10_3.png'"
      ]
     },
     "metadata": {},
     "output_type": "display_data"
    },
    {
     "data": {
      "text/plain": [
       "'C:\\\\Users\\\\ashis\\\\OneDrive\\\\Documents\\\\summer project\\\\summer project - 3d\\\\week2\\\\new_data\\\\image\\\\000057_10_4.png'"
      ]
     },
     "metadata": {},
     "output_type": "display_data"
    },
    {
     "data": {
      "text/plain": [
       "'C:\\\\Users\\\\ashis\\\\OneDrive\\\\Documents\\\\summer project\\\\summer project - 3d\\\\week2\\\\new_data\\\\mask\\\\000057_10_4.png'"
      ]
     },
     "metadata": {},
     "output_type": "display_data"
    },
    {
     "data": {
      "text/plain": [
       "'C:\\\\Users\\\\ashis\\\\OneDrive\\\\Documents\\\\summer project\\\\summer project - 3d\\\\week2\\\\new_data\\\\image\\\\000057_10_5.png'"
      ]
     },
     "metadata": {},
     "output_type": "display_data"
    },
    {
     "data": {
      "text/plain": [
       "'C:\\\\Users\\\\ashis\\\\OneDrive\\\\Documents\\\\summer project\\\\summer project - 3d\\\\week2\\\\new_data\\\\mask\\\\000057_10_5.png'"
      ]
     },
     "metadata": {},
     "output_type": "display_data"
    },
    {
     "name": "stderr",
     "output_type": "stream",
     "text": [
      "\r",
      " 29%|███████████████████████▍                                                         | 58/200 [00:17<00:38,  3.64it/s]"
     ]
    },
    {
     "data": {
      "text/plain": [
       "'C:\\\\Users\\\\ashis\\\\OneDrive\\\\Documents\\\\summer project\\\\summer project - 3d\\\\week2\\\\new_data\\\\image\\\\000058_10_0.png'"
      ]
     },
     "metadata": {},
     "output_type": "display_data"
    },
    {
     "data": {
      "text/plain": [
       "'C:\\\\Users\\\\ashis\\\\OneDrive\\\\Documents\\\\summer project\\\\summer project - 3d\\\\week2\\\\new_data\\\\mask\\\\000058_10_0.png'"
      ]
     },
     "metadata": {},
     "output_type": "display_data"
    },
    {
     "data": {
      "text/plain": [
       "'C:\\\\Users\\\\ashis\\\\OneDrive\\\\Documents\\\\summer project\\\\summer project - 3d\\\\week2\\\\new_data\\\\image\\\\000058_10_1.png'"
      ]
     },
     "metadata": {},
     "output_type": "display_data"
    },
    {
     "data": {
      "text/plain": [
       "'C:\\\\Users\\\\ashis\\\\OneDrive\\\\Documents\\\\summer project\\\\summer project - 3d\\\\week2\\\\new_data\\\\mask\\\\000058_10_1.png'"
      ]
     },
     "metadata": {},
     "output_type": "display_data"
    },
    {
     "data": {
      "text/plain": [
       "'C:\\\\Users\\\\ashis\\\\OneDrive\\\\Documents\\\\summer project\\\\summer project - 3d\\\\week2\\\\new_data\\\\image\\\\000058_10_2.png'"
      ]
     },
     "metadata": {},
     "output_type": "display_data"
    },
    {
     "data": {
      "text/plain": [
       "'C:\\\\Users\\\\ashis\\\\OneDrive\\\\Documents\\\\summer project\\\\summer project - 3d\\\\week2\\\\new_data\\\\mask\\\\000058_10_2.png'"
      ]
     },
     "metadata": {},
     "output_type": "display_data"
    },
    {
     "data": {
      "text/plain": [
       "'C:\\\\Users\\\\ashis\\\\OneDrive\\\\Documents\\\\summer project\\\\summer project - 3d\\\\week2\\\\new_data\\\\image\\\\000058_10_3.png'"
      ]
     },
     "metadata": {},
     "output_type": "display_data"
    },
    {
     "data": {
      "text/plain": [
       "'C:\\\\Users\\\\ashis\\\\OneDrive\\\\Documents\\\\summer project\\\\summer project - 3d\\\\week2\\\\new_data\\\\mask\\\\000058_10_3.png'"
      ]
     },
     "metadata": {},
     "output_type": "display_data"
    },
    {
     "data": {
      "text/plain": [
       "'C:\\\\Users\\\\ashis\\\\OneDrive\\\\Documents\\\\summer project\\\\summer project - 3d\\\\week2\\\\new_data\\\\image\\\\000058_10_4.png'"
      ]
     },
     "metadata": {},
     "output_type": "display_data"
    },
    {
     "data": {
      "text/plain": [
       "'C:\\\\Users\\\\ashis\\\\OneDrive\\\\Documents\\\\summer project\\\\summer project - 3d\\\\week2\\\\new_data\\\\mask\\\\000058_10_4.png'"
      ]
     },
     "metadata": {},
     "output_type": "display_data"
    },
    {
     "data": {
      "text/plain": [
       "'C:\\\\Users\\\\ashis\\\\OneDrive\\\\Documents\\\\summer project\\\\summer project - 3d\\\\week2\\\\new_data\\\\image\\\\000058_10_5.png'"
      ]
     },
     "metadata": {},
     "output_type": "display_data"
    },
    {
     "data": {
      "text/plain": [
       "'C:\\\\Users\\\\ashis\\\\OneDrive\\\\Documents\\\\summer project\\\\summer project - 3d\\\\week2\\\\new_data\\\\mask\\\\000058_10_5.png'"
      ]
     },
     "metadata": {},
     "output_type": "display_data"
    },
    {
     "name": "stderr",
     "output_type": "stream",
     "text": [
      "\r",
      " 30%|███████████████████████▉                                                         | 59/200 [00:17<00:41,  3.39it/s]"
     ]
    },
    {
     "data": {
      "text/plain": [
       "'C:\\\\Users\\\\ashis\\\\OneDrive\\\\Documents\\\\summer project\\\\summer project - 3d\\\\week2\\\\new_data\\\\image\\\\000059_10_0.png'"
      ]
     },
     "metadata": {},
     "output_type": "display_data"
    },
    {
     "data": {
      "text/plain": [
       "'C:\\\\Users\\\\ashis\\\\OneDrive\\\\Documents\\\\summer project\\\\summer project - 3d\\\\week2\\\\new_data\\\\mask\\\\000059_10_0.png'"
      ]
     },
     "metadata": {},
     "output_type": "display_data"
    },
    {
     "data": {
      "text/plain": [
       "'C:\\\\Users\\\\ashis\\\\OneDrive\\\\Documents\\\\summer project\\\\summer project - 3d\\\\week2\\\\new_data\\\\image\\\\000059_10_1.png'"
      ]
     },
     "metadata": {},
     "output_type": "display_data"
    },
    {
     "data": {
      "text/plain": [
       "'C:\\\\Users\\\\ashis\\\\OneDrive\\\\Documents\\\\summer project\\\\summer project - 3d\\\\week2\\\\new_data\\\\mask\\\\000059_10_1.png'"
      ]
     },
     "metadata": {},
     "output_type": "display_data"
    },
    {
     "data": {
      "text/plain": [
       "'C:\\\\Users\\\\ashis\\\\OneDrive\\\\Documents\\\\summer project\\\\summer project - 3d\\\\week2\\\\new_data\\\\image\\\\000059_10_2.png'"
      ]
     },
     "metadata": {},
     "output_type": "display_data"
    },
    {
     "data": {
      "text/plain": [
       "'C:\\\\Users\\\\ashis\\\\OneDrive\\\\Documents\\\\summer project\\\\summer project - 3d\\\\week2\\\\new_data\\\\mask\\\\000059_10_2.png'"
      ]
     },
     "metadata": {},
     "output_type": "display_data"
    },
    {
     "data": {
      "text/plain": [
       "'C:\\\\Users\\\\ashis\\\\OneDrive\\\\Documents\\\\summer project\\\\summer project - 3d\\\\week2\\\\new_data\\\\image\\\\000059_10_3.png'"
      ]
     },
     "metadata": {},
     "output_type": "display_data"
    },
    {
     "data": {
      "text/plain": [
       "'C:\\\\Users\\\\ashis\\\\OneDrive\\\\Documents\\\\summer project\\\\summer project - 3d\\\\week2\\\\new_data\\\\mask\\\\000059_10_3.png'"
      ]
     },
     "metadata": {},
     "output_type": "display_data"
    },
    {
     "data": {
      "text/plain": [
       "'C:\\\\Users\\\\ashis\\\\OneDrive\\\\Documents\\\\summer project\\\\summer project - 3d\\\\week2\\\\new_data\\\\image\\\\000059_10_4.png'"
      ]
     },
     "metadata": {},
     "output_type": "display_data"
    },
    {
     "data": {
      "text/plain": [
       "'C:\\\\Users\\\\ashis\\\\OneDrive\\\\Documents\\\\summer project\\\\summer project - 3d\\\\week2\\\\new_data\\\\mask\\\\000059_10_4.png'"
      ]
     },
     "metadata": {},
     "output_type": "display_data"
    },
    {
     "data": {
      "text/plain": [
       "'C:\\\\Users\\\\ashis\\\\OneDrive\\\\Documents\\\\summer project\\\\summer project - 3d\\\\week2\\\\new_data\\\\image\\\\000059_10_5.png'"
      ]
     },
     "metadata": {},
     "output_type": "display_data"
    },
    {
     "data": {
      "text/plain": [
       "'C:\\\\Users\\\\ashis\\\\OneDrive\\\\Documents\\\\summer project\\\\summer project - 3d\\\\week2\\\\new_data\\\\mask\\\\000059_10_5.png'"
      ]
     },
     "metadata": {},
     "output_type": "display_data"
    },
    {
     "name": "stderr",
     "output_type": "stream",
     "text": [
      "\r",
      " 30%|████████████████████████▎                                                        | 60/200 [00:17<00:39,  3.52it/s]"
     ]
    },
    {
     "data": {
      "text/plain": [
       "'C:\\\\Users\\\\ashis\\\\OneDrive\\\\Documents\\\\summer project\\\\summer project - 3d\\\\week2\\\\new_data\\\\image\\\\000060_10_0.png'"
      ]
     },
     "metadata": {},
     "output_type": "display_data"
    },
    {
     "data": {
      "text/plain": [
       "'C:\\\\Users\\\\ashis\\\\OneDrive\\\\Documents\\\\summer project\\\\summer project - 3d\\\\week2\\\\new_data\\\\mask\\\\000060_10_0.png'"
      ]
     },
     "metadata": {},
     "output_type": "display_data"
    },
    {
     "data": {
      "text/plain": [
       "'C:\\\\Users\\\\ashis\\\\OneDrive\\\\Documents\\\\summer project\\\\summer project - 3d\\\\week2\\\\new_data\\\\image\\\\000060_10_1.png'"
      ]
     },
     "metadata": {},
     "output_type": "display_data"
    },
    {
     "data": {
      "text/plain": [
       "'C:\\\\Users\\\\ashis\\\\OneDrive\\\\Documents\\\\summer project\\\\summer project - 3d\\\\week2\\\\new_data\\\\mask\\\\000060_10_1.png'"
      ]
     },
     "metadata": {},
     "output_type": "display_data"
    },
    {
     "data": {
      "text/plain": [
       "'C:\\\\Users\\\\ashis\\\\OneDrive\\\\Documents\\\\summer project\\\\summer project - 3d\\\\week2\\\\new_data\\\\image\\\\000060_10_2.png'"
      ]
     },
     "metadata": {},
     "output_type": "display_data"
    },
    {
     "data": {
      "text/plain": [
       "'C:\\\\Users\\\\ashis\\\\OneDrive\\\\Documents\\\\summer project\\\\summer project - 3d\\\\week2\\\\new_data\\\\mask\\\\000060_10_2.png'"
      ]
     },
     "metadata": {},
     "output_type": "display_data"
    },
    {
     "data": {
      "text/plain": [
       "'C:\\\\Users\\\\ashis\\\\OneDrive\\\\Documents\\\\summer project\\\\summer project - 3d\\\\week2\\\\new_data\\\\image\\\\000060_10_3.png'"
      ]
     },
     "metadata": {},
     "output_type": "display_data"
    },
    {
     "data": {
      "text/plain": [
       "'C:\\\\Users\\\\ashis\\\\OneDrive\\\\Documents\\\\summer project\\\\summer project - 3d\\\\week2\\\\new_data\\\\mask\\\\000060_10_3.png'"
      ]
     },
     "metadata": {},
     "output_type": "display_data"
    },
    {
     "data": {
      "text/plain": [
       "'C:\\\\Users\\\\ashis\\\\OneDrive\\\\Documents\\\\summer project\\\\summer project - 3d\\\\week2\\\\new_data\\\\image\\\\000060_10_4.png'"
      ]
     },
     "metadata": {},
     "output_type": "display_data"
    },
    {
     "data": {
      "text/plain": [
       "'C:\\\\Users\\\\ashis\\\\OneDrive\\\\Documents\\\\summer project\\\\summer project - 3d\\\\week2\\\\new_data\\\\mask\\\\000060_10_4.png'"
      ]
     },
     "metadata": {},
     "output_type": "display_data"
    },
    {
     "data": {
      "text/plain": [
       "'C:\\\\Users\\\\ashis\\\\OneDrive\\\\Documents\\\\summer project\\\\summer project - 3d\\\\week2\\\\new_data\\\\image\\\\000060_10_5.png'"
      ]
     },
     "metadata": {},
     "output_type": "display_data"
    },
    {
     "data": {
      "text/plain": [
       "'C:\\\\Users\\\\ashis\\\\OneDrive\\\\Documents\\\\summer project\\\\summer project - 3d\\\\week2\\\\new_data\\\\mask\\\\000060_10_5.png'"
      ]
     },
     "metadata": {},
     "output_type": "display_data"
    },
    {
     "name": "stderr",
     "output_type": "stream",
     "text": [
      "\r",
      " 30%|████████████████████████▋                                                        | 61/200 [00:18<00:39,  3.50it/s]"
     ]
    },
    {
     "data": {
      "text/plain": [
       "'C:\\\\Users\\\\ashis\\\\OneDrive\\\\Documents\\\\summer project\\\\summer project - 3d\\\\week2\\\\new_data\\\\image\\\\000061_10_0.png'"
      ]
     },
     "metadata": {},
     "output_type": "display_data"
    },
    {
     "data": {
      "text/plain": [
       "'C:\\\\Users\\\\ashis\\\\OneDrive\\\\Documents\\\\summer project\\\\summer project - 3d\\\\week2\\\\new_data\\\\mask\\\\000061_10_0.png'"
      ]
     },
     "metadata": {},
     "output_type": "display_data"
    },
    {
     "data": {
      "text/plain": [
       "'C:\\\\Users\\\\ashis\\\\OneDrive\\\\Documents\\\\summer project\\\\summer project - 3d\\\\week2\\\\new_data\\\\image\\\\000061_10_1.png'"
      ]
     },
     "metadata": {},
     "output_type": "display_data"
    },
    {
     "data": {
      "text/plain": [
       "'C:\\\\Users\\\\ashis\\\\OneDrive\\\\Documents\\\\summer project\\\\summer project - 3d\\\\week2\\\\new_data\\\\mask\\\\000061_10_1.png'"
      ]
     },
     "metadata": {},
     "output_type": "display_data"
    },
    {
     "data": {
      "text/plain": [
       "'C:\\\\Users\\\\ashis\\\\OneDrive\\\\Documents\\\\summer project\\\\summer project - 3d\\\\week2\\\\new_data\\\\image\\\\000061_10_2.png'"
      ]
     },
     "metadata": {},
     "output_type": "display_data"
    },
    {
     "data": {
      "text/plain": [
       "'C:\\\\Users\\\\ashis\\\\OneDrive\\\\Documents\\\\summer project\\\\summer project - 3d\\\\week2\\\\new_data\\\\mask\\\\000061_10_2.png'"
      ]
     },
     "metadata": {},
     "output_type": "display_data"
    },
    {
     "data": {
      "text/plain": [
       "'C:\\\\Users\\\\ashis\\\\OneDrive\\\\Documents\\\\summer project\\\\summer project - 3d\\\\week2\\\\new_data\\\\image\\\\000061_10_3.png'"
      ]
     },
     "metadata": {},
     "output_type": "display_data"
    },
    {
     "data": {
      "text/plain": [
       "'C:\\\\Users\\\\ashis\\\\OneDrive\\\\Documents\\\\summer project\\\\summer project - 3d\\\\week2\\\\new_data\\\\mask\\\\000061_10_3.png'"
      ]
     },
     "metadata": {},
     "output_type": "display_data"
    },
    {
     "data": {
      "text/plain": [
       "'C:\\\\Users\\\\ashis\\\\OneDrive\\\\Documents\\\\summer project\\\\summer project - 3d\\\\week2\\\\new_data\\\\image\\\\000061_10_4.png'"
      ]
     },
     "metadata": {},
     "output_type": "display_data"
    },
    {
     "data": {
      "text/plain": [
       "'C:\\\\Users\\\\ashis\\\\OneDrive\\\\Documents\\\\summer project\\\\summer project - 3d\\\\week2\\\\new_data\\\\mask\\\\000061_10_4.png'"
      ]
     },
     "metadata": {},
     "output_type": "display_data"
    },
    {
     "data": {
      "text/plain": [
       "'C:\\\\Users\\\\ashis\\\\OneDrive\\\\Documents\\\\summer project\\\\summer project - 3d\\\\week2\\\\new_data\\\\image\\\\000061_10_5.png'"
      ]
     },
     "metadata": {},
     "output_type": "display_data"
    },
    {
     "data": {
      "text/plain": [
       "'C:\\\\Users\\\\ashis\\\\OneDrive\\\\Documents\\\\summer project\\\\summer project - 3d\\\\week2\\\\new_data\\\\mask\\\\000061_10_5.png'"
      ]
     },
     "metadata": {},
     "output_type": "display_data"
    },
    {
     "name": "stderr",
     "output_type": "stream",
     "text": [
      "\r",
      " 31%|█████████████████████████                                                        | 62/200 [00:18<00:38,  3.54it/s]"
     ]
    },
    {
     "data": {
      "text/plain": [
       "'C:\\\\Users\\\\ashis\\\\OneDrive\\\\Documents\\\\summer project\\\\summer project - 3d\\\\week2\\\\new_data\\\\image\\\\000062_10_0.png'"
      ]
     },
     "metadata": {},
     "output_type": "display_data"
    },
    {
     "data": {
      "text/plain": [
       "'C:\\\\Users\\\\ashis\\\\OneDrive\\\\Documents\\\\summer project\\\\summer project - 3d\\\\week2\\\\new_data\\\\mask\\\\000062_10_0.png'"
      ]
     },
     "metadata": {},
     "output_type": "display_data"
    },
    {
     "data": {
      "text/plain": [
       "'C:\\\\Users\\\\ashis\\\\OneDrive\\\\Documents\\\\summer project\\\\summer project - 3d\\\\week2\\\\new_data\\\\image\\\\000062_10_1.png'"
      ]
     },
     "metadata": {},
     "output_type": "display_data"
    },
    {
     "data": {
      "text/plain": [
       "'C:\\\\Users\\\\ashis\\\\OneDrive\\\\Documents\\\\summer project\\\\summer project - 3d\\\\week2\\\\new_data\\\\mask\\\\000062_10_1.png'"
      ]
     },
     "metadata": {},
     "output_type": "display_data"
    },
    {
     "data": {
      "text/plain": [
       "'C:\\\\Users\\\\ashis\\\\OneDrive\\\\Documents\\\\summer project\\\\summer project - 3d\\\\week2\\\\new_data\\\\image\\\\000062_10_2.png'"
      ]
     },
     "metadata": {},
     "output_type": "display_data"
    },
    {
     "data": {
      "text/plain": [
       "'C:\\\\Users\\\\ashis\\\\OneDrive\\\\Documents\\\\summer project\\\\summer project - 3d\\\\week2\\\\new_data\\\\mask\\\\000062_10_2.png'"
      ]
     },
     "metadata": {},
     "output_type": "display_data"
    },
    {
     "data": {
      "text/plain": [
       "'C:\\\\Users\\\\ashis\\\\OneDrive\\\\Documents\\\\summer project\\\\summer project - 3d\\\\week2\\\\new_data\\\\image\\\\000062_10_3.png'"
      ]
     },
     "metadata": {},
     "output_type": "display_data"
    },
    {
     "data": {
      "text/plain": [
       "'C:\\\\Users\\\\ashis\\\\OneDrive\\\\Documents\\\\summer project\\\\summer project - 3d\\\\week2\\\\new_data\\\\mask\\\\000062_10_3.png'"
      ]
     },
     "metadata": {},
     "output_type": "display_data"
    },
    {
     "data": {
      "text/plain": [
       "'C:\\\\Users\\\\ashis\\\\OneDrive\\\\Documents\\\\summer project\\\\summer project - 3d\\\\week2\\\\new_data\\\\image\\\\000062_10_4.png'"
      ]
     },
     "metadata": {},
     "output_type": "display_data"
    },
    {
     "data": {
      "text/plain": [
       "'C:\\\\Users\\\\ashis\\\\OneDrive\\\\Documents\\\\summer project\\\\summer project - 3d\\\\week2\\\\new_data\\\\mask\\\\000062_10_4.png'"
      ]
     },
     "metadata": {},
     "output_type": "display_data"
    },
    {
     "data": {
      "text/plain": [
       "'C:\\\\Users\\\\ashis\\\\OneDrive\\\\Documents\\\\summer project\\\\summer project - 3d\\\\week2\\\\new_data\\\\image\\\\000062_10_5.png'"
      ]
     },
     "metadata": {},
     "output_type": "display_data"
    },
    {
     "data": {
      "text/plain": [
       "'C:\\\\Users\\\\ashis\\\\OneDrive\\\\Documents\\\\summer project\\\\summer project - 3d\\\\week2\\\\new_data\\\\mask\\\\000062_10_5.png'"
      ]
     },
     "metadata": {},
     "output_type": "display_data"
    },
    {
     "name": "stderr",
     "output_type": "stream",
     "text": [
      "\r",
      " 32%|█████████████████████████▌                                                       | 63/200 [00:18<00:39,  3.49it/s]"
     ]
    },
    {
     "data": {
      "text/plain": [
       "'C:\\\\Users\\\\ashis\\\\OneDrive\\\\Documents\\\\summer project\\\\summer project - 3d\\\\week2\\\\new_data\\\\image\\\\000063_10_0.png'"
      ]
     },
     "metadata": {},
     "output_type": "display_data"
    },
    {
     "data": {
      "text/plain": [
       "'C:\\\\Users\\\\ashis\\\\OneDrive\\\\Documents\\\\summer project\\\\summer project - 3d\\\\week2\\\\new_data\\\\mask\\\\000063_10_0.png'"
      ]
     },
     "metadata": {},
     "output_type": "display_data"
    },
    {
     "data": {
      "text/plain": [
       "'C:\\\\Users\\\\ashis\\\\OneDrive\\\\Documents\\\\summer project\\\\summer project - 3d\\\\week2\\\\new_data\\\\image\\\\000063_10_1.png'"
      ]
     },
     "metadata": {},
     "output_type": "display_data"
    },
    {
     "data": {
      "text/plain": [
       "'C:\\\\Users\\\\ashis\\\\OneDrive\\\\Documents\\\\summer project\\\\summer project - 3d\\\\week2\\\\new_data\\\\mask\\\\000063_10_1.png'"
      ]
     },
     "metadata": {},
     "output_type": "display_data"
    },
    {
     "data": {
      "text/plain": [
       "'C:\\\\Users\\\\ashis\\\\OneDrive\\\\Documents\\\\summer project\\\\summer project - 3d\\\\week2\\\\new_data\\\\image\\\\000063_10_2.png'"
      ]
     },
     "metadata": {},
     "output_type": "display_data"
    },
    {
     "data": {
      "text/plain": [
       "'C:\\\\Users\\\\ashis\\\\OneDrive\\\\Documents\\\\summer project\\\\summer project - 3d\\\\week2\\\\new_data\\\\mask\\\\000063_10_2.png'"
      ]
     },
     "metadata": {},
     "output_type": "display_data"
    },
    {
     "data": {
      "text/plain": [
       "'C:\\\\Users\\\\ashis\\\\OneDrive\\\\Documents\\\\summer project\\\\summer project - 3d\\\\week2\\\\new_data\\\\image\\\\000063_10_3.png'"
      ]
     },
     "metadata": {},
     "output_type": "display_data"
    },
    {
     "data": {
      "text/plain": [
       "'C:\\\\Users\\\\ashis\\\\OneDrive\\\\Documents\\\\summer project\\\\summer project - 3d\\\\week2\\\\new_data\\\\mask\\\\000063_10_3.png'"
      ]
     },
     "metadata": {},
     "output_type": "display_data"
    },
    {
     "data": {
      "text/plain": [
       "'C:\\\\Users\\\\ashis\\\\OneDrive\\\\Documents\\\\summer project\\\\summer project - 3d\\\\week2\\\\new_data\\\\image\\\\000063_10_4.png'"
      ]
     },
     "metadata": {},
     "output_type": "display_data"
    },
    {
     "data": {
      "text/plain": [
       "'C:\\\\Users\\\\ashis\\\\OneDrive\\\\Documents\\\\summer project\\\\summer project - 3d\\\\week2\\\\new_data\\\\mask\\\\000063_10_4.png'"
      ]
     },
     "metadata": {},
     "output_type": "display_data"
    },
    {
     "data": {
      "text/plain": [
       "'C:\\\\Users\\\\ashis\\\\OneDrive\\\\Documents\\\\summer project\\\\summer project - 3d\\\\week2\\\\new_data\\\\image\\\\000063_10_5.png'"
      ]
     },
     "metadata": {},
     "output_type": "display_data"
    },
    {
     "data": {
      "text/plain": [
       "'C:\\\\Users\\\\ashis\\\\OneDrive\\\\Documents\\\\summer project\\\\summer project - 3d\\\\week2\\\\new_data\\\\mask\\\\000063_10_5.png'"
      ]
     },
     "metadata": {},
     "output_type": "display_data"
    },
    {
     "name": "stderr",
     "output_type": "stream",
     "text": [
      "\r",
      " 32%|█████████████████████████▉                                                       | 64/200 [00:18<00:37,  3.58it/s]"
     ]
    },
    {
     "data": {
      "text/plain": [
       "'C:\\\\Users\\\\ashis\\\\OneDrive\\\\Documents\\\\summer project\\\\summer project - 3d\\\\week2\\\\new_data\\\\image\\\\000064_10_0.png'"
      ]
     },
     "metadata": {},
     "output_type": "display_data"
    },
    {
     "data": {
      "text/plain": [
       "'C:\\\\Users\\\\ashis\\\\OneDrive\\\\Documents\\\\summer project\\\\summer project - 3d\\\\week2\\\\new_data\\\\mask\\\\000064_10_0.png'"
      ]
     },
     "metadata": {},
     "output_type": "display_data"
    },
    {
     "data": {
      "text/plain": [
       "'C:\\\\Users\\\\ashis\\\\OneDrive\\\\Documents\\\\summer project\\\\summer project - 3d\\\\week2\\\\new_data\\\\image\\\\000064_10_1.png'"
      ]
     },
     "metadata": {},
     "output_type": "display_data"
    },
    {
     "data": {
      "text/plain": [
       "'C:\\\\Users\\\\ashis\\\\OneDrive\\\\Documents\\\\summer project\\\\summer project - 3d\\\\week2\\\\new_data\\\\mask\\\\000064_10_1.png'"
      ]
     },
     "metadata": {},
     "output_type": "display_data"
    },
    {
     "data": {
      "text/plain": [
       "'C:\\\\Users\\\\ashis\\\\OneDrive\\\\Documents\\\\summer project\\\\summer project - 3d\\\\week2\\\\new_data\\\\image\\\\000064_10_2.png'"
      ]
     },
     "metadata": {},
     "output_type": "display_data"
    },
    {
     "data": {
      "text/plain": [
       "'C:\\\\Users\\\\ashis\\\\OneDrive\\\\Documents\\\\summer project\\\\summer project - 3d\\\\week2\\\\new_data\\\\mask\\\\000064_10_2.png'"
      ]
     },
     "metadata": {},
     "output_type": "display_data"
    },
    {
     "data": {
      "text/plain": [
       "'C:\\\\Users\\\\ashis\\\\OneDrive\\\\Documents\\\\summer project\\\\summer project - 3d\\\\week2\\\\new_data\\\\image\\\\000064_10_3.png'"
      ]
     },
     "metadata": {},
     "output_type": "display_data"
    },
    {
     "data": {
      "text/plain": [
       "'C:\\\\Users\\\\ashis\\\\OneDrive\\\\Documents\\\\summer project\\\\summer project - 3d\\\\week2\\\\new_data\\\\mask\\\\000064_10_3.png'"
      ]
     },
     "metadata": {},
     "output_type": "display_data"
    },
    {
     "data": {
      "text/plain": [
       "'C:\\\\Users\\\\ashis\\\\OneDrive\\\\Documents\\\\summer project\\\\summer project - 3d\\\\week2\\\\new_data\\\\image\\\\000064_10_4.png'"
      ]
     },
     "metadata": {},
     "output_type": "display_data"
    },
    {
     "data": {
      "text/plain": [
       "'C:\\\\Users\\\\ashis\\\\OneDrive\\\\Documents\\\\summer project\\\\summer project - 3d\\\\week2\\\\new_data\\\\mask\\\\000064_10_4.png'"
      ]
     },
     "metadata": {},
     "output_type": "display_data"
    },
    {
     "data": {
      "text/plain": [
       "'C:\\\\Users\\\\ashis\\\\OneDrive\\\\Documents\\\\summer project\\\\summer project - 3d\\\\week2\\\\new_data\\\\image\\\\000064_10_5.png'"
      ]
     },
     "metadata": {},
     "output_type": "display_data"
    },
    {
     "data": {
      "text/plain": [
       "'C:\\\\Users\\\\ashis\\\\OneDrive\\\\Documents\\\\summer project\\\\summer project - 3d\\\\week2\\\\new_data\\\\mask\\\\000064_10_5.png'"
      ]
     },
     "metadata": {},
     "output_type": "display_data"
    },
    {
     "name": "stderr",
     "output_type": "stream",
     "text": [
      "\r",
      " 32%|██████████████████████████▎                                                      | 65/200 [00:19<00:37,  3.62it/s]"
     ]
    },
    {
     "data": {
      "text/plain": [
       "'C:\\\\Users\\\\ashis\\\\OneDrive\\\\Documents\\\\summer project\\\\summer project - 3d\\\\week2\\\\new_data\\\\image\\\\000065_10_0.png'"
      ]
     },
     "metadata": {},
     "output_type": "display_data"
    },
    {
     "data": {
      "text/plain": [
       "'C:\\\\Users\\\\ashis\\\\OneDrive\\\\Documents\\\\summer project\\\\summer project - 3d\\\\week2\\\\new_data\\\\mask\\\\000065_10_0.png'"
      ]
     },
     "metadata": {},
     "output_type": "display_data"
    },
    {
     "data": {
      "text/plain": [
       "'C:\\\\Users\\\\ashis\\\\OneDrive\\\\Documents\\\\summer project\\\\summer project - 3d\\\\week2\\\\new_data\\\\image\\\\000065_10_1.png'"
      ]
     },
     "metadata": {},
     "output_type": "display_data"
    },
    {
     "data": {
      "text/plain": [
       "'C:\\\\Users\\\\ashis\\\\OneDrive\\\\Documents\\\\summer project\\\\summer project - 3d\\\\week2\\\\new_data\\\\mask\\\\000065_10_1.png'"
      ]
     },
     "metadata": {},
     "output_type": "display_data"
    },
    {
     "data": {
      "text/plain": [
       "'C:\\\\Users\\\\ashis\\\\OneDrive\\\\Documents\\\\summer project\\\\summer project - 3d\\\\week2\\\\new_data\\\\image\\\\000065_10_2.png'"
      ]
     },
     "metadata": {},
     "output_type": "display_data"
    },
    {
     "data": {
      "text/plain": [
       "'C:\\\\Users\\\\ashis\\\\OneDrive\\\\Documents\\\\summer project\\\\summer project - 3d\\\\week2\\\\new_data\\\\mask\\\\000065_10_2.png'"
      ]
     },
     "metadata": {},
     "output_type": "display_data"
    },
    {
     "data": {
      "text/plain": [
       "'C:\\\\Users\\\\ashis\\\\OneDrive\\\\Documents\\\\summer project\\\\summer project - 3d\\\\week2\\\\new_data\\\\image\\\\000065_10_3.png'"
      ]
     },
     "metadata": {},
     "output_type": "display_data"
    },
    {
     "data": {
      "text/plain": [
       "'C:\\\\Users\\\\ashis\\\\OneDrive\\\\Documents\\\\summer project\\\\summer project - 3d\\\\week2\\\\new_data\\\\mask\\\\000065_10_3.png'"
      ]
     },
     "metadata": {},
     "output_type": "display_data"
    },
    {
     "data": {
      "text/plain": [
       "'C:\\\\Users\\\\ashis\\\\OneDrive\\\\Documents\\\\summer project\\\\summer project - 3d\\\\week2\\\\new_data\\\\image\\\\000065_10_4.png'"
      ]
     },
     "metadata": {},
     "output_type": "display_data"
    },
    {
     "data": {
      "text/plain": [
       "'C:\\\\Users\\\\ashis\\\\OneDrive\\\\Documents\\\\summer project\\\\summer project - 3d\\\\week2\\\\new_data\\\\mask\\\\000065_10_4.png'"
      ]
     },
     "metadata": {},
     "output_type": "display_data"
    },
    {
     "data": {
      "text/plain": [
       "'C:\\\\Users\\\\ashis\\\\OneDrive\\\\Documents\\\\summer project\\\\summer project - 3d\\\\week2\\\\new_data\\\\image\\\\000065_10_5.png'"
      ]
     },
     "metadata": {},
     "output_type": "display_data"
    },
    {
     "data": {
      "text/plain": [
       "'C:\\\\Users\\\\ashis\\\\OneDrive\\\\Documents\\\\summer project\\\\summer project - 3d\\\\week2\\\\new_data\\\\mask\\\\000065_10_5.png'"
      ]
     },
     "metadata": {},
     "output_type": "display_data"
    },
    {
     "name": "stderr",
     "output_type": "stream",
     "text": [
      "\r",
      " 33%|██████████████████████████▋                                                      | 66/200 [00:19<00:37,  3.61it/s]"
     ]
    },
    {
     "data": {
      "text/plain": [
       "'C:\\\\Users\\\\ashis\\\\OneDrive\\\\Documents\\\\summer project\\\\summer project - 3d\\\\week2\\\\new_data\\\\image\\\\000066_10_0.png'"
      ]
     },
     "metadata": {},
     "output_type": "display_data"
    },
    {
     "data": {
      "text/plain": [
       "'C:\\\\Users\\\\ashis\\\\OneDrive\\\\Documents\\\\summer project\\\\summer project - 3d\\\\week2\\\\new_data\\\\mask\\\\000066_10_0.png'"
      ]
     },
     "metadata": {},
     "output_type": "display_data"
    },
    {
     "data": {
      "text/plain": [
       "'C:\\\\Users\\\\ashis\\\\OneDrive\\\\Documents\\\\summer project\\\\summer project - 3d\\\\week2\\\\new_data\\\\image\\\\000066_10_1.png'"
      ]
     },
     "metadata": {},
     "output_type": "display_data"
    },
    {
     "data": {
      "text/plain": [
       "'C:\\\\Users\\\\ashis\\\\OneDrive\\\\Documents\\\\summer project\\\\summer project - 3d\\\\week2\\\\new_data\\\\mask\\\\000066_10_1.png'"
      ]
     },
     "metadata": {},
     "output_type": "display_data"
    },
    {
     "data": {
      "text/plain": [
       "'C:\\\\Users\\\\ashis\\\\OneDrive\\\\Documents\\\\summer project\\\\summer project - 3d\\\\week2\\\\new_data\\\\image\\\\000066_10_2.png'"
      ]
     },
     "metadata": {},
     "output_type": "display_data"
    },
    {
     "data": {
      "text/plain": [
       "'C:\\\\Users\\\\ashis\\\\OneDrive\\\\Documents\\\\summer project\\\\summer project - 3d\\\\week2\\\\new_data\\\\mask\\\\000066_10_2.png'"
      ]
     },
     "metadata": {},
     "output_type": "display_data"
    },
    {
     "data": {
      "text/plain": [
       "'C:\\\\Users\\\\ashis\\\\OneDrive\\\\Documents\\\\summer project\\\\summer project - 3d\\\\week2\\\\new_data\\\\image\\\\000066_10_3.png'"
      ]
     },
     "metadata": {},
     "output_type": "display_data"
    },
    {
     "data": {
      "text/plain": [
       "'C:\\\\Users\\\\ashis\\\\OneDrive\\\\Documents\\\\summer project\\\\summer project - 3d\\\\week2\\\\new_data\\\\mask\\\\000066_10_3.png'"
      ]
     },
     "metadata": {},
     "output_type": "display_data"
    },
    {
     "data": {
      "text/plain": [
       "'C:\\\\Users\\\\ashis\\\\OneDrive\\\\Documents\\\\summer project\\\\summer project - 3d\\\\week2\\\\new_data\\\\image\\\\000066_10_4.png'"
      ]
     },
     "metadata": {},
     "output_type": "display_data"
    },
    {
     "data": {
      "text/plain": [
       "'C:\\\\Users\\\\ashis\\\\OneDrive\\\\Documents\\\\summer project\\\\summer project - 3d\\\\week2\\\\new_data\\\\mask\\\\000066_10_4.png'"
      ]
     },
     "metadata": {},
     "output_type": "display_data"
    },
    {
     "data": {
      "text/plain": [
       "'C:\\\\Users\\\\ashis\\\\OneDrive\\\\Documents\\\\summer project\\\\summer project - 3d\\\\week2\\\\new_data\\\\image\\\\000066_10_5.png'"
      ]
     },
     "metadata": {},
     "output_type": "display_data"
    },
    {
     "data": {
      "text/plain": [
       "'C:\\\\Users\\\\ashis\\\\OneDrive\\\\Documents\\\\summer project\\\\summer project - 3d\\\\week2\\\\new_data\\\\mask\\\\000066_10_5.png'"
      ]
     },
     "metadata": {},
     "output_type": "display_data"
    },
    {
     "name": "stderr",
     "output_type": "stream",
     "text": [
      "\r",
      " 34%|███████████████████████████▏                                                     | 67/200 [00:19<00:37,  3.57it/s]"
     ]
    },
    {
     "data": {
      "text/plain": [
       "'C:\\\\Users\\\\ashis\\\\OneDrive\\\\Documents\\\\summer project\\\\summer project - 3d\\\\week2\\\\new_data\\\\image\\\\000067_10_0.png'"
      ]
     },
     "metadata": {},
     "output_type": "display_data"
    },
    {
     "data": {
      "text/plain": [
       "'C:\\\\Users\\\\ashis\\\\OneDrive\\\\Documents\\\\summer project\\\\summer project - 3d\\\\week2\\\\new_data\\\\mask\\\\000067_10_0.png'"
      ]
     },
     "metadata": {},
     "output_type": "display_data"
    },
    {
     "data": {
      "text/plain": [
       "'C:\\\\Users\\\\ashis\\\\OneDrive\\\\Documents\\\\summer project\\\\summer project - 3d\\\\week2\\\\new_data\\\\image\\\\000067_10_1.png'"
      ]
     },
     "metadata": {},
     "output_type": "display_data"
    },
    {
     "data": {
      "text/plain": [
       "'C:\\\\Users\\\\ashis\\\\OneDrive\\\\Documents\\\\summer project\\\\summer project - 3d\\\\week2\\\\new_data\\\\mask\\\\000067_10_1.png'"
      ]
     },
     "metadata": {},
     "output_type": "display_data"
    },
    {
     "data": {
      "text/plain": [
       "'C:\\\\Users\\\\ashis\\\\OneDrive\\\\Documents\\\\summer project\\\\summer project - 3d\\\\week2\\\\new_data\\\\image\\\\000067_10_2.png'"
      ]
     },
     "metadata": {},
     "output_type": "display_data"
    },
    {
     "data": {
      "text/plain": [
       "'C:\\\\Users\\\\ashis\\\\OneDrive\\\\Documents\\\\summer project\\\\summer project - 3d\\\\week2\\\\new_data\\\\mask\\\\000067_10_2.png'"
      ]
     },
     "metadata": {},
     "output_type": "display_data"
    },
    {
     "data": {
      "text/plain": [
       "'C:\\\\Users\\\\ashis\\\\OneDrive\\\\Documents\\\\summer project\\\\summer project - 3d\\\\week2\\\\new_data\\\\image\\\\000067_10_3.png'"
      ]
     },
     "metadata": {},
     "output_type": "display_data"
    },
    {
     "data": {
      "text/plain": [
       "'C:\\\\Users\\\\ashis\\\\OneDrive\\\\Documents\\\\summer project\\\\summer project - 3d\\\\week2\\\\new_data\\\\mask\\\\000067_10_3.png'"
      ]
     },
     "metadata": {},
     "output_type": "display_data"
    },
    {
     "data": {
      "text/plain": [
       "'C:\\\\Users\\\\ashis\\\\OneDrive\\\\Documents\\\\summer project\\\\summer project - 3d\\\\week2\\\\new_data\\\\image\\\\000067_10_4.png'"
      ]
     },
     "metadata": {},
     "output_type": "display_data"
    },
    {
     "data": {
      "text/plain": [
       "'C:\\\\Users\\\\ashis\\\\OneDrive\\\\Documents\\\\summer project\\\\summer project - 3d\\\\week2\\\\new_data\\\\mask\\\\000067_10_4.png'"
      ]
     },
     "metadata": {},
     "output_type": "display_data"
    },
    {
     "data": {
      "text/plain": [
       "'C:\\\\Users\\\\ashis\\\\OneDrive\\\\Documents\\\\summer project\\\\summer project - 3d\\\\week2\\\\new_data\\\\image\\\\000067_10_5.png'"
      ]
     },
     "metadata": {},
     "output_type": "display_data"
    },
    {
     "data": {
      "text/plain": [
       "'C:\\\\Users\\\\ashis\\\\OneDrive\\\\Documents\\\\summer project\\\\summer project - 3d\\\\week2\\\\new_data\\\\mask\\\\000067_10_5.png'"
      ]
     },
     "metadata": {},
     "output_type": "display_data"
    },
    {
     "name": "stderr",
     "output_type": "stream",
     "text": [
      "\r",
      " 34%|███████████████████████████▌                                                     | 68/200 [00:20<00:36,  3.65it/s]"
     ]
    },
    {
     "data": {
      "text/plain": [
       "'C:\\\\Users\\\\ashis\\\\OneDrive\\\\Documents\\\\summer project\\\\summer project - 3d\\\\week2\\\\new_data\\\\image\\\\000068_10_0.png'"
      ]
     },
     "metadata": {},
     "output_type": "display_data"
    },
    {
     "data": {
      "text/plain": [
       "'C:\\\\Users\\\\ashis\\\\OneDrive\\\\Documents\\\\summer project\\\\summer project - 3d\\\\week2\\\\new_data\\\\mask\\\\000068_10_0.png'"
      ]
     },
     "metadata": {},
     "output_type": "display_data"
    },
    {
     "data": {
      "text/plain": [
       "'C:\\\\Users\\\\ashis\\\\OneDrive\\\\Documents\\\\summer project\\\\summer project - 3d\\\\week2\\\\new_data\\\\image\\\\000068_10_1.png'"
      ]
     },
     "metadata": {},
     "output_type": "display_data"
    },
    {
     "data": {
      "text/plain": [
       "'C:\\\\Users\\\\ashis\\\\OneDrive\\\\Documents\\\\summer project\\\\summer project - 3d\\\\week2\\\\new_data\\\\mask\\\\000068_10_1.png'"
      ]
     },
     "metadata": {},
     "output_type": "display_data"
    },
    {
     "data": {
      "text/plain": [
       "'C:\\\\Users\\\\ashis\\\\OneDrive\\\\Documents\\\\summer project\\\\summer project - 3d\\\\week2\\\\new_data\\\\image\\\\000068_10_2.png'"
      ]
     },
     "metadata": {},
     "output_type": "display_data"
    },
    {
     "data": {
      "text/plain": [
       "'C:\\\\Users\\\\ashis\\\\OneDrive\\\\Documents\\\\summer project\\\\summer project - 3d\\\\week2\\\\new_data\\\\mask\\\\000068_10_2.png'"
      ]
     },
     "metadata": {},
     "output_type": "display_data"
    },
    {
     "data": {
      "text/plain": [
       "'C:\\\\Users\\\\ashis\\\\OneDrive\\\\Documents\\\\summer project\\\\summer project - 3d\\\\week2\\\\new_data\\\\image\\\\000068_10_3.png'"
      ]
     },
     "metadata": {},
     "output_type": "display_data"
    },
    {
     "data": {
      "text/plain": [
       "'C:\\\\Users\\\\ashis\\\\OneDrive\\\\Documents\\\\summer project\\\\summer project - 3d\\\\week2\\\\new_data\\\\mask\\\\000068_10_3.png'"
      ]
     },
     "metadata": {},
     "output_type": "display_data"
    },
    {
     "data": {
      "text/plain": [
       "'C:\\\\Users\\\\ashis\\\\OneDrive\\\\Documents\\\\summer project\\\\summer project - 3d\\\\week2\\\\new_data\\\\image\\\\000068_10_4.png'"
      ]
     },
     "metadata": {},
     "output_type": "display_data"
    },
    {
     "data": {
      "text/plain": [
       "'C:\\\\Users\\\\ashis\\\\OneDrive\\\\Documents\\\\summer project\\\\summer project - 3d\\\\week2\\\\new_data\\\\mask\\\\000068_10_4.png'"
      ]
     },
     "metadata": {},
     "output_type": "display_data"
    },
    {
     "data": {
      "text/plain": [
       "'C:\\\\Users\\\\ashis\\\\OneDrive\\\\Documents\\\\summer project\\\\summer project - 3d\\\\week2\\\\new_data\\\\image\\\\000068_10_5.png'"
      ]
     },
     "metadata": {},
     "output_type": "display_data"
    },
    {
     "data": {
      "text/plain": [
       "'C:\\\\Users\\\\ashis\\\\OneDrive\\\\Documents\\\\summer project\\\\summer project - 3d\\\\week2\\\\new_data\\\\mask\\\\000068_10_5.png'"
      ]
     },
     "metadata": {},
     "output_type": "display_data"
    },
    {
     "name": "stderr",
     "output_type": "stream",
     "text": [
      "\r",
      " 34%|███████████████████████████▉                                                     | 69/200 [00:20<00:36,  3.63it/s]"
     ]
    },
    {
     "data": {
      "text/plain": [
       "'C:\\\\Users\\\\ashis\\\\OneDrive\\\\Documents\\\\summer project\\\\summer project - 3d\\\\week2\\\\new_data\\\\image\\\\000069_10_0.png'"
      ]
     },
     "metadata": {},
     "output_type": "display_data"
    },
    {
     "data": {
      "text/plain": [
       "'C:\\\\Users\\\\ashis\\\\OneDrive\\\\Documents\\\\summer project\\\\summer project - 3d\\\\week2\\\\new_data\\\\mask\\\\000069_10_0.png'"
      ]
     },
     "metadata": {},
     "output_type": "display_data"
    },
    {
     "data": {
      "text/plain": [
       "'C:\\\\Users\\\\ashis\\\\OneDrive\\\\Documents\\\\summer project\\\\summer project - 3d\\\\week2\\\\new_data\\\\image\\\\000069_10_1.png'"
      ]
     },
     "metadata": {},
     "output_type": "display_data"
    },
    {
     "data": {
      "text/plain": [
       "'C:\\\\Users\\\\ashis\\\\OneDrive\\\\Documents\\\\summer project\\\\summer project - 3d\\\\week2\\\\new_data\\\\mask\\\\000069_10_1.png'"
      ]
     },
     "metadata": {},
     "output_type": "display_data"
    },
    {
     "data": {
      "text/plain": [
       "'C:\\\\Users\\\\ashis\\\\OneDrive\\\\Documents\\\\summer project\\\\summer project - 3d\\\\week2\\\\new_data\\\\image\\\\000069_10_2.png'"
      ]
     },
     "metadata": {},
     "output_type": "display_data"
    },
    {
     "data": {
      "text/plain": [
       "'C:\\\\Users\\\\ashis\\\\OneDrive\\\\Documents\\\\summer project\\\\summer project - 3d\\\\week2\\\\new_data\\\\mask\\\\000069_10_2.png'"
      ]
     },
     "metadata": {},
     "output_type": "display_data"
    },
    {
     "data": {
      "text/plain": [
       "'C:\\\\Users\\\\ashis\\\\OneDrive\\\\Documents\\\\summer project\\\\summer project - 3d\\\\week2\\\\new_data\\\\image\\\\000069_10_3.png'"
      ]
     },
     "metadata": {},
     "output_type": "display_data"
    },
    {
     "data": {
      "text/plain": [
       "'C:\\\\Users\\\\ashis\\\\OneDrive\\\\Documents\\\\summer project\\\\summer project - 3d\\\\week2\\\\new_data\\\\mask\\\\000069_10_3.png'"
      ]
     },
     "metadata": {},
     "output_type": "display_data"
    },
    {
     "data": {
      "text/plain": [
       "'C:\\\\Users\\\\ashis\\\\OneDrive\\\\Documents\\\\summer project\\\\summer project - 3d\\\\week2\\\\new_data\\\\image\\\\000069_10_4.png'"
      ]
     },
     "metadata": {},
     "output_type": "display_data"
    },
    {
     "data": {
      "text/plain": [
       "'C:\\\\Users\\\\ashis\\\\OneDrive\\\\Documents\\\\summer project\\\\summer project - 3d\\\\week2\\\\new_data\\\\mask\\\\000069_10_4.png'"
      ]
     },
     "metadata": {},
     "output_type": "display_data"
    },
    {
     "data": {
      "text/plain": [
       "'C:\\\\Users\\\\ashis\\\\OneDrive\\\\Documents\\\\summer project\\\\summer project - 3d\\\\week2\\\\new_data\\\\image\\\\000069_10_5.png'"
      ]
     },
     "metadata": {},
     "output_type": "display_data"
    },
    {
     "data": {
      "text/plain": [
       "'C:\\\\Users\\\\ashis\\\\OneDrive\\\\Documents\\\\summer project\\\\summer project - 3d\\\\week2\\\\new_data\\\\mask\\\\000069_10_5.png'"
      ]
     },
     "metadata": {},
     "output_type": "display_data"
    },
    {
     "name": "stderr",
     "output_type": "stream",
     "text": [
      "\r",
      " 35%|████████████████████████████▎                                                    | 70/200 [00:20<00:35,  3.69it/s]"
     ]
    },
    {
     "data": {
      "text/plain": [
       "'C:\\\\Users\\\\ashis\\\\OneDrive\\\\Documents\\\\summer project\\\\summer project - 3d\\\\week2\\\\new_data\\\\image\\\\000070_10_0.png'"
      ]
     },
     "metadata": {},
     "output_type": "display_data"
    },
    {
     "data": {
      "text/plain": [
       "'C:\\\\Users\\\\ashis\\\\OneDrive\\\\Documents\\\\summer project\\\\summer project - 3d\\\\week2\\\\new_data\\\\mask\\\\000070_10_0.png'"
      ]
     },
     "metadata": {},
     "output_type": "display_data"
    },
    {
     "data": {
      "text/plain": [
       "'C:\\\\Users\\\\ashis\\\\OneDrive\\\\Documents\\\\summer project\\\\summer project - 3d\\\\week2\\\\new_data\\\\image\\\\000070_10_1.png'"
      ]
     },
     "metadata": {},
     "output_type": "display_data"
    },
    {
     "data": {
      "text/plain": [
       "'C:\\\\Users\\\\ashis\\\\OneDrive\\\\Documents\\\\summer project\\\\summer project - 3d\\\\week2\\\\new_data\\\\mask\\\\000070_10_1.png'"
      ]
     },
     "metadata": {},
     "output_type": "display_data"
    },
    {
     "data": {
      "text/plain": [
       "'C:\\\\Users\\\\ashis\\\\OneDrive\\\\Documents\\\\summer project\\\\summer project - 3d\\\\week2\\\\new_data\\\\image\\\\000070_10_2.png'"
      ]
     },
     "metadata": {},
     "output_type": "display_data"
    },
    {
     "data": {
      "text/plain": [
       "'C:\\\\Users\\\\ashis\\\\OneDrive\\\\Documents\\\\summer project\\\\summer project - 3d\\\\week2\\\\new_data\\\\mask\\\\000070_10_2.png'"
      ]
     },
     "metadata": {},
     "output_type": "display_data"
    },
    {
     "data": {
      "text/plain": [
       "'C:\\\\Users\\\\ashis\\\\OneDrive\\\\Documents\\\\summer project\\\\summer project - 3d\\\\week2\\\\new_data\\\\image\\\\000070_10_3.png'"
      ]
     },
     "metadata": {},
     "output_type": "display_data"
    },
    {
     "data": {
      "text/plain": [
       "'C:\\\\Users\\\\ashis\\\\OneDrive\\\\Documents\\\\summer project\\\\summer project - 3d\\\\week2\\\\new_data\\\\mask\\\\000070_10_3.png'"
      ]
     },
     "metadata": {},
     "output_type": "display_data"
    },
    {
     "data": {
      "text/plain": [
       "'C:\\\\Users\\\\ashis\\\\OneDrive\\\\Documents\\\\summer project\\\\summer project - 3d\\\\week2\\\\new_data\\\\image\\\\000070_10_4.png'"
      ]
     },
     "metadata": {},
     "output_type": "display_data"
    },
    {
     "data": {
      "text/plain": [
       "'C:\\\\Users\\\\ashis\\\\OneDrive\\\\Documents\\\\summer project\\\\summer project - 3d\\\\week2\\\\new_data\\\\mask\\\\000070_10_4.png'"
      ]
     },
     "metadata": {},
     "output_type": "display_data"
    },
    {
     "data": {
      "text/plain": [
       "'C:\\\\Users\\\\ashis\\\\OneDrive\\\\Documents\\\\summer project\\\\summer project - 3d\\\\week2\\\\new_data\\\\image\\\\000070_10_5.png'"
      ]
     },
     "metadata": {},
     "output_type": "display_data"
    },
    {
     "data": {
      "text/plain": [
       "'C:\\\\Users\\\\ashis\\\\OneDrive\\\\Documents\\\\summer project\\\\summer project - 3d\\\\week2\\\\new_data\\\\mask\\\\000070_10_5.png'"
      ]
     },
     "metadata": {},
     "output_type": "display_data"
    },
    {
     "name": "stderr",
     "output_type": "stream",
     "text": [
      "\r",
      " 36%|████████████████████████████▊                                                    | 71/200 [00:20<00:34,  3.76it/s]"
     ]
    },
    {
     "data": {
      "text/plain": [
       "'C:\\\\Users\\\\ashis\\\\OneDrive\\\\Documents\\\\summer project\\\\summer project - 3d\\\\week2\\\\new_data\\\\image\\\\000071_10_0.png'"
      ]
     },
     "metadata": {},
     "output_type": "display_data"
    },
    {
     "data": {
      "text/plain": [
       "'C:\\\\Users\\\\ashis\\\\OneDrive\\\\Documents\\\\summer project\\\\summer project - 3d\\\\week2\\\\new_data\\\\mask\\\\000071_10_0.png'"
      ]
     },
     "metadata": {},
     "output_type": "display_data"
    },
    {
     "data": {
      "text/plain": [
       "'C:\\\\Users\\\\ashis\\\\OneDrive\\\\Documents\\\\summer project\\\\summer project - 3d\\\\week2\\\\new_data\\\\image\\\\000071_10_1.png'"
      ]
     },
     "metadata": {},
     "output_type": "display_data"
    },
    {
     "data": {
      "text/plain": [
       "'C:\\\\Users\\\\ashis\\\\OneDrive\\\\Documents\\\\summer project\\\\summer project - 3d\\\\week2\\\\new_data\\\\mask\\\\000071_10_1.png'"
      ]
     },
     "metadata": {},
     "output_type": "display_data"
    },
    {
     "data": {
      "text/plain": [
       "'C:\\\\Users\\\\ashis\\\\OneDrive\\\\Documents\\\\summer project\\\\summer project - 3d\\\\week2\\\\new_data\\\\image\\\\000071_10_2.png'"
      ]
     },
     "metadata": {},
     "output_type": "display_data"
    },
    {
     "data": {
      "text/plain": [
       "'C:\\\\Users\\\\ashis\\\\OneDrive\\\\Documents\\\\summer project\\\\summer project - 3d\\\\week2\\\\new_data\\\\mask\\\\000071_10_2.png'"
      ]
     },
     "metadata": {},
     "output_type": "display_data"
    },
    {
     "data": {
      "text/plain": [
       "'C:\\\\Users\\\\ashis\\\\OneDrive\\\\Documents\\\\summer project\\\\summer project - 3d\\\\week2\\\\new_data\\\\image\\\\000071_10_3.png'"
      ]
     },
     "metadata": {},
     "output_type": "display_data"
    },
    {
     "data": {
      "text/plain": [
       "'C:\\\\Users\\\\ashis\\\\OneDrive\\\\Documents\\\\summer project\\\\summer project - 3d\\\\week2\\\\new_data\\\\mask\\\\000071_10_3.png'"
      ]
     },
     "metadata": {},
     "output_type": "display_data"
    },
    {
     "data": {
      "text/plain": [
       "'C:\\\\Users\\\\ashis\\\\OneDrive\\\\Documents\\\\summer project\\\\summer project - 3d\\\\week2\\\\new_data\\\\image\\\\000071_10_4.png'"
      ]
     },
     "metadata": {},
     "output_type": "display_data"
    },
    {
     "data": {
      "text/plain": [
       "'C:\\\\Users\\\\ashis\\\\OneDrive\\\\Documents\\\\summer project\\\\summer project - 3d\\\\week2\\\\new_data\\\\mask\\\\000071_10_4.png'"
      ]
     },
     "metadata": {},
     "output_type": "display_data"
    },
    {
     "data": {
      "text/plain": [
       "'C:\\\\Users\\\\ashis\\\\OneDrive\\\\Documents\\\\summer project\\\\summer project - 3d\\\\week2\\\\new_data\\\\image\\\\000071_10_5.png'"
      ]
     },
     "metadata": {},
     "output_type": "display_data"
    },
    {
     "data": {
      "text/plain": [
       "'C:\\\\Users\\\\ashis\\\\OneDrive\\\\Documents\\\\summer project\\\\summer project - 3d\\\\week2\\\\new_data\\\\mask\\\\000071_10_5.png'"
      ]
     },
     "metadata": {},
     "output_type": "display_data"
    },
    {
     "name": "stderr",
     "output_type": "stream",
     "text": [
      "\r",
      " 36%|█████████████████████████████▏                                                   | 72/200 [00:21<00:34,  3.72it/s]"
     ]
    },
    {
     "data": {
      "text/plain": [
       "'C:\\\\Users\\\\ashis\\\\OneDrive\\\\Documents\\\\summer project\\\\summer project - 3d\\\\week2\\\\new_data\\\\image\\\\000072_10_0.png'"
      ]
     },
     "metadata": {},
     "output_type": "display_data"
    },
    {
     "data": {
      "text/plain": [
       "'C:\\\\Users\\\\ashis\\\\OneDrive\\\\Documents\\\\summer project\\\\summer project - 3d\\\\week2\\\\new_data\\\\mask\\\\000072_10_0.png'"
      ]
     },
     "metadata": {},
     "output_type": "display_data"
    },
    {
     "data": {
      "text/plain": [
       "'C:\\\\Users\\\\ashis\\\\OneDrive\\\\Documents\\\\summer project\\\\summer project - 3d\\\\week2\\\\new_data\\\\image\\\\000072_10_1.png'"
      ]
     },
     "metadata": {},
     "output_type": "display_data"
    },
    {
     "data": {
      "text/plain": [
       "'C:\\\\Users\\\\ashis\\\\OneDrive\\\\Documents\\\\summer project\\\\summer project - 3d\\\\week2\\\\new_data\\\\mask\\\\000072_10_1.png'"
      ]
     },
     "metadata": {},
     "output_type": "display_data"
    },
    {
     "data": {
      "text/plain": [
       "'C:\\\\Users\\\\ashis\\\\OneDrive\\\\Documents\\\\summer project\\\\summer project - 3d\\\\week2\\\\new_data\\\\image\\\\000072_10_2.png'"
      ]
     },
     "metadata": {},
     "output_type": "display_data"
    },
    {
     "data": {
      "text/plain": [
       "'C:\\\\Users\\\\ashis\\\\OneDrive\\\\Documents\\\\summer project\\\\summer project - 3d\\\\week2\\\\new_data\\\\mask\\\\000072_10_2.png'"
      ]
     },
     "metadata": {},
     "output_type": "display_data"
    },
    {
     "data": {
      "text/plain": [
       "'C:\\\\Users\\\\ashis\\\\OneDrive\\\\Documents\\\\summer project\\\\summer project - 3d\\\\week2\\\\new_data\\\\image\\\\000072_10_3.png'"
      ]
     },
     "metadata": {},
     "output_type": "display_data"
    },
    {
     "data": {
      "text/plain": [
       "'C:\\\\Users\\\\ashis\\\\OneDrive\\\\Documents\\\\summer project\\\\summer project - 3d\\\\week2\\\\new_data\\\\mask\\\\000072_10_3.png'"
      ]
     },
     "metadata": {},
     "output_type": "display_data"
    },
    {
     "data": {
      "text/plain": [
       "'C:\\\\Users\\\\ashis\\\\OneDrive\\\\Documents\\\\summer project\\\\summer project - 3d\\\\week2\\\\new_data\\\\image\\\\000072_10_4.png'"
      ]
     },
     "metadata": {},
     "output_type": "display_data"
    },
    {
     "data": {
      "text/plain": [
       "'C:\\\\Users\\\\ashis\\\\OneDrive\\\\Documents\\\\summer project\\\\summer project - 3d\\\\week2\\\\new_data\\\\mask\\\\000072_10_4.png'"
      ]
     },
     "metadata": {},
     "output_type": "display_data"
    },
    {
     "data": {
      "text/plain": [
       "'C:\\\\Users\\\\ashis\\\\OneDrive\\\\Documents\\\\summer project\\\\summer project - 3d\\\\week2\\\\new_data\\\\image\\\\000072_10_5.png'"
      ]
     },
     "metadata": {},
     "output_type": "display_data"
    },
    {
     "data": {
      "text/plain": [
       "'C:\\\\Users\\\\ashis\\\\OneDrive\\\\Documents\\\\summer project\\\\summer project - 3d\\\\week2\\\\new_data\\\\mask\\\\000072_10_5.png'"
      ]
     },
     "metadata": {},
     "output_type": "display_data"
    },
    {
     "name": "stderr",
     "output_type": "stream",
     "text": [
      "\r",
      " 36%|█████████████████████████████▌                                                   | 73/200 [00:21<00:33,  3.79it/s]"
     ]
    },
    {
     "data": {
      "text/plain": [
       "'C:\\\\Users\\\\ashis\\\\OneDrive\\\\Documents\\\\summer project\\\\summer project - 3d\\\\week2\\\\new_data\\\\image\\\\000073_10_0.png'"
      ]
     },
     "metadata": {},
     "output_type": "display_data"
    },
    {
     "data": {
      "text/plain": [
       "'C:\\\\Users\\\\ashis\\\\OneDrive\\\\Documents\\\\summer project\\\\summer project - 3d\\\\week2\\\\new_data\\\\mask\\\\000073_10_0.png'"
      ]
     },
     "metadata": {},
     "output_type": "display_data"
    },
    {
     "data": {
      "text/plain": [
       "'C:\\\\Users\\\\ashis\\\\OneDrive\\\\Documents\\\\summer project\\\\summer project - 3d\\\\week2\\\\new_data\\\\image\\\\000073_10_1.png'"
      ]
     },
     "metadata": {},
     "output_type": "display_data"
    },
    {
     "data": {
      "text/plain": [
       "'C:\\\\Users\\\\ashis\\\\OneDrive\\\\Documents\\\\summer project\\\\summer project - 3d\\\\week2\\\\new_data\\\\mask\\\\000073_10_1.png'"
      ]
     },
     "metadata": {},
     "output_type": "display_data"
    },
    {
     "data": {
      "text/plain": [
       "'C:\\\\Users\\\\ashis\\\\OneDrive\\\\Documents\\\\summer project\\\\summer project - 3d\\\\week2\\\\new_data\\\\image\\\\000073_10_2.png'"
      ]
     },
     "metadata": {},
     "output_type": "display_data"
    },
    {
     "data": {
      "text/plain": [
       "'C:\\\\Users\\\\ashis\\\\OneDrive\\\\Documents\\\\summer project\\\\summer project - 3d\\\\week2\\\\new_data\\\\mask\\\\000073_10_2.png'"
      ]
     },
     "metadata": {},
     "output_type": "display_data"
    },
    {
     "data": {
      "text/plain": [
       "'C:\\\\Users\\\\ashis\\\\OneDrive\\\\Documents\\\\summer project\\\\summer project - 3d\\\\week2\\\\new_data\\\\image\\\\000073_10_3.png'"
      ]
     },
     "metadata": {},
     "output_type": "display_data"
    },
    {
     "data": {
      "text/plain": [
       "'C:\\\\Users\\\\ashis\\\\OneDrive\\\\Documents\\\\summer project\\\\summer project - 3d\\\\week2\\\\new_data\\\\mask\\\\000073_10_3.png'"
      ]
     },
     "metadata": {},
     "output_type": "display_data"
    },
    {
     "data": {
      "text/plain": [
       "'C:\\\\Users\\\\ashis\\\\OneDrive\\\\Documents\\\\summer project\\\\summer project - 3d\\\\week2\\\\new_data\\\\image\\\\000073_10_4.png'"
      ]
     },
     "metadata": {},
     "output_type": "display_data"
    },
    {
     "data": {
      "text/plain": [
       "'C:\\\\Users\\\\ashis\\\\OneDrive\\\\Documents\\\\summer project\\\\summer project - 3d\\\\week2\\\\new_data\\\\mask\\\\000073_10_4.png'"
      ]
     },
     "metadata": {},
     "output_type": "display_data"
    },
    {
     "data": {
      "text/plain": [
       "'C:\\\\Users\\\\ashis\\\\OneDrive\\\\Documents\\\\summer project\\\\summer project - 3d\\\\week2\\\\new_data\\\\image\\\\000073_10_5.png'"
      ]
     },
     "metadata": {},
     "output_type": "display_data"
    },
    {
     "data": {
      "text/plain": [
       "'C:\\\\Users\\\\ashis\\\\OneDrive\\\\Documents\\\\summer project\\\\summer project - 3d\\\\week2\\\\new_data\\\\mask\\\\000073_10_5.png'"
      ]
     },
     "metadata": {},
     "output_type": "display_data"
    },
    {
     "name": "stderr",
     "output_type": "stream",
     "text": [
      "\r",
      " 37%|█████████████████████████████▉                                                   | 74/200 [00:21<00:34,  3.66it/s]"
     ]
    },
    {
     "data": {
      "text/plain": [
       "'C:\\\\Users\\\\ashis\\\\OneDrive\\\\Documents\\\\summer project\\\\summer project - 3d\\\\week2\\\\new_data\\\\image\\\\000074_10_0.png'"
      ]
     },
     "metadata": {},
     "output_type": "display_data"
    },
    {
     "data": {
      "text/plain": [
       "'C:\\\\Users\\\\ashis\\\\OneDrive\\\\Documents\\\\summer project\\\\summer project - 3d\\\\week2\\\\new_data\\\\mask\\\\000074_10_0.png'"
      ]
     },
     "metadata": {},
     "output_type": "display_data"
    },
    {
     "data": {
      "text/plain": [
       "'C:\\\\Users\\\\ashis\\\\OneDrive\\\\Documents\\\\summer project\\\\summer project - 3d\\\\week2\\\\new_data\\\\image\\\\000074_10_1.png'"
      ]
     },
     "metadata": {},
     "output_type": "display_data"
    },
    {
     "data": {
      "text/plain": [
       "'C:\\\\Users\\\\ashis\\\\OneDrive\\\\Documents\\\\summer project\\\\summer project - 3d\\\\week2\\\\new_data\\\\mask\\\\000074_10_1.png'"
      ]
     },
     "metadata": {},
     "output_type": "display_data"
    },
    {
     "data": {
      "text/plain": [
       "'C:\\\\Users\\\\ashis\\\\OneDrive\\\\Documents\\\\summer project\\\\summer project - 3d\\\\week2\\\\new_data\\\\image\\\\000074_10_2.png'"
      ]
     },
     "metadata": {},
     "output_type": "display_data"
    },
    {
     "data": {
      "text/plain": [
       "'C:\\\\Users\\\\ashis\\\\OneDrive\\\\Documents\\\\summer project\\\\summer project - 3d\\\\week2\\\\new_data\\\\mask\\\\000074_10_2.png'"
      ]
     },
     "metadata": {},
     "output_type": "display_data"
    },
    {
     "data": {
      "text/plain": [
       "'C:\\\\Users\\\\ashis\\\\OneDrive\\\\Documents\\\\summer project\\\\summer project - 3d\\\\week2\\\\new_data\\\\image\\\\000074_10_3.png'"
      ]
     },
     "metadata": {},
     "output_type": "display_data"
    },
    {
     "data": {
      "text/plain": [
       "'C:\\\\Users\\\\ashis\\\\OneDrive\\\\Documents\\\\summer project\\\\summer project - 3d\\\\week2\\\\new_data\\\\mask\\\\000074_10_3.png'"
      ]
     },
     "metadata": {},
     "output_type": "display_data"
    },
    {
     "data": {
      "text/plain": [
       "'C:\\\\Users\\\\ashis\\\\OneDrive\\\\Documents\\\\summer project\\\\summer project - 3d\\\\week2\\\\new_data\\\\image\\\\000074_10_4.png'"
      ]
     },
     "metadata": {},
     "output_type": "display_data"
    },
    {
     "data": {
      "text/plain": [
       "'C:\\\\Users\\\\ashis\\\\OneDrive\\\\Documents\\\\summer project\\\\summer project - 3d\\\\week2\\\\new_data\\\\mask\\\\000074_10_4.png'"
      ]
     },
     "metadata": {},
     "output_type": "display_data"
    },
    {
     "data": {
      "text/plain": [
       "'C:\\\\Users\\\\ashis\\\\OneDrive\\\\Documents\\\\summer project\\\\summer project - 3d\\\\week2\\\\new_data\\\\image\\\\000074_10_5.png'"
      ]
     },
     "metadata": {},
     "output_type": "display_data"
    },
    {
     "data": {
      "text/plain": [
       "'C:\\\\Users\\\\ashis\\\\OneDrive\\\\Documents\\\\summer project\\\\summer project - 3d\\\\week2\\\\new_data\\\\mask\\\\000074_10_5.png'"
      ]
     },
     "metadata": {},
     "output_type": "display_data"
    },
    {
     "name": "stderr",
     "output_type": "stream",
     "text": [
      "\r",
      " 38%|██████████████████████████████▍                                                  | 75/200 [00:21<00:33,  3.69it/s]"
     ]
    },
    {
     "data": {
      "text/plain": [
       "'C:\\\\Users\\\\ashis\\\\OneDrive\\\\Documents\\\\summer project\\\\summer project - 3d\\\\week2\\\\new_data\\\\image\\\\000075_10_0.png'"
      ]
     },
     "metadata": {},
     "output_type": "display_data"
    },
    {
     "data": {
      "text/plain": [
       "'C:\\\\Users\\\\ashis\\\\OneDrive\\\\Documents\\\\summer project\\\\summer project - 3d\\\\week2\\\\new_data\\\\mask\\\\000075_10_0.png'"
      ]
     },
     "metadata": {},
     "output_type": "display_data"
    },
    {
     "data": {
      "text/plain": [
       "'C:\\\\Users\\\\ashis\\\\OneDrive\\\\Documents\\\\summer project\\\\summer project - 3d\\\\week2\\\\new_data\\\\image\\\\000075_10_1.png'"
      ]
     },
     "metadata": {},
     "output_type": "display_data"
    },
    {
     "data": {
      "text/plain": [
       "'C:\\\\Users\\\\ashis\\\\OneDrive\\\\Documents\\\\summer project\\\\summer project - 3d\\\\week2\\\\new_data\\\\mask\\\\000075_10_1.png'"
      ]
     },
     "metadata": {},
     "output_type": "display_data"
    },
    {
     "data": {
      "text/plain": [
       "'C:\\\\Users\\\\ashis\\\\OneDrive\\\\Documents\\\\summer project\\\\summer project - 3d\\\\week2\\\\new_data\\\\image\\\\000075_10_2.png'"
      ]
     },
     "metadata": {},
     "output_type": "display_data"
    },
    {
     "data": {
      "text/plain": [
       "'C:\\\\Users\\\\ashis\\\\OneDrive\\\\Documents\\\\summer project\\\\summer project - 3d\\\\week2\\\\new_data\\\\mask\\\\000075_10_2.png'"
      ]
     },
     "metadata": {},
     "output_type": "display_data"
    },
    {
     "data": {
      "text/plain": [
       "'C:\\\\Users\\\\ashis\\\\OneDrive\\\\Documents\\\\summer project\\\\summer project - 3d\\\\week2\\\\new_data\\\\image\\\\000075_10_3.png'"
      ]
     },
     "metadata": {},
     "output_type": "display_data"
    },
    {
     "data": {
      "text/plain": [
       "'C:\\\\Users\\\\ashis\\\\OneDrive\\\\Documents\\\\summer project\\\\summer project - 3d\\\\week2\\\\new_data\\\\mask\\\\000075_10_3.png'"
      ]
     },
     "metadata": {},
     "output_type": "display_data"
    },
    {
     "data": {
      "text/plain": [
       "'C:\\\\Users\\\\ashis\\\\OneDrive\\\\Documents\\\\summer project\\\\summer project - 3d\\\\week2\\\\new_data\\\\image\\\\000075_10_4.png'"
      ]
     },
     "metadata": {},
     "output_type": "display_data"
    },
    {
     "data": {
      "text/plain": [
       "'C:\\\\Users\\\\ashis\\\\OneDrive\\\\Documents\\\\summer project\\\\summer project - 3d\\\\week2\\\\new_data\\\\mask\\\\000075_10_4.png'"
      ]
     },
     "metadata": {},
     "output_type": "display_data"
    },
    {
     "data": {
      "text/plain": [
       "'C:\\\\Users\\\\ashis\\\\OneDrive\\\\Documents\\\\summer project\\\\summer project - 3d\\\\week2\\\\new_data\\\\image\\\\000075_10_5.png'"
      ]
     },
     "metadata": {},
     "output_type": "display_data"
    },
    {
     "data": {
      "text/plain": [
       "'C:\\\\Users\\\\ashis\\\\OneDrive\\\\Documents\\\\summer project\\\\summer project - 3d\\\\week2\\\\new_data\\\\mask\\\\000075_10_5.png'"
      ]
     },
     "metadata": {},
     "output_type": "display_data"
    },
    {
     "name": "stderr",
     "output_type": "stream",
     "text": [
      "\r",
      " 38%|██████████████████████████████▊                                                  | 76/200 [00:22<00:32,  3.80it/s]"
     ]
    },
    {
     "data": {
      "text/plain": [
       "'C:\\\\Users\\\\ashis\\\\OneDrive\\\\Documents\\\\summer project\\\\summer project - 3d\\\\week2\\\\new_data\\\\image\\\\000076_10_0.png'"
      ]
     },
     "metadata": {},
     "output_type": "display_data"
    },
    {
     "data": {
      "text/plain": [
       "'C:\\\\Users\\\\ashis\\\\OneDrive\\\\Documents\\\\summer project\\\\summer project - 3d\\\\week2\\\\new_data\\\\mask\\\\000076_10_0.png'"
      ]
     },
     "metadata": {},
     "output_type": "display_data"
    },
    {
     "data": {
      "text/plain": [
       "'C:\\\\Users\\\\ashis\\\\OneDrive\\\\Documents\\\\summer project\\\\summer project - 3d\\\\week2\\\\new_data\\\\image\\\\000076_10_1.png'"
      ]
     },
     "metadata": {},
     "output_type": "display_data"
    },
    {
     "data": {
      "text/plain": [
       "'C:\\\\Users\\\\ashis\\\\OneDrive\\\\Documents\\\\summer project\\\\summer project - 3d\\\\week2\\\\new_data\\\\mask\\\\000076_10_1.png'"
      ]
     },
     "metadata": {},
     "output_type": "display_data"
    },
    {
     "data": {
      "text/plain": [
       "'C:\\\\Users\\\\ashis\\\\OneDrive\\\\Documents\\\\summer project\\\\summer project - 3d\\\\week2\\\\new_data\\\\image\\\\000076_10_2.png'"
      ]
     },
     "metadata": {},
     "output_type": "display_data"
    },
    {
     "data": {
      "text/plain": [
       "'C:\\\\Users\\\\ashis\\\\OneDrive\\\\Documents\\\\summer project\\\\summer project - 3d\\\\week2\\\\new_data\\\\mask\\\\000076_10_2.png'"
      ]
     },
     "metadata": {},
     "output_type": "display_data"
    },
    {
     "data": {
      "text/plain": [
       "'C:\\\\Users\\\\ashis\\\\OneDrive\\\\Documents\\\\summer project\\\\summer project - 3d\\\\week2\\\\new_data\\\\image\\\\000076_10_3.png'"
      ]
     },
     "metadata": {},
     "output_type": "display_data"
    },
    {
     "data": {
      "text/plain": [
       "'C:\\\\Users\\\\ashis\\\\OneDrive\\\\Documents\\\\summer project\\\\summer project - 3d\\\\week2\\\\new_data\\\\mask\\\\000076_10_3.png'"
      ]
     },
     "metadata": {},
     "output_type": "display_data"
    },
    {
     "data": {
      "text/plain": [
       "'C:\\\\Users\\\\ashis\\\\OneDrive\\\\Documents\\\\summer project\\\\summer project - 3d\\\\week2\\\\new_data\\\\image\\\\000076_10_4.png'"
      ]
     },
     "metadata": {},
     "output_type": "display_data"
    },
    {
     "data": {
      "text/plain": [
       "'C:\\\\Users\\\\ashis\\\\OneDrive\\\\Documents\\\\summer project\\\\summer project - 3d\\\\week2\\\\new_data\\\\mask\\\\000076_10_4.png'"
      ]
     },
     "metadata": {},
     "output_type": "display_data"
    },
    {
     "data": {
      "text/plain": [
       "'C:\\\\Users\\\\ashis\\\\OneDrive\\\\Documents\\\\summer project\\\\summer project - 3d\\\\week2\\\\new_data\\\\image\\\\000076_10_5.png'"
      ]
     },
     "metadata": {},
     "output_type": "display_data"
    },
    {
     "data": {
      "text/plain": [
       "'C:\\\\Users\\\\ashis\\\\OneDrive\\\\Documents\\\\summer project\\\\summer project - 3d\\\\week2\\\\new_data\\\\mask\\\\000076_10_5.png'"
      ]
     },
     "metadata": {},
     "output_type": "display_data"
    },
    {
     "name": "stderr",
     "output_type": "stream",
     "text": [
      "\r",
      " 38%|███████████████████████████████▏                                                 | 77/200 [00:22<00:32,  3.74it/s]"
     ]
    },
    {
     "data": {
      "text/plain": [
       "'C:\\\\Users\\\\ashis\\\\OneDrive\\\\Documents\\\\summer project\\\\summer project - 3d\\\\week2\\\\new_data\\\\image\\\\000077_10_0.png'"
      ]
     },
     "metadata": {},
     "output_type": "display_data"
    },
    {
     "data": {
      "text/plain": [
       "'C:\\\\Users\\\\ashis\\\\OneDrive\\\\Documents\\\\summer project\\\\summer project - 3d\\\\week2\\\\new_data\\\\mask\\\\000077_10_0.png'"
      ]
     },
     "metadata": {},
     "output_type": "display_data"
    },
    {
     "data": {
      "text/plain": [
       "'C:\\\\Users\\\\ashis\\\\OneDrive\\\\Documents\\\\summer project\\\\summer project - 3d\\\\week2\\\\new_data\\\\image\\\\000077_10_1.png'"
      ]
     },
     "metadata": {},
     "output_type": "display_data"
    },
    {
     "data": {
      "text/plain": [
       "'C:\\\\Users\\\\ashis\\\\OneDrive\\\\Documents\\\\summer project\\\\summer project - 3d\\\\week2\\\\new_data\\\\mask\\\\000077_10_1.png'"
      ]
     },
     "metadata": {},
     "output_type": "display_data"
    },
    {
     "data": {
      "text/plain": [
       "'C:\\\\Users\\\\ashis\\\\OneDrive\\\\Documents\\\\summer project\\\\summer project - 3d\\\\week2\\\\new_data\\\\image\\\\000077_10_2.png'"
      ]
     },
     "metadata": {},
     "output_type": "display_data"
    },
    {
     "data": {
      "text/plain": [
       "'C:\\\\Users\\\\ashis\\\\OneDrive\\\\Documents\\\\summer project\\\\summer project - 3d\\\\week2\\\\new_data\\\\mask\\\\000077_10_2.png'"
      ]
     },
     "metadata": {},
     "output_type": "display_data"
    },
    {
     "data": {
      "text/plain": [
       "'C:\\\\Users\\\\ashis\\\\OneDrive\\\\Documents\\\\summer project\\\\summer project - 3d\\\\week2\\\\new_data\\\\image\\\\000077_10_3.png'"
      ]
     },
     "metadata": {},
     "output_type": "display_data"
    },
    {
     "data": {
      "text/plain": [
       "'C:\\\\Users\\\\ashis\\\\OneDrive\\\\Documents\\\\summer project\\\\summer project - 3d\\\\week2\\\\new_data\\\\mask\\\\000077_10_3.png'"
      ]
     },
     "metadata": {},
     "output_type": "display_data"
    },
    {
     "data": {
      "text/plain": [
       "'C:\\\\Users\\\\ashis\\\\OneDrive\\\\Documents\\\\summer project\\\\summer project - 3d\\\\week2\\\\new_data\\\\image\\\\000077_10_4.png'"
      ]
     },
     "metadata": {},
     "output_type": "display_data"
    },
    {
     "data": {
      "text/plain": [
       "'C:\\\\Users\\\\ashis\\\\OneDrive\\\\Documents\\\\summer project\\\\summer project - 3d\\\\week2\\\\new_data\\\\mask\\\\000077_10_4.png'"
      ]
     },
     "metadata": {},
     "output_type": "display_data"
    },
    {
     "data": {
      "text/plain": [
       "'C:\\\\Users\\\\ashis\\\\OneDrive\\\\Documents\\\\summer project\\\\summer project - 3d\\\\week2\\\\new_data\\\\image\\\\000077_10_5.png'"
      ]
     },
     "metadata": {},
     "output_type": "display_data"
    },
    {
     "data": {
      "text/plain": [
       "'C:\\\\Users\\\\ashis\\\\OneDrive\\\\Documents\\\\summer project\\\\summer project - 3d\\\\week2\\\\new_data\\\\mask\\\\000077_10_5.png'"
      ]
     },
     "metadata": {},
     "output_type": "display_data"
    },
    {
     "name": "stderr",
     "output_type": "stream",
     "text": [
      "\r",
      " 39%|███████████████████████████████▌                                                 | 78/200 [00:22<00:31,  3.85it/s]"
     ]
    },
    {
     "data": {
      "text/plain": [
       "'C:\\\\Users\\\\ashis\\\\OneDrive\\\\Documents\\\\summer project\\\\summer project - 3d\\\\week2\\\\new_data\\\\image\\\\000078_10_0.png'"
      ]
     },
     "metadata": {},
     "output_type": "display_data"
    },
    {
     "data": {
      "text/plain": [
       "'C:\\\\Users\\\\ashis\\\\OneDrive\\\\Documents\\\\summer project\\\\summer project - 3d\\\\week2\\\\new_data\\\\mask\\\\000078_10_0.png'"
      ]
     },
     "metadata": {},
     "output_type": "display_data"
    },
    {
     "data": {
      "text/plain": [
       "'C:\\\\Users\\\\ashis\\\\OneDrive\\\\Documents\\\\summer project\\\\summer project - 3d\\\\week2\\\\new_data\\\\image\\\\000078_10_1.png'"
      ]
     },
     "metadata": {},
     "output_type": "display_data"
    },
    {
     "data": {
      "text/plain": [
       "'C:\\\\Users\\\\ashis\\\\OneDrive\\\\Documents\\\\summer project\\\\summer project - 3d\\\\week2\\\\new_data\\\\mask\\\\000078_10_1.png'"
      ]
     },
     "metadata": {},
     "output_type": "display_data"
    },
    {
     "data": {
      "text/plain": [
       "'C:\\\\Users\\\\ashis\\\\OneDrive\\\\Documents\\\\summer project\\\\summer project - 3d\\\\week2\\\\new_data\\\\image\\\\000078_10_2.png'"
      ]
     },
     "metadata": {},
     "output_type": "display_data"
    },
    {
     "data": {
      "text/plain": [
       "'C:\\\\Users\\\\ashis\\\\OneDrive\\\\Documents\\\\summer project\\\\summer project - 3d\\\\week2\\\\new_data\\\\mask\\\\000078_10_2.png'"
      ]
     },
     "metadata": {},
     "output_type": "display_data"
    },
    {
     "data": {
      "text/plain": [
       "'C:\\\\Users\\\\ashis\\\\OneDrive\\\\Documents\\\\summer project\\\\summer project - 3d\\\\week2\\\\new_data\\\\image\\\\000078_10_3.png'"
      ]
     },
     "metadata": {},
     "output_type": "display_data"
    },
    {
     "data": {
      "text/plain": [
       "'C:\\\\Users\\\\ashis\\\\OneDrive\\\\Documents\\\\summer project\\\\summer project - 3d\\\\week2\\\\new_data\\\\mask\\\\000078_10_3.png'"
      ]
     },
     "metadata": {},
     "output_type": "display_data"
    },
    {
     "data": {
      "text/plain": [
       "'C:\\\\Users\\\\ashis\\\\OneDrive\\\\Documents\\\\summer project\\\\summer project - 3d\\\\week2\\\\new_data\\\\image\\\\000078_10_4.png'"
      ]
     },
     "metadata": {},
     "output_type": "display_data"
    },
    {
     "data": {
      "text/plain": [
       "'C:\\\\Users\\\\ashis\\\\OneDrive\\\\Documents\\\\summer project\\\\summer project - 3d\\\\week2\\\\new_data\\\\mask\\\\000078_10_4.png'"
      ]
     },
     "metadata": {},
     "output_type": "display_data"
    },
    {
     "data": {
      "text/plain": [
       "'C:\\\\Users\\\\ashis\\\\OneDrive\\\\Documents\\\\summer project\\\\summer project - 3d\\\\week2\\\\new_data\\\\image\\\\000078_10_5.png'"
      ]
     },
     "metadata": {},
     "output_type": "display_data"
    },
    {
     "data": {
      "text/plain": [
       "'C:\\\\Users\\\\ashis\\\\OneDrive\\\\Documents\\\\summer project\\\\summer project - 3d\\\\week2\\\\new_data\\\\mask\\\\000078_10_5.png'"
      ]
     },
     "metadata": {},
     "output_type": "display_data"
    },
    {
     "name": "stderr",
     "output_type": "stream",
     "text": [
      "\r",
      " 40%|███████████████████████████████▉                                                 | 79/200 [00:22<00:31,  3.89it/s]"
     ]
    },
    {
     "data": {
      "text/plain": [
       "'C:\\\\Users\\\\ashis\\\\OneDrive\\\\Documents\\\\summer project\\\\summer project - 3d\\\\week2\\\\new_data\\\\image\\\\000079_10_0.png'"
      ]
     },
     "metadata": {},
     "output_type": "display_data"
    },
    {
     "data": {
      "text/plain": [
       "'C:\\\\Users\\\\ashis\\\\OneDrive\\\\Documents\\\\summer project\\\\summer project - 3d\\\\week2\\\\new_data\\\\mask\\\\000079_10_0.png'"
      ]
     },
     "metadata": {},
     "output_type": "display_data"
    },
    {
     "data": {
      "text/plain": [
       "'C:\\\\Users\\\\ashis\\\\OneDrive\\\\Documents\\\\summer project\\\\summer project - 3d\\\\week2\\\\new_data\\\\image\\\\000079_10_1.png'"
      ]
     },
     "metadata": {},
     "output_type": "display_data"
    },
    {
     "data": {
      "text/plain": [
       "'C:\\\\Users\\\\ashis\\\\OneDrive\\\\Documents\\\\summer project\\\\summer project - 3d\\\\week2\\\\new_data\\\\mask\\\\000079_10_1.png'"
      ]
     },
     "metadata": {},
     "output_type": "display_data"
    },
    {
     "data": {
      "text/plain": [
       "'C:\\\\Users\\\\ashis\\\\OneDrive\\\\Documents\\\\summer project\\\\summer project - 3d\\\\week2\\\\new_data\\\\image\\\\000079_10_2.png'"
      ]
     },
     "metadata": {},
     "output_type": "display_data"
    },
    {
     "data": {
      "text/plain": [
       "'C:\\\\Users\\\\ashis\\\\OneDrive\\\\Documents\\\\summer project\\\\summer project - 3d\\\\week2\\\\new_data\\\\mask\\\\000079_10_2.png'"
      ]
     },
     "metadata": {},
     "output_type": "display_data"
    },
    {
     "data": {
      "text/plain": [
       "'C:\\\\Users\\\\ashis\\\\OneDrive\\\\Documents\\\\summer project\\\\summer project - 3d\\\\week2\\\\new_data\\\\image\\\\000079_10_3.png'"
      ]
     },
     "metadata": {},
     "output_type": "display_data"
    },
    {
     "data": {
      "text/plain": [
       "'C:\\\\Users\\\\ashis\\\\OneDrive\\\\Documents\\\\summer project\\\\summer project - 3d\\\\week2\\\\new_data\\\\mask\\\\000079_10_3.png'"
      ]
     },
     "metadata": {},
     "output_type": "display_data"
    },
    {
     "data": {
      "text/plain": [
       "'C:\\\\Users\\\\ashis\\\\OneDrive\\\\Documents\\\\summer project\\\\summer project - 3d\\\\week2\\\\new_data\\\\image\\\\000079_10_4.png'"
      ]
     },
     "metadata": {},
     "output_type": "display_data"
    },
    {
     "data": {
      "text/plain": [
       "'C:\\\\Users\\\\ashis\\\\OneDrive\\\\Documents\\\\summer project\\\\summer project - 3d\\\\week2\\\\new_data\\\\mask\\\\000079_10_4.png'"
      ]
     },
     "metadata": {},
     "output_type": "display_data"
    },
    {
     "data": {
      "text/plain": [
       "'C:\\\\Users\\\\ashis\\\\OneDrive\\\\Documents\\\\summer project\\\\summer project - 3d\\\\week2\\\\new_data\\\\image\\\\000079_10_5.png'"
      ]
     },
     "metadata": {},
     "output_type": "display_data"
    },
    {
     "data": {
      "text/plain": [
       "'C:\\\\Users\\\\ashis\\\\OneDrive\\\\Documents\\\\summer project\\\\summer project - 3d\\\\week2\\\\new_data\\\\mask\\\\000079_10_5.png'"
      ]
     },
     "metadata": {},
     "output_type": "display_data"
    },
    {
     "name": "stderr",
     "output_type": "stream",
     "text": [
      "\r",
      " 40%|████████████████████████████████▍                                                | 80/200 [00:23<00:30,  3.89it/s]"
     ]
    },
    {
     "data": {
      "text/plain": [
       "'C:\\\\Users\\\\ashis\\\\OneDrive\\\\Documents\\\\summer project\\\\summer project - 3d\\\\week2\\\\new_data\\\\image\\\\000080_10_0.png'"
      ]
     },
     "metadata": {},
     "output_type": "display_data"
    },
    {
     "data": {
      "text/plain": [
       "'C:\\\\Users\\\\ashis\\\\OneDrive\\\\Documents\\\\summer project\\\\summer project - 3d\\\\week2\\\\new_data\\\\mask\\\\000080_10_0.png'"
      ]
     },
     "metadata": {},
     "output_type": "display_data"
    },
    {
     "data": {
      "text/plain": [
       "'C:\\\\Users\\\\ashis\\\\OneDrive\\\\Documents\\\\summer project\\\\summer project - 3d\\\\week2\\\\new_data\\\\image\\\\000080_10_1.png'"
      ]
     },
     "metadata": {},
     "output_type": "display_data"
    },
    {
     "data": {
      "text/plain": [
       "'C:\\\\Users\\\\ashis\\\\OneDrive\\\\Documents\\\\summer project\\\\summer project - 3d\\\\week2\\\\new_data\\\\mask\\\\000080_10_1.png'"
      ]
     },
     "metadata": {},
     "output_type": "display_data"
    },
    {
     "data": {
      "text/plain": [
       "'C:\\\\Users\\\\ashis\\\\OneDrive\\\\Documents\\\\summer project\\\\summer project - 3d\\\\week2\\\\new_data\\\\image\\\\000080_10_2.png'"
      ]
     },
     "metadata": {},
     "output_type": "display_data"
    },
    {
     "data": {
      "text/plain": [
       "'C:\\\\Users\\\\ashis\\\\OneDrive\\\\Documents\\\\summer project\\\\summer project - 3d\\\\week2\\\\new_data\\\\mask\\\\000080_10_2.png'"
      ]
     },
     "metadata": {},
     "output_type": "display_data"
    },
    {
     "data": {
      "text/plain": [
       "'C:\\\\Users\\\\ashis\\\\OneDrive\\\\Documents\\\\summer project\\\\summer project - 3d\\\\week2\\\\new_data\\\\image\\\\000080_10_3.png'"
      ]
     },
     "metadata": {},
     "output_type": "display_data"
    },
    {
     "data": {
      "text/plain": [
       "'C:\\\\Users\\\\ashis\\\\OneDrive\\\\Documents\\\\summer project\\\\summer project - 3d\\\\week2\\\\new_data\\\\mask\\\\000080_10_3.png'"
      ]
     },
     "metadata": {},
     "output_type": "display_data"
    },
    {
     "data": {
      "text/plain": [
       "'C:\\\\Users\\\\ashis\\\\OneDrive\\\\Documents\\\\summer project\\\\summer project - 3d\\\\week2\\\\new_data\\\\image\\\\000080_10_4.png'"
      ]
     },
     "metadata": {},
     "output_type": "display_data"
    },
    {
     "data": {
      "text/plain": [
       "'C:\\\\Users\\\\ashis\\\\OneDrive\\\\Documents\\\\summer project\\\\summer project - 3d\\\\week2\\\\new_data\\\\mask\\\\000080_10_4.png'"
      ]
     },
     "metadata": {},
     "output_type": "display_data"
    },
    {
     "data": {
      "text/plain": [
       "'C:\\\\Users\\\\ashis\\\\OneDrive\\\\Documents\\\\summer project\\\\summer project - 3d\\\\week2\\\\new_data\\\\image\\\\000080_10_5.png'"
      ]
     },
     "metadata": {},
     "output_type": "display_data"
    },
    {
     "data": {
      "text/plain": [
       "'C:\\\\Users\\\\ashis\\\\OneDrive\\\\Documents\\\\summer project\\\\summer project - 3d\\\\week2\\\\new_data\\\\mask\\\\000080_10_5.png'"
      ]
     },
     "metadata": {},
     "output_type": "display_data"
    },
    {
     "name": "stderr",
     "output_type": "stream",
     "text": [
      "\r",
      " 40%|████████████████████████████████▊                                                | 81/200 [00:23<00:30,  3.88it/s]"
     ]
    },
    {
     "data": {
      "text/plain": [
       "'C:\\\\Users\\\\ashis\\\\OneDrive\\\\Documents\\\\summer project\\\\summer project - 3d\\\\week2\\\\new_data\\\\image\\\\000081_10_0.png'"
      ]
     },
     "metadata": {},
     "output_type": "display_data"
    },
    {
     "data": {
      "text/plain": [
       "'C:\\\\Users\\\\ashis\\\\OneDrive\\\\Documents\\\\summer project\\\\summer project - 3d\\\\week2\\\\new_data\\\\mask\\\\000081_10_0.png'"
      ]
     },
     "metadata": {},
     "output_type": "display_data"
    },
    {
     "data": {
      "text/plain": [
       "'C:\\\\Users\\\\ashis\\\\OneDrive\\\\Documents\\\\summer project\\\\summer project - 3d\\\\week2\\\\new_data\\\\image\\\\000081_10_1.png'"
      ]
     },
     "metadata": {},
     "output_type": "display_data"
    },
    {
     "data": {
      "text/plain": [
       "'C:\\\\Users\\\\ashis\\\\OneDrive\\\\Documents\\\\summer project\\\\summer project - 3d\\\\week2\\\\new_data\\\\mask\\\\000081_10_1.png'"
      ]
     },
     "metadata": {},
     "output_type": "display_data"
    },
    {
     "data": {
      "text/plain": [
       "'C:\\\\Users\\\\ashis\\\\OneDrive\\\\Documents\\\\summer project\\\\summer project - 3d\\\\week2\\\\new_data\\\\image\\\\000081_10_2.png'"
      ]
     },
     "metadata": {},
     "output_type": "display_data"
    },
    {
     "data": {
      "text/plain": [
       "'C:\\\\Users\\\\ashis\\\\OneDrive\\\\Documents\\\\summer project\\\\summer project - 3d\\\\week2\\\\new_data\\\\mask\\\\000081_10_2.png'"
      ]
     },
     "metadata": {},
     "output_type": "display_data"
    },
    {
     "data": {
      "text/plain": [
       "'C:\\\\Users\\\\ashis\\\\OneDrive\\\\Documents\\\\summer project\\\\summer project - 3d\\\\week2\\\\new_data\\\\image\\\\000081_10_3.png'"
      ]
     },
     "metadata": {},
     "output_type": "display_data"
    },
    {
     "data": {
      "text/plain": [
       "'C:\\\\Users\\\\ashis\\\\OneDrive\\\\Documents\\\\summer project\\\\summer project - 3d\\\\week2\\\\new_data\\\\mask\\\\000081_10_3.png'"
      ]
     },
     "metadata": {},
     "output_type": "display_data"
    },
    {
     "data": {
      "text/plain": [
       "'C:\\\\Users\\\\ashis\\\\OneDrive\\\\Documents\\\\summer project\\\\summer project - 3d\\\\week2\\\\new_data\\\\image\\\\000081_10_4.png'"
      ]
     },
     "metadata": {},
     "output_type": "display_data"
    },
    {
     "data": {
      "text/plain": [
       "'C:\\\\Users\\\\ashis\\\\OneDrive\\\\Documents\\\\summer project\\\\summer project - 3d\\\\week2\\\\new_data\\\\mask\\\\000081_10_4.png'"
      ]
     },
     "metadata": {},
     "output_type": "display_data"
    },
    {
     "data": {
      "text/plain": [
       "'C:\\\\Users\\\\ashis\\\\OneDrive\\\\Documents\\\\summer project\\\\summer project - 3d\\\\week2\\\\new_data\\\\image\\\\000081_10_5.png'"
      ]
     },
     "metadata": {},
     "output_type": "display_data"
    },
    {
     "data": {
      "text/plain": [
       "'C:\\\\Users\\\\ashis\\\\OneDrive\\\\Documents\\\\summer project\\\\summer project - 3d\\\\week2\\\\new_data\\\\mask\\\\000081_10_5.png'"
      ]
     },
     "metadata": {},
     "output_type": "display_data"
    },
    {
     "name": "stderr",
     "output_type": "stream",
     "text": [
      "\r",
      " 41%|█████████████████████████████████▏                                               | 82/200 [00:23<00:29,  3.94it/s]"
     ]
    },
    {
     "data": {
      "text/plain": [
       "'C:\\\\Users\\\\ashis\\\\OneDrive\\\\Documents\\\\summer project\\\\summer project - 3d\\\\week2\\\\new_data\\\\image\\\\000082_10_0.png'"
      ]
     },
     "metadata": {},
     "output_type": "display_data"
    },
    {
     "data": {
      "text/plain": [
       "'C:\\\\Users\\\\ashis\\\\OneDrive\\\\Documents\\\\summer project\\\\summer project - 3d\\\\week2\\\\new_data\\\\mask\\\\000082_10_0.png'"
      ]
     },
     "metadata": {},
     "output_type": "display_data"
    },
    {
     "data": {
      "text/plain": [
       "'C:\\\\Users\\\\ashis\\\\OneDrive\\\\Documents\\\\summer project\\\\summer project - 3d\\\\week2\\\\new_data\\\\image\\\\000082_10_1.png'"
      ]
     },
     "metadata": {},
     "output_type": "display_data"
    },
    {
     "data": {
      "text/plain": [
       "'C:\\\\Users\\\\ashis\\\\OneDrive\\\\Documents\\\\summer project\\\\summer project - 3d\\\\week2\\\\new_data\\\\mask\\\\000082_10_1.png'"
      ]
     },
     "metadata": {},
     "output_type": "display_data"
    },
    {
     "data": {
      "text/plain": [
       "'C:\\\\Users\\\\ashis\\\\OneDrive\\\\Documents\\\\summer project\\\\summer project - 3d\\\\week2\\\\new_data\\\\image\\\\000082_10_2.png'"
      ]
     },
     "metadata": {},
     "output_type": "display_data"
    },
    {
     "data": {
      "text/plain": [
       "'C:\\\\Users\\\\ashis\\\\OneDrive\\\\Documents\\\\summer project\\\\summer project - 3d\\\\week2\\\\new_data\\\\mask\\\\000082_10_2.png'"
      ]
     },
     "metadata": {},
     "output_type": "display_data"
    },
    {
     "data": {
      "text/plain": [
       "'C:\\\\Users\\\\ashis\\\\OneDrive\\\\Documents\\\\summer project\\\\summer project - 3d\\\\week2\\\\new_data\\\\image\\\\000082_10_3.png'"
      ]
     },
     "metadata": {},
     "output_type": "display_data"
    },
    {
     "data": {
      "text/plain": [
       "'C:\\\\Users\\\\ashis\\\\OneDrive\\\\Documents\\\\summer project\\\\summer project - 3d\\\\week2\\\\new_data\\\\mask\\\\000082_10_3.png'"
      ]
     },
     "metadata": {},
     "output_type": "display_data"
    },
    {
     "data": {
      "text/plain": [
       "'C:\\\\Users\\\\ashis\\\\OneDrive\\\\Documents\\\\summer project\\\\summer project - 3d\\\\week2\\\\new_data\\\\image\\\\000082_10_4.png'"
      ]
     },
     "metadata": {},
     "output_type": "display_data"
    },
    {
     "data": {
      "text/plain": [
       "'C:\\\\Users\\\\ashis\\\\OneDrive\\\\Documents\\\\summer project\\\\summer project - 3d\\\\week2\\\\new_data\\\\mask\\\\000082_10_4.png'"
      ]
     },
     "metadata": {},
     "output_type": "display_data"
    },
    {
     "data": {
      "text/plain": [
       "'C:\\\\Users\\\\ashis\\\\OneDrive\\\\Documents\\\\summer project\\\\summer project - 3d\\\\week2\\\\new_data\\\\image\\\\000082_10_5.png'"
      ]
     },
     "metadata": {},
     "output_type": "display_data"
    },
    {
     "data": {
      "text/plain": [
       "'C:\\\\Users\\\\ashis\\\\OneDrive\\\\Documents\\\\summer project\\\\summer project - 3d\\\\week2\\\\new_data\\\\mask\\\\000082_10_5.png'"
      ]
     },
     "metadata": {},
     "output_type": "display_data"
    },
    {
     "name": "stderr",
     "output_type": "stream",
     "text": [
      "\r",
      " 42%|█████████████████████████████████▌                                               | 83/200 [00:23<00:30,  3.87it/s]"
     ]
    },
    {
     "data": {
      "text/plain": [
       "'C:\\\\Users\\\\ashis\\\\OneDrive\\\\Documents\\\\summer project\\\\summer project - 3d\\\\week2\\\\new_data\\\\image\\\\000083_10_0.png'"
      ]
     },
     "metadata": {},
     "output_type": "display_data"
    },
    {
     "data": {
      "text/plain": [
       "'C:\\\\Users\\\\ashis\\\\OneDrive\\\\Documents\\\\summer project\\\\summer project - 3d\\\\week2\\\\new_data\\\\mask\\\\000083_10_0.png'"
      ]
     },
     "metadata": {},
     "output_type": "display_data"
    },
    {
     "data": {
      "text/plain": [
       "'C:\\\\Users\\\\ashis\\\\OneDrive\\\\Documents\\\\summer project\\\\summer project - 3d\\\\week2\\\\new_data\\\\image\\\\000083_10_1.png'"
      ]
     },
     "metadata": {},
     "output_type": "display_data"
    },
    {
     "data": {
      "text/plain": [
       "'C:\\\\Users\\\\ashis\\\\OneDrive\\\\Documents\\\\summer project\\\\summer project - 3d\\\\week2\\\\new_data\\\\mask\\\\000083_10_1.png'"
      ]
     },
     "metadata": {},
     "output_type": "display_data"
    },
    {
     "data": {
      "text/plain": [
       "'C:\\\\Users\\\\ashis\\\\OneDrive\\\\Documents\\\\summer project\\\\summer project - 3d\\\\week2\\\\new_data\\\\image\\\\000083_10_2.png'"
      ]
     },
     "metadata": {},
     "output_type": "display_data"
    },
    {
     "data": {
      "text/plain": [
       "'C:\\\\Users\\\\ashis\\\\OneDrive\\\\Documents\\\\summer project\\\\summer project - 3d\\\\week2\\\\new_data\\\\mask\\\\000083_10_2.png'"
      ]
     },
     "metadata": {},
     "output_type": "display_data"
    },
    {
     "data": {
      "text/plain": [
       "'C:\\\\Users\\\\ashis\\\\OneDrive\\\\Documents\\\\summer project\\\\summer project - 3d\\\\week2\\\\new_data\\\\image\\\\000083_10_3.png'"
      ]
     },
     "metadata": {},
     "output_type": "display_data"
    },
    {
     "data": {
      "text/plain": [
       "'C:\\\\Users\\\\ashis\\\\OneDrive\\\\Documents\\\\summer project\\\\summer project - 3d\\\\week2\\\\new_data\\\\mask\\\\000083_10_3.png'"
      ]
     },
     "metadata": {},
     "output_type": "display_data"
    },
    {
     "data": {
      "text/plain": [
       "'C:\\\\Users\\\\ashis\\\\OneDrive\\\\Documents\\\\summer project\\\\summer project - 3d\\\\week2\\\\new_data\\\\image\\\\000083_10_4.png'"
      ]
     },
     "metadata": {},
     "output_type": "display_data"
    },
    {
     "data": {
      "text/plain": [
       "'C:\\\\Users\\\\ashis\\\\OneDrive\\\\Documents\\\\summer project\\\\summer project - 3d\\\\week2\\\\new_data\\\\mask\\\\000083_10_4.png'"
      ]
     },
     "metadata": {},
     "output_type": "display_data"
    },
    {
     "data": {
      "text/plain": [
       "'C:\\\\Users\\\\ashis\\\\OneDrive\\\\Documents\\\\summer project\\\\summer project - 3d\\\\week2\\\\new_data\\\\image\\\\000083_10_5.png'"
      ]
     },
     "metadata": {},
     "output_type": "display_data"
    },
    {
     "data": {
      "text/plain": [
       "'C:\\\\Users\\\\ashis\\\\OneDrive\\\\Documents\\\\summer project\\\\summer project - 3d\\\\week2\\\\new_data\\\\mask\\\\000083_10_5.png'"
      ]
     },
     "metadata": {},
     "output_type": "display_data"
    },
    {
     "name": "stderr",
     "output_type": "stream",
     "text": [
      "\r",
      " 42%|██████████████████████████████████                                               | 84/200 [00:24<00:31,  3.70it/s]"
     ]
    },
    {
     "data": {
      "text/plain": [
       "'C:\\\\Users\\\\ashis\\\\OneDrive\\\\Documents\\\\summer project\\\\summer project - 3d\\\\week2\\\\new_data\\\\image\\\\000084_10_0.png'"
      ]
     },
     "metadata": {},
     "output_type": "display_data"
    },
    {
     "data": {
      "text/plain": [
       "'C:\\\\Users\\\\ashis\\\\OneDrive\\\\Documents\\\\summer project\\\\summer project - 3d\\\\week2\\\\new_data\\\\mask\\\\000084_10_0.png'"
      ]
     },
     "metadata": {},
     "output_type": "display_data"
    },
    {
     "data": {
      "text/plain": [
       "'C:\\\\Users\\\\ashis\\\\OneDrive\\\\Documents\\\\summer project\\\\summer project - 3d\\\\week2\\\\new_data\\\\image\\\\000084_10_1.png'"
      ]
     },
     "metadata": {},
     "output_type": "display_data"
    },
    {
     "data": {
      "text/plain": [
       "'C:\\\\Users\\\\ashis\\\\OneDrive\\\\Documents\\\\summer project\\\\summer project - 3d\\\\week2\\\\new_data\\\\mask\\\\000084_10_1.png'"
      ]
     },
     "metadata": {},
     "output_type": "display_data"
    },
    {
     "data": {
      "text/plain": [
       "'C:\\\\Users\\\\ashis\\\\OneDrive\\\\Documents\\\\summer project\\\\summer project - 3d\\\\week2\\\\new_data\\\\image\\\\000084_10_2.png'"
      ]
     },
     "metadata": {},
     "output_type": "display_data"
    },
    {
     "data": {
      "text/plain": [
       "'C:\\\\Users\\\\ashis\\\\OneDrive\\\\Documents\\\\summer project\\\\summer project - 3d\\\\week2\\\\new_data\\\\mask\\\\000084_10_2.png'"
      ]
     },
     "metadata": {},
     "output_type": "display_data"
    },
    {
     "data": {
      "text/plain": [
       "'C:\\\\Users\\\\ashis\\\\OneDrive\\\\Documents\\\\summer project\\\\summer project - 3d\\\\week2\\\\new_data\\\\image\\\\000084_10_3.png'"
      ]
     },
     "metadata": {},
     "output_type": "display_data"
    },
    {
     "data": {
      "text/plain": [
       "'C:\\\\Users\\\\ashis\\\\OneDrive\\\\Documents\\\\summer project\\\\summer project - 3d\\\\week2\\\\new_data\\\\mask\\\\000084_10_3.png'"
      ]
     },
     "metadata": {},
     "output_type": "display_data"
    },
    {
     "data": {
      "text/plain": [
       "'C:\\\\Users\\\\ashis\\\\OneDrive\\\\Documents\\\\summer project\\\\summer project - 3d\\\\week2\\\\new_data\\\\image\\\\000084_10_4.png'"
      ]
     },
     "metadata": {},
     "output_type": "display_data"
    },
    {
     "data": {
      "text/plain": [
       "'C:\\\\Users\\\\ashis\\\\OneDrive\\\\Documents\\\\summer project\\\\summer project - 3d\\\\week2\\\\new_data\\\\mask\\\\000084_10_4.png'"
      ]
     },
     "metadata": {},
     "output_type": "display_data"
    },
    {
     "data": {
      "text/plain": [
       "'C:\\\\Users\\\\ashis\\\\OneDrive\\\\Documents\\\\summer project\\\\summer project - 3d\\\\week2\\\\new_data\\\\image\\\\000084_10_5.png'"
      ]
     },
     "metadata": {},
     "output_type": "display_data"
    },
    {
     "data": {
      "text/plain": [
       "'C:\\\\Users\\\\ashis\\\\OneDrive\\\\Documents\\\\summer project\\\\summer project - 3d\\\\week2\\\\new_data\\\\mask\\\\000084_10_5.png'"
      ]
     },
     "metadata": {},
     "output_type": "display_data"
    },
    {
     "name": "stderr",
     "output_type": "stream",
     "text": [
      "\r",
      " 42%|██████████████████████████████████▍                                              | 85/200 [00:24<00:32,  3.58it/s]"
     ]
    },
    {
     "data": {
      "text/plain": [
       "'C:\\\\Users\\\\ashis\\\\OneDrive\\\\Documents\\\\summer project\\\\summer project - 3d\\\\week2\\\\new_data\\\\image\\\\000085_10_0.png'"
      ]
     },
     "metadata": {},
     "output_type": "display_data"
    },
    {
     "data": {
      "text/plain": [
       "'C:\\\\Users\\\\ashis\\\\OneDrive\\\\Documents\\\\summer project\\\\summer project - 3d\\\\week2\\\\new_data\\\\mask\\\\000085_10_0.png'"
      ]
     },
     "metadata": {},
     "output_type": "display_data"
    },
    {
     "data": {
      "text/plain": [
       "'C:\\\\Users\\\\ashis\\\\OneDrive\\\\Documents\\\\summer project\\\\summer project - 3d\\\\week2\\\\new_data\\\\image\\\\000085_10_1.png'"
      ]
     },
     "metadata": {},
     "output_type": "display_data"
    },
    {
     "data": {
      "text/plain": [
       "'C:\\\\Users\\\\ashis\\\\OneDrive\\\\Documents\\\\summer project\\\\summer project - 3d\\\\week2\\\\new_data\\\\mask\\\\000085_10_1.png'"
      ]
     },
     "metadata": {},
     "output_type": "display_data"
    },
    {
     "data": {
      "text/plain": [
       "'C:\\\\Users\\\\ashis\\\\OneDrive\\\\Documents\\\\summer project\\\\summer project - 3d\\\\week2\\\\new_data\\\\image\\\\000085_10_2.png'"
      ]
     },
     "metadata": {},
     "output_type": "display_data"
    },
    {
     "data": {
      "text/plain": [
       "'C:\\\\Users\\\\ashis\\\\OneDrive\\\\Documents\\\\summer project\\\\summer project - 3d\\\\week2\\\\new_data\\\\mask\\\\000085_10_2.png'"
      ]
     },
     "metadata": {},
     "output_type": "display_data"
    },
    {
     "data": {
      "text/plain": [
       "'C:\\\\Users\\\\ashis\\\\OneDrive\\\\Documents\\\\summer project\\\\summer project - 3d\\\\week2\\\\new_data\\\\image\\\\000085_10_3.png'"
      ]
     },
     "metadata": {},
     "output_type": "display_data"
    },
    {
     "data": {
      "text/plain": [
       "'C:\\\\Users\\\\ashis\\\\OneDrive\\\\Documents\\\\summer project\\\\summer project - 3d\\\\week2\\\\new_data\\\\mask\\\\000085_10_3.png'"
      ]
     },
     "metadata": {},
     "output_type": "display_data"
    },
    {
     "data": {
      "text/plain": [
       "'C:\\\\Users\\\\ashis\\\\OneDrive\\\\Documents\\\\summer project\\\\summer project - 3d\\\\week2\\\\new_data\\\\image\\\\000085_10_4.png'"
      ]
     },
     "metadata": {},
     "output_type": "display_data"
    },
    {
     "data": {
      "text/plain": [
       "'C:\\\\Users\\\\ashis\\\\OneDrive\\\\Documents\\\\summer project\\\\summer project - 3d\\\\week2\\\\new_data\\\\mask\\\\000085_10_4.png'"
      ]
     },
     "metadata": {},
     "output_type": "display_data"
    },
    {
     "data": {
      "text/plain": [
       "'C:\\\\Users\\\\ashis\\\\OneDrive\\\\Documents\\\\summer project\\\\summer project - 3d\\\\week2\\\\new_data\\\\image\\\\000085_10_5.png'"
      ]
     },
     "metadata": {},
     "output_type": "display_data"
    },
    {
     "data": {
      "text/plain": [
       "'C:\\\\Users\\\\ashis\\\\OneDrive\\\\Documents\\\\summer project\\\\summer project - 3d\\\\week2\\\\new_data\\\\mask\\\\000085_10_5.png'"
      ]
     },
     "metadata": {},
     "output_type": "display_data"
    },
    {
     "name": "stderr",
     "output_type": "stream",
     "text": [
      "\r",
      " 43%|██████████████████████████████████▊                                              | 86/200 [00:24<00:30,  3.70it/s]"
     ]
    },
    {
     "data": {
      "text/plain": [
       "'C:\\\\Users\\\\ashis\\\\OneDrive\\\\Documents\\\\summer project\\\\summer project - 3d\\\\week2\\\\new_data\\\\image\\\\000086_10_0.png'"
      ]
     },
     "metadata": {},
     "output_type": "display_data"
    },
    {
     "data": {
      "text/plain": [
       "'C:\\\\Users\\\\ashis\\\\OneDrive\\\\Documents\\\\summer project\\\\summer project - 3d\\\\week2\\\\new_data\\\\mask\\\\000086_10_0.png'"
      ]
     },
     "metadata": {},
     "output_type": "display_data"
    },
    {
     "data": {
      "text/plain": [
       "'C:\\\\Users\\\\ashis\\\\OneDrive\\\\Documents\\\\summer project\\\\summer project - 3d\\\\week2\\\\new_data\\\\image\\\\000086_10_1.png'"
      ]
     },
     "metadata": {},
     "output_type": "display_data"
    },
    {
     "data": {
      "text/plain": [
       "'C:\\\\Users\\\\ashis\\\\OneDrive\\\\Documents\\\\summer project\\\\summer project - 3d\\\\week2\\\\new_data\\\\mask\\\\000086_10_1.png'"
      ]
     },
     "metadata": {},
     "output_type": "display_data"
    },
    {
     "data": {
      "text/plain": [
       "'C:\\\\Users\\\\ashis\\\\OneDrive\\\\Documents\\\\summer project\\\\summer project - 3d\\\\week2\\\\new_data\\\\image\\\\000086_10_2.png'"
      ]
     },
     "metadata": {},
     "output_type": "display_data"
    },
    {
     "data": {
      "text/plain": [
       "'C:\\\\Users\\\\ashis\\\\OneDrive\\\\Documents\\\\summer project\\\\summer project - 3d\\\\week2\\\\new_data\\\\mask\\\\000086_10_2.png'"
      ]
     },
     "metadata": {},
     "output_type": "display_data"
    },
    {
     "data": {
      "text/plain": [
       "'C:\\\\Users\\\\ashis\\\\OneDrive\\\\Documents\\\\summer project\\\\summer project - 3d\\\\week2\\\\new_data\\\\image\\\\000086_10_3.png'"
      ]
     },
     "metadata": {},
     "output_type": "display_data"
    },
    {
     "data": {
      "text/plain": [
       "'C:\\\\Users\\\\ashis\\\\OneDrive\\\\Documents\\\\summer project\\\\summer project - 3d\\\\week2\\\\new_data\\\\mask\\\\000086_10_3.png'"
      ]
     },
     "metadata": {},
     "output_type": "display_data"
    },
    {
     "data": {
      "text/plain": [
       "'C:\\\\Users\\\\ashis\\\\OneDrive\\\\Documents\\\\summer project\\\\summer project - 3d\\\\week2\\\\new_data\\\\image\\\\000086_10_4.png'"
      ]
     },
     "metadata": {},
     "output_type": "display_data"
    },
    {
     "data": {
      "text/plain": [
       "'C:\\\\Users\\\\ashis\\\\OneDrive\\\\Documents\\\\summer project\\\\summer project - 3d\\\\week2\\\\new_data\\\\mask\\\\000086_10_4.png'"
      ]
     },
     "metadata": {},
     "output_type": "display_data"
    },
    {
     "data": {
      "text/plain": [
       "'C:\\\\Users\\\\ashis\\\\OneDrive\\\\Documents\\\\summer project\\\\summer project - 3d\\\\week2\\\\new_data\\\\image\\\\000086_10_5.png'"
      ]
     },
     "metadata": {},
     "output_type": "display_data"
    },
    {
     "data": {
      "text/plain": [
       "'C:\\\\Users\\\\ashis\\\\OneDrive\\\\Documents\\\\summer project\\\\summer project - 3d\\\\week2\\\\new_data\\\\mask\\\\000086_10_5.png'"
      ]
     },
     "metadata": {},
     "output_type": "display_data"
    },
    {
     "name": "stderr",
     "output_type": "stream",
     "text": [
      "\r",
      " 44%|███████████████████████████████████▏                                             | 87/200 [00:25<00:30,  3.76it/s]"
     ]
    },
    {
     "data": {
      "text/plain": [
       "'C:\\\\Users\\\\ashis\\\\OneDrive\\\\Documents\\\\summer project\\\\summer project - 3d\\\\week2\\\\new_data\\\\image\\\\000087_10_0.png'"
      ]
     },
     "metadata": {},
     "output_type": "display_data"
    },
    {
     "data": {
      "text/plain": [
       "'C:\\\\Users\\\\ashis\\\\OneDrive\\\\Documents\\\\summer project\\\\summer project - 3d\\\\week2\\\\new_data\\\\mask\\\\000087_10_0.png'"
      ]
     },
     "metadata": {},
     "output_type": "display_data"
    },
    {
     "data": {
      "text/plain": [
       "'C:\\\\Users\\\\ashis\\\\OneDrive\\\\Documents\\\\summer project\\\\summer project - 3d\\\\week2\\\\new_data\\\\image\\\\000087_10_1.png'"
      ]
     },
     "metadata": {},
     "output_type": "display_data"
    },
    {
     "data": {
      "text/plain": [
       "'C:\\\\Users\\\\ashis\\\\OneDrive\\\\Documents\\\\summer project\\\\summer project - 3d\\\\week2\\\\new_data\\\\mask\\\\000087_10_1.png'"
      ]
     },
     "metadata": {},
     "output_type": "display_data"
    },
    {
     "data": {
      "text/plain": [
       "'C:\\\\Users\\\\ashis\\\\OneDrive\\\\Documents\\\\summer project\\\\summer project - 3d\\\\week2\\\\new_data\\\\image\\\\000087_10_2.png'"
      ]
     },
     "metadata": {},
     "output_type": "display_data"
    },
    {
     "data": {
      "text/plain": [
       "'C:\\\\Users\\\\ashis\\\\OneDrive\\\\Documents\\\\summer project\\\\summer project - 3d\\\\week2\\\\new_data\\\\mask\\\\000087_10_2.png'"
      ]
     },
     "metadata": {},
     "output_type": "display_data"
    },
    {
     "data": {
      "text/plain": [
       "'C:\\\\Users\\\\ashis\\\\OneDrive\\\\Documents\\\\summer project\\\\summer project - 3d\\\\week2\\\\new_data\\\\image\\\\000087_10_3.png'"
      ]
     },
     "metadata": {},
     "output_type": "display_data"
    },
    {
     "data": {
      "text/plain": [
       "'C:\\\\Users\\\\ashis\\\\OneDrive\\\\Documents\\\\summer project\\\\summer project - 3d\\\\week2\\\\new_data\\\\mask\\\\000087_10_3.png'"
      ]
     },
     "metadata": {},
     "output_type": "display_data"
    },
    {
     "data": {
      "text/plain": [
       "'C:\\\\Users\\\\ashis\\\\OneDrive\\\\Documents\\\\summer project\\\\summer project - 3d\\\\week2\\\\new_data\\\\image\\\\000087_10_4.png'"
      ]
     },
     "metadata": {},
     "output_type": "display_data"
    },
    {
     "data": {
      "text/plain": [
       "'C:\\\\Users\\\\ashis\\\\OneDrive\\\\Documents\\\\summer project\\\\summer project - 3d\\\\week2\\\\new_data\\\\mask\\\\000087_10_4.png'"
      ]
     },
     "metadata": {},
     "output_type": "display_data"
    },
    {
     "data": {
      "text/plain": [
       "'C:\\\\Users\\\\ashis\\\\OneDrive\\\\Documents\\\\summer project\\\\summer project - 3d\\\\week2\\\\new_data\\\\image\\\\000087_10_5.png'"
      ]
     },
     "metadata": {},
     "output_type": "display_data"
    },
    {
     "data": {
      "text/plain": [
       "'C:\\\\Users\\\\ashis\\\\OneDrive\\\\Documents\\\\summer project\\\\summer project - 3d\\\\week2\\\\new_data\\\\mask\\\\000087_10_5.png'"
      ]
     },
     "metadata": {},
     "output_type": "display_data"
    },
    {
     "name": "stderr",
     "output_type": "stream",
     "text": [
      "\r",
      " 44%|███████████████████████████████████▋                                             | 88/200 [00:25<00:29,  3.74it/s]"
     ]
    },
    {
     "data": {
      "text/plain": [
       "'C:\\\\Users\\\\ashis\\\\OneDrive\\\\Documents\\\\summer project\\\\summer project - 3d\\\\week2\\\\new_data\\\\image\\\\000088_10_0.png'"
      ]
     },
     "metadata": {},
     "output_type": "display_data"
    },
    {
     "data": {
      "text/plain": [
       "'C:\\\\Users\\\\ashis\\\\OneDrive\\\\Documents\\\\summer project\\\\summer project - 3d\\\\week2\\\\new_data\\\\mask\\\\000088_10_0.png'"
      ]
     },
     "metadata": {},
     "output_type": "display_data"
    },
    {
     "data": {
      "text/plain": [
       "'C:\\\\Users\\\\ashis\\\\OneDrive\\\\Documents\\\\summer project\\\\summer project - 3d\\\\week2\\\\new_data\\\\image\\\\000088_10_1.png'"
      ]
     },
     "metadata": {},
     "output_type": "display_data"
    },
    {
     "data": {
      "text/plain": [
       "'C:\\\\Users\\\\ashis\\\\OneDrive\\\\Documents\\\\summer project\\\\summer project - 3d\\\\week2\\\\new_data\\\\mask\\\\000088_10_1.png'"
      ]
     },
     "metadata": {},
     "output_type": "display_data"
    },
    {
     "data": {
      "text/plain": [
       "'C:\\\\Users\\\\ashis\\\\OneDrive\\\\Documents\\\\summer project\\\\summer project - 3d\\\\week2\\\\new_data\\\\image\\\\000088_10_2.png'"
      ]
     },
     "metadata": {},
     "output_type": "display_data"
    },
    {
     "data": {
      "text/plain": [
       "'C:\\\\Users\\\\ashis\\\\OneDrive\\\\Documents\\\\summer project\\\\summer project - 3d\\\\week2\\\\new_data\\\\mask\\\\000088_10_2.png'"
      ]
     },
     "metadata": {},
     "output_type": "display_data"
    },
    {
     "data": {
      "text/plain": [
       "'C:\\\\Users\\\\ashis\\\\OneDrive\\\\Documents\\\\summer project\\\\summer project - 3d\\\\week2\\\\new_data\\\\image\\\\000088_10_3.png'"
      ]
     },
     "metadata": {},
     "output_type": "display_data"
    },
    {
     "data": {
      "text/plain": [
       "'C:\\\\Users\\\\ashis\\\\OneDrive\\\\Documents\\\\summer project\\\\summer project - 3d\\\\week2\\\\new_data\\\\mask\\\\000088_10_3.png'"
      ]
     },
     "metadata": {},
     "output_type": "display_data"
    },
    {
     "data": {
      "text/plain": [
       "'C:\\\\Users\\\\ashis\\\\OneDrive\\\\Documents\\\\summer project\\\\summer project - 3d\\\\week2\\\\new_data\\\\image\\\\000088_10_4.png'"
      ]
     },
     "metadata": {},
     "output_type": "display_data"
    },
    {
     "data": {
      "text/plain": [
       "'C:\\\\Users\\\\ashis\\\\OneDrive\\\\Documents\\\\summer project\\\\summer project - 3d\\\\week2\\\\new_data\\\\mask\\\\000088_10_4.png'"
      ]
     },
     "metadata": {},
     "output_type": "display_data"
    },
    {
     "data": {
      "text/plain": [
       "'C:\\\\Users\\\\ashis\\\\OneDrive\\\\Documents\\\\summer project\\\\summer project - 3d\\\\week2\\\\new_data\\\\image\\\\000088_10_5.png'"
      ]
     },
     "metadata": {},
     "output_type": "display_data"
    },
    {
     "data": {
      "text/plain": [
       "'C:\\\\Users\\\\ashis\\\\OneDrive\\\\Documents\\\\summer project\\\\summer project - 3d\\\\week2\\\\new_data\\\\mask\\\\000088_10_5.png'"
      ]
     },
     "metadata": {},
     "output_type": "display_data"
    },
    {
     "name": "stderr",
     "output_type": "stream",
     "text": [
      "\r",
      " 44%|████████████████████████████████████                                             | 89/200 [00:25<00:30,  3.61it/s]"
     ]
    },
    {
     "data": {
      "text/plain": [
       "'C:\\\\Users\\\\ashis\\\\OneDrive\\\\Documents\\\\summer project\\\\summer project - 3d\\\\week2\\\\new_data\\\\image\\\\000089_10_0.png'"
      ]
     },
     "metadata": {},
     "output_type": "display_data"
    },
    {
     "data": {
      "text/plain": [
       "'C:\\\\Users\\\\ashis\\\\OneDrive\\\\Documents\\\\summer project\\\\summer project - 3d\\\\week2\\\\new_data\\\\mask\\\\000089_10_0.png'"
      ]
     },
     "metadata": {},
     "output_type": "display_data"
    },
    {
     "data": {
      "text/plain": [
       "'C:\\\\Users\\\\ashis\\\\OneDrive\\\\Documents\\\\summer project\\\\summer project - 3d\\\\week2\\\\new_data\\\\image\\\\000089_10_1.png'"
      ]
     },
     "metadata": {},
     "output_type": "display_data"
    },
    {
     "data": {
      "text/plain": [
       "'C:\\\\Users\\\\ashis\\\\OneDrive\\\\Documents\\\\summer project\\\\summer project - 3d\\\\week2\\\\new_data\\\\mask\\\\000089_10_1.png'"
      ]
     },
     "metadata": {},
     "output_type": "display_data"
    },
    {
     "data": {
      "text/plain": [
       "'C:\\\\Users\\\\ashis\\\\OneDrive\\\\Documents\\\\summer project\\\\summer project - 3d\\\\week2\\\\new_data\\\\image\\\\000089_10_2.png'"
      ]
     },
     "metadata": {},
     "output_type": "display_data"
    },
    {
     "data": {
      "text/plain": [
       "'C:\\\\Users\\\\ashis\\\\OneDrive\\\\Documents\\\\summer project\\\\summer project - 3d\\\\week2\\\\new_data\\\\mask\\\\000089_10_2.png'"
      ]
     },
     "metadata": {},
     "output_type": "display_data"
    },
    {
     "data": {
      "text/plain": [
       "'C:\\\\Users\\\\ashis\\\\OneDrive\\\\Documents\\\\summer project\\\\summer project - 3d\\\\week2\\\\new_data\\\\image\\\\000089_10_3.png'"
      ]
     },
     "metadata": {},
     "output_type": "display_data"
    },
    {
     "data": {
      "text/plain": [
       "'C:\\\\Users\\\\ashis\\\\OneDrive\\\\Documents\\\\summer project\\\\summer project - 3d\\\\week2\\\\new_data\\\\mask\\\\000089_10_3.png'"
      ]
     },
     "metadata": {},
     "output_type": "display_data"
    },
    {
     "data": {
      "text/plain": [
       "'C:\\\\Users\\\\ashis\\\\OneDrive\\\\Documents\\\\summer project\\\\summer project - 3d\\\\week2\\\\new_data\\\\image\\\\000089_10_4.png'"
      ]
     },
     "metadata": {},
     "output_type": "display_data"
    },
    {
     "data": {
      "text/plain": [
       "'C:\\\\Users\\\\ashis\\\\OneDrive\\\\Documents\\\\summer project\\\\summer project - 3d\\\\week2\\\\new_data\\\\mask\\\\000089_10_4.png'"
      ]
     },
     "metadata": {},
     "output_type": "display_data"
    },
    {
     "data": {
      "text/plain": [
       "'C:\\\\Users\\\\ashis\\\\OneDrive\\\\Documents\\\\summer project\\\\summer project - 3d\\\\week2\\\\new_data\\\\image\\\\000089_10_5.png'"
      ]
     },
     "metadata": {},
     "output_type": "display_data"
    },
    {
     "data": {
      "text/plain": [
       "'C:\\\\Users\\\\ashis\\\\OneDrive\\\\Documents\\\\summer project\\\\summer project - 3d\\\\week2\\\\new_data\\\\mask\\\\000089_10_5.png'"
      ]
     },
     "metadata": {},
     "output_type": "display_data"
    },
    {
     "name": "stderr",
     "output_type": "stream",
     "text": [
      "\r",
      " 45%|████████████████████████████████████▍                                            | 90/200 [00:25<00:30,  3.64it/s]"
     ]
    },
    {
     "data": {
      "text/plain": [
       "'C:\\\\Users\\\\ashis\\\\OneDrive\\\\Documents\\\\summer project\\\\summer project - 3d\\\\week2\\\\new_data\\\\image\\\\000090_10_0.png'"
      ]
     },
     "metadata": {},
     "output_type": "display_data"
    },
    {
     "data": {
      "text/plain": [
       "'C:\\\\Users\\\\ashis\\\\OneDrive\\\\Documents\\\\summer project\\\\summer project - 3d\\\\week2\\\\new_data\\\\mask\\\\000090_10_0.png'"
      ]
     },
     "metadata": {},
     "output_type": "display_data"
    },
    {
     "data": {
      "text/plain": [
       "'C:\\\\Users\\\\ashis\\\\OneDrive\\\\Documents\\\\summer project\\\\summer project - 3d\\\\week2\\\\new_data\\\\image\\\\000090_10_1.png'"
      ]
     },
     "metadata": {},
     "output_type": "display_data"
    },
    {
     "data": {
      "text/plain": [
       "'C:\\\\Users\\\\ashis\\\\OneDrive\\\\Documents\\\\summer project\\\\summer project - 3d\\\\week2\\\\new_data\\\\mask\\\\000090_10_1.png'"
      ]
     },
     "metadata": {},
     "output_type": "display_data"
    },
    {
     "data": {
      "text/plain": [
       "'C:\\\\Users\\\\ashis\\\\OneDrive\\\\Documents\\\\summer project\\\\summer project - 3d\\\\week2\\\\new_data\\\\image\\\\000090_10_2.png'"
      ]
     },
     "metadata": {},
     "output_type": "display_data"
    },
    {
     "data": {
      "text/plain": [
       "'C:\\\\Users\\\\ashis\\\\OneDrive\\\\Documents\\\\summer project\\\\summer project - 3d\\\\week2\\\\new_data\\\\mask\\\\000090_10_2.png'"
      ]
     },
     "metadata": {},
     "output_type": "display_data"
    },
    {
     "data": {
      "text/plain": [
       "'C:\\\\Users\\\\ashis\\\\OneDrive\\\\Documents\\\\summer project\\\\summer project - 3d\\\\week2\\\\new_data\\\\image\\\\000090_10_3.png'"
      ]
     },
     "metadata": {},
     "output_type": "display_data"
    },
    {
     "data": {
      "text/plain": [
       "'C:\\\\Users\\\\ashis\\\\OneDrive\\\\Documents\\\\summer project\\\\summer project - 3d\\\\week2\\\\new_data\\\\mask\\\\000090_10_3.png'"
      ]
     },
     "metadata": {},
     "output_type": "display_data"
    },
    {
     "data": {
      "text/plain": [
       "'C:\\\\Users\\\\ashis\\\\OneDrive\\\\Documents\\\\summer project\\\\summer project - 3d\\\\week2\\\\new_data\\\\image\\\\000090_10_4.png'"
      ]
     },
     "metadata": {},
     "output_type": "display_data"
    },
    {
     "data": {
      "text/plain": [
       "'C:\\\\Users\\\\ashis\\\\OneDrive\\\\Documents\\\\summer project\\\\summer project - 3d\\\\week2\\\\new_data\\\\mask\\\\000090_10_4.png'"
      ]
     },
     "metadata": {},
     "output_type": "display_data"
    },
    {
     "data": {
      "text/plain": [
       "'C:\\\\Users\\\\ashis\\\\OneDrive\\\\Documents\\\\summer project\\\\summer project - 3d\\\\week2\\\\new_data\\\\image\\\\000090_10_5.png'"
      ]
     },
     "metadata": {},
     "output_type": "display_data"
    },
    {
     "data": {
      "text/plain": [
       "'C:\\\\Users\\\\ashis\\\\OneDrive\\\\Documents\\\\summer project\\\\summer project - 3d\\\\week2\\\\new_data\\\\mask\\\\000090_10_5.png'"
      ]
     },
     "metadata": {},
     "output_type": "display_data"
    },
    {
     "name": "stderr",
     "output_type": "stream",
     "text": [
      "\r",
      " 46%|████████████████████████████████████▊                                            | 91/200 [00:26<00:29,  3.75it/s]"
     ]
    },
    {
     "data": {
      "text/plain": [
       "'C:\\\\Users\\\\ashis\\\\OneDrive\\\\Documents\\\\summer project\\\\summer project - 3d\\\\week2\\\\new_data\\\\image\\\\000091_10_0.png'"
      ]
     },
     "metadata": {},
     "output_type": "display_data"
    },
    {
     "data": {
      "text/plain": [
       "'C:\\\\Users\\\\ashis\\\\OneDrive\\\\Documents\\\\summer project\\\\summer project - 3d\\\\week2\\\\new_data\\\\mask\\\\000091_10_0.png'"
      ]
     },
     "metadata": {},
     "output_type": "display_data"
    },
    {
     "data": {
      "text/plain": [
       "'C:\\\\Users\\\\ashis\\\\OneDrive\\\\Documents\\\\summer project\\\\summer project - 3d\\\\week2\\\\new_data\\\\image\\\\000091_10_1.png'"
      ]
     },
     "metadata": {},
     "output_type": "display_data"
    },
    {
     "data": {
      "text/plain": [
       "'C:\\\\Users\\\\ashis\\\\OneDrive\\\\Documents\\\\summer project\\\\summer project - 3d\\\\week2\\\\new_data\\\\mask\\\\000091_10_1.png'"
      ]
     },
     "metadata": {},
     "output_type": "display_data"
    },
    {
     "data": {
      "text/plain": [
       "'C:\\\\Users\\\\ashis\\\\OneDrive\\\\Documents\\\\summer project\\\\summer project - 3d\\\\week2\\\\new_data\\\\image\\\\000091_10_2.png'"
      ]
     },
     "metadata": {},
     "output_type": "display_data"
    },
    {
     "data": {
      "text/plain": [
       "'C:\\\\Users\\\\ashis\\\\OneDrive\\\\Documents\\\\summer project\\\\summer project - 3d\\\\week2\\\\new_data\\\\mask\\\\000091_10_2.png'"
      ]
     },
     "metadata": {},
     "output_type": "display_data"
    },
    {
     "data": {
      "text/plain": [
       "'C:\\\\Users\\\\ashis\\\\OneDrive\\\\Documents\\\\summer project\\\\summer project - 3d\\\\week2\\\\new_data\\\\image\\\\000091_10_3.png'"
      ]
     },
     "metadata": {},
     "output_type": "display_data"
    },
    {
     "data": {
      "text/plain": [
       "'C:\\\\Users\\\\ashis\\\\OneDrive\\\\Documents\\\\summer project\\\\summer project - 3d\\\\week2\\\\new_data\\\\mask\\\\000091_10_3.png'"
      ]
     },
     "metadata": {},
     "output_type": "display_data"
    },
    {
     "data": {
      "text/plain": [
       "'C:\\\\Users\\\\ashis\\\\OneDrive\\\\Documents\\\\summer project\\\\summer project - 3d\\\\week2\\\\new_data\\\\image\\\\000091_10_4.png'"
      ]
     },
     "metadata": {},
     "output_type": "display_data"
    },
    {
     "data": {
      "text/plain": [
       "'C:\\\\Users\\\\ashis\\\\OneDrive\\\\Documents\\\\summer project\\\\summer project - 3d\\\\week2\\\\new_data\\\\mask\\\\000091_10_4.png'"
      ]
     },
     "metadata": {},
     "output_type": "display_data"
    },
    {
     "data": {
      "text/plain": [
       "'C:\\\\Users\\\\ashis\\\\OneDrive\\\\Documents\\\\summer project\\\\summer project - 3d\\\\week2\\\\new_data\\\\image\\\\000091_10_5.png'"
      ]
     },
     "metadata": {},
     "output_type": "display_data"
    },
    {
     "data": {
      "text/plain": [
       "'C:\\\\Users\\\\ashis\\\\OneDrive\\\\Documents\\\\summer project\\\\summer project - 3d\\\\week2\\\\new_data\\\\mask\\\\000091_10_5.png'"
      ]
     },
     "metadata": {},
     "output_type": "display_data"
    },
    {
     "name": "stderr",
     "output_type": "stream",
     "text": [
      "\r",
      " 46%|█████████████████████████████████████▎                                           | 92/200 [00:26<00:30,  3.58it/s]"
     ]
    },
    {
     "data": {
      "text/plain": [
       "'C:\\\\Users\\\\ashis\\\\OneDrive\\\\Documents\\\\summer project\\\\summer project - 3d\\\\week2\\\\new_data\\\\image\\\\000092_10_0.png'"
      ]
     },
     "metadata": {},
     "output_type": "display_data"
    },
    {
     "data": {
      "text/plain": [
       "'C:\\\\Users\\\\ashis\\\\OneDrive\\\\Documents\\\\summer project\\\\summer project - 3d\\\\week2\\\\new_data\\\\mask\\\\000092_10_0.png'"
      ]
     },
     "metadata": {},
     "output_type": "display_data"
    },
    {
     "data": {
      "text/plain": [
       "'C:\\\\Users\\\\ashis\\\\OneDrive\\\\Documents\\\\summer project\\\\summer project - 3d\\\\week2\\\\new_data\\\\image\\\\000092_10_1.png'"
      ]
     },
     "metadata": {},
     "output_type": "display_data"
    },
    {
     "data": {
      "text/plain": [
       "'C:\\\\Users\\\\ashis\\\\OneDrive\\\\Documents\\\\summer project\\\\summer project - 3d\\\\week2\\\\new_data\\\\mask\\\\000092_10_1.png'"
      ]
     },
     "metadata": {},
     "output_type": "display_data"
    },
    {
     "data": {
      "text/plain": [
       "'C:\\\\Users\\\\ashis\\\\OneDrive\\\\Documents\\\\summer project\\\\summer project - 3d\\\\week2\\\\new_data\\\\image\\\\000092_10_2.png'"
      ]
     },
     "metadata": {},
     "output_type": "display_data"
    },
    {
     "data": {
      "text/plain": [
       "'C:\\\\Users\\\\ashis\\\\OneDrive\\\\Documents\\\\summer project\\\\summer project - 3d\\\\week2\\\\new_data\\\\mask\\\\000092_10_2.png'"
      ]
     },
     "metadata": {},
     "output_type": "display_data"
    },
    {
     "data": {
      "text/plain": [
       "'C:\\\\Users\\\\ashis\\\\OneDrive\\\\Documents\\\\summer project\\\\summer project - 3d\\\\week2\\\\new_data\\\\image\\\\000092_10_3.png'"
      ]
     },
     "metadata": {},
     "output_type": "display_data"
    },
    {
     "data": {
      "text/plain": [
       "'C:\\\\Users\\\\ashis\\\\OneDrive\\\\Documents\\\\summer project\\\\summer project - 3d\\\\week2\\\\new_data\\\\mask\\\\000092_10_3.png'"
      ]
     },
     "metadata": {},
     "output_type": "display_data"
    },
    {
     "data": {
      "text/plain": [
       "'C:\\\\Users\\\\ashis\\\\OneDrive\\\\Documents\\\\summer project\\\\summer project - 3d\\\\week2\\\\new_data\\\\image\\\\000092_10_4.png'"
      ]
     },
     "metadata": {},
     "output_type": "display_data"
    },
    {
     "data": {
      "text/plain": [
       "'C:\\\\Users\\\\ashis\\\\OneDrive\\\\Documents\\\\summer project\\\\summer project - 3d\\\\week2\\\\new_data\\\\mask\\\\000092_10_4.png'"
      ]
     },
     "metadata": {},
     "output_type": "display_data"
    },
    {
     "data": {
      "text/plain": [
       "'C:\\\\Users\\\\ashis\\\\OneDrive\\\\Documents\\\\summer project\\\\summer project - 3d\\\\week2\\\\new_data\\\\image\\\\000092_10_5.png'"
      ]
     },
     "metadata": {},
     "output_type": "display_data"
    },
    {
     "data": {
      "text/plain": [
       "'C:\\\\Users\\\\ashis\\\\OneDrive\\\\Documents\\\\summer project\\\\summer project - 3d\\\\week2\\\\new_data\\\\mask\\\\000092_10_5.png'"
      ]
     },
     "metadata": {},
     "output_type": "display_data"
    },
    {
     "name": "stderr",
     "output_type": "stream",
     "text": [
      "\r",
      " 46%|█████████████████████████████████████▋                                           | 93/200 [00:26<00:29,  3.68it/s]"
     ]
    },
    {
     "data": {
      "text/plain": [
       "'C:\\\\Users\\\\ashis\\\\OneDrive\\\\Documents\\\\summer project\\\\summer project - 3d\\\\week2\\\\new_data\\\\image\\\\000093_10_0.png'"
      ]
     },
     "metadata": {},
     "output_type": "display_data"
    },
    {
     "data": {
      "text/plain": [
       "'C:\\\\Users\\\\ashis\\\\OneDrive\\\\Documents\\\\summer project\\\\summer project - 3d\\\\week2\\\\new_data\\\\mask\\\\000093_10_0.png'"
      ]
     },
     "metadata": {},
     "output_type": "display_data"
    },
    {
     "data": {
      "text/plain": [
       "'C:\\\\Users\\\\ashis\\\\OneDrive\\\\Documents\\\\summer project\\\\summer project - 3d\\\\week2\\\\new_data\\\\image\\\\000093_10_1.png'"
      ]
     },
     "metadata": {},
     "output_type": "display_data"
    },
    {
     "data": {
      "text/plain": [
       "'C:\\\\Users\\\\ashis\\\\OneDrive\\\\Documents\\\\summer project\\\\summer project - 3d\\\\week2\\\\new_data\\\\mask\\\\000093_10_1.png'"
      ]
     },
     "metadata": {},
     "output_type": "display_data"
    },
    {
     "data": {
      "text/plain": [
       "'C:\\\\Users\\\\ashis\\\\OneDrive\\\\Documents\\\\summer project\\\\summer project - 3d\\\\week2\\\\new_data\\\\image\\\\000093_10_2.png'"
      ]
     },
     "metadata": {},
     "output_type": "display_data"
    },
    {
     "data": {
      "text/plain": [
       "'C:\\\\Users\\\\ashis\\\\OneDrive\\\\Documents\\\\summer project\\\\summer project - 3d\\\\week2\\\\new_data\\\\mask\\\\000093_10_2.png'"
      ]
     },
     "metadata": {},
     "output_type": "display_data"
    },
    {
     "data": {
      "text/plain": [
       "'C:\\\\Users\\\\ashis\\\\OneDrive\\\\Documents\\\\summer project\\\\summer project - 3d\\\\week2\\\\new_data\\\\image\\\\000093_10_3.png'"
      ]
     },
     "metadata": {},
     "output_type": "display_data"
    },
    {
     "data": {
      "text/plain": [
       "'C:\\\\Users\\\\ashis\\\\OneDrive\\\\Documents\\\\summer project\\\\summer project - 3d\\\\week2\\\\new_data\\\\mask\\\\000093_10_3.png'"
      ]
     },
     "metadata": {},
     "output_type": "display_data"
    },
    {
     "data": {
      "text/plain": [
       "'C:\\\\Users\\\\ashis\\\\OneDrive\\\\Documents\\\\summer project\\\\summer project - 3d\\\\week2\\\\new_data\\\\image\\\\000093_10_4.png'"
      ]
     },
     "metadata": {},
     "output_type": "display_data"
    },
    {
     "data": {
      "text/plain": [
       "'C:\\\\Users\\\\ashis\\\\OneDrive\\\\Documents\\\\summer project\\\\summer project - 3d\\\\week2\\\\new_data\\\\mask\\\\000093_10_4.png'"
      ]
     },
     "metadata": {},
     "output_type": "display_data"
    },
    {
     "data": {
      "text/plain": [
       "'C:\\\\Users\\\\ashis\\\\OneDrive\\\\Documents\\\\summer project\\\\summer project - 3d\\\\week2\\\\new_data\\\\image\\\\000093_10_5.png'"
      ]
     },
     "metadata": {},
     "output_type": "display_data"
    },
    {
     "data": {
      "text/plain": [
       "'C:\\\\Users\\\\ashis\\\\OneDrive\\\\Documents\\\\summer project\\\\summer project - 3d\\\\week2\\\\new_data\\\\mask\\\\000093_10_5.png'"
      ]
     },
     "metadata": {},
     "output_type": "display_data"
    },
    {
     "name": "stderr",
     "output_type": "stream",
     "text": [
      "\r",
      " 47%|██████████████████████████████████████                                           | 94/200 [00:26<00:28,  3.70it/s]"
     ]
    },
    {
     "data": {
      "text/plain": [
       "'C:\\\\Users\\\\ashis\\\\OneDrive\\\\Documents\\\\summer project\\\\summer project - 3d\\\\week2\\\\new_data\\\\image\\\\000094_10_0.png'"
      ]
     },
     "metadata": {},
     "output_type": "display_data"
    },
    {
     "data": {
      "text/plain": [
       "'C:\\\\Users\\\\ashis\\\\OneDrive\\\\Documents\\\\summer project\\\\summer project - 3d\\\\week2\\\\new_data\\\\mask\\\\000094_10_0.png'"
      ]
     },
     "metadata": {},
     "output_type": "display_data"
    },
    {
     "data": {
      "text/plain": [
       "'C:\\\\Users\\\\ashis\\\\OneDrive\\\\Documents\\\\summer project\\\\summer project - 3d\\\\week2\\\\new_data\\\\image\\\\000094_10_1.png'"
      ]
     },
     "metadata": {},
     "output_type": "display_data"
    },
    {
     "data": {
      "text/plain": [
       "'C:\\\\Users\\\\ashis\\\\OneDrive\\\\Documents\\\\summer project\\\\summer project - 3d\\\\week2\\\\new_data\\\\mask\\\\000094_10_1.png'"
      ]
     },
     "metadata": {},
     "output_type": "display_data"
    },
    {
     "data": {
      "text/plain": [
       "'C:\\\\Users\\\\ashis\\\\OneDrive\\\\Documents\\\\summer project\\\\summer project - 3d\\\\week2\\\\new_data\\\\image\\\\000094_10_2.png'"
      ]
     },
     "metadata": {},
     "output_type": "display_data"
    },
    {
     "data": {
      "text/plain": [
       "'C:\\\\Users\\\\ashis\\\\OneDrive\\\\Documents\\\\summer project\\\\summer project - 3d\\\\week2\\\\new_data\\\\mask\\\\000094_10_2.png'"
      ]
     },
     "metadata": {},
     "output_type": "display_data"
    },
    {
     "data": {
      "text/plain": [
       "'C:\\\\Users\\\\ashis\\\\OneDrive\\\\Documents\\\\summer project\\\\summer project - 3d\\\\week2\\\\new_data\\\\image\\\\000094_10_3.png'"
      ]
     },
     "metadata": {},
     "output_type": "display_data"
    },
    {
     "data": {
      "text/plain": [
       "'C:\\\\Users\\\\ashis\\\\OneDrive\\\\Documents\\\\summer project\\\\summer project - 3d\\\\week2\\\\new_data\\\\mask\\\\000094_10_3.png'"
      ]
     },
     "metadata": {},
     "output_type": "display_data"
    },
    {
     "data": {
      "text/plain": [
       "'C:\\\\Users\\\\ashis\\\\OneDrive\\\\Documents\\\\summer project\\\\summer project - 3d\\\\week2\\\\new_data\\\\image\\\\000094_10_4.png'"
      ]
     },
     "metadata": {},
     "output_type": "display_data"
    },
    {
     "data": {
      "text/plain": [
       "'C:\\\\Users\\\\ashis\\\\OneDrive\\\\Documents\\\\summer project\\\\summer project - 3d\\\\week2\\\\new_data\\\\mask\\\\000094_10_4.png'"
      ]
     },
     "metadata": {},
     "output_type": "display_data"
    },
    {
     "data": {
      "text/plain": [
       "'C:\\\\Users\\\\ashis\\\\OneDrive\\\\Documents\\\\summer project\\\\summer project - 3d\\\\week2\\\\new_data\\\\image\\\\000094_10_5.png'"
      ]
     },
     "metadata": {},
     "output_type": "display_data"
    },
    {
     "data": {
      "text/plain": [
       "'C:\\\\Users\\\\ashis\\\\OneDrive\\\\Documents\\\\summer project\\\\summer project - 3d\\\\week2\\\\new_data\\\\mask\\\\000094_10_5.png'"
      ]
     },
     "metadata": {},
     "output_type": "display_data"
    },
    {
     "name": "stderr",
     "output_type": "stream",
     "text": [
      "\r",
      " 48%|██████████████████████████████████████▍                                          | 95/200 [00:27<00:28,  3.62it/s]"
     ]
    },
    {
     "data": {
      "text/plain": [
       "'C:\\\\Users\\\\ashis\\\\OneDrive\\\\Documents\\\\summer project\\\\summer project - 3d\\\\week2\\\\new_data\\\\image\\\\000095_10_0.png'"
      ]
     },
     "metadata": {},
     "output_type": "display_data"
    },
    {
     "data": {
      "text/plain": [
       "'C:\\\\Users\\\\ashis\\\\OneDrive\\\\Documents\\\\summer project\\\\summer project - 3d\\\\week2\\\\new_data\\\\mask\\\\000095_10_0.png'"
      ]
     },
     "metadata": {},
     "output_type": "display_data"
    },
    {
     "data": {
      "text/plain": [
       "'C:\\\\Users\\\\ashis\\\\OneDrive\\\\Documents\\\\summer project\\\\summer project - 3d\\\\week2\\\\new_data\\\\image\\\\000095_10_1.png'"
      ]
     },
     "metadata": {},
     "output_type": "display_data"
    },
    {
     "data": {
      "text/plain": [
       "'C:\\\\Users\\\\ashis\\\\OneDrive\\\\Documents\\\\summer project\\\\summer project - 3d\\\\week2\\\\new_data\\\\mask\\\\000095_10_1.png'"
      ]
     },
     "metadata": {},
     "output_type": "display_data"
    },
    {
     "data": {
      "text/plain": [
       "'C:\\\\Users\\\\ashis\\\\OneDrive\\\\Documents\\\\summer project\\\\summer project - 3d\\\\week2\\\\new_data\\\\image\\\\000095_10_2.png'"
      ]
     },
     "metadata": {},
     "output_type": "display_data"
    },
    {
     "data": {
      "text/plain": [
       "'C:\\\\Users\\\\ashis\\\\OneDrive\\\\Documents\\\\summer project\\\\summer project - 3d\\\\week2\\\\new_data\\\\mask\\\\000095_10_2.png'"
      ]
     },
     "metadata": {},
     "output_type": "display_data"
    },
    {
     "data": {
      "text/plain": [
       "'C:\\\\Users\\\\ashis\\\\OneDrive\\\\Documents\\\\summer project\\\\summer project - 3d\\\\week2\\\\new_data\\\\image\\\\000095_10_3.png'"
      ]
     },
     "metadata": {},
     "output_type": "display_data"
    },
    {
     "data": {
      "text/plain": [
       "'C:\\\\Users\\\\ashis\\\\OneDrive\\\\Documents\\\\summer project\\\\summer project - 3d\\\\week2\\\\new_data\\\\mask\\\\000095_10_3.png'"
      ]
     },
     "metadata": {},
     "output_type": "display_data"
    },
    {
     "data": {
      "text/plain": [
       "'C:\\\\Users\\\\ashis\\\\OneDrive\\\\Documents\\\\summer project\\\\summer project - 3d\\\\week2\\\\new_data\\\\image\\\\000095_10_4.png'"
      ]
     },
     "metadata": {},
     "output_type": "display_data"
    },
    {
     "data": {
      "text/plain": [
       "'C:\\\\Users\\\\ashis\\\\OneDrive\\\\Documents\\\\summer project\\\\summer project - 3d\\\\week2\\\\new_data\\\\mask\\\\000095_10_4.png'"
      ]
     },
     "metadata": {},
     "output_type": "display_data"
    },
    {
     "data": {
      "text/plain": [
       "'C:\\\\Users\\\\ashis\\\\OneDrive\\\\Documents\\\\summer project\\\\summer project - 3d\\\\week2\\\\new_data\\\\image\\\\000095_10_5.png'"
      ]
     },
     "metadata": {},
     "output_type": "display_data"
    },
    {
     "data": {
      "text/plain": [
       "'C:\\\\Users\\\\ashis\\\\OneDrive\\\\Documents\\\\summer project\\\\summer project - 3d\\\\week2\\\\new_data\\\\mask\\\\000095_10_5.png'"
      ]
     },
     "metadata": {},
     "output_type": "display_data"
    },
    {
     "name": "stderr",
     "output_type": "stream",
     "text": [
      "\r",
      " 48%|██████████████████████████████████████▉                                          | 96/200 [00:27<00:30,  3.45it/s]"
     ]
    },
    {
     "data": {
      "text/plain": [
       "'C:\\\\Users\\\\ashis\\\\OneDrive\\\\Documents\\\\summer project\\\\summer project - 3d\\\\week2\\\\new_data\\\\image\\\\000096_10_0.png'"
      ]
     },
     "metadata": {},
     "output_type": "display_data"
    },
    {
     "data": {
      "text/plain": [
       "'C:\\\\Users\\\\ashis\\\\OneDrive\\\\Documents\\\\summer project\\\\summer project - 3d\\\\week2\\\\new_data\\\\mask\\\\000096_10_0.png'"
      ]
     },
     "metadata": {},
     "output_type": "display_data"
    },
    {
     "data": {
      "text/plain": [
       "'C:\\\\Users\\\\ashis\\\\OneDrive\\\\Documents\\\\summer project\\\\summer project - 3d\\\\week2\\\\new_data\\\\image\\\\000096_10_1.png'"
      ]
     },
     "metadata": {},
     "output_type": "display_data"
    },
    {
     "data": {
      "text/plain": [
       "'C:\\\\Users\\\\ashis\\\\OneDrive\\\\Documents\\\\summer project\\\\summer project - 3d\\\\week2\\\\new_data\\\\mask\\\\000096_10_1.png'"
      ]
     },
     "metadata": {},
     "output_type": "display_data"
    },
    {
     "data": {
      "text/plain": [
       "'C:\\\\Users\\\\ashis\\\\OneDrive\\\\Documents\\\\summer project\\\\summer project - 3d\\\\week2\\\\new_data\\\\image\\\\000096_10_2.png'"
      ]
     },
     "metadata": {},
     "output_type": "display_data"
    },
    {
     "data": {
      "text/plain": [
       "'C:\\\\Users\\\\ashis\\\\OneDrive\\\\Documents\\\\summer project\\\\summer project - 3d\\\\week2\\\\new_data\\\\mask\\\\000096_10_2.png'"
      ]
     },
     "metadata": {},
     "output_type": "display_data"
    },
    {
     "data": {
      "text/plain": [
       "'C:\\\\Users\\\\ashis\\\\OneDrive\\\\Documents\\\\summer project\\\\summer project - 3d\\\\week2\\\\new_data\\\\image\\\\000096_10_3.png'"
      ]
     },
     "metadata": {},
     "output_type": "display_data"
    },
    {
     "data": {
      "text/plain": [
       "'C:\\\\Users\\\\ashis\\\\OneDrive\\\\Documents\\\\summer project\\\\summer project - 3d\\\\week2\\\\new_data\\\\mask\\\\000096_10_3.png'"
      ]
     },
     "metadata": {},
     "output_type": "display_data"
    },
    {
     "data": {
      "text/plain": [
       "'C:\\\\Users\\\\ashis\\\\OneDrive\\\\Documents\\\\summer project\\\\summer project - 3d\\\\week2\\\\new_data\\\\image\\\\000096_10_4.png'"
      ]
     },
     "metadata": {},
     "output_type": "display_data"
    },
    {
     "data": {
      "text/plain": [
       "'C:\\\\Users\\\\ashis\\\\OneDrive\\\\Documents\\\\summer project\\\\summer project - 3d\\\\week2\\\\new_data\\\\mask\\\\000096_10_4.png'"
      ]
     },
     "metadata": {},
     "output_type": "display_data"
    },
    {
     "data": {
      "text/plain": [
       "'C:\\\\Users\\\\ashis\\\\OneDrive\\\\Documents\\\\summer project\\\\summer project - 3d\\\\week2\\\\new_data\\\\image\\\\000096_10_5.png'"
      ]
     },
     "metadata": {},
     "output_type": "display_data"
    },
    {
     "data": {
      "text/plain": [
       "'C:\\\\Users\\\\ashis\\\\OneDrive\\\\Documents\\\\summer project\\\\summer project - 3d\\\\week2\\\\new_data\\\\mask\\\\000096_10_5.png'"
      ]
     },
     "metadata": {},
     "output_type": "display_data"
    },
    {
     "name": "stderr",
     "output_type": "stream",
     "text": [
      "\r",
      " 48%|███████████████████████████████████████▎                                         | 97/200 [00:27<00:29,  3.54it/s]"
     ]
    },
    {
     "data": {
      "text/plain": [
       "'C:\\\\Users\\\\ashis\\\\OneDrive\\\\Documents\\\\summer project\\\\summer project - 3d\\\\week2\\\\new_data\\\\image\\\\000097_10_0.png'"
      ]
     },
     "metadata": {},
     "output_type": "display_data"
    },
    {
     "data": {
      "text/plain": [
       "'C:\\\\Users\\\\ashis\\\\OneDrive\\\\Documents\\\\summer project\\\\summer project - 3d\\\\week2\\\\new_data\\\\mask\\\\000097_10_0.png'"
      ]
     },
     "metadata": {},
     "output_type": "display_data"
    },
    {
     "data": {
      "text/plain": [
       "'C:\\\\Users\\\\ashis\\\\OneDrive\\\\Documents\\\\summer project\\\\summer project - 3d\\\\week2\\\\new_data\\\\image\\\\000097_10_1.png'"
      ]
     },
     "metadata": {},
     "output_type": "display_data"
    },
    {
     "data": {
      "text/plain": [
       "'C:\\\\Users\\\\ashis\\\\OneDrive\\\\Documents\\\\summer project\\\\summer project - 3d\\\\week2\\\\new_data\\\\mask\\\\000097_10_1.png'"
      ]
     },
     "metadata": {},
     "output_type": "display_data"
    },
    {
     "data": {
      "text/plain": [
       "'C:\\\\Users\\\\ashis\\\\OneDrive\\\\Documents\\\\summer project\\\\summer project - 3d\\\\week2\\\\new_data\\\\image\\\\000097_10_2.png'"
      ]
     },
     "metadata": {},
     "output_type": "display_data"
    },
    {
     "data": {
      "text/plain": [
       "'C:\\\\Users\\\\ashis\\\\OneDrive\\\\Documents\\\\summer project\\\\summer project - 3d\\\\week2\\\\new_data\\\\mask\\\\000097_10_2.png'"
      ]
     },
     "metadata": {},
     "output_type": "display_data"
    },
    {
     "data": {
      "text/plain": [
       "'C:\\\\Users\\\\ashis\\\\OneDrive\\\\Documents\\\\summer project\\\\summer project - 3d\\\\week2\\\\new_data\\\\image\\\\000097_10_3.png'"
      ]
     },
     "metadata": {},
     "output_type": "display_data"
    },
    {
     "data": {
      "text/plain": [
       "'C:\\\\Users\\\\ashis\\\\OneDrive\\\\Documents\\\\summer project\\\\summer project - 3d\\\\week2\\\\new_data\\\\mask\\\\000097_10_3.png'"
      ]
     },
     "metadata": {},
     "output_type": "display_data"
    },
    {
     "data": {
      "text/plain": [
       "'C:\\\\Users\\\\ashis\\\\OneDrive\\\\Documents\\\\summer project\\\\summer project - 3d\\\\week2\\\\new_data\\\\image\\\\000097_10_4.png'"
      ]
     },
     "metadata": {},
     "output_type": "display_data"
    },
    {
     "data": {
      "text/plain": [
       "'C:\\\\Users\\\\ashis\\\\OneDrive\\\\Documents\\\\summer project\\\\summer project - 3d\\\\week2\\\\new_data\\\\mask\\\\000097_10_4.png'"
      ]
     },
     "metadata": {},
     "output_type": "display_data"
    },
    {
     "data": {
      "text/plain": [
       "'C:\\\\Users\\\\ashis\\\\OneDrive\\\\Documents\\\\summer project\\\\summer project - 3d\\\\week2\\\\new_data\\\\image\\\\000097_10_5.png'"
      ]
     },
     "metadata": {},
     "output_type": "display_data"
    },
    {
     "data": {
      "text/plain": [
       "'C:\\\\Users\\\\ashis\\\\OneDrive\\\\Documents\\\\summer project\\\\summer project - 3d\\\\week2\\\\new_data\\\\mask\\\\000097_10_5.png'"
      ]
     },
     "metadata": {},
     "output_type": "display_data"
    },
    {
     "name": "stderr",
     "output_type": "stream",
     "text": [
      "\r",
      " 49%|███████████████████████████████████████▋                                         | 98/200 [00:28<00:28,  3.63it/s]"
     ]
    },
    {
     "data": {
      "text/plain": [
       "'C:\\\\Users\\\\ashis\\\\OneDrive\\\\Documents\\\\summer project\\\\summer project - 3d\\\\week2\\\\new_data\\\\image\\\\000098_10_0.png'"
      ]
     },
     "metadata": {},
     "output_type": "display_data"
    },
    {
     "data": {
      "text/plain": [
       "'C:\\\\Users\\\\ashis\\\\OneDrive\\\\Documents\\\\summer project\\\\summer project - 3d\\\\week2\\\\new_data\\\\mask\\\\000098_10_0.png'"
      ]
     },
     "metadata": {},
     "output_type": "display_data"
    },
    {
     "data": {
      "text/plain": [
       "'C:\\\\Users\\\\ashis\\\\OneDrive\\\\Documents\\\\summer project\\\\summer project - 3d\\\\week2\\\\new_data\\\\image\\\\000098_10_1.png'"
      ]
     },
     "metadata": {},
     "output_type": "display_data"
    },
    {
     "data": {
      "text/plain": [
       "'C:\\\\Users\\\\ashis\\\\OneDrive\\\\Documents\\\\summer project\\\\summer project - 3d\\\\week2\\\\new_data\\\\mask\\\\000098_10_1.png'"
      ]
     },
     "metadata": {},
     "output_type": "display_data"
    },
    {
     "data": {
      "text/plain": [
       "'C:\\\\Users\\\\ashis\\\\OneDrive\\\\Documents\\\\summer project\\\\summer project - 3d\\\\week2\\\\new_data\\\\image\\\\000098_10_2.png'"
      ]
     },
     "metadata": {},
     "output_type": "display_data"
    },
    {
     "data": {
      "text/plain": [
       "'C:\\\\Users\\\\ashis\\\\OneDrive\\\\Documents\\\\summer project\\\\summer project - 3d\\\\week2\\\\new_data\\\\mask\\\\000098_10_2.png'"
      ]
     },
     "metadata": {},
     "output_type": "display_data"
    },
    {
     "data": {
      "text/plain": [
       "'C:\\\\Users\\\\ashis\\\\OneDrive\\\\Documents\\\\summer project\\\\summer project - 3d\\\\week2\\\\new_data\\\\image\\\\000098_10_3.png'"
      ]
     },
     "metadata": {},
     "output_type": "display_data"
    },
    {
     "data": {
      "text/plain": [
       "'C:\\\\Users\\\\ashis\\\\OneDrive\\\\Documents\\\\summer project\\\\summer project - 3d\\\\week2\\\\new_data\\\\mask\\\\000098_10_3.png'"
      ]
     },
     "metadata": {},
     "output_type": "display_data"
    },
    {
     "data": {
      "text/plain": [
       "'C:\\\\Users\\\\ashis\\\\OneDrive\\\\Documents\\\\summer project\\\\summer project - 3d\\\\week2\\\\new_data\\\\image\\\\000098_10_4.png'"
      ]
     },
     "metadata": {},
     "output_type": "display_data"
    },
    {
     "data": {
      "text/plain": [
       "'C:\\\\Users\\\\ashis\\\\OneDrive\\\\Documents\\\\summer project\\\\summer project - 3d\\\\week2\\\\new_data\\\\mask\\\\000098_10_4.png'"
      ]
     },
     "metadata": {},
     "output_type": "display_data"
    },
    {
     "data": {
      "text/plain": [
       "'C:\\\\Users\\\\ashis\\\\OneDrive\\\\Documents\\\\summer project\\\\summer project - 3d\\\\week2\\\\new_data\\\\image\\\\000098_10_5.png'"
      ]
     },
     "metadata": {},
     "output_type": "display_data"
    },
    {
     "data": {
      "text/plain": [
       "'C:\\\\Users\\\\ashis\\\\OneDrive\\\\Documents\\\\summer project\\\\summer project - 3d\\\\week2\\\\new_data\\\\mask\\\\000098_10_5.png'"
      ]
     },
     "metadata": {},
     "output_type": "display_data"
    },
    {
     "name": "stderr",
     "output_type": "stream",
     "text": [
      "\r",
      " 50%|████████████████████████████████████████                                         | 99/200 [00:28<00:28,  3.61it/s]"
     ]
    },
    {
     "data": {
      "text/plain": [
       "'C:\\\\Users\\\\ashis\\\\OneDrive\\\\Documents\\\\summer project\\\\summer project - 3d\\\\week2\\\\new_data\\\\image\\\\000099_10_0.png'"
      ]
     },
     "metadata": {},
     "output_type": "display_data"
    },
    {
     "data": {
      "text/plain": [
       "'C:\\\\Users\\\\ashis\\\\OneDrive\\\\Documents\\\\summer project\\\\summer project - 3d\\\\week2\\\\new_data\\\\mask\\\\000099_10_0.png'"
      ]
     },
     "metadata": {},
     "output_type": "display_data"
    },
    {
     "data": {
      "text/plain": [
       "'C:\\\\Users\\\\ashis\\\\OneDrive\\\\Documents\\\\summer project\\\\summer project - 3d\\\\week2\\\\new_data\\\\image\\\\000099_10_1.png'"
      ]
     },
     "metadata": {},
     "output_type": "display_data"
    },
    {
     "data": {
      "text/plain": [
       "'C:\\\\Users\\\\ashis\\\\OneDrive\\\\Documents\\\\summer project\\\\summer project - 3d\\\\week2\\\\new_data\\\\mask\\\\000099_10_1.png'"
      ]
     },
     "metadata": {},
     "output_type": "display_data"
    },
    {
     "data": {
      "text/plain": [
       "'C:\\\\Users\\\\ashis\\\\OneDrive\\\\Documents\\\\summer project\\\\summer project - 3d\\\\week2\\\\new_data\\\\image\\\\000099_10_2.png'"
      ]
     },
     "metadata": {},
     "output_type": "display_data"
    },
    {
     "data": {
      "text/plain": [
       "'C:\\\\Users\\\\ashis\\\\OneDrive\\\\Documents\\\\summer project\\\\summer project - 3d\\\\week2\\\\new_data\\\\mask\\\\000099_10_2.png'"
      ]
     },
     "metadata": {},
     "output_type": "display_data"
    },
    {
     "data": {
      "text/plain": [
       "'C:\\\\Users\\\\ashis\\\\OneDrive\\\\Documents\\\\summer project\\\\summer project - 3d\\\\week2\\\\new_data\\\\image\\\\000099_10_3.png'"
      ]
     },
     "metadata": {},
     "output_type": "display_data"
    },
    {
     "data": {
      "text/plain": [
       "'C:\\\\Users\\\\ashis\\\\OneDrive\\\\Documents\\\\summer project\\\\summer project - 3d\\\\week2\\\\new_data\\\\mask\\\\000099_10_3.png'"
      ]
     },
     "metadata": {},
     "output_type": "display_data"
    },
    {
     "data": {
      "text/plain": [
       "'C:\\\\Users\\\\ashis\\\\OneDrive\\\\Documents\\\\summer project\\\\summer project - 3d\\\\week2\\\\new_data\\\\image\\\\000099_10_4.png'"
      ]
     },
     "metadata": {},
     "output_type": "display_data"
    },
    {
     "data": {
      "text/plain": [
       "'C:\\\\Users\\\\ashis\\\\OneDrive\\\\Documents\\\\summer project\\\\summer project - 3d\\\\week2\\\\new_data\\\\mask\\\\000099_10_4.png'"
      ]
     },
     "metadata": {},
     "output_type": "display_data"
    },
    {
     "data": {
      "text/plain": [
       "'C:\\\\Users\\\\ashis\\\\OneDrive\\\\Documents\\\\summer project\\\\summer project - 3d\\\\week2\\\\new_data\\\\image\\\\000099_10_5.png'"
      ]
     },
     "metadata": {},
     "output_type": "display_data"
    },
    {
     "data": {
      "text/plain": [
       "'C:\\\\Users\\\\ashis\\\\OneDrive\\\\Documents\\\\summer project\\\\summer project - 3d\\\\week2\\\\new_data\\\\mask\\\\000099_10_5.png'"
      ]
     },
     "metadata": {},
     "output_type": "display_data"
    },
    {
     "name": "stderr",
     "output_type": "stream",
     "text": [
      "\r",
      " 50%|████████████████████████████████████████                                        | 100/200 [00:28<00:28,  3.56it/s]"
     ]
    },
    {
     "data": {
      "text/plain": [
       "'C:\\\\Users\\\\ashis\\\\OneDrive\\\\Documents\\\\summer project\\\\summer project - 3d\\\\week2\\\\new_data\\\\image\\\\000100_10_0.png'"
      ]
     },
     "metadata": {},
     "output_type": "display_data"
    },
    {
     "data": {
      "text/plain": [
       "'C:\\\\Users\\\\ashis\\\\OneDrive\\\\Documents\\\\summer project\\\\summer project - 3d\\\\week2\\\\new_data\\\\mask\\\\000100_10_0.png'"
      ]
     },
     "metadata": {},
     "output_type": "display_data"
    },
    {
     "data": {
      "text/plain": [
       "'C:\\\\Users\\\\ashis\\\\OneDrive\\\\Documents\\\\summer project\\\\summer project - 3d\\\\week2\\\\new_data\\\\image\\\\000100_10_1.png'"
      ]
     },
     "metadata": {},
     "output_type": "display_data"
    },
    {
     "data": {
      "text/plain": [
       "'C:\\\\Users\\\\ashis\\\\OneDrive\\\\Documents\\\\summer project\\\\summer project - 3d\\\\week2\\\\new_data\\\\mask\\\\000100_10_1.png'"
      ]
     },
     "metadata": {},
     "output_type": "display_data"
    },
    {
     "data": {
      "text/plain": [
       "'C:\\\\Users\\\\ashis\\\\OneDrive\\\\Documents\\\\summer project\\\\summer project - 3d\\\\week2\\\\new_data\\\\image\\\\000100_10_2.png'"
      ]
     },
     "metadata": {},
     "output_type": "display_data"
    },
    {
     "data": {
      "text/plain": [
       "'C:\\\\Users\\\\ashis\\\\OneDrive\\\\Documents\\\\summer project\\\\summer project - 3d\\\\week2\\\\new_data\\\\mask\\\\000100_10_2.png'"
      ]
     },
     "metadata": {},
     "output_type": "display_data"
    },
    {
     "data": {
      "text/plain": [
       "'C:\\\\Users\\\\ashis\\\\OneDrive\\\\Documents\\\\summer project\\\\summer project - 3d\\\\week2\\\\new_data\\\\image\\\\000100_10_3.png'"
      ]
     },
     "metadata": {},
     "output_type": "display_data"
    },
    {
     "data": {
      "text/plain": [
       "'C:\\\\Users\\\\ashis\\\\OneDrive\\\\Documents\\\\summer project\\\\summer project - 3d\\\\week2\\\\new_data\\\\mask\\\\000100_10_3.png'"
      ]
     },
     "metadata": {},
     "output_type": "display_data"
    },
    {
     "data": {
      "text/plain": [
       "'C:\\\\Users\\\\ashis\\\\OneDrive\\\\Documents\\\\summer project\\\\summer project - 3d\\\\week2\\\\new_data\\\\image\\\\000100_10_4.png'"
      ]
     },
     "metadata": {},
     "output_type": "display_data"
    },
    {
     "data": {
      "text/plain": [
       "'C:\\\\Users\\\\ashis\\\\OneDrive\\\\Documents\\\\summer project\\\\summer project - 3d\\\\week2\\\\new_data\\\\mask\\\\000100_10_4.png'"
      ]
     },
     "metadata": {},
     "output_type": "display_data"
    },
    {
     "data": {
      "text/plain": [
       "'C:\\\\Users\\\\ashis\\\\OneDrive\\\\Documents\\\\summer project\\\\summer project - 3d\\\\week2\\\\new_data\\\\image\\\\000100_10_5.png'"
      ]
     },
     "metadata": {},
     "output_type": "display_data"
    },
    {
     "data": {
      "text/plain": [
       "'C:\\\\Users\\\\ashis\\\\OneDrive\\\\Documents\\\\summer project\\\\summer project - 3d\\\\week2\\\\new_data\\\\mask\\\\000100_10_5.png'"
      ]
     },
     "metadata": {},
     "output_type": "display_data"
    },
    {
     "name": "stderr",
     "output_type": "stream",
     "text": [
      "\r",
      " 50%|████████████████████████████████████████▍                                       | 101/200 [00:28<00:27,  3.59it/s]"
     ]
    },
    {
     "data": {
      "text/plain": [
       "'C:\\\\Users\\\\ashis\\\\OneDrive\\\\Documents\\\\summer project\\\\summer project - 3d\\\\week2\\\\new_data\\\\image\\\\000101_10_0.png'"
      ]
     },
     "metadata": {},
     "output_type": "display_data"
    },
    {
     "data": {
      "text/plain": [
       "'C:\\\\Users\\\\ashis\\\\OneDrive\\\\Documents\\\\summer project\\\\summer project - 3d\\\\week2\\\\new_data\\\\mask\\\\000101_10_0.png'"
      ]
     },
     "metadata": {},
     "output_type": "display_data"
    },
    {
     "data": {
      "text/plain": [
       "'C:\\\\Users\\\\ashis\\\\OneDrive\\\\Documents\\\\summer project\\\\summer project - 3d\\\\week2\\\\new_data\\\\image\\\\000101_10_1.png'"
      ]
     },
     "metadata": {},
     "output_type": "display_data"
    },
    {
     "data": {
      "text/plain": [
       "'C:\\\\Users\\\\ashis\\\\OneDrive\\\\Documents\\\\summer project\\\\summer project - 3d\\\\week2\\\\new_data\\\\mask\\\\000101_10_1.png'"
      ]
     },
     "metadata": {},
     "output_type": "display_data"
    },
    {
     "data": {
      "text/plain": [
       "'C:\\\\Users\\\\ashis\\\\OneDrive\\\\Documents\\\\summer project\\\\summer project - 3d\\\\week2\\\\new_data\\\\image\\\\000101_10_2.png'"
      ]
     },
     "metadata": {},
     "output_type": "display_data"
    },
    {
     "data": {
      "text/plain": [
       "'C:\\\\Users\\\\ashis\\\\OneDrive\\\\Documents\\\\summer project\\\\summer project - 3d\\\\week2\\\\new_data\\\\mask\\\\000101_10_2.png'"
      ]
     },
     "metadata": {},
     "output_type": "display_data"
    },
    {
     "data": {
      "text/plain": [
       "'C:\\\\Users\\\\ashis\\\\OneDrive\\\\Documents\\\\summer project\\\\summer project - 3d\\\\week2\\\\new_data\\\\image\\\\000101_10_3.png'"
      ]
     },
     "metadata": {},
     "output_type": "display_data"
    },
    {
     "data": {
      "text/plain": [
       "'C:\\\\Users\\\\ashis\\\\OneDrive\\\\Documents\\\\summer project\\\\summer project - 3d\\\\week2\\\\new_data\\\\mask\\\\000101_10_3.png'"
      ]
     },
     "metadata": {},
     "output_type": "display_data"
    },
    {
     "data": {
      "text/plain": [
       "'C:\\\\Users\\\\ashis\\\\OneDrive\\\\Documents\\\\summer project\\\\summer project - 3d\\\\week2\\\\new_data\\\\image\\\\000101_10_4.png'"
      ]
     },
     "metadata": {},
     "output_type": "display_data"
    },
    {
     "data": {
      "text/plain": [
       "'C:\\\\Users\\\\ashis\\\\OneDrive\\\\Documents\\\\summer project\\\\summer project - 3d\\\\week2\\\\new_data\\\\mask\\\\000101_10_4.png'"
      ]
     },
     "metadata": {},
     "output_type": "display_data"
    },
    {
     "data": {
      "text/plain": [
       "'C:\\\\Users\\\\ashis\\\\OneDrive\\\\Documents\\\\summer project\\\\summer project - 3d\\\\week2\\\\new_data\\\\image\\\\000101_10_5.png'"
      ]
     },
     "metadata": {},
     "output_type": "display_data"
    },
    {
     "data": {
      "text/plain": [
       "'C:\\\\Users\\\\ashis\\\\OneDrive\\\\Documents\\\\summer project\\\\summer project - 3d\\\\week2\\\\new_data\\\\mask\\\\000101_10_5.png'"
      ]
     },
     "metadata": {},
     "output_type": "display_data"
    },
    {
     "name": "stderr",
     "output_type": "stream",
     "text": [
      "\r",
      " 51%|████████████████████████████████████████▊                                       | 102/200 [00:29<00:27,  3.62it/s]"
     ]
    },
    {
     "data": {
      "text/plain": [
       "'C:\\\\Users\\\\ashis\\\\OneDrive\\\\Documents\\\\summer project\\\\summer project - 3d\\\\week2\\\\new_data\\\\image\\\\000102_10_0.png'"
      ]
     },
     "metadata": {},
     "output_type": "display_data"
    },
    {
     "data": {
      "text/plain": [
       "'C:\\\\Users\\\\ashis\\\\OneDrive\\\\Documents\\\\summer project\\\\summer project - 3d\\\\week2\\\\new_data\\\\mask\\\\000102_10_0.png'"
      ]
     },
     "metadata": {},
     "output_type": "display_data"
    },
    {
     "data": {
      "text/plain": [
       "'C:\\\\Users\\\\ashis\\\\OneDrive\\\\Documents\\\\summer project\\\\summer project - 3d\\\\week2\\\\new_data\\\\image\\\\000102_10_1.png'"
      ]
     },
     "metadata": {},
     "output_type": "display_data"
    },
    {
     "data": {
      "text/plain": [
       "'C:\\\\Users\\\\ashis\\\\OneDrive\\\\Documents\\\\summer project\\\\summer project - 3d\\\\week2\\\\new_data\\\\mask\\\\000102_10_1.png'"
      ]
     },
     "metadata": {},
     "output_type": "display_data"
    },
    {
     "data": {
      "text/plain": [
       "'C:\\\\Users\\\\ashis\\\\OneDrive\\\\Documents\\\\summer project\\\\summer project - 3d\\\\week2\\\\new_data\\\\image\\\\000102_10_2.png'"
      ]
     },
     "metadata": {},
     "output_type": "display_data"
    },
    {
     "data": {
      "text/plain": [
       "'C:\\\\Users\\\\ashis\\\\OneDrive\\\\Documents\\\\summer project\\\\summer project - 3d\\\\week2\\\\new_data\\\\mask\\\\000102_10_2.png'"
      ]
     },
     "metadata": {},
     "output_type": "display_data"
    },
    {
     "data": {
      "text/plain": [
       "'C:\\\\Users\\\\ashis\\\\OneDrive\\\\Documents\\\\summer project\\\\summer project - 3d\\\\week2\\\\new_data\\\\image\\\\000102_10_3.png'"
      ]
     },
     "metadata": {},
     "output_type": "display_data"
    },
    {
     "data": {
      "text/plain": [
       "'C:\\\\Users\\\\ashis\\\\OneDrive\\\\Documents\\\\summer project\\\\summer project - 3d\\\\week2\\\\new_data\\\\mask\\\\000102_10_3.png'"
      ]
     },
     "metadata": {},
     "output_type": "display_data"
    },
    {
     "data": {
      "text/plain": [
       "'C:\\\\Users\\\\ashis\\\\OneDrive\\\\Documents\\\\summer project\\\\summer project - 3d\\\\week2\\\\new_data\\\\image\\\\000102_10_4.png'"
      ]
     },
     "metadata": {},
     "output_type": "display_data"
    },
    {
     "data": {
      "text/plain": [
       "'C:\\\\Users\\\\ashis\\\\OneDrive\\\\Documents\\\\summer project\\\\summer project - 3d\\\\week2\\\\new_data\\\\mask\\\\000102_10_4.png'"
      ]
     },
     "metadata": {},
     "output_type": "display_data"
    },
    {
     "data": {
      "text/plain": [
       "'C:\\\\Users\\\\ashis\\\\OneDrive\\\\Documents\\\\summer project\\\\summer project - 3d\\\\week2\\\\new_data\\\\image\\\\000102_10_5.png'"
      ]
     },
     "metadata": {},
     "output_type": "display_data"
    },
    {
     "data": {
      "text/plain": [
       "'C:\\\\Users\\\\ashis\\\\OneDrive\\\\Documents\\\\summer project\\\\summer project - 3d\\\\week2\\\\new_data\\\\mask\\\\000102_10_5.png'"
      ]
     },
     "metadata": {},
     "output_type": "display_data"
    },
    {
     "name": "stderr",
     "output_type": "stream",
     "text": [
      "\r",
      " 52%|█████████████████████████████████████████▏                                      | 103/200 [00:29<00:26,  3.65it/s]"
     ]
    },
    {
     "data": {
      "text/plain": [
       "'C:\\\\Users\\\\ashis\\\\OneDrive\\\\Documents\\\\summer project\\\\summer project - 3d\\\\week2\\\\new_data\\\\image\\\\000103_10_0.png'"
      ]
     },
     "metadata": {},
     "output_type": "display_data"
    },
    {
     "data": {
      "text/plain": [
       "'C:\\\\Users\\\\ashis\\\\OneDrive\\\\Documents\\\\summer project\\\\summer project - 3d\\\\week2\\\\new_data\\\\mask\\\\000103_10_0.png'"
      ]
     },
     "metadata": {},
     "output_type": "display_data"
    },
    {
     "data": {
      "text/plain": [
       "'C:\\\\Users\\\\ashis\\\\OneDrive\\\\Documents\\\\summer project\\\\summer project - 3d\\\\week2\\\\new_data\\\\image\\\\000103_10_1.png'"
      ]
     },
     "metadata": {},
     "output_type": "display_data"
    },
    {
     "data": {
      "text/plain": [
       "'C:\\\\Users\\\\ashis\\\\OneDrive\\\\Documents\\\\summer project\\\\summer project - 3d\\\\week2\\\\new_data\\\\mask\\\\000103_10_1.png'"
      ]
     },
     "metadata": {},
     "output_type": "display_data"
    },
    {
     "data": {
      "text/plain": [
       "'C:\\\\Users\\\\ashis\\\\OneDrive\\\\Documents\\\\summer project\\\\summer project - 3d\\\\week2\\\\new_data\\\\image\\\\000103_10_2.png'"
      ]
     },
     "metadata": {},
     "output_type": "display_data"
    },
    {
     "data": {
      "text/plain": [
       "'C:\\\\Users\\\\ashis\\\\OneDrive\\\\Documents\\\\summer project\\\\summer project - 3d\\\\week2\\\\new_data\\\\mask\\\\000103_10_2.png'"
      ]
     },
     "metadata": {},
     "output_type": "display_data"
    },
    {
     "data": {
      "text/plain": [
       "'C:\\\\Users\\\\ashis\\\\OneDrive\\\\Documents\\\\summer project\\\\summer project - 3d\\\\week2\\\\new_data\\\\image\\\\000103_10_3.png'"
      ]
     },
     "metadata": {},
     "output_type": "display_data"
    },
    {
     "data": {
      "text/plain": [
       "'C:\\\\Users\\\\ashis\\\\OneDrive\\\\Documents\\\\summer project\\\\summer project - 3d\\\\week2\\\\new_data\\\\mask\\\\000103_10_3.png'"
      ]
     },
     "metadata": {},
     "output_type": "display_data"
    },
    {
     "data": {
      "text/plain": [
       "'C:\\\\Users\\\\ashis\\\\OneDrive\\\\Documents\\\\summer project\\\\summer project - 3d\\\\week2\\\\new_data\\\\image\\\\000103_10_4.png'"
      ]
     },
     "metadata": {},
     "output_type": "display_data"
    },
    {
     "data": {
      "text/plain": [
       "'C:\\\\Users\\\\ashis\\\\OneDrive\\\\Documents\\\\summer project\\\\summer project - 3d\\\\week2\\\\new_data\\\\mask\\\\000103_10_4.png'"
      ]
     },
     "metadata": {},
     "output_type": "display_data"
    },
    {
     "data": {
      "text/plain": [
       "'C:\\\\Users\\\\ashis\\\\OneDrive\\\\Documents\\\\summer project\\\\summer project - 3d\\\\week2\\\\new_data\\\\image\\\\000103_10_5.png'"
      ]
     },
     "metadata": {},
     "output_type": "display_data"
    },
    {
     "data": {
      "text/plain": [
       "'C:\\\\Users\\\\ashis\\\\OneDrive\\\\Documents\\\\summer project\\\\summer project - 3d\\\\week2\\\\new_data\\\\mask\\\\000103_10_5.png'"
      ]
     },
     "metadata": {},
     "output_type": "display_data"
    },
    {
     "name": "stderr",
     "output_type": "stream",
     "text": [
      "\r",
      " 52%|█████████████████████████████████████████▌                                      | 104/200 [00:29<00:26,  3.67it/s]"
     ]
    },
    {
     "data": {
      "text/plain": [
       "'C:\\\\Users\\\\ashis\\\\OneDrive\\\\Documents\\\\summer project\\\\summer project - 3d\\\\week2\\\\new_data\\\\image\\\\000104_10_0.png'"
      ]
     },
     "metadata": {},
     "output_type": "display_data"
    },
    {
     "data": {
      "text/plain": [
       "'C:\\\\Users\\\\ashis\\\\OneDrive\\\\Documents\\\\summer project\\\\summer project - 3d\\\\week2\\\\new_data\\\\mask\\\\000104_10_0.png'"
      ]
     },
     "metadata": {},
     "output_type": "display_data"
    },
    {
     "data": {
      "text/plain": [
       "'C:\\\\Users\\\\ashis\\\\OneDrive\\\\Documents\\\\summer project\\\\summer project - 3d\\\\week2\\\\new_data\\\\image\\\\000104_10_1.png'"
      ]
     },
     "metadata": {},
     "output_type": "display_data"
    },
    {
     "data": {
      "text/plain": [
       "'C:\\\\Users\\\\ashis\\\\OneDrive\\\\Documents\\\\summer project\\\\summer project - 3d\\\\week2\\\\new_data\\\\mask\\\\000104_10_1.png'"
      ]
     },
     "metadata": {},
     "output_type": "display_data"
    },
    {
     "data": {
      "text/plain": [
       "'C:\\\\Users\\\\ashis\\\\OneDrive\\\\Documents\\\\summer project\\\\summer project - 3d\\\\week2\\\\new_data\\\\image\\\\000104_10_2.png'"
      ]
     },
     "metadata": {},
     "output_type": "display_data"
    },
    {
     "data": {
      "text/plain": [
       "'C:\\\\Users\\\\ashis\\\\OneDrive\\\\Documents\\\\summer project\\\\summer project - 3d\\\\week2\\\\new_data\\\\mask\\\\000104_10_2.png'"
      ]
     },
     "metadata": {},
     "output_type": "display_data"
    },
    {
     "data": {
      "text/plain": [
       "'C:\\\\Users\\\\ashis\\\\OneDrive\\\\Documents\\\\summer project\\\\summer project - 3d\\\\week2\\\\new_data\\\\image\\\\000104_10_3.png'"
      ]
     },
     "metadata": {},
     "output_type": "display_data"
    },
    {
     "data": {
      "text/plain": [
       "'C:\\\\Users\\\\ashis\\\\OneDrive\\\\Documents\\\\summer project\\\\summer project - 3d\\\\week2\\\\new_data\\\\mask\\\\000104_10_3.png'"
      ]
     },
     "metadata": {},
     "output_type": "display_data"
    },
    {
     "data": {
      "text/plain": [
       "'C:\\\\Users\\\\ashis\\\\OneDrive\\\\Documents\\\\summer project\\\\summer project - 3d\\\\week2\\\\new_data\\\\image\\\\000104_10_4.png'"
      ]
     },
     "metadata": {},
     "output_type": "display_data"
    },
    {
     "data": {
      "text/plain": [
       "'C:\\\\Users\\\\ashis\\\\OneDrive\\\\Documents\\\\summer project\\\\summer project - 3d\\\\week2\\\\new_data\\\\mask\\\\000104_10_4.png'"
      ]
     },
     "metadata": {},
     "output_type": "display_data"
    },
    {
     "data": {
      "text/plain": [
       "'C:\\\\Users\\\\ashis\\\\OneDrive\\\\Documents\\\\summer project\\\\summer project - 3d\\\\week2\\\\new_data\\\\image\\\\000104_10_5.png'"
      ]
     },
     "metadata": {},
     "output_type": "display_data"
    },
    {
     "data": {
      "text/plain": [
       "'C:\\\\Users\\\\ashis\\\\OneDrive\\\\Documents\\\\summer project\\\\summer project - 3d\\\\week2\\\\new_data\\\\mask\\\\000104_10_5.png'"
      ]
     },
     "metadata": {},
     "output_type": "display_data"
    },
    {
     "name": "stderr",
     "output_type": "stream",
     "text": [
      "\r",
      " 52%|██████████████████████████████████████████                                      | 105/200 [00:30<00:25,  3.68it/s]"
     ]
    },
    {
     "data": {
      "text/plain": [
       "'C:\\\\Users\\\\ashis\\\\OneDrive\\\\Documents\\\\summer project\\\\summer project - 3d\\\\week2\\\\new_data\\\\image\\\\000105_10_0.png'"
      ]
     },
     "metadata": {},
     "output_type": "display_data"
    },
    {
     "data": {
      "text/plain": [
       "'C:\\\\Users\\\\ashis\\\\OneDrive\\\\Documents\\\\summer project\\\\summer project - 3d\\\\week2\\\\new_data\\\\mask\\\\000105_10_0.png'"
      ]
     },
     "metadata": {},
     "output_type": "display_data"
    },
    {
     "data": {
      "text/plain": [
       "'C:\\\\Users\\\\ashis\\\\OneDrive\\\\Documents\\\\summer project\\\\summer project - 3d\\\\week2\\\\new_data\\\\image\\\\000105_10_1.png'"
      ]
     },
     "metadata": {},
     "output_type": "display_data"
    },
    {
     "data": {
      "text/plain": [
       "'C:\\\\Users\\\\ashis\\\\OneDrive\\\\Documents\\\\summer project\\\\summer project - 3d\\\\week2\\\\new_data\\\\mask\\\\000105_10_1.png'"
      ]
     },
     "metadata": {},
     "output_type": "display_data"
    },
    {
     "data": {
      "text/plain": [
       "'C:\\\\Users\\\\ashis\\\\OneDrive\\\\Documents\\\\summer project\\\\summer project - 3d\\\\week2\\\\new_data\\\\image\\\\000105_10_2.png'"
      ]
     },
     "metadata": {},
     "output_type": "display_data"
    },
    {
     "data": {
      "text/plain": [
       "'C:\\\\Users\\\\ashis\\\\OneDrive\\\\Documents\\\\summer project\\\\summer project - 3d\\\\week2\\\\new_data\\\\mask\\\\000105_10_2.png'"
      ]
     },
     "metadata": {},
     "output_type": "display_data"
    },
    {
     "data": {
      "text/plain": [
       "'C:\\\\Users\\\\ashis\\\\OneDrive\\\\Documents\\\\summer project\\\\summer project - 3d\\\\week2\\\\new_data\\\\image\\\\000105_10_3.png'"
      ]
     },
     "metadata": {},
     "output_type": "display_data"
    },
    {
     "data": {
      "text/plain": [
       "'C:\\\\Users\\\\ashis\\\\OneDrive\\\\Documents\\\\summer project\\\\summer project - 3d\\\\week2\\\\new_data\\\\mask\\\\000105_10_3.png'"
      ]
     },
     "metadata": {},
     "output_type": "display_data"
    },
    {
     "data": {
      "text/plain": [
       "'C:\\\\Users\\\\ashis\\\\OneDrive\\\\Documents\\\\summer project\\\\summer project - 3d\\\\week2\\\\new_data\\\\image\\\\000105_10_4.png'"
      ]
     },
     "metadata": {},
     "output_type": "display_data"
    },
    {
     "data": {
      "text/plain": [
       "'C:\\\\Users\\\\ashis\\\\OneDrive\\\\Documents\\\\summer project\\\\summer project - 3d\\\\week2\\\\new_data\\\\mask\\\\000105_10_4.png'"
      ]
     },
     "metadata": {},
     "output_type": "display_data"
    },
    {
     "data": {
      "text/plain": [
       "'C:\\\\Users\\\\ashis\\\\OneDrive\\\\Documents\\\\summer project\\\\summer project - 3d\\\\week2\\\\new_data\\\\image\\\\000105_10_5.png'"
      ]
     },
     "metadata": {},
     "output_type": "display_data"
    },
    {
     "data": {
      "text/plain": [
       "'C:\\\\Users\\\\ashis\\\\OneDrive\\\\Documents\\\\summer project\\\\summer project - 3d\\\\week2\\\\new_data\\\\mask\\\\000105_10_5.png'"
      ]
     },
     "metadata": {},
     "output_type": "display_data"
    },
    {
     "name": "stderr",
     "output_type": "stream",
     "text": [
      "\r",
      " 53%|██████████████████████████████████████████▍                                     | 106/200 [00:30<00:26,  3.60it/s]"
     ]
    },
    {
     "data": {
      "text/plain": [
       "'C:\\\\Users\\\\ashis\\\\OneDrive\\\\Documents\\\\summer project\\\\summer project - 3d\\\\week2\\\\new_data\\\\image\\\\000106_10_0.png'"
      ]
     },
     "metadata": {},
     "output_type": "display_data"
    },
    {
     "data": {
      "text/plain": [
       "'C:\\\\Users\\\\ashis\\\\OneDrive\\\\Documents\\\\summer project\\\\summer project - 3d\\\\week2\\\\new_data\\\\mask\\\\000106_10_0.png'"
      ]
     },
     "metadata": {},
     "output_type": "display_data"
    },
    {
     "data": {
      "text/plain": [
       "'C:\\\\Users\\\\ashis\\\\OneDrive\\\\Documents\\\\summer project\\\\summer project - 3d\\\\week2\\\\new_data\\\\image\\\\000106_10_1.png'"
      ]
     },
     "metadata": {},
     "output_type": "display_data"
    },
    {
     "data": {
      "text/plain": [
       "'C:\\\\Users\\\\ashis\\\\OneDrive\\\\Documents\\\\summer project\\\\summer project - 3d\\\\week2\\\\new_data\\\\mask\\\\000106_10_1.png'"
      ]
     },
     "metadata": {},
     "output_type": "display_data"
    },
    {
     "data": {
      "text/plain": [
       "'C:\\\\Users\\\\ashis\\\\OneDrive\\\\Documents\\\\summer project\\\\summer project - 3d\\\\week2\\\\new_data\\\\image\\\\000106_10_2.png'"
      ]
     },
     "metadata": {},
     "output_type": "display_data"
    },
    {
     "data": {
      "text/plain": [
       "'C:\\\\Users\\\\ashis\\\\OneDrive\\\\Documents\\\\summer project\\\\summer project - 3d\\\\week2\\\\new_data\\\\mask\\\\000106_10_2.png'"
      ]
     },
     "metadata": {},
     "output_type": "display_data"
    },
    {
     "data": {
      "text/plain": [
       "'C:\\\\Users\\\\ashis\\\\OneDrive\\\\Documents\\\\summer project\\\\summer project - 3d\\\\week2\\\\new_data\\\\image\\\\000106_10_3.png'"
      ]
     },
     "metadata": {},
     "output_type": "display_data"
    },
    {
     "data": {
      "text/plain": [
       "'C:\\\\Users\\\\ashis\\\\OneDrive\\\\Documents\\\\summer project\\\\summer project - 3d\\\\week2\\\\new_data\\\\mask\\\\000106_10_3.png'"
      ]
     },
     "metadata": {},
     "output_type": "display_data"
    },
    {
     "data": {
      "text/plain": [
       "'C:\\\\Users\\\\ashis\\\\OneDrive\\\\Documents\\\\summer project\\\\summer project - 3d\\\\week2\\\\new_data\\\\image\\\\000106_10_4.png'"
      ]
     },
     "metadata": {},
     "output_type": "display_data"
    },
    {
     "data": {
      "text/plain": [
       "'C:\\\\Users\\\\ashis\\\\OneDrive\\\\Documents\\\\summer project\\\\summer project - 3d\\\\week2\\\\new_data\\\\mask\\\\000106_10_4.png'"
      ]
     },
     "metadata": {},
     "output_type": "display_data"
    },
    {
     "data": {
      "text/plain": [
       "'C:\\\\Users\\\\ashis\\\\OneDrive\\\\Documents\\\\summer project\\\\summer project - 3d\\\\week2\\\\new_data\\\\image\\\\000106_10_5.png'"
      ]
     },
     "metadata": {},
     "output_type": "display_data"
    },
    {
     "data": {
      "text/plain": [
       "'C:\\\\Users\\\\ashis\\\\OneDrive\\\\Documents\\\\summer project\\\\summer project - 3d\\\\week2\\\\new_data\\\\mask\\\\000106_10_5.png'"
      ]
     },
     "metadata": {},
     "output_type": "display_data"
    },
    {
     "name": "stderr",
     "output_type": "stream",
     "text": [
      "\r",
      " 54%|██████████████████████████████████████████▊                                     | 107/200 [00:30<00:25,  3.63it/s]"
     ]
    },
    {
     "data": {
      "text/plain": [
       "'C:\\\\Users\\\\ashis\\\\OneDrive\\\\Documents\\\\summer project\\\\summer project - 3d\\\\week2\\\\new_data\\\\image\\\\000107_10_0.png'"
      ]
     },
     "metadata": {},
     "output_type": "display_data"
    },
    {
     "data": {
      "text/plain": [
       "'C:\\\\Users\\\\ashis\\\\OneDrive\\\\Documents\\\\summer project\\\\summer project - 3d\\\\week2\\\\new_data\\\\mask\\\\000107_10_0.png'"
      ]
     },
     "metadata": {},
     "output_type": "display_data"
    },
    {
     "data": {
      "text/plain": [
       "'C:\\\\Users\\\\ashis\\\\OneDrive\\\\Documents\\\\summer project\\\\summer project - 3d\\\\week2\\\\new_data\\\\image\\\\000107_10_1.png'"
      ]
     },
     "metadata": {},
     "output_type": "display_data"
    },
    {
     "data": {
      "text/plain": [
       "'C:\\\\Users\\\\ashis\\\\OneDrive\\\\Documents\\\\summer project\\\\summer project - 3d\\\\week2\\\\new_data\\\\mask\\\\000107_10_1.png'"
      ]
     },
     "metadata": {},
     "output_type": "display_data"
    },
    {
     "data": {
      "text/plain": [
       "'C:\\\\Users\\\\ashis\\\\OneDrive\\\\Documents\\\\summer project\\\\summer project - 3d\\\\week2\\\\new_data\\\\image\\\\000107_10_2.png'"
      ]
     },
     "metadata": {},
     "output_type": "display_data"
    },
    {
     "data": {
      "text/plain": [
       "'C:\\\\Users\\\\ashis\\\\OneDrive\\\\Documents\\\\summer project\\\\summer project - 3d\\\\week2\\\\new_data\\\\mask\\\\000107_10_2.png'"
      ]
     },
     "metadata": {},
     "output_type": "display_data"
    },
    {
     "data": {
      "text/plain": [
       "'C:\\\\Users\\\\ashis\\\\OneDrive\\\\Documents\\\\summer project\\\\summer project - 3d\\\\week2\\\\new_data\\\\image\\\\000107_10_3.png'"
      ]
     },
     "metadata": {},
     "output_type": "display_data"
    },
    {
     "data": {
      "text/plain": [
       "'C:\\\\Users\\\\ashis\\\\OneDrive\\\\Documents\\\\summer project\\\\summer project - 3d\\\\week2\\\\new_data\\\\mask\\\\000107_10_3.png'"
      ]
     },
     "metadata": {},
     "output_type": "display_data"
    },
    {
     "data": {
      "text/plain": [
       "'C:\\\\Users\\\\ashis\\\\OneDrive\\\\Documents\\\\summer project\\\\summer project - 3d\\\\week2\\\\new_data\\\\image\\\\000107_10_4.png'"
      ]
     },
     "metadata": {},
     "output_type": "display_data"
    },
    {
     "data": {
      "text/plain": [
       "'C:\\\\Users\\\\ashis\\\\OneDrive\\\\Documents\\\\summer project\\\\summer project - 3d\\\\week2\\\\new_data\\\\mask\\\\000107_10_4.png'"
      ]
     },
     "metadata": {},
     "output_type": "display_data"
    },
    {
     "data": {
      "text/plain": [
       "'C:\\\\Users\\\\ashis\\\\OneDrive\\\\Documents\\\\summer project\\\\summer project - 3d\\\\week2\\\\new_data\\\\image\\\\000107_10_5.png'"
      ]
     },
     "metadata": {},
     "output_type": "display_data"
    },
    {
     "data": {
      "text/plain": [
       "'C:\\\\Users\\\\ashis\\\\OneDrive\\\\Documents\\\\summer project\\\\summer project - 3d\\\\week2\\\\new_data\\\\mask\\\\000107_10_5.png'"
      ]
     },
     "metadata": {},
     "output_type": "display_data"
    },
    {
     "name": "stderr",
     "output_type": "stream",
     "text": [
      "\r",
      " 54%|███████████████████████████████████████████▏                                    | 108/200 [00:30<00:25,  3.61it/s]"
     ]
    },
    {
     "data": {
      "text/plain": [
       "'C:\\\\Users\\\\ashis\\\\OneDrive\\\\Documents\\\\summer project\\\\summer project - 3d\\\\week2\\\\new_data\\\\image\\\\000108_10_0.png'"
      ]
     },
     "metadata": {},
     "output_type": "display_data"
    },
    {
     "data": {
      "text/plain": [
       "'C:\\\\Users\\\\ashis\\\\OneDrive\\\\Documents\\\\summer project\\\\summer project - 3d\\\\week2\\\\new_data\\\\mask\\\\000108_10_0.png'"
      ]
     },
     "metadata": {},
     "output_type": "display_data"
    },
    {
     "data": {
      "text/plain": [
       "'C:\\\\Users\\\\ashis\\\\OneDrive\\\\Documents\\\\summer project\\\\summer project - 3d\\\\week2\\\\new_data\\\\image\\\\000108_10_1.png'"
      ]
     },
     "metadata": {},
     "output_type": "display_data"
    },
    {
     "data": {
      "text/plain": [
       "'C:\\\\Users\\\\ashis\\\\OneDrive\\\\Documents\\\\summer project\\\\summer project - 3d\\\\week2\\\\new_data\\\\mask\\\\000108_10_1.png'"
      ]
     },
     "metadata": {},
     "output_type": "display_data"
    },
    {
     "data": {
      "text/plain": [
       "'C:\\\\Users\\\\ashis\\\\OneDrive\\\\Documents\\\\summer project\\\\summer project - 3d\\\\week2\\\\new_data\\\\image\\\\000108_10_2.png'"
      ]
     },
     "metadata": {},
     "output_type": "display_data"
    },
    {
     "data": {
      "text/plain": [
       "'C:\\\\Users\\\\ashis\\\\OneDrive\\\\Documents\\\\summer project\\\\summer project - 3d\\\\week2\\\\new_data\\\\mask\\\\000108_10_2.png'"
      ]
     },
     "metadata": {},
     "output_type": "display_data"
    },
    {
     "data": {
      "text/plain": [
       "'C:\\\\Users\\\\ashis\\\\OneDrive\\\\Documents\\\\summer project\\\\summer project - 3d\\\\week2\\\\new_data\\\\image\\\\000108_10_3.png'"
      ]
     },
     "metadata": {},
     "output_type": "display_data"
    },
    {
     "data": {
      "text/plain": [
       "'C:\\\\Users\\\\ashis\\\\OneDrive\\\\Documents\\\\summer project\\\\summer project - 3d\\\\week2\\\\new_data\\\\mask\\\\000108_10_3.png'"
      ]
     },
     "metadata": {},
     "output_type": "display_data"
    },
    {
     "data": {
      "text/plain": [
       "'C:\\\\Users\\\\ashis\\\\OneDrive\\\\Documents\\\\summer project\\\\summer project - 3d\\\\week2\\\\new_data\\\\image\\\\000108_10_4.png'"
      ]
     },
     "metadata": {},
     "output_type": "display_data"
    },
    {
     "data": {
      "text/plain": [
       "'C:\\\\Users\\\\ashis\\\\OneDrive\\\\Documents\\\\summer project\\\\summer project - 3d\\\\week2\\\\new_data\\\\mask\\\\000108_10_4.png'"
      ]
     },
     "metadata": {},
     "output_type": "display_data"
    },
    {
     "data": {
      "text/plain": [
       "'C:\\\\Users\\\\ashis\\\\OneDrive\\\\Documents\\\\summer project\\\\summer project - 3d\\\\week2\\\\new_data\\\\image\\\\000108_10_5.png'"
      ]
     },
     "metadata": {},
     "output_type": "display_data"
    },
    {
     "data": {
      "text/plain": [
       "'C:\\\\Users\\\\ashis\\\\OneDrive\\\\Documents\\\\summer project\\\\summer project - 3d\\\\week2\\\\new_data\\\\mask\\\\000108_10_5.png'"
      ]
     },
     "metadata": {},
     "output_type": "display_data"
    },
    {
     "name": "stderr",
     "output_type": "stream",
     "text": [
      "\r",
      " 55%|███████████████████████████████████████████▌                                    | 109/200 [00:31<00:25,  3.51it/s]"
     ]
    },
    {
     "data": {
      "text/plain": [
       "'C:\\\\Users\\\\ashis\\\\OneDrive\\\\Documents\\\\summer project\\\\summer project - 3d\\\\week2\\\\new_data\\\\image\\\\000109_10_0.png'"
      ]
     },
     "metadata": {},
     "output_type": "display_data"
    },
    {
     "data": {
      "text/plain": [
       "'C:\\\\Users\\\\ashis\\\\OneDrive\\\\Documents\\\\summer project\\\\summer project - 3d\\\\week2\\\\new_data\\\\mask\\\\000109_10_0.png'"
      ]
     },
     "metadata": {},
     "output_type": "display_data"
    },
    {
     "data": {
      "text/plain": [
       "'C:\\\\Users\\\\ashis\\\\OneDrive\\\\Documents\\\\summer project\\\\summer project - 3d\\\\week2\\\\new_data\\\\image\\\\000109_10_1.png'"
      ]
     },
     "metadata": {},
     "output_type": "display_data"
    },
    {
     "data": {
      "text/plain": [
       "'C:\\\\Users\\\\ashis\\\\OneDrive\\\\Documents\\\\summer project\\\\summer project - 3d\\\\week2\\\\new_data\\\\mask\\\\000109_10_1.png'"
      ]
     },
     "metadata": {},
     "output_type": "display_data"
    },
    {
     "data": {
      "text/plain": [
       "'C:\\\\Users\\\\ashis\\\\OneDrive\\\\Documents\\\\summer project\\\\summer project - 3d\\\\week2\\\\new_data\\\\image\\\\000109_10_2.png'"
      ]
     },
     "metadata": {},
     "output_type": "display_data"
    },
    {
     "data": {
      "text/plain": [
       "'C:\\\\Users\\\\ashis\\\\OneDrive\\\\Documents\\\\summer project\\\\summer project - 3d\\\\week2\\\\new_data\\\\mask\\\\000109_10_2.png'"
      ]
     },
     "metadata": {},
     "output_type": "display_data"
    },
    {
     "data": {
      "text/plain": [
       "'C:\\\\Users\\\\ashis\\\\OneDrive\\\\Documents\\\\summer project\\\\summer project - 3d\\\\week2\\\\new_data\\\\image\\\\000109_10_3.png'"
      ]
     },
     "metadata": {},
     "output_type": "display_data"
    },
    {
     "data": {
      "text/plain": [
       "'C:\\\\Users\\\\ashis\\\\OneDrive\\\\Documents\\\\summer project\\\\summer project - 3d\\\\week2\\\\new_data\\\\mask\\\\000109_10_3.png'"
      ]
     },
     "metadata": {},
     "output_type": "display_data"
    },
    {
     "data": {
      "text/plain": [
       "'C:\\\\Users\\\\ashis\\\\OneDrive\\\\Documents\\\\summer project\\\\summer project - 3d\\\\week2\\\\new_data\\\\image\\\\000109_10_4.png'"
      ]
     },
     "metadata": {},
     "output_type": "display_data"
    },
    {
     "data": {
      "text/plain": [
       "'C:\\\\Users\\\\ashis\\\\OneDrive\\\\Documents\\\\summer project\\\\summer project - 3d\\\\week2\\\\new_data\\\\mask\\\\000109_10_4.png'"
      ]
     },
     "metadata": {},
     "output_type": "display_data"
    },
    {
     "data": {
      "text/plain": [
       "'C:\\\\Users\\\\ashis\\\\OneDrive\\\\Documents\\\\summer project\\\\summer project - 3d\\\\week2\\\\new_data\\\\image\\\\000109_10_5.png'"
      ]
     },
     "metadata": {},
     "output_type": "display_data"
    },
    {
     "data": {
      "text/plain": [
       "'C:\\\\Users\\\\ashis\\\\OneDrive\\\\Documents\\\\summer project\\\\summer project - 3d\\\\week2\\\\new_data\\\\mask\\\\000109_10_5.png'"
      ]
     },
     "metadata": {},
     "output_type": "display_data"
    },
    {
     "name": "stderr",
     "output_type": "stream",
     "text": [
      "\r",
      " 55%|████████████████████████████████████████████                                    | 110/200 [00:31<00:25,  3.58it/s]"
     ]
    },
    {
     "data": {
      "text/plain": [
       "'C:\\\\Users\\\\ashis\\\\OneDrive\\\\Documents\\\\summer project\\\\summer project - 3d\\\\week2\\\\new_data\\\\image\\\\000110_10_0.png'"
      ]
     },
     "metadata": {},
     "output_type": "display_data"
    },
    {
     "data": {
      "text/plain": [
       "'C:\\\\Users\\\\ashis\\\\OneDrive\\\\Documents\\\\summer project\\\\summer project - 3d\\\\week2\\\\new_data\\\\mask\\\\000110_10_0.png'"
      ]
     },
     "metadata": {},
     "output_type": "display_data"
    },
    {
     "data": {
      "text/plain": [
       "'C:\\\\Users\\\\ashis\\\\OneDrive\\\\Documents\\\\summer project\\\\summer project - 3d\\\\week2\\\\new_data\\\\image\\\\000110_10_1.png'"
      ]
     },
     "metadata": {},
     "output_type": "display_data"
    },
    {
     "data": {
      "text/plain": [
       "'C:\\\\Users\\\\ashis\\\\OneDrive\\\\Documents\\\\summer project\\\\summer project - 3d\\\\week2\\\\new_data\\\\mask\\\\000110_10_1.png'"
      ]
     },
     "metadata": {},
     "output_type": "display_data"
    },
    {
     "data": {
      "text/plain": [
       "'C:\\\\Users\\\\ashis\\\\OneDrive\\\\Documents\\\\summer project\\\\summer project - 3d\\\\week2\\\\new_data\\\\image\\\\000110_10_2.png'"
      ]
     },
     "metadata": {},
     "output_type": "display_data"
    },
    {
     "data": {
      "text/plain": [
       "'C:\\\\Users\\\\ashis\\\\OneDrive\\\\Documents\\\\summer project\\\\summer project - 3d\\\\week2\\\\new_data\\\\mask\\\\000110_10_2.png'"
      ]
     },
     "metadata": {},
     "output_type": "display_data"
    },
    {
     "data": {
      "text/plain": [
       "'C:\\\\Users\\\\ashis\\\\OneDrive\\\\Documents\\\\summer project\\\\summer project - 3d\\\\week2\\\\new_data\\\\image\\\\000110_10_3.png'"
      ]
     },
     "metadata": {},
     "output_type": "display_data"
    },
    {
     "data": {
      "text/plain": [
       "'C:\\\\Users\\\\ashis\\\\OneDrive\\\\Documents\\\\summer project\\\\summer project - 3d\\\\week2\\\\new_data\\\\mask\\\\000110_10_3.png'"
      ]
     },
     "metadata": {},
     "output_type": "display_data"
    },
    {
     "data": {
      "text/plain": [
       "'C:\\\\Users\\\\ashis\\\\OneDrive\\\\Documents\\\\summer project\\\\summer project - 3d\\\\week2\\\\new_data\\\\image\\\\000110_10_4.png'"
      ]
     },
     "metadata": {},
     "output_type": "display_data"
    },
    {
     "data": {
      "text/plain": [
       "'C:\\\\Users\\\\ashis\\\\OneDrive\\\\Documents\\\\summer project\\\\summer project - 3d\\\\week2\\\\new_data\\\\mask\\\\000110_10_4.png'"
      ]
     },
     "metadata": {},
     "output_type": "display_data"
    },
    {
     "data": {
      "text/plain": [
       "'C:\\\\Users\\\\ashis\\\\OneDrive\\\\Documents\\\\summer project\\\\summer project - 3d\\\\week2\\\\new_data\\\\image\\\\000110_10_5.png'"
      ]
     },
     "metadata": {},
     "output_type": "display_data"
    },
    {
     "data": {
      "text/plain": [
       "'C:\\\\Users\\\\ashis\\\\OneDrive\\\\Documents\\\\summer project\\\\summer project - 3d\\\\week2\\\\new_data\\\\mask\\\\000110_10_5.png'"
      ]
     },
     "metadata": {},
     "output_type": "display_data"
    },
    {
     "name": "stderr",
     "output_type": "stream",
     "text": [
      "\r",
      " 56%|████████████████████████████████████████████▍                                   | 111/200 [00:31<00:25,  3.51it/s]"
     ]
    },
    {
     "data": {
      "text/plain": [
       "'C:\\\\Users\\\\ashis\\\\OneDrive\\\\Documents\\\\summer project\\\\summer project - 3d\\\\week2\\\\new_data\\\\image\\\\000111_10_0.png'"
      ]
     },
     "metadata": {},
     "output_type": "display_data"
    },
    {
     "data": {
      "text/plain": [
       "'C:\\\\Users\\\\ashis\\\\OneDrive\\\\Documents\\\\summer project\\\\summer project - 3d\\\\week2\\\\new_data\\\\mask\\\\000111_10_0.png'"
      ]
     },
     "metadata": {},
     "output_type": "display_data"
    },
    {
     "data": {
      "text/plain": [
       "'C:\\\\Users\\\\ashis\\\\OneDrive\\\\Documents\\\\summer project\\\\summer project - 3d\\\\week2\\\\new_data\\\\image\\\\000111_10_1.png'"
      ]
     },
     "metadata": {},
     "output_type": "display_data"
    },
    {
     "data": {
      "text/plain": [
       "'C:\\\\Users\\\\ashis\\\\OneDrive\\\\Documents\\\\summer project\\\\summer project - 3d\\\\week2\\\\new_data\\\\mask\\\\000111_10_1.png'"
      ]
     },
     "metadata": {},
     "output_type": "display_data"
    },
    {
     "data": {
      "text/plain": [
       "'C:\\\\Users\\\\ashis\\\\OneDrive\\\\Documents\\\\summer project\\\\summer project - 3d\\\\week2\\\\new_data\\\\image\\\\000111_10_2.png'"
      ]
     },
     "metadata": {},
     "output_type": "display_data"
    },
    {
     "data": {
      "text/plain": [
       "'C:\\\\Users\\\\ashis\\\\OneDrive\\\\Documents\\\\summer project\\\\summer project - 3d\\\\week2\\\\new_data\\\\mask\\\\000111_10_2.png'"
      ]
     },
     "metadata": {},
     "output_type": "display_data"
    },
    {
     "data": {
      "text/plain": [
       "'C:\\\\Users\\\\ashis\\\\OneDrive\\\\Documents\\\\summer project\\\\summer project - 3d\\\\week2\\\\new_data\\\\image\\\\000111_10_3.png'"
      ]
     },
     "metadata": {},
     "output_type": "display_data"
    },
    {
     "data": {
      "text/plain": [
       "'C:\\\\Users\\\\ashis\\\\OneDrive\\\\Documents\\\\summer project\\\\summer project - 3d\\\\week2\\\\new_data\\\\mask\\\\000111_10_3.png'"
      ]
     },
     "metadata": {},
     "output_type": "display_data"
    },
    {
     "data": {
      "text/plain": [
       "'C:\\\\Users\\\\ashis\\\\OneDrive\\\\Documents\\\\summer project\\\\summer project - 3d\\\\week2\\\\new_data\\\\image\\\\000111_10_4.png'"
      ]
     },
     "metadata": {},
     "output_type": "display_data"
    },
    {
     "data": {
      "text/plain": [
       "'C:\\\\Users\\\\ashis\\\\OneDrive\\\\Documents\\\\summer project\\\\summer project - 3d\\\\week2\\\\new_data\\\\mask\\\\000111_10_4.png'"
      ]
     },
     "metadata": {},
     "output_type": "display_data"
    },
    {
     "data": {
      "text/plain": [
       "'C:\\\\Users\\\\ashis\\\\OneDrive\\\\Documents\\\\summer project\\\\summer project - 3d\\\\week2\\\\new_data\\\\image\\\\000111_10_5.png'"
      ]
     },
     "metadata": {},
     "output_type": "display_data"
    },
    {
     "data": {
      "text/plain": [
       "'C:\\\\Users\\\\ashis\\\\OneDrive\\\\Documents\\\\summer project\\\\summer project - 3d\\\\week2\\\\new_data\\\\mask\\\\000111_10_5.png'"
      ]
     },
     "metadata": {},
     "output_type": "display_data"
    },
    {
     "name": "stderr",
     "output_type": "stream",
     "text": [
      "\r",
      " 56%|████████████████████████████████████████████▊                                   | 112/200 [00:32<00:25,  3.42it/s]"
     ]
    },
    {
     "data": {
      "text/plain": [
       "'C:\\\\Users\\\\ashis\\\\OneDrive\\\\Documents\\\\summer project\\\\summer project - 3d\\\\week2\\\\new_data\\\\image\\\\000112_10_0.png'"
      ]
     },
     "metadata": {},
     "output_type": "display_data"
    },
    {
     "data": {
      "text/plain": [
       "'C:\\\\Users\\\\ashis\\\\OneDrive\\\\Documents\\\\summer project\\\\summer project - 3d\\\\week2\\\\new_data\\\\mask\\\\000112_10_0.png'"
      ]
     },
     "metadata": {},
     "output_type": "display_data"
    },
    {
     "data": {
      "text/plain": [
       "'C:\\\\Users\\\\ashis\\\\OneDrive\\\\Documents\\\\summer project\\\\summer project - 3d\\\\week2\\\\new_data\\\\image\\\\000112_10_1.png'"
      ]
     },
     "metadata": {},
     "output_type": "display_data"
    },
    {
     "data": {
      "text/plain": [
       "'C:\\\\Users\\\\ashis\\\\OneDrive\\\\Documents\\\\summer project\\\\summer project - 3d\\\\week2\\\\new_data\\\\mask\\\\000112_10_1.png'"
      ]
     },
     "metadata": {},
     "output_type": "display_data"
    },
    {
     "data": {
      "text/plain": [
       "'C:\\\\Users\\\\ashis\\\\OneDrive\\\\Documents\\\\summer project\\\\summer project - 3d\\\\week2\\\\new_data\\\\image\\\\000112_10_2.png'"
      ]
     },
     "metadata": {},
     "output_type": "display_data"
    },
    {
     "data": {
      "text/plain": [
       "'C:\\\\Users\\\\ashis\\\\OneDrive\\\\Documents\\\\summer project\\\\summer project - 3d\\\\week2\\\\new_data\\\\mask\\\\000112_10_2.png'"
      ]
     },
     "metadata": {},
     "output_type": "display_data"
    },
    {
     "data": {
      "text/plain": [
       "'C:\\\\Users\\\\ashis\\\\OneDrive\\\\Documents\\\\summer project\\\\summer project - 3d\\\\week2\\\\new_data\\\\image\\\\000112_10_3.png'"
      ]
     },
     "metadata": {},
     "output_type": "display_data"
    },
    {
     "data": {
      "text/plain": [
       "'C:\\\\Users\\\\ashis\\\\OneDrive\\\\Documents\\\\summer project\\\\summer project - 3d\\\\week2\\\\new_data\\\\mask\\\\000112_10_3.png'"
      ]
     },
     "metadata": {},
     "output_type": "display_data"
    },
    {
     "data": {
      "text/plain": [
       "'C:\\\\Users\\\\ashis\\\\OneDrive\\\\Documents\\\\summer project\\\\summer project - 3d\\\\week2\\\\new_data\\\\image\\\\000112_10_4.png'"
      ]
     },
     "metadata": {},
     "output_type": "display_data"
    },
    {
     "data": {
      "text/plain": [
       "'C:\\\\Users\\\\ashis\\\\OneDrive\\\\Documents\\\\summer project\\\\summer project - 3d\\\\week2\\\\new_data\\\\mask\\\\000112_10_4.png'"
      ]
     },
     "metadata": {},
     "output_type": "display_data"
    },
    {
     "data": {
      "text/plain": [
       "'C:\\\\Users\\\\ashis\\\\OneDrive\\\\Documents\\\\summer project\\\\summer project - 3d\\\\week2\\\\new_data\\\\image\\\\000112_10_5.png'"
      ]
     },
     "metadata": {},
     "output_type": "display_data"
    },
    {
     "data": {
      "text/plain": [
       "'C:\\\\Users\\\\ashis\\\\OneDrive\\\\Documents\\\\summer project\\\\summer project - 3d\\\\week2\\\\new_data\\\\mask\\\\000112_10_5.png'"
      ]
     },
     "metadata": {},
     "output_type": "display_data"
    },
    {
     "name": "stderr",
     "output_type": "stream",
     "text": [
      "\r",
      " 56%|█████████████████████████████████████████████▏                                  | 113/200 [00:32<00:24,  3.51it/s]"
     ]
    },
    {
     "data": {
      "text/plain": [
       "'C:\\\\Users\\\\ashis\\\\OneDrive\\\\Documents\\\\summer project\\\\summer project - 3d\\\\week2\\\\new_data\\\\image\\\\000113_10_0.png'"
      ]
     },
     "metadata": {},
     "output_type": "display_data"
    },
    {
     "data": {
      "text/plain": [
       "'C:\\\\Users\\\\ashis\\\\OneDrive\\\\Documents\\\\summer project\\\\summer project - 3d\\\\week2\\\\new_data\\\\mask\\\\000113_10_0.png'"
      ]
     },
     "metadata": {},
     "output_type": "display_data"
    },
    {
     "data": {
      "text/plain": [
       "'C:\\\\Users\\\\ashis\\\\OneDrive\\\\Documents\\\\summer project\\\\summer project - 3d\\\\week2\\\\new_data\\\\image\\\\000113_10_1.png'"
      ]
     },
     "metadata": {},
     "output_type": "display_data"
    },
    {
     "data": {
      "text/plain": [
       "'C:\\\\Users\\\\ashis\\\\OneDrive\\\\Documents\\\\summer project\\\\summer project - 3d\\\\week2\\\\new_data\\\\mask\\\\000113_10_1.png'"
      ]
     },
     "metadata": {},
     "output_type": "display_data"
    },
    {
     "data": {
      "text/plain": [
       "'C:\\\\Users\\\\ashis\\\\OneDrive\\\\Documents\\\\summer project\\\\summer project - 3d\\\\week2\\\\new_data\\\\image\\\\000113_10_2.png'"
      ]
     },
     "metadata": {},
     "output_type": "display_data"
    },
    {
     "data": {
      "text/plain": [
       "'C:\\\\Users\\\\ashis\\\\OneDrive\\\\Documents\\\\summer project\\\\summer project - 3d\\\\week2\\\\new_data\\\\mask\\\\000113_10_2.png'"
      ]
     },
     "metadata": {},
     "output_type": "display_data"
    },
    {
     "data": {
      "text/plain": [
       "'C:\\\\Users\\\\ashis\\\\OneDrive\\\\Documents\\\\summer project\\\\summer project - 3d\\\\week2\\\\new_data\\\\image\\\\000113_10_3.png'"
      ]
     },
     "metadata": {},
     "output_type": "display_data"
    },
    {
     "data": {
      "text/plain": [
       "'C:\\\\Users\\\\ashis\\\\OneDrive\\\\Documents\\\\summer project\\\\summer project - 3d\\\\week2\\\\new_data\\\\mask\\\\000113_10_3.png'"
      ]
     },
     "metadata": {},
     "output_type": "display_data"
    },
    {
     "data": {
      "text/plain": [
       "'C:\\\\Users\\\\ashis\\\\OneDrive\\\\Documents\\\\summer project\\\\summer project - 3d\\\\week2\\\\new_data\\\\image\\\\000113_10_4.png'"
      ]
     },
     "metadata": {},
     "output_type": "display_data"
    },
    {
     "data": {
      "text/plain": [
       "'C:\\\\Users\\\\ashis\\\\OneDrive\\\\Documents\\\\summer project\\\\summer project - 3d\\\\week2\\\\new_data\\\\mask\\\\000113_10_4.png'"
      ]
     },
     "metadata": {},
     "output_type": "display_data"
    },
    {
     "data": {
      "text/plain": [
       "'C:\\\\Users\\\\ashis\\\\OneDrive\\\\Documents\\\\summer project\\\\summer project - 3d\\\\week2\\\\new_data\\\\image\\\\000113_10_5.png'"
      ]
     },
     "metadata": {},
     "output_type": "display_data"
    },
    {
     "data": {
      "text/plain": [
       "'C:\\\\Users\\\\ashis\\\\OneDrive\\\\Documents\\\\summer project\\\\summer project - 3d\\\\week2\\\\new_data\\\\mask\\\\000113_10_5.png'"
      ]
     },
     "metadata": {},
     "output_type": "display_data"
    },
    {
     "name": "stderr",
     "output_type": "stream",
     "text": [
      "\r",
      " 57%|█████████████████████████████████████████████▌                                  | 114/200 [00:32<00:25,  3.43it/s]"
     ]
    },
    {
     "data": {
      "text/plain": [
       "'C:\\\\Users\\\\ashis\\\\OneDrive\\\\Documents\\\\summer project\\\\summer project - 3d\\\\week2\\\\new_data\\\\image\\\\000114_10_0.png'"
      ]
     },
     "metadata": {},
     "output_type": "display_data"
    },
    {
     "data": {
      "text/plain": [
       "'C:\\\\Users\\\\ashis\\\\OneDrive\\\\Documents\\\\summer project\\\\summer project - 3d\\\\week2\\\\new_data\\\\mask\\\\000114_10_0.png'"
      ]
     },
     "metadata": {},
     "output_type": "display_data"
    },
    {
     "data": {
      "text/plain": [
       "'C:\\\\Users\\\\ashis\\\\OneDrive\\\\Documents\\\\summer project\\\\summer project - 3d\\\\week2\\\\new_data\\\\image\\\\000114_10_1.png'"
      ]
     },
     "metadata": {},
     "output_type": "display_data"
    },
    {
     "data": {
      "text/plain": [
       "'C:\\\\Users\\\\ashis\\\\OneDrive\\\\Documents\\\\summer project\\\\summer project - 3d\\\\week2\\\\new_data\\\\mask\\\\000114_10_1.png'"
      ]
     },
     "metadata": {},
     "output_type": "display_data"
    },
    {
     "data": {
      "text/plain": [
       "'C:\\\\Users\\\\ashis\\\\OneDrive\\\\Documents\\\\summer project\\\\summer project - 3d\\\\week2\\\\new_data\\\\image\\\\000114_10_2.png'"
      ]
     },
     "metadata": {},
     "output_type": "display_data"
    },
    {
     "data": {
      "text/plain": [
       "'C:\\\\Users\\\\ashis\\\\OneDrive\\\\Documents\\\\summer project\\\\summer project - 3d\\\\week2\\\\new_data\\\\mask\\\\000114_10_2.png'"
      ]
     },
     "metadata": {},
     "output_type": "display_data"
    },
    {
     "data": {
      "text/plain": [
       "'C:\\\\Users\\\\ashis\\\\OneDrive\\\\Documents\\\\summer project\\\\summer project - 3d\\\\week2\\\\new_data\\\\image\\\\000114_10_3.png'"
      ]
     },
     "metadata": {},
     "output_type": "display_data"
    },
    {
     "data": {
      "text/plain": [
       "'C:\\\\Users\\\\ashis\\\\OneDrive\\\\Documents\\\\summer project\\\\summer project - 3d\\\\week2\\\\new_data\\\\mask\\\\000114_10_3.png'"
      ]
     },
     "metadata": {},
     "output_type": "display_data"
    },
    {
     "data": {
      "text/plain": [
       "'C:\\\\Users\\\\ashis\\\\OneDrive\\\\Documents\\\\summer project\\\\summer project - 3d\\\\week2\\\\new_data\\\\image\\\\000114_10_4.png'"
      ]
     },
     "metadata": {},
     "output_type": "display_data"
    },
    {
     "data": {
      "text/plain": [
       "'C:\\\\Users\\\\ashis\\\\OneDrive\\\\Documents\\\\summer project\\\\summer project - 3d\\\\week2\\\\new_data\\\\mask\\\\000114_10_4.png'"
      ]
     },
     "metadata": {},
     "output_type": "display_data"
    },
    {
     "data": {
      "text/plain": [
       "'C:\\\\Users\\\\ashis\\\\OneDrive\\\\Documents\\\\summer project\\\\summer project - 3d\\\\week2\\\\new_data\\\\image\\\\000114_10_5.png'"
      ]
     },
     "metadata": {},
     "output_type": "display_data"
    },
    {
     "data": {
      "text/plain": [
       "'C:\\\\Users\\\\ashis\\\\OneDrive\\\\Documents\\\\summer project\\\\summer project - 3d\\\\week2\\\\new_data\\\\mask\\\\000114_10_5.png'"
      ]
     },
     "metadata": {},
     "output_type": "display_data"
    },
    {
     "name": "stderr",
     "output_type": "stream",
     "text": [
      "\r",
      " 57%|██████████████████████████████████████████████                                  | 115/200 [00:32<00:24,  3.52it/s]"
     ]
    },
    {
     "data": {
      "text/plain": [
       "'C:\\\\Users\\\\ashis\\\\OneDrive\\\\Documents\\\\summer project\\\\summer project - 3d\\\\week2\\\\new_data\\\\image\\\\000115_10_0.png'"
      ]
     },
     "metadata": {},
     "output_type": "display_data"
    },
    {
     "data": {
      "text/plain": [
       "'C:\\\\Users\\\\ashis\\\\OneDrive\\\\Documents\\\\summer project\\\\summer project - 3d\\\\week2\\\\new_data\\\\mask\\\\000115_10_0.png'"
      ]
     },
     "metadata": {},
     "output_type": "display_data"
    },
    {
     "data": {
      "text/plain": [
       "'C:\\\\Users\\\\ashis\\\\OneDrive\\\\Documents\\\\summer project\\\\summer project - 3d\\\\week2\\\\new_data\\\\image\\\\000115_10_1.png'"
      ]
     },
     "metadata": {},
     "output_type": "display_data"
    },
    {
     "data": {
      "text/plain": [
       "'C:\\\\Users\\\\ashis\\\\OneDrive\\\\Documents\\\\summer project\\\\summer project - 3d\\\\week2\\\\new_data\\\\mask\\\\000115_10_1.png'"
      ]
     },
     "metadata": {},
     "output_type": "display_data"
    },
    {
     "data": {
      "text/plain": [
       "'C:\\\\Users\\\\ashis\\\\OneDrive\\\\Documents\\\\summer project\\\\summer project - 3d\\\\week2\\\\new_data\\\\image\\\\000115_10_2.png'"
      ]
     },
     "metadata": {},
     "output_type": "display_data"
    },
    {
     "data": {
      "text/plain": [
       "'C:\\\\Users\\\\ashis\\\\OneDrive\\\\Documents\\\\summer project\\\\summer project - 3d\\\\week2\\\\new_data\\\\mask\\\\000115_10_2.png'"
      ]
     },
     "metadata": {},
     "output_type": "display_data"
    },
    {
     "data": {
      "text/plain": [
       "'C:\\\\Users\\\\ashis\\\\OneDrive\\\\Documents\\\\summer project\\\\summer project - 3d\\\\week2\\\\new_data\\\\image\\\\000115_10_3.png'"
      ]
     },
     "metadata": {},
     "output_type": "display_data"
    },
    {
     "data": {
      "text/plain": [
       "'C:\\\\Users\\\\ashis\\\\OneDrive\\\\Documents\\\\summer project\\\\summer project - 3d\\\\week2\\\\new_data\\\\mask\\\\000115_10_3.png'"
      ]
     },
     "metadata": {},
     "output_type": "display_data"
    },
    {
     "data": {
      "text/plain": [
       "'C:\\\\Users\\\\ashis\\\\OneDrive\\\\Documents\\\\summer project\\\\summer project - 3d\\\\week2\\\\new_data\\\\image\\\\000115_10_4.png'"
      ]
     },
     "metadata": {},
     "output_type": "display_data"
    },
    {
     "data": {
      "text/plain": [
       "'C:\\\\Users\\\\ashis\\\\OneDrive\\\\Documents\\\\summer project\\\\summer project - 3d\\\\week2\\\\new_data\\\\mask\\\\000115_10_4.png'"
      ]
     },
     "metadata": {},
     "output_type": "display_data"
    },
    {
     "data": {
      "text/plain": [
       "'C:\\\\Users\\\\ashis\\\\OneDrive\\\\Documents\\\\summer project\\\\summer project - 3d\\\\week2\\\\new_data\\\\image\\\\000115_10_5.png'"
      ]
     },
     "metadata": {},
     "output_type": "display_data"
    },
    {
     "data": {
      "text/plain": [
       "'C:\\\\Users\\\\ashis\\\\OneDrive\\\\Documents\\\\summer project\\\\summer project - 3d\\\\week2\\\\new_data\\\\mask\\\\000115_10_5.png'"
      ]
     },
     "metadata": {},
     "output_type": "display_data"
    },
    {
     "name": "stderr",
     "output_type": "stream",
     "text": [
      "\r",
      " 58%|██████████████████████████████████████████████▍                                 | 116/200 [00:33<00:24,  3.39it/s]"
     ]
    },
    {
     "data": {
      "text/plain": [
       "'C:\\\\Users\\\\ashis\\\\OneDrive\\\\Documents\\\\summer project\\\\summer project - 3d\\\\week2\\\\new_data\\\\image\\\\000116_10_0.png'"
      ]
     },
     "metadata": {},
     "output_type": "display_data"
    },
    {
     "data": {
      "text/plain": [
       "'C:\\\\Users\\\\ashis\\\\OneDrive\\\\Documents\\\\summer project\\\\summer project - 3d\\\\week2\\\\new_data\\\\mask\\\\000116_10_0.png'"
      ]
     },
     "metadata": {},
     "output_type": "display_data"
    },
    {
     "data": {
      "text/plain": [
       "'C:\\\\Users\\\\ashis\\\\OneDrive\\\\Documents\\\\summer project\\\\summer project - 3d\\\\week2\\\\new_data\\\\image\\\\000116_10_1.png'"
      ]
     },
     "metadata": {},
     "output_type": "display_data"
    },
    {
     "data": {
      "text/plain": [
       "'C:\\\\Users\\\\ashis\\\\OneDrive\\\\Documents\\\\summer project\\\\summer project - 3d\\\\week2\\\\new_data\\\\mask\\\\000116_10_1.png'"
      ]
     },
     "metadata": {},
     "output_type": "display_data"
    },
    {
     "data": {
      "text/plain": [
       "'C:\\\\Users\\\\ashis\\\\OneDrive\\\\Documents\\\\summer project\\\\summer project - 3d\\\\week2\\\\new_data\\\\image\\\\000116_10_2.png'"
      ]
     },
     "metadata": {},
     "output_type": "display_data"
    },
    {
     "data": {
      "text/plain": [
       "'C:\\\\Users\\\\ashis\\\\OneDrive\\\\Documents\\\\summer project\\\\summer project - 3d\\\\week2\\\\new_data\\\\mask\\\\000116_10_2.png'"
      ]
     },
     "metadata": {},
     "output_type": "display_data"
    },
    {
     "data": {
      "text/plain": [
       "'C:\\\\Users\\\\ashis\\\\OneDrive\\\\Documents\\\\summer project\\\\summer project - 3d\\\\week2\\\\new_data\\\\image\\\\000116_10_3.png'"
      ]
     },
     "metadata": {},
     "output_type": "display_data"
    },
    {
     "data": {
      "text/plain": [
       "'C:\\\\Users\\\\ashis\\\\OneDrive\\\\Documents\\\\summer project\\\\summer project - 3d\\\\week2\\\\new_data\\\\mask\\\\000116_10_3.png'"
      ]
     },
     "metadata": {},
     "output_type": "display_data"
    },
    {
     "data": {
      "text/plain": [
       "'C:\\\\Users\\\\ashis\\\\OneDrive\\\\Documents\\\\summer project\\\\summer project - 3d\\\\week2\\\\new_data\\\\image\\\\000116_10_4.png'"
      ]
     },
     "metadata": {},
     "output_type": "display_data"
    },
    {
     "data": {
      "text/plain": [
       "'C:\\\\Users\\\\ashis\\\\OneDrive\\\\Documents\\\\summer project\\\\summer project - 3d\\\\week2\\\\new_data\\\\mask\\\\000116_10_4.png'"
      ]
     },
     "metadata": {},
     "output_type": "display_data"
    },
    {
     "data": {
      "text/plain": [
       "'C:\\\\Users\\\\ashis\\\\OneDrive\\\\Documents\\\\summer project\\\\summer project - 3d\\\\week2\\\\new_data\\\\image\\\\000116_10_5.png'"
      ]
     },
     "metadata": {},
     "output_type": "display_data"
    },
    {
     "data": {
      "text/plain": [
       "'C:\\\\Users\\\\ashis\\\\OneDrive\\\\Documents\\\\summer project\\\\summer project - 3d\\\\week2\\\\new_data\\\\mask\\\\000116_10_5.png'"
      ]
     },
     "metadata": {},
     "output_type": "display_data"
    },
    {
     "name": "stderr",
     "output_type": "stream",
     "text": [
      "\r",
      " 58%|██████████████████████████████████████████████▊                                 | 117/200 [00:33<00:23,  3.47it/s]"
     ]
    },
    {
     "data": {
      "text/plain": [
       "'C:\\\\Users\\\\ashis\\\\OneDrive\\\\Documents\\\\summer project\\\\summer project - 3d\\\\week2\\\\new_data\\\\image\\\\000117_10_0.png'"
      ]
     },
     "metadata": {},
     "output_type": "display_data"
    },
    {
     "data": {
      "text/plain": [
       "'C:\\\\Users\\\\ashis\\\\OneDrive\\\\Documents\\\\summer project\\\\summer project - 3d\\\\week2\\\\new_data\\\\mask\\\\000117_10_0.png'"
      ]
     },
     "metadata": {},
     "output_type": "display_data"
    },
    {
     "data": {
      "text/plain": [
       "'C:\\\\Users\\\\ashis\\\\OneDrive\\\\Documents\\\\summer project\\\\summer project - 3d\\\\week2\\\\new_data\\\\image\\\\000117_10_1.png'"
      ]
     },
     "metadata": {},
     "output_type": "display_data"
    },
    {
     "data": {
      "text/plain": [
       "'C:\\\\Users\\\\ashis\\\\OneDrive\\\\Documents\\\\summer project\\\\summer project - 3d\\\\week2\\\\new_data\\\\mask\\\\000117_10_1.png'"
      ]
     },
     "metadata": {},
     "output_type": "display_data"
    },
    {
     "data": {
      "text/plain": [
       "'C:\\\\Users\\\\ashis\\\\OneDrive\\\\Documents\\\\summer project\\\\summer project - 3d\\\\week2\\\\new_data\\\\image\\\\000117_10_2.png'"
      ]
     },
     "metadata": {},
     "output_type": "display_data"
    },
    {
     "data": {
      "text/plain": [
       "'C:\\\\Users\\\\ashis\\\\OneDrive\\\\Documents\\\\summer project\\\\summer project - 3d\\\\week2\\\\new_data\\\\mask\\\\000117_10_2.png'"
      ]
     },
     "metadata": {},
     "output_type": "display_data"
    },
    {
     "data": {
      "text/plain": [
       "'C:\\\\Users\\\\ashis\\\\OneDrive\\\\Documents\\\\summer project\\\\summer project - 3d\\\\week2\\\\new_data\\\\image\\\\000117_10_3.png'"
      ]
     },
     "metadata": {},
     "output_type": "display_data"
    },
    {
     "data": {
      "text/plain": [
       "'C:\\\\Users\\\\ashis\\\\OneDrive\\\\Documents\\\\summer project\\\\summer project - 3d\\\\week2\\\\new_data\\\\mask\\\\000117_10_3.png'"
      ]
     },
     "metadata": {},
     "output_type": "display_data"
    },
    {
     "data": {
      "text/plain": [
       "'C:\\\\Users\\\\ashis\\\\OneDrive\\\\Documents\\\\summer project\\\\summer project - 3d\\\\week2\\\\new_data\\\\image\\\\000117_10_4.png'"
      ]
     },
     "metadata": {},
     "output_type": "display_data"
    },
    {
     "data": {
      "text/plain": [
       "'C:\\\\Users\\\\ashis\\\\OneDrive\\\\Documents\\\\summer project\\\\summer project - 3d\\\\week2\\\\new_data\\\\mask\\\\000117_10_4.png'"
      ]
     },
     "metadata": {},
     "output_type": "display_data"
    },
    {
     "data": {
      "text/plain": [
       "'C:\\\\Users\\\\ashis\\\\OneDrive\\\\Documents\\\\summer project\\\\summer project - 3d\\\\week2\\\\new_data\\\\image\\\\000117_10_5.png'"
      ]
     },
     "metadata": {},
     "output_type": "display_data"
    },
    {
     "data": {
      "text/plain": [
       "'C:\\\\Users\\\\ashis\\\\OneDrive\\\\Documents\\\\summer project\\\\summer project - 3d\\\\week2\\\\new_data\\\\mask\\\\000117_10_5.png'"
      ]
     },
     "metadata": {},
     "output_type": "display_data"
    },
    {
     "name": "stderr",
     "output_type": "stream",
     "text": [
      "\r",
      " 59%|███████████████████████████████████████████████▏                                | 118/200 [00:33<00:22,  3.59it/s]"
     ]
    },
    {
     "data": {
      "text/plain": [
       "'C:\\\\Users\\\\ashis\\\\OneDrive\\\\Documents\\\\summer project\\\\summer project - 3d\\\\week2\\\\new_data\\\\image\\\\000118_10_0.png'"
      ]
     },
     "metadata": {},
     "output_type": "display_data"
    },
    {
     "data": {
      "text/plain": [
       "'C:\\\\Users\\\\ashis\\\\OneDrive\\\\Documents\\\\summer project\\\\summer project - 3d\\\\week2\\\\new_data\\\\mask\\\\000118_10_0.png'"
      ]
     },
     "metadata": {},
     "output_type": "display_data"
    },
    {
     "data": {
      "text/plain": [
       "'C:\\\\Users\\\\ashis\\\\OneDrive\\\\Documents\\\\summer project\\\\summer project - 3d\\\\week2\\\\new_data\\\\image\\\\000118_10_1.png'"
      ]
     },
     "metadata": {},
     "output_type": "display_data"
    },
    {
     "data": {
      "text/plain": [
       "'C:\\\\Users\\\\ashis\\\\OneDrive\\\\Documents\\\\summer project\\\\summer project - 3d\\\\week2\\\\new_data\\\\mask\\\\000118_10_1.png'"
      ]
     },
     "metadata": {},
     "output_type": "display_data"
    },
    {
     "data": {
      "text/plain": [
       "'C:\\\\Users\\\\ashis\\\\OneDrive\\\\Documents\\\\summer project\\\\summer project - 3d\\\\week2\\\\new_data\\\\image\\\\000118_10_2.png'"
      ]
     },
     "metadata": {},
     "output_type": "display_data"
    },
    {
     "data": {
      "text/plain": [
       "'C:\\\\Users\\\\ashis\\\\OneDrive\\\\Documents\\\\summer project\\\\summer project - 3d\\\\week2\\\\new_data\\\\mask\\\\000118_10_2.png'"
      ]
     },
     "metadata": {},
     "output_type": "display_data"
    },
    {
     "data": {
      "text/plain": [
       "'C:\\\\Users\\\\ashis\\\\OneDrive\\\\Documents\\\\summer project\\\\summer project - 3d\\\\week2\\\\new_data\\\\image\\\\000118_10_3.png'"
      ]
     },
     "metadata": {},
     "output_type": "display_data"
    },
    {
     "data": {
      "text/plain": [
       "'C:\\\\Users\\\\ashis\\\\OneDrive\\\\Documents\\\\summer project\\\\summer project - 3d\\\\week2\\\\new_data\\\\mask\\\\000118_10_3.png'"
      ]
     },
     "metadata": {},
     "output_type": "display_data"
    },
    {
     "data": {
      "text/plain": [
       "'C:\\\\Users\\\\ashis\\\\OneDrive\\\\Documents\\\\summer project\\\\summer project - 3d\\\\week2\\\\new_data\\\\image\\\\000118_10_4.png'"
      ]
     },
     "metadata": {},
     "output_type": "display_data"
    },
    {
     "data": {
      "text/plain": [
       "'C:\\\\Users\\\\ashis\\\\OneDrive\\\\Documents\\\\summer project\\\\summer project - 3d\\\\week2\\\\new_data\\\\mask\\\\000118_10_4.png'"
      ]
     },
     "metadata": {},
     "output_type": "display_data"
    },
    {
     "data": {
      "text/plain": [
       "'C:\\\\Users\\\\ashis\\\\OneDrive\\\\Documents\\\\summer project\\\\summer project - 3d\\\\week2\\\\new_data\\\\image\\\\000118_10_5.png'"
      ]
     },
     "metadata": {},
     "output_type": "display_data"
    },
    {
     "data": {
      "text/plain": [
       "'C:\\\\Users\\\\ashis\\\\OneDrive\\\\Documents\\\\summer project\\\\summer project - 3d\\\\week2\\\\new_data\\\\mask\\\\000118_10_5.png'"
      ]
     },
     "metadata": {},
     "output_type": "display_data"
    },
    {
     "name": "stderr",
     "output_type": "stream",
     "text": [
      "\r",
      " 60%|███████████████████████████████████████████████▌                                | 119/200 [00:33<00:22,  3.62it/s]"
     ]
    },
    {
     "data": {
      "text/plain": [
       "'C:\\\\Users\\\\ashis\\\\OneDrive\\\\Documents\\\\summer project\\\\summer project - 3d\\\\week2\\\\new_data\\\\image\\\\000119_10_0.png'"
      ]
     },
     "metadata": {},
     "output_type": "display_data"
    },
    {
     "data": {
      "text/plain": [
       "'C:\\\\Users\\\\ashis\\\\OneDrive\\\\Documents\\\\summer project\\\\summer project - 3d\\\\week2\\\\new_data\\\\mask\\\\000119_10_0.png'"
      ]
     },
     "metadata": {},
     "output_type": "display_data"
    },
    {
     "data": {
      "text/plain": [
       "'C:\\\\Users\\\\ashis\\\\OneDrive\\\\Documents\\\\summer project\\\\summer project - 3d\\\\week2\\\\new_data\\\\image\\\\000119_10_1.png'"
      ]
     },
     "metadata": {},
     "output_type": "display_data"
    },
    {
     "data": {
      "text/plain": [
       "'C:\\\\Users\\\\ashis\\\\OneDrive\\\\Documents\\\\summer project\\\\summer project - 3d\\\\week2\\\\new_data\\\\mask\\\\000119_10_1.png'"
      ]
     },
     "metadata": {},
     "output_type": "display_data"
    },
    {
     "data": {
      "text/plain": [
       "'C:\\\\Users\\\\ashis\\\\OneDrive\\\\Documents\\\\summer project\\\\summer project - 3d\\\\week2\\\\new_data\\\\image\\\\000119_10_2.png'"
      ]
     },
     "metadata": {},
     "output_type": "display_data"
    },
    {
     "data": {
      "text/plain": [
       "'C:\\\\Users\\\\ashis\\\\OneDrive\\\\Documents\\\\summer project\\\\summer project - 3d\\\\week2\\\\new_data\\\\mask\\\\000119_10_2.png'"
      ]
     },
     "metadata": {},
     "output_type": "display_data"
    },
    {
     "data": {
      "text/plain": [
       "'C:\\\\Users\\\\ashis\\\\OneDrive\\\\Documents\\\\summer project\\\\summer project - 3d\\\\week2\\\\new_data\\\\image\\\\000119_10_3.png'"
      ]
     },
     "metadata": {},
     "output_type": "display_data"
    },
    {
     "data": {
      "text/plain": [
       "'C:\\\\Users\\\\ashis\\\\OneDrive\\\\Documents\\\\summer project\\\\summer project - 3d\\\\week2\\\\new_data\\\\mask\\\\000119_10_3.png'"
      ]
     },
     "metadata": {},
     "output_type": "display_data"
    },
    {
     "data": {
      "text/plain": [
       "'C:\\\\Users\\\\ashis\\\\OneDrive\\\\Documents\\\\summer project\\\\summer project - 3d\\\\week2\\\\new_data\\\\image\\\\000119_10_4.png'"
      ]
     },
     "metadata": {},
     "output_type": "display_data"
    },
    {
     "data": {
      "text/plain": [
       "'C:\\\\Users\\\\ashis\\\\OneDrive\\\\Documents\\\\summer project\\\\summer project - 3d\\\\week2\\\\new_data\\\\mask\\\\000119_10_4.png'"
      ]
     },
     "metadata": {},
     "output_type": "display_data"
    },
    {
     "data": {
      "text/plain": [
       "'C:\\\\Users\\\\ashis\\\\OneDrive\\\\Documents\\\\summer project\\\\summer project - 3d\\\\week2\\\\new_data\\\\image\\\\000119_10_5.png'"
      ]
     },
     "metadata": {},
     "output_type": "display_data"
    },
    {
     "data": {
      "text/plain": [
       "'C:\\\\Users\\\\ashis\\\\OneDrive\\\\Documents\\\\summer project\\\\summer project - 3d\\\\week2\\\\new_data\\\\mask\\\\000119_10_5.png'"
      ]
     },
     "metadata": {},
     "output_type": "display_data"
    },
    {
     "name": "stderr",
     "output_type": "stream",
     "text": [
      "\r",
      " 60%|████████████████████████████████████████████████                                | 120/200 [00:34<00:23,  3.36it/s]"
     ]
    },
    {
     "data": {
      "text/plain": [
       "'C:\\\\Users\\\\ashis\\\\OneDrive\\\\Documents\\\\summer project\\\\summer project - 3d\\\\week2\\\\new_data\\\\image\\\\000120_10_0.png'"
      ]
     },
     "metadata": {},
     "output_type": "display_data"
    },
    {
     "data": {
      "text/plain": [
       "'C:\\\\Users\\\\ashis\\\\OneDrive\\\\Documents\\\\summer project\\\\summer project - 3d\\\\week2\\\\new_data\\\\mask\\\\000120_10_0.png'"
      ]
     },
     "metadata": {},
     "output_type": "display_data"
    },
    {
     "data": {
      "text/plain": [
       "'C:\\\\Users\\\\ashis\\\\OneDrive\\\\Documents\\\\summer project\\\\summer project - 3d\\\\week2\\\\new_data\\\\image\\\\000120_10_1.png'"
      ]
     },
     "metadata": {},
     "output_type": "display_data"
    },
    {
     "data": {
      "text/plain": [
       "'C:\\\\Users\\\\ashis\\\\OneDrive\\\\Documents\\\\summer project\\\\summer project - 3d\\\\week2\\\\new_data\\\\mask\\\\000120_10_1.png'"
      ]
     },
     "metadata": {},
     "output_type": "display_data"
    },
    {
     "data": {
      "text/plain": [
       "'C:\\\\Users\\\\ashis\\\\OneDrive\\\\Documents\\\\summer project\\\\summer project - 3d\\\\week2\\\\new_data\\\\image\\\\000120_10_2.png'"
      ]
     },
     "metadata": {},
     "output_type": "display_data"
    },
    {
     "data": {
      "text/plain": [
       "'C:\\\\Users\\\\ashis\\\\OneDrive\\\\Documents\\\\summer project\\\\summer project - 3d\\\\week2\\\\new_data\\\\mask\\\\000120_10_2.png'"
      ]
     },
     "metadata": {},
     "output_type": "display_data"
    },
    {
     "data": {
      "text/plain": [
       "'C:\\\\Users\\\\ashis\\\\OneDrive\\\\Documents\\\\summer project\\\\summer project - 3d\\\\week2\\\\new_data\\\\image\\\\000120_10_3.png'"
      ]
     },
     "metadata": {},
     "output_type": "display_data"
    },
    {
     "data": {
      "text/plain": [
       "'C:\\\\Users\\\\ashis\\\\OneDrive\\\\Documents\\\\summer project\\\\summer project - 3d\\\\week2\\\\new_data\\\\mask\\\\000120_10_3.png'"
      ]
     },
     "metadata": {},
     "output_type": "display_data"
    },
    {
     "data": {
      "text/plain": [
       "'C:\\\\Users\\\\ashis\\\\OneDrive\\\\Documents\\\\summer project\\\\summer project - 3d\\\\week2\\\\new_data\\\\image\\\\000120_10_4.png'"
      ]
     },
     "metadata": {},
     "output_type": "display_data"
    },
    {
     "data": {
      "text/plain": [
       "'C:\\\\Users\\\\ashis\\\\OneDrive\\\\Documents\\\\summer project\\\\summer project - 3d\\\\week2\\\\new_data\\\\mask\\\\000120_10_4.png'"
      ]
     },
     "metadata": {},
     "output_type": "display_data"
    },
    {
     "data": {
      "text/plain": [
       "'C:\\\\Users\\\\ashis\\\\OneDrive\\\\Documents\\\\summer project\\\\summer project - 3d\\\\week2\\\\new_data\\\\image\\\\000120_10_5.png'"
      ]
     },
     "metadata": {},
     "output_type": "display_data"
    },
    {
     "data": {
      "text/plain": [
       "'C:\\\\Users\\\\ashis\\\\OneDrive\\\\Documents\\\\summer project\\\\summer project - 3d\\\\week2\\\\new_data\\\\mask\\\\000120_10_5.png'"
      ]
     },
     "metadata": {},
     "output_type": "display_data"
    },
    {
     "name": "stderr",
     "output_type": "stream",
     "text": [
      "\r",
      " 60%|████████████████████████████████████████████████▍                               | 121/200 [00:34<00:23,  3.40it/s]"
     ]
    },
    {
     "data": {
      "text/plain": [
       "'C:\\\\Users\\\\ashis\\\\OneDrive\\\\Documents\\\\summer project\\\\summer project - 3d\\\\week2\\\\new_data\\\\image\\\\000121_10_0.png'"
      ]
     },
     "metadata": {},
     "output_type": "display_data"
    },
    {
     "data": {
      "text/plain": [
       "'C:\\\\Users\\\\ashis\\\\OneDrive\\\\Documents\\\\summer project\\\\summer project - 3d\\\\week2\\\\new_data\\\\mask\\\\000121_10_0.png'"
      ]
     },
     "metadata": {},
     "output_type": "display_data"
    },
    {
     "data": {
      "text/plain": [
       "'C:\\\\Users\\\\ashis\\\\OneDrive\\\\Documents\\\\summer project\\\\summer project - 3d\\\\week2\\\\new_data\\\\image\\\\000121_10_1.png'"
      ]
     },
     "metadata": {},
     "output_type": "display_data"
    },
    {
     "data": {
      "text/plain": [
       "'C:\\\\Users\\\\ashis\\\\OneDrive\\\\Documents\\\\summer project\\\\summer project - 3d\\\\week2\\\\new_data\\\\mask\\\\000121_10_1.png'"
      ]
     },
     "metadata": {},
     "output_type": "display_data"
    },
    {
     "data": {
      "text/plain": [
       "'C:\\\\Users\\\\ashis\\\\OneDrive\\\\Documents\\\\summer project\\\\summer project - 3d\\\\week2\\\\new_data\\\\image\\\\000121_10_2.png'"
      ]
     },
     "metadata": {},
     "output_type": "display_data"
    },
    {
     "data": {
      "text/plain": [
       "'C:\\\\Users\\\\ashis\\\\OneDrive\\\\Documents\\\\summer project\\\\summer project - 3d\\\\week2\\\\new_data\\\\mask\\\\000121_10_2.png'"
      ]
     },
     "metadata": {},
     "output_type": "display_data"
    },
    {
     "data": {
      "text/plain": [
       "'C:\\\\Users\\\\ashis\\\\OneDrive\\\\Documents\\\\summer project\\\\summer project - 3d\\\\week2\\\\new_data\\\\image\\\\000121_10_3.png'"
      ]
     },
     "metadata": {},
     "output_type": "display_data"
    },
    {
     "data": {
      "text/plain": [
       "'C:\\\\Users\\\\ashis\\\\OneDrive\\\\Documents\\\\summer project\\\\summer project - 3d\\\\week2\\\\new_data\\\\mask\\\\000121_10_3.png'"
      ]
     },
     "metadata": {},
     "output_type": "display_data"
    },
    {
     "data": {
      "text/plain": [
       "'C:\\\\Users\\\\ashis\\\\OneDrive\\\\Documents\\\\summer project\\\\summer project - 3d\\\\week2\\\\new_data\\\\image\\\\000121_10_4.png'"
      ]
     },
     "metadata": {},
     "output_type": "display_data"
    },
    {
     "data": {
      "text/plain": [
       "'C:\\\\Users\\\\ashis\\\\OneDrive\\\\Documents\\\\summer project\\\\summer project - 3d\\\\week2\\\\new_data\\\\mask\\\\000121_10_4.png'"
      ]
     },
     "metadata": {},
     "output_type": "display_data"
    },
    {
     "data": {
      "text/plain": [
       "'C:\\\\Users\\\\ashis\\\\OneDrive\\\\Documents\\\\summer project\\\\summer project - 3d\\\\week2\\\\new_data\\\\image\\\\000121_10_5.png'"
      ]
     },
     "metadata": {},
     "output_type": "display_data"
    },
    {
     "data": {
      "text/plain": [
       "'C:\\\\Users\\\\ashis\\\\OneDrive\\\\Documents\\\\summer project\\\\summer project - 3d\\\\week2\\\\new_data\\\\mask\\\\000121_10_5.png'"
      ]
     },
     "metadata": {},
     "output_type": "display_data"
    },
    {
     "name": "stderr",
     "output_type": "stream",
     "text": [
      "\r",
      " 61%|████████████████████████████████████████████████▊                               | 122/200 [00:34<00:22,  3.48it/s]"
     ]
    },
    {
     "data": {
      "text/plain": [
       "'C:\\\\Users\\\\ashis\\\\OneDrive\\\\Documents\\\\summer project\\\\summer project - 3d\\\\week2\\\\new_data\\\\image\\\\000122_10_0.png'"
      ]
     },
     "metadata": {},
     "output_type": "display_data"
    },
    {
     "data": {
      "text/plain": [
       "'C:\\\\Users\\\\ashis\\\\OneDrive\\\\Documents\\\\summer project\\\\summer project - 3d\\\\week2\\\\new_data\\\\mask\\\\000122_10_0.png'"
      ]
     },
     "metadata": {},
     "output_type": "display_data"
    },
    {
     "data": {
      "text/plain": [
       "'C:\\\\Users\\\\ashis\\\\OneDrive\\\\Documents\\\\summer project\\\\summer project - 3d\\\\week2\\\\new_data\\\\image\\\\000122_10_1.png'"
      ]
     },
     "metadata": {},
     "output_type": "display_data"
    },
    {
     "data": {
      "text/plain": [
       "'C:\\\\Users\\\\ashis\\\\OneDrive\\\\Documents\\\\summer project\\\\summer project - 3d\\\\week2\\\\new_data\\\\mask\\\\000122_10_1.png'"
      ]
     },
     "metadata": {},
     "output_type": "display_data"
    },
    {
     "data": {
      "text/plain": [
       "'C:\\\\Users\\\\ashis\\\\OneDrive\\\\Documents\\\\summer project\\\\summer project - 3d\\\\week2\\\\new_data\\\\image\\\\000122_10_2.png'"
      ]
     },
     "metadata": {},
     "output_type": "display_data"
    },
    {
     "data": {
      "text/plain": [
       "'C:\\\\Users\\\\ashis\\\\OneDrive\\\\Documents\\\\summer project\\\\summer project - 3d\\\\week2\\\\new_data\\\\mask\\\\000122_10_2.png'"
      ]
     },
     "metadata": {},
     "output_type": "display_data"
    },
    {
     "data": {
      "text/plain": [
       "'C:\\\\Users\\\\ashis\\\\OneDrive\\\\Documents\\\\summer project\\\\summer project - 3d\\\\week2\\\\new_data\\\\image\\\\000122_10_3.png'"
      ]
     },
     "metadata": {},
     "output_type": "display_data"
    },
    {
     "data": {
      "text/plain": [
       "'C:\\\\Users\\\\ashis\\\\OneDrive\\\\Documents\\\\summer project\\\\summer project - 3d\\\\week2\\\\new_data\\\\mask\\\\000122_10_3.png'"
      ]
     },
     "metadata": {},
     "output_type": "display_data"
    },
    {
     "data": {
      "text/plain": [
       "'C:\\\\Users\\\\ashis\\\\OneDrive\\\\Documents\\\\summer project\\\\summer project - 3d\\\\week2\\\\new_data\\\\image\\\\000122_10_4.png'"
      ]
     },
     "metadata": {},
     "output_type": "display_data"
    },
    {
     "data": {
      "text/plain": [
       "'C:\\\\Users\\\\ashis\\\\OneDrive\\\\Documents\\\\summer project\\\\summer project - 3d\\\\week2\\\\new_data\\\\mask\\\\000122_10_4.png'"
      ]
     },
     "metadata": {},
     "output_type": "display_data"
    },
    {
     "data": {
      "text/plain": [
       "'C:\\\\Users\\\\ashis\\\\OneDrive\\\\Documents\\\\summer project\\\\summer project - 3d\\\\week2\\\\new_data\\\\image\\\\000122_10_5.png'"
      ]
     },
     "metadata": {},
     "output_type": "display_data"
    },
    {
     "data": {
      "text/plain": [
       "'C:\\\\Users\\\\ashis\\\\OneDrive\\\\Documents\\\\summer project\\\\summer project - 3d\\\\week2\\\\new_data\\\\mask\\\\000122_10_5.png'"
      ]
     },
     "metadata": {},
     "output_type": "display_data"
    },
    {
     "name": "stderr",
     "output_type": "stream",
     "text": [
      "\r",
      " 62%|█████████████████████████████████████████████████▏                              | 123/200 [00:35<00:23,  3.32it/s]"
     ]
    },
    {
     "data": {
      "text/plain": [
       "'C:\\\\Users\\\\ashis\\\\OneDrive\\\\Documents\\\\summer project\\\\summer project - 3d\\\\week2\\\\new_data\\\\image\\\\000123_10_0.png'"
      ]
     },
     "metadata": {},
     "output_type": "display_data"
    },
    {
     "data": {
      "text/plain": [
       "'C:\\\\Users\\\\ashis\\\\OneDrive\\\\Documents\\\\summer project\\\\summer project - 3d\\\\week2\\\\new_data\\\\mask\\\\000123_10_0.png'"
      ]
     },
     "metadata": {},
     "output_type": "display_data"
    },
    {
     "data": {
      "text/plain": [
       "'C:\\\\Users\\\\ashis\\\\OneDrive\\\\Documents\\\\summer project\\\\summer project - 3d\\\\week2\\\\new_data\\\\image\\\\000123_10_1.png'"
      ]
     },
     "metadata": {},
     "output_type": "display_data"
    },
    {
     "data": {
      "text/plain": [
       "'C:\\\\Users\\\\ashis\\\\OneDrive\\\\Documents\\\\summer project\\\\summer project - 3d\\\\week2\\\\new_data\\\\mask\\\\000123_10_1.png'"
      ]
     },
     "metadata": {},
     "output_type": "display_data"
    },
    {
     "data": {
      "text/plain": [
       "'C:\\\\Users\\\\ashis\\\\OneDrive\\\\Documents\\\\summer project\\\\summer project - 3d\\\\week2\\\\new_data\\\\image\\\\000123_10_2.png'"
      ]
     },
     "metadata": {},
     "output_type": "display_data"
    },
    {
     "data": {
      "text/plain": [
       "'C:\\\\Users\\\\ashis\\\\OneDrive\\\\Documents\\\\summer project\\\\summer project - 3d\\\\week2\\\\new_data\\\\mask\\\\000123_10_2.png'"
      ]
     },
     "metadata": {},
     "output_type": "display_data"
    },
    {
     "data": {
      "text/plain": [
       "'C:\\\\Users\\\\ashis\\\\OneDrive\\\\Documents\\\\summer project\\\\summer project - 3d\\\\week2\\\\new_data\\\\image\\\\000123_10_3.png'"
      ]
     },
     "metadata": {},
     "output_type": "display_data"
    },
    {
     "data": {
      "text/plain": [
       "'C:\\\\Users\\\\ashis\\\\OneDrive\\\\Documents\\\\summer project\\\\summer project - 3d\\\\week2\\\\new_data\\\\mask\\\\000123_10_3.png'"
      ]
     },
     "metadata": {},
     "output_type": "display_data"
    },
    {
     "data": {
      "text/plain": [
       "'C:\\\\Users\\\\ashis\\\\OneDrive\\\\Documents\\\\summer project\\\\summer project - 3d\\\\week2\\\\new_data\\\\image\\\\000123_10_4.png'"
      ]
     },
     "metadata": {},
     "output_type": "display_data"
    },
    {
     "data": {
      "text/plain": [
       "'C:\\\\Users\\\\ashis\\\\OneDrive\\\\Documents\\\\summer project\\\\summer project - 3d\\\\week2\\\\new_data\\\\mask\\\\000123_10_4.png'"
      ]
     },
     "metadata": {},
     "output_type": "display_data"
    },
    {
     "data": {
      "text/plain": [
       "'C:\\\\Users\\\\ashis\\\\OneDrive\\\\Documents\\\\summer project\\\\summer project - 3d\\\\week2\\\\new_data\\\\image\\\\000123_10_5.png'"
      ]
     },
     "metadata": {},
     "output_type": "display_data"
    },
    {
     "data": {
      "text/plain": [
       "'C:\\\\Users\\\\ashis\\\\OneDrive\\\\Documents\\\\summer project\\\\summer project - 3d\\\\week2\\\\new_data\\\\mask\\\\000123_10_5.png'"
      ]
     },
     "metadata": {},
     "output_type": "display_data"
    },
    {
     "name": "stderr",
     "output_type": "stream",
     "text": [
      "\r",
      " 62%|█████████████████████████████████████████████████▌                              | 124/200 [00:35<00:22,  3.42it/s]"
     ]
    },
    {
     "data": {
      "text/plain": [
       "'C:\\\\Users\\\\ashis\\\\OneDrive\\\\Documents\\\\summer project\\\\summer project - 3d\\\\week2\\\\new_data\\\\image\\\\000124_10_0.png'"
      ]
     },
     "metadata": {},
     "output_type": "display_data"
    },
    {
     "data": {
      "text/plain": [
       "'C:\\\\Users\\\\ashis\\\\OneDrive\\\\Documents\\\\summer project\\\\summer project - 3d\\\\week2\\\\new_data\\\\mask\\\\000124_10_0.png'"
      ]
     },
     "metadata": {},
     "output_type": "display_data"
    },
    {
     "data": {
      "text/plain": [
       "'C:\\\\Users\\\\ashis\\\\OneDrive\\\\Documents\\\\summer project\\\\summer project - 3d\\\\week2\\\\new_data\\\\image\\\\000124_10_1.png'"
      ]
     },
     "metadata": {},
     "output_type": "display_data"
    },
    {
     "data": {
      "text/plain": [
       "'C:\\\\Users\\\\ashis\\\\OneDrive\\\\Documents\\\\summer project\\\\summer project - 3d\\\\week2\\\\new_data\\\\mask\\\\000124_10_1.png'"
      ]
     },
     "metadata": {},
     "output_type": "display_data"
    },
    {
     "data": {
      "text/plain": [
       "'C:\\\\Users\\\\ashis\\\\OneDrive\\\\Documents\\\\summer project\\\\summer project - 3d\\\\week2\\\\new_data\\\\image\\\\000124_10_2.png'"
      ]
     },
     "metadata": {},
     "output_type": "display_data"
    },
    {
     "data": {
      "text/plain": [
       "'C:\\\\Users\\\\ashis\\\\OneDrive\\\\Documents\\\\summer project\\\\summer project - 3d\\\\week2\\\\new_data\\\\mask\\\\000124_10_2.png'"
      ]
     },
     "metadata": {},
     "output_type": "display_data"
    },
    {
     "data": {
      "text/plain": [
       "'C:\\\\Users\\\\ashis\\\\OneDrive\\\\Documents\\\\summer project\\\\summer project - 3d\\\\week2\\\\new_data\\\\image\\\\000124_10_3.png'"
      ]
     },
     "metadata": {},
     "output_type": "display_data"
    },
    {
     "data": {
      "text/plain": [
       "'C:\\\\Users\\\\ashis\\\\OneDrive\\\\Documents\\\\summer project\\\\summer project - 3d\\\\week2\\\\new_data\\\\mask\\\\000124_10_3.png'"
      ]
     },
     "metadata": {},
     "output_type": "display_data"
    },
    {
     "data": {
      "text/plain": [
       "'C:\\\\Users\\\\ashis\\\\OneDrive\\\\Documents\\\\summer project\\\\summer project - 3d\\\\week2\\\\new_data\\\\image\\\\000124_10_4.png'"
      ]
     },
     "metadata": {},
     "output_type": "display_data"
    },
    {
     "data": {
      "text/plain": [
       "'C:\\\\Users\\\\ashis\\\\OneDrive\\\\Documents\\\\summer project\\\\summer project - 3d\\\\week2\\\\new_data\\\\mask\\\\000124_10_4.png'"
      ]
     },
     "metadata": {},
     "output_type": "display_data"
    },
    {
     "data": {
      "text/plain": [
       "'C:\\\\Users\\\\ashis\\\\OneDrive\\\\Documents\\\\summer project\\\\summer project - 3d\\\\week2\\\\new_data\\\\image\\\\000124_10_5.png'"
      ]
     },
     "metadata": {},
     "output_type": "display_data"
    },
    {
     "data": {
      "text/plain": [
       "'C:\\\\Users\\\\ashis\\\\OneDrive\\\\Documents\\\\summer project\\\\summer project - 3d\\\\week2\\\\new_data\\\\mask\\\\000124_10_5.png'"
      ]
     },
     "metadata": {},
     "output_type": "display_data"
    },
    {
     "name": "stderr",
     "output_type": "stream",
     "text": [
      "\r",
      " 62%|██████████████████████████████████████████████████                              | 125/200 [00:35<00:21,  3.54it/s]"
     ]
    },
    {
     "data": {
      "text/plain": [
       "'C:\\\\Users\\\\ashis\\\\OneDrive\\\\Documents\\\\summer project\\\\summer project - 3d\\\\week2\\\\new_data\\\\image\\\\000125_10_0.png'"
      ]
     },
     "metadata": {},
     "output_type": "display_data"
    },
    {
     "data": {
      "text/plain": [
       "'C:\\\\Users\\\\ashis\\\\OneDrive\\\\Documents\\\\summer project\\\\summer project - 3d\\\\week2\\\\new_data\\\\mask\\\\000125_10_0.png'"
      ]
     },
     "metadata": {},
     "output_type": "display_data"
    },
    {
     "data": {
      "text/plain": [
       "'C:\\\\Users\\\\ashis\\\\OneDrive\\\\Documents\\\\summer project\\\\summer project - 3d\\\\week2\\\\new_data\\\\image\\\\000125_10_1.png'"
      ]
     },
     "metadata": {},
     "output_type": "display_data"
    },
    {
     "data": {
      "text/plain": [
       "'C:\\\\Users\\\\ashis\\\\OneDrive\\\\Documents\\\\summer project\\\\summer project - 3d\\\\week2\\\\new_data\\\\mask\\\\000125_10_1.png'"
      ]
     },
     "metadata": {},
     "output_type": "display_data"
    },
    {
     "data": {
      "text/plain": [
       "'C:\\\\Users\\\\ashis\\\\OneDrive\\\\Documents\\\\summer project\\\\summer project - 3d\\\\week2\\\\new_data\\\\image\\\\000125_10_2.png'"
      ]
     },
     "metadata": {},
     "output_type": "display_data"
    },
    {
     "data": {
      "text/plain": [
       "'C:\\\\Users\\\\ashis\\\\OneDrive\\\\Documents\\\\summer project\\\\summer project - 3d\\\\week2\\\\new_data\\\\mask\\\\000125_10_2.png'"
      ]
     },
     "metadata": {},
     "output_type": "display_data"
    },
    {
     "data": {
      "text/plain": [
       "'C:\\\\Users\\\\ashis\\\\OneDrive\\\\Documents\\\\summer project\\\\summer project - 3d\\\\week2\\\\new_data\\\\image\\\\000125_10_3.png'"
      ]
     },
     "metadata": {},
     "output_type": "display_data"
    },
    {
     "data": {
      "text/plain": [
       "'C:\\\\Users\\\\ashis\\\\OneDrive\\\\Documents\\\\summer project\\\\summer project - 3d\\\\week2\\\\new_data\\\\mask\\\\000125_10_3.png'"
      ]
     },
     "metadata": {},
     "output_type": "display_data"
    },
    {
     "data": {
      "text/plain": [
       "'C:\\\\Users\\\\ashis\\\\OneDrive\\\\Documents\\\\summer project\\\\summer project - 3d\\\\week2\\\\new_data\\\\image\\\\000125_10_4.png'"
      ]
     },
     "metadata": {},
     "output_type": "display_data"
    },
    {
     "data": {
      "text/plain": [
       "'C:\\\\Users\\\\ashis\\\\OneDrive\\\\Documents\\\\summer project\\\\summer project - 3d\\\\week2\\\\new_data\\\\mask\\\\000125_10_4.png'"
      ]
     },
     "metadata": {},
     "output_type": "display_data"
    },
    {
     "data": {
      "text/plain": [
       "'C:\\\\Users\\\\ashis\\\\OneDrive\\\\Documents\\\\summer project\\\\summer project - 3d\\\\week2\\\\new_data\\\\image\\\\000125_10_5.png'"
      ]
     },
     "metadata": {},
     "output_type": "display_data"
    },
    {
     "data": {
      "text/plain": [
       "'C:\\\\Users\\\\ashis\\\\OneDrive\\\\Documents\\\\summer project\\\\summer project - 3d\\\\week2\\\\new_data\\\\mask\\\\000125_10_5.png'"
      ]
     },
     "metadata": {},
     "output_type": "display_data"
    },
    {
     "name": "stderr",
     "output_type": "stream",
     "text": [
      "\r",
      " 63%|██████████████████████████████████████████████████▍                             | 126/200 [00:36<00:21,  3.44it/s]"
     ]
    },
    {
     "data": {
      "text/plain": [
       "'C:\\\\Users\\\\ashis\\\\OneDrive\\\\Documents\\\\summer project\\\\summer project - 3d\\\\week2\\\\new_data\\\\image\\\\000126_10_0.png'"
      ]
     },
     "metadata": {},
     "output_type": "display_data"
    },
    {
     "data": {
      "text/plain": [
       "'C:\\\\Users\\\\ashis\\\\OneDrive\\\\Documents\\\\summer project\\\\summer project - 3d\\\\week2\\\\new_data\\\\mask\\\\000126_10_0.png'"
      ]
     },
     "metadata": {},
     "output_type": "display_data"
    },
    {
     "data": {
      "text/plain": [
       "'C:\\\\Users\\\\ashis\\\\OneDrive\\\\Documents\\\\summer project\\\\summer project - 3d\\\\week2\\\\new_data\\\\image\\\\000126_10_1.png'"
      ]
     },
     "metadata": {},
     "output_type": "display_data"
    },
    {
     "data": {
      "text/plain": [
       "'C:\\\\Users\\\\ashis\\\\OneDrive\\\\Documents\\\\summer project\\\\summer project - 3d\\\\week2\\\\new_data\\\\mask\\\\000126_10_1.png'"
      ]
     },
     "metadata": {},
     "output_type": "display_data"
    },
    {
     "data": {
      "text/plain": [
       "'C:\\\\Users\\\\ashis\\\\OneDrive\\\\Documents\\\\summer project\\\\summer project - 3d\\\\week2\\\\new_data\\\\image\\\\000126_10_2.png'"
      ]
     },
     "metadata": {},
     "output_type": "display_data"
    },
    {
     "data": {
      "text/plain": [
       "'C:\\\\Users\\\\ashis\\\\OneDrive\\\\Documents\\\\summer project\\\\summer project - 3d\\\\week2\\\\new_data\\\\mask\\\\000126_10_2.png'"
      ]
     },
     "metadata": {},
     "output_type": "display_data"
    },
    {
     "data": {
      "text/plain": [
       "'C:\\\\Users\\\\ashis\\\\OneDrive\\\\Documents\\\\summer project\\\\summer project - 3d\\\\week2\\\\new_data\\\\image\\\\000126_10_3.png'"
      ]
     },
     "metadata": {},
     "output_type": "display_data"
    },
    {
     "data": {
      "text/plain": [
       "'C:\\\\Users\\\\ashis\\\\OneDrive\\\\Documents\\\\summer project\\\\summer project - 3d\\\\week2\\\\new_data\\\\mask\\\\000126_10_3.png'"
      ]
     },
     "metadata": {},
     "output_type": "display_data"
    },
    {
     "data": {
      "text/plain": [
       "'C:\\\\Users\\\\ashis\\\\OneDrive\\\\Documents\\\\summer project\\\\summer project - 3d\\\\week2\\\\new_data\\\\image\\\\000126_10_4.png'"
      ]
     },
     "metadata": {},
     "output_type": "display_data"
    },
    {
     "data": {
      "text/plain": [
       "'C:\\\\Users\\\\ashis\\\\OneDrive\\\\Documents\\\\summer project\\\\summer project - 3d\\\\week2\\\\new_data\\\\mask\\\\000126_10_4.png'"
      ]
     },
     "metadata": {},
     "output_type": "display_data"
    },
    {
     "data": {
      "text/plain": [
       "'C:\\\\Users\\\\ashis\\\\OneDrive\\\\Documents\\\\summer project\\\\summer project - 3d\\\\week2\\\\new_data\\\\image\\\\000126_10_5.png'"
      ]
     },
     "metadata": {},
     "output_type": "display_data"
    },
    {
     "data": {
      "text/plain": [
       "'C:\\\\Users\\\\ashis\\\\OneDrive\\\\Documents\\\\summer project\\\\summer project - 3d\\\\week2\\\\new_data\\\\mask\\\\000126_10_5.png'"
      ]
     },
     "metadata": {},
     "output_type": "display_data"
    },
    {
     "name": "stderr",
     "output_type": "stream",
     "text": [
      "\r",
      " 64%|██████████████████████████████████████████████████▊                             | 127/200 [00:36<00:20,  3.49it/s]"
     ]
    },
    {
     "data": {
      "text/plain": [
       "'C:\\\\Users\\\\ashis\\\\OneDrive\\\\Documents\\\\summer project\\\\summer project - 3d\\\\week2\\\\new_data\\\\image\\\\000127_10_0.png'"
      ]
     },
     "metadata": {},
     "output_type": "display_data"
    },
    {
     "data": {
      "text/plain": [
       "'C:\\\\Users\\\\ashis\\\\OneDrive\\\\Documents\\\\summer project\\\\summer project - 3d\\\\week2\\\\new_data\\\\mask\\\\000127_10_0.png'"
      ]
     },
     "metadata": {},
     "output_type": "display_data"
    },
    {
     "data": {
      "text/plain": [
       "'C:\\\\Users\\\\ashis\\\\OneDrive\\\\Documents\\\\summer project\\\\summer project - 3d\\\\week2\\\\new_data\\\\image\\\\000127_10_1.png'"
      ]
     },
     "metadata": {},
     "output_type": "display_data"
    },
    {
     "data": {
      "text/plain": [
       "'C:\\\\Users\\\\ashis\\\\OneDrive\\\\Documents\\\\summer project\\\\summer project - 3d\\\\week2\\\\new_data\\\\mask\\\\000127_10_1.png'"
      ]
     },
     "metadata": {},
     "output_type": "display_data"
    },
    {
     "data": {
      "text/plain": [
       "'C:\\\\Users\\\\ashis\\\\OneDrive\\\\Documents\\\\summer project\\\\summer project - 3d\\\\week2\\\\new_data\\\\image\\\\000127_10_2.png'"
      ]
     },
     "metadata": {},
     "output_type": "display_data"
    },
    {
     "data": {
      "text/plain": [
       "'C:\\\\Users\\\\ashis\\\\OneDrive\\\\Documents\\\\summer project\\\\summer project - 3d\\\\week2\\\\new_data\\\\mask\\\\000127_10_2.png'"
      ]
     },
     "metadata": {},
     "output_type": "display_data"
    },
    {
     "data": {
      "text/plain": [
       "'C:\\\\Users\\\\ashis\\\\OneDrive\\\\Documents\\\\summer project\\\\summer project - 3d\\\\week2\\\\new_data\\\\image\\\\000127_10_3.png'"
      ]
     },
     "metadata": {},
     "output_type": "display_data"
    },
    {
     "data": {
      "text/plain": [
       "'C:\\\\Users\\\\ashis\\\\OneDrive\\\\Documents\\\\summer project\\\\summer project - 3d\\\\week2\\\\new_data\\\\mask\\\\000127_10_3.png'"
      ]
     },
     "metadata": {},
     "output_type": "display_data"
    },
    {
     "data": {
      "text/plain": [
       "'C:\\\\Users\\\\ashis\\\\OneDrive\\\\Documents\\\\summer project\\\\summer project - 3d\\\\week2\\\\new_data\\\\image\\\\000127_10_4.png'"
      ]
     },
     "metadata": {},
     "output_type": "display_data"
    },
    {
     "data": {
      "text/plain": [
       "'C:\\\\Users\\\\ashis\\\\OneDrive\\\\Documents\\\\summer project\\\\summer project - 3d\\\\week2\\\\new_data\\\\mask\\\\000127_10_4.png'"
      ]
     },
     "metadata": {},
     "output_type": "display_data"
    },
    {
     "data": {
      "text/plain": [
       "'C:\\\\Users\\\\ashis\\\\OneDrive\\\\Documents\\\\summer project\\\\summer project - 3d\\\\week2\\\\new_data\\\\image\\\\000127_10_5.png'"
      ]
     },
     "metadata": {},
     "output_type": "display_data"
    },
    {
     "data": {
      "text/plain": [
       "'C:\\\\Users\\\\ashis\\\\OneDrive\\\\Documents\\\\summer project\\\\summer project - 3d\\\\week2\\\\new_data\\\\mask\\\\000127_10_5.png'"
      ]
     },
     "metadata": {},
     "output_type": "display_data"
    },
    {
     "name": "stderr",
     "output_type": "stream",
     "text": [
      "\r",
      " 64%|███████████████████████████████████████████████████▏                            | 128/200 [00:36<00:20,  3.50it/s]"
     ]
    },
    {
     "data": {
      "text/plain": [
       "'C:\\\\Users\\\\ashis\\\\OneDrive\\\\Documents\\\\summer project\\\\summer project - 3d\\\\week2\\\\new_data\\\\image\\\\000128_10_0.png'"
      ]
     },
     "metadata": {},
     "output_type": "display_data"
    },
    {
     "data": {
      "text/plain": [
       "'C:\\\\Users\\\\ashis\\\\OneDrive\\\\Documents\\\\summer project\\\\summer project - 3d\\\\week2\\\\new_data\\\\mask\\\\000128_10_0.png'"
      ]
     },
     "metadata": {},
     "output_type": "display_data"
    },
    {
     "data": {
      "text/plain": [
       "'C:\\\\Users\\\\ashis\\\\OneDrive\\\\Documents\\\\summer project\\\\summer project - 3d\\\\week2\\\\new_data\\\\image\\\\000128_10_1.png'"
      ]
     },
     "metadata": {},
     "output_type": "display_data"
    },
    {
     "data": {
      "text/plain": [
       "'C:\\\\Users\\\\ashis\\\\OneDrive\\\\Documents\\\\summer project\\\\summer project - 3d\\\\week2\\\\new_data\\\\mask\\\\000128_10_1.png'"
      ]
     },
     "metadata": {},
     "output_type": "display_data"
    },
    {
     "data": {
      "text/plain": [
       "'C:\\\\Users\\\\ashis\\\\OneDrive\\\\Documents\\\\summer project\\\\summer project - 3d\\\\week2\\\\new_data\\\\image\\\\000128_10_2.png'"
      ]
     },
     "metadata": {},
     "output_type": "display_data"
    },
    {
     "data": {
      "text/plain": [
       "'C:\\\\Users\\\\ashis\\\\OneDrive\\\\Documents\\\\summer project\\\\summer project - 3d\\\\week2\\\\new_data\\\\mask\\\\000128_10_2.png'"
      ]
     },
     "metadata": {},
     "output_type": "display_data"
    },
    {
     "data": {
      "text/plain": [
       "'C:\\\\Users\\\\ashis\\\\OneDrive\\\\Documents\\\\summer project\\\\summer project - 3d\\\\week2\\\\new_data\\\\image\\\\000128_10_3.png'"
      ]
     },
     "metadata": {},
     "output_type": "display_data"
    },
    {
     "data": {
      "text/plain": [
       "'C:\\\\Users\\\\ashis\\\\OneDrive\\\\Documents\\\\summer project\\\\summer project - 3d\\\\week2\\\\new_data\\\\mask\\\\000128_10_3.png'"
      ]
     },
     "metadata": {},
     "output_type": "display_data"
    },
    {
     "data": {
      "text/plain": [
       "'C:\\\\Users\\\\ashis\\\\OneDrive\\\\Documents\\\\summer project\\\\summer project - 3d\\\\week2\\\\new_data\\\\image\\\\000128_10_4.png'"
      ]
     },
     "metadata": {},
     "output_type": "display_data"
    },
    {
     "data": {
      "text/plain": [
       "'C:\\\\Users\\\\ashis\\\\OneDrive\\\\Documents\\\\summer project\\\\summer project - 3d\\\\week2\\\\new_data\\\\mask\\\\000128_10_4.png'"
      ]
     },
     "metadata": {},
     "output_type": "display_data"
    },
    {
     "data": {
      "text/plain": [
       "'C:\\\\Users\\\\ashis\\\\OneDrive\\\\Documents\\\\summer project\\\\summer project - 3d\\\\week2\\\\new_data\\\\image\\\\000128_10_5.png'"
      ]
     },
     "metadata": {},
     "output_type": "display_data"
    },
    {
     "data": {
      "text/plain": [
       "'C:\\\\Users\\\\ashis\\\\OneDrive\\\\Documents\\\\summer project\\\\summer project - 3d\\\\week2\\\\new_data\\\\mask\\\\000128_10_5.png'"
      ]
     },
     "metadata": {},
     "output_type": "display_data"
    },
    {
     "name": "stderr",
     "output_type": "stream",
     "text": [
      "\r",
      " 64%|███████████████████████████████████████████████████▌                            | 129/200 [00:36<00:20,  3.54it/s]"
     ]
    },
    {
     "data": {
      "text/plain": [
       "'C:\\\\Users\\\\ashis\\\\OneDrive\\\\Documents\\\\summer project\\\\summer project - 3d\\\\week2\\\\new_data\\\\image\\\\000129_10_0.png'"
      ]
     },
     "metadata": {},
     "output_type": "display_data"
    },
    {
     "data": {
      "text/plain": [
       "'C:\\\\Users\\\\ashis\\\\OneDrive\\\\Documents\\\\summer project\\\\summer project - 3d\\\\week2\\\\new_data\\\\mask\\\\000129_10_0.png'"
      ]
     },
     "metadata": {},
     "output_type": "display_data"
    },
    {
     "data": {
      "text/plain": [
       "'C:\\\\Users\\\\ashis\\\\OneDrive\\\\Documents\\\\summer project\\\\summer project - 3d\\\\week2\\\\new_data\\\\image\\\\000129_10_1.png'"
      ]
     },
     "metadata": {},
     "output_type": "display_data"
    },
    {
     "data": {
      "text/plain": [
       "'C:\\\\Users\\\\ashis\\\\OneDrive\\\\Documents\\\\summer project\\\\summer project - 3d\\\\week2\\\\new_data\\\\mask\\\\000129_10_1.png'"
      ]
     },
     "metadata": {},
     "output_type": "display_data"
    },
    {
     "data": {
      "text/plain": [
       "'C:\\\\Users\\\\ashis\\\\OneDrive\\\\Documents\\\\summer project\\\\summer project - 3d\\\\week2\\\\new_data\\\\image\\\\000129_10_2.png'"
      ]
     },
     "metadata": {},
     "output_type": "display_data"
    },
    {
     "data": {
      "text/plain": [
       "'C:\\\\Users\\\\ashis\\\\OneDrive\\\\Documents\\\\summer project\\\\summer project - 3d\\\\week2\\\\new_data\\\\mask\\\\000129_10_2.png'"
      ]
     },
     "metadata": {},
     "output_type": "display_data"
    },
    {
     "data": {
      "text/plain": [
       "'C:\\\\Users\\\\ashis\\\\OneDrive\\\\Documents\\\\summer project\\\\summer project - 3d\\\\week2\\\\new_data\\\\image\\\\000129_10_3.png'"
      ]
     },
     "metadata": {},
     "output_type": "display_data"
    },
    {
     "data": {
      "text/plain": [
       "'C:\\\\Users\\\\ashis\\\\OneDrive\\\\Documents\\\\summer project\\\\summer project - 3d\\\\week2\\\\new_data\\\\mask\\\\000129_10_3.png'"
      ]
     },
     "metadata": {},
     "output_type": "display_data"
    },
    {
     "data": {
      "text/plain": [
       "'C:\\\\Users\\\\ashis\\\\OneDrive\\\\Documents\\\\summer project\\\\summer project - 3d\\\\week2\\\\new_data\\\\image\\\\000129_10_4.png'"
      ]
     },
     "metadata": {},
     "output_type": "display_data"
    },
    {
     "data": {
      "text/plain": [
       "'C:\\\\Users\\\\ashis\\\\OneDrive\\\\Documents\\\\summer project\\\\summer project - 3d\\\\week2\\\\new_data\\\\mask\\\\000129_10_4.png'"
      ]
     },
     "metadata": {},
     "output_type": "display_data"
    },
    {
     "data": {
      "text/plain": [
       "'C:\\\\Users\\\\ashis\\\\OneDrive\\\\Documents\\\\summer project\\\\summer project - 3d\\\\week2\\\\new_data\\\\image\\\\000129_10_5.png'"
      ]
     },
     "metadata": {},
     "output_type": "display_data"
    },
    {
     "data": {
      "text/plain": [
       "'C:\\\\Users\\\\ashis\\\\OneDrive\\\\Documents\\\\summer project\\\\summer project - 3d\\\\week2\\\\new_data\\\\mask\\\\000129_10_5.png'"
      ]
     },
     "metadata": {},
     "output_type": "display_data"
    },
    {
     "name": "stderr",
     "output_type": "stream",
     "text": [
      "\r",
      " 65%|████████████████████████████████████████████████████                            | 130/200 [00:37<00:19,  3.51it/s]"
     ]
    },
    {
     "data": {
      "text/plain": [
       "'C:\\\\Users\\\\ashis\\\\OneDrive\\\\Documents\\\\summer project\\\\summer project - 3d\\\\week2\\\\new_data\\\\image\\\\000130_10_0.png'"
      ]
     },
     "metadata": {},
     "output_type": "display_data"
    },
    {
     "data": {
      "text/plain": [
       "'C:\\\\Users\\\\ashis\\\\OneDrive\\\\Documents\\\\summer project\\\\summer project - 3d\\\\week2\\\\new_data\\\\mask\\\\000130_10_0.png'"
      ]
     },
     "metadata": {},
     "output_type": "display_data"
    },
    {
     "data": {
      "text/plain": [
       "'C:\\\\Users\\\\ashis\\\\OneDrive\\\\Documents\\\\summer project\\\\summer project - 3d\\\\week2\\\\new_data\\\\image\\\\000130_10_1.png'"
      ]
     },
     "metadata": {},
     "output_type": "display_data"
    },
    {
     "data": {
      "text/plain": [
       "'C:\\\\Users\\\\ashis\\\\OneDrive\\\\Documents\\\\summer project\\\\summer project - 3d\\\\week2\\\\new_data\\\\mask\\\\000130_10_1.png'"
      ]
     },
     "metadata": {},
     "output_type": "display_data"
    },
    {
     "data": {
      "text/plain": [
       "'C:\\\\Users\\\\ashis\\\\OneDrive\\\\Documents\\\\summer project\\\\summer project - 3d\\\\week2\\\\new_data\\\\image\\\\000130_10_2.png'"
      ]
     },
     "metadata": {},
     "output_type": "display_data"
    },
    {
     "data": {
      "text/plain": [
       "'C:\\\\Users\\\\ashis\\\\OneDrive\\\\Documents\\\\summer project\\\\summer project - 3d\\\\week2\\\\new_data\\\\mask\\\\000130_10_2.png'"
      ]
     },
     "metadata": {},
     "output_type": "display_data"
    },
    {
     "data": {
      "text/plain": [
       "'C:\\\\Users\\\\ashis\\\\OneDrive\\\\Documents\\\\summer project\\\\summer project - 3d\\\\week2\\\\new_data\\\\image\\\\000130_10_3.png'"
      ]
     },
     "metadata": {},
     "output_type": "display_data"
    },
    {
     "data": {
      "text/plain": [
       "'C:\\\\Users\\\\ashis\\\\OneDrive\\\\Documents\\\\summer project\\\\summer project - 3d\\\\week2\\\\new_data\\\\mask\\\\000130_10_3.png'"
      ]
     },
     "metadata": {},
     "output_type": "display_data"
    },
    {
     "data": {
      "text/plain": [
       "'C:\\\\Users\\\\ashis\\\\OneDrive\\\\Documents\\\\summer project\\\\summer project - 3d\\\\week2\\\\new_data\\\\image\\\\000130_10_4.png'"
      ]
     },
     "metadata": {},
     "output_type": "display_data"
    },
    {
     "data": {
      "text/plain": [
       "'C:\\\\Users\\\\ashis\\\\OneDrive\\\\Documents\\\\summer project\\\\summer project - 3d\\\\week2\\\\new_data\\\\mask\\\\000130_10_4.png'"
      ]
     },
     "metadata": {},
     "output_type": "display_data"
    },
    {
     "data": {
      "text/plain": [
       "'C:\\\\Users\\\\ashis\\\\OneDrive\\\\Documents\\\\summer project\\\\summer project - 3d\\\\week2\\\\new_data\\\\image\\\\000130_10_5.png'"
      ]
     },
     "metadata": {},
     "output_type": "display_data"
    },
    {
     "data": {
      "text/plain": [
       "'C:\\\\Users\\\\ashis\\\\OneDrive\\\\Documents\\\\summer project\\\\summer project - 3d\\\\week2\\\\new_data\\\\mask\\\\000130_10_5.png'"
      ]
     },
     "metadata": {},
     "output_type": "display_data"
    },
    {
     "name": "stderr",
     "output_type": "stream",
     "text": [
      "\r",
      " 66%|████████████████████████████████████████████████████▍                           | 131/200 [00:37<00:19,  3.54it/s]"
     ]
    },
    {
     "data": {
      "text/plain": [
       "'C:\\\\Users\\\\ashis\\\\OneDrive\\\\Documents\\\\summer project\\\\summer project - 3d\\\\week2\\\\new_data\\\\image\\\\000131_10_0.png'"
      ]
     },
     "metadata": {},
     "output_type": "display_data"
    },
    {
     "data": {
      "text/plain": [
       "'C:\\\\Users\\\\ashis\\\\OneDrive\\\\Documents\\\\summer project\\\\summer project - 3d\\\\week2\\\\new_data\\\\mask\\\\000131_10_0.png'"
      ]
     },
     "metadata": {},
     "output_type": "display_data"
    },
    {
     "data": {
      "text/plain": [
       "'C:\\\\Users\\\\ashis\\\\OneDrive\\\\Documents\\\\summer project\\\\summer project - 3d\\\\week2\\\\new_data\\\\image\\\\000131_10_1.png'"
      ]
     },
     "metadata": {},
     "output_type": "display_data"
    },
    {
     "data": {
      "text/plain": [
       "'C:\\\\Users\\\\ashis\\\\OneDrive\\\\Documents\\\\summer project\\\\summer project - 3d\\\\week2\\\\new_data\\\\mask\\\\000131_10_1.png'"
      ]
     },
     "metadata": {},
     "output_type": "display_data"
    },
    {
     "data": {
      "text/plain": [
       "'C:\\\\Users\\\\ashis\\\\OneDrive\\\\Documents\\\\summer project\\\\summer project - 3d\\\\week2\\\\new_data\\\\image\\\\000131_10_2.png'"
      ]
     },
     "metadata": {},
     "output_type": "display_data"
    },
    {
     "data": {
      "text/plain": [
       "'C:\\\\Users\\\\ashis\\\\OneDrive\\\\Documents\\\\summer project\\\\summer project - 3d\\\\week2\\\\new_data\\\\mask\\\\000131_10_2.png'"
      ]
     },
     "metadata": {},
     "output_type": "display_data"
    },
    {
     "data": {
      "text/plain": [
       "'C:\\\\Users\\\\ashis\\\\OneDrive\\\\Documents\\\\summer project\\\\summer project - 3d\\\\week2\\\\new_data\\\\image\\\\000131_10_3.png'"
      ]
     },
     "metadata": {},
     "output_type": "display_data"
    },
    {
     "data": {
      "text/plain": [
       "'C:\\\\Users\\\\ashis\\\\OneDrive\\\\Documents\\\\summer project\\\\summer project - 3d\\\\week2\\\\new_data\\\\mask\\\\000131_10_3.png'"
      ]
     },
     "metadata": {},
     "output_type": "display_data"
    },
    {
     "data": {
      "text/plain": [
       "'C:\\\\Users\\\\ashis\\\\OneDrive\\\\Documents\\\\summer project\\\\summer project - 3d\\\\week2\\\\new_data\\\\image\\\\000131_10_4.png'"
      ]
     },
     "metadata": {},
     "output_type": "display_data"
    },
    {
     "data": {
      "text/plain": [
       "'C:\\\\Users\\\\ashis\\\\OneDrive\\\\Documents\\\\summer project\\\\summer project - 3d\\\\week2\\\\new_data\\\\mask\\\\000131_10_4.png'"
      ]
     },
     "metadata": {},
     "output_type": "display_data"
    },
    {
     "data": {
      "text/plain": [
       "'C:\\\\Users\\\\ashis\\\\OneDrive\\\\Documents\\\\summer project\\\\summer project - 3d\\\\week2\\\\new_data\\\\image\\\\000131_10_5.png'"
      ]
     },
     "metadata": {},
     "output_type": "display_data"
    },
    {
     "data": {
      "text/plain": [
       "'C:\\\\Users\\\\ashis\\\\OneDrive\\\\Documents\\\\summer project\\\\summer project - 3d\\\\week2\\\\new_data\\\\mask\\\\000131_10_5.png'"
      ]
     },
     "metadata": {},
     "output_type": "display_data"
    },
    {
     "name": "stderr",
     "output_type": "stream",
     "text": [
      "\r",
      " 66%|████████████████████████████████████████████████████▊                           | 132/200 [00:37<00:19,  3.49it/s]"
     ]
    },
    {
     "data": {
      "text/plain": [
       "'C:\\\\Users\\\\ashis\\\\OneDrive\\\\Documents\\\\summer project\\\\summer project - 3d\\\\week2\\\\new_data\\\\image\\\\000132_10_0.png'"
      ]
     },
     "metadata": {},
     "output_type": "display_data"
    },
    {
     "data": {
      "text/plain": [
       "'C:\\\\Users\\\\ashis\\\\OneDrive\\\\Documents\\\\summer project\\\\summer project - 3d\\\\week2\\\\new_data\\\\mask\\\\000132_10_0.png'"
      ]
     },
     "metadata": {},
     "output_type": "display_data"
    },
    {
     "data": {
      "text/plain": [
       "'C:\\\\Users\\\\ashis\\\\OneDrive\\\\Documents\\\\summer project\\\\summer project - 3d\\\\week2\\\\new_data\\\\image\\\\000132_10_1.png'"
      ]
     },
     "metadata": {},
     "output_type": "display_data"
    },
    {
     "data": {
      "text/plain": [
       "'C:\\\\Users\\\\ashis\\\\OneDrive\\\\Documents\\\\summer project\\\\summer project - 3d\\\\week2\\\\new_data\\\\mask\\\\000132_10_1.png'"
      ]
     },
     "metadata": {},
     "output_type": "display_data"
    },
    {
     "data": {
      "text/plain": [
       "'C:\\\\Users\\\\ashis\\\\OneDrive\\\\Documents\\\\summer project\\\\summer project - 3d\\\\week2\\\\new_data\\\\image\\\\000132_10_2.png'"
      ]
     },
     "metadata": {},
     "output_type": "display_data"
    },
    {
     "data": {
      "text/plain": [
       "'C:\\\\Users\\\\ashis\\\\OneDrive\\\\Documents\\\\summer project\\\\summer project - 3d\\\\week2\\\\new_data\\\\mask\\\\000132_10_2.png'"
      ]
     },
     "metadata": {},
     "output_type": "display_data"
    },
    {
     "data": {
      "text/plain": [
       "'C:\\\\Users\\\\ashis\\\\OneDrive\\\\Documents\\\\summer project\\\\summer project - 3d\\\\week2\\\\new_data\\\\image\\\\000132_10_3.png'"
      ]
     },
     "metadata": {},
     "output_type": "display_data"
    },
    {
     "data": {
      "text/plain": [
       "'C:\\\\Users\\\\ashis\\\\OneDrive\\\\Documents\\\\summer project\\\\summer project - 3d\\\\week2\\\\new_data\\\\mask\\\\000132_10_3.png'"
      ]
     },
     "metadata": {},
     "output_type": "display_data"
    },
    {
     "data": {
      "text/plain": [
       "'C:\\\\Users\\\\ashis\\\\OneDrive\\\\Documents\\\\summer project\\\\summer project - 3d\\\\week2\\\\new_data\\\\image\\\\000132_10_4.png'"
      ]
     },
     "metadata": {},
     "output_type": "display_data"
    },
    {
     "data": {
      "text/plain": [
       "'C:\\\\Users\\\\ashis\\\\OneDrive\\\\Documents\\\\summer project\\\\summer project - 3d\\\\week2\\\\new_data\\\\mask\\\\000132_10_4.png'"
      ]
     },
     "metadata": {},
     "output_type": "display_data"
    },
    {
     "data": {
      "text/plain": [
       "'C:\\\\Users\\\\ashis\\\\OneDrive\\\\Documents\\\\summer project\\\\summer project - 3d\\\\week2\\\\new_data\\\\image\\\\000132_10_5.png'"
      ]
     },
     "metadata": {},
     "output_type": "display_data"
    },
    {
     "data": {
      "text/plain": [
       "'C:\\\\Users\\\\ashis\\\\OneDrive\\\\Documents\\\\summer project\\\\summer project - 3d\\\\week2\\\\new_data\\\\mask\\\\000132_10_5.png'"
      ]
     },
     "metadata": {},
     "output_type": "display_data"
    },
    {
     "name": "stderr",
     "output_type": "stream",
     "text": [
      "\r",
      " 66%|█████████████████████████████████████████████████████▏                          | 133/200 [00:38<00:19,  3.53it/s]"
     ]
    },
    {
     "data": {
      "text/plain": [
       "'C:\\\\Users\\\\ashis\\\\OneDrive\\\\Documents\\\\summer project\\\\summer project - 3d\\\\week2\\\\new_data\\\\image\\\\000133_10_0.png'"
      ]
     },
     "metadata": {},
     "output_type": "display_data"
    },
    {
     "data": {
      "text/plain": [
       "'C:\\\\Users\\\\ashis\\\\OneDrive\\\\Documents\\\\summer project\\\\summer project - 3d\\\\week2\\\\new_data\\\\mask\\\\000133_10_0.png'"
      ]
     },
     "metadata": {},
     "output_type": "display_data"
    },
    {
     "data": {
      "text/plain": [
       "'C:\\\\Users\\\\ashis\\\\OneDrive\\\\Documents\\\\summer project\\\\summer project - 3d\\\\week2\\\\new_data\\\\image\\\\000133_10_1.png'"
      ]
     },
     "metadata": {},
     "output_type": "display_data"
    },
    {
     "data": {
      "text/plain": [
       "'C:\\\\Users\\\\ashis\\\\OneDrive\\\\Documents\\\\summer project\\\\summer project - 3d\\\\week2\\\\new_data\\\\mask\\\\000133_10_1.png'"
      ]
     },
     "metadata": {},
     "output_type": "display_data"
    },
    {
     "data": {
      "text/plain": [
       "'C:\\\\Users\\\\ashis\\\\OneDrive\\\\Documents\\\\summer project\\\\summer project - 3d\\\\week2\\\\new_data\\\\image\\\\000133_10_2.png'"
      ]
     },
     "metadata": {},
     "output_type": "display_data"
    },
    {
     "data": {
      "text/plain": [
       "'C:\\\\Users\\\\ashis\\\\OneDrive\\\\Documents\\\\summer project\\\\summer project - 3d\\\\week2\\\\new_data\\\\mask\\\\000133_10_2.png'"
      ]
     },
     "metadata": {},
     "output_type": "display_data"
    },
    {
     "data": {
      "text/plain": [
       "'C:\\\\Users\\\\ashis\\\\OneDrive\\\\Documents\\\\summer project\\\\summer project - 3d\\\\week2\\\\new_data\\\\image\\\\000133_10_3.png'"
      ]
     },
     "metadata": {},
     "output_type": "display_data"
    },
    {
     "data": {
      "text/plain": [
       "'C:\\\\Users\\\\ashis\\\\OneDrive\\\\Documents\\\\summer project\\\\summer project - 3d\\\\week2\\\\new_data\\\\mask\\\\000133_10_3.png'"
      ]
     },
     "metadata": {},
     "output_type": "display_data"
    },
    {
     "data": {
      "text/plain": [
       "'C:\\\\Users\\\\ashis\\\\OneDrive\\\\Documents\\\\summer project\\\\summer project - 3d\\\\week2\\\\new_data\\\\image\\\\000133_10_4.png'"
      ]
     },
     "metadata": {},
     "output_type": "display_data"
    },
    {
     "data": {
      "text/plain": [
       "'C:\\\\Users\\\\ashis\\\\OneDrive\\\\Documents\\\\summer project\\\\summer project - 3d\\\\week2\\\\new_data\\\\mask\\\\000133_10_4.png'"
      ]
     },
     "metadata": {},
     "output_type": "display_data"
    },
    {
     "data": {
      "text/plain": [
       "'C:\\\\Users\\\\ashis\\\\OneDrive\\\\Documents\\\\summer project\\\\summer project - 3d\\\\week2\\\\new_data\\\\image\\\\000133_10_5.png'"
      ]
     },
     "metadata": {},
     "output_type": "display_data"
    },
    {
     "data": {
      "text/plain": [
       "'C:\\\\Users\\\\ashis\\\\OneDrive\\\\Documents\\\\summer project\\\\summer project - 3d\\\\week2\\\\new_data\\\\mask\\\\000133_10_5.png'"
      ]
     },
     "metadata": {},
     "output_type": "display_data"
    },
    {
     "name": "stderr",
     "output_type": "stream",
     "text": [
      "\r",
      " 67%|█████████████████████████████████████████████████████▌                          | 134/200 [00:38<00:19,  3.35it/s]"
     ]
    },
    {
     "data": {
      "text/plain": [
       "'C:\\\\Users\\\\ashis\\\\OneDrive\\\\Documents\\\\summer project\\\\summer project - 3d\\\\week2\\\\new_data\\\\image\\\\000134_10_0.png'"
      ]
     },
     "metadata": {},
     "output_type": "display_data"
    },
    {
     "data": {
      "text/plain": [
       "'C:\\\\Users\\\\ashis\\\\OneDrive\\\\Documents\\\\summer project\\\\summer project - 3d\\\\week2\\\\new_data\\\\mask\\\\000134_10_0.png'"
      ]
     },
     "metadata": {},
     "output_type": "display_data"
    },
    {
     "data": {
      "text/plain": [
       "'C:\\\\Users\\\\ashis\\\\OneDrive\\\\Documents\\\\summer project\\\\summer project - 3d\\\\week2\\\\new_data\\\\image\\\\000134_10_1.png'"
      ]
     },
     "metadata": {},
     "output_type": "display_data"
    },
    {
     "data": {
      "text/plain": [
       "'C:\\\\Users\\\\ashis\\\\OneDrive\\\\Documents\\\\summer project\\\\summer project - 3d\\\\week2\\\\new_data\\\\mask\\\\000134_10_1.png'"
      ]
     },
     "metadata": {},
     "output_type": "display_data"
    },
    {
     "data": {
      "text/plain": [
       "'C:\\\\Users\\\\ashis\\\\OneDrive\\\\Documents\\\\summer project\\\\summer project - 3d\\\\week2\\\\new_data\\\\image\\\\000134_10_2.png'"
      ]
     },
     "metadata": {},
     "output_type": "display_data"
    },
    {
     "data": {
      "text/plain": [
       "'C:\\\\Users\\\\ashis\\\\OneDrive\\\\Documents\\\\summer project\\\\summer project - 3d\\\\week2\\\\new_data\\\\mask\\\\000134_10_2.png'"
      ]
     },
     "metadata": {},
     "output_type": "display_data"
    },
    {
     "data": {
      "text/plain": [
       "'C:\\\\Users\\\\ashis\\\\OneDrive\\\\Documents\\\\summer project\\\\summer project - 3d\\\\week2\\\\new_data\\\\image\\\\000134_10_3.png'"
      ]
     },
     "metadata": {},
     "output_type": "display_data"
    },
    {
     "data": {
      "text/plain": [
       "'C:\\\\Users\\\\ashis\\\\OneDrive\\\\Documents\\\\summer project\\\\summer project - 3d\\\\week2\\\\new_data\\\\mask\\\\000134_10_3.png'"
      ]
     },
     "metadata": {},
     "output_type": "display_data"
    },
    {
     "data": {
      "text/plain": [
       "'C:\\\\Users\\\\ashis\\\\OneDrive\\\\Documents\\\\summer project\\\\summer project - 3d\\\\week2\\\\new_data\\\\image\\\\000134_10_4.png'"
      ]
     },
     "metadata": {},
     "output_type": "display_data"
    },
    {
     "data": {
      "text/plain": [
       "'C:\\\\Users\\\\ashis\\\\OneDrive\\\\Documents\\\\summer project\\\\summer project - 3d\\\\week2\\\\new_data\\\\mask\\\\000134_10_4.png'"
      ]
     },
     "metadata": {},
     "output_type": "display_data"
    },
    {
     "data": {
      "text/plain": [
       "'C:\\\\Users\\\\ashis\\\\OneDrive\\\\Documents\\\\summer project\\\\summer project - 3d\\\\week2\\\\new_data\\\\image\\\\000134_10_5.png'"
      ]
     },
     "metadata": {},
     "output_type": "display_data"
    },
    {
     "data": {
      "text/plain": [
       "'C:\\\\Users\\\\ashis\\\\OneDrive\\\\Documents\\\\summer project\\\\summer project - 3d\\\\week2\\\\new_data\\\\mask\\\\000134_10_5.png'"
      ]
     },
     "metadata": {},
     "output_type": "display_data"
    },
    {
     "name": "stderr",
     "output_type": "stream",
     "text": [
      "\r",
      " 68%|██████████████████████████████████████████████████████                          | 135/200 [00:38<00:18,  3.48it/s]"
     ]
    },
    {
     "data": {
      "text/plain": [
       "'C:\\\\Users\\\\ashis\\\\OneDrive\\\\Documents\\\\summer project\\\\summer project - 3d\\\\week2\\\\new_data\\\\image\\\\000135_10_0.png'"
      ]
     },
     "metadata": {},
     "output_type": "display_data"
    },
    {
     "data": {
      "text/plain": [
       "'C:\\\\Users\\\\ashis\\\\OneDrive\\\\Documents\\\\summer project\\\\summer project - 3d\\\\week2\\\\new_data\\\\mask\\\\000135_10_0.png'"
      ]
     },
     "metadata": {},
     "output_type": "display_data"
    },
    {
     "data": {
      "text/plain": [
       "'C:\\\\Users\\\\ashis\\\\OneDrive\\\\Documents\\\\summer project\\\\summer project - 3d\\\\week2\\\\new_data\\\\image\\\\000135_10_1.png'"
      ]
     },
     "metadata": {},
     "output_type": "display_data"
    },
    {
     "data": {
      "text/plain": [
       "'C:\\\\Users\\\\ashis\\\\OneDrive\\\\Documents\\\\summer project\\\\summer project - 3d\\\\week2\\\\new_data\\\\mask\\\\000135_10_1.png'"
      ]
     },
     "metadata": {},
     "output_type": "display_data"
    },
    {
     "data": {
      "text/plain": [
       "'C:\\\\Users\\\\ashis\\\\OneDrive\\\\Documents\\\\summer project\\\\summer project - 3d\\\\week2\\\\new_data\\\\image\\\\000135_10_2.png'"
      ]
     },
     "metadata": {},
     "output_type": "display_data"
    },
    {
     "data": {
      "text/plain": [
       "'C:\\\\Users\\\\ashis\\\\OneDrive\\\\Documents\\\\summer project\\\\summer project - 3d\\\\week2\\\\new_data\\\\mask\\\\000135_10_2.png'"
      ]
     },
     "metadata": {},
     "output_type": "display_data"
    },
    {
     "data": {
      "text/plain": [
       "'C:\\\\Users\\\\ashis\\\\OneDrive\\\\Documents\\\\summer project\\\\summer project - 3d\\\\week2\\\\new_data\\\\image\\\\000135_10_3.png'"
      ]
     },
     "metadata": {},
     "output_type": "display_data"
    },
    {
     "data": {
      "text/plain": [
       "'C:\\\\Users\\\\ashis\\\\OneDrive\\\\Documents\\\\summer project\\\\summer project - 3d\\\\week2\\\\new_data\\\\mask\\\\000135_10_3.png'"
      ]
     },
     "metadata": {},
     "output_type": "display_data"
    },
    {
     "data": {
      "text/plain": [
       "'C:\\\\Users\\\\ashis\\\\OneDrive\\\\Documents\\\\summer project\\\\summer project - 3d\\\\week2\\\\new_data\\\\image\\\\000135_10_4.png'"
      ]
     },
     "metadata": {},
     "output_type": "display_data"
    },
    {
     "data": {
      "text/plain": [
       "'C:\\\\Users\\\\ashis\\\\OneDrive\\\\Documents\\\\summer project\\\\summer project - 3d\\\\week2\\\\new_data\\\\mask\\\\000135_10_4.png'"
      ]
     },
     "metadata": {},
     "output_type": "display_data"
    },
    {
     "data": {
      "text/plain": [
       "'C:\\\\Users\\\\ashis\\\\OneDrive\\\\Documents\\\\summer project\\\\summer project - 3d\\\\week2\\\\new_data\\\\image\\\\000135_10_5.png'"
      ]
     },
     "metadata": {},
     "output_type": "display_data"
    },
    {
     "data": {
      "text/plain": [
       "'C:\\\\Users\\\\ashis\\\\OneDrive\\\\Documents\\\\summer project\\\\summer project - 3d\\\\week2\\\\new_data\\\\mask\\\\000135_10_5.png'"
      ]
     },
     "metadata": {},
     "output_type": "display_data"
    },
    {
     "name": "stderr",
     "output_type": "stream",
     "text": [
      "\r",
      " 68%|██████████████████████████████████████████████████████▍                         | 136/200 [00:38<00:18,  3.54it/s]"
     ]
    },
    {
     "data": {
      "text/plain": [
       "'C:\\\\Users\\\\ashis\\\\OneDrive\\\\Documents\\\\summer project\\\\summer project - 3d\\\\week2\\\\new_data\\\\image\\\\000136_10_0.png'"
      ]
     },
     "metadata": {},
     "output_type": "display_data"
    },
    {
     "data": {
      "text/plain": [
       "'C:\\\\Users\\\\ashis\\\\OneDrive\\\\Documents\\\\summer project\\\\summer project - 3d\\\\week2\\\\new_data\\\\mask\\\\000136_10_0.png'"
      ]
     },
     "metadata": {},
     "output_type": "display_data"
    },
    {
     "data": {
      "text/plain": [
       "'C:\\\\Users\\\\ashis\\\\OneDrive\\\\Documents\\\\summer project\\\\summer project - 3d\\\\week2\\\\new_data\\\\image\\\\000136_10_1.png'"
      ]
     },
     "metadata": {},
     "output_type": "display_data"
    },
    {
     "data": {
      "text/plain": [
       "'C:\\\\Users\\\\ashis\\\\OneDrive\\\\Documents\\\\summer project\\\\summer project - 3d\\\\week2\\\\new_data\\\\mask\\\\000136_10_1.png'"
      ]
     },
     "metadata": {},
     "output_type": "display_data"
    },
    {
     "data": {
      "text/plain": [
       "'C:\\\\Users\\\\ashis\\\\OneDrive\\\\Documents\\\\summer project\\\\summer project - 3d\\\\week2\\\\new_data\\\\image\\\\000136_10_2.png'"
      ]
     },
     "metadata": {},
     "output_type": "display_data"
    },
    {
     "data": {
      "text/plain": [
       "'C:\\\\Users\\\\ashis\\\\OneDrive\\\\Documents\\\\summer project\\\\summer project - 3d\\\\week2\\\\new_data\\\\mask\\\\000136_10_2.png'"
      ]
     },
     "metadata": {},
     "output_type": "display_data"
    },
    {
     "data": {
      "text/plain": [
       "'C:\\\\Users\\\\ashis\\\\OneDrive\\\\Documents\\\\summer project\\\\summer project - 3d\\\\week2\\\\new_data\\\\image\\\\000136_10_3.png'"
      ]
     },
     "metadata": {},
     "output_type": "display_data"
    },
    {
     "data": {
      "text/plain": [
       "'C:\\\\Users\\\\ashis\\\\OneDrive\\\\Documents\\\\summer project\\\\summer project - 3d\\\\week2\\\\new_data\\\\mask\\\\000136_10_3.png'"
      ]
     },
     "metadata": {},
     "output_type": "display_data"
    },
    {
     "data": {
      "text/plain": [
       "'C:\\\\Users\\\\ashis\\\\OneDrive\\\\Documents\\\\summer project\\\\summer project - 3d\\\\week2\\\\new_data\\\\image\\\\000136_10_4.png'"
      ]
     },
     "metadata": {},
     "output_type": "display_data"
    },
    {
     "data": {
      "text/plain": [
       "'C:\\\\Users\\\\ashis\\\\OneDrive\\\\Documents\\\\summer project\\\\summer project - 3d\\\\week2\\\\new_data\\\\mask\\\\000136_10_4.png'"
      ]
     },
     "metadata": {},
     "output_type": "display_data"
    },
    {
     "data": {
      "text/plain": [
       "'C:\\\\Users\\\\ashis\\\\OneDrive\\\\Documents\\\\summer project\\\\summer project - 3d\\\\week2\\\\new_data\\\\image\\\\000136_10_5.png'"
      ]
     },
     "metadata": {},
     "output_type": "display_data"
    },
    {
     "data": {
      "text/plain": [
       "'C:\\\\Users\\\\ashis\\\\OneDrive\\\\Documents\\\\summer project\\\\summer project - 3d\\\\week2\\\\new_data\\\\mask\\\\000136_10_5.png'"
      ]
     },
     "metadata": {},
     "output_type": "display_data"
    },
    {
     "name": "stderr",
     "output_type": "stream",
     "text": [
      "\r",
      " 68%|██████████████████████████████████████████████████████▊                         | 137/200 [00:39<00:18,  3.48it/s]"
     ]
    },
    {
     "data": {
      "text/plain": [
       "'C:\\\\Users\\\\ashis\\\\OneDrive\\\\Documents\\\\summer project\\\\summer project - 3d\\\\week2\\\\new_data\\\\image\\\\000137_10_0.png'"
      ]
     },
     "metadata": {},
     "output_type": "display_data"
    },
    {
     "data": {
      "text/plain": [
       "'C:\\\\Users\\\\ashis\\\\OneDrive\\\\Documents\\\\summer project\\\\summer project - 3d\\\\week2\\\\new_data\\\\mask\\\\000137_10_0.png'"
      ]
     },
     "metadata": {},
     "output_type": "display_data"
    },
    {
     "data": {
      "text/plain": [
       "'C:\\\\Users\\\\ashis\\\\OneDrive\\\\Documents\\\\summer project\\\\summer project - 3d\\\\week2\\\\new_data\\\\image\\\\000137_10_1.png'"
      ]
     },
     "metadata": {},
     "output_type": "display_data"
    },
    {
     "data": {
      "text/plain": [
       "'C:\\\\Users\\\\ashis\\\\OneDrive\\\\Documents\\\\summer project\\\\summer project - 3d\\\\week2\\\\new_data\\\\mask\\\\000137_10_1.png'"
      ]
     },
     "metadata": {},
     "output_type": "display_data"
    },
    {
     "data": {
      "text/plain": [
       "'C:\\\\Users\\\\ashis\\\\OneDrive\\\\Documents\\\\summer project\\\\summer project - 3d\\\\week2\\\\new_data\\\\image\\\\000137_10_2.png'"
      ]
     },
     "metadata": {},
     "output_type": "display_data"
    },
    {
     "data": {
      "text/plain": [
       "'C:\\\\Users\\\\ashis\\\\OneDrive\\\\Documents\\\\summer project\\\\summer project - 3d\\\\week2\\\\new_data\\\\mask\\\\000137_10_2.png'"
      ]
     },
     "metadata": {},
     "output_type": "display_data"
    },
    {
     "data": {
      "text/plain": [
       "'C:\\\\Users\\\\ashis\\\\OneDrive\\\\Documents\\\\summer project\\\\summer project - 3d\\\\week2\\\\new_data\\\\image\\\\000137_10_3.png'"
      ]
     },
     "metadata": {},
     "output_type": "display_data"
    },
    {
     "data": {
      "text/plain": [
       "'C:\\\\Users\\\\ashis\\\\OneDrive\\\\Documents\\\\summer project\\\\summer project - 3d\\\\week2\\\\new_data\\\\mask\\\\000137_10_3.png'"
      ]
     },
     "metadata": {},
     "output_type": "display_data"
    },
    {
     "data": {
      "text/plain": [
       "'C:\\\\Users\\\\ashis\\\\OneDrive\\\\Documents\\\\summer project\\\\summer project - 3d\\\\week2\\\\new_data\\\\image\\\\000137_10_4.png'"
      ]
     },
     "metadata": {},
     "output_type": "display_data"
    },
    {
     "data": {
      "text/plain": [
       "'C:\\\\Users\\\\ashis\\\\OneDrive\\\\Documents\\\\summer project\\\\summer project - 3d\\\\week2\\\\new_data\\\\mask\\\\000137_10_4.png'"
      ]
     },
     "metadata": {},
     "output_type": "display_data"
    },
    {
     "data": {
      "text/plain": [
       "'C:\\\\Users\\\\ashis\\\\OneDrive\\\\Documents\\\\summer project\\\\summer project - 3d\\\\week2\\\\new_data\\\\image\\\\000137_10_5.png'"
      ]
     },
     "metadata": {},
     "output_type": "display_data"
    },
    {
     "data": {
      "text/plain": [
       "'C:\\\\Users\\\\ashis\\\\OneDrive\\\\Documents\\\\summer project\\\\summer project - 3d\\\\week2\\\\new_data\\\\mask\\\\000137_10_5.png'"
      ]
     },
     "metadata": {},
     "output_type": "display_data"
    },
    {
     "name": "stderr",
     "output_type": "stream",
     "text": [
      "\r",
      " 69%|███████████████████████████████████████████████████████▏                        | 138/200 [00:39<00:17,  3.48it/s]"
     ]
    },
    {
     "data": {
      "text/plain": [
       "'C:\\\\Users\\\\ashis\\\\OneDrive\\\\Documents\\\\summer project\\\\summer project - 3d\\\\week2\\\\new_data\\\\image\\\\000138_10_0.png'"
      ]
     },
     "metadata": {},
     "output_type": "display_data"
    },
    {
     "data": {
      "text/plain": [
       "'C:\\\\Users\\\\ashis\\\\OneDrive\\\\Documents\\\\summer project\\\\summer project - 3d\\\\week2\\\\new_data\\\\mask\\\\000138_10_0.png'"
      ]
     },
     "metadata": {},
     "output_type": "display_data"
    },
    {
     "data": {
      "text/plain": [
       "'C:\\\\Users\\\\ashis\\\\OneDrive\\\\Documents\\\\summer project\\\\summer project - 3d\\\\week2\\\\new_data\\\\image\\\\000138_10_1.png'"
      ]
     },
     "metadata": {},
     "output_type": "display_data"
    },
    {
     "data": {
      "text/plain": [
       "'C:\\\\Users\\\\ashis\\\\OneDrive\\\\Documents\\\\summer project\\\\summer project - 3d\\\\week2\\\\new_data\\\\mask\\\\000138_10_1.png'"
      ]
     },
     "metadata": {},
     "output_type": "display_data"
    },
    {
     "data": {
      "text/plain": [
       "'C:\\\\Users\\\\ashis\\\\OneDrive\\\\Documents\\\\summer project\\\\summer project - 3d\\\\week2\\\\new_data\\\\image\\\\000138_10_2.png'"
      ]
     },
     "metadata": {},
     "output_type": "display_data"
    },
    {
     "data": {
      "text/plain": [
       "'C:\\\\Users\\\\ashis\\\\OneDrive\\\\Documents\\\\summer project\\\\summer project - 3d\\\\week2\\\\new_data\\\\mask\\\\000138_10_2.png'"
      ]
     },
     "metadata": {},
     "output_type": "display_data"
    },
    {
     "data": {
      "text/plain": [
       "'C:\\\\Users\\\\ashis\\\\OneDrive\\\\Documents\\\\summer project\\\\summer project - 3d\\\\week2\\\\new_data\\\\image\\\\000138_10_3.png'"
      ]
     },
     "metadata": {},
     "output_type": "display_data"
    },
    {
     "data": {
      "text/plain": [
       "'C:\\\\Users\\\\ashis\\\\OneDrive\\\\Documents\\\\summer project\\\\summer project - 3d\\\\week2\\\\new_data\\\\mask\\\\000138_10_3.png'"
      ]
     },
     "metadata": {},
     "output_type": "display_data"
    },
    {
     "data": {
      "text/plain": [
       "'C:\\\\Users\\\\ashis\\\\OneDrive\\\\Documents\\\\summer project\\\\summer project - 3d\\\\week2\\\\new_data\\\\image\\\\000138_10_4.png'"
      ]
     },
     "metadata": {},
     "output_type": "display_data"
    },
    {
     "data": {
      "text/plain": [
       "'C:\\\\Users\\\\ashis\\\\OneDrive\\\\Documents\\\\summer project\\\\summer project - 3d\\\\week2\\\\new_data\\\\mask\\\\000138_10_4.png'"
      ]
     },
     "metadata": {},
     "output_type": "display_data"
    },
    {
     "data": {
      "text/plain": [
       "'C:\\\\Users\\\\ashis\\\\OneDrive\\\\Documents\\\\summer project\\\\summer project - 3d\\\\week2\\\\new_data\\\\image\\\\000138_10_5.png'"
      ]
     },
     "metadata": {},
     "output_type": "display_data"
    },
    {
     "data": {
      "text/plain": [
       "'C:\\\\Users\\\\ashis\\\\OneDrive\\\\Documents\\\\summer project\\\\summer project - 3d\\\\week2\\\\new_data\\\\mask\\\\000138_10_5.png'"
      ]
     },
     "metadata": {},
     "output_type": "display_data"
    },
    {
     "name": "stderr",
     "output_type": "stream",
     "text": [
      "\r",
      " 70%|███████████████████████████████████████████████████████▌                        | 139/200 [00:39<00:17,  3.55it/s]"
     ]
    },
    {
     "data": {
      "text/plain": [
       "'C:\\\\Users\\\\ashis\\\\OneDrive\\\\Documents\\\\summer project\\\\summer project - 3d\\\\week2\\\\new_data\\\\image\\\\000139_10_0.png'"
      ]
     },
     "metadata": {},
     "output_type": "display_data"
    },
    {
     "data": {
      "text/plain": [
       "'C:\\\\Users\\\\ashis\\\\OneDrive\\\\Documents\\\\summer project\\\\summer project - 3d\\\\week2\\\\new_data\\\\mask\\\\000139_10_0.png'"
      ]
     },
     "metadata": {},
     "output_type": "display_data"
    },
    {
     "data": {
      "text/plain": [
       "'C:\\\\Users\\\\ashis\\\\OneDrive\\\\Documents\\\\summer project\\\\summer project - 3d\\\\week2\\\\new_data\\\\image\\\\000139_10_1.png'"
      ]
     },
     "metadata": {},
     "output_type": "display_data"
    },
    {
     "data": {
      "text/plain": [
       "'C:\\\\Users\\\\ashis\\\\OneDrive\\\\Documents\\\\summer project\\\\summer project - 3d\\\\week2\\\\new_data\\\\mask\\\\000139_10_1.png'"
      ]
     },
     "metadata": {},
     "output_type": "display_data"
    },
    {
     "data": {
      "text/plain": [
       "'C:\\\\Users\\\\ashis\\\\OneDrive\\\\Documents\\\\summer project\\\\summer project - 3d\\\\week2\\\\new_data\\\\image\\\\000139_10_2.png'"
      ]
     },
     "metadata": {},
     "output_type": "display_data"
    },
    {
     "data": {
      "text/plain": [
       "'C:\\\\Users\\\\ashis\\\\OneDrive\\\\Documents\\\\summer project\\\\summer project - 3d\\\\week2\\\\new_data\\\\mask\\\\000139_10_2.png'"
      ]
     },
     "metadata": {},
     "output_type": "display_data"
    },
    {
     "data": {
      "text/plain": [
       "'C:\\\\Users\\\\ashis\\\\OneDrive\\\\Documents\\\\summer project\\\\summer project - 3d\\\\week2\\\\new_data\\\\image\\\\000139_10_3.png'"
      ]
     },
     "metadata": {},
     "output_type": "display_data"
    },
    {
     "data": {
      "text/plain": [
       "'C:\\\\Users\\\\ashis\\\\OneDrive\\\\Documents\\\\summer project\\\\summer project - 3d\\\\week2\\\\new_data\\\\mask\\\\000139_10_3.png'"
      ]
     },
     "metadata": {},
     "output_type": "display_data"
    },
    {
     "data": {
      "text/plain": [
       "'C:\\\\Users\\\\ashis\\\\OneDrive\\\\Documents\\\\summer project\\\\summer project - 3d\\\\week2\\\\new_data\\\\image\\\\000139_10_4.png'"
      ]
     },
     "metadata": {},
     "output_type": "display_data"
    },
    {
     "data": {
      "text/plain": [
       "'C:\\\\Users\\\\ashis\\\\OneDrive\\\\Documents\\\\summer project\\\\summer project - 3d\\\\week2\\\\new_data\\\\mask\\\\000139_10_4.png'"
      ]
     },
     "metadata": {},
     "output_type": "display_data"
    },
    {
     "data": {
      "text/plain": [
       "'C:\\\\Users\\\\ashis\\\\OneDrive\\\\Documents\\\\summer project\\\\summer project - 3d\\\\week2\\\\new_data\\\\image\\\\000139_10_5.png'"
      ]
     },
     "metadata": {},
     "output_type": "display_data"
    },
    {
     "data": {
      "text/plain": [
       "'C:\\\\Users\\\\ashis\\\\OneDrive\\\\Documents\\\\summer project\\\\summer project - 3d\\\\week2\\\\new_data\\\\mask\\\\000139_10_5.png'"
      ]
     },
     "metadata": {},
     "output_type": "display_data"
    },
    {
     "name": "stderr",
     "output_type": "stream",
     "text": [
      "\r",
      " 70%|████████████████████████████████████████████████████████                        | 140/200 [00:40<00:17,  3.45it/s]"
     ]
    },
    {
     "data": {
      "text/plain": [
       "'C:\\\\Users\\\\ashis\\\\OneDrive\\\\Documents\\\\summer project\\\\summer project - 3d\\\\week2\\\\new_data\\\\image\\\\000140_10_0.png'"
      ]
     },
     "metadata": {},
     "output_type": "display_data"
    },
    {
     "data": {
      "text/plain": [
       "'C:\\\\Users\\\\ashis\\\\OneDrive\\\\Documents\\\\summer project\\\\summer project - 3d\\\\week2\\\\new_data\\\\mask\\\\000140_10_0.png'"
      ]
     },
     "metadata": {},
     "output_type": "display_data"
    },
    {
     "data": {
      "text/plain": [
       "'C:\\\\Users\\\\ashis\\\\OneDrive\\\\Documents\\\\summer project\\\\summer project - 3d\\\\week2\\\\new_data\\\\image\\\\000140_10_1.png'"
      ]
     },
     "metadata": {},
     "output_type": "display_data"
    },
    {
     "data": {
      "text/plain": [
       "'C:\\\\Users\\\\ashis\\\\OneDrive\\\\Documents\\\\summer project\\\\summer project - 3d\\\\week2\\\\new_data\\\\mask\\\\000140_10_1.png'"
      ]
     },
     "metadata": {},
     "output_type": "display_data"
    },
    {
     "data": {
      "text/plain": [
       "'C:\\\\Users\\\\ashis\\\\OneDrive\\\\Documents\\\\summer project\\\\summer project - 3d\\\\week2\\\\new_data\\\\image\\\\000140_10_2.png'"
      ]
     },
     "metadata": {},
     "output_type": "display_data"
    },
    {
     "data": {
      "text/plain": [
       "'C:\\\\Users\\\\ashis\\\\OneDrive\\\\Documents\\\\summer project\\\\summer project - 3d\\\\week2\\\\new_data\\\\mask\\\\000140_10_2.png'"
      ]
     },
     "metadata": {},
     "output_type": "display_data"
    },
    {
     "data": {
      "text/plain": [
       "'C:\\\\Users\\\\ashis\\\\OneDrive\\\\Documents\\\\summer project\\\\summer project - 3d\\\\week2\\\\new_data\\\\image\\\\000140_10_3.png'"
      ]
     },
     "metadata": {},
     "output_type": "display_data"
    },
    {
     "data": {
      "text/plain": [
       "'C:\\\\Users\\\\ashis\\\\OneDrive\\\\Documents\\\\summer project\\\\summer project - 3d\\\\week2\\\\new_data\\\\mask\\\\000140_10_3.png'"
      ]
     },
     "metadata": {},
     "output_type": "display_data"
    },
    {
     "data": {
      "text/plain": [
       "'C:\\\\Users\\\\ashis\\\\OneDrive\\\\Documents\\\\summer project\\\\summer project - 3d\\\\week2\\\\new_data\\\\image\\\\000140_10_4.png'"
      ]
     },
     "metadata": {},
     "output_type": "display_data"
    },
    {
     "data": {
      "text/plain": [
       "'C:\\\\Users\\\\ashis\\\\OneDrive\\\\Documents\\\\summer project\\\\summer project - 3d\\\\week2\\\\new_data\\\\mask\\\\000140_10_4.png'"
      ]
     },
     "metadata": {},
     "output_type": "display_data"
    },
    {
     "data": {
      "text/plain": [
       "'C:\\\\Users\\\\ashis\\\\OneDrive\\\\Documents\\\\summer project\\\\summer project - 3d\\\\week2\\\\new_data\\\\image\\\\000140_10_5.png'"
      ]
     },
     "metadata": {},
     "output_type": "display_data"
    },
    {
     "data": {
      "text/plain": [
       "'C:\\\\Users\\\\ashis\\\\OneDrive\\\\Documents\\\\summer project\\\\summer project - 3d\\\\week2\\\\new_data\\\\mask\\\\000140_10_5.png'"
      ]
     },
     "metadata": {},
     "output_type": "display_data"
    },
    {
     "name": "stderr",
     "output_type": "stream",
     "text": [
      "\r",
      " 70%|████████████████████████████████████████████████████████▍                       | 141/200 [00:40<00:16,  3.53it/s]"
     ]
    },
    {
     "data": {
      "text/plain": [
       "'C:\\\\Users\\\\ashis\\\\OneDrive\\\\Documents\\\\summer project\\\\summer project - 3d\\\\week2\\\\new_data\\\\image\\\\000141_10_0.png'"
      ]
     },
     "metadata": {},
     "output_type": "display_data"
    },
    {
     "data": {
      "text/plain": [
       "'C:\\\\Users\\\\ashis\\\\OneDrive\\\\Documents\\\\summer project\\\\summer project - 3d\\\\week2\\\\new_data\\\\mask\\\\000141_10_0.png'"
      ]
     },
     "metadata": {},
     "output_type": "display_data"
    },
    {
     "data": {
      "text/plain": [
       "'C:\\\\Users\\\\ashis\\\\OneDrive\\\\Documents\\\\summer project\\\\summer project - 3d\\\\week2\\\\new_data\\\\image\\\\000141_10_1.png'"
      ]
     },
     "metadata": {},
     "output_type": "display_data"
    },
    {
     "data": {
      "text/plain": [
       "'C:\\\\Users\\\\ashis\\\\OneDrive\\\\Documents\\\\summer project\\\\summer project - 3d\\\\week2\\\\new_data\\\\mask\\\\000141_10_1.png'"
      ]
     },
     "metadata": {},
     "output_type": "display_data"
    },
    {
     "data": {
      "text/plain": [
       "'C:\\\\Users\\\\ashis\\\\OneDrive\\\\Documents\\\\summer project\\\\summer project - 3d\\\\week2\\\\new_data\\\\image\\\\000141_10_2.png'"
      ]
     },
     "metadata": {},
     "output_type": "display_data"
    },
    {
     "data": {
      "text/plain": [
       "'C:\\\\Users\\\\ashis\\\\OneDrive\\\\Documents\\\\summer project\\\\summer project - 3d\\\\week2\\\\new_data\\\\mask\\\\000141_10_2.png'"
      ]
     },
     "metadata": {},
     "output_type": "display_data"
    },
    {
     "data": {
      "text/plain": [
       "'C:\\\\Users\\\\ashis\\\\OneDrive\\\\Documents\\\\summer project\\\\summer project - 3d\\\\week2\\\\new_data\\\\image\\\\000141_10_3.png'"
      ]
     },
     "metadata": {},
     "output_type": "display_data"
    },
    {
     "data": {
      "text/plain": [
       "'C:\\\\Users\\\\ashis\\\\OneDrive\\\\Documents\\\\summer project\\\\summer project - 3d\\\\week2\\\\new_data\\\\mask\\\\000141_10_3.png'"
      ]
     },
     "metadata": {},
     "output_type": "display_data"
    },
    {
     "data": {
      "text/plain": [
       "'C:\\\\Users\\\\ashis\\\\OneDrive\\\\Documents\\\\summer project\\\\summer project - 3d\\\\week2\\\\new_data\\\\image\\\\000141_10_4.png'"
      ]
     },
     "metadata": {},
     "output_type": "display_data"
    },
    {
     "data": {
      "text/plain": [
       "'C:\\\\Users\\\\ashis\\\\OneDrive\\\\Documents\\\\summer project\\\\summer project - 3d\\\\week2\\\\new_data\\\\mask\\\\000141_10_4.png'"
      ]
     },
     "metadata": {},
     "output_type": "display_data"
    },
    {
     "data": {
      "text/plain": [
       "'C:\\\\Users\\\\ashis\\\\OneDrive\\\\Documents\\\\summer project\\\\summer project - 3d\\\\week2\\\\new_data\\\\image\\\\000141_10_5.png'"
      ]
     },
     "metadata": {},
     "output_type": "display_data"
    },
    {
     "data": {
      "text/plain": [
       "'C:\\\\Users\\\\ashis\\\\OneDrive\\\\Documents\\\\summer project\\\\summer project - 3d\\\\week2\\\\new_data\\\\mask\\\\000141_10_5.png'"
      ]
     },
     "metadata": {},
     "output_type": "display_data"
    },
    {
     "name": "stderr",
     "output_type": "stream",
     "text": [
      "\r",
      " 71%|████████████████████████████████████████████████████████▊                       | 142/200 [00:40<00:16,  3.56it/s]"
     ]
    },
    {
     "data": {
      "text/plain": [
       "'C:\\\\Users\\\\ashis\\\\OneDrive\\\\Documents\\\\summer project\\\\summer project - 3d\\\\week2\\\\new_data\\\\image\\\\000142_10_0.png'"
      ]
     },
     "metadata": {},
     "output_type": "display_data"
    },
    {
     "data": {
      "text/plain": [
       "'C:\\\\Users\\\\ashis\\\\OneDrive\\\\Documents\\\\summer project\\\\summer project - 3d\\\\week2\\\\new_data\\\\mask\\\\000142_10_0.png'"
      ]
     },
     "metadata": {},
     "output_type": "display_data"
    },
    {
     "data": {
      "text/plain": [
       "'C:\\\\Users\\\\ashis\\\\OneDrive\\\\Documents\\\\summer project\\\\summer project - 3d\\\\week2\\\\new_data\\\\image\\\\000142_10_1.png'"
      ]
     },
     "metadata": {},
     "output_type": "display_data"
    },
    {
     "data": {
      "text/plain": [
       "'C:\\\\Users\\\\ashis\\\\OneDrive\\\\Documents\\\\summer project\\\\summer project - 3d\\\\week2\\\\new_data\\\\mask\\\\000142_10_1.png'"
      ]
     },
     "metadata": {},
     "output_type": "display_data"
    },
    {
     "data": {
      "text/plain": [
       "'C:\\\\Users\\\\ashis\\\\OneDrive\\\\Documents\\\\summer project\\\\summer project - 3d\\\\week2\\\\new_data\\\\image\\\\000142_10_2.png'"
      ]
     },
     "metadata": {},
     "output_type": "display_data"
    },
    {
     "data": {
      "text/plain": [
       "'C:\\\\Users\\\\ashis\\\\OneDrive\\\\Documents\\\\summer project\\\\summer project - 3d\\\\week2\\\\new_data\\\\mask\\\\000142_10_2.png'"
      ]
     },
     "metadata": {},
     "output_type": "display_data"
    },
    {
     "data": {
      "text/plain": [
       "'C:\\\\Users\\\\ashis\\\\OneDrive\\\\Documents\\\\summer project\\\\summer project - 3d\\\\week2\\\\new_data\\\\image\\\\000142_10_3.png'"
      ]
     },
     "metadata": {},
     "output_type": "display_data"
    },
    {
     "data": {
      "text/plain": [
       "'C:\\\\Users\\\\ashis\\\\OneDrive\\\\Documents\\\\summer project\\\\summer project - 3d\\\\week2\\\\new_data\\\\mask\\\\000142_10_3.png'"
      ]
     },
     "metadata": {},
     "output_type": "display_data"
    },
    {
     "data": {
      "text/plain": [
       "'C:\\\\Users\\\\ashis\\\\OneDrive\\\\Documents\\\\summer project\\\\summer project - 3d\\\\week2\\\\new_data\\\\image\\\\000142_10_4.png'"
      ]
     },
     "metadata": {},
     "output_type": "display_data"
    },
    {
     "data": {
      "text/plain": [
       "'C:\\\\Users\\\\ashis\\\\OneDrive\\\\Documents\\\\summer project\\\\summer project - 3d\\\\week2\\\\new_data\\\\mask\\\\000142_10_4.png'"
      ]
     },
     "metadata": {},
     "output_type": "display_data"
    },
    {
     "data": {
      "text/plain": [
       "'C:\\\\Users\\\\ashis\\\\OneDrive\\\\Documents\\\\summer project\\\\summer project - 3d\\\\week2\\\\new_data\\\\image\\\\000142_10_5.png'"
      ]
     },
     "metadata": {},
     "output_type": "display_data"
    },
    {
     "data": {
      "text/plain": [
       "'C:\\\\Users\\\\ashis\\\\OneDrive\\\\Documents\\\\summer project\\\\summer project - 3d\\\\week2\\\\new_data\\\\mask\\\\000142_10_5.png'"
      ]
     },
     "metadata": {},
     "output_type": "display_data"
    },
    {
     "name": "stderr",
     "output_type": "stream",
     "text": [
      "\r",
      " 72%|█████████████████████████████████████████████████████████▏                      | 143/200 [00:40<00:16,  3.51it/s]"
     ]
    },
    {
     "data": {
      "text/plain": [
       "'C:\\\\Users\\\\ashis\\\\OneDrive\\\\Documents\\\\summer project\\\\summer project - 3d\\\\week2\\\\new_data\\\\image\\\\000143_10_0.png'"
      ]
     },
     "metadata": {},
     "output_type": "display_data"
    },
    {
     "data": {
      "text/plain": [
       "'C:\\\\Users\\\\ashis\\\\OneDrive\\\\Documents\\\\summer project\\\\summer project - 3d\\\\week2\\\\new_data\\\\mask\\\\000143_10_0.png'"
      ]
     },
     "metadata": {},
     "output_type": "display_data"
    },
    {
     "data": {
      "text/plain": [
       "'C:\\\\Users\\\\ashis\\\\OneDrive\\\\Documents\\\\summer project\\\\summer project - 3d\\\\week2\\\\new_data\\\\image\\\\000143_10_1.png'"
      ]
     },
     "metadata": {},
     "output_type": "display_data"
    },
    {
     "data": {
      "text/plain": [
       "'C:\\\\Users\\\\ashis\\\\OneDrive\\\\Documents\\\\summer project\\\\summer project - 3d\\\\week2\\\\new_data\\\\mask\\\\000143_10_1.png'"
      ]
     },
     "metadata": {},
     "output_type": "display_data"
    },
    {
     "data": {
      "text/plain": [
       "'C:\\\\Users\\\\ashis\\\\OneDrive\\\\Documents\\\\summer project\\\\summer project - 3d\\\\week2\\\\new_data\\\\image\\\\000143_10_2.png'"
      ]
     },
     "metadata": {},
     "output_type": "display_data"
    },
    {
     "data": {
      "text/plain": [
       "'C:\\\\Users\\\\ashis\\\\OneDrive\\\\Documents\\\\summer project\\\\summer project - 3d\\\\week2\\\\new_data\\\\mask\\\\000143_10_2.png'"
      ]
     },
     "metadata": {},
     "output_type": "display_data"
    },
    {
     "data": {
      "text/plain": [
       "'C:\\\\Users\\\\ashis\\\\OneDrive\\\\Documents\\\\summer project\\\\summer project - 3d\\\\week2\\\\new_data\\\\image\\\\000143_10_3.png'"
      ]
     },
     "metadata": {},
     "output_type": "display_data"
    },
    {
     "data": {
      "text/plain": [
       "'C:\\\\Users\\\\ashis\\\\OneDrive\\\\Documents\\\\summer project\\\\summer project - 3d\\\\week2\\\\new_data\\\\mask\\\\000143_10_3.png'"
      ]
     },
     "metadata": {},
     "output_type": "display_data"
    },
    {
     "data": {
      "text/plain": [
       "'C:\\\\Users\\\\ashis\\\\OneDrive\\\\Documents\\\\summer project\\\\summer project - 3d\\\\week2\\\\new_data\\\\image\\\\000143_10_4.png'"
      ]
     },
     "metadata": {},
     "output_type": "display_data"
    },
    {
     "data": {
      "text/plain": [
       "'C:\\\\Users\\\\ashis\\\\OneDrive\\\\Documents\\\\summer project\\\\summer project - 3d\\\\week2\\\\new_data\\\\mask\\\\000143_10_4.png'"
      ]
     },
     "metadata": {},
     "output_type": "display_data"
    },
    {
     "data": {
      "text/plain": [
       "'C:\\\\Users\\\\ashis\\\\OneDrive\\\\Documents\\\\summer project\\\\summer project - 3d\\\\week2\\\\new_data\\\\image\\\\000143_10_5.png'"
      ]
     },
     "metadata": {},
     "output_type": "display_data"
    },
    {
     "data": {
      "text/plain": [
       "'C:\\\\Users\\\\ashis\\\\OneDrive\\\\Documents\\\\summer project\\\\summer project - 3d\\\\week2\\\\new_data\\\\mask\\\\000143_10_5.png'"
      ]
     },
     "metadata": {},
     "output_type": "display_data"
    },
    {
     "name": "stderr",
     "output_type": "stream",
     "text": [
      "\r",
      " 72%|█████████████████████████████████████████████████████████▌                      | 144/200 [00:41<00:15,  3.61it/s]"
     ]
    },
    {
     "data": {
      "text/plain": [
       "'C:\\\\Users\\\\ashis\\\\OneDrive\\\\Documents\\\\summer project\\\\summer project - 3d\\\\week2\\\\new_data\\\\image\\\\000144_10_0.png'"
      ]
     },
     "metadata": {},
     "output_type": "display_data"
    },
    {
     "data": {
      "text/plain": [
       "'C:\\\\Users\\\\ashis\\\\OneDrive\\\\Documents\\\\summer project\\\\summer project - 3d\\\\week2\\\\new_data\\\\mask\\\\000144_10_0.png'"
      ]
     },
     "metadata": {},
     "output_type": "display_data"
    },
    {
     "data": {
      "text/plain": [
       "'C:\\\\Users\\\\ashis\\\\OneDrive\\\\Documents\\\\summer project\\\\summer project - 3d\\\\week2\\\\new_data\\\\image\\\\000144_10_1.png'"
      ]
     },
     "metadata": {},
     "output_type": "display_data"
    },
    {
     "data": {
      "text/plain": [
       "'C:\\\\Users\\\\ashis\\\\OneDrive\\\\Documents\\\\summer project\\\\summer project - 3d\\\\week2\\\\new_data\\\\mask\\\\000144_10_1.png'"
      ]
     },
     "metadata": {},
     "output_type": "display_data"
    },
    {
     "data": {
      "text/plain": [
       "'C:\\\\Users\\\\ashis\\\\OneDrive\\\\Documents\\\\summer project\\\\summer project - 3d\\\\week2\\\\new_data\\\\image\\\\000144_10_2.png'"
      ]
     },
     "metadata": {},
     "output_type": "display_data"
    },
    {
     "data": {
      "text/plain": [
       "'C:\\\\Users\\\\ashis\\\\OneDrive\\\\Documents\\\\summer project\\\\summer project - 3d\\\\week2\\\\new_data\\\\mask\\\\000144_10_2.png'"
      ]
     },
     "metadata": {},
     "output_type": "display_data"
    },
    {
     "data": {
      "text/plain": [
       "'C:\\\\Users\\\\ashis\\\\OneDrive\\\\Documents\\\\summer project\\\\summer project - 3d\\\\week2\\\\new_data\\\\image\\\\000144_10_3.png'"
      ]
     },
     "metadata": {},
     "output_type": "display_data"
    },
    {
     "data": {
      "text/plain": [
       "'C:\\\\Users\\\\ashis\\\\OneDrive\\\\Documents\\\\summer project\\\\summer project - 3d\\\\week2\\\\new_data\\\\mask\\\\000144_10_3.png'"
      ]
     },
     "metadata": {},
     "output_type": "display_data"
    },
    {
     "data": {
      "text/plain": [
       "'C:\\\\Users\\\\ashis\\\\OneDrive\\\\Documents\\\\summer project\\\\summer project - 3d\\\\week2\\\\new_data\\\\image\\\\000144_10_4.png'"
      ]
     },
     "metadata": {},
     "output_type": "display_data"
    },
    {
     "data": {
      "text/plain": [
       "'C:\\\\Users\\\\ashis\\\\OneDrive\\\\Documents\\\\summer project\\\\summer project - 3d\\\\week2\\\\new_data\\\\mask\\\\000144_10_4.png'"
      ]
     },
     "metadata": {},
     "output_type": "display_data"
    },
    {
     "data": {
      "text/plain": [
       "'C:\\\\Users\\\\ashis\\\\OneDrive\\\\Documents\\\\summer project\\\\summer project - 3d\\\\week2\\\\new_data\\\\image\\\\000144_10_5.png'"
      ]
     },
     "metadata": {},
     "output_type": "display_data"
    },
    {
     "data": {
      "text/plain": [
       "'C:\\\\Users\\\\ashis\\\\OneDrive\\\\Documents\\\\summer project\\\\summer project - 3d\\\\week2\\\\new_data\\\\mask\\\\000144_10_5.png'"
      ]
     },
     "metadata": {},
     "output_type": "display_data"
    },
    {
     "name": "stderr",
     "output_type": "stream",
     "text": [
      "\r",
      " 72%|██████████████████████████████████████████████████████████                      | 145/200 [00:41<00:15,  3.66it/s]"
     ]
    },
    {
     "data": {
      "text/plain": [
       "'C:\\\\Users\\\\ashis\\\\OneDrive\\\\Documents\\\\summer project\\\\summer project - 3d\\\\week2\\\\new_data\\\\image\\\\000145_10_0.png'"
      ]
     },
     "metadata": {},
     "output_type": "display_data"
    },
    {
     "data": {
      "text/plain": [
       "'C:\\\\Users\\\\ashis\\\\OneDrive\\\\Documents\\\\summer project\\\\summer project - 3d\\\\week2\\\\new_data\\\\mask\\\\000145_10_0.png'"
      ]
     },
     "metadata": {},
     "output_type": "display_data"
    },
    {
     "data": {
      "text/plain": [
       "'C:\\\\Users\\\\ashis\\\\OneDrive\\\\Documents\\\\summer project\\\\summer project - 3d\\\\week2\\\\new_data\\\\image\\\\000145_10_1.png'"
      ]
     },
     "metadata": {},
     "output_type": "display_data"
    },
    {
     "data": {
      "text/plain": [
       "'C:\\\\Users\\\\ashis\\\\OneDrive\\\\Documents\\\\summer project\\\\summer project - 3d\\\\week2\\\\new_data\\\\mask\\\\000145_10_1.png'"
      ]
     },
     "metadata": {},
     "output_type": "display_data"
    },
    {
     "data": {
      "text/plain": [
       "'C:\\\\Users\\\\ashis\\\\OneDrive\\\\Documents\\\\summer project\\\\summer project - 3d\\\\week2\\\\new_data\\\\image\\\\000145_10_2.png'"
      ]
     },
     "metadata": {},
     "output_type": "display_data"
    },
    {
     "data": {
      "text/plain": [
       "'C:\\\\Users\\\\ashis\\\\OneDrive\\\\Documents\\\\summer project\\\\summer project - 3d\\\\week2\\\\new_data\\\\mask\\\\000145_10_2.png'"
      ]
     },
     "metadata": {},
     "output_type": "display_data"
    },
    {
     "data": {
      "text/plain": [
       "'C:\\\\Users\\\\ashis\\\\OneDrive\\\\Documents\\\\summer project\\\\summer project - 3d\\\\week2\\\\new_data\\\\image\\\\000145_10_3.png'"
      ]
     },
     "metadata": {},
     "output_type": "display_data"
    },
    {
     "data": {
      "text/plain": [
       "'C:\\\\Users\\\\ashis\\\\OneDrive\\\\Documents\\\\summer project\\\\summer project - 3d\\\\week2\\\\new_data\\\\mask\\\\000145_10_3.png'"
      ]
     },
     "metadata": {},
     "output_type": "display_data"
    },
    {
     "data": {
      "text/plain": [
       "'C:\\\\Users\\\\ashis\\\\OneDrive\\\\Documents\\\\summer project\\\\summer project - 3d\\\\week2\\\\new_data\\\\image\\\\000145_10_4.png'"
      ]
     },
     "metadata": {},
     "output_type": "display_data"
    },
    {
     "data": {
      "text/plain": [
       "'C:\\\\Users\\\\ashis\\\\OneDrive\\\\Documents\\\\summer project\\\\summer project - 3d\\\\week2\\\\new_data\\\\mask\\\\000145_10_4.png'"
      ]
     },
     "metadata": {},
     "output_type": "display_data"
    },
    {
     "data": {
      "text/plain": [
       "'C:\\\\Users\\\\ashis\\\\OneDrive\\\\Documents\\\\summer project\\\\summer project - 3d\\\\week2\\\\new_data\\\\image\\\\000145_10_5.png'"
      ]
     },
     "metadata": {},
     "output_type": "display_data"
    },
    {
     "data": {
      "text/plain": [
       "'C:\\\\Users\\\\ashis\\\\OneDrive\\\\Documents\\\\summer project\\\\summer project - 3d\\\\week2\\\\new_data\\\\mask\\\\000145_10_5.png'"
      ]
     },
     "metadata": {},
     "output_type": "display_data"
    },
    {
     "name": "stderr",
     "output_type": "stream",
     "text": [
      "\r",
      " 73%|██████████████████████████████████████████████████████████▍                     | 146/200 [00:41<00:15,  3.52it/s]"
     ]
    },
    {
     "data": {
      "text/plain": [
       "'C:\\\\Users\\\\ashis\\\\OneDrive\\\\Documents\\\\summer project\\\\summer project - 3d\\\\week2\\\\new_data\\\\image\\\\000146_10_0.png'"
      ]
     },
     "metadata": {},
     "output_type": "display_data"
    },
    {
     "data": {
      "text/plain": [
       "'C:\\\\Users\\\\ashis\\\\OneDrive\\\\Documents\\\\summer project\\\\summer project - 3d\\\\week2\\\\new_data\\\\mask\\\\000146_10_0.png'"
      ]
     },
     "metadata": {},
     "output_type": "display_data"
    },
    {
     "data": {
      "text/plain": [
       "'C:\\\\Users\\\\ashis\\\\OneDrive\\\\Documents\\\\summer project\\\\summer project - 3d\\\\week2\\\\new_data\\\\image\\\\000146_10_1.png'"
      ]
     },
     "metadata": {},
     "output_type": "display_data"
    },
    {
     "data": {
      "text/plain": [
       "'C:\\\\Users\\\\ashis\\\\OneDrive\\\\Documents\\\\summer project\\\\summer project - 3d\\\\week2\\\\new_data\\\\mask\\\\000146_10_1.png'"
      ]
     },
     "metadata": {},
     "output_type": "display_data"
    },
    {
     "data": {
      "text/plain": [
       "'C:\\\\Users\\\\ashis\\\\OneDrive\\\\Documents\\\\summer project\\\\summer project - 3d\\\\week2\\\\new_data\\\\image\\\\000146_10_2.png'"
      ]
     },
     "metadata": {},
     "output_type": "display_data"
    },
    {
     "data": {
      "text/plain": [
       "'C:\\\\Users\\\\ashis\\\\OneDrive\\\\Documents\\\\summer project\\\\summer project - 3d\\\\week2\\\\new_data\\\\mask\\\\000146_10_2.png'"
      ]
     },
     "metadata": {},
     "output_type": "display_data"
    },
    {
     "data": {
      "text/plain": [
       "'C:\\\\Users\\\\ashis\\\\OneDrive\\\\Documents\\\\summer project\\\\summer project - 3d\\\\week2\\\\new_data\\\\image\\\\000146_10_3.png'"
      ]
     },
     "metadata": {},
     "output_type": "display_data"
    },
    {
     "data": {
      "text/plain": [
       "'C:\\\\Users\\\\ashis\\\\OneDrive\\\\Documents\\\\summer project\\\\summer project - 3d\\\\week2\\\\new_data\\\\mask\\\\000146_10_3.png'"
      ]
     },
     "metadata": {},
     "output_type": "display_data"
    },
    {
     "data": {
      "text/plain": [
       "'C:\\\\Users\\\\ashis\\\\OneDrive\\\\Documents\\\\summer project\\\\summer project - 3d\\\\week2\\\\new_data\\\\image\\\\000146_10_4.png'"
      ]
     },
     "metadata": {},
     "output_type": "display_data"
    },
    {
     "data": {
      "text/plain": [
       "'C:\\\\Users\\\\ashis\\\\OneDrive\\\\Documents\\\\summer project\\\\summer project - 3d\\\\week2\\\\new_data\\\\mask\\\\000146_10_4.png'"
      ]
     },
     "metadata": {},
     "output_type": "display_data"
    },
    {
     "data": {
      "text/plain": [
       "'C:\\\\Users\\\\ashis\\\\OneDrive\\\\Documents\\\\summer project\\\\summer project - 3d\\\\week2\\\\new_data\\\\image\\\\000146_10_5.png'"
      ]
     },
     "metadata": {},
     "output_type": "display_data"
    },
    {
     "data": {
      "text/plain": [
       "'C:\\\\Users\\\\ashis\\\\OneDrive\\\\Documents\\\\summer project\\\\summer project - 3d\\\\week2\\\\new_data\\\\mask\\\\000146_10_5.png'"
      ]
     },
     "metadata": {},
     "output_type": "display_data"
    },
    {
     "name": "stderr",
     "output_type": "stream",
     "text": [
      "\r",
      " 74%|██████████████████████████████████████████████████████████▊                     | 147/200 [00:42<00:14,  3.59it/s]"
     ]
    },
    {
     "data": {
      "text/plain": [
       "'C:\\\\Users\\\\ashis\\\\OneDrive\\\\Documents\\\\summer project\\\\summer project - 3d\\\\week2\\\\new_data\\\\image\\\\000147_10_0.png'"
      ]
     },
     "metadata": {},
     "output_type": "display_data"
    },
    {
     "data": {
      "text/plain": [
       "'C:\\\\Users\\\\ashis\\\\OneDrive\\\\Documents\\\\summer project\\\\summer project - 3d\\\\week2\\\\new_data\\\\mask\\\\000147_10_0.png'"
      ]
     },
     "metadata": {},
     "output_type": "display_data"
    },
    {
     "data": {
      "text/plain": [
       "'C:\\\\Users\\\\ashis\\\\OneDrive\\\\Documents\\\\summer project\\\\summer project - 3d\\\\week2\\\\new_data\\\\image\\\\000147_10_1.png'"
      ]
     },
     "metadata": {},
     "output_type": "display_data"
    },
    {
     "data": {
      "text/plain": [
       "'C:\\\\Users\\\\ashis\\\\OneDrive\\\\Documents\\\\summer project\\\\summer project - 3d\\\\week2\\\\new_data\\\\mask\\\\000147_10_1.png'"
      ]
     },
     "metadata": {},
     "output_type": "display_data"
    },
    {
     "data": {
      "text/plain": [
       "'C:\\\\Users\\\\ashis\\\\OneDrive\\\\Documents\\\\summer project\\\\summer project - 3d\\\\week2\\\\new_data\\\\image\\\\000147_10_2.png'"
      ]
     },
     "metadata": {},
     "output_type": "display_data"
    },
    {
     "data": {
      "text/plain": [
       "'C:\\\\Users\\\\ashis\\\\OneDrive\\\\Documents\\\\summer project\\\\summer project - 3d\\\\week2\\\\new_data\\\\mask\\\\000147_10_2.png'"
      ]
     },
     "metadata": {},
     "output_type": "display_data"
    },
    {
     "data": {
      "text/plain": [
       "'C:\\\\Users\\\\ashis\\\\OneDrive\\\\Documents\\\\summer project\\\\summer project - 3d\\\\week2\\\\new_data\\\\image\\\\000147_10_3.png'"
      ]
     },
     "metadata": {},
     "output_type": "display_data"
    },
    {
     "data": {
      "text/plain": [
       "'C:\\\\Users\\\\ashis\\\\OneDrive\\\\Documents\\\\summer project\\\\summer project - 3d\\\\week2\\\\new_data\\\\mask\\\\000147_10_3.png'"
      ]
     },
     "metadata": {},
     "output_type": "display_data"
    },
    {
     "data": {
      "text/plain": [
       "'C:\\\\Users\\\\ashis\\\\OneDrive\\\\Documents\\\\summer project\\\\summer project - 3d\\\\week2\\\\new_data\\\\image\\\\000147_10_4.png'"
      ]
     },
     "metadata": {},
     "output_type": "display_data"
    },
    {
     "data": {
      "text/plain": [
       "'C:\\\\Users\\\\ashis\\\\OneDrive\\\\Documents\\\\summer project\\\\summer project - 3d\\\\week2\\\\new_data\\\\mask\\\\000147_10_4.png'"
      ]
     },
     "metadata": {},
     "output_type": "display_data"
    },
    {
     "data": {
      "text/plain": [
       "'C:\\\\Users\\\\ashis\\\\OneDrive\\\\Documents\\\\summer project\\\\summer project - 3d\\\\week2\\\\new_data\\\\image\\\\000147_10_5.png'"
      ]
     },
     "metadata": {},
     "output_type": "display_data"
    },
    {
     "data": {
      "text/plain": [
       "'C:\\\\Users\\\\ashis\\\\OneDrive\\\\Documents\\\\summer project\\\\summer project - 3d\\\\week2\\\\new_data\\\\mask\\\\000147_10_5.png'"
      ]
     },
     "metadata": {},
     "output_type": "display_data"
    },
    {
     "name": "stderr",
     "output_type": "stream",
     "text": [
      "\r",
      " 74%|███████████████████████████████████████████████████████████▏                    | 148/200 [00:42<00:15,  3.42it/s]"
     ]
    },
    {
     "data": {
      "text/plain": [
       "'C:\\\\Users\\\\ashis\\\\OneDrive\\\\Documents\\\\summer project\\\\summer project - 3d\\\\week2\\\\new_data\\\\image\\\\000148_10_0.png'"
      ]
     },
     "metadata": {},
     "output_type": "display_data"
    },
    {
     "data": {
      "text/plain": [
       "'C:\\\\Users\\\\ashis\\\\OneDrive\\\\Documents\\\\summer project\\\\summer project - 3d\\\\week2\\\\new_data\\\\mask\\\\000148_10_0.png'"
      ]
     },
     "metadata": {},
     "output_type": "display_data"
    },
    {
     "data": {
      "text/plain": [
       "'C:\\\\Users\\\\ashis\\\\OneDrive\\\\Documents\\\\summer project\\\\summer project - 3d\\\\week2\\\\new_data\\\\image\\\\000148_10_1.png'"
      ]
     },
     "metadata": {},
     "output_type": "display_data"
    },
    {
     "data": {
      "text/plain": [
       "'C:\\\\Users\\\\ashis\\\\OneDrive\\\\Documents\\\\summer project\\\\summer project - 3d\\\\week2\\\\new_data\\\\mask\\\\000148_10_1.png'"
      ]
     },
     "metadata": {},
     "output_type": "display_data"
    },
    {
     "data": {
      "text/plain": [
       "'C:\\\\Users\\\\ashis\\\\OneDrive\\\\Documents\\\\summer project\\\\summer project - 3d\\\\week2\\\\new_data\\\\image\\\\000148_10_2.png'"
      ]
     },
     "metadata": {},
     "output_type": "display_data"
    },
    {
     "data": {
      "text/plain": [
       "'C:\\\\Users\\\\ashis\\\\OneDrive\\\\Documents\\\\summer project\\\\summer project - 3d\\\\week2\\\\new_data\\\\mask\\\\000148_10_2.png'"
      ]
     },
     "metadata": {},
     "output_type": "display_data"
    },
    {
     "data": {
      "text/plain": [
       "'C:\\\\Users\\\\ashis\\\\OneDrive\\\\Documents\\\\summer project\\\\summer project - 3d\\\\week2\\\\new_data\\\\image\\\\000148_10_3.png'"
      ]
     },
     "metadata": {},
     "output_type": "display_data"
    },
    {
     "data": {
      "text/plain": [
       "'C:\\\\Users\\\\ashis\\\\OneDrive\\\\Documents\\\\summer project\\\\summer project - 3d\\\\week2\\\\new_data\\\\mask\\\\000148_10_3.png'"
      ]
     },
     "metadata": {},
     "output_type": "display_data"
    },
    {
     "data": {
      "text/plain": [
       "'C:\\\\Users\\\\ashis\\\\OneDrive\\\\Documents\\\\summer project\\\\summer project - 3d\\\\week2\\\\new_data\\\\image\\\\000148_10_4.png'"
      ]
     },
     "metadata": {},
     "output_type": "display_data"
    },
    {
     "data": {
      "text/plain": [
       "'C:\\\\Users\\\\ashis\\\\OneDrive\\\\Documents\\\\summer project\\\\summer project - 3d\\\\week2\\\\new_data\\\\mask\\\\000148_10_4.png'"
      ]
     },
     "metadata": {},
     "output_type": "display_data"
    },
    {
     "data": {
      "text/plain": [
       "'C:\\\\Users\\\\ashis\\\\OneDrive\\\\Documents\\\\summer project\\\\summer project - 3d\\\\week2\\\\new_data\\\\image\\\\000148_10_5.png'"
      ]
     },
     "metadata": {},
     "output_type": "display_data"
    },
    {
     "data": {
      "text/plain": [
       "'C:\\\\Users\\\\ashis\\\\OneDrive\\\\Documents\\\\summer project\\\\summer project - 3d\\\\week2\\\\new_data\\\\mask\\\\000148_10_5.png'"
      ]
     },
     "metadata": {},
     "output_type": "display_data"
    },
    {
     "name": "stderr",
     "output_type": "stream",
     "text": [
      "\r",
      " 74%|███████████████████████████████████████████████████████████▌                    | 149/200 [00:42<00:14,  3.55it/s]"
     ]
    },
    {
     "data": {
      "text/plain": [
       "'C:\\\\Users\\\\ashis\\\\OneDrive\\\\Documents\\\\summer project\\\\summer project - 3d\\\\week2\\\\new_data\\\\image\\\\000149_10_0.png'"
      ]
     },
     "metadata": {},
     "output_type": "display_data"
    },
    {
     "data": {
      "text/plain": [
       "'C:\\\\Users\\\\ashis\\\\OneDrive\\\\Documents\\\\summer project\\\\summer project - 3d\\\\week2\\\\new_data\\\\mask\\\\000149_10_0.png'"
      ]
     },
     "metadata": {},
     "output_type": "display_data"
    },
    {
     "data": {
      "text/plain": [
       "'C:\\\\Users\\\\ashis\\\\OneDrive\\\\Documents\\\\summer project\\\\summer project - 3d\\\\week2\\\\new_data\\\\image\\\\000149_10_1.png'"
      ]
     },
     "metadata": {},
     "output_type": "display_data"
    },
    {
     "data": {
      "text/plain": [
       "'C:\\\\Users\\\\ashis\\\\OneDrive\\\\Documents\\\\summer project\\\\summer project - 3d\\\\week2\\\\new_data\\\\mask\\\\000149_10_1.png'"
      ]
     },
     "metadata": {},
     "output_type": "display_data"
    },
    {
     "data": {
      "text/plain": [
       "'C:\\\\Users\\\\ashis\\\\OneDrive\\\\Documents\\\\summer project\\\\summer project - 3d\\\\week2\\\\new_data\\\\image\\\\000149_10_2.png'"
      ]
     },
     "metadata": {},
     "output_type": "display_data"
    },
    {
     "data": {
      "text/plain": [
       "'C:\\\\Users\\\\ashis\\\\OneDrive\\\\Documents\\\\summer project\\\\summer project - 3d\\\\week2\\\\new_data\\\\mask\\\\000149_10_2.png'"
      ]
     },
     "metadata": {},
     "output_type": "display_data"
    },
    {
     "data": {
      "text/plain": [
       "'C:\\\\Users\\\\ashis\\\\OneDrive\\\\Documents\\\\summer project\\\\summer project - 3d\\\\week2\\\\new_data\\\\image\\\\000149_10_3.png'"
      ]
     },
     "metadata": {},
     "output_type": "display_data"
    },
    {
     "data": {
      "text/plain": [
       "'C:\\\\Users\\\\ashis\\\\OneDrive\\\\Documents\\\\summer project\\\\summer project - 3d\\\\week2\\\\new_data\\\\mask\\\\000149_10_3.png'"
      ]
     },
     "metadata": {},
     "output_type": "display_data"
    },
    {
     "data": {
      "text/plain": [
       "'C:\\\\Users\\\\ashis\\\\OneDrive\\\\Documents\\\\summer project\\\\summer project - 3d\\\\week2\\\\new_data\\\\image\\\\000149_10_4.png'"
      ]
     },
     "metadata": {},
     "output_type": "display_data"
    },
    {
     "data": {
      "text/plain": [
       "'C:\\\\Users\\\\ashis\\\\OneDrive\\\\Documents\\\\summer project\\\\summer project - 3d\\\\week2\\\\new_data\\\\mask\\\\000149_10_4.png'"
      ]
     },
     "metadata": {},
     "output_type": "display_data"
    },
    {
     "data": {
      "text/plain": [
       "'C:\\\\Users\\\\ashis\\\\OneDrive\\\\Documents\\\\summer project\\\\summer project - 3d\\\\week2\\\\new_data\\\\image\\\\000149_10_5.png'"
      ]
     },
     "metadata": {},
     "output_type": "display_data"
    },
    {
     "data": {
      "text/plain": [
       "'C:\\\\Users\\\\ashis\\\\OneDrive\\\\Documents\\\\summer project\\\\summer project - 3d\\\\week2\\\\new_data\\\\mask\\\\000149_10_5.png'"
      ]
     },
     "metadata": {},
     "output_type": "display_data"
    },
    {
     "name": "stderr",
     "output_type": "stream",
     "text": [
      "\r",
      " 75%|████████████████████████████████████████████████████████████                    | 150/200 [00:42<00:13,  3.60it/s]"
     ]
    },
    {
     "data": {
      "text/plain": [
       "'C:\\\\Users\\\\ashis\\\\OneDrive\\\\Documents\\\\summer project\\\\summer project - 3d\\\\week2\\\\new_data\\\\image\\\\000150_10_0.png'"
      ]
     },
     "metadata": {},
     "output_type": "display_data"
    },
    {
     "data": {
      "text/plain": [
       "'C:\\\\Users\\\\ashis\\\\OneDrive\\\\Documents\\\\summer project\\\\summer project - 3d\\\\week2\\\\new_data\\\\mask\\\\000150_10_0.png'"
      ]
     },
     "metadata": {},
     "output_type": "display_data"
    },
    {
     "data": {
      "text/plain": [
       "'C:\\\\Users\\\\ashis\\\\OneDrive\\\\Documents\\\\summer project\\\\summer project - 3d\\\\week2\\\\new_data\\\\image\\\\000150_10_1.png'"
      ]
     },
     "metadata": {},
     "output_type": "display_data"
    },
    {
     "data": {
      "text/plain": [
       "'C:\\\\Users\\\\ashis\\\\OneDrive\\\\Documents\\\\summer project\\\\summer project - 3d\\\\week2\\\\new_data\\\\mask\\\\000150_10_1.png'"
      ]
     },
     "metadata": {},
     "output_type": "display_data"
    },
    {
     "data": {
      "text/plain": [
       "'C:\\\\Users\\\\ashis\\\\OneDrive\\\\Documents\\\\summer project\\\\summer project - 3d\\\\week2\\\\new_data\\\\image\\\\000150_10_2.png'"
      ]
     },
     "metadata": {},
     "output_type": "display_data"
    },
    {
     "data": {
      "text/plain": [
       "'C:\\\\Users\\\\ashis\\\\OneDrive\\\\Documents\\\\summer project\\\\summer project - 3d\\\\week2\\\\new_data\\\\mask\\\\000150_10_2.png'"
      ]
     },
     "metadata": {},
     "output_type": "display_data"
    },
    {
     "data": {
      "text/plain": [
       "'C:\\\\Users\\\\ashis\\\\OneDrive\\\\Documents\\\\summer project\\\\summer project - 3d\\\\week2\\\\new_data\\\\image\\\\000150_10_3.png'"
      ]
     },
     "metadata": {},
     "output_type": "display_data"
    },
    {
     "data": {
      "text/plain": [
       "'C:\\\\Users\\\\ashis\\\\OneDrive\\\\Documents\\\\summer project\\\\summer project - 3d\\\\week2\\\\new_data\\\\mask\\\\000150_10_3.png'"
      ]
     },
     "metadata": {},
     "output_type": "display_data"
    },
    {
     "data": {
      "text/plain": [
       "'C:\\\\Users\\\\ashis\\\\OneDrive\\\\Documents\\\\summer project\\\\summer project - 3d\\\\week2\\\\new_data\\\\image\\\\000150_10_4.png'"
      ]
     },
     "metadata": {},
     "output_type": "display_data"
    },
    {
     "data": {
      "text/plain": [
       "'C:\\\\Users\\\\ashis\\\\OneDrive\\\\Documents\\\\summer project\\\\summer project - 3d\\\\week2\\\\new_data\\\\mask\\\\000150_10_4.png'"
      ]
     },
     "metadata": {},
     "output_type": "display_data"
    },
    {
     "data": {
      "text/plain": [
       "'C:\\\\Users\\\\ashis\\\\OneDrive\\\\Documents\\\\summer project\\\\summer project - 3d\\\\week2\\\\new_data\\\\image\\\\000150_10_5.png'"
      ]
     },
     "metadata": {},
     "output_type": "display_data"
    },
    {
     "data": {
      "text/plain": [
       "'C:\\\\Users\\\\ashis\\\\OneDrive\\\\Documents\\\\summer project\\\\summer project - 3d\\\\week2\\\\new_data\\\\mask\\\\000150_10_5.png'"
      ]
     },
     "metadata": {},
     "output_type": "display_data"
    },
    {
     "name": "stderr",
     "output_type": "stream",
     "text": [
      "\r",
      " 76%|████████████████████████████████████████████████████████████▍                   | 151/200 [00:43<00:13,  3.65it/s]"
     ]
    },
    {
     "data": {
      "text/plain": [
       "'C:\\\\Users\\\\ashis\\\\OneDrive\\\\Documents\\\\summer project\\\\summer project - 3d\\\\week2\\\\new_data\\\\image\\\\000151_10_0.png'"
      ]
     },
     "metadata": {},
     "output_type": "display_data"
    },
    {
     "data": {
      "text/plain": [
       "'C:\\\\Users\\\\ashis\\\\OneDrive\\\\Documents\\\\summer project\\\\summer project - 3d\\\\week2\\\\new_data\\\\mask\\\\000151_10_0.png'"
      ]
     },
     "metadata": {},
     "output_type": "display_data"
    },
    {
     "data": {
      "text/plain": [
       "'C:\\\\Users\\\\ashis\\\\OneDrive\\\\Documents\\\\summer project\\\\summer project - 3d\\\\week2\\\\new_data\\\\image\\\\000151_10_1.png'"
      ]
     },
     "metadata": {},
     "output_type": "display_data"
    },
    {
     "data": {
      "text/plain": [
       "'C:\\\\Users\\\\ashis\\\\OneDrive\\\\Documents\\\\summer project\\\\summer project - 3d\\\\week2\\\\new_data\\\\mask\\\\000151_10_1.png'"
      ]
     },
     "metadata": {},
     "output_type": "display_data"
    },
    {
     "data": {
      "text/plain": [
       "'C:\\\\Users\\\\ashis\\\\OneDrive\\\\Documents\\\\summer project\\\\summer project - 3d\\\\week2\\\\new_data\\\\image\\\\000151_10_2.png'"
      ]
     },
     "metadata": {},
     "output_type": "display_data"
    },
    {
     "data": {
      "text/plain": [
       "'C:\\\\Users\\\\ashis\\\\OneDrive\\\\Documents\\\\summer project\\\\summer project - 3d\\\\week2\\\\new_data\\\\mask\\\\000151_10_2.png'"
      ]
     },
     "metadata": {},
     "output_type": "display_data"
    },
    {
     "data": {
      "text/plain": [
       "'C:\\\\Users\\\\ashis\\\\OneDrive\\\\Documents\\\\summer project\\\\summer project - 3d\\\\week2\\\\new_data\\\\image\\\\000151_10_3.png'"
      ]
     },
     "metadata": {},
     "output_type": "display_data"
    },
    {
     "data": {
      "text/plain": [
       "'C:\\\\Users\\\\ashis\\\\OneDrive\\\\Documents\\\\summer project\\\\summer project - 3d\\\\week2\\\\new_data\\\\mask\\\\000151_10_3.png'"
      ]
     },
     "metadata": {},
     "output_type": "display_data"
    },
    {
     "data": {
      "text/plain": [
       "'C:\\\\Users\\\\ashis\\\\OneDrive\\\\Documents\\\\summer project\\\\summer project - 3d\\\\week2\\\\new_data\\\\image\\\\000151_10_4.png'"
      ]
     },
     "metadata": {},
     "output_type": "display_data"
    },
    {
     "data": {
      "text/plain": [
       "'C:\\\\Users\\\\ashis\\\\OneDrive\\\\Documents\\\\summer project\\\\summer project - 3d\\\\week2\\\\new_data\\\\mask\\\\000151_10_4.png'"
      ]
     },
     "metadata": {},
     "output_type": "display_data"
    },
    {
     "data": {
      "text/plain": [
       "'C:\\\\Users\\\\ashis\\\\OneDrive\\\\Documents\\\\summer project\\\\summer project - 3d\\\\week2\\\\new_data\\\\image\\\\000151_10_5.png'"
      ]
     },
     "metadata": {},
     "output_type": "display_data"
    },
    {
     "data": {
      "text/plain": [
       "'C:\\\\Users\\\\ashis\\\\OneDrive\\\\Documents\\\\summer project\\\\summer project - 3d\\\\week2\\\\new_data\\\\mask\\\\000151_10_5.png'"
      ]
     },
     "metadata": {},
     "output_type": "display_data"
    },
    {
     "name": "stderr",
     "output_type": "stream",
     "text": [
      "\r",
      " 76%|████████████████████████████████████████████████████████████▊                   | 152/200 [00:43<00:13,  3.69it/s]"
     ]
    },
    {
     "data": {
      "text/plain": [
       "'C:\\\\Users\\\\ashis\\\\OneDrive\\\\Documents\\\\summer project\\\\summer project - 3d\\\\week2\\\\new_data\\\\image\\\\000152_10_0.png'"
      ]
     },
     "metadata": {},
     "output_type": "display_data"
    },
    {
     "data": {
      "text/plain": [
       "'C:\\\\Users\\\\ashis\\\\OneDrive\\\\Documents\\\\summer project\\\\summer project - 3d\\\\week2\\\\new_data\\\\mask\\\\000152_10_0.png'"
      ]
     },
     "metadata": {},
     "output_type": "display_data"
    },
    {
     "data": {
      "text/plain": [
       "'C:\\\\Users\\\\ashis\\\\OneDrive\\\\Documents\\\\summer project\\\\summer project - 3d\\\\week2\\\\new_data\\\\image\\\\000152_10_1.png'"
      ]
     },
     "metadata": {},
     "output_type": "display_data"
    },
    {
     "data": {
      "text/plain": [
       "'C:\\\\Users\\\\ashis\\\\OneDrive\\\\Documents\\\\summer project\\\\summer project - 3d\\\\week2\\\\new_data\\\\mask\\\\000152_10_1.png'"
      ]
     },
     "metadata": {},
     "output_type": "display_data"
    },
    {
     "data": {
      "text/plain": [
       "'C:\\\\Users\\\\ashis\\\\OneDrive\\\\Documents\\\\summer project\\\\summer project - 3d\\\\week2\\\\new_data\\\\image\\\\000152_10_2.png'"
      ]
     },
     "metadata": {},
     "output_type": "display_data"
    },
    {
     "data": {
      "text/plain": [
       "'C:\\\\Users\\\\ashis\\\\OneDrive\\\\Documents\\\\summer project\\\\summer project - 3d\\\\week2\\\\new_data\\\\mask\\\\000152_10_2.png'"
      ]
     },
     "metadata": {},
     "output_type": "display_data"
    },
    {
     "data": {
      "text/plain": [
       "'C:\\\\Users\\\\ashis\\\\OneDrive\\\\Documents\\\\summer project\\\\summer project - 3d\\\\week2\\\\new_data\\\\image\\\\000152_10_3.png'"
      ]
     },
     "metadata": {},
     "output_type": "display_data"
    },
    {
     "data": {
      "text/plain": [
       "'C:\\\\Users\\\\ashis\\\\OneDrive\\\\Documents\\\\summer project\\\\summer project - 3d\\\\week2\\\\new_data\\\\mask\\\\000152_10_3.png'"
      ]
     },
     "metadata": {},
     "output_type": "display_data"
    },
    {
     "data": {
      "text/plain": [
       "'C:\\\\Users\\\\ashis\\\\OneDrive\\\\Documents\\\\summer project\\\\summer project - 3d\\\\week2\\\\new_data\\\\image\\\\000152_10_4.png'"
      ]
     },
     "metadata": {},
     "output_type": "display_data"
    },
    {
     "data": {
      "text/plain": [
       "'C:\\\\Users\\\\ashis\\\\OneDrive\\\\Documents\\\\summer project\\\\summer project - 3d\\\\week2\\\\new_data\\\\mask\\\\000152_10_4.png'"
      ]
     },
     "metadata": {},
     "output_type": "display_data"
    },
    {
     "data": {
      "text/plain": [
       "'C:\\\\Users\\\\ashis\\\\OneDrive\\\\Documents\\\\summer project\\\\summer project - 3d\\\\week2\\\\new_data\\\\image\\\\000152_10_5.png'"
      ]
     },
     "metadata": {},
     "output_type": "display_data"
    },
    {
     "data": {
      "text/plain": [
       "'C:\\\\Users\\\\ashis\\\\OneDrive\\\\Documents\\\\summer project\\\\summer project - 3d\\\\week2\\\\new_data\\\\mask\\\\000152_10_5.png'"
      ]
     },
     "metadata": {},
     "output_type": "display_data"
    },
    {
     "name": "stderr",
     "output_type": "stream",
     "text": [
      "\r",
      " 76%|█████████████████████████████████████████████████████████████▏                  | 153/200 [00:43<00:12,  3.76it/s]"
     ]
    },
    {
     "data": {
      "text/plain": [
       "'C:\\\\Users\\\\ashis\\\\OneDrive\\\\Documents\\\\summer project\\\\summer project - 3d\\\\week2\\\\new_data\\\\image\\\\000153_10_0.png'"
      ]
     },
     "metadata": {},
     "output_type": "display_data"
    },
    {
     "data": {
      "text/plain": [
       "'C:\\\\Users\\\\ashis\\\\OneDrive\\\\Documents\\\\summer project\\\\summer project - 3d\\\\week2\\\\new_data\\\\mask\\\\000153_10_0.png'"
      ]
     },
     "metadata": {},
     "output_type": "display_data"
    },
    {
     "data": {
      "text/plain": [
       "'C:\\\\Users\\\\ashis\\\\OneDrive\\\\Documents\\\\summer project\\\\summer project - 3d\\\\week2\\\\new_data\\\\image\\\\000153_10_1.png'"
      ]
     },
     "metadata": {},
     "output_type": "display_data"
    },
    {
     "data": {
      "text/plain": [
       "'C:\\\\Users\\\\ashis\\\\OneDrive\\\\Documents\\\\summer project\\\\summer project - 3d\\\\week2\\\\new_data\\\\mask\\\\000153_10_1.png'"
      ]
     },
     "metadata": {},
     "output_type": "display_data"
    },
    {
     "data": {
      "text/plain": [
       "'C:\\\\Users\\\\ashis\\\\OneDrive\\\\Documents\\\\summer project\\\\summer project - 3d\\\\week2\\\\new_data\\\\image\\\\000153_10_2.png'"
      ]
     },
     "metadata": {},
     "output_type": "display_data"
    },
    {
     "data": {
      "text/plain": [
       "'C:\\\\Users\\\\ashis\\\\OneDrive\\\\Documents\\\\summer project\\\\summer project - 3d\\\\week2\\\\new_data\\\\mask\\\\000153_10_2.png'"
      ]
     },
     "metadata": {},
     "output_type": "display_data"
    },
    {
     "data": {
      "text/plain": [
       "'C:\\\\Users\\\\ashis\\\\OneDrive\\\\Documents\\\\summer project\\\\summer project - 3d\\\\week2\\\\new_data\\\\image\\\\000153_10_3.png'"
      ]
     },
     "metadata": {},
     "output_type": "display_data"
    },
    {
     "data": {
      "text/plain": [
       "'C:\\\\Users\\\\ashis\\\\OneDrive\\\\Documents\\\\summer project\\\\summer project - 3d\\\\week2\\\\new_data\\\\mask\\\\000153_10_3.png'"
      ]
     },
     "metadata": {},
     "output_type": "display_data"
    },
    {
     "data": {
      "text/plain": [
       "'C:\\\\Users\\\\ashis\\\\OneDrive\\\\Documents\\\\summer project\\\\summer project - 3d\\\\week2\\\\new_data\\\\image\\\\000153_10_4.png'"
      ]
     },
     "metadata": {},
     "output_type": "display_data"
    },
    {
     "data": {
      "text/plain": [
       "'C:\\\\Users\\\\ashis\\\\OneDrive\\\\Documents\\\\summer project\\\\summer project - 3d\\\\week2\\\\new_data\\\\mask\\\\000153_10_4.png'"
      ]
     },
     "metadata": {},
     "output_type": "display_data"
    },
    {
     "data": {
      "text/plain": [
       "'C:\\\\Users\\\\ashis\\\\OneDrive\\\\Documents\\\\summer project\\\\summer project - 3d\\\\week2\\\\new_data\\\\image\\\\000153_10_5.png'"
      ]
     },
     "metadata": {},
     "output_type": "display_data"
    },
    {
     "data": {
      "text/plain": [
       "'C:\\\\Users\\\\ashis\\\\OneDrive\\\\Documents\\\\summer project\\\\summer project - 3d\\\\week2\\\\new_data\\\\mask\\\\000153_10_5.png'"
      ]
     },
     "metadata": {},
     "output_type": "display_data"
    },
    {
     "name": "stderr",
     "output_type": "stream",
     "text": [
      "\r",
      " 77%|█████████████████████████████████████████████████████████████▌                  | 154/200 [00:43<00:12,  3.56it/s]"
     ]
    },
    {
     "data": {
      "text/plain": [
       "'C:\\\\Users\\\\ashis\\\\OneDrive\\\\Documents\\\\summer project\\\\summer project - 3d\\\\week2\\\\new_data\\\\image\\\\000154_10_0.png'"
      ]
     },
     "metadata": {},
     "output_type": "display_data"
    },
    {
     "data": {
      "text/plain": [
       "'C:\\\\Users\\\\ashis\\\\OneDrive\\\\Documents\\\\summer project\\\\summer project - 3d\\\\week2\\\\new_data\\\\mask\\\\000154_10_0.png'"
      ]
     },
     "metadata": {},
     "output_type": "display_data"
    },
    {
     "data": {
      "text/plain": [
       "'C:\\\\Users\\\\ashis\\\\OneDrive\\\\Documents\\\\summer project\\\\summer project - 3d\\\\week2\\\\new_data\\\\image\\\\000154_10_1.png'"
      ]
     },
     "metadata": {},
     "output_type": "display_data"
    },
    {
     "data": {
      "text/plain": [
       "'C:\\\\Users\\\\ashis\\\\OneDrive\\\\Documents\\\\summer project\\\\summer project - 3d\\\\week2\\\\new_data\\\\mask\\\\000154_10_1.png'"
      ]
     },
     "metadata": {},
     "output_type": "display_data"
    },
    {
     "data": {
      "text/plain": [
       "'C:\\\\Users\\\\ashis\\\\OneDrive\\\\Documents\\\\summer project\\\\summer project - 3d\\\\week2\\\\new_data\\\\image\\\\000154_10_2.png'"
      ]
     },
     "metadata": {},
     "output_type": "display_data"
    },
    {
     "data": {
      "text/plain": [
       "'C:\\\\Users\\\\ashis\\\\OneDrive\\\\Documents\\\\summer project\\\\summer project - 3d\\\\week2\\\\new_data\\\\mask\\\\000154_10_2.png'"
      ]
     },
     "metadata": {},
     "output_type": "display_data"
    },
    {
     "data": {
      "text/plain": [
       "'C:\\\\Users\\\\ashis\\\\OneDrive\\\\Documents\\\\summer project\\\\summer project - 3d\\\\week2\\\\new_data\\\\image\\\\000154_10_3.png'"
      ]
     },
     "metadata": {},
     "output_type": "display_data"
    },
    {
     "data": {
      "text/plain": [
       "'C:\\\\Users\\\\ashis\\\\OneDrive\\\\Documents\\\\summer project\\\\summer project - 3d\\\\week2\\\\new_data\\\\mask\\\\000154_10_3.png'"
      ]
     },
     "metadata": {},
     "output_type": "display_data"
    },
    {
     "data": {
      "text/plain": [
       "'C:\\\\Users\\\\ashis\\\\OneDrive\\\\Documents\\\\summer project\\\\summer project - 3d\\\\week2\\\\new_data\\\\image\\\\000154_10_4.png'"
      ]
     },
     "metadata": {},
     "output_type": "display_data"
    },
    {
     "data": {
      "text/plain": [
       "'C:\\\\Users\\\\ashis\\\\OneDrive\\\\Documents\\\\summer project\\\\summer project - 3d\\\\week2\\\\new_data\\\\mask\\\\000154_10_4.png'"
      ]
     },
     "metadata": {},
     "output_type": "display_data"
    },
    {
     "data": {
      "text/plain": [
       "'C:\\\\Users\\\\ashis\\\\OneDrive\\\\Documents\\\\summer project\\\\summer project - 3d\\\\week2\\\\new_data\\\\image\\\\000154_10_5.png'"
      ]
     },
     "metadata": {},
     "output_type": "display_data"
    },
    {
     "data": {
      "text/plain": [
       "'C:\\\\Users\\\\ashis\\\\OneDrive\\\\Documents\\\\summer project\\\\summer project - 3d\\\\week2\\\\new_data\\\\mask\\\\000154_10_5.png'"
      ]
     },
     "metadata": {},
     "output_type": "display_data"
    },
    {
     "name": "stderr",
     "output_type": "stream",
     "text": [
      "\r",
      " 78%|██████████████████████████████████████████████████████████████                  | 155/200 [00:44<00:12,  3.55it/s]"
     ]
    },
    {
     "data": {
      "text/plain": [
       "'C:\\\\Users\\\\ashis\\\\OneDrive\\\\Documents\\\\summer project\\\\summer project - 3d\\\\week2\\\\new_data\\\\image\\\\000155_10_0.png'"
      ]
     },
     "metadata": {},
     "output_type": "display_data"
    },
    {
     "data": {
      "text/plain": [
       "'C:\\\\Users\\\\ashis\\\\OneDrive\\\\Documents\\\\summer project\\\\summer project - 3d\\\\week2\\\\new_data\\\\mask\\\\000155_10_0.png'"
      ]
     },
     "metadata": {},
     "output_type": "display_data"
    },
    {
     "data": {
      "text/plain": [
       "'C:\\\\Users\\\\ashis\\\\OneDrive\\\\Documents\\\\summer project\\\\summer project - 3d\\\\week2\\\\new_data\\\\image\\\\000155_10_1.png'"
      ]
     },
     "metadata": {},
     "output_type": "display_data"
    },
    {
     "data": {
      "text/plain": [
       "'C:\\\\Users\\\\ashis\\\\OneDrive\\\\Documents\\\\summer project\\\\summer project - 3d\\\\week2\\\\new_data\\\\mask\\\\000155_10_1.png'"
      ]
     },
     "metadata": {},
     "output_type": "display_data"
    },
    {
     "data": {
      "text/plain": [
       "'C:\\\\Users\\\\ashis\\\\OneDrive\\\\Documents\\\\summer project\\\\summer project - 3d\\\\week2\\\\new_data\\\\image\\\\000155_10_2.png'"
      ]
     },
     "metadata": {},
     "output_type": "display_data"
    },
    {
     "data": {
      "text/plain": [
       "'C:\\\\Users\\\\ashis\\\\OneDrive\\\\Documents\\\\summer project\\\\summer project - 3d\\\\week2\\\\new_data\\\\mask\\\\000155_10_2.png'"
      ]
     },
     "metadata": {},
     "output_type": "display_data"
    },
    {
     "data": {
      "text/plain": [
       "'C:\\\\Users\\\\ashis\\\\OneDrive\\\\Documents\\\\summer project\\\\summer project - 3d\\\\week2\\\\new_data\\\\image\\\\000155_10_3.png'"
      ]
     },
     "metadata": {},
     "output_type": "display_data"
    },
    {
     "data": {
      "text/plain": [
       "'C:\\\\Users\\\\ashis\\\\OneDrive\\\\Documents\\\\summer project\\\\summer project - 3d\\\\week2\\\\new_data\\\\mask\\\\000155_10_3.png'"
      ]
     },
     "metadata": {},
     "output_type": "display_data"
    },
    {
     "data": {
      "text/plain": [
       "'C:\\\\Users\\\\ashis\\\\OneDrive\\\\Documents\\\\summer project\\\\summer project - 3d\\\\week2\\\\new_data\\\\image\\\\000155_10_4.png'"
      ]
     },
     "metadata": {},
     "output_type": "display_data"
    },
    {
     "data": {
      "text/plain": [
       "'C:\\\\Users\\\\ashis\\\\OneDrive\\\\Documents\\\\summer project\\\\summer project - 3d\\\\week2\\\\new_data\\\\mask\\\\000155_10_4.png'"
      ]
     },
     "metadata": {},
     "output_type": "display_data"
    },
    {
     "data": {
      "text/plain": [
       "'C:\\\\Users\\\\ashis\\\\OneDrive\\\\Documents\\\\summer project\\\\summer project - 3d\\\\week2\\\\new_data\\\\image\\\\000155_10_5.png'"
      ]
     },
     "metadata": {},
     "output_type": "display_data"
    },
    {
     "data": {
      "text/plain": [
       "'C:\\\\Users\\\\ashis\\\\OneDrive\\\\Documents\\\\summer project\\\\summer project - 3d\\\\week2\\\\new_data\\\\mask\\\\000155_10_5.png'"
      ]
     },
     "metadata": {},
     "output_type": "display_data"
    },
    {
     "name": "stderr",
     "output_type": "stream",
     "text": [
      "\r",
      " 78%|██████████████████████████████████████████████████████████████▍                 | 156/200 [00:44<00:12,  3.63it/s]"
     ]
    },
    {
     "data": {
      "text/plain": [
       "'C:\\\\Users\\\\ashis\\\\OneDrive\\\\Documents\\\\summer project\\\\summer project - 3d\\\\week2\\\\new_data\\\\image\\\\000156_10_0.png'"
      ]
     },
     "metadata": {},
     "output_type": "display_data"
    },
    {
     "data": {
      "text/plain": [
       "'C:\\\\Users\\\\ashis\\\\OneDrive\\\\Documents\\\\summer project\\\\summer project - 3d\\\\week2\\\\new_data\\\\mask\\\\000156_10_0.png'"
      ]
     },
     "metadata": {},
     "output_type": "display_data"
    },
    {
     "data": {
      "text/plain": [
       "'C:\\\\Users\\\\ashis\\\\OneDrive\\\\Documents\\\\summer project\\\\summer project - 3d\\\\week2\\\\new_data\\\\image\\\\000156_10_1.png'"
      ]
     },
     "metadata": {},
     "output_type": "display_data"
    },
    {
     "data": {
      "text/plain": [
       "'C:\\\\Users\\\\ashis\\\\OneDrive\\\\Documents\\\\summer project\\\\summer project - 3d\\\\week2\\\\new_data\\\\mask\\\\000156_10_1.png'"
      ]
     },
     "metadata": {},
     "output_type": "display_data"
    },
    {
     "data": {
      "text/plain": [
       "'C:\\\\Users\\\\ashis\\\\OneDrive\\\\Documents\\\\summer project\\\\summer project - 3d\\\\week2\\\\new_data\\\\image\\\\000156_10_2.png'"
      ]
     },
     "metadata": {},
     "output_type": "display_data"
    },
    {
     "data": {
      "text/plain": [
       "'C:\\\\Users\\\\ashis\\\\OneDrive\\\\Documents\\\\summer project\\\\summer project - 3d\\\\week2\\\\new_data\\\\mask\\\\000156_10_2.png'"
      ]
     },
     "metadata": {},
     "output_type": "display_data"
    },
    {
     "data": {
      "text/plain": [
       "'C:\\\\Users\\\\ashis\\\\OneDrive\\\\Documents\\\\summer project\\\\summer project - 3d\\\\week2\\\\new_data\\\\image\\\\000156_10_3.png'"
      ]
     },
     "metadata": {},
     "output_type": "display_data"
    },
    {
     "data": {
      "text/plain": [
       "'C:\\\\Users\\\\ashis\\\\OneDrive\\\\Documents\\\\summer project\\\\summer project - 3d\\\\week2\\\\new_data\\\\mask\\\\000156_10_3.png'"
      ]
     },
     "metadata": {},
     "output_type": "display_data"
    },
    {
     "data": {
      "text/plain": [
       "'C:\\\\Users\\\\ashis\\\\OneDrive\\\\Documents\\\\summer project\\\\summer project - 3d\\\\week2\\\\new_data\\\\image\\\\000156_10_4.png'"
      ]
     },
     "metadata": {},
     "output_type": "display_data"
    },
    {
     "data": {
      "text/plain": [
       "'C:\\\\Users\\\\ashis\\\\OneDrive\\\\Documents\\\\summer project\\\\summer project - 3d\\\\week2\\\\new_data\\\\mask\\\\000156_10_4.png'"
      ]
     },
     "metadata": {},
     "output_type": "display_data"
    },
    {
     "data": {
      "text/plain": [
       "'C:\\\\Users\\\\ashis\\\\OneDrive\\\\Documents\\\\summer project\\\\summer project - 3d\\\\week2\\\\new_data\\\\image\\\\000156_10_5.png'"
      ]
     },
     "metadata": {},
     "output_type": "display_data"
    },
    {
     "data": {
      "text/plain": [
       "'C:\\\\Users\\\\ashis\\\\OneDrive\\\\Documents\\\\summer project\\\\summer project - 3d\\\\week2\\\\new_data\\\\mask\\\\000156_10_5.png'"
      ]
     },
     "metadata": {},
     "output_type": "display_data"
    },
    {
     "name": "stderr",
     "output_type": "stream",
     "text": [
      "\r",
      " 78%|██████████████████████████████████████████████████████████████▊                 | 157/200 [00:44<00:11,  3.72it/s]"
     ]
    },
    {
     "data": {
      "text/plain": [
       "'C:\\\\Users\\\\ashis\\\\OneDrive\\\\Documents\\\\summer project\\\\summer project - 3d\\\\week2\\\\new_data\\\\image\\\\000157_10_0.png'"
      ]
     },
     "metadata": {},
     "output_type": "display_data"
    },
    {
     "data": {
      "text/plain": [
       "'C:\\\\Users\\\\ashis\\\\OneDrive\\\\Documents\\\\summer project\\\\summer project - 3d\\\\week2\\\\new_data\\\\mask\\\\000157_10_0.png'"
      ]
     },
     "metadata": {},
     "output_type": "display_data"
    },
    {
     "data": {
      "text/plain": [
       "'C:\\\\Users\\\\ashis\\\\OneDrive\\\\Documents\\\\summer project\\\\summer project - 3d\\\\week2\\\\new_data\\\\image\\\\000157_10_1.png'"
      ]
     },
     "metadata": {},
     "output_type": "display_data"
    },
    {
     "data": {
      "text/plain": [
       "'C:\\\\Users\\\\ashis\\\\OneDrive\\\\Documents\\\\summer project\\\\summer project - 3d\\\\week2\\\\new_data\\\\mask\\\\000157_10_1.png'"
      ]
     },
     "metadata": {},
     "output_type": "display_data"
    },
    {
     "data": {
      "text/plain": [
       "'C:\\\\Users\\\\ashis\\\\OneDrive\\\\Documents\\\\summer project\\\\summer project - 3d\\\\week2\\\\new_data\\\\image\\\\000157_10_2.png'"
      ]
     },
     "metadata": {},
     "output_type": "display_data"
    },
    {
     "data": {
      "text/plain": [
       "'C:\\\\Users\\\\ashis\\\\OneDrive\\\\Documents\\\\summer project\\\\summer project - 3d\\\\week2\\\\new_data\\\\mask\\\\000157_10_2.png'"
      ]
     },
     "metadata": {},
     "output_type": "display_data"
    },
    {
     "data": {
      "text/plain": [
       "'C:\\\\Users\\\\ashis\\\\OneDrive\\\\Documents\\\\summer project\\\\summer project - 3d\\\\week2\\\\new_data\\\\image\\\\000157_10_3.png'"
      ]
     },
     "metadata": {},
     "output_type": "display_data"
    },
    {
     "data": {
      "text/plain": [
       "'C:\\\\Users\\\\ashis\\\\OneDrive\\\\Documents\\\\summer project\\\\summer project - 3d\\\\week2\\\\new_data\\\\mask\\\\000157_10_3.png'"
      ]
     },
     "metadata": {},
     "output_type": "display_data"
    },
    {
     "data": {
      "text/plain": [
       "'C:\\\\Users\\\\ashis\\\\OneDrive\\\\Documents\\\\summer project\\\\summer project - 3d\\\\week2\\\\new_data\\\\image\\\\000157_10_4.png'"
      ]
     },
     "metadata": {},
     "output_type": "display_data"
    },
    {
     "data": {
      "text/plain": [
       "'C:\\\\Users\\\\ashis\\\\OneDrive\\\\Documents\\\\summer project\\\\summer project - 3d\\\\week2\\\\new_data\\\\mask\\\\000157_10_4.png'"
      ]
     },
     "metadata": {},
     "output_type": "display_data"
    },
    {
     "data": {
      "text/plain": [
       "'C:\\\\Users\\\\ashis\\\\OneDrive\\\\Documents\\\\summer project\\\\summer project - 3d\\\\week2\\\\new_data\\\\image\\\\000157_10_5.png'"
      ]
     },
     "metadata": {},
     "output_type": "display_data"
    },
    {
     "data": {
      "text/plain": [
       "'C:\\\\Users\\\\ashis\\\\OneDrive\\\\Documents\\\\summer project\\\\summer project - 3d\\\\week2\\\\new_data\\\\mask\\\\000157_10_5.png'"
      ]
     },
     "metadata": {},
     "output_type": "display_data"
    },
    {
     "name": "stderr",
     "output_type": "stream",
     "text": [
      "\r",
      " 79%|███████████████████████████████████████████████████████████████▏                | 158/200 [00:45<00:11,  3.77it/s]"
     ]
    },
    {
     "data": {
      "text/plain": [
       "'C:\\\\Users\\\\ashis\\\\OneDrive\\\\Documents\\\\summer project\\\\summer project - 3d\\\\week2\\\\new_data\\\\image\\\\000158_10_0.png'"
      ]
     },
     "metadata": {},
     "output_type": "display_data"
    },
    {
     "data": {
      "text/plain": [
       "'C:\\\\Users\\\\ashis\\\\OneDrive\\\\Documents\\\\summer project\\\\summer project - 3d\\\\week2\\\\new_data\\\\mask\\\\000158_10_0.png'"
      ]
     },
     "metadata": {},
     "output_type": "display_data"
    },
    {
     "data": {
      "text/plain": [
       "'C:\\\\Users\\\\ashis\\\\OneDrive\\\\Documents\\\\summer project\\\\summer project - 3d\\\\week2\\\\new_data\\\\image\\\\000158_10_1.png'"
      ]
     },
     "metadata": {},
     "output_type": "display_data"
    },
    {
     "data": {
      "text/plain": [
       "'C:\\\\Users\\\\ashis\\\\OneDrive\\\\Documents\\\\summer project\\\\summer project - 3d\\\\week2\\\\new_data\\\\mask\\\\000158_10_1.png'"
      ]
     },
     "metadata": {},
     "output_type": "display_data"
    },
    {
     "data": {
      "text/plain": [
       "'C:\\\\Users\\\\ashis\\\\OneDrive\\\\Documents\\\\summer project\\\\summer project - 3d\\\\week2\\\\new_data\\\\image\\\\000158_10_2.png'"
      ]
     },
     "metadata": {},
     "output_type": "display_data"
    },
    {
     "data": {
      "text/plain": [
       "'C:\\\\Users\\\\ashis\\\\OneDrive\\\\Documents\\\\summer project\\\\summer project - 3d\\\\week2\\\\new_data\\\\mask\\\\000158_10_2.png'"
      ]
     },
     "metadata": {},
     "output_type": "display_data"
    },
    {
     "data": {
      "text/plain": [
       "'C:\\\\Users\\\\ashis\\\\OneDrive\\\\Documents\\\\summer project\\\\summer project - 3d\\\\week2\\\\new_data\\\\image\\\\000158_10_3.png'"
      ]
     },
     "metadata": {},
     "output_type": "display_data"
    },
    {
     "data": {
      "text/plain": [
       "'C:\\\\Users\\\\ashis\\\\OneDrive\\\\Documents\\\\summer project\\\\summer project - 3d\\\\week2\\\\new_data\\\\mask\\\\000158_10_3.png'"
      ]
     },
     "metadata": {},
     "output_type": "display_data"
    },
    {
     "data": {
      "text/plain": [
       "'C:\\\\Users\\\\ashis\\\\OneDrive\\\\Documents\\\\summer project\\\\summer project - 3d\\\\week2\\\\new_data\\\\image\\\\000158_10_4.png'"
      ]
     },
     "metadata": {},
     "output_type": "display_data"
    },
    {
     "data": {
      "text/plain": [
       "'C:\\\\Users\\\\ashis\\\\OneDrive\\\\Documents\\\\summer project\\\\summer project - 3d\\\\week2\\\\new_data\\\\mask\\\\000158_10_4.png'"
      ]
     },
     "metadata": {},
     "output_type": "display_data"
    },
    {
     "data": {
      "text/plain": [
       "'C:\\\\Users\\\\ashis\\\\OneDrive\\\\Documents\\\\summer project\\\\summer project - 3d\\\\week2\\\\new_data\\\\image\\\\000158_10_5.png'"
      ]
     },
     "metadata": {},
     "output_type": "display_data"
    },
    {
     "data": {
      "text/plain": [
       "'C:\\\\Users\\\\ashis\\\\OneDrive\\\\Documents\\\\summer project\\\\summer project - 3d\\\\week2\\\\new_data\\\\mask\\\\000158_10_5.png'"
      ]
     },
     "metadata": {},
     "output_type": "display_data"
    },
    {
     "name": "stderr",
     "output_type": "stream",
     "text": [
      "\r",
      " 80%|███████████████████████████████████████████████████████████████▌                | 159/200 [00:45<00:10,  3.75it/s]"
     ]
    },
    {
     "data": {
      "text/plain": [
       "'C:\\\\Users\\\\ashis\\\\OneDrive\\\\Documents\\\\summer project\\\\summer project - 3d\\\\week2\\\\new_data\\\\image\\\\000159_10_0.png'"
      ]
     },
     "metadata": {},
     "output_type": "display_data"
    },
    {
     "data": {
      "text/plain": [
       "'C:\\\\Users\\\\ashis\\\\OneDrive\\\\Documents\\\\summer project\\\\summer project - 3d\\\\week2\\\\new_data\\\\mask\\\\000159_10_0.png'"
      ]
     },
     "metadata": {},
     "output_type": "display_data"
    },
    {
     "data": {
      "text/plain": [
       "'C:\\\\Users\\\\ashis\\\\OneDrive\\\\Documents\\\\summer project\\\\summer project - 3d\\\\week2\\\\new_data\\\\image\\\\000159_10_1.png'"
      ]
     },
     "metadata": {},
     "output_type": "display_data"
    },
    {
     "data": {
      "text/plain": [
       "'C:\\\\Users\\\\ashis\\\\OneDrive\\\\Documents\\\\summer project\\\\summer project - 3d\\\\week2\\\\new_data\\\\mask\\\\000159_10_1.png'"
      ]
     },
     "metadata": {},
     "output_type": "display_data"
    },
    {
     "data": {
      "text/plain": [
       "'C:\\\\Users\\\\ashis\\\\OneDrive\\\\Documents\\\\summer project\\\\summer project - 3d\\\\week2\\\\new_data\\\\image\\\\000159_10_2.png'"
      ]
     },
     "metadata": {},
     "output_type": "display_data"
    },
    {
     "data": {
      "text/plain": [
       "'C:\\\\Users\\\\ashis\\\\OneDrive\\\\Documents\\\\summer project\\\\summer project - 3d\\\\week2\\\\new_data\\\\mask\\\\000159_10_2.png'"
      ]
     },
     "metadata": {},
     "output_type": "display_data"
    },
    {
     "data": {
      "text/plain": [
       "'C:\\\\Users\\\\ashis\\\\OneDrive\\\\Documents\\\\summer project\\\\summer project - 3d\\\\week2\\\\new_data\\\\image\\\\000159_10_3.png'"
      ]
     },
     "metadata": {},
     "output_type": "display_data"
    },
    {
     "data": {
      "text/plain": [
       "'C:\\\\Users\\\\ashis\\\\OneDrive\\\\Documents\\\\summer project\\\\summer project - 3d\\\\week2\\\\new_data\\\\mask\\\\000159_10_3.png'"
      ]
     },
     "metadata": {},
     "output_type": "display_data"
    },
    {
     "data": {
      "text/plain": [
       "'C:\\\\Users\\\\ashis\\\\OneDrive\\\\Documents\\\\summer project\\\\summer project - 3d\\\\week2\\\\new_data\\\\image\\\\000159_10_4.png'"
      ]
     },
     "metadata": {},
     "output_type": "display_data"
    },
    {
     "data": {
      "text/plain": [
       "'C:\\\\Users\\\\ashis\\\\OneDrive\\\\Documents\\\\summer project\\\\summer project - 3d\\\\week2\\\\new_data\\\\mask\\\\000159_10_4.png'"
      ]
     },
     "metadata": {},
     "output_type": "display_data"
    },
    {
     "data": {
      "text/plain": [
       "'C:\\\\Users\\\\ashis\\\\OneDrive\\\\Documents\\\\summer project\\\\summer project - 3d\\\\week2\\\\new_data\\\\image\\\\000159_10_5.png'"
      ]
     },
     "metadata": {},
     "output_type": "display_data"
    },
    {
     "data": {
      "text/plain": [
       "'C:\\\\Users\\\\ashis\\\\OneDrive\\\\Documents\\\\summer project\\\\summer project - 3d\\\\week2\\\\new_data\\\\mask\\\\000159_10_5.png'"
      ]
     },
     "metadata": {},
     "output_type": "display_data"
    },
    {
     "name": "stderr",
     "output_type": "stream",
     "text": [
      "\r",
      " 80%|████████████████████████████████████████████████████████████████                | 160/200 [00:45<00:11,  3.60it/s]"
     ]
    },
    {
     "data": {
      "text/plain": [
       "'C:\\\\Users\\\\ashis\\\\OneDrive\\\\Documents\\\\summer project\\\\summer project - 3d\\\\week2\\\\new_data\\\\image\\\\000160_10_0.png'"
      ]
     },
     "metadata": {},
     "output_type": "display_data"
    },
    {
     "data": {
      "text/plain": [
       "'C:\\\\Users\\\\ashis\\\\OneDrive\\\\Documents\\\\summer project\\\\summer project - 3d\\\\week2\\\\new_data\\\\mask\\\\000160_10_0.png'"
      ]
     },
     "metadata": {},
     "output_type": "display_data"
    },
    {
     "data": {
      "text/plain": [
       "'C:\\\\Users\\\\ashis\\\\OneDrive\\\\Documents\\\\summer project\\\\summer project - 3d\\\\week2\\\\new_data\\\\image\\\\000160_10_1.png'"
      ]
     },
     "metadata": {},
     "output_type": "display_data"
    },
    {
     "data": {
      "text/plain": [
       "'C:\\\\Users\\\\ashis\\\\OneDrive\\\\Documents\\\\summer project\\\\summer project - 3d\\\\week2\\\\new_data\\\\mask\\\\000160_10_1.png'"
      ]
     },
     "metadata": {},
     "output_type": "display_data"
    },
    {
     "data": {
      "text/plain": [
       "'C:\\\\Users\\\\ashis\\\\OneDrive\\\\Documents\\\\summer project\\\\summer project - 3d\\\\week2\\\\new_data\\\\image\\\\000160_10_2.png'"
      ]
     },
     "metadata": {},
     "output_type": "display_data"
    },
    {
     "data": {
      "text/plain": [
       "'C:\\\\Users\\\\ashis\\\\OneDrive\\\\Documents\\\\summer project\\\\summer project - 3d\\\\week2\\\\new_data\\\\mask\\\\000160_10_2.png'"
      ]
     },
     "metadata": {},
     "output_type": "display_data"
    },
    {
     "data": {
      "text/plain": [
       "'C:\\\\Users\\\\ashis\\\\OneDrive\\\\Documents\\\\summer project\\\\summer project - 3d\\\\week2\\\\new_data\\\\image\\\\000160_10_3.png'"
      ]
     },
     "metadata": {},
     "output_type": "display_data"
    },
    {
     "data": {
      "text/plain": [
       "'C:\\\\Users\\\\ashis\\\\OneDrive\\\\Documents\\\\summer project\\\\summer project - 3d\\\\week2\\\\new_data\\\\mask\\\\000160_10_3.png'"
      ]
     },
     "metadata": {},
     "output_type": "display_data"
    },
    {
     "data": {
      "text/plain": [
       "'C:\\\\Users\\\\ashis\\\\OneDrive\\\\Documents\\\\summer project\\\\summer project - 3d\\\\week2\\\\new_data\\\\image\\\\000160_10_4.png'"
      ]
     },
     "metadata": {},
     "output_type": "display_data"
    },
    {
     "data": {
      "text/plain": [
       "'C:\\\\Users\\\\ashis\\\\OneDrive\\\\Documents\\\\summer project\\\\summer project - 3d\\\\week2\\\\new_data\\\\mask\\\\000160_10_4.png'"
      ]
     },
     "metadata": {},
     "output_type": "display_data"
    },
    {
     "data": {
      "text/plain": [
       "'C:\\\\Users\\\\ashis\\\\OneDrive\\\\Documents\\\\summer project\\\\summer project - 3d\\\\week2\\\\new_data\\\\image\\\\000160_10_5.png'"
      ]
     },
     "metadata": {},
     "output_type": "display_data"
    },
    {
     "data": {
      "text/plain": [
       "'C:\\\\Users\\\\ashis\\\\OneDrive\\\\Documents\\\\summer project\\\\summer project - 3d\\\\week2\\\\new_data\\\\mask\\\\000160_10_5.png'"
      ]
     },
     "metadata": {},
     "output_type": "display_data"
    },
    {
     "name": "stderr",
     "output_type": "stream",
     "text": [
      "\r",
      " 80%|████████████████████████████████████████████████████████████████▍               | 161/200 [00:45<00:10,  3.66it/s]"
     ]
    },
    {
     "data": {
      "text/plain": [
       "'C:\\\\Users\\\\ashis\\\\OneDrive\\\\Documents\\\\summer project\\\\summer project - 3d\\\\week2\\\\new_data\\\\image\\\\000161_10_0.png'"
      ]
     },
     "metadata": {},
     "output_type": "display_data"
    },
    {
     "data": {
      "text/plain": [
       "'C:\\\\Users\\\\ashis\\\\OneDrive\\\\Documents\\\\summer project\\\\summer project - 3d\\\\week2\\\\new_data\\\\mask\\\\000161_10_0.png'"
      ]
     },
     "metadata": {},
     "output_type": "display_data"
    },
    {
     "data": {
      "text/plain": [
       "'C:\\\\Users\\\\ashis\\\\OneDrive\\\\Documents\\\\summer project\\\\summer project - 3d\\\\week2\\\\new_data\\\\image\\\\000161_10_1.png'"
      ]
     },
     "metadata": {},
     "output_type": "display_data"
    },
    {
     "data": {
      "text/plain": [
       "'C:\\\\Users\\\\ashis\\\\OneDrive\\\\Documents\\\\summer project\\\\summer project - 3d\\\\week2\\\\new_data\\\\mask\\\\000161_10_1.png'"
      ]
     },
     "metadata": {},
     "output_type": "display_data"
    },
    {
     "data": {
      "text/plain": [
       "'C:\\\\Users\\\\ashis\\\\OneDrive\\\\Documents\\\\summer project\\\\summer project - 3d\\\\week2\\\\new_data\\\\image\\\\000161_10_2.png'"
      ]
     },
     "metadata": {},
     "output_type": "display_data"
    },
    {
     "data": {
      "text/plain": [
       "'C:\\\\Users\\\\ashis\\\\OneDrive\\\\Documents\\\\summer project\\\\summer project - 3d\\\\week2\\\\new_data\\\\mask\\\\000161_10_2.png'"
      ]
     },
     "metadata": {},
     "output_type": "display_data"
    },
    {
     "data": {
      "text/plain": [
       "'C:\\\\Users\\\\ashis\\\\OneDrive\\\\Documents\\\\summer project\\\\summer project - 3d\\\\week2\\\\new_data\\\\image\\\\000161_10_3.png'"
      ]
     },
     "metadata": {},
     "output_type": "display_data"
    },
    {
     "data": {
      "text/plain": [
       "'C:\\\\Users\\\\ashis\\\\OneDrive\\\\Documents\\\\summer project\\\\summer project - 3d\\\\week2\\\\new_data\\\\mask\\\\000161_10_3.png'"
      ]
     },
     "metadata": {},
     "output_type": "display_data"
    },
    {
     "data": {
      "text/plain": [
       "'C:\\\\Users\\\\ashis\\\\OneDrive\\\\Documents\\\\summer project\\\\summer project - 3d\\\\week2\\\\new_data\\\\image\\\\000161_10_4.png'"
      ]
     },
     "metadata": {},
     "output_type": "display_data"
    },
    {
     "data": {
      "text/plain": [
       "'C:\\\\Users\\\\ashis\\\\OneDrive\\\\Documents\\\\summer project\\\\summer project - 3d\\\\week2\\\\new_data\\\\mask\\\\000161_10_4.png'"
      ]
     },
     "metadata": {},
     "output_type": "display_data"
    },
    {
     "data": {
      "text/plain": [
       "'C:\\\\Users\\\\ashis\\\\OneDrive\\\\Documents\\\\summer project\\\\summer project - 3d\\\\week2\\\\new_data\\\\image\\\\000161_10_5.png'"
      ]
     },
     "metadata": {},
     "output_type": "display_data"
    },
    {
     "data": {
      "text/plain": [
       "'C:\\\\Users\\\\ashis\\\\OneDrive\\\\Documents\\\\summer project\\\\summer project - 3d\\\\week2\\\\new_data\\\\mask\\\\000161_10_5.png'"
      ]
     },
     "metadata": {},
     "output_type": "display_data"
    },
    {
     "name": "stderr",
     "output_type": "stream",
     "text": [
      "\r",
      " 81%|████████████████████████████████████████████████████████████████▊               | 162/200 [00:46<00:10,  3.51it/s]"
     ]
    },
    {
     "data": {
      "text/plain": [
       "'C:\\\\Users\\\\ashis\\\\OneDrive\\\\Documents\\\\summer project\\\\summer project - 3d\\\\week2\\\\new_data\\\\image\\\\000162_10_0.png'"
      ]
     },
     "metadata": {},
     "output_type": "display_data"
    },
    {
     "data": {
      "text/plain": [
       "'C:\\\\Users\\\\ashis\\\\OneDrive\\\\Documents\\\\summer project\\\\summer project - 3d\\\\week2\\\\new_data\\\\mask\\\\000162_10_0.png'"
      ]
     },
     "metadata": {},
     "output_type": "display_data"
    },
    {
     "data": {
      "text/plain": [
       "'C:\\\\Users\\\\ashis\\\\OneDrive\\\\Documents\\\\summer project\\\\summer project - 3d\\\\week2\\\\new_data\\\\image\\\\000162_10_1.png'"
      ]
     },
     "metadata": {},
     "output_type": "display_data"
    },
    {
     "data": {
      "text/plain": [
       "'C:\\\\Users\\\\ashis\\\\OneDrive\\\\Documents\\\\summer project\\\\summer project - 3d\\\\week2\\\\new_data\\\\mask\\\\000162_10_1.png'"
      ]
     },
     "metadata": {},
     "output_type": "display_data"
    },
    {
     "data": {
      "text/plain": [
       "'C:\\\\Users\\\\ashis\\\\OneDrive\\\\Documents\\\\summer project\\\\summer project - 3d\\\\week2\\\\new_data\\\\image\\\\000162_10_2.png'"
      ]
     },
     "metadata": {},
     "output_type": "display_data"
    },
    {
     "data": {
      "text/plain": [
       "'C:\\\\Users\\\\ashis\\\\OneDrive\\\\Documents\\\\summer project\\\\summer project - 3d\\\\week2\\\\new_data\\\\mask\\\\000162_10_2.png'"
      ]
     },
     "metadata": {},
     "output_type": "display_data"
    },
    {
     "data": {
      "text/plain": [
       "'C:\\\\Users\\\\ashis\\\\OneDrive\\\\Documents\\\\summer project\\\\summer project - 3d\\\\week2\\\\new_data\\\\image\\\\000162_10_3.png'"
      ]
     },
     "metadata": {},
     "output_type": "display_data"
    },
    {
     "data": {
      "text/plain": [
       "'C:\\\\Users\\\\ashis\\\\OneDrive\\\\Documents\\\\summer project\\\\summer project - 3d\\\\week2\\\\new_data\\\\mask\\\\000162_10_3.png'"
      ]
     },
     "metadata": {},
     "output_type": "display_data"
    },
    {
     "data": {
      "text/plain": [
       "'C:\\\\Users\\\\ashis\\\\OneDrive\\\\Documents\\\\summer project\\\\summer project - 3d\\\\week2\\\\new_data\\\\image\\\\000162_10_4.png'"
      ]
     },
     "metadata": {},
     "output_type": "display_data"
    },
    {
     "data": {
      "text/plain": [
       "'C:\\\\Users\\\\ashis\\\\OneDrive\\\\Documents\\\\summer project\\\\summer project - 3d\\\\week2\\\\new_data\\\\mask\\\\000162_10_4.png'"
      ]
     },
     "metadata": {},
     "output_type": "display_data"
    },
    {
     "data": {
      "text/plain": [
       "'C:\\\\Users\\\\ashis\\\\OneDrive\\\\Documents\\\\summer project\\\\summer project - 3d\\\\week2\\\\new_data\\\\image\\\\000162_10_5.png'"
      ]
     },
     "metadata": {},
     "output_type": "display_data"
    },
    {
     "data": {
      "text/plain": [
       "'C:\\\\Users\\\\ashis\\\\OneDrive\\\\Documents\\\\summer project\\\\summer project - 3d\\\\week2\\\\new_data\\\\mask\\\\000162_10_5.png'"
      ]
     },
     "metadata": {},
     "output_type": "display_data"
    },
    {
     "name": "stderr",
     "output_type": "stream",
     "text": [
      "\r",
      " 82%|█████████████████████████████████████████████████████████████████▏              | 163/200 [00:46<00:10,  3.59it/s]"
     ]
    },
    {
     "data": {
      "text/plain": [
       "'C:\\\\Users\\\\ashis\\\\OneDrive\\\\Documents\\\\summer project\\\\summer project - 3d\\\\week2\\\\new_data\\\\image\\\\000163_10_0.png'"
      ]
     },
     "metadata": {},
     "output_type": "display_data"
    },
    {
     "data": {
      "text/plain": [
       "'C:\\\\Users\\\\ashis\\\\OneDrive\\\\Documents\\\\summer project\\\\summer project - 3d\\\\week2\\\\new_data\\\\mask\\\\000163_10_0.png'"
      ]
     },
     "metadata": {},
     "output_type": "display_data"
    },
    {
     "data": {
      "text/plain": [
       "'C:\\\\Users\\\\ashis\\\\OneDrive\\\\Documents\\\\summer project\\\\summer project - 3d\\\\week2\\\\new_data\\\\image\\\\000163_10_1.png'"
      ]
     },
     "metadata": {},
     "output_type": "display_data"
    },
    {
     "data": {
      "text/plain": [
       "'C:\\\\Users\\\\ashis\\\\OneDrive\\\\Documents\\\\summer project\\\\summer project - 3d\\\\week2\\\\new_data\\\\mask\\\\000163_10_1.png'"
      ]
     },
     "metadata": {},
     "output_type": "display_data"
    },
    {
     "data": {
      "text/plain": [
       "'C:\\\\Users\\\\ashis\\\\OneDrive\\\\Documents\\\\summer project\\\\summer project - 3d\\\\week2\\\\new_data\\\\image\\\\000163_10_2.png'"
      ]
     },
     "metadata": {},
     "output_type": "display_data"
    },
    {
     "data": {
      "text/plain": [
       "'C:\\\\Users\\\\ashis\\\\OneDrive\\\\Documents\\\\summer project\\\\summer project - 3d\\\\week2\\\\new_data\\\\mask\\\\000163_10_2.png'"
      ]
     },
     "metadata": {},
     "output_type": "display_data"
    },
    {
     "data": {
      "text/plain": [
       "'C:\\\\Users\\\\ashis\\\\OneDrive\\\\Documents\\\\summer project\\\\summer project - 3d\\\\week2\\\\new_data\\\\image\\\\000163_10_3.png'"
      ]
     },
     "metadata": {},
     "output_type": "display_data"
    },
    {
     "data": {
      "text/plain": [
       "'C:\\\\Users\\\\ashis\\\\OneDrive\\\\Documents\\\\summer project\\\\summer project - 3d\\\\week2\\\\new_data\\\\mask\\\\000163_10_3.png'"
      ]
     },
     "metadata": {},
     "output_type": "display_data"
    },
    {
     "data": {
      "text/plain": [
       "'C:\\\\Users\\\\ashis\\\\OneDrive\\\\Documents\\\\summer project\\\\summer project - 3d\\\\week2\\\\new_data\\\\image\\\\000163_10_4.png'"
      ]
     },
     "metadata": {},
     "output_type": "display_data"
    },
    {
     "data": {
      "text/plain": [
       "'C:\\\\Users\\\\ashis\\\\OneDrive\\\\Documents\\\\summer project\\\\summer project - 3d\\\\week2\\\\new_data\\\\mask\\\\000163_10_4.png'"
      ]
     },
     "metadata": {},
     "output_type": "display_data"
    },
    {
     "data": {
      "text/plain": [
       "'C:\\\\Users\\\\ashis\\\\OneDrive\\\\Documents\\\\summer project\\\\summer project - 3d\\\\week2\\\\new_data\\\\image\\\\000163_10_5.png'"
      ]
     },
     "metadata": {},
     "output_type": "display_data"
    },
    {
     "data": {
      "text/plain": [
       "'C:\\\\Users\\\\ashis\\\\OneDrive\\\\Documents\\\\summer project\\\\summer project - 3d\\\\week2\\\\new_data\\\\mask\\\\000163_10_5.png'"
      ]
     },
     "metadata": {},
     "output_type": "display_data"
    },
    {
     "name": "stderr",
     "output_type": "stream",
     "text": [
      "\r",
      " 82%|█████████████████████████████████████████████████████████████████▌              | 164/200 [00:46<00:09,  3.65it/s]"
     ]
    },
    {
     "data": {
      "text/plain": [
       "'C:\\\\Users\\\\ashis\\\\OneDrive\\\\Documents\\\\summer project\\\\summer project - 3d\\\\week2\\\\new_data\\\\image\\\\000164_10_0.png'"
      ]
     },
     "metadata": {},
     "output_type": "display_data"
    },
    {
     "data": {
      "text/plain": [
       "'C:\\\\Users\\\\ashis\\\\OneDrive\\\\Documents\\\\summer project\\\\summer project - 3d\\\\week2\\\\new_data\\\\mask\\\\000164_10_0.png'"
      ]
     },
     "metadata": {},
     "output_type": "display_data"
    },
    {
     "data": {
      "text/plain": [
       "'C:\\\\Users\\\\ashis\\\\OneDrive\\\\Documents\\\\summer project\\\\summer project - 3d\\\\week2\\\\new_data\\\\image\\\\000164_10_1.png'"
      ]
     },
     "metadata": {},
     "output_type": "display_data"
    },
    {
     "data": {
      "text/plain": [
       "'C:\\\\Users\\\\ashis\\\\OneDrive\\\\Documents\\\\summer project\\\\summer project - 3d\\\\week2\\\\new_data\\\\mask\\\\000164_10_1.png'"
      ]
     },
     "metadata": {},
     "output_type": "display_data"
    },
    {
     "data": {
      "text/plain": [
       "'C:\\\\Users\\\\ashis\\\\OneDrive\\\\Documents\\\\summer project\\\\summer project - 3d\\\\week2\\\\new_data\\\\image\\\\000164_10_2.png'"
      ]
     },
     "metadata": {},
     "output_type": "display_data"
    },
    {
     "data": {
      "text/plain": [
       "'C:\\\\Users\\\\ashis\\\\OneDrive\\\\Documents\\\\summer project\\\\summer project - 3d\\\\week2\\\\new_data\\\\mask\\\\000164_10_2.png'"
      ]
     },
     "metadata": {},
     "output_type": "display_data"
    },
    {
     "data": {
      "text/plain": [
       "'C:\\\\Users\\\\ashis\\\\OneDrive\\\\Documents\\\\summer project\\\\summer project - 3d\\\\week2\\\\new_data\\\\image\\\\000164_10_3.png'"
      ]
     },
     "metadata": {},
     "output_type": "display_data"
    },
    {
     "data": {
      "text/plain": [
       "'C:\\\\Users\\\\ashis\\\\OneDrive\\\\Documents\\\\summer project\\\\summer project - 3d\\\\week2\\\\new_data\\\\mask\\\\000164_10_3.png'"
      ]
     },
     "metadata": {},
     "output_type": "display_data"
    },
    {
     "data": {
      "text/plain": [
       "'C:\\\\Users\\\\ashis\\\\OneDrive\\\\Documents\\\\summer project\\\\summer project - 3d\\\\week2\\\\new_data\\\\image\\\\000164_10_4.png'"
      ]
     },
     "metadata": {},
     "output_type": "display_data"
    },
    {
     "data": {
      "text/plain": [
       "'C:\\\\Users\\\\ashis\\\\OneDrive\\\\Documents\\\\summer project\\\\summer project - 3d\\\\week2\\\\new_data\\\\mask\\\\000164_10_4.png'"
      ]
     },
     "metadata": {},
     "output_type": "display_data"
    },
    {
     "data": {
      "text/plain": [
       "'C:\\\\Users\\\\ashis\\\\OneDrive\\\\Documents\\\\summer project\\\\summer project - 3d\\\\week2\\\\new_data\\\\image\\\\000164_10_5.png'"
      ]
     },
     "metadata": {},
     "output_type": "display_data"
    },
    {
     "data": {
      "text/plain": [
       "'C:\\\\Users\\\\ashis\\\\OneDrive\\\\Documents\\\\summer project\\\\summer project - 3d\\\\week2\\\\new_data\\\\mask\\\\000164_10_5.png'"
      ]
     },
     "metadata": {},
     "output_type": "display_data"
    },
    {
     "name": "stderr",
     "output_type": "stream",
     "text": [
      "\r",
      " 82%|██████████████████████████████████████████████████████████████████              | 165/200 [00:46<00:09,  3.68it/s]"
     ]
    },
    {
     "data": {
      "text/plain": [
       "'C:\\\\Users\\\\ashis\\\\OneDrive\\\\Documents\\\\summer project\\\\summer project - 3d\\\\week2\\\\new_data\\\\image\\\\000165_10_0.png'"
      ]
     },
     "metadata": {},
     "output_type": "display_data"
    },
    {
     "data": {
      "text/plain": [
       "'C:\\\\Users\\\\ashis\\\\OneDrive\\\\Documents\\\\summer project\\\\summer project - 3d\\\\week2\\\\new_data\\\\mask\\\\000165_10_0.png'"
      ]
     },
     "metadata": {},
     "output_type": "display_data"
    },
    {
     "data": {
      "text/plain": [
       "'C:\\\\Users\\\\ashis\\\\OneDrive\\\\Documents\\\\summer project\\\\summer project - 3d\\\\week2\\\\new_data\\\\image\\\\000165_10_1.png'"
      ]
     },
     "metadata": {},
     "output_type": "display_data"
    },
    {
     "data": {
      "text/plain": [
       "'C:\\\\Users\\\\ashis\\\\OneDrive\\\\Documents\\\\summer project\\\\summer project - 3d\\\\week2\\\\new_data\\\\mask\\\\000165_10_1.png'"
      ]
     },
     "metadata": {},
     "output_type": "display_data"
    },
    {
     "data": {
      "text/plain": [
       "'C:\\\\Users\\\\ashis\\\\OneDrive\\\\Documents\\\\summer project\\\\summer project - 3d\\\\week2\\\\new_data\\\\image\\\\000165_10_2.png'"
      ]
     },
     "metadata": {},
     "output_type": "display_data"
    },
    {
     "data": {
      "text/plain": [
       "'C:\\\\Users\\\\ashis\\\\OneDrive\\\\Documents\\\\summer project\\\\summer project - 3d\\\\week2\\\\new_data\\\\mask\\\\000165_10_2.png'"
      ]
     },
     "metadata": {},
     "output_type": "display_data"
    },
    {
     "data": {
      "text/plain": [
       "'C:\\\\Users\\\\ashis\\\\OneDrive\\\\Documents\\\\summer project\\\\summer project - 3d\\\\week2\\\\new_data\\\\image\\\\000165_10_3.png'"
      ]
     },
     "metadata": {},
     "output_type": "display_data"
    },
    {
     "data": {
      "text/plain": [
       "'C:\\\\Users\\\\ashis\\\\OneDrive\\\\Documents\\\\summer project\\\\summer project - 3d\\\\week2\\\\new_data\\\\mask\\\\000165_10_3.png'"
      ]
     },
     "metadata": {},
     "output_type": "display_data"
    },
    {
     "data": {
      "text/plain": [
       "'C:\\\\Users\\\\ashis\\\\OneDrive\\\\Documents\\\\summer project\\\\summer project - 3d\\\\week2\\\\new_data\\\\image\\\\000165_10_4.png'"
      ]
     },
     "metadata": {},
     "output_type": "display_data"
    },
    {
     "data": {
      "text/plain": [
       "'C:\\\\Users\\\\ashis\\\\OneDrive\\\\Documents\\\\summer project\\\\summer project - 3d\\\\week2\\\\new_data\\\\mask\\\\000165_10_4.png'"
      ]
     },
     "metadata": {},
     "output_type": "display_data"
    },
    {
     "data": {
      "text/plain": [
       "'C:\\\\Users\\\\ashis\\\\OneDrive\\\\Documents\\\\summer project\\\\summer project - 3d\\\\week2\\\\new_data\\\\image\\\\000165_10_5.png'"
      ]
     },
     "metadata": {},
     "output_type": "display_data"
    },
    {
     "data": {
      "text/plain": [
       "'C:\\\\Users\\\\ashis\\\\OneDrive\\\\Documents\\\\summer project\\\\summer project - 3d\\\\week2\\\\new_data\\\\mask\\\\000165_10_5.png'"
      ]
     },
     "metadata": {},
     "output_type": "display_data"
    },
    {
     "name": "stderr",
     "output_type": "stream",
     "text": [
      "\r",
      " 83%|██████████████████████████████████████████████████████████████████▍             | 166/200 [00:47<00:09,  3.58it/s]"
     ]
    },
    {
     "data": {
      "text/plain": [
       "'C:\\\\Users\\\\ashis\\\\OneDrive\\\\Documents\\\\summer project\\\\summer project - 3d\\\\week2\\\\new_data\\\\image\\\\000166_10_0.png'"
      ]
     },
     "metadata": {},
     "output_type": "display_data"
    },
    {
     "data": {
      "text/plain": [
       "'C:\\\\Users\\\\ashis\\\\OneDrive\\\\Documents\\\\summer project\\\\summer project - 3d\\\\week2\\\\new_data\\\\mask\\\\000166_10_0.png'"
      ]
     },
     "metadata": {},
     "output_type": "display_data"
    },
    {
     "data": {
      "text/plain": [
       "'C:\\\\Users\\\\ashis\\\\OneDrive\\\\Documents\\\\summer project\\\\summer project - 3d\\\\week2\\\\new_data\\\\image\\\\000166_10_1.png'"
      ]
     },
     "metadata": {},
     "output_type": "display_data"
    },
    {
     "data": {
      "text/plain": [
       "'C:\\\\Users\\\\ashis\\\\OneDrive\\\\Documents\\\\summer project\\\\summer project - 3d\\\\week2\\\\new_data\\\\mask\\\\000166_10_1.png'"
      ]
     },
     "metadata": {},
     "output_type": "display_data"
    },
    {
     "data": {
      "text/plain": [
       "'C:\\\\Users\\\\ashis\\\\OneDrive\\\\Documents\\\\summer project\\\\summer project - 3d\\\\week2\\\\new_data\\\\image\\\\000166_10_2.png'"
      ]
     },
     "metadata": {},
     "output_type": "display_data"
    },
    {
     "data": {
      "text/plain": [
       "'C:\\\\Users\\\\ashis\\\\OneDrive\\\\Documents\\\\summer project\\\\summer project - 3d\\\\week2\\\\new_data\\\\mask\\\\000166_10_2.png'"
      ]
     },
     "metadata": {},
     "output_type": "display_data"
    },
    {
     "data": {
      "text/plain": [
       "'C:\\\\Users\\\\ashis\\\\OneDrive\\\\Documents\\\\summer project\\\\summer project - 3d\\\\week2\\\\new_data\\\\image\\\\000166_10_3.png'"
      ]
     },
     "metadata": {},
     "output_type": "display_data"
    },
    {
     "data": {
      "text/plain": [
       "'C:\\\\Users\\\\ashis\\\\OneDrive\\\\Documents\\\\summer project\\\\summer project - 3d\\\\week2\\\\new_data\\\\mask\\\\000166_10_3.png'"
      ]
     },
     "metadata": {},
     "output_type": "display_data"
    },
    {
     "data": {
      "text/plain": [
       "'C:\\\\Users\\\\ashis\\\\OneDrive\\\\Documents\\\\summer project\\\\summer project - 3d\\\\week2\\\\new_data\\\\image\\\\000166_10_4.png'"
      ]
     },
     "metadata": {},
     "output_type": "display_data"
    },
    {
     "data": {
      "text/plain": [
       "'C:\\\\Users\\\\ashis\\\\OneDrive\\\\Documents\\\\summer project\\\\summer project - 3d\\\\week2\\\\new_data\\\\mask\\\\000166_10_4.png'"
      ]
     },
     "metadata": {},
     "output_type": "display_data"
    },
    {
     "data": {
      "text/plain": [
       "'C:\\\\Users\\\\ashis\\\\OneDrive\\\\Documents\\\\summer project\\\\summer project - 3d\\\\week2\\\\new_data\\\\image\\\\000166_10_5.png'"
      ]
     },
     "metadata": {},
     "output_type": "display_data"
    },
    {
     "data": {
      "text/plain": [
       "'C:\\\\Users\\\\ashis\\\\OneDrive\\\\Documents\\\\summer project\\\\summer project - 3d\\\\week2\\\\new_data\\\\mask\\\\000166_10_5.png'"
      ]
     },
     "metadata": {},
     "output_type": "display_data"
    },
    {
     "name": "stderr",
     "output_type": "stream",
     "text": [
      "\r",
      " 84%|██████████████████████████████████████████████████████████████████▊             | 167/200 [00:47<00:09,  3.61it/s]"
     ]
    },
    {
     "data": {
      "text/plain": [
       "'C:\\\\Users\\\\ashis\\\\OneDrive\\\\Documents\\\\summer project\\\\summer project - 3d\\\\week2\\\\new_data\\\\image\\\\000167_10_0.png'"
      ]
     },
     "metadata": {},
     "output_type": "display_data"
    },
    {
     "data": {
      "text/plain": [
       "'C:\\\\Users\\\\ashis\\\\OneDrive\\\\Documents\\\\summer project\\\\summer project - 3d\\\\week2\\\\new_data\\\\mask\\\\000167_10_0.png'"
      ]
     },
     "metadata": {},
     "output_type": "display_data"
    },
    {
     "data": {
      "text/plain": [
       "'C:\\\\Users\\\\ashis\\\\OneDrive\\\\Documents\\\\summer project\\\\summer project - 3d\\\\week2\\\\new_data\\\\image\\\\000167_10_1.png'"
      ]
     },
     "metadata": {},
     "output_type": "display_data"
    },
    {
     "data": {
      "text/plain": [
       "'C:\\\\Users\\\\ashis\\\\OneDrive\\\\Documents\\\\summer project\\\\summer project - 3d\\\\week2\\\\new_data\\\\mask\\\\000167_10_1.png'"
      ]
     },
     "metadata": {},
     "output_type": "display_data"
    },
    {
     "data": {
      "text/plain": [
       "'C:\\\\Users\\\\ashis\\\\OneDrive\\\\Documents\\\\summer project\\\\summer project - 3d\\\\week2\\\\new_data\\\\image\\\\000167_10_2.png'"
      ]
     },
     "metadata": {},
     "output_type": "display_data"
    },
    {
     "data": {
      "text/plain": [
       "'C:\\\\Users\\\\ashis\\\\OneDrive\\\\Documents\\\\summer project\\\\summer project - 3d\\\\week2\\\\new_data\\\\mask\\\\000167_10_2.png'"
      ]
     },
     "metadata": {},
     "output_type": "display_data"
    },
    {
     "data": {
      "text/plain": [
       "'C:\\\\Users\\\\ashis\\\\OneDrive\\\\Documents\\\\summer project\\\\summer project - 3d\\\\week2\\\\new_data\\\\image\\\\000167_10_3.png'"
      ]
     },
     "metadata": {},
     "output_type": "display_data"
    },
    {
     "data": {
      "text/plain": [
       "'C:\\\\Users\\\\ashis\\\\OneDrive\\\\Documents\\\\summer project\\\\summer project - 3d\\\\week2\\\\new_data\\\\mask\\\\000167_10_3.png'"
      ]
     },
     "metadata": {},
     "output_type": "display_data"
    },
    {
     "data": {
      "text/plain": [
       "'C:\\\\Users\\\\ashis\\\\OneDrive\\\\Documents\\\\summer project\\\\summer project - 3d\\\\week2\\\\new_data\\\\image\\\\000167_10_4.png'"
      ]
     },
     "metadata": {},
     "output_type": "display_data"
    },
    {
     "data": {
      "text/plain": [
       "'C:\\\\Users\\\\ashis\\\\OneDrive\\\\Documents\\\\summer project\\\\summer project - 3d\\\\week2\\\\new_data\\\\mask\\\\000167_10_4.png'"
      ]
     },
     "metadata": {},
     "output_type": "display_data"
    },
    {
     "data": {
      "text/plain": [
       "'C:\\\\Users\\\\ashis\\\\OneDrive\\\\Documents\\\\summer project\\\\summer project - 3d\\\\week2\\\\new_data\\\\image\\\\000167_10_5.png'"
      ]
     },
     "metadata": {},
     "output_type": "display_data"
    },
    {
     "data": {
      "text/plain": [
       "'C:\\\\Users\\\\ashis\\\\OneDrive\\\\Documents\\\\summer project\\\\summer project - 3d\\\\week2\\\\new_data\\\\mask\\\\000167_10_5.png'"
      ]
     },
     "metadata": {},
     "output_type": "display_data"
    },
    {
     "name": "stderr",
     "output_type": "stream",
     "text": [
      "\r",
      " 84%|███████████████████████████████████████████████████████████████████▏            | 168/200 [00:47<00:08,  3.65it/s]"
     ]
    },
    {
     "data": {
      "text/plain": [
       "'C:\\\\Users\\\\ashis\\\\OneDrive\\\\Documents\\\\summer project\\\\summer project - 3d\\\\week2\\\\new_data\\\\image\\\\000168_10_0.png'"
      ]
     },
     "metadata": {},
     "output_type": "display_data"
    },
    {
     "data": {
      "text/plain": [
       "'C:\\\\Users\\\\ashis\\\\OneDrive\\\\Documents\\\\summer project\\\\summer project - 3d\\\\week2\\\\new_data\\\\mask\\\\000168_10_0.png'"
      ]
     },
     "metadata": {},
     "output_type": "display_data"
    },
    {
     "data": {
      "text/plain": [
       "'C:\\\\Users\\\\ashis\\\\OneDrive\\\\Documents\\\\summer project\\\\summer project - 3d\\\\week2\\\\new_data\\\\image\\\\000168_10_1.png'"
      ]
     },
     "metadata": {},
     "output_type": "display_data"
    },
    {
     "data": {
      "text/plain": [
       "'C:\\\\Users\\\\ashis\\\\OneDrive\\\\Documents\\\\summer project\\\\summer project - 3d\\\\week2\\\\new_data\\\\mask\\\\000168_10_1.png'"
      ]
     },
     "metadata": {},
     "output_type": "display_data"
    },
    {
     "data": {
      "text/plain": [
       "'C:\\\\Users\\\\ashis\\\\OneDrive\\\\Documents\\\\summer project\\\\summer project - 3d\\\\week2\\\\new_data\\\\image\\\\000168_10_2.png'"
      ]
     },
     "metadata": {},
     "output_type": "display_data"
    },
    {
     "data": {
      "text/plain": [
       "'C:\\\\Users\\\\ashis\\\\OneDrive\\\\Documents\\\\summer project\\\\summer project - 3d\\\\week2\\\\new_data\\\\mask\\\\000168_10_2.png'"
      ]
     },
     "metadata": {},
     "output_type": "display_data"
    },
    {
     "data": {
      "text/plain": [
       "'C:\\\\Users\\\\ashis\\\\OneDrive\\\\Documents\\\\summer project\\\\summer project - 3d\\\\week2\\\\new_data\\\\image\\\\000168_10_3.png'"
      ]
     },
     "metadata": {},
     "output_type": "display_data"
    },
    {
     "data": {
      "text/plain": [
       "'C:\\\\Users\\\\ashis\\\\OneDrive\\\\Documents\\\\summer project\\\\summer project - 3d\\\\week2\\\\new_data\\\\mask\\\\000168_10_3.png'"
      ]
     },
     "metadata": {},
     "output_type": "display_data"
    },
    {
     "data": {
      "text/plain": [
       "'C:\\\\Users\\\\ashis\\\\OneDrive\\\\Documents\\\\summer project\\\\summer project - 3d\\\\week2\\\\new_data\\\\image\\\\000168_10_4.png'"
      ]
     },
     "metadata": {},
     "output_type": "display_data"
    },
    {
     "data": {
      "text/plain": [
       "'C:\\\\Users\\\\ashis\\\\OneDrive\\\\Documents\\\\summer project\\\\summer project - 3d\\\\week2\\\\new_data\\\\mask\\\\000168_10_4.png'"
      ]
     },
     "metadata": {},
     "output_type": "display_data"
    },
    {
     "data": {
      "text/plain": [
       "'C:\\\\Users\\\\ashis\\\\OneDrive\\\\Documents\\\\summer project\\\\summer project - 3d\\\\week2\\\\new_data\\\\image\\\\000168_10_5.png'"
      ]
     },
     "metadata": {},
     "output_type": "display_data"
    },
    {
     "data": {
      "text/plain": [
       "'C:\\\\Users\\\\ashis\\\\OneDrive\\\\Documents\\\\summer project\\\\summer project - 3d\\\\week2\\\\new_data\\\\mask\\\\000168_10_5.png'"
      ]
     },
     "metadata": {},
     "output_type": "display_data"
    },
    {
     "name": "stderr",
     "output_type": "stream",
     "text": [
      "\r",
      " 84%|███████████████████████████████████████████████████████████████████▌            | 169/200 [00:48<00:08,  3.65it/s]"
     ]
    },
    {
     "data": {
      "text/plain": [
       "'C:\\\\Users\\\\ashis\\\\OneDrive\\\\Documents\\\\summer project\\\\summer project - 3d\\\\week2\\\\new_data\\\\image\\\\000169_10_0.png'"
      ]
     },
     "metadata": {},
     "output_type": "display_data"
    },
    {
     "data": {
      "text/plain": [
       "'C:\\\\Users\\\\ashis\\\\OneDrive\\\\Documents\\\\summer project\\\\summer project - 3d\\\\week2\\\\new_data\\\\mask\\\\000169_10_0.png'"
      ]
     },
     "metadata": {},
     "output_type": "display_data"
    },
    {
     "data": {
      "text/plain": [
       "'C:\\\\Users\\\\ashis\\\\OneDrive\\\\Documents\\\\summer project\\\\summer project - 3d\\\\week2\\\\new_data\\\\image\\\\000169_10_1.png'"
      ]
     },
     "metadata": {},
     "output_type": "display_data"
    },
    {
     "data": {
      "text/plain": [
       "'C:\\\\Users\\\\ashis\\\\OneDrive\\\\Documents\\\\summer project\\\\summer project - 3d\\\\week2\\\\new_data\\\\mask\\\\000169_10_1.png'"
      ]
     },
     "metadata": {},
     "output_type": "display_data"
    },
    {
     "data": {
      "text/plain": [
       "'C:\\\\Users\\\\ashis\\\\OneDrive\\\\Documents\\\\summer project\\\\summer project - 3d\\\\week2\\\\new_data\\\\image\\\\000169_10_2.png'"
      ]
     },
     "metadata": {},
     "output_type": "display_data"
    },
    {
     "data": {
      "text/plain": [
       "'C:\\\\Users\\\\ashis\\\\OneDrive\\\\Documents\\\\summer project\\\\summer project - 3d\\\\week2\\\\new_data\\\\mask\\\\000169_10_2.png'"
      ]
     },
     "metadata": {},
     "output_type": "display_data"
    },
    {
     "data": {
      "text/plain": [
       "'C:\\\\Users\\\\ashis\\\\OneDrive\\\\Documents\\\\summer project\\\\summer project - 3d\\\\week2\\\\new_data\\\\image\\\\000169_10_3.png'"
      ]
     },
     "metadata": {},
     "output_type": "display_data"
    },
    {
     "data": {
      "text/plain": [
       "'C:\\\\Users\\\\ashis\\\\OneDrive\\\\Documents\\\\summer project\\\\summer project - 3d\\\\week2\\\\new_data\\\\mask\\\\000169_10_3.png'"
      ]
     },
     "metadata": {},
     "output_type": "display_data"
    },
    {
     "data": {
      "text/plain": [
       "'C:\\\\Users\\\\ashis\\\\OneDrive\\\\Documents\\\\summer project\\\\summer project - 3d\\\\week2\\\\new_data\\\\image\\\\000169_10_4.png'"
      ]
     },
     "metadata": {},
     "output_type": "display_data"
    },
    {
     "data": {
      "text/plain": [
       "'C:\\\\Users\\\\ashis\\\\OneDrive\\\\Documents\\\\summer project\\\\summer project - 3d\\\\week2\\\\new_data\\\\mask\\\\000169_10_4.png'"
      ]
     },
     "metadata": {},
     "output_type": "display_data"
    },
    {
     "data": {
      "text/plain": [
       "'C:\\\\Users\\\\ashis\\\\OneDrive\\\\Documents\\\\summer project\\\\summer project - 3d\\\\week2\\\\new_data\\\\image\\\\000169_10_5.png'"
      ]
     },
     "metadata": {},
     "output_type": "display_data"
    },
    {
     "data": {
      "text/plain": [
       "'C:\\\\Users\\\\ashis\\\\OneDrive\\\\Documents\\\\summer project\\\\summer project - 3d\\\\week2\\\\new_data\\\\mask\\\\000169_10_5.png'"
      ]
     },
     "metadata": {},
     "output_type": "display_data"
    },
    {
     "name": "stderr",
     "output_type": "stream",
     "text": [
      "\r",
      " 85%|████████████████████████████████████████████████████████████████████            | 170/200 [00:48<00:08,  3.54it/s]"
     ]
    },
    {
     "data": {
      "text/plain": [
       "'C:\\\\Users\\\\ashis\\\\OneDrive\\\\Documents\\\\summer project\\\\summer project - 3d\\\\week2\\\\new_data\\\\image\\\\000170_10_0.png'"
      ]
     },
     "metadata": {},
     "output_type": "display_data"
    },
    {
     "data": {
      "text/plain": [
       "'C:\\\\Users\\\\ashis\\\\OneDrive\\\\Documents\\\\summer project\\\\summer project - 3d\\\\week2\\\\new_data\\\\mask\\\\000170_10_0.png'"
      ]
     },
     "metadata": {},
     "output_type": "display_data"
    },
    {
     "data": {
      "text/plain": [
       "'C:\\\\Users\\\\ashis\\\\OneDrive\\\\Documents\\\\summer project\\\\summer project - 3d\\\\week2\\\\new_data\\\\image\\\\000170_10_1.png'"
      ]
     },
     "metadata": {},
     "output_type": "display_data"
    },
    {
     "data": {
      "text/plain": [
       "'C:\\\\Users\\\\ashis\\\\OneDrive\\\\Documents\\\\summer project\\\\summer project - 3d\\\\week2\\\\new_data\\\\mask\\\\000170_10_1.png'"
      ]
     },
     "metadata": {},
     "output_type": "display_data"
    },
    {
     "data": {
      "text/plain": [
       "'C:\\\\Users\\\\ashis\\\\OneDrive\\\\Documents\\\\summer project\\\\summer project - 3d\\\\week2\\\\new_data\\\\image\\\\000170_10_2.png'"
      ]
     },
     "metadata": {},
     "output_type": "display_data"
    },
    {
     "data": {
      "text/plain": [
       "'C:\\\\Users\\\\ashis\\\\OneDrive\\\\Documents\\\\summer project\\\\summer project - 3d\\\\week2\\\\new_data\\\\mask\\\\000170_10_2.png'"
      ]
     },
     "metadata": {},
     "output_type": "display_data"
    },
    {
     "data": {
      "text/plain": [
       "'C:\\\\Users\\\\ashis\\\\OneDrive\\\\Documents\\\\summer project\\\\summer project - 3d\\\\week2\\\\new_data\\\\image\\\\000170_10_3.png'"
      ]
     },
     "metadata": {},
     "output_type": "display_data"
    },
    {
     "data": {
      "text/plain": [
       "'C:\\\\Users\\\\ashis\\\\OneDrive\\\\Documents\\\\summer project\\\\summer project - 3d\\\\week2\\\\new_data\\\\mask\\\\000170_10_3.png'"
      ]
     },
     "metadata": {},
     "output_type": "display_data"
    },
    {
     "data": {
      "text/plain": [
       "'C:\\\\Users\\\\ashis\\\\OneDrive\\\\Documents\\\\summer project\\\\summer project - 3d\\\\week2\\\\new_data\\\\image\\\\000170_10_4.png'"
      ]
     },
     "metadata": {},
     "output_type": "display_data"
    },
    {
     "data": {
      "text/plain": [
       "'C:\\\\Users\\\\ashis\\\\OneDrive\\\\Documents\\\\summer project\\\\summer project - 3d\\\\week2\\\\new_data\\\\mask\\\\000170_10_4.png'"
      ]
     },
     "metadata": {},
     "output_type": "display_data"
    },
    {
     "data": {
      "text/plain": [
       "'C:\\\\Users\\\\ashis\\\\OneDrive\\\\Documents\\\\summer project\\\\summer project - 3d\\\\week2\\\\new_data\\\\image\\\\000170_10_5.png'"
      ]
     },
     "metadata": {},
     "output_type": "display_data"
    },
    {
     "data": {
      "text/plain": [
       "'C:\\\\Users\\\\ashis\\\\OneDrive\\\\Documents\\\\summer project\\\\summer project - 3d\\\\week2\\\\new_data\\\\mask\\\\000170_10_5.png'"
      ]
     },
     "metadata": {},
     "output_type": "display_data"
    },
    {
     "name": "stderr",
     "output_type": "stream",
     "text": [
      "\r",
      " 86%|████████████████████████████████████████████████████████████████████▍           | 171/200 [00:48<00:08,  3.48it/s]"
     ]
    },
    {
     "data": {
      "text/plain": [
       "'C:\\\\Users\\\\ashis\\\\OneDrive\\\\Documents\\\\summer project\\\\summer project - 3d\\\\week2\\\\new_data\\\\image\\\\000171_10_0.png'"
      ]
     },
     "metadata": {},
     "output_type": "display_data"
    },
    {
     "data": {
      "text/plain": [
       "'C:\\\\Users\\\\ashis\\\\OneDrive\\\\Documents\\\\summer project\\\\summer project - 3d\\\\week2\\\\new_data\\\\mask\\\\000171_10_0.png'"
      ]
     },
     "metadata": {},
     "output_type": "display_data"
    },
    {
     "data": {
      "text/plain": [
       "'C:\\\\Users\\\\ashis\\\\OneDrive\\\\Documents\\\\summer project\\\\summer project - 3d\\\\week2\\\\new_data\\\\image\\\\000171_10_1.png'"
      ]
     },
     "metadata": {},
     "output_type": "display_data"
    },
    {
     "data": {
      "text/plain": [
       "'C:\\\\Users\\\\ashis\\\\OneDrive\\\\Documents\\\\summer project\\\\summer project - 3d\\\\week2\\\\new_data\\\\mask\\\\000171_10_1.png'"
      ]
     },
     "metadata": {},
     "output_type": "display_data"
    },
    {
     "data": {
      "text/plain": [
       "'C:\\\\Users\\\\ashis\\\\OneDrive\\\\Documents\\\\summer project\\\\summer project - 3d\\\\week2\\\\new_data\\\\image\\\\000171_10_2.png'"
      ]
     },
     "metadata": {},
     "output_type": "display_data"
    },
    {
     "data": {
      "text/plain": [
       "'C:\\\\Users\\\\ashis\\\\OneDrive\\\\Documents\\\\summer project\\\\summer project - 3d\\\\week2\\\\new_data\\\\mask\\\\000171_10_2.png'"
      ]
     },
     "metadata": {},
     "output_type": "display_data"
    },
    {
     "data": {
      "text/plain": [
       "'C:\\\\Users\\\\ashis\\\\OneDrive\\\\Documents\\\\summer project\\\\summer project - 3d\\\\week2\\\\new_data\\\\image\\\\000171_10_3.png'"
      ]
     },
     "metadata": {},
     "output_type": "display_data"
    },
    {
     "data": {
      "text/plain": [
       "'C:\\\\Users\\\\ashis\\\\OneDrive\\\\Documents\\\\summer project\\\\summer project - 3d\\\\week2\\\\new_data\\\\mask\\\\000171_10_3.png'"
      ]
     },
     "metadata": {},
     "output_type": "display_data"
    },
    {
     "data": {
      "text/plain": [
       "'C:\\\\Users\\\\ashis\\\\OneDrive\\\\Documents\\\\summer project\\\\summer project - 3d\\\\week2\\\\new_data\\\\image\\\\000171_10_4.png'"
      ]
     },
     "metadata": {},
     "output_type": "display_data"
    },
    {
     "data": {
      "text/plain": [
       "'C:\\\\Users\\\\ashis\\\\OneDrive\\\\Documents\\\\summer project\\\\summer project - 3d\\\\week2\\\\new_data\\\\mask\\\\000171_10_4.png'"
      ]
     },
     "metadata": {},
     "output_type": "display_data"
    },
    {
     "data": {
      "text/plain": [
       "'C:\\\\Users\\\\ashis\\\\OneDrive\\\\Documents\\\\summer project\\\\summer project - 3d\\\\week2\\\\new_data\\\\image\\\\000171_10_5.png'"
      ]
     },
     "metadata": {},
     "output_type": "display_data"
    },
    {
     "data": {
      "text/plain": [
       "'C:\\\\Users\\\\ashis\\\\OneDrive\\\\Documents\\\\summer project\\\\summer project - 3d\\\\week2\\\\new_data\\\\mask\\\\000171_10_5.png'"
      ]
     },
     "metadata": {},
     "output_type": "display_data"
    },
    {
     "name": "stderr",
     "output_type": "stream",
     "text": [
      "\r",
      " 86%|████████████████████████████████████████████████████████████████████▊           | 172/200 [00:48<00:07,  3.54it/s]"
     ]
    },
    {
     "data": {
      "text/plain": [
       "'C:\\\\Users\\\\ashis\\\\OneDrive\\\\Documents\\\\summer project\\\\summer project - 3d\\\\week2\\\\new_data\\\\image\\\\000172_10_0.png'"
      ]
     },
     "metadata": {},
     "output_type": "display_data"
    },
    {
     "data": {
      "text/plain": [
       "'C:\\\\Users\\\\ashis\\\\OneDrive\\\\Documents\\\\summer project\\\\summer project - 3d\\\\week2\\\\new_data\\\\mask\\\\000172_10_0.png'"
      ]
     },
     "metadata": {},
     "output_type": "display_data"
    },
    {
     "data": {
      "text/plain": [
       "'C:\\\\Users\\\\ashis\\\\OneDrive\\\\Documents\\\\summer project\\\\summer project - 3d\\\\week2\\\\new_data\\\\image\\\\000172_10_1.png'"
      ]
     },
     "metadata": {},
     "output_type": "display_data"
    },
    {
     "data": {
      "text/plain": [
       "'C:\\\\Users\\\\ashis\\\\OneDrive\\\\Documents\\\\summer project\\\\summer project - 3d\\\\week2\\\\new_data\\\\mask\\\\000172_10_1.png'"
      ]
     },
     "metadata": {},
     "output_type": "display_data"
    },
    {
     "data": {
      "text/plain": [
       "'C:\\\\Users\\\\ashis\\\\OneDrive\\\\Documents\\\\summer project\\\\summer project - 3d\\\\week2\\\\new_data\\\\image\\\\000172_10_2.png'"
      ]
     },
     "metadata": {},
     "output_type": "display_data"
    },
    {
     "data": {
      "text/plain": [
       "'C:\\\\Users\\\\ashis\\\\OneDrive\\\\Documents\\\\summer project\\\\summer project - 3d\\\\week2\\\\new_data\\\\mask\\\\000172_10_2.png'"
      ]
     },
     "metadata": {},
     "output_type": "display_data"
    },
    {
     "data": {
      "text/plain": [
       "'C:\\\\Users\\\\ashis\\\\OneDrive\\\\Documents\\\\summer project\\\\summer project - 3d\\\\week2\\\\new_data\\\\image\\\\000172_10_3.png'"
      ]
     },
     "metadata": {},
     "output_type": "display_data"
    },
    {
     "data": {
      "text/plain": [
       "'C:\\\\Users\\\\ashis\\\\OneDrive\\\\Documents\\\\summer project\\\\summer project - 3d\\\\week2\\\\new_data\\\\mask\\\\000172_10_3.png'"
      ]
     },
     "metadata": {},
     "output_type": "display_data"
    },
    {
     "data": {
      "text/plain": [
       "'C:\\\\Users\\\\ashis\\\\OneDrive\\\\Documents\\\\summer project\\\\summer project - 3d\\\\week2\\\\new_data\\\\image\\\\000172_10_4.png'"
      ]
     },
     "metadata": {},
     "output_type": "display_data"
    },
    {
     "data": {
      "text/plain": [
       "'C:\\\\Users\\\\ashis\\\\OneDrive\\\\Documents\\\\summer project\\\\summer project - 3d\\\\week2\\\\new_data\\\\mask\\\\000172_10_4.png'"
      ]
     },
     "metadata": {},
     "output_type": "display_data"
    },
    {
     "data": {
      "text/plain": [
       "'C:\\\\Users\\\\ashis\\\\OneDrive\\\\Documents\\\\summer project\\\\summer project - 3d\\\\week2\\\\new_data\\\\image\\\\000172_10_5.png'"
      ]
     },
     "metadata": {},
     "output_type": "display_data"
    },
    {
     "data": {
      "text/plain": [
       "'C:\\\\Users\\\\ashis\\\\OneDrive\\\\Documents\\\\summer project\\\\summer project - 3d\\\\week2\\\\new_data\\\\mask\\\\000172_10_5.png'"
      ]
     },
     "metadata": {},
     "output_type": "display_data"
    },
    {
     "name": "stderr",
     "output_type": "stream",
     "text": [
      "\r",
      " 86%|█████████████████████████████████████████████████████████████████████▏          | 173/200 [00:49<00:07,  3.59it/s]"
     ]
    },
    {
     "data": {
      "text/plain": [
       "'C:\\\\Users\\\\ashis\\\\OneDrive\\\\Documents\\\\summer project\\\\summer project - 3d\\\\week2\\\\new_data\\\\image\\\\000173_10_0.png'"
      ]
     },
     "metadata": {},
     "output_type": "display_data"
    },
    {
     "data": {
      "text/plain": [
       "'C:\\\\Users\\\\ashis\\\\OneDrive\\\\Documents\\\\summer project\\\\summer project - 3d\\\\week2\\\\new_data\\\\mask\\\\000173_10_0.png'"
      ]
     },
     "metadata": {},
     "output_type": "display_data"
    },
    {
     "data": {
      "text/plain": [
       "'C:\\\\Users\\\\ashis\\\\OneDrive\\\\Documents\\\\summer project\\\\summer project - 3d\\\\week2\\\\new_data\\\\image\\\\000173_10_1.png'"
      ]
     },
     "metadata": {},
     "output_type": "display_data"
    },
    {
     "data": {
      "text/plain": [
       "'C:\\\\Users\\\\ashis\\\\OneDrive\\\\Documents\\\\summer project\\\\summer project - 3d\\\\week2\\\\new_data\\\\mask\\\\000173_10_1.png'"
      ]
     },
     "metadata": {},
     "output_type": "display_data"
    },
    {
     "data": {
      "text/plain": [
       "'C:\\\\Users\\\\ashis\\\\OneDrive\\\\Documents\\\\summer project\\\\summer project - 3d\\\\week2\\\\new_data\\\\image\\\\000173_10_2.png'"
      ]
     },
     "metadata": {},
     "output_type": "display_data"
    },
    {
     "data": {
      "text/plain": [
       "'C:\\\\Users\\\\ashis\\\\OneDrive\\\\Documents\\\\summer project\\\\summer project - 3d\\\\week2\\\\new_data\\\\mask\\\\000173_10_2.png'"
      ]
     },
     "metadata": {},
     "output_type": "display_data"
    },
    {
     "data": {
      "text/plain": [
       "'C:\\\\Users\\\\ashis\\\\OneDrive\\\\Documents\\\\summer project\\\\summer project - 3d\\\\week2\\\\new_data\\\\image\\\\000173_10_3.png'"
      ]
     },
     "metadata": {},
     "output_type": "display_data"
    },
    {
     "data": {
      "text/plain": [
       "'C:\\\\Users\\\\ashis\\\\OneDrive\\\\Documents\\\\summer project\\\\summer project - 3d\\\\week2\\\\new_data\\\\mask\\\\000173_10_3.png'"
      ]
     },
     "metadata": {},
     "output_type": "display_data"
    },
    {
     "data": {
      "text/plain": [
       "'C:\\\\Users\\\\ashis\\\\OneDrive\\\\Documents\\\\summer project\\\\summer project - 3d\\\\week2\\\\new_data\\\\image\\\\000173_10_4.png'"
      ]
     },
     "metadata": {},
     "output_type": "display_data"
    },
    {
     "data": {
      "text/plain": [
       "'C:\\\\Users\\\\ashis\\\\OneDrive\\\\Documents\\\\summer project\\\\summer project - 3d\\\\week2\\\\new_data\\\\mask\\\\000173_10_4.png'"
      ]
     },
     "metadata": {},
     "output_type": "display_data"
    },
    {
     "data": {
      "text/plain": [
       "'C:\\\\Users\\\\ashis\\\\OneDrive\\\\Documents\\\\summer project\\\\summer project - 3d\\\\week2\\\\new_data\\\\image\\\\000173_10_5.png'"
      ]
     },
     "metadata": {},
     "output_type": "display_data"
    },
    {
     "data": {
      "text/plain": [
       "'C:\\\\Users\\\\ashis\\\\OneDrive\\\\Documents\\\\summer project\\\\summer project - 3d\\\\week2\\\\new_data\\\\mask\\\\000173_10_5.png'"
      ]
     },
     "metadata": {},
     "output_type": "display_data"
    },
    {
     "name": "stderr",
     "output_type": "stream",
     "text": [
      "\r",
      " 87%|█████████████████████████████████████████████████████████████████████▌          | 174/200 [00:49<00:07,  3.47it/s]"
     ]
    },
    {
     "data": {
      "text/plain": [
       "'C:\\\\Users\\\\ashis\\\\OneDrive\\\\Documents\\\\summer project\\\\summer project - 3d\\\\week2\\\\new_data\\\\image\\\\000174_10_0.png'"
      ]
     },
     "metadata": {},
     "output_type": "display_data"
    },
    {
     "data": {
      "text/plain": [
       "'C:\\\\Users\\\\ashis\\\\OneDrive\\\\Documents\\\\summer project\\\\summer project - 3d\\\\week2\\\\new_data\\\\mask\\\\000174_10_0.png'"
      ]
     },
     "metadata": {},
     "output_type": "display_data"
    },
    {
     "data": {
      "text/plain": [
       "'C:\\\\Users\\\\ashis\\\\OneDrive\\\\Documents\\\\summer project\\\\summer project - 3d\\\\week2\\\\new_data\\\\image\\\\000174_10_1.png'"
      ]
     },
     "metadata": {},
     "output_type": "display_data"
    },
    {
     "data": {
      "text/plain": [
       "'C:\\\\Users\\\\ashis\\\\OneDrive\\\\Documents\\\\summer project\\\\summer project - 3d\\\\week2\\\\new_data\\\\mask\\\\000174_10_1.png'"
      ]
     },
     "metadata": {},
     "output_type": "display_data"
    },
    {
     "data": {
      "text/plain": [
       "'C:\\\\Users\\\\ashis\\\\OneDrive\\\\Documents\\\\summer project\\\\summer project - 3d\\\\week2\\\\new_data\\\\image\\\\000174_10_2.png'"
      ]
     },
     "metadata": {},
     "output_type": "display_data"
    },
    {
     "data": {
      "text/plain": [
       "'C:\\\\Users\\\\ashis\\\\OneDrive\\\\Documents\\\\summer project\\\\summer project - 3d\\\\week2\\\\new_data\\\\mask\\\\000174_10_2.png'"
      ]
     },
     "metadata": {},
     "output_type": "display_data"
    },
    {
     "data": {
      "text/plain": [
       "'C:\\\\Users\\\\ashis\\\\OneDrive\\\\Documents\\\\summer project\\\\summer project - 3d\\\\week2\\\\new_data\\\\image\\\\000174_10_3.png'"
      ]
     },
     "metadata": {},
     "output_type": "display_data"
    },
    {
     "data": {
      "text/plain": [
       "'C:\\\\Users\\\\ashis\\\\OneDrive\\\\Documents\\\\summer project\\\\summer project - 3d\\\\week2\\\\new_data\\\\mask\\\\000174_10_3.png'"
      ]
     },
     "metadata": {},
     "output_type": "display_data"
    },
    {
     "data": {
      "text/plain": [
       "'C:\\\\Users\\\\ashis\\\\OneDrive\\\\Documents\\\\summer project\\\\summer project - 3d\\\\week2\\\\new_data\\\\image\\\\000174_10_4.png'"
      ]
     },
     "metadata": {},
     "output_type": "display_data"
    },
    {
     "data": {
      "text/plain": [
       "'C:\\\\Users\\\\ashis\\\\OneDrive\\\\Documents\\\\summer project\\\\summer project - 3d\\\\week2\\\\new_data\\\\mask\\\\000174_10_4.png'"
      ]
     },
     "metadata": {},
     "output_type": "display_data"
    },
    {
     "data": {
      "text/plain": [
       "'C:\\\\Users\\\\ashis\\\\OneDrive\\\\Documents\\\\summer project\\\\summer project - 3d\\\\week2\\\\new_data\\\\image\\\\000174_10_5.png'"
      ]
     },
     "metadata": {},
     "output_type": "display_data"
    },
    {
     "data": {
      "text/plain": [
       "'C:\\\\Users\\\\ashis\\\\OneDrive\\\\Documents\\\\summer project\\\\summer project - 3d\\\\week2\\\\new_data\\\\mask\\\\000174_10_5.png'"
      ]
     },
     "metadata": {},
     "output_type": "display_data"
    },
    {
     "name": "stderr",
     "output_type": "stream",
     "text": [
      "\r",
      " 88%|██████████████████████████████████████████████████████████████████████          | 175/200 [00:49<00:07,  3.54it/s]"
     ]
    },
    {
     "data": {
      "text/plain": [
       "'C:\\\\Users\\\\ashis\\\\OneDrive\\\\Documents\\\\summer project\\\\summer project - 3d\\\\week2\\\\new_data\\\\image\\\\000175_10_0.png'"
      ]
     },
     "metadata": {},
     "output_type": "display_data"
    },
    {
     "data": {
      "text/plain": [
       "'C:\\\\Users\\\\ashis\\\\OneDrive\\\\Documents\\\\summer project\\\\summer project - 3d\\\\week2\\\\new_data\\\\mask\\\\000175_10_0.png'"
      ]
     },
     "metadata": {},
     "output_type": "display_data"
    },
    {
     "data": {
      "text/plain": [
       "'C:\\\\Users\\\\ashis\\\\OneDrive\\\\Documents\\\\summer project\\\\summer project - 3d\\\\week2\\\\new_data\\\\image\\\\000175_10_1.png'"
      ]
     },
     "metadata": {},
     "output_type": "display_data"
    },
    {
     "data": {
      "text/plain": [
       "'C:\\\\Users\\\\ashis\\\\OneDrive\\\\Documents\\\\summer project\\\\summer project - 3d\\\\week2\\\\new_data\\\\mask\\\\000175_10_1.png'"
      ]
     },
     "metadata": {},
     "output_type": "display_data"
    },
    {
     "data": {
      "text/plain": [
       "'C:\\\\Users\\\\ashis\\\\OneDrive\\\\Documents\\\\summer project\\\\summer project - 3d\\\\week2\\\\new_data\\\\image\\\\000175_10_2.png'"
      ]
     },
     "metadata": {},
     "output_type": "display_data"
    },
    {
     "data": {
      "text/plain": [
       "'C:\\\\Users\\\\ashis\\\\OneDrive\\\\Documents\\\\summer project\\\\summer project - 3d\\\\week2\\\\new_data\\\\mask\\\\000175_10_2.png'"
      ]
     },
     "metadata": {},
     "output_type": "display_data"
    },
    {
     "data": {
      "text/plain": [
       "'C:\\\\Users\\\\ashis\\\\OneDrive\\\\Documents\\\\summer project\\\\summer project - 3d\\\\week2\\\\new_data\\\\image\\\\000175_10_3.png'"
      ]
     },
     "metadata": {},
     "output_type": "display_data"
    },
    {
     "data": {
      "text/plain": [
       "'C:\\\\Users\\\\ashis\\\\OneDrive\\\\Documents\\\\summer project\\\\summer project - 3d\\\\week2\\\\new_data\\\\mask\\\\000175_10_3.png'"
      ]
     },
     "metadata": {},
     "output_type": "display_data"
    },
    {
     "data": {
      "text/plain": [
       "'C:\\\\Users\\\\ashis\\\\OneDrive\\\\Documents\\\\summer project\\\\summer project - 3d\\\\week2\\\\new_data\\\\image\\\\000175_10_4.png'"
      ]
     },
     "metadata": {},
     "output_type": "display_data"
    },
    {
     "data": {
      "text/plain": [
       "'C:\\\\Users\\\\ashis\\\\OneDrive\\\\Documents\\\\summer project\\\\summer project - 3d\\\\week2\\\\new_data\\\\mask\\\\000175_10_4.png'"
      ]
     },
     "metadata": {},
     "output_type": "display_data"
    },
    {
     "data": {
      "text/plain": [
       "'C:\\\\Users\\\\ashis\\\\OneDrive\\\\Documents\\\\summer project\\\\summer project - 3d\\\\week2\\\\new_data\\\\image\\\\000175_10_5.png'"
      ]
     },
     "metadata": {},
     "output_type": "display_data"
    },
    {
     "data": {
      "text/plain": [
       "'C:\\\\Users\\\\ashis\\\\OneDrive\\\\Documents\\\\summer project\\\\summer project - 3d\\\\week2\\\\new_data\\\\mask\\\\000175_10_5.png'"
      ]
     },
     "metadata": {},
     "output_type": "display_data"
    },
    {
     "name": "stderr",
     "output_type": "stream",
     "text": [
      "\r",
      " 88%|██████████████████████████████████████████████████████████████████████▍         | 176/200 [00:50<00:06,  3.57it/s]"
     ]
    },
    {
     "data": {
      "text/plain": [
       "'C:\\\\Users\\\\ashis\\\\OneDrive\\\\Documents\\\\summer project\\\\summer project - 3d\\\\week2\\\\new_data\\\\image\\\\000176_10_0.png'"
      ]
     },
     "metadata": {},
     "output_type": "display_data"
    },
    {
     "data": {
      "text/plain": [
       "'C:\\\\Users\\\\ashis\\\\OneDrive\\\\Documents\\\\summer project\\\\summer project - 3d\\\\week2\\\\new_data\\\\mask\\\\000176_10_0.png'"
      ]
     },
     "metadata": {},
     "output_type": "display_data"
    },
    {
     "data": {
      "text/plain": [
       "'C:\\\\Users\\\\ashis\\\\OneDrive\\\\Documents\\\\summer project\\\\summer project - 3d\\\\week2\\\\new_data\\\\image\\\\000176_10_1.png'"
      ]
     },
     "metadata": {},
     "output_type": "display_data"
    },
    {
     "data": {
      "text/plain": [
       "'C:\\\\Users\\\\ashis\\\\OneDrive\\\\Documents\\\\summer project\\\\summer project - 3d\\\\week2\\\\new_data\\\\mask\\\\000176_10_1.png'"
      ]
     },
     "metadata": {},
     "output_type": "display_data"
    },
    {
     "data": {
      "text/plain": [
       "'C:\\\\Users\\\\ashis\\\\OneDrive\\\\Documents\\\\summer project\\\\summer project - 3d\\\\week2\\\\new_data\\\\image\\\\000176_10_2.png'"
      ]
     },
     "metadata": {},
     "output_type": "display_data"
    },
    {
     "data": {
      "text/plain": [
       "'C:\\\\Users\\\\ashis\\\\OneDrive\\\\Documents\\\\summer project\\\\summer project - 3d\\\\week2\\\\new_data\\\\mask\\\\000176_10_2.png'"
      ]
     },
     "metadata": {},
     "output_type": "display_data"
    },
    {
     "data": {
      "text/plain": [
       "'C:\\\\Users\\\\ashis\\\\OneDrive\\\\Documents\\\\summer project\\\\summer project - 3d\\\\week2\\\\new_data\\\\image\\\\000176_10_3.png'"
      ]
     },
     "metadata": {},
     "output_type": "display_data"
    },
    {
     "data": {
      "text/plain": [
       "'C:\\\\Users\\\\ashis\\\\OneDrive\\\\Documents\\\\summer project\\\\summer project - 3d\\\\week2\\\\new_data\\\\mask\\\\000176_10_3.png'"
      ]
     },
     "metadata": {},
     "output_type": "display_data"
    },
    {
     "data": {
      "text/plain": [
       "'C:\\\\Users\\\\ashis\\\\OneDrive\\\\Documents\\\\summer project\\\\summer project - 3d\\\\week2\\\\new_data\\\\image\\\\000176_10_4.png'"
      ]
     },
     "metadata": {},
     "output_type": "display_data"
    },
    {
     "data": {
      "text/plain": [
       "'C:\\\\Users\\\\ashis\\\\OneDrive\\\\Documents\\\\summer project\\\\summer project - 3d\\\\week2\\\\new_data\\\\mask\\\\000176_10_4.png'"
      ]
     },
     "metadata": {},
     "output_type": "display_data"
    },
    {
     "data": {
      "text/plain": [
       "'C:\\\\Users\\\\ashis\\\\OneDrive\\\\Documents\\\\summer project\\\\summer project - 3d\\\\week2\\\\new_data\\\\image\\\\000176_10_5.png'"
      ]
     },
     "metadata": {},
     "output_type": "display_data"
    },
    {
     "data": {
      "text/plain": [
       "'C:\\\\Users\\\\ashis\\\\OneDrive\\\\Documents\\\\summer project\\\\summer project - 3d\\\\week2\\\\new_data\\\\mask\\\\000176_10_5.png'"
      ]
     },
     "metadata": {},
     "output_type": "display_data"
    },
    {
     "name": "stderr",
     "output_type": "stream",
     "text": [
      "\r",
      " 88%|██████████████████████████████████████████████████████████████████████▊         | 177/200 [00:50<00:06,  3.53it/s]"
     ]
    },
    {
     "data": {
      "text/plain": [
       "'C:\\\\Users\\\\ashis\\\\OneDrive\\\\Documents\\\\summer project\\\\summer project - 3d\\\\week2\\\\new_data\\\\image\\\\000177_10_0.png'"
      ]
     },
     "metadata": {},
     "output_type": "display_data"
    },
    {
     "data": {
      "text/plain": [
       "'C:\\\\Users\\\\ashis\\\\OneDrive\\\\Documents\\\\summer project\\\\summer project - 3d\\\\week2\\\\new_data\\\\mask\\\\000177_10_0.png'"
      ]
     },
     "metadata": {},
     "output_type": "display_data"
    },
    {
     "data": {
      "text/plain": [
       "'C:\\\\Users\\\\ashis\\\\OneDrive\\\\Documents\\\\summer project\\\\summer project - 3d\\\\week2\\\\new_data\\\\image\\\\000177_10_1.png'"
      ]
     },
     "metadata": {},
     "output_type": "display_data"
    },
    {
     "data": {
      "text/plain": [
       "'C:\\\\Users\\\\ashis\\\\OneDrive\\\\Documents\\\\summer project\\\\summer project - 3d\\\\week2\\\\new_data\\\\mask\\\\000177_10_1.png'"
      ]
     },
     "metadata": {},
     "output_type": "display_data"
    },
    {
     "data": {
      "text/plain": [
       "'C:\\\\Users\\\\ashis\\\\OneDrive\\\\Documents\\\\summer project\\\\summer project - 3d\\\\week2\\\\new_data\\\\image\\\\000177_10_2.png'"
      ]
     },
     "metadata": {},
     "output_type": "display_data"
    },
    {
     "data": {
      "text/plain": [
       "'C:\\\\Users\\\\ashis\\\\OneDrive\\\\Documents\\\\summer project\\\\summer project - 3d\\\\week2\\\\new_data\\\\mask\\\\000177_10_2.png'"
      ]
     },
     "metadata": {},
     "output_type": "display_data"
    },
    {
     "data": {
      "text/plain": [
       "'C:\\\\Users\\\\ashis\\\\OneDrive\\\\Documents\\\\summer project\\\\summer project - 3d\\\\week2\\\\new_data\\\\image\\\\000177_10_3.png'"
      ]
     },
     "metadata": {},
     "output_type": "display_data"
    },
    {
     "data": {
      "text/plain": [
       "'C:\\\\Users\\\\ashis\\\\OneDrive\\\\Documents\\\\summer project\\\\summer project - 3d\\\\week2\\\\new_data\\\\mask\\\\000177_10_3.png'"
      ]
     },
     "metadata": {},
     "output_type": "display_data"
    },
    {
     "data": {
      "text/plain": [
       "'C:\\\\Users\\\\ashis\\\\OneDrive\\\\Documents\\\\summer project\\\\summer project - 3d\\\\week2\\\\new_data\\\\image\\\\000177_10_4.png'"
      ]
     },
     "metadata": {},
     "output_type": "display_data"
    },
    {
     "data": {
      "text/plain": [
       "'C:\\\\Users\\\\ashis\\\\OneDrive\\\\Documents\\\\summer project\\\\summer project - 3d\\\\week2\\\\new_data\\\\mask\\\\000177_10_4.png'"
      ]
     },
     "metadata": {},
     "output_type": "display_data"
    },
    {
     "data": {
      "text/plain": [
       "'C:\\\\Users\\\\ashis\\\\OneDrive\\\\Documents\\\\summer project\\\\summer project - 3d\\\\week2\\\\new_data\\\\image\\\\000177_10_5.png'"
      ]
     },
     "metadata": {},
     "output_type": "display_data"
    },
    {
     "data": {
      "text/plain": [
       "'C:\\\\Users\\\\ashis\\\\OneDrive\\\\Documents\\\\summer project\\\\summer project - 3d\\\\week2\\\\new_data\\\\mask\\\\000177_10_5.png'"
      ]
     },
     "metadata": {},
     "output_type": "display_data"
    },
    {
     "name": "stderr",
     "output_type": "stream",
     "text": [
      "\r",
      " 89%|███████████████████████████████████████████████████████████████████████▏        | 178/200 [00:50<00:06,  3.58it/s]"
     ]
    },
    {
     "data": {
      "text/plain": [
       "'C:\\\\Users\\\\ashis\\\\OneDrive\\\\Documents\\\\summer project\\\\summer project - 3d\\\\week2\\\\new_data\\\\image\\\\000178_10_0.png'"
      ]
     },
     "metadata": {},
     "output_type": "display_data"
    },
    {
     "data": {
      "text/plain": [
       "'C:\\\\Users\\\\ashis\\\\OneDrive\\\\Documents\\\\summer project\\\\summer project - 3d\\\\week2\\\\new_data\\\\mask\\\\000178_10_0.png'"
      ]
     },
     "metadata": {},
     "output_type": "display_data"
    },
    {
     "data": {
      "text/plain": [
       "'C:\\\\Users\\\\ashis\\\\OneDrive\\\\Documents\\\\summer project\\\\summer project - 3d\\\\week2\\\\new_data\\\\image\\\\000178_10_1.png'"
      ]
     },
     "metadata": {},
     "output_type": "display_data"
    },
    {
     "data": {
      "text/plain": [
       "'C:\\\\Users\\\\ashis\\\\OneDrive\\\\Documents\\\\summer project\\\\summer project - 3d\\\\week2\\\\new_data\\\\mask\\\\000178_10_1.png'"
      ]
     },
     "metadata": {},
     "output_type": "display_data"
    },
    {
     "data": {
      "text/plain": [
       "'C:\\\\Users\\\\ashis\\\\OneDrive\\\\Documents\\\\summer project\\\\summer project - 3d\\\\week2\\\\new_data\\\\image\\\\000178_10_2.png'"
      ]
     },
     "metadata": {},
     "output_type": "display_data"
    },
    {
     "data": {
      "text/plain": [
       "'C:\\\\Users\\\\ashis\\\\OneDrive\\\\Documents\\\\summer project\\\\summer project - 3d\\\\week2\\\\new_data\\\\mask\\\\000178_10_2.png'"
      ]
     },
     "metadata": {},
     "output_type": "display_data"
    },
    {
     "data": {
      "text/plain": [
       "'C:\\\\Users\\\\ashis\\\\OneDrive\\\\Documents\\\\summer project\\\\summer project - 3d\\\\week2\\\\new_data\\\\image\\\\000178_10_3.png'"
      ]
     },
     "metadata": {},
     "output_type": "display_data"
    },
    {
     "data": {
      "text/plain": [
       "'C:\\\\Users\\\\ashis\\\\OneDrive\\\\Documents\\\\summer project\\\\summer project - 3d\\\\week2\\\\new_data\\\\mask\\\\000178_10_3.png'"
      ]
     },
     "metadata": {},
     "output_type": "display_data"
    },
    {
     "data": {
      "text/plain": [
       "'C:\\\\Users\\\\ashis\\\\OneDrive\\\\Documents\\\\summer project\\\\summer project - 3d\\\\week2\\\\new_data\\\\image\\\\000178_10_4.png'"
      ]
     },
     "metadata": {},
     "output_type": "display_data"
    },
    {
     "data": {
      "text/plain": [
       "'C:\\\\Users\\\\ashis\\\\OneDrive\\\\Documents\\\\summer project\\\\summer project - 3d\\\\week2\\\\new_data\\\\mask\\\\000178_10_4.png'"
      ]
     },
     "metadata": {},
     "output_type": "display_data"
    },
    {
     "data": {
      "text/plain": [
       "'C:\\\\Users\\\\ashis\\\\OneDrive\\\\Documents\\\\summer project\\\\summer project - 3d\\\\week2\\\\new_data\\\\image\\\\000178_10_5.png'"
      ]
     },
     "metadata": {},
     "output_type": "display_data"
    },
    {
     "data": {
      "text/plain": [
       "'C:\\\\Users\\\\ashis\\\\OneDrive\\\\Documents\\\\summer project\\\\summer project - 3d\\\\week2\\\\new_data\\\\mask\\\\000178_10_5.png'"
      ]
     },
     "metadata": {},
     "output_type": "display_data"
    },
    {
     "name": "stderr",
     "output_type": "stream",
     "text": [
      "\r",
      " 90%|███████████████████████████████████████████████████████████████████████▌        | 179/200 [00:50<00:05,  3.58it/s]"
     ]
    },
    {
     "data": {
      "text/plain": [
       "'C:\\\\Users\\\\ashis\\\\OneDrive\\\\Documents\\\\summer project\\\\summer project - 3d\\\\week2\\\\new_data\\\\image\\\\000179_10_0.png'"
      ]
     },
     "metadata": {},
     "output_type": "display_data"
    },
    {
     "data": {
      "text/plain": [
       "'C:\\\\Users\\\\ashis\\\\OneDrive\\\\Documents\\\\summer project\\\\summer project - 3d\\\\week2\\\\new_data\\\\mask\\\\000179_10_0.png'"
      ]
     },
     "metadata": {},
     "output_type": "display_data"
    },
    {
     "data": {
      "text/plain": [
       "'C:\\\\Users\\\\ashis\\\\OneDrive\\\\Documents\\\\summer project\\\\summer project - 3d\\\\week2\\\\new_data\\\\image\\\\000179_10_1.png'"
      ]
     },
     "metadata": {},
     "output_type": "display_data"
    },
    {
     "data": {
      "text/plain": [
       "'C:\\\\Users\\\\ashis\\\\OneDrive\\\\Documents\\\\summer project\\\\summer project - 3d\\\\week2\\\\new_data\\\\mask\\\\000179_10_1.png'"
      ]
     },
     "metadata": {},
     "output_type": "display_data"
    },
    {
     "data": {
      "text/plain": [
       "'C:\\\\Users\\\\ashis\\\\OneDrive\\\\Documents\\\\summer project\\\\summer project - 3d\\\\week2\\\\new_data\\\\image\\\\000179_10_2.png'"
      ]
     },
     "metadata": {},
     "output_type": "display_data"
    },
    {
     "data": {
      "text/plain": [
       "'C:\\\\Users\\\\ashis\\\\OneDrive\\\\Documents\\\\summer project\\\\summer project - 3d\\\\week2\\\\new_data\\\\mask\\\\000179_10_2.png'"
      ]
     },
     "metadata": {},
     "output_type": "display_data"
    },
    {
     "data": {
      "text/plain": [
       "'C:\\\\Users\\\\ashis\\\\OneDrive\\\\Documents\\\\summer project\\\\summer project - 3d\\\\week2\\\\new_data\\\\image\\\\000179_10_3.png'"
      ]
     },
     "metadata": {},
     "output_type": "display_data"
    },
    {
     "data": {
      "text/plain": [
       "'C:\\\\Users\\\\ashis\\\\OneDrive\\\\Documents\\\\summer project\\\\summer project - 3d\\\\week2\\\\new_data\\\\mask\\\\000179_10_3.png'"
      ]
     },
     "metadata": {},
     "output_type": "display_data"
    },
    {
     "data": {
      "text/plain": [
       "'C:\\\\Users\\\\ashis\\\\OneDrive\\\\Documents\\\\summer project\\\\summer project - 3d\\\\week2\\\\new_data\\\\image\\\\000179_10_4.png'"
      ]
     },
     "metadata": {},
     "output_type": "display_data"
    },
    {
     "data": {
      "text/plain": [
       "'C:\\\\Users\\\\ashis\\\\OneDrive\\\\Documents\\\\summer project\\\\summer project - 3d\\\\week2\\\\new_data\\\\mask\\\\000179_10_4.png'"
      ]
     },
     "metadata": {},
     "output_type": "display_data"
    },
    {
     "data": {
      "text/plain": [
       "'C:\\\\Users\\\\ashis\\\\OneDrive\\\\Documents\\\\summer project\\\\summer project - 3d\\\\week2\\\\new_data\\\\image\\\\000179_10_5.png'"
      ]
     },
     "metadata": {},
     "output_type": "display_data"
    },
    {
     "data": {
      "text/plain": [
       "'C:\\\\Users\\\\ashis\\\\OneDrive\\\\Documents\\\\summer project\\\\summer project - 3d\\\\week2\\\\new_data\\\\mask\\\\000179_10_5.png'"
      ]
     },
     "metadata": {},
     "output_type": "display_data"
    },
    {
     "name": "stderr",
     "output_type": "stream",
     "text": [
      "\r",
      " 90%|████████████████████████████████████████████████████████████████████████        | 180/200 [00:51<00:05,  3.59it/s]"
     ]
    },
    {
     "data": {
      "text/plain": [
       "'C:\\\\Users\\\\ashis\\\\OneDrive\\\\Documents\\\\summer project\\\\summer project - 3d\\\\week2\\\\new_data\\\\image\\\\000180_10_0.png'"
      ]
     },
     "metadata": {},
     "output_type": "display_data"
    },
    {
     "data": {
      "text/plain": [
       "'C:\\\\Users\\\\ashis\\\\OneDrive\\\\Documents\\\\summer project\\\\summer project - 3d\\\\week2\\\\new_data\\\\mask\\\\000180_10_0.png'"
      ]
     },
     "metadata": {},
     "output_type": "display_data"
    },
    {
     "data": {
      "text/plain": [
       "'C:\\\\Users\\\\ashis\\\\OneDrive\\\\Documents\\\\summer project\\\\summer project - 3d\\\\week2\\\\new_data\\\\image\\\\000180_10_1.png'"
      ]
     },
     "metadata": {},
     "output_type": "display_data"
    },
    {
     "data": {
      "text/plain": [
       "'C:\\\\Users\\\\ashis\\\\OneDrive\\\\Documents\\\\summer project\\\\summer project - 3d\\\\week2\\\\new_data\\\\mask\\\\000180_10_1.png'"
      ]
     },
     "metadata": {},
     "output_type": "display_data"
    },
    {
     "data": {
      "text/plain": [
       "'C:\\\\Users\\\\ashis\\\\OneDrive\\\\Documents\\\\summer project\\\\summer project - 3d\\\\week2\\\\new_data\\\\image\\\\000180_10_2.png'"
      ]
     },
     "metadata": {},
     "output_type": "display_data"
    },
    {
     "data": {
      "text/plain": [
       "'C:\\\\Users\\\\ashis\\\\OneDrive\\\\Documents\\\\summer project\\\\summer project - 3d\\\\week2\\\\new_data\\\\mask\\\\000180_10_2.png'"
      ]
     },
     "metadata": {},
     "output_type": "display_data"
    },
    {
     "data": {
      "text/plain": [
       "'C:\\\\Users\\\\ashis\\\\OneDrive\\\\Documents\\\\summer project\\\\summer project - 3d\\\\week2\\\\new_data\\\\image\\\\000180_10_3.png'"
      ]
     },
     "metadata": {},
     "output_type": "display_data"
    },
    {
     "data": {
      "text/plain": [
       "'C:\\\\Users\\\\ashis\\\\OneDrive\\\\Documents\\\\summer project\\\\summer project - 3d\\\\week2\\\\new_data\\\\mask\\\\000180_10_3.png'"
      ]
     },
     "metadata": {},
     "output_type": "display_data"
    },
    {
     "data": {
      "text/plain": [
       "'C:\\\\Users\\\\ashis\\\\OneDrive\\\\Documents\\\\summer project\\\\summer project - 3d\\\\week2\\\\new_data\\\\image\\\\000180_10_4.png'"
      ]
     },
     "metadata": {},
     "output_type": "display_data"
    },
    {
     "data": {
      "text/plain": [
       "'C:\\\\Users\\\\ashis\\\\OneDrive\\\\Documents\\\\summer project\\\\summer project - 3d\\\\week2\\\\new_data\\\\mask\\\\000180_10_4.png'"
      ]
     },
     "metadata": {},
     "output_type": "display_data"
    },
    {
     "data": {
      "text/plain": [
       "'C:\\\\Users\\\\ashis\\\\OneDrive\\\\Documents\\\\summer project\\\\summer project - 3d\\\\week2\\\\new_data\\\\image\\\\000180_10_5.png'"
      ]
     },
     "metadata": {},
     "output_type": "display_data"
    },
    {
     "data": {
      "text/plain": [
       "'C:\\\\Users\\\\ashis\\\\OneDrive\\\\Documents\\\\summer project\\\\summer project - 3d\\\\week2\\\\new_data\\\\mask\\\\000180_10_5.png'"
      ]
     },
     "metadata": {},
     "output_type": "display_data"
    },
    {
     "name": "stderr",
     "output_type": "stream",
     "text": [
      "\r",
      " 90%|████████████████████████████████████████████████████████████████████████▍       | 181/200 [00:51<00:05,  3.59it/s]"
     ]
    },
    {
     "data": {
      "text/plain": [
       "'C:\\\\Users\\\\ashis\\\\OneDrive\\\\Documents\\\\summer project\\\\summer project - 3d\\\\week2\\\\new_data\\\\image\\\\000181_10_0.png'"
      ]
     },
     "metadata": {},
     "output_type": "display_data"
    },
    {
     "data": {
      "text/plain": [
       "'C:\\\\Users\\\\ashis\\\\OneDrive\\\\Documents\\\\summer project\\\\summer project - 3d\\\\week2\\\\new_data\\\\mask\\\\000181_10_0.png'"
      ]
     },
     "metadata": {},
     "output_type": "display_data"
    },
    {
     "data": {
      "text/plain": [
       "'C:\\\\Users\\\\ashis\\\\OneDrive\\\\Documents\\\\summer project\\\\summer project - 3d\\\\week2\\\\new_data\\\\image\\\\000181_10_1.png'"
      ]
     },
     "metadata": {},
     "output_type": "display_data"
    },
    {
     "data": {
      "text/plain": [
       "'C:\\\\Users\\\\ashis\\\\OneDrive\\\\Documents\\\\summer project\\\\summer project - 3d\\\\week2\\\\new_data\\\\mask\\\\000181_10_1.png'"
      ]
     },
     "metadata": {},
     "output_type": "display_data"
    },
    {
     "data": {
      "text/plain": [
       "'C:\\\\Users\\\\ashis\\\\OneDrive\\\\Documents\\\\summer project\\\\summer project - 3d\\\\week2\\\\new_data\\\\image\\\\000181_10_2.png'"
      ]
     },
     "metadata": {},
     "output_type": "display_data"
    },
    {
     "data": {
      "text/plain": [
       "'C:\\\\Users\\\\ashis\\\\OneDrive\\\\Documents\\\\summer project\\\\summer project - 3d\\\\week2\\\\new_data\\\\mask\\\\000181_10_2.png'"
      ]
     },
     "metadata": {},
     "output_type": "display_data"
    },
    {
     "data": {
      "text/plain": [
       "'C:\\\\Users\\\\ashis\\\\OneDrive\\\\Documents\\\\summer project\\\\summer project - 3d\\\\week2\\\\new_data\\\\image\\\\000181_10_3.png'"
      ]
     },
     "metadata": {},
     "output_type": "display_data"
    },
    {
     "data": {
      "text/plain": [
       "'C:\\\\Users\\\\ashis\\\\OneDrive\\\\Documents\\\\summer project\\\\summer project - 3d\\\\week2\\\\new_data\\\\mask\\\\000181_10_3.png'"
      ]
     },
     "metadata": {},
     "output_type": "display_data"
    },
    {
     "data": {
      "text/plain": [
       "'C:\\\\Users\\\\ashis\\\\OneDrive\\\\Documents\\\\summer project\\\\summer project - 3d\\\\week2\\\\new_data\\\\image\\\\000181_10_4.png'"
      ]
     },
     "metadata": {},
     "output_type": "display_data"
    },
    {
     "data": {
      "text/plain": [
       "'C:\\\\Users\\\\ashis\\\\OneDrive\\\\Documents\\\\summer project\\\\summer project - 3d\\\\week2\\\\new_data\\\\mask\\\\000181_10_4.png'"
      ]
     },
     "metadata": {},
     "output_type": "display_data"
    },
    {
     "data": {
      "text/plain": [
       "'C:\\\\Users\\\\ashis\\\\OneDrive\\\\Documents\\\\summer project\\\\summer project - 3d\\\\week2\\\\new_data\\\\image\\\\000181_10_5.png'"
      ]
     },
     "metadata": {},
     "output_type": "display_data"
    },
    {
     "data": {
      "text/plain": [
       "'C:\\\\Users\\\\ashis\\\\OneDrive\\\\Documents\\\\summer project\\\\summer project - 3d\\\\week2\\\\new_data\\\\mask\\\\000181_10_5.png'"
      ]
     },
     "metadata": {},
     "output_type": "display_data"
    },
    {
     "name": "stderr",
     "output_type": "stream",
     "text": [
      "\r",
      " 91%|████████████████████████████████████████████████████████████████████████▊       | 182/200 [00:51<00:05,  3.43it/s]"
     ]
    },
    {
     "data": {
      "text/plain": [
       "'C:\\\\Users\\\\ashis\\\\OneDrive\\\\Documents\\\\summer project\\\\summer project - 3d\\\\week2\\\\new_data\\\\image\\\\000182_10_0.png'"
      ]
     },
     "metadata": {},
     "output_type": "display_data"
    },
    {
     "data": {
      "text/plain": [
       "'C:\\\\Users\\\\ashis\\\\OneDrive\\\\Documents\\\\summer project\\\\summer project - 3d\\\\week2\\\\new_data\\\\mask\\\\000182_10_0.png'"
      ]
     },
     "metadata": {},
     "output_type": "display_data"
    },
    {
     "data": {
      "text/plain": [
       "'C:\\\\Users\\\\ashis\\\\OneDrive\\\\Documents\\\\summer project\\\\summer project - 3d\\\\week2\\\\new_data\\\\image\\\\000182_10_1.png'"
      ]
     },
     "metadata": {},
     "output_type": "display_data"
    },
    {
     "data": {
      "text/plain": [
       "'C:\\\\Users\\\\ashis\\\\OneDrive\\\\Documents\\\\summer project\\\\summer project - 3d\\\\week2\\\\new_data\\\\mask\\\\000182_10_1.png'"
      ]
     },
     "metadata": {},
     "output_type": "display_data"
    },
    {
     "data": {
      "text/plain": [
       "'C:\\\\Users\\\\ashis\\\\OneDrive\\\\Documents\\\\summer project\\\\summer project - 3d\\\\week2\\\\new_data\\\\image\\\\000182_10_2.png'"
      ]
     },
     "metadata": {},
     "output_type": "display_data"
    },
    {
     "data": {
      "text/plain": [
       "'C:\\\\Users\\\\ashis\\\\OneDrive\\\\Documents\\\\summer project\\\\summer project - 3d\\\\week2\\\\new_data\\\\mask\\\\000182_10_2.png'"
      ]
     },
     "metadata": {},
     "output_type": "display_data"
    },
    {
     "data": {
      "text/plain": [
       "'C:\\\\Users\\\\ashis\\\\OneDrive\\\\Documents\\\\summer project\\\\summer project - 3d\\\\week2\\\\new_data\\\\image\\\\000182_10_3.png'"
      ]
     },
     "metadata": {},
     "output_type": "display_data"
    },
    {
     "data": {
      "text/plain": [
       "'C:\\\\Users\\\\ashis\\\\OneDrive\\\\Documents\\\\summer project\\\\summer project - 3d\\\\week2\\\\new_data\\\\mask\\\\000182_10_3.png'"
      ]
     },
     "metadata": {},
     "output_type": "display_data"
    },
    {
     "data": {
      "text/plain": [
       "'C:\\\\Users\\\\ashis\\\\OneDrive\\\\Documents\\\\summer project\\\\summer project - 3d\\\\week2\\\\new_data\\\\image\\\\000182_10_4.png'"
      ]
     },
     "metadata": {},
     "output_type": "display_data"
    },
    {
     "data": {
      "text/plain": [
       "'C:\\\\Users\\\\ashis\\\\OneDrive\\\\Documents\\\\summer project\\\\summer project - 3d\\\\week2\\\\new_data\\\\mask\\\\000182_10_4.png'"
      ]
     },
     "metadata": {},
     "output_type": "display_data"
    },
    {
     "data": {
      "text/plain": [
       "'C:\\\\Users\\\\ashis\\\\OneDrive\\\\Documents\\\\summer project\\\\summer project - 3d\\\\week2\\\\new_data\\\\image\\\\000182_10_5.png'"
      ]
     },
     "metadata": {},
     "output_type": "display_data"
    },
    {
     "data": {
      "text/plain": [
       "'C:\\\\Users\\\\ashis\\\\OneDrive\\\\Documents\\\\summer project\\\\summer project - 3d\\\\week2\\\\new_data\\\\mask\\\\000182_10_5.png'"
      ]
     },
     "metadata": {},
     "output_type": "display_data"
    },
    {
     "name": "stderr",
     "output_type": "stream",
     "text": [
      "\r",
      " 92%|█████████████████████████████████████████████████████████████████████████▏      | 183/200 [00:52<00:04,  3.48it/s]"
     ]
    },
    {
     "data": {
      "text/plain": [
       "'C:\\\\Users\\\\ashis\\\\OneDrive\\\\Documents\\\\summer project\\\\summer project - 3d\\\\week2\\\\new_data\\\\image\\\\000183_10_0.png'"
      ]
     },
     "metadata": {},
     "output_type": "display_data"
    },
    {
     "data": {
      "text/plain": [
       "'C:\\\\Users\\\\ashis\\\\OneDrive\\\\Documents\\\\summer project\\\\summer project - 3d\\\\week2\\\\new_data\\\\mask\\\\000183_10_0.png'"
      ]
     },
     "metadata": {},
     "output_type": "display_data"
    },
    {
     "data": {
      "text/plain": [
       "'C:\\\\Users\\\\ashis\\\\OneDrive\\\\Documents\\\\summer project\\\\summer project - 3d\\\\week2\\\\new_data\\\\image\\\\000183_10_1.png'"
      ]
     },
     "metadata": {},
     "output_type": "display_data"
    },
    {
     "data": {
      "text/plain": [
       "'C:\\\\Users\\\\ashis\\\\OneDrive\\\\Documents\\\\summer project\\\\summer project - 3d\\\\week2\\\\new_data\\\\mask\\\\000183_10_1.png'"
      ]
     },
     "metadata": {},
     "output_type": "display_data"
    },
    {
     "data": {
      "text/plain": [
       "'C:\\\\Users\\\\ashis\\\\OneDrive\\\\Documents\\\\summer project\\\\summer project - 3d\\\\week2\\\\new_data\\\\image\\\\000183_10_2.png'"
      ]
     },
     "metadata": {},
     "output_type": "display_data"
    },
    {
     "data": {
      "text/plain": [
       "'C:\\\\Users\\\\ashis\\\\OneDrive\\\\Documents\\\\summer project\\\\summer project - 3d\\\\week2\\\\new_data\\\\mask\\\\000183_10_2.png'"
      ]
     },
     "metadata": {},
     "output_type": "display_data"
    },
    {
     "data": {
      "text/plain": [
       "'C:\\\\Users\\\\ashis\\\\OneDrive\\\\Documents\\\\summer project\\\\summer project - 3d\\\\week2\\\\new_data\\\\image\\\\000183_10_3.png'"
      ]
     },
     "metadata": {},
     "output_type": "display_data"
    },
    {
     "data": {
      "text/plain": [
       "'C:\\\\Users\\\\ashis\\\\OneDrive\\\\Documents\\\\summer project\\\\summer project - 3d\\\\week2\\\\new_data\\\\mask\\\\000183_10_3.png'"
      ]
     },
     "metadata": {},
     "output_type": "display_data"
    },
    {
     "data": {
      "text/plain": [
       "'C:\\\\Users\\\\ashis\\\\OneDrive\\\\Documents\\\\summer project\\\\summer project - 3d\\\\week2\\\\new_data\\\\image\\\\000183_10_4.png'"
      ]
     },
     "metadata": {},
     "output_type": "display_data"
    },
    {
     "data": {
      "text/plain": [
       "'C:\\\\Users\\\\ashis\\\\OneDrive\\\\Documents\\\\summer project\\\\summer project - 3d\\\\week2\\\\new_data\\\\mask\\\\000183_10_4.png'"
      ]
     },
     "metadata": {},
     "output_type": "display_data"
    },
    {
     "data": {
      "text/plain": [
       "'C:\\\\Users\\\\ashis\\\\OneDrive\\\\Documents\\\\summer project\\\\summer project - 3d\\\\week2\\\\new_data\\\\image\\\\000183_10_5.png'"
      ]
     },
     "metadata": {},
     "output_type": "display_data"
    },
    {
     "data": {
      "text/plain": [
       "'C:\\\\Users\\\\ashis\\\\OneDrive\\\\Documents\\\\summer project\\\\summer project - 3d\\\\week2\\\\new_data\\\\mask\\\\000183_10_5.png'"
      ]
     },
     "metadata": {},
     "output_type": "display_data"
    },
    {
     "name": "stderr",
     "output_type": "stream",
     "text": [
      "\r",
      " 92%|█████████████████████████████████████████████████████████████████████████▌      | 184/200 [00:52<00:04,  3.56it/s]"
     ]
    },
    {
     "data": {
      "text/plain": [
       "'C:\\\\Users\\\\ashis\\\\OneDrive\\\\Documents\\\\summer project\\\\summer project - 3d\\\\week2\\\\new_data\\\\image\\\\000184_10_0.png'"
      ]
     },
     "metadata": {},
     "output_type": "display_data"
    },
    {
     "data": {
      "text/plain": [
       "'C:\\\\Users\\\\ashis\\\\OneDrive\\\\Documents\\\\summer project\\\\summer project - 3d\\\\week2\\\\new_data\\\\mask\\\\000184_10_0.png'"
      ]
     },
     "metadata": {},
     "output_type": "display_data"
    },
    {
     "data": {
      "text/plain": [
       "'C:\\\\Users\\\\ashis\\\\OneDrive\\\\Documents\\\\summer project\\\\summer project - 3d\\\\week2\\\\new_data\\\\image\\\\000184_10_1.png'"
      ]
     },
     "metadata": {},
     "output_type": "display_data"
    },
    {
     "data": {
      "text/plain": [
       "'C:\\\\Users\\\\ashis\\\\OneDrive\\\\Documents\\\\summer project\\\\summer project - 3d\\\\week2\\\\new_data\\\\mask\\\\000184_10_1.png'"
      ]
     },
     "metadata": {},
     "output_type": "display_data"
    },
    {
     "data": {
      "text/plain": [
       "'C:\\\\Users\\\\ashis\\\\OneDrive\\\\Documents\\\\summer project\\\\summer project - 3d\\\\week2\\\\new_data\\\\image\\\\000184_10_2.png'"
      ]
     },
     "metadata": {},
     "output_type": "display_data"
    },
    {
     "data": {
      "text/plain": [
       "'C:\\\\Users\\\\ashis\\\\OneDrive\\\\Documents\\\\summer project\\\\summer project - 3d\\\\week2\\\\new_data\\\\mask\\\\000184_10_2.png'"
      ]
     },
     "metadata": {},
     "output_type": "display_data"
    },
    {
     "data": {
      "text/plain": [
       "'C:\\\\Users\\\\ashis\\\\OneDrive\\\\Documents\\\\summer project\\\\summer project - 3d\\\\week2\\\\new_data\\\\image\\\\000184_10_3.png'"
      ]
     },
     "metadata": {},
     "output_type": "display_data"
    },
    {
     "data": {
      "text/plain": [
       "'C:\\\\Users\\\\ashis\\\\OneDrive\\\\Documents\\\\summer project\\\\summer project - 3d\\\\week2\\\\new_data\\\\mask\\\\000184_10_3.png'"
      ]
     },
     "metadata": {},
     "output_type": "display_data"
    },
    {
     "data": {
      "text/plain": [
       "'C:\\\\Users\\\\ashis\\\\OneDrive\\\\Documents\\\\summer project\\\\summer project - 3d\\\\week2\\\\new_data\\\\image\\\\000184_10_4.png'"
      ]
     },
     "metadata": {},
     "output_type": "display_data"
    },
    {
     "data": {
      "text/plain": [
       "'C:\\\\Users\\\\ashis\\\\OneDrive\\\\Documents\\\\summer project\\\\summer project - 3d\\\\week2\\\\new_data\\\\mask\\\\000184_10_4.png'"
      ]
     },
     "metadata": {},
     "output_type": "display_data"
    },
    {
     "data": {
      "text/plain": [
       "'C:\\\\Users\\\\ashis\\\\OneDrive\\\\Documents\\\\summer project\\\\summer project - 3d\\\\week2\\\\new_data\\\\image\\\\000184_10_5.png'"
      ]
     },
     "metadata": {},
     "output_type": "display_data"
    },
    {
     "data": {
      "text/plain": [
       "'C:\\\\Users\\\\ashis\\\\OneDrive\\\\Documents\\\\summer project\\\\summer project - 3d\\\\week2\\\\new_data\\\\mask\\\\000184_10_5.png'"
      ]
     },
     "metadata": {},
     "output_type": "display_data"
    },
    {
     "name": "stderr",
     "output_type": "stream",
     "text": [
      "\r",
      " 92%|██████████████████████████████████████████████████████████████████████████      | 185/200 [00:52<00:04,  3.64it/s]"
     ]
    },
    {
     "data": {
      "text/plain": [
       "'C:\\\\Users\\\\ashis\\\\OneDrive\\\\Documents\\\\summer project\\\\summer project - 3d\\\\week2\\\\new_data\\\\image\\\\000185_10_0.png'"
      ]
     },
     "metadata": {},
     "output_type": "display_data"
    },
    {
     "data": {
      "text/plain": [
       "'C:\\\\Users\\\\ashis\\\\OneDrive\\\\Documents\\\\summer project\\\\summer project - 3d\\\\week2\\\\new_data\\\\mask\\\\000185_10_0.png'"
      ]
     },
     "metadata": {},
     "output_type": "display_data"
    },
    {
     "data": {
      "text/plain": [
       "'C:\\\\Users\\\\ashis\\\\OneDrive\\\\Documents\\\\summer project\\\\summer project - 3d\\\\week2\\\\new_data\\\\image\\\\000185_10_1.png'"
      ]
     },
     "metadata": {},
     "output_type": "display_data"
    },
    {
     "data": {
      "text/plain": [
       "'C:\\\\Users\\\\ashis\\\\OneDrive\\\\Documents\\\\summer project\\\\summer project - 3d\\\\week2\\\\new_data\\\\mask\\\\000185_10_1.png'"
      ]
     },
     "metadata": {},
     "output_type": "display_data"
    },
    {
     "data": {
      "text/plain": [
       "'C:\\\\Users\\\\ashis\\\\OneDrive\\\\Documents\\\\summer project\\\\summer project - 3d\\\\week2\\\\new_data\\\\image\\\\000185_10_2.png'"
      ]
     },
     "metadata": {},
     "output_type": "display_data"
    },
    {
     "data": {
      "text/plain": [
       "'C:\\\\Users\\\\ashis\\\\OneDrive\\\\Documents\\\\summer project\\\\summer project - 3d\\\\week2\\\\new_data\\\\mask\\\\000185_10_2.png'"
      ]
     },
     "metadata": {},
     "output_type": "display_data"
    },
    {
     "data": {
      "text/plain": [
       "'C:\\\\Users\\\\ashis\\\\OneDrive\\\\Documents\\\\summer project\\\\summer project - 3d\\\\week2\\\\new_data\\\\image\\\\000185_10_3.png'"
      ]
     },
     "metadata": {},
     "output_type": "display_data"
    },
    {
     "data": {
      "text/plain": [
       "'C:\\\\Users\\\\ashis\\\\OneDrive\\\\Documents\\\\summer project\\\\summer project - 3d\\\\week2\\\\new_data\\\\mask\\\\000185_10_3.png'"
      ]
     },
     "metadata": {},
     "output_type": "display_data"
    },
    {
     "data": {
      "text/plain": [
       "'C:\\\\Users\\\\ashis\\\\OneDrive\\\\Documents\\\\summer project\\\\summer project - 3d\\\\week2\\\\new_data\\\\image\\\\000185_10_4.png'"
      ]
     },
     "metadata": {},
     "output_type": "display_data"
    },
    {
     "data": {
      "text/plain": [
       "'C:\\\\Users\\\\ashis\\\\OneDrive\\\\Documents\\\\summer project\\\\summer project - 3d\\\\week2\\\\new_data\\\\mask\\\\000185_10_4.png'"
      ]
     },
     "metadata": {},
     "output_type": "display_data"
    },
    {
     "data": {
      "text/plain": [
       "'C:\\\\Users\\\\ashis\\\\OneDrive\\\\Documents\\\\summer project\\\\summer project - 3d\\\\week2\\\\new_data\\\\image\\\\000185_10_5.png'"
      ]
     },
     "metadata": {},
     "output_type": "display_data"
    },
    {
     "data": {
      "text/plain": [
       "'C:\\\\Users\\\\ashis\\\\OneDrive\\\\Documents\\\\summer project\\\\summer project - 3d\\\\week2\\\\new_data\\\\mask\\\\000185_10_5.png'"
      ]
     },
     "metadata": {},
     "output_type": "display_data"
    },
    {
     "name": "stderr",
     "output_type": "stream",
     "text": [
      "\r",
      " 93%|██████████████████████████████████████████████████████████████████████████▍     | 186/200 [00:52<00:03,  3.54it/s]"
     ]
    },
    {
     "data": {
      "text/plain": [
       "'C:\\\\Users\\\\ashis\\\\OneDrive\\\\Documents\\\\summer project\\\\summer project - 3d\\\\week2\\\\new_data\\\\image\\\\000186_10_0.png'"
      ]
     },
     "metadata": {},
     "output_type": "display_data"
    },
    {
     "data": {
      "text/plain": [
       "'C:\\\\Users\\\\ashis\\\\OneDrive\\\\Documents\\\\summer project\\\\summer project - 3d\\\\week2\\\\new_data\\\\mask\\\\000186_10_0.png'"
      ]
     },
     "metadata": {},
     "output_type": "display_data"
    },
    {
     "data": {
      "text/plain": [
       "'C:\\\\Users\\\\ashis\\\\OneDrive\\\\Documents\\\\summer project\\\\summer project - 3d\\\\week2\\\\new_data\\\\image\\\\000186_10_1.png'"
      ]
     },
     "metadata": {},
     "output_type": "display_data"
    },
    {
     "data": {
      "text/plain": [
       "'C:\\\\Users\\\\ashis\\\\OneDrive\\\\Documents\\\\summer project\\\\summer project - 3d\\\\week2\\\\new_data\\\\mask\\\\000186_10_1.png'"
      ]
     },
     "metadata": {},
     "output_type": "display_data"
    },
    {
     "data": {
      "text/plain": [
       "'C:\\\\Users\\\\ashis\\\\OneDrive\\\\Documents\\\\summer project\\\\summer project - 3d\\\\week2\\\\new_data\\\\image\\\\000186_10_2.png'"
      ]
     },
     "metadata": {},
     "output_type": "display_data"
    },
    {
     "data": {
      "text/plain": [
       "'C:\\\\Users\\\\ashis\\\\OneDrive\\\\Documents\\\\summer project\\\\summer project - 3d\\\\week2\\\\new_data\\\\mask\\\\000186_10_2.png'"
      ]
     },
     "metadata": {},
     "output_type": "display_data"
    },
    {
     "data": {
      "text/plain": [
       "'C:\\\\Users\\\\ashis\\\\OneDrive\\\\Documents\\\\summer project\\\\summer project - 3d\\\\week2\\\\new_data\\\\image\\\\000186_10_3.png'"
      ]
     },
     "metadata": {},
     "output_type": "display_data"
    },
    {
     "data": {
      "text/plain": [
       "'C:\\\\Users\\\\ashis\\\\OneDrive\\\\Documents\\\\summer project\\\\summer project - 3d\\\\week2\\\\new_data\\\\mask\\\\000186_10_3.png'"
      ]
     },
     "metadata": {},
     "output_type": "display_data"
    },
    {
     "data": {
      "text/plain": [
       "'C:\\\\Users\\\\ashis\\\\OneDrive\\\\Documents\\\\summer project\\\\summer project - 3d\\\\week2\\\\new_data\\\\image\\\\000186_10_4.png'"
      ]
     },
     "metadata": {},
     "output_type": "display_data"
    },
    {
     "data": {
      "text/plain": [
       "'C:\\\\Users\\\\ashis\\\\OneDrive\\\\Documents\\\\summer project\\\\summer project - 3d\\\\week2\\\\new_data\\\\mask\\\\000186_10_4.png'"
      ]
     },
     "metadata": {},
     "output_type": "display_data"
    },
    {
     "data": {
      "text/plain": [
       "'C:\\\\Users\\\\ashis\\\\OneDrive\\\\Documents\\\\summer project\\\\summer project - 3d\\\\week2\\\\new_data\\\\image\\\\000186_10_5.png'"
      ]
     },
     "metadata": {},
     "output_type": "display_data"
    },
    {
     "data": {
      "text/plain": [
       "'C:\\\\Users\\\\ashis\\\\OneDrive\\\\Documents\\\\summer project\\\\summer project - 3d\\\\week2\\\\new_data\\\\mask\\\\000186_10_5.png'"
      ]
     },
     "metadata": {},
     "output_type": "display_data"
    },
    {
     "name": "stderr",
     "output_type": "stream",
     "text": [
      "\r",
      " 94%|██████████████████████████████████████████████████████████████████████████▊     | 187/200 [00:53<00:03,  3.61it/s]"
     ]
    },
    {
     "data": {
      "text/plain": [
       "'C:\\\\Users\\\\ashis\\\\OneDrive\\\\Documents\\\\summer project\\\\summer project - 3d\\\\week2\\\\new_data\\\\image\\\\000187_10_0.png'"
      ]
     },
     "metadata": {},
     "output_type": "display_data"
    },
    {
     "data": {
      "text/plain": [
       "'C:\\\\Users\\\\ashis\\\\OneDrive\\\\Documents\\\\summer project\\\\summer project - 3d\\\\week2\\\\new_data\\\\mask\\\\000187_10_0.png'"
      ]
     },
     "metadata": {},
     "output_type": "display_data"
    },
    {
     "data": {
      "text/plain": [
       "'C:\\\\Users\\\\ashis\\\\OneDrive\\\\Documents\\\\summer project\\\\summer project - 3d\\\\week2\\\\new_data\\\\image\\\\000187_10_1.png'"
      ]
     },
     "metadata": {},
     "output_type": "display_data"
    },
    {
     "data": {
      "text/plain": [
       "'C:\\\\Users\\\\ashis\\\\OneDrive\\\\Documents\\\\summer project\\\\summer project - 3d\\\\week2\\\\new_data\\\\mask\\\\000187_10_1.png'"
      ]
     },
     "metadata": {},
     "output_type": "display_data"
    },
    {
     "data": {
      "text/plain": [
       "'C:\\\\Users\\\\ashis\\\\OneDrive\\\\Documents\\\\summer project\\\\summer project - 3d\\\\week2\\\\new_data\\\\image\\\\000187_10_2.png'"
      ]
     },
     "metadata": {},
     "output_type": "display_data"
    },
    {
     "data": {
      "text/plain": [
       "'C:\\\\Users\\\\ashis\\\\OneDrive\\\\Documents\\\\summer project\\\\summer project - 3d\\\\week2\\\\new_data\\\\mask\\\\000187_10_2.png'"
      ]
     },
     "metadata": {},
     "output_type": "display_data"
    },
    {
     "data": {
      "text/plain": [
       "'C:\\\\Users\\\\ashis\\\\OneDrive\\\\Documents\\\\summer project\\\\summer project - 3d\\\\week2\\\\new_data\\\\image\\\\000187_10_3.png'"
      ]
     },
     "metadata": {},
     "output_type": "display_data"
    },
    {
     "data": {
      "text/plain": [
       "'C:\\\\Users\\\\ashis\\\\OneDrive\\\\Documents\\\\summer project\\\\summer project - 3d\\\\week2\\\\new_data\\\\mask\\\\000187_10_3.png'"
      ]
     },
     "metadata": {},
     "output_type": "display_data"
    },
    {
     "data": {
      "text/plain": [
       "'C:\\\\Users\\\\ashis\\\\OneDrive\\\\Documents\\\\summer project\\\\summer project - 3d\\\\week2\\\\new_data\\\\image\\\\000187_10_4.png'"
      ]
     },
     "metadata": {},
     "output_type": "display_data"
    },
    {
     "data": {
      "text/plain": [
       "'C:\\\\Users\\\\ashis\\\\OneDrive\\\\Documents\\\\summer project\\\\summer project - 3d\\\\week2\\\\new_data\\\\mask\\\\000187_10_4.png'"
      ]
     },
     "metadata": {},
     "output_type": "display_data"
    },
    {
     "data": {
      "text/plain": [
       "'C:\\\\Users\\\\ashis\\\\OneDrive\\\\Documents\\\\summer project\\\\summer project - 3d\\\\week2\\\\new_data\\\\image\\\\000187_10_5.png'"
      ]
     },
     "metadata": {},
     "output_type": "display_data"
    },
    {
     "data": {
      "text/plain": [
       "'C:\\\\Users\\\\ashis\\\\OneDrive\\\\Documents\\\\summer project\\\\summer project - 3d\\\\week2\\\\new_data\\\\mask\\\\000187_10_5.png'"
      ]
     },
     "metadata": {},
     "output_type": "display_data"
    },
    {
     "name": "stderr",
     "output_type": "stream",
     "text": [
      "\r",
      " 94%|███████████████████████████████████████████████████████████████████████████▏    | 188/200 [00:53<00:03,  3.60it/s]"
     ]
    },
    {
     "data": {
      "text/plain": [
       "'C:\\\\Users\\\\ashis\\\\OneDrive\\\\Documents\\\\summer project\\\\summer project - 3d\\\\week2\\\\new_data\\\\image\\\\000188_10_0.png'"
      ]
     },
     "metadata": {},
     "output_type": "display_data"
    },
    {
     "data": {
      "text/plain": [
       "'C:\\\\Users\\\\ashis\\\\OneDrive\\\\Documents\\\\summer project\\\\summer project - 3d\\\\week2\\\\new_data\\\\mask\\\\000188_10_0.png'"
      ]
     },
     "metadata": {},
     "output_type": "display_data"
    },
    {
     "data": {
      "text/plain": [
       "'C:\\\\Users\\\\ashis\\\\OneDrive\\\\Documents\\\\summer project\\\\summer project - 3d\\\\week2\\\\new_data\\\\image\\\\000188_10_1.png'"
      ]
     },
     "metadata": {},
     "output_type": "display_data"
    },
    {
     "data": {
      "text/plain": [
       "'C:\\\\Users\\\\ashis\\\\OneDrive\\\\Documents\\\\summer project\\\\summer project - 3d\\\\week2\\\\new_data\\\\mask\\\\000188_10_1.png'"
      ]
     },
     "metadata": {},
     "output_type": "display_data"
    },
    {
     "data": {
      "text/plain": [
       "'C:\\\\Users\\\\ashis\\\\OneDrive\\\\Documents\\\\summer project\\\\summer project - 3d\\\\week2\\\\new_data\\\\image\\\\000188_10_2.png'"
      ]
     },
     "metadata": {},
     "output_type": "display_data"
    },
    {
     "data": {
      "text/plain": [
       "'C:\\\\Users\\\\ashis\\\\OneDrive\\\\Documents\\\\summer project\\\\summer project - 3d\\\\week2\\\\new_data\\\\mask\\\\000188_10_2.png'"
      ]
     },
     "metadata": {},
     "output_type": "display_data"
    },
    {
     "data": {
      "text/plain": [
       "'C:\\\\Users\\\\ashis\\\\OneDrive\\\\Documents\\\\summer project\\\\summer project - 3d\\\\week2\\\\new_data\\\\image\\\\000188_10_3.png'"
      ]
     },
     "metadata": {},
     "output_type": "display_data"
    },
    {
     "data": {
      "text/plain": [
       "'C:\\\\Users\\\\ashis\\\\OneDrive\\\\Documents\\\\summer project\\\\summer project - 3d\\\\week2\\\\new_data\\\\mask\\\\000188_10_3.png'"
      ]
     },
     "metadata": {},
     "output_type": "display_data"
    },
    {
     "data": {
      "text/plain": [
       "'C:\\\\Users\\\\ashis\\\\OneDrive\\\\Documents\\\\summer project\\\\summer project - 3d\\\\week2\\\\new_data\\\\image\\\\000188_10_4.png'"
      ]
     },
     "metadata": {},
     "output_type": "display_data"
    },
    {
     "data": {
      "text/plain": [
       "'C:\\\\Users\\\\ashis\\\\OneDrive\\\\Documents\\\\summer project\\\\summer project - 3d\\\\week2\\\\new_data\\\\mask\\\\000188_10_4.png'"
      ]
     },
     "metadata": {},
     "output_type": "display_data"
    },
    {
     "data": {
      "text/plain": [
       "'C:\\\\Users\\\\ashis\\\\OneDrive\\\\Documents\\\\summer project\\\\summer project - 3d\\\\week2\\\\new_data\\\\image\\\\000188_10_5.png'"
      ]
     },
     "metadata": {},
     "output_type": "display_data"
    },
    {
     "data": {
      "text/plain": [
       "'C:\\\\Users\\\\ashis\\\\OneDrive\\\\Documents\\\\summer project\\\\summer project - 3d\\\\week2\\\\new_data\\\\mask\\\\000188_10_5.png'"
      ]
     },
     "metadata": {},
     "output_type": "display_data"
    },
    {
     "name": "stderr",
     "output_type": "stream",
     "text": [
      "\r",
      " 94%|███████████████████████████████████████████████████████████████████████████▌    | 189/200 [00:53<00:03,  3.63it/s]"
     ]
    },
    {
     "data": {
      "text/plain": [
       "'C:\\\\Users\\\\ashis\\\\OneDrive\\\\Documents\\\\summer project\\\\summer project - 3d\\\\week2\\\\new_data\\\\image\\\\000189_10_0.png'"
      ]
     },
     "metadata": {},
     "output_type": "display_data"
    },
    {
     "data": {
      "text/plain": [
       "'C:\\\\Users\\\\ashis\\\\OneDrive\\\\Documents\\\\summer project\\\\summer project - 3d\\\\week2\\\\new_data\\\\mask\\\\000189_10_0.png'"
      ]
     },
     "metadata": {},
     "output_type": "display_data"
    },
    {
     "data": {
      "text/plain": [
       "'C:\\\\Users\\\\ashis\\\\OneDrive\\\\Documents\\\\summer project\\\\summer project - 3d\\\\week2\\\\new_data\\\\image\\\\000189_10_1.png'"
      ]
     },
     "metadata": {},
     "output_type": "display_data"
    },
    {
     "data": {
      "text/plain": [
       "'C:\\\\Users\\\\ashis\\\\OneDrive\\\\Documents\\\\summer project\\\\summer project - 3d\\\\week2\\\\new_data\\\\mask\\\\000189_10_1.png'"
      ]
     },
     "metadata": {},
     "output_type": "display_data"
    },
    {
     "data": {
      "text/plain": [
       "'C:\\\\Users\\\\ashis\\\\OneDrive\\\\Documents\\\\summer project\\\\summer project - 3d\\\\week2\\\\new_data\\\\image\\\\000189_10_2.png'"
      ]
     },
     "metadata": {},
     "output_type": "display_data"
    },
    {
     "data": {
      "text/plain": [
       "'C:\\\\Users\\\\ashis\\\\OneDrive\\\\Documents\\\\summer project\\\\summer project - 3d\\\\week2\\\\new_data\\\\mask\\\\000189_10_2.png'"
      ]
     },
     "metadata": {},
     "output_type": "display_data"
    },
    {
     "data": {
      "text/plain": [
       "'C:\\\\Users\\\\ashis\\\\OneDrive\\\\Documents\\\\summer project\\\\summer project - 3d\\\\week2\\\\new_data\\\\image\\\\000189_10_3.png'"
      ]
     },
     "metadata": {},
     "output_type": "display_data"
    },
    {
     "data": {
      "text/plain": [
       "'C:\\\\Users\\\\ashis\\\\OneDrive\\\\Documents\\\\summer project\\\\summer project - 3d\\\\week2\\\\new_data\\\\mask\\\\000189_10_3.png'"
      ]
     },
     "metadata": {},
     "output_type": "display_data"
    },
    {
     "data": {
      "text/plain": [
       "'C:\\\\Users\\\\ashis\\\\OneDrive\\\\Documents\\\\summer project\\\\summer project - 3d\\\\week2\\\\new_data\\\\image\\\\000189_10_4.png'"
      ]
     },
     "metadata": {},
     "output_type": "display_data"
    },
    {
     "data": {
      "text/plain": [
       "'C:\\\\Users\\\\ashis\\\\OneDrive\\\\Documents\\\\summer project\\\\summer project - 3d\\\\week2\\\\new_data\\\\mask\\\\000189_10_4.png'"
      ]
     },
     "metadata": {},
     "output_type": "display_data"
    },
    {
     "data": {
      "text/plain": [
       "'C:\\\\Users\\\\ashis\\\\OneDrive\\\\Documents\\\\summer project\\\\summer project - 3d\\\\week2\\\\new_data\\\\image\\\\000189_10_5.png'"
      ]
     },
     "metadata": {},
     "output_type": "display_data"
    },
    {
     "data": {
      "text/plain": [
       "'C:\\\\Users\\\\ashis\\\\OneDrive\\\\Documents\\\\summer project\\\\summer project - 3d\\\\week2\\\\new_data\\\\mask\\\\000189_10_5.png'"
      ]
     },
     "metadata": {},
     "output_type": "display_data"
    },
    {
     "name": "stderr",
     "output_type": "stream",
     "text": [
      "\r",
      " 95%|████████████████████████████████████████████████████████████████████████████    | 190/200 [00:53<00:02,  3.68it/s]"
     ]
    },
    {
     "data": {
      "text/plain": [
       "'C:\\\\Users\\\\ashis\\\\OneDrive\\\\Documents\\\\summer project\\\\summer project - 3d\\\\week2\\\\new_data\\\\image\\\\000190_10_0.png'"
      ]
     },
     "metadata": {},
     "output_type": "display_data"
    },
    {
     "data": {
      "text/plain": [
       "'C:\\\\Users\\\\ashis\\\\OneDrive\\\\Documents\\\\summer project\\\\summer project - 3d\\\\week2\\\\new_data\\\\mask\\\\000190_10_0.png'"
      ]
     },
     "metadata": {},
     "output_type": "display_data"
    },
    {
     "data": {
      "text/plain": [
       "'C:\\\\Users\\\\ashis\\\\OneDrive\\\\Documents\\\\summer project\\\\summer project - 3d\\\\week2\\\\new_data\\\\image\\\\000190_10_1.png'"
      ]
     },
     "metadata": {},
     "output_type": "display_data"
    },
    {
     "data": {
      "text/plain": [
       "'C:\\\\Users\\\\ashis\\\\OneDrive\\\\Documents\\\\summer project\\\\summer project - 3d\\\\week2\\\\new_data\\\\mask\\\\000190_10_1.png'"
      ]
     },
     "metadata": {},
     "output_type": "display_data"
    },
    {
     "data": {
      "text/plain": [
       "'C:\\\\Users\\\\ashis\\\\OneDrive\\\\Documents\\\\summer project\\\\summer project - 3d\\\\week2\\\\new_data\\\\image\\\\000190_10_2.png'"
      ]
     },
     "metadata": {},
     "output_type": "display_data"
    },
    {
     "data": {
      "text/plain": [
       "'C:\\\\Users\\\\ashis\\\\OneDrive\\\\Documents\\\\summer project\\\\summer project - 3d\\\\week2\\\\new_data\\\\mask\\\\000190_10_2.png'"
      ]
     },
     "metadata": {},
     "output_type": "display_data"
    },
    {
     "data": {
      "text/plain": [
       "'C:\\\\Users\\\\ashis\\\\OneDrive\\\\Documents\\\\summer project\\\\summer project - 3d\\\\week2\\\\new_data\\\\image\\\\000190_10_3.png'"
      ]
     },
     "metadata": {},
     "output_type": "display_data"
    },
    {
     "data": {
      "text/plain": [
       "'C:\\\\Users\\\\ashis\\\\OneDrive\\\\Documents\\\\summer project\\\\summer project - 3d\\\\week2\\\\new_data\\\\mask\\\\000190_10_3.png'"
      ]
     },
     "metadata": {},
     "output_type": "display_data"
    },
    {
     "data": {
      "text/plain": [
       "'C:\\\\Users\\\\ashis\\\\OneDrive\\\\Documents\\\\summer project\\\\summer project - 3d\\\\week2\\\\new_data\\\\image\\\\000190_10_4.png'"
      ]
     },
     "metadata": {},
     "output_type": "display_data"
    },
    {
     "data": {
      "text/plain": [
       "'C:\\\\Users\\\\ashis\\\\OneDrive\\\\Documents\\\\summer project\\\\summer project - 3d\\\\week2\\\\new_data\\\\mask\\\\000190_10_4.png'"
      ]
     },
     "metadata": {},
     "output_type": "display_data"
    },
    {
     "data": {
      "text/plain": [
       "'C:\\\\Users\\\\ashis\\\\OneDrive\\\\Documents\\\\summer project\\\\summer project - 3d\\\\week2\\\\new_data\\\\image\\\\000190_10_5.png'"
      ]
     },
     "metadata": {},
     "output_type": "display_data"
    },
    {
     "data": {
      "text/plain": [
       "'C:\\\\Users\\\\ashis\\\\OneDrive\\\\Documents\\\\summer project\\\\summer project - 3d\\\\week2\\\\new_data\\\\mask\\\\000190_10_5.png'"
      ]
     },
     "metadata": {},
     "output_type": "display_data"
    },
    {
     "name": "stderr",
     "output_type": "stream",
     "text": [
      "\r",
      " 96%|████████████████████████████████████████████████████████████████████████████▍   | 191/200 [00:54<00:02,  3.53it/s]"
     ]
    },
    {
     "data": {
      "text/plain": [
       "'C:\\\\Users\\\\ashis\\\\OneDrive\\\\Documents\\\\summer project\\\\summer project - 3d\\\\week2\\\\new_data\\\\image\\\\000191_10_0.png'"
      ]
     },
     "metadata": {},
     "output_type": "display_data"
    },
    {
     "data": {
      "text/plain": [
       "'C:\\\\Users\\\\ashis\\\\OneDrive\\\\Documents\\\\summer project\\\\summer project - 3d\\\\week2\\\\new_data\\\\mask\\\\000191_10_0.png'"
      ]
     },
     "metadata": {},
     "output_type": "display_data"
    },
    {
     "data": {
      "text/plain": [
       "'C:\\\\Users\\\\ashis\\\\OneDrive\\\\Documents\\\\summer project\\\\summer project - 3d\\\\week2\\\\new_data\\\\image\\\\000191_10_1.png'"
      ]
     },
     "metadata": {},
     "output_type": "display_data"
    },
    {
     "data": {
      "text/plain": [
       "'C:\\\\Users\\\\ashis\\\\OneDrive\\\\Documents\\\\summer project\\\\summer project - 3d\\\\week2\\\\new_data\\\\mask\\\\000191_10_1.png'"
      ]
     },
     "metadata": {},
     "output_type": "display_data"
    },
    {
     "data": {
      "text/plain": [
       "'C:\\\\Users\\\\ashis\\\\OneDrive\\\\Documents\\\\summer project\\\\summer project - 3d\\\\week2\\\\new_data\\\\image\\\\000191_10_2.png'"
      ]
     },
     "metadata": {},
     "output_type": "display_data"
    },
    {
     "data": {
      "text/plain": [
       "'C:\\\\Users\\\\ashis\\\\OneDrive\\\\Documents\\\\summer project\\\\summer project - 3d\\\\week2\\\\new_data\\\\mask\\\\000191_10_2.png'"
      ]
     },
     "metadata": {},
     "output_type": "display_data"
    },
    {
     "data": {
      "text/plain": [
       "'C:\\\\Users\\\\ashis\\\\OneDrive\\\\Documents\\\\summer project\\\\summer project - 3d\\\\week2\\\\new_data\\\\image\\\\000191_10_3.png'"
      ]
     },
     "metadata": {},
     "output_type": "display_data"
    },
    {
     "data": {
      "text/plain": [
       "'C:\\\\Users\\\\ashis\\\\OneDrive\\\\Documents\\\\summer project\\\\summer project - 3d\\\\week2\\\\new_data\\\\mask\\\\000191_10_3.png'"
      ]
     },
     "metadata": {},
     "output_type": "display_data"
    },
    {
     "data": {
      "text/plain": [
       "'C:\\\\Users\\\\ashis\\\\OneDrive\\\\Documents\\\\summer project\\\\summer project - 3d\\\\week2\\\\new_data\\\\image\\\\000191_10_4.png'"
      ]
     },
     "metadata": {},
     "output_type": "display_data"
    },
    {
     "data": {
      "text/plain": [
       "'C:\\\\Users\\\\ashis\\\\OneDrive\\\\Documents\\\\summer project\\\\summer project - 3d\\\\week2\\\\new_data\\\\mask\\\\000191_10_4.png'"
      ]
     },
     "metadata": {},
     "output_type": "display_data"
    },
    {
     "data": {
      "text/plain": [
       "'C:\\\\Users\\\\ashis\\\\OneDrive\\\\Documents\\\\summer project\\\\summer project - 3d\\\\week2\\\\new_data\\\\image\\\\000191_10_5.png'"
      ]
     },
     "metadata": {},
     "output_type": "display_data"
    },
    {
     "data": {
      "text/plain": [
       "'C:\\\\Users\\\\ashis\\\\OneDrive\\\\Documents\\\\summer project\\\\summer project - 3d\\\\week2\\\\new_data\\\\mask\\\\000191_10_5.png'"
      ]
     },
     "metadata": {},
     "output_type": "display_data"
    },
    {
     "name": "stderr",
     "output_type": "stream",
     "text": [
      "\r",
      " 96%|████████████████████████████████████████████████████████████████████████████▊   | 192/200 [00:54<00:02,  3.49it/s]"
     ]
    },
    {
     "data": {
      "text/plain": [
       "'C:\\\\Users\\\\ashis\\\\OneDrive\\\\Documents\\\\summer project\\\\summer project - 3d\\\\week2\\\\new_data\\\\image\\\\000192_10_0.png'"
      ]
     },
     "metadata": {},
     "output_type": "display_data"
    },
    {
     "data": {
      "text/plain": [
       "'C:\\\\Users\\\\ashis\\\\OneDrive\\\\Documents\\\\summer project\\\\summer project - 3d\\\\week2\\\\new_data\\\\mask\\\\000192_10_0.png'"
      ]
     },
     "metadata": {},
     "output_type": "display_data"
    },
    {
     "data": {
      "text/plain": [
       "'C:\\\\Users\\\\ashis\\\\OneDrive\\\\Documents\\\\summer project\\\\summer project - 3d\\\\week2\\\\new_data\\\\image\\\\000192_10_1.png'"
      ]
     },
     "metadata": {},
     "output_type": "display_data"
    },
    {
     "data": {
      "text/plain": [
       "'C:\\\\Users\\\\ashis\\\\OneDrive\\\\Documents\\\\summer project\\\\summer project - 3d\\\\week2\\\\new_data\\\\mask\\\\000192_10_1.png'"
      ]
     },
     "metadata": {},
     "output_type": "display_data"
    },
    {
     "data": {
      "text/plain": [
       "'C:\\\\Users\\\\ashis\\\\OneDrive\\\\Documents\\\\summer project\\\\summer project - 3d\\\\week2\\\\new_data\\\\image\\\\000192_10_2.png'"
      ]
     },
     "metadata": {},
     "output_type": "display_data"
    },
    {
     "data": {
      "text/plain": [
       "'C:\\\\Users\\\\ashis\\\\OneDrive\\\\Documents\\\\summer project\\\\summer project - 3d\\\\week2\\\\new_data\\\\mask\\\\000192_10_2.png'"
      ]
     },
     "metadata": {},
     "output_type": "display_data"
    },
    {
     "data": {
      "text/plain": [
       "'C:\\\\Users\\\\ashis\\\\OneDrive\\\\Documents\\\\summer project\\\\summer project - 3d\\\\week2\\\\new_data\\\\image\\\\000192_10_3.png'"
      ]
     },
     "metadata": {},
     "output_type": "display_data"
    },
    {
     "data": {
      "text/plain": [
       "'C:\\\\Users\\\\ashis\\\\OneDrive\\\\Documents\\\\summer project\\\\summer project - 3d\\\\week2\\\\new_data\\\\mask\\\\000192_10_3.png'"
      ]
     },
     "metadata": {},
     "output_type": "display_data"
    },
    {
     "data": {
      "text/plain": [
       "'C:\\\\Users\\\\ashis\\\\OneDrive\\\\Documents\\\\summer project\\\\summer project - 3d\\\\week2\\\\new_data\\\\image\\\\000192_10_4.png'"
      ]
     },
     "metadata": {},
     "output_type": "display_data"
    },
    {
     "data": {
      "text/plain": [
       "'C:\\\\Users\\\\ashis\\\\OneDrive\\\\Documents\\\\summer project\\\\summer project - 3d\\\\week2\\\\new_data\\\\mask\\\\000192_10_4.png'"
      ]
     },
     "metadata": {},
     "output_type": "display_data"
    },
    {
     "data": {
      "text/plain": [
       "'C:\\\\Users\\\\ashis\\\\OneDrive\\\\Documents\\\\summer project\\\\summer project - 3d\\\\week2\\\\new_data\\\\image\\\\000192_10_5.png'"
      ]
     },
     "metadata": {},
     "output_type": "display_data"
    },
    {
     "data": {
      "text/plain": [
       "'C:\\\\Users\\\\ashis\\\\OneDrive\\\\Documents\\\\summer project\\\\summer project - 3d\\\\week2\\\\new_data\\\\mask\\\\000192_10_5.png'"
      ]
     },
     "metadata": {},
     "output_type": "display_data"
    },
    {
     "name": "stderr",
     "output_type": "stream",
     "text": [
      "\r",
      " 96%|█████████████████████████████████████████████████████████████████████████████▏  | 193/200 [00:54<00:01,  3.56it/s]"
     ]
    },
    {
     "data": {
      "text/plain": [
       "'C:\\\\Users\\\\ashis\\\\OneDrive\\\\Documents\\\\summer project\\\\summer project - 3d\\\\week2\\\\new_data\\\\image\\\\000193_10_0.png'"
      ]
     },
     "metadata": {},
     "output_type": "display_data"
    },
    {
     "data": {
      "text/plain": [
       "'C:\\\\Users\\\\ashis\\\\OneDrive\\\\Documents\\\\summer project\\\\summer project - 3d\\\\week2\\\\new_data\\\\mask\\\\000193_10_0.png'"
      ]
     },
     "metadata": {},
     "output_type": "display_data"
    },
    {
     "data": {
      "text/plain": [
       "'C:\\\\Users\\\\ashis\\\\OneDrive\\\\Documents\\\\summer project\\\\summer project - 3d\\\\week2\\\\new_data\\\\image\\\\000193_10_1.png'"
      ]
     },
     "metadata": {},
     "output_type": "display_data"
    },
    {
     "data": {
      "text/plain": [
       "'C:\\\\Users\\\\ashis\\\\OneDrive\\\\Documents\\\\summer project\\\\summer project - 3d\\\\week2\\\\new_data\\\\mask\\\\000193_10_1.png'"
      ]
     },
     "metadata": {},
     "output_type": "display_data"
    },
    {
     "data": {
      "text/plain": [
       "'C:\\\\Users\\\\ashis\\\\OneDrive\\\\Documents\\\\summer project\\\\summer project - 3d\\\\week2\\\\new_data\\\\image\\\\000193_10_2.png'"
      ]
     },
     "metadata": {},
     "output_type": "display_data"
    },
    {
     "data": {
      "text/plain": [
       "'C:\\\\Users\\\\ashis\\\\OneDrive\\\\Documents\\\\summer project\\\\summer project - 3d\\\\week2\\\\new_data\\\\mask\\\\000193_10_2.png'"
      ]
     },
     "metadata": {},
     "output_type": "display_data"
    },
    {
     "data": {
      "text/plain": [
       "'C:\\\\Users\\\\ashis\\\\OneDrive\\\\Documents\\\\summer project\\\\summer project - 3d\\\\week2\\\\new_data\\\\image\\\\000193_10_3.png'"
      ]
     },
     "metadata": {},
     "output_type": "display_data"
    },
    {
     "data": {
      "text/plain": [
       "'C:\\\\Users\\\\ashis\\\\OneDrive\\\\Documents\\\\summer project\\\\summer project - 3d\\\\week2\\\\new_data\\\\mask\\\\000193_10_3.png'"
      ]
     },
     "metadata": {},
     "output_type": "display_data"
    },
    {
     "data": {
      "text/plain": [
       "'C:\\\\Users\\\\ashis\\\\OneDrive\\\\Documents\\\\summer project\\\\summer project - 3d\\\\week2\\\\new_data\\\\image\\\\000193_10_4.png'"
      ]
     },
     "metadata": {},
     "output_type": "display_data"
    },
    {
     "data": {
      "text/plain": [
       "'C:\\\\Users\\\\ashis\\\\OneDrive\\\\Documents\\\\summer project\\\\summer project - 3d\\\\week2\\\\new_data\\\\mask\\\\000193_10_4.png'"
      ]
     },
     "metadata": {},
     "output_type": "display_data"
    },
    {
     "data": {
      "text/plain": [
       "'C:\\\\Users\\\\ashis\\\\OneDrive\\\\Documents\\\\summer project\\\\summer project - 3d\\\\week2\\\\new_data\\\\image\\\\000193_10_5.png'"
      ]
     },
     "metadata": {},
     "output_type": "display_data"
    },
    {
     "data": {
      "text/plain": [
       "'C:\\\\Users\\\\ashis\\\\OneDrive\\\\Documents\\\\summer project\\\\summer project - 3d\\\\week2\\\\new_data\\\\mask\\\\000193_10_5.png'"
      ]
     },
     "metadata": {},
     "output_type": "display_data"
    },
    {
     "name": "stderr",
     "output_type": "stream",
     "text": [
      "\r",
      " 97%|█████████████████████████████████████████████████████████████████████████████▌  | 194/200 [00:55<00:01,  3.63it/s]"
     ]
    },
    {
     "data": {
      "text/plain": [
       "'C:\\\\Users\\\\ashis\\\\OneDrive\\\\Documents\\\\summer project\\\\summer project - 3d\\\\week2\\\\new_data\\\\image\\\\000194_10_0.png'"
      ]
     },
     "metadata": {},
     "output_type": "display_data"
    },
    {
     "data": {
      "text/plain": [
       "'C:\\\\Users\\\\ashis\\\\OneDrive\\\\Documents\\\\summer project\\\\summer project - 3d\\\\week2\\\\new_data\\\\mask\\\\000194_10_0.png'"
      ]
     },
     "metadata": {},
     "output_type": "display_data"
    },
    {
     "data": {
      "text/plain": [
       "'C:\\\\Users\\\\ashis\\\\OneDrive\\\\Documents\\\\summer project\\\\summer project - 3d\\\\week2\\\\new_data\\\\image\\\\000194_10_1.png'"
      ]
     },
     "metadata": {},
     "output_type": "display_data"
    },
    {
     "data": {
      "text/plain": [
       "'C:\\\\Users\\\\ashis\\\\OneDrive\\\\Documents\\\\summer project\\\\summer project - 3d\\\\week2\\\\new_data\\\\mask\\\\000194_10_1.png'"
      ]
     },
     "metadata": {},
     "output_type": "display_data"
    },
    {
     "data": {
      "text/plain": [
       "'C:\\\\Users\\\\ashis\\\\OneDrive\\\\Documents\\\\summer project\\\\summer project - 3d\\\\week2\\\\new_data\\\\image\\\\000194_10_2.png'"
      ]
     },
     "metadata": {},
     "output_type": "display_data"
    },
    {
     "data": {
      "text/plain": [
       "'C:\\\\Users\\\\ashis\\\\OneDrive\\\\Documents\\\\summer project\\\\summer project - 3d\\\\week2\\\\new_data\\\\mask\\\\000194_10_2.png'"
      ]
     },
     "metadata": {},
     "output_type": "display_data"
    },
    {
     "data": {
      "text/plain": [
       "'C:\\\\Users\\\\ashis\\\\OneDrive\\\\Documents\\\\summer project\\\\summer project - 3d\\\\week2\\\\new_data\\\\image\\\\000194_10_3.png'"
      ]
     },
     "metadata": {},
     "output_type": "display_data"
    },
    {
     "data": {
      "text/plain": [
       "'C:\\\\Users\\\\ashis\\\\OneDrive\\\\Documents\\\\summer project\\\\summer project - 3d\\\\week2\\\\new_data\\\\mask\\\\000194_10_3.png'"
      ]
     },
     "metadata": {},
     "output_type": "display_data"
    },
    {
     "data": {
      "text/plain": [
       "'C:\\\\Users\\\\ashis\\\\OneDrive\\\\Documents\\\\summer project\\\\summer project - 3d\\\\week2\\\\new_data\\\\image\\\\000194_10_4.png'"
      ]
     },
     "metadata": {},
     "output_type": "display_data"
    },
    {
     "data": {
      "text/plain": [
       "'C:\\\\Users\\\\ashis\\\\OneDrive\\\\Documents\\\\summer project\\\\summer project - 3d\\\\week2\\\\new_data\\\\mask\\\\000194_10_4.png'"
      ]
     },
     "metadata": {},
     "output_type": "display_data"
    },
    {
     "data": {
      "text/plain": [
       "'C:\\\\Users\\\\ashis\\\\OneDrive\\\\Documents\\\\summer project\\\\summer project - 3d\\\\week2\\\\new_data\\\\image\\\\000194_10_5.png'"
      ]
     },
     "metadata": {},
     "output_type": "display_data"
    },
    {
     "data": {
      "text/plain": [
       "'C:\\\\Users\\\\ashis\\\\OneDrive\\\\Documents\\\\summer project\\\\summer project - 3d\\\\week2\\\\new_data\\\\mask\\\\000194_10_5.png'"
      ]
     },
     "metadata": {},
     "output_type": "display_data"
    },
    {
     "name": "stderr",
     "output_type": "stream",
     "text": [
      "\r",
      " 98%|██████████████████████████████████████████████████████████████████████████████  | 195/200 [00:55<00:01,  3.55it/s]"
     ]
    },
    {
     "data": {
      "text/plain": [
       "'C:\\\\Users\\\\ashis\\\\OneDrive\\\\Documents\\\\summer project\\\\summer project - 3d\\\\week2\\\\new_data\\\\image\\\\000195_10_0.png'"
      ]
     },
     "metadata": {},
     "output_type": "display_data"
    },
    {
     "data": {
      "text/plain": [
       "'C:\\\\Users\\\\ashis\\\\OneDrive\\\\Documents\\\\summer project\\\\summer project - 3d\\\\week2\\\\new_data\\\\mask\\\\000195_10_0.png'"
      ]
     },
     "metadata": {},
     "output_type": "display_data"
    },
    {
     "data": {
      "text/plain": [
       "'C:\\\\Users\\\\ashis\\\\OneDrive\\\\Documents\\\\summer project\\\\summer project - 3d\\\\week2\\\\new_data\\\\image\\\\000195_10_1.png'"
      ]
     },
     "metadata": {},
     "output_type": "display_data"
    },
    {
     "data": {
      "text/plain": [
       "'C:\\\\Users\\\\ashis\\\\OneDrive\\\\Documents\\\\summer project\\\\summer project - 3d\\\\week2\\\\new_data\\\\mask\\\\000195_10_1.png'"
      ]
     },
     "metadata": {},
     "output_type": "display_data"
    },
    {
     "data": {
      "text/plain": [
       "'C:\\\\Users\\\\ashis\\\\OneDrive\\\\Documents\\\\summer project\\\\summer project - 3d\\\\week2\\\\new_data\\\\image\\\\000195_10_2.png'"
      ]
     },
     "metadata": {},
     "output_type": "display_data"
    },
    {
     "data": {
      "text/plain": [
       "'C:\\\\Users\\\\ashis\\\\OneDrive\\\\Documents\\\\summer project\\\\summer project - 3d\\\\week2\\\\new_data\\\\mask\\\\000195_10_2.png'"
      ]
     },
     "metadata": {},
     "output_type": "display_data"
    },
    {
     "data": {
      "text/plain": [
       "'C:\\\\Users\\\\ashis\\\\OneDrive\\\\Documents\\\\summer project\\\\summer project - 3d\\\\week2\\\\new_data\\\\image\\\\000195_10_3.png'"
      ]
     },
     "metadata": {},
     "output_type": "display_data"
    },
    {
     "data": {
      "text/plain": [
       "'C:\\\\Users\\\\ashis\\\\OneDrive\\\\Documents\\\\summer project\\\\summer project - 3d\\\\week2\\\\new_data\\\\mask\\\\000195_10_3.png'"
      ]
     },
     "metadata": {},
     "output_type": "display_data"
    },
    {
     "data": {
      "text/plain": [
       "'C:\\\\Users\\\\ashis\\\\OneDrive\\\\Documents\\\\summer project\\\\summer project - 3d\\\\week2\\\\new_data\\\\image\\\\000195_10_4.png'"
      ]
     },
     "metadata": {},
     "output_type": "display_data"
    },
    {
     "data": {
      "text/plain": [
       "'C:\\\\Users\\\\ashis\\\\OneDrive\\\\Documents\\\\summer project\\\\summer project - 3d\\\\week2\\\\new_data\\\\mask\\\\000195_10_4.png'"
      ]
     },
     "metadata": {},
     "output_type": "display_data"
    },
    {
     "data": {
      "text/plain": [
       "'C:\\\\Users\\\\ashis\\\\OneDrive\\\\Documents\\\\summer project\\\\summer project - 3d\\\\week2\\\\new_data\\\\image\\\\000195_10_5.png'"
      ]
     },
     "metadata": {},
     "output_type": "display_data"
    },
    {
     "data": {
      "text/plain": [
       "'C:\\\\Users\\\\ashis\\\\OneDrive\\\\Documents\\\\summer project\\\\summer project - 3d\\\\week2\\\\new_data\\\\mask\\\\000195_10_5.png'"
      ]
     },
     "metadata": {},
     "output_type": "display_data"
    },
    {
     "name": "stderr",
     "output_type": "stream",
     "text": [
      "\r",
      " 98%|██████████████████████████████████████████████████████████████████████████████▍ | 196/200 [00:55<00:01,  3.61it/s]"
     ]
    },
    {
     "data": {
      "text/plain": [
       "'C:\\\\Users\\\\ashis\\\\OneDrive\\\\Documents\\\\summer project\\\\summer project - 3d\\\\week2\\\\new_data\\\\image\\\\000196_10_0.png'"
      ]
     },
     "metadata": {},
     "output_type": "display_data"
    },
    {
     "data": {
      "text/plain": [
       "'C:\\\\Users\\\\ashis\\\\OneDrive\\\\Documents\\\\summer project\\\\summer project - 3d\\\\week2\\\\new_data\\\\mask\\\\000196_10_0.png'"
      ]
     },
     "metadata": {},
     "output_type": "display_data"
    },
    {
     "data": {
      "text/plain": [
       "'C:\\\\Users\\\\ashis\\\\OneDrive\\\\Documents\\\\summer project\\\\summer project - 3d\\\\week2\\\\new_data\\\\image\\\\000196_10_1.png'"
      ]
     },
     "metadata": {},
     "output_type": "display_data"
    },
    {
     "data": {
      "text/plain": [
       "'C:\\\\Users\\\\ashis\\\\OneDrive\\\\Documents\\\\summer project\\\\summer project - 3d\\\\week2\\\\new_data\\\\mask\\\\000196_10_1.png'"
      ]
     },
     "metadata": {},
     "output_type": "display_data"
    },
    {
     "data": {
      "text/plain": [
       "'C:\\\\Users\\\\ashis\\\\OneDrive\\\\Documents\\\\summer project\\\\summer project - 3d\\\\week2\\\\new_data\\\\image\\\\000196_10_2.png'"
      ]
     },
     "metadata": {},
     "output_type": "display_data"
    },
    {
     "data": {
      "text/plain": [
       "'C:\\\\Users\\\\ashis\\\\OneDrive\\\\Documents\\\\summer project\\\\summer project - 3d\\\\week2\\\\new_data\\\\mask\\\\000196_10_2.png'"
      ]
     },
     "metadata": {},
     "output_type": "display_data"
    },
    {
     "data": {
      "text/plain": [
       "'C:\\\\Users\\\\ashis\\\\OneDrive\\\\Documents\\\\summer project\\\\summer project - 3d\\\\week2\\\\new_data\\\\image\\\\000196_10_3.png'"
      ]
     },
     "metadata": {},
     "output_type": "display_data"
    },
    {
     "data": {
      "text/plain": [
       "'C:\\\\Users\\\\ashis\\\\OneDrive\\\\Documents\\\\summer project\\\\summer project - 3d\\\\week2\\\\new_data\\\\mask\\\\000196_10_3.png'"
      ]
     },
     "metadata": {},
     "output_type": "display_data"
    },
    {
     "data": {
      "text/plain": [
       "'C:\\\\Users\\\\ashis\\\\OneDrive\\\\Documents\\\\summer project\\\\summer project - 3d\\\\week2\\\\new_data\\\\image\\\\000196_10_4.png'"
      ]
     },
     "metadata": {},
     "output_type": "display_data"
    },
    {
     "data": {
      "text/plain": [
       "'C:\\\\Users\\\\ashis\\\\OneDrive\\\\Documents\\\\summer project\\\\summer project - 3d\\\\week2\\\\new_data\\\\mask\\\\000196_10_4.png'"
      ]
     },
     "metadata": {},
     "output_type": "display_data"
    },
    {
     "data": {
      "text/plain": [
       "'C:\\\\Users\\\\ashis\\\\OneDrive\\\\Documents\\\\summer project\\\\summer project - 3d\\\\week2\\\\new_data\\\\image\\\\000196_10_5.png'"
      ]
     },
     "metadata": {},
     "output_type": "display_data"
    },
    {
     "data": {
      "text/plain": [
       "'C:\\\\Users\\\\ashis\\\\OneDrive\\\\Documents\\\\summer project\\\\summer project - 3d\\\\week2\\\\new_data\\\\mask\\\\000196_10_5.png'"
      ]
     },
     "metadata": {},
     "output_type": "display_data"
    },
    {
     "name": "stderr",
     "output_type": "stream",
     "text": [
      "\r",
      " 98%|██████████████████████████████████████████████████████████████████████████████▊ | 197/200 [00:55<00:00,  3.50it/s]"
     ]
    },
    {
     "data": {
      "text/plain": [
       "'C:\\\\Users\\\\ashis\\\\OneDrive\\\\Documents\\\\summer project\\\\summer project - 3d\\\\week2\\\\new_data\\\\image\\\\000197_10_0.png'"
      ]
     },
     "metadata": {},
     "output_type": "display_data"
    },
    {
     "data": {
      "text/plain": [
       "'C:\\\\Users\\\\ashis\\\\OneDrive\\\\Documents\\\\summer project\\\\summer project - 3d\\\\week2\\\\new_data\\\\mask\\\\000197_10_0.png'"
      ]
     },
     "metadata": {},
     "output_type": "display_data"
    },
    {
     "data": {
      "text/plain": [
       "'C:\\\\Users\\\\ashis\\\\OneDrive\\\\Documents\\\\summer project\\\\summer project - 3d\\\\week2\\\\new_data\\\\image\\\\000197_10_1.png'"
      ]
     },
     "metadata": {},
     "output_type": "display_data"
    },
    {
     "data": {
      "text/plain": [
       "'C:\\\\Users\\\\ashis\\\\OneDrive\\\\Documents\\\\summer project\\\\summer project - 3d\\\\week2\\\\new_data\\\\mask\\\\000197_10_1.png'"
      ]
     },
     "metadata": {},
     "output_type": "display_data"
    },
    {
     "data": {
      "text/plain": [
       "'C:\\\\Users\\\\ashis\\\\OneDrive\\\\Documents\\\\summer project\\\\summer project - 3d\\\\week2\\\\new_data\\\\image\\\\000197_10_2.png'"
      ]
     },
     "metadata": {},
     "output_type": "display_data"
    },
    {
     "data": {
      "text/plain": [
       "'C:\\\\Users\\\\ashis\\\\OneDrive\\\\Documents\\\\summer project\\\\summer project - 3d\\\\week2\\\\new_data\\\\mask\\\\000197_10_2.png'"
      ]
     },
     "metadata": {},
     "output_type": "display_data"
    },
    {
     "data": {
      "text/plain": [
       "'C:\\\\Users\\\\ashis\\\\OneDrive\\\\Documents\\\\summer project\\\\summer project - 3d\\\\week2\\\\new_data\\\\image\\\\000197_10_3.png'"
      ]
     },
     "metadata": {},
     "output_type": "display_data"
    },
    {
     "data": {
      "text/plain": [
       "'C:\\\\Users\\\\ashis\\\\OneDrive\\\\Documents\\\\summer project\\\\summer project - 3d\\\\week2\\\\new_data\\\\mask\\\\000197_10_3.png'"
      ]
     },
     "metadata": {},
     "output_type": "display_data"
    },
    {
     "data": {
      "text/plain": [
       "'C:\\\\Users\\\\ashis\\\\OneDrive\\\\Documents\\\\summer project\\\\summer project - 3d\\\\week2\\\\new_data\\\\image\\\\000197_10_4.png'"
      ]
     },
     "metadata": {},
     "output_type": "display_data"
    },
    {
     "data": {
      "text/plain": [
       "'C:\\\\Users\\\\ashis\\\\OneDrive\\\\Documents\\\\summer project\\\\summer project - 3d\\\\week2\\\\new_data\\\\mask\\\\000197_10_4.png'"
      ]
     },
     "metadata": {},
     "output_type": "display_data"
    },
    {
     "data": {
      "text/plain": [
       "'C:\\\\Users\\\\ashis\\\\OneDrive\\\\Documents\\\\summer project\\\\summer project - 3d\\\\week2\\\\new_data\\\\image\\\\000197_10_5.png'"
      ]
     },
     "metadata": {},
     "output_type": "display_data"
    },
    {
     "data": {
      "text/plain": [
       "'C:\\\\Users\\\\ashis\\\\OneDrive\\\\Documents\\\\summer project\\\\summer project - 3d\\\\week2\\\\new_data\\\\mask\\\\000197_10_5.png'"
      ]
     },
     "metadata": {},
     "output_type": "display_data"
    },
    {
     "name": "stderr",
     "output_type": "stream",
     "text": [
      "\r",
      " 99%|███████████████████████████████████████████████████████████████████████████████▏| 198/200 [00:56<00:00,  3.54it/s]"
     ]
    },
    {
     "data": {
      "text/plain": [
       "'C:\\\\Users\\\\ashis\\\\OneDrive\\\\Documents\\\\summer project\\\\summer project - 3d\\\\week2\\\\new_data\\\\image\\\\000198_10_0.png'"
      ]
     },
     "metadata": {},
     "output_type": "display_data"
    },
    {
     "data": {
      "text/plain": [
       "'C:\\\\Users\\\\ashis\\\\OneDrive\\\\Documents\\\\summer project\\\\summer project - 3d\\\\week2\\\\new_data\\\\mask\\\\000198_10_0.png'"
      ]
     },
     "metadata": {},
     "output_type": "display_data"
    },
    {
     "data": {
      "text/plain": [
       "'C:\\\\Users\\\\ashis\\\\OneDrive\\\\Documents\\\\summer project\\\\summer project - 3d\\\\week2\\\\new_data\\\\image\\\\000198_10_1.png'"
      ]
     },
     "metadata": {},
     "output_type": "display_data"
    },
    {
     "data": {
      "text/plain": [
       "'C:\\\\Users\\\\ashis\\\\OneDrive\\\\Documents\\\\summer project\\\\summer project - 3d\\\\week2\\\\new_data\\\\mask\\\\000198_10_1.png'"
      ]
     },
     "metadata": {},
     "output_type": "display_data"
    },
    {
     "data": {
      "text/plain": [
       "'C:\\\\Users\\\\ashis\\\\OneDrive\\\\Documents\\\\summer project\\\\summer project - 3d\\\\week2\\\\new_data\\\\image\\\\000198_10_2.png'"
      ]
     },
     "metadata": {},
     "output_type": "display_data"
    },
    {
     "data": {
      "text/plain": [
       "'C:\\\\Users\\\\ashis\\\\OneDrive\\\\Documents\\\\summer project\\\\summer project - 3d\\\\week2\\\\new_data\\\\mask\\\\000198_10_2.png'"
      ]
     },
     "metadata": {},
     "output_type": "display_data"
    },
    {
     "data": {
      "text/plain": [
       "'C:\\\\Users\\\\ashis\\\\OneDrive\\\\Documents\\\\summer project\\\\summer project - 3d\\\\week2\\\\new_data\\\\image\\\\000198_10_3.png'"
      ]
     },
     "metadata": {},
     "output_type": "display_data"
    },
    {
     "data": {
      "text/plain": [
       "'C:\\\\Users\\\\ashis\\\\OneDrive\\\\Documents\\\\summer project\\\\summer project - 3d\\\\week2\\\\new_data\\\\mask\\\\000198_10_3.png'"
      ]
     },
     "metadata": {},
     "output_type": "display_data"
    },
    {
     "data": {
      "text/plain": [
       "'C:\\\\Users\\\\ashis\\\\OneDrive\\\\Documents\\\\summer project\\\\summer project - 3d\\\\week2\\\\new_data\\\\image\\\\000198_10_4.png'"
      ]
     },
     "metadata": {},
     "output_type": "display_data"
    },
    {
     "data": {
      "text/plain": [
       "'C:\\\\Users\\\\ashis\\\\OneDrive\\\\Documents\\\\summer project\\\\summer project - 3d\\\\week2\\\\new_data\\\\mask\\\\000198_10_4.png'"
      ]
     },
     "metadata": {},
     "output_type": "display_data"
    },
    {
     "data": {
      "text/plain": [
       "'C:\\\\Users\\\\ashis\\\\OneDrive\\\\Documents\\\\summer project\\\\summer project - 3d\\\\week2\\\\new_data\\\\image\\\\000198_10_5.png'"
      ]
     },
     "metadata": {},
     "output_type": "display_data"
    },
    {
     "data": {
      "text/plain": [
       "'C:\\\\Users\\\\ashis\\\\OneDrive\\\\Documents\\\\summer project\\\\summer project - 3d\\\\week2\\\\new_data\\\\mask\\\\000198_10_5.png'"
      ]
     },
     "metadata": {},
     "output_type": "display_data"
    },
    {
     "name": "stderr",
     "output_type": "stream",
     "text": [
      "\r",
      "100%|███████████████████████████████████████████████████████████████████████████████▌| 199/200 [00:56<00:00,  3.62it/s]"
     ]
    },
    {
     "data": {
      "text/plain": [
       "'C:\\\\Users\\\\ashis\\\\OneDrive\\\\Documents\\\\summer project\\\\summer project - 3d\\\\week2\\\\new_data\\\\image\\\\000199_10_0.png'"
      ]
     },
     "metadata": {},
     "output_type": "display_data"
    },
    {
     "data": {
      "text/plain": [
       "'C:\\\\Users\\\\ashis\\\\OneDrive\\\\Documents\\\\summer project\\\\summer project - 3d\\\\week2\\\\new_data\\\\mask\\\\000199_10_0.png'"
      ]
     },
     "metadata": {},
     "output_type": "display_data"
    },
    {
     "data": {
      "text/plain": [
       "'C:\\\\Users\\\\ashis\\\\OneDrive\\\\Documents\\\\summer project\\\\summer project - 3d\\\\week2\\\\new_data\\\\image\\\\000199_10_1.png'"
      ]
     },
     "metadata": {},
     "output_type": "display_data"
    },
    {
     "data": {
      "text/plain": [
       "'C:\\\\Users\\\\ashis\\\\OneDrive\\\\Documents\\\\summer project\\\\summer project - 3d\\\\week2\\\\new_data\\\\mask\\\\000199_10_1.png'"
      ]
     },
     "metadata": {},
     "output_type": "display_data"
    },
    {
     "data": {
      "text/plain": [
       "'C:\\\\Users\\\\ashis\\\\OneDrive\\\\Documents\\\\summer project\\\\summer project - 3d\\\\week2\\\\new_data\\\\image\\\\000199_10_2.png'"
      ]
     },
     "metadata": {},
     "output_type": "display_data"
    },
    {
     "data": {
      "text/plain": [
       "'C:\\\\Users\\\\ashis\\\\OneDrive\\\\Documents\\\\summer project\\\\summer project - 3d\\\\week2\\\\new_data\\\\mask\\\\000199_10_2.png'"
      ]
     },
     "metadata": {},
     "output_type": "display_data"
    },
    {
     "data": {
      "text/plain": [
       "'C:\\\\Users\\\\ashis\\\\OneDrive\\\\Documents\\\\summer project\\\\summer project - 3d\\\\week2\\\\new_data\\\\image\\\\000199_10_3.png'"
      ]
     },
     "metadata": {},
     "output_type": "display_data"
    },
    {
     "data": {
      "text/plain": [
       "'C:\\\\Users\\\\ashis\\\\OneDrive\\\\Documents\\\\summer project\\\\summer project - 3d\\\\week2\\\\new_data\\\\mask\\\\000199_10_3.png'"
      ]
     },
     "metadata": {},
     "output_type": "display_data"
    },
    {
     "data": {
      "text/plain": [
       "'C:\\\\Users\\\\ashis\\\\OneDrive\\\\Documents\\\\summer project\\\\summer project - 3d\\\\week2\\\\new_data\\\\image\\\\000199_10_4.png'"
      ]
     },
     "metadata": {},
     "output_type": "display_data"
    },
    {
     "data": {
      "text/plain": [
       "'C:\\\\Users\\\\ashis\\\\OneDrive\\\\Documents\\\\summer project\\\\summer project - 3d\\\\week2\\\\new_data\\\\mask\\\\000199_10_4.png'"
      ]
     },
     "metadata": {},
     "output_type": "display_data"
    },
    {
     "data": {
      "text/plain": [
       "'C:\\\\Users\\\\ashis\\\\OneDrive\\\\Documents\\\\summer project\\\\summer project - 3d\\\\week2\\\\new_data\\\\image\\\\000199_10_5.png'"
      ]
     },
     "metadata": {},
     "output_type": "display_data"
    },
    {
     "data": {
      "text/plain": [
       "'C:\\\\Users\\\\ashis\\\\OneDrive\\\\Documents\\\\summer project\\\\summer project - 3d\\\\week2\\\\new_data\\\\mask\\\\000199_10_5.png'"
      ]
     },
     "metadata": {},
     "output_type": "display_data"
    },
    {
     "name": "stderr",
     "output_type": "stream",
     "text": [
      "100%|████████████████████████████████████████████████████████████████████████████████| 200/200 [00:56<00:00,  3.52it/s]\n"
     ]
    }
   ],
   "source": [
    "np.random.seed(42)\n",
    "\n",
    "data_path ='C:\\\\Users\\\\ashis\\\\OneDrive\\\\Documents\\\\summer project\\\\summer project - 3d\\\\week2'\n",
    "(train_x,train_y) = load_data(data_path)\n",
    "\n",
    "create_dir(\"new_data/image\")\n",
    "create_dir(\"new_data/mask\")\n",
    "\n",
    "save_path= os.path.join(data_path,\"new_data\")\n",
    "\n",
    "augment_data(train_x, train_y, save_path,augment=True)"
   ]
  },
  {
   "cell_type": "code",
   "execution_count": 4,
   "id": "ccaea1ac",
   "metadata": {},
   "outputs": [
    {
     "data": {
      "text/plain": [
       "'C:\\\\Users\\\\ashis\\\\OneDrive\\\\Documents\\\\summer project\\\\summer project - 3d\\\\week2'"
      ]
     },
     "execution_count": 4,
     "metadata": {},
     "output_type": "execute_result"
    }
   ],
   "source": [
    "os.getcwd()"
   ]
  },
  {
   "cell_type": "code",
   "execution_count": null,
   "id": "04b07a7f",
   "metadata": {},
   "outputs": [],
   "source": []
  }
 ],
 "metadata": {
  "kernelspec": {
   "display_name": "Python 3",
   "language": "python",
   "name": "python3"
  },
  "language_info": {
   "codemirror_mode": {
    "name": "ipython",
    "version": 3
   },
   "file_extension": ".py",
   "mimetype": "text/x-python",
   "name": "python",
   "nbconvert_exporter": "python",
   "pygments_lexer": "ipython3",
   "version": "3.8.3"
  }
 },
 "nbformat": 4,
 "nbformat_minor": 5
}
